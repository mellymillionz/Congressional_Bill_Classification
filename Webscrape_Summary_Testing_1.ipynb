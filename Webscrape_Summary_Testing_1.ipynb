{
 "cells": [
  {
   "cell_type": "code",
   "execution_count": 1,
   "metadata": {},
   "outputs": [],
   "source": [
    "import numpy as np\n",
    "import pandas as pd\n",
    "import config_final\n",
    "import requests\n",
    "from bs4 import BeautifulSoup as BS\n"
   ]
  },
  {
   "cell_type": "code",
   "execution_count": 2,
   "metadata": {},
   "outputs": [
    {
     "data": {
      "text/plain": [
       "'munzma'"
      ]
     },
     "execution_count": 2,
     "metadata": {},
     "output_type": "execute_result"
    }
   ],
   "source": [
    "config_final.user"
   ]
  },
  {
   "cell_type": "markdown",
   "metadata": {},
   "source": [
    "# Webscrape URL List for Bill Summaries"
   ]
  },
  {
   "cell_type": "code",
   "execution_count": 3,
   "metadata": {
    "scrolled": true
   },
   "outputs": [
    {
     "name": "stdout",
     "output_type": "stream",
     "text": [
      "(294336, 48)\n"
     ]
    }
   ],
   "source": [
    "df = pd.read_csv('bills93-114.csv', sep=\";\", encoding='latin-1')\n",
    "df.dropna(axis=0, subset = ['Cosponsr', 'URL'], inplace=True)\n",
    "urls = df[['BillID','URL']]\n",
    "# df = df.set_index('BillID')\n",
    "\n",
    "print(df.shape)"
   ]
  },
  {
   "cell_type": "code",
   "execution_count": 4,
   "metadata": {},
   "outputs": [
    {
     "name": "stderr",
     "output_type": "stream",
     "text": [
      "/Users/melissamunz/anaconda3/lib/python3.7/site-packages/ipykernel_launcher.py:1: SettingWithCopyWarning: \n",
      "A value is trying to be set on a copy of a slice from a DataFrame.\n",
      "Try using .loc[row_indexer,col_indexer] = value instead\n",
      "\n",
      "See the caveats in the documentation: http://pandas.pydata.org/pandas-docs/stable/indexing.html#indexing-view-versus-copy\n",
      "  \"\"\"Entry point for launching an IPython kernel.\n"
     ]
    }
   ],
   "source": [
    "urls['URL'] = urls['URL'].astype('str') "
   ]
  },
  {
   "cell_type": "code",
   "execution_count": 5,
   "metadata": {},
   "outputs": [
    {
     "data": {
      "text/html": [
       "<div>\n",
       "<style scoped>\n",
       "    .dataframe tbody tr th:only-of-type {\n",
       "        vertical-align: middle;\n",
       "    }\n",
       "\n",
       "    .dataframe tbody tr th {\n",
       "        vertical-align: top;\n",
       "    }\n",
       "\n",
       "    .dataframe thead th {\n",
       "        text-align: right;\n",
       "    }\n",
       "</style>\n",
       "<table border=\"1\" class=\"dataframe\">\n",
       "  <thead>\n",
       "    <tr style=\"text-align: right;\">\n",
       "      <th></th>\n",
       "      <th>BillID</th>\n",
       "      <th>BillNum</th>\n",
       "      <th>BillType</th>\n",
       "      <th>Chamber</th>\n",
       "      <th>Cong</th>\n",
       "      <th>Cosponsr</th>\n",
       "      <th>IntrDate</th>\n",
       "      <th>Mult</th>\n",
       "      <th>MultNo</th>\n",
       "      <th>PLaw</th>\n",
       "      <th>...</th>\n",
       "      <th>PLawDate</th>\n",
       "      <th>PLawNum</th>\n",
       "      <th>ImpBill</th>\n",
       "      <th>SubChRef</th>\n",
       "      <th>SubRankRef</th>\n",
       "      <th>Majority</th>\n",
       "      <th>ReportH</th>\n",
       "      <th>ReportS</th>\n",
       "      <th>Major</th>\n",
       "      <th>Minor</th>\n",
       "    </tr>\n",
       "  </thead>\n",
       "  <tbody>\n",
       "    <tr>\n",
       "      <th>0</th>\n",
       "      <td>93-HCONRES-1</td>\n",
       "      <td>1</td>\n",
       "      <td>hconres</td>\n",
       "      <td>0</td>\n",
       "      <td>93</td>\n",
       "      <td>0.0</td>\n",
       "      <td>1973-01-03</td>\n",
       "      <td>0.0</td>\n",
       "      <td>1.0</td>\n",
       "      <td>0</td>\n",
       "      <td>...</td>\n",
       "      <td>NaN</td>\n",
       "      <td>NaN</td>\n",
       "      <td>0.0</td>\n",
       "      <td>NaN</td>\n",
       "      <td>NaN</td>\n",
       "      <td>1</td>\n",
       "      <td>0</td>\n",
       "      <td>0</td>\n",
       "      <td>NaN</td>\n",
       "      <td>NaN</td>\n",
       "    </tr>\n",
       "    <tr>\n",
       "      <th>1</th>\n",
       "      <td>93-HCONRES-2</td>\n",
       "      <td>2</td>\n",
       "      <td>hconres</td>\n",
       "      <td>0</td>\n",
       "      <td>93</td>\n",
       "      <td>0.0</td>\n",
       "      <td>1973-01-03</td>\n",
       "      <td>0.0</td>\n",
       "      <td>1.0</td>\n",
       "      <td>0</td>\n",
       "      <td>...</td>\n",
       "      <td>NaN</td>\n",
       "      <td>NaN</td>\n",
       "      <td>0.0</td>\n",
       "      <td>NaN</td>\n",
       "      <td>NaN</td>\n",
       "      <td>1</td>\n",
       "      <td>0</td>\n",
       "      <td>0</td>\n",
       "      <td>NaN</td>\n",
       "      <td>NaN</td>\n",
       "    </tr>\n",
       "    <tr>\n",
       "      <th>2</th>\n",
       "      <td>93-HCONRES-3</td>\n",
       "      <td>3</td>\n",
       "      <td>hconres</td>\n",
       "      <td>0</td>\n",
       "      <td>93</td>\n",
       "      <td>0.0</td>\n",
       "      <td>1973-01-03</td>\n",
       "      <td>0.0</td>\n",
       "      <td>1.0</td>\n",
       "      <td>0</td>\n",
       "      <td>...</td>\n",
       "      <td>NaN</td>\n",
       "      <td>NaN</td>\n",
       "      <td>0.0</td>\n",
       "      <td>NaN</td>\n",
       "      <td>NaN</td>\n",
       "      <td>1</td>\n",
       "      <td>0</td>\n",
       "      <td>0</td>\n",
       "      <td>NaN</td>\n",
       "      <td>NaN</td>\n",
       "    </tr>\n",
       "    <tr>\n",
       "      <th>3</th>\n",
       "      <td>93-HCONRES-4</td>\n",
       "      <td>4</td>\n",
       "      <td>hconres</td>\n",
       "      <td>0</td>\n",
       "      <td>93</td>\n",
       "      <td>0.0</td>\n",
       "      <td>1973-01-03</td>\n",
       "      <td>0.0</td>\n",
       "      <td>1.0</td>\n",
       "      <td>0</td>\n",
       "      <td>...</td>\n",
       "      <td>NaN</td>\n",
       "      <td>NaN</td>\n",
       "      <td>0.0</td>\n",
       "      <td>NaN</td>\n",
       "      <td>NaN</td>\n",
       "      <td>0</td>\n",
       "      <td>0</td>\n",
       "      <td>0</td>\n",
       "      <td>NaN</td>\n",
       "      <td>NaN</td>\n",
       "    </tr>\n",
       "    <tr>\n",
       "      <th>4</th>\n",
       "      <td>93-HCONRES-5</td>\n",
       "      <td>5</td>\n",
       "      <td>hconres</td>\n",
       "      <td>0</td>\n",
       "      <td>93</td>\n",
       "      <td>0.0</td>\n",
       "      <td>1973-01-03</td>\n",
       "      <td>0.0</td>\n",
       "      <td>1.0</td>\n",
       "      <td>0</td>\n",
       "      <td>...</td>\n",
       "      <td>NaN</td>\n",
       "      <td>NaN</td>\n",
       "      <td>0.0</td>\n",
       "      <td>NaN</td>\n",
       "      <td>NaN</td>\n",
       "      <td>0</td>\n",
       "      <td>0</td>\n",
       "      <td>0</td>\n",
       "      <td>NaN</td>\n",
       "      <td>NaN</td>\n",
       "    </tr>\n",
       "  </tbody>\n",
       "</table>\n",
       "<p>5 rows × 48 columns</p>\n",
       "</div>"
      ],
      "text/plain": [
       "         BillID  BillNum BillType  Chamber  Cong  Cosponsr    IntrDate  Mult  \\\n",
       "0  93-HCONRES-1        1  hconres        0    93       0.0  1973-01-03   0.0   \n",
       "1  93-HCONRES-2        2  hconres        0    93       0.0  1973-01-03   0.0   \n",
       "2  93-HCONRES-3        3  hconres        0    93       0.0  1973-01-03   0.0   \n",
       "3  93-HCONRES-4        4  hconres        0    93       0.0  1973-01-03   0.0   \n",
       "4  93-HCONRES-5        5  hconres        0    93       0.0  1973-01-03   0.0   \n",
       "\n",
       "   MultNo  PLaw  ...  PLawDate PLawNum  ImpBill  SubChRef  SubRankRef  \\\n",
       "0     1.0     0  ...       NaN     NaN      0.0       NaN         NaN   \n",
       "1     1.0     0  ...       NaN     NaN      0.0       NaN         NaN   \n",
       "2     1.0     0  ...       NaN     NaN      0.0       NaN         NaN   \n",
       "3     1.0     0  ...       NaN     NaN      0.0       NaN         NaN   \n",
       "4     1.0     0  ...       NaN     NaN      0.0       NaN         NaN   \n",
       "\n",
       "   Majority  ReportH  ReportS  Major  Minor  \n",
       "0         1        0        0    NaN    NaN  \n",
       "1         1        0        0    NaN    NaN  \n",
       "2         1        0        0    NaN    NaN  \n",
       "3         0        0        0    NaN    NaN  \n",
       "4         0        0        0    NaN    NaN  \n",
       "\n",
       "[5 rows x 48 columns]"
      ]
     },
     "execution_count": 5,
     "metadata": {},
     "output_type": "execute_result"
    }
   ],
   "source": [
    "df.head()"
   ]
  },
  {
   "cell_type": "markdown",
   "metadata": {},
   "source": [
    "## Create Scraper"
   ]
  },
  {
   "cell_type": "code",
   "execution_count": 6,
   "metadata": {},
   "outputs": [],
   "source": [
    "from bs4 import NavigableString\n",
    "\n",
    "def scraper(url):\n",
    "       \n",
    "    response = requests.get(url)\n",
    "    soup = BS(response.content, \"html.parser\")\n",
    "    soup.prettify() \n",
    "    \n",
    "    bill_summary = soup.find('div', id=\"bill-summary\")\n",
    "    paragraphs = bill_summary.find_all('p')\n",
    "    \n",
    "    if len(paragraphs) > 1:\n",
    "        return paragraphs[1].get_text(strip=True)\n",
    "    else:\n",
    "        node = soup.find('div', id=\"bill-summary\").contents[-1]\n",
    "#         print(type(node))\n",
    "        if type(node) == NavigableString:\n",
    "            return node.strip()\n",
    "        else:\n",
    "            print(url) \n",
    "            return ''\n",
    "\n",
    "                 \n",
    "    "
   ]
  },
  {
   "cell_type": "code",
   "execution_count": 7,
   "metadata": {},
   "outputs": [],
   "source": [
    "#Get the summary into dataframe!\n",
    "\n",
    "# df['Summary'] = df.apply (lambda row: scraper(row['URL']), axis=1)"
   ]
  },
  {
   "cell_type": "code",
   "execution_count": 8,
   "metadata": {},
   "outputs": [
    {
     "data": {
      "text/html": [
       "<div>\n",
       "<style scoped>\n",
       "    .dataframe tbody tr th:only-of-type {\n",
       "        vertical-align: middle;\n",
       "    }\n",
       "\n",
       "    .dataframe tbody tr th {\n",
       "        vertical-align: top;\n",
       "    }\n",
       "\n",
       "    .dataframe thead th {\n",
       "        text-align: right;\n",
       "    }\n",
       "</style>\n",
       "<table border=\"1\" class=\"dataframe\">\n",
       "  <thead>\n",
       "    <tr style=\"text-align: right;\">\n",
       "      <th></th>\n",
       "      <th>BillID</th>\n",
       "      <th>URL</th>\n",
       "    </tr>\n",
       "  </thead>\n",
       "  <tbody>\n",
       "    <tr>\n",
       "      <th>0</th>\n",
       "      <td>93-HCONRES-1</td>\n",
       "      <td>https://www.congress.gov/bill/93th-congress/ho...</td>\n",
       "    </tr>\n",
       "    <tr>\n",
       "      <th>1</th>\n",
       "      <td>93-HCONRES-2</td>\n",
       "      <td>https://www.congress.gov/bill/93th-congress/ho...</td>\n",
       "    </tr>\n",
       "    <tr>\n",
       "      <th>2</th>\n",
       "      <td>93-HCONRES-3</td>\n",
       "      <td>https://www.congress.gov/bill/93th-congress/ho...</td>\n",
       "    </tr>\n",
       "    <tr>\n",
       "      <th>3</th>\n",
       "      <td>93-HCONRES-4</td>\n",
       "      <td>https://www.congress.gov/bill/93th-congress/ho...</td>\n",
       "    </tr>\n",
       "    <tr>\n",
       "      <th>4</th>\n",
       "      <td>93-HCONRES-5</td>\n",
       "      <td>https://www.congress.gov/bill/93th-congress/ho...</td>\n",
       "    </tr>\n",
       "  </tbody>\n",
       "</table>\n",
       "</div>"
      ],
      "text/plain": [
       "         BillID                                                URL\n",
       "0  93-HCONRES-1  https://www.congress.gov/bill/93th-congress/ho...\n",
       "1  93-HCONRES-2  https://www.congress.gov/bill/93th-congress/ho...\n",
       "2  93-HCONRES-3  https://www.congress.gov/bill/93th-congress/ho...\n",
       "3  93-HCONRES-4  https://www.congress.gov/bill/93th-congress/ho...\n",
       "4  93-HCONRES-5  https://www.congress.gov/bill/93th-congress/ho..."
      ]
     },
     "execution_count": 8,
     "metadata": {},
     "output_type": "execute_result"
    }
   ],
   "source": [
    "urls.head()"
   ]
  },
  {
   "cell_type": "code",
   "execution_count": 9,
   "metadata": {},
   "outputs": [],
   "source": [
    "#Test - Convert to dictionary format\n",
    "final_summaries = df.to_dict(orient = 'records')"
   ]
  },
  {
   "cell_type": "markdown",
   "metadata": {},
   "source": [
    "## Enter into Database"
   ]
  },
  {
   "cell_type": "code",
   "execution_count": 10,
   "metadata": {},
   "outputs": [],
   "source": [
    "from sodapy import Socrata\n",
    "import sqlalchemy as db"
   ]
  },
  {
   "cell_type": "code",
   "execution_count": 11,
   "metadata": {},
   "outputs": [],
   "source": [
    "def query(q):\n",
    "    try:\n",
    "        return pd.read_sql_query(q, engine)\n",
    "    # Pass when no data is returned    \n",
    "    except ResourceClosedError:\n",
    "        pass\n",
    "\n",
    "def query_list(col, table, distinct = True):\n",
    "    elts = ['SELECT',\n",
    "            'DISTINCT' if distinct else '',\n",
    "            col,\n",
    "            'FROM',\n",
    "            table]\n",
    "    query_str = ' '.join(elts)\n",
    "    df = query(query_str)\n",
    "    l = df.iloc[:,0].tolist()\n",
    "    return l"
   ]
  },
  {
   "cell_type": "markdown",
   "metadata": {},
   "source": [
    "**Create**\n"
   ]
  },
  {
   "cell_type": "code",
   "execution_count": 12,
   "metadata": {},
   "outputs": [
    {
     "data": {
      "text/plain": [
       "(294336, 48)"
      ]
     },
     "execution_count": 12,
     "metadata": {},
     "output_type": "execute_result"
    }
   ],
   "source": [
    "df.shape"
   ]
  },
  {
   "cell_type": "markdown",
   "metadata": {},
   "source": [
    "**Cleaning**"
   ]
  },
  {
   "cell_type": "code",
   "execution_count": 13,
   "metadata": {},
   "outputs": [],
   "source": [
    "df['Class'].fillna(0, inplace=True)\n",
    "\n",
    "df['PooleID'].fillna(0, inplace=True)\n",
    "\n",
    "df['PLawDate'].fillna(0, inplace=True)\n",
    "\n",
    "df['PLawNum'].fillna(0, inplace=True)\n",
    "\n",
    "df['Major'].fillna(0, inplace=True)\n",
    "\n",
    "df['Minor'].fillna(0, inplace=True)"
   ]
  },
  {
   "cell_type": "code",
   "execution_count": 14,
   "metadata": {},
   "outputs": [
    {
     "data": {
      "text/plain": [
       "BillID            0\n",
       "BillNum           0\n",
       "BillType          0\n",
       "Chamber           0\n",
       "Cong              0\n",
       "Cosponsr          0\n",
       "IntrDate          0\n",
       "Mult              0\n",
       "MultNo            0\n",
       "PLaw              0\n",
       "Private           0\n",
       "Title             0\n",
       "Veto              0\n",
       "Class             0\n",
       "ComC              0\n",
       "ComR              0\n",
       "CumHServ          0\n",
       "CumSServ          0\n",
       "Delegate          0\n",
       "District          0\n",
       "DW1             215\n",
       "FrstConH          0\n",
       "FrstConS          0\n",
       "Gender            0\n",
       "MemberID          0\n",
       "MRef              0\n",
       "NameFirst         0\n",
       "NameFull          0\n",
       "NameLast          0\n",
       "Party             0\n",
       "PooleID           0\n",
       "Postal            0\n",
       "State             0\n",
       "URL               0\n",
       "ChRef             0\n",
       "RankRef           0\n",
       "PassH             0\n",
       "PassS             0\n",
       "PLawDate          0\n",
       "PLawNum           0\n",
       "ImpBill           0\n",
       "SubChRef      53327\n",
       "SubRankRef    53327\n",
       "Majority          0\n",
       "ReportH           0\n",
       "ReportS           0\n",
       "Major             0\n",
       "Minor             0\n",
       "dtype: int64"
      ]
     },
     "execution_count": 14,
     "metadata": {},
     "output_type": "execute_result"
    }
   ],
   "source": [
    "df.isnull().sum()"
   ]
  },
  {
   "cell_type": "markdown",
   "metadata": {},
   "source": [
    "**Create**"
   ]
  },
  {
   "cell_type": "code",
   "execution_count": 15,
   "metadata": {},
   "outputs": [],
   "source": [
    "#instantiate the connection and table\n",
    "\n",
    "engine = db.create_engine(f'mysql+mysqlconnector://{config_final.user}:{config_final.password}@{config_final.host}/con_bills')\n",
    "\n",
    "connection = engine.connect()\n",
    "metadata=db.MetaData()"
   ]
  },
  {
   "cell_type": "code",
   "execution_count": 16,
   "metadata": {},
   "outputs": [],
   "source": [
    "#Create Table \n",
    "bills_table = db.Table('bills', metadata,               \n",
    "    db.Column('BillID', db.String(40), primary_key=True),\n",
    "    db.Column('BillType', db.String(20)),\n",
    "    db.Column('Chamber', db.Boolean()),\n",
    "    db.Column('Cong', db.Integer()),\n",
    "    db.Column('Cosponsr', db.Float()),\n",
    "    db.Column('IntrDate', db.DateTime()),\n",
    "    db.Column('Mult', db.Boolean()),\n",
    "    db.Column('PLaw', db.Boolean()),\n",
    "    db.Column('Title', db.String(500)),\n",
    "    db.Column('Veto', db.Boolean()),\n",
    "    db.Column('Class', db.Float()),\n",
    "    db.Column('District', db.Float()),\n",
    "    db.Column('FrstConH', db.Float()),\n",
    "    db.Column('FrstConS', db.Float()),\n",
    "    db.Column('Gender', db.Boolean()),\n",
    "    db.Column('MRef', db.Boolean()),\n",
    "    db.Column('NameFull', db.String(40)),\n",
    "    db.Column('Party', db.Float()),\n",
    "    db.Column('Postal', db.String(10)),\n",
    "    db.Column('PassH', db.Boolean()),\n",
    "    db.Column('PassS', db.Boolean()),\n",
    "    db.Column('PLawDate', db.DateTime()),\n",
    "    db.Column('PLawNum', db.String(40)),\n",
    "    db.Column('ImpBill', db.Boolean()),\n",
    "    db.Column('Majority', db.Boolean()),\n",
    "    db.Column('Major', db.Float()),\n",
    "    db.Column('Minor', db.Float()),\n",
    "    db.Column('Summary', db.String(2000))\n",
    "                         \n",
    ")"
   ]
  },
  {
   "cell_type": "code",
   "execution_count": 17,
   "metadata": {},
   "outputs": [],
   "source": [
    "metadata.create_all(engine)"
   ]
  },
  {
   "cell_type": "code",
   "execution_count": 18,
   "metadata": {},
   "outputs": [
    {
     "data": {
      "text/html": [
       "<div>\n",
       "<style scoped>\n",
       "    .dataframe tbody tr th:only-of-type {\n",
       "        vertical-align: middle;\n",
       "    }\n",
       "\n",
       "    .dataframe tbody tr th {\n",
       "        vertical-align: top;\n",
       "    }\n",
       "\n",
       "    .dataframe thead th {\n",
       "        text-align: right;\n",
       "    }\n",
       "</style>\n",
       "<table border=\"1\" class=\"dataframe\">\n",
       "  <thead>\n",
       "    <tr style=\"text-align: right;\">\n",
       "      <th></th>\n",
       "      <th>BillID</th>\n",
       "      <th>BillNum</th>\n",
       "      <th>BillType</th>\n",
       "      <th>Chamber</th>\n",
       "      <th>Cong</th>\n",
       "      <th>Cosponsr</th>\n",
       "      <th>IntrDate</th>\n",
       "      <th>Mult</th>\n",
       "      <th>MultNo</th>\n",
       "      <th>PLaw</th>\n",
       "      <th>...</th>\n",
       "      <th>PLawDate</th>\n",
       "      <th>PLawNum</th>\n",
       "      <th>ImpBill</th>\n",
       "      <th>SubChRef</th>\n",
       "      <th>SubRankRef</th>\n",
       "      <th>Majority</th>\n",
       "      <th>ReportH</th>\n",
       "      <th>ReportS</th>\n",
       "      <th>Major</th>\n",
       "      <th>Minor</th>\n",
       "    </tr>\n",
       "  </thead>\n",
       "  <tbody>\n",
       "    <tr>\n",
       "      <th>0</th>\n",
       "      <td>93-HCONRES-1</td>\n",
       "      <td>1</td>\n",
       "      <td>hconres</td>\n",
       "      <td>0</td>\n",
       "      <td>93</td>\n",
       "      <td>0.0</td>\n",
       "      <td>1973-01-03</td>\n",
       "      <td>0.0</td>\n",
       "      <td>1.0</td>\n",
       "      <td>0</td>\n",
       "      <td>...</td>\n",
       "      <td>0</td>\n",
       "      <td>0</td>\n",
       "      <td>0.0</td>\n",
       "      <td>NaN</td>\n",
       "      <td>NaN</td>\n",
       "      <td>1</td>\n",
       "      <td>0</td>\n",
       "      <td>0</td>\n",
       "      <td>0.0</td>\n",
       "      <td>0.0</td>\n",
       "    </tr>\n",
       "    <tr>\n",
       "      <th>1</th>\n",
       "      <td>93-HCONRES-2</td>\n",
       "      <td>2</td>\n",
       "      <td>hconres</td>\n",
       "      <td>0</td>\n",
       "      <td>93</td>\n",
       "      <td>0.0</td>\n",
       "      <td>1973-01-03</td>\n",
       "      <td>0.0</td>\n",
       "      <td>1.0</td>\n",
       "      <td>0</td>\n",
       "      <td>...</td>\n",
       "      <td>0</td>\n",
       "      <td>0</td>\n",
       "      <td>0.0</td>\n",
       "      <td>NaN</td>\n",
       "      <td>NaN</td>\n",
       "      <td>1</td>\n",
       "      <td>0</td>\n",
       "      <td>0</td>\n",
       "      <td>0.0</td>\n",
       "      <td>0.0</td>\n",
       "    </tr>\n",
       "    <tr>\n",
       "      <th>2</th>\n",
       "      <td>93-HCONRES-3</td>\n",
       "      <td>3</td>\n",
       "      <td>hconres</td>\n",
       "      <td>0</td>\n",
       "      <td>93</td>\n",
       "      <td>0.0</td>\n",
       "      <td>1973-01-03</td>\n",
       "      <td>0.0</td>\n",
       "      <td>1.0</td>\n",
       "      <td>0</td>\n",
       "      <td>...</td>\n",
       "      <td>0</td>\n",
       "      <td>0</td>\n",
       "      <td>0.0</td>\n",
       "      <td>NaN</td>\n",
       "      <td>NaN</td>\n",
       "      <td>1</td>\n",
       "      <td>0</td>\n",
       "      <td>0</td>\n",
       "      <td>0.0</td>\n",
       "      <td>0.0</td>\n",
       "    </tr>\n",
       "    <tr>\n",
       "      <th>3</th>\n",
       "      <td>93-HCONRES-4</td>\n",
       "      <td>4</td>\n",
       "      <td>hconres</td>\n",
       "      <td>0</td>\n",
       "      <td>93</td>\n",
       "      <td>0.0</td>\n",
       "      <td>1973-01-03</td>\n",
       "      <td>0.0</td>\n",
       "      <td>1.0</td>\n",
       "      <td>0</td>\n",
       "      <td>...</td>\n",
       "      <td>0</td>\n",
       "      <td>0</td>\n",
       "      <td>0.0</td>\n",
       "      <td>NaN</td>\n",
       "      <td>NaN</td>\n",
       "      <td>0</td>\n",
       "      <td>0</td>\n",
       "      <td>0</td>\n",
       "      <td>0.0</td>\n",
       "      <td>0.0</td>\n",
       "    </tr>\n",
       "    <tr>\n",
       "      <th>4</th>\n",
       "      <td>93-HCONRES-5</td>\n",
       "      <td>5</td>\n",
       "      <td>hconres</td>\n",
       "      <td>0</td>\n",
       "      <td>93</td>\n",
       "      <td>0.0</td>\n",
       "      <td>1973-01-03</td>\n",
       "      <td>0.0</td>\n",
       "      <td>1.0</td>\n",
       "      <td>0</td>\n",
       "      <td>...</td>\n",
       "      <td>0</td>\n",
       "      <td>0</td>\n",
       "      <td>0.0</td>\n",
       "      <td>NaN</td>\n",
       "      <td>NaN</td>\n",
       "      <td>0</td>\n",
       "      <td>0</td>\n",
       "      <td>0</td>\n",
       "      <td>0.0</td>\n",
       "      <td>0.0</td>\n",
       "    </tr>\n",
       "  </tbody>\n",
       "</table>\n",
       "<p>5 rows × 48 columns</p>\n",
       "</div>"
      ],
      "text/plain": [
       "         BillID  BillNum BillType  Chamber  Cong  Cosponsr    IntrDate  Mult  \\\n",
       "0  93-HCONRES-1        1  hconres        0    93       0.0  1973-01-03   0.0   \n",
       "1  93-HCONRES-2        2  hconres        0    93       0.0  1973-01-03   0.0   \n",
       "2  93-HCONRES-3        3  hconres        0    93       0.0  1973-01-03   0.0   \n",
       "3  93-HCONRES-4        4  hconres        0    93       0.0  1973-01-03   0.0   \n",
       "4  93-HCONRES-5        5  hconres        0    93       0.0  1973-01-03   0.0   \n",
       "\n",
       "   MultNo  PLaw  ...  PLawDate PLawNum  ImpBill  SubChRef  SubRankRef  \\\n",
       "0     1.0     0  ...         0       0      0.0       NaN         NaN   \n",
       "1     1.0     0  ...         0       0      0.0       NaN         NaN   \n",
       "2     1.0     0  ...         0       0      0.0       NaN         NaN   \n",
       "3     1.0     0  ...         0       0      0.0       NaN         NaN   \n",
       "4     1.0     0  ...         0       0      0.0       NaN         NaN   \n",
       "\n",
       "   Majority  ReportH  ReportS  Major  Minor  \n",
       "0         1        0        0    0.0    0.0  \n",
       "1         1        0        0    0.0    0.0  \n",
       "2         1        0        0    0.0    0.0  \n",
       "3         0        0        0    0.0    0.0  \n",
       "4         0        0        0    0.0    0.0  \n",
       "\n",
       "[5 rows x 48 columns]"
      ]
     },
     "execution_count": 18,
     "metadata": {},
     "output_type": "execute_result"
    }
   ],
   "source": [
    "df.head()"
   ]
  },
  {
   "cell_type": "code",
   "execution_count": 39,
   "metadata": {},
   "outputs": [],
   "source": [
    "#Test - Convert to dictionary format\n",
    "final = df.to_dict(orient = 'records')"
   ]
  },
  {
   "cell_type": "code",
   "execution_count": 40,
   "metadata": {},
   "outputs": [
    {
     "data": {
      "text/plain": [
       "<list_reverseiterator at 0x11cb2f780>"
      ]
     },
     "execution_count": 40,
     "metadata": {},
     "output_type": "execute_result"
    }
   ],
   "source": [
    "reversed(final)\n"
   ]
  },
  {
   "cell_type": "code",
   "execution_count": null,
   "metadata": {},
   "outputs": [],
   "source": [
    "# for bill in final:\n",
    "#     bill['Summary'] = scraper(bill['URL'])\n",
    "#     query = db.insert(bills_table)\n",
    "#     connection.execute(query, bill)"
   ]
  },
  {
   "cell_type": "code",
   "execution_count": null,
   "metadata": {},
   "outputs": [],
   "source": [
    "final[3]"
   ]
  },
  {
   "cell_type": "code",
   "execution_count": null,
   "metadata": {},
   "outputs": [],
   "source": [
    "# query = db.insert(bills)"
   ]
  },
  {
   "cell_type": "code",
   "execution_count": null,
   "metadata": {},
   "outputs": [],
   "source": [
    "# connection.execute(query, final)"
   ]
  },
  {
   "cell_type": "code",
   "execution_count": null,
   "metadata": {},
   "outputs": [],
   "source": [
    "# Stopped at 17778\n",
    "\n",
    "#use reversed(final) to start from the other side."
   ]
  }
 ],
 "metadata": {
  "kernelspec": {
   "display_name": "Python 3",
   "language": "python",
   "name": "python3"
  },
  "language_info": {
   "codemirror_mode": {
    "name": "ipython",
    "version": 3
   },
   "file_extension": ".py",
   "mimetype": "text/x-python",
   "name": "python",
   "nbconvert_exporter": "python",
   "pygments_lexer": "ipython3",
   "version": "3.7.3"
  }
 },
 "nbformat": 4,
 "nbformat_minor": 2
}
