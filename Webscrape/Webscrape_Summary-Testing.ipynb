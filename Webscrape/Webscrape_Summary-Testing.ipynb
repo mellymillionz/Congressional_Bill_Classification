{
 "cells": [
  {
   "cell_type": "code",
   "execution_count": 16,
   "metadata": {},
   "outputs": [],
   "source": [
    "import numpy as np\n",
    "import pandas as pd\n",
    "import config_final\n",
    "import requests\n",
    "from bs4 import BeautifulSoup as BS\n"
   ]
  },
  {
   "cell_type": "code",
   "execution_count": 17,
   "metadata": {},
   "outputs": [
    {
     "data": {
      "text/plain": [
       "'munzma'"
      ]
     },
     "execution_count": 17,
     "metadata": {},
     "output_type": "execute_result"
    }
   ],
   "source": [
    "config_final.user"
   ]
  },
  {
   "cell_type": "markdown",
   "metadata": {},
   "source": [
    "# Webscrape URL List for Bill Summaries"
   ]
  },
  {
   "cell_type": "code",
   "execution_count": 18,
   "metadata": {
    "scrolled": true
   },
   "outputs": [
    {
     "data": {
      "text/html": [
       "<div>\n",
       "<style scoped>\n",
       "    .dataframe tbody tr th:only-of-type {\n",
       "        vertical-align: middle;\n",
       "    }\n",
       "\n",
       "    .dataframe tbody tr th {\n",
       "        vertical-align: top;\n",
       "    }\n",
       "\n",
       "    .dataframe thead th {\n",
       "        text-align: right;\n",
       "    }\n",
       "</style>\n",
       "<table border=\"1\" class=\"dataframe\">\n",
       "  <thead>\n",
       "    <tr style=\"text-align: right;\">\n",
       "      <th></th>\n",
       "      <th>BillID</th>\n",
       "      <th>URL</th>\n",
       "    </tr>\n",
       "  </thead>\n",
       "  <tbody>\n",
       "    <tr>\n",
       "      <th>0</th>\n",
       "      <td>93-HCONRES-1</td>\n",
       "      <td>https://www.congress.gov/bill/93th-congress/ho...</td>\n",
       "    </tr>\n",
       "    <tr>\n",
       "      <th>1</th>\n",
       "      <td>93-HCONRES-2</td>\n",
       "      <td>https://www.congress.gov/bill/93th-congress/ho...</td>\n",
       "    </tr>\n",
       "    <tr>\n",
       "      <th>2</th>\n",
       "      <td>93-HCONRES-3</td>\n",
       "      <td>https://www.congress.gov/bill/93th-congress/ho...</td>\n",
       "    </tr>\n",
       "    <tr>\n",
       "      <th>3</th>\n",
       "      <td>93-HCONRES-4</td>\n",
       "      <td>https://www.congress.gov/bill/93th-congress/ho...</td>\n",
       "    </tr>\n",
       "    <tr>\n",
       "      <th>4</th>\n",
       "      <td>93-HCONRES-5</td>\n",
       "      <td>https://www.congress.gov/bill/93th-congress/ho...</td>\n",
       "    </tr>\n",
       "  </tbody>\n",
       "</table>\n",
       "</div>"
      ],
      "text/plain": [
       "         BillID                                                URL\n",
       "0  93-HCONRES-1  https://www.congress.gov/bill/93th-congress/ho...\n",
       "1  93-HCONRES-2  https://www.congress.gov/bill/93th-congress/ho...\n",
       "2  93-HCONRES-3  https://www.congress.gov/bill/93th-congress/ho...\n",
       "3  93-HCONRES-4  https://www.congress.gov/bill/93th-congress/ho...\n",
       "4  93-HCONRES-5  https://www.congress.gov/bill/93th-congress/ho..."
      ]
     },
     "execution_count": 18,
     "metadata": {},
     "output_type": "execute_result"
    }
   ],
   "source": [
    "raw = pd.read_csv('bills93-114.csv', sep=\";\", encoding='latin-1')\n",
    "\n",
    "df = raw[['BillID','URL']]\n",
    "# df = df.set_index('BillID')\n",
    "df.head()"
   ]
  },
  {
   "cell_type": "code",
   "execution_count": 19,
   "metadata": {},
   "outputs": [
    {
     "name": "stderr",
     "output_type": "stream",
     "text": [
      "/Users/melissamunz/anaconda3/lib/python3.7/site-packages/ipykernel_launcher.py:1: SettingWithCopyWarning: \n",
      "A value is trying to be set on a copy of a slice from a DataFrame.\n",
      "Try using .loc[row_indexer,col_indexer] = value instead\n",
      "\n",
      "See the caveats in the documentation: http://pandas.pydata.org/pandas-docs/stable/indexing.html#indexing-view-versus-copy\n",
      "  \"\"\"Entry point for launching an IPython kernel.\n"
     ]
    }
   ],
   "source": [
    "df['URL'] = df['URL'].astype('str') "
   ]
  },
  {
   "cell_type": "code",
   "execution_count": 20,
   "metadata": {},
   "outputs": [],
   "source": [
    "# df = df.drop([0])\n",
    "# df = df.drop([1])\n",
    "# df.head()"
   ]
  },
  {
   "cell_type": "code",
   "execution_count": 21,
   "metadata": {},
   "outputs": [
    {
     "data": {
      "text/plain": [
       "BillID                                         93-HCONRES-1\n",
       "URL       https://www.congress.gov/bill/93th-congress/ho...\n",
       "Name: 0, dtype: object"
      ]
     },
     "execution_count": 21,
     "metadata": {},
     "output_type": "execute_result"
    }
   ],
   "source": [
    "df.iloc[0]"
   ]
  },
  {
   "cell_type": "code",
   "execution_count": 22,
   "metadata": {},
   "outputs": [
    {
     "name": "stdout",
     "output_type": "stream",
     "text": [
      "<class 'pandas.core.frame.DataFrame'>\n",
      "RangeIndex: 294524 entries, 0 to 294523\n",
      "Data columns (total 2 columns):\n",
      "BillID    294524 non-null object\n",
      "URL       294524 non-null object\n",
      "dtypes: object(2)\n",
      "memory usage: 4.5+ MB\n"
     ]
    }
   ],
   "source": [
    "df.info()"
   ]
  },
  {
   "cell_type": "code",
   "execution_count": 23,
   "metadata": {},
   "outputs": [],
   "source": [
    "# df.iloc[0][1]"
   ]
  },
  {
   "cell_type": "markdown",
   "metadata": {},
   "source": [
    "## Create Scraper"
   ]
  },
  {
   "cell_type": "code",
   "execution_count": 24,
   "metadata": {},
   "outputs": [],
   "source": [
    "def scraper(url):\n",
    "       \n",
    "    response = requests.get(url)\n",
    "    soup = BS(response.content, \"html.parser\")\n",
    "    soup.prettify() \n",
    "    \n",
    "    try:\n",
    "        return soup.find('div', id=\"bill-summary\").find_all('p')[1].get_text(strip=True)\n",
    "        \n",
    "    except:\n",
    "        print(url)          \n",
    "    "
   ]
  },
  {
   "cell_type": "code",
   "execution_count": 25,
   "metadata": {},
   "outputs": [
    {
     "data": {
      "text/html": [
       "<div>\n",
       "<style scoped>\n",
       "    .dataframe tbody tr th:only-of-type {\n",
       "        vertical-align: middle;\n",
       "    }\n",
       "\n",
       "    .dataframe tbody tr th {\n",
       "        vertical-align: top;\n",
       "    }\n",
       "\n",
       "    .dataframe thead th {\n",
       "        text-align: right;\n",
       "    }\n",
       "</style>\n",
       "<table border=\"1\" class=\"dataframe\">\n",
       "  <thead>\n",
       "    <tr style=\"text-align: right;\">\n",
       "      <th></th>\n",
       "      <th>BillID</th>\n",
       "      <th>URL</th>\n",
       "    </tr>\n",
       "  </thead>\n",
       "  <tbody>\n",
       "    <tr>\n",
       "      <th>0</th>\n",
       "      <td>93-HCONRES-1</td>\n",
       "      <td>https://www.congress.gov/bill/93th-congress/ho...</td>\n",
       "    </tr>\n",
       "    <tr>\n",
       "      <th>1</th>\n",
       "      <td>93-HCONRES-2</td>\n",
       "      <td>https://www.congress.gov/bill/93th-congress/ho...</td>\n",
       "    </tr>\n",
       "    <tr>\n",
       "      <th>2</th>\n",
       "      <td>93-HCONRES-3</td>\n",
       "      <td>https://www.congress.gov/bill/93th-congress/ho...</td>\n",
       "    </tr>\n",
       "    <tr>\n",
       "      <th>3</th>\n",
       "      <td>93-HCONRES-4</td>\n",
       "      <td>https://www.congress.gov/bill/93th-congress/ho...</td>\n",
       "    </tr>\n",
       "    <tr>\n",
       "      <th>4</th>\n",
       "      <td>93-HCONRES-5</td>\n",
       "      <td>https://www.congress.gov/bill/93th-congress/ho...</td>\n",
       "    </tr>\n",
       "    <tr>\n",
       "      <th>5</th>\n",
       "      <td>93-HCONRES-6</td>\n",
       "      <td>https://www.congress.gov/bill/93th-congress/ho...</td>\n",
       "    </tr>\n",
       "    <tr>\n",
       "      <th>6</th>\n",
       "      <td>93-HCONRES-7</td>\n",
       "      <td>https://www.congress.gov/bill/93th-congress/ho...</td>\n",
       "    </tr>\n",
       "    <tr>\n",
       "      <th>7</th>\n",
       "      <td>93-HCONRES-8</td>\n",
       "      <td>https://www.congress.gov/bill/93th-congress/ho...</td>\n",
       "    </tr>\n",
       "    <tr>\n",
       "      <th>8</th>\n",
       "      <td>93-HCONRES-9</td>\n",
       "      <td>https://www.congress.gov/bill/93th-congress/ho...</td>\n",
       "    </tr>\n",
       "    <tr>\n",
       "      <th>9</th>\n",
       "      <td>93-HCONRES-10</td>\n",
       "      <td>https://www.congress.gov/bill/93th-congress/ho...</td>\n",
       "    </tr>\n",
       "  </tbody>\n",
       "</table>\n",
       "</div>"
      ],
      "text/plain": [
       "          BillID                                                URL\n",
       "0   93-HCONRES-1  https://www.congress.gov/bill/93th-congress/ho...\n",
       "1   93-HCONRES-2  https://www.congress.gov/bill/93th-congress/ho...\n",
       "2   93-HCONRES-3  https://www.congress.gov/bill/93th-congress/ho...\n",
       "3   93-HCONRES-4  https://www.congress.gov/bill/93th-congress/ho...\n",
       "4   93-HCONRES-5  https://www.congress.gov/bill/93th-congress/ho...\n",
       "5   93-HCONRES-6  https://www.congress.gov/bill/93th-congress/ho...\n",
       "6   93-HCONRES-7  https://www.congress.gov/bill/93th-congress/ho...\n",
       "7   93-HCONRES-8  https://www.congress.gov/bill/93th-congress/ho...\n",
       "8   93-HCONRES-9  https://www.congress.gov/bill/93th-congress/ho...\n",
       "9  93-HCONRES-10  https://www.congress.gov/bill/93th-congress/ho..."
      ]
     },
     "execution_count": 25,
     "metadata": {},
     "output_type": "execute_result"
    }
   ],
   "source": [
    "df1 = df[0:10]\n",
    "df1"
   ]
  },
  {
   "cell_type": "code",
   "execution_count": 26,
   "metadata": {},
   "outputs": [
    {
     "name": "stdout",
     "output_type": "stream",
     "text": [
      "https://www.congress.gov/bill/93th-congress/house-concurrent-resolution/1\n"
     ]
    },
    {
     "name": "stderr",
     "output_type": "stream",
     "text": [
      "/Users/melissamunz/anaconda3/lib/python3.7/site-packages/ipykernel_launcher.py:1: SettingWithCopyWarning: \n",
      "A value is trying to be set on a copy of a slice from a DataFrame.\n",
      "Try using .loc[row_indexer,col_indexer] = value instead\n",
      "\n",
      "See the caveats in the documentation: http://pandas.pydata.org/pandas-docs/stable/indexing.html#indexing-view-versus-copy\n",
      "  \"\"\"Entry point for launching an IPython kernel.\n"
     ]
    }
   ],
   "source": [
    "df1['Summary'] = df1.apply (lambda row: scraper(row['URL']), axis=1)"
   ]
  },
  {
   "cell_type": "code",
   "execution_count": 27,
   "metadata": {},
   "outputs": [
    {
     "data": {
      "text/html": [
       "<div>\n",
       "<style scoped>\n",
       "    .dataframe tbody tr th:only-of-type {\n",
       "        vertical-align: middle;\n",
       "    }\n",
       "\n",
       "    .dataframe tbody tr th {\n",
       "        vertical-align: top;\n",
       "    }\n",
       "\n",
       "    .dataframe thead th {\n",
       "        text-align: right;\n",
       "    }\n",
       "</style>\n",
       "<table border=\"1\" class=\"dataframe\">\n",
       "  <thead>\n",
       "    <tr style=\"text-align: right;\">\n",
       "      <th></th>\n",
       "      <th>BillID</th>\n",
       "      <th>URL</th>\n",
       "      <th>Summary</th>\n",
       "    </tr>\n",
       "  </thead>\n",
       "  <tbody>\n",
       "    <tr>\n",
       "      <th>0</th>\n",
       "      <td>93-HCONRES-1</td>\n",
       "      <td>https://www.congress.gov/bill/93th-congress/ho...</td>\n",
       "      <td>None</td>\n",
       "    </tr>\n",
       "    <tr>\n",
       "      <th>1</th>\n",
       "      <td>93-HCONRES-2</td>\n",
       "      <td>https://www.congress.gov/bill/93th-congress/ho...</td>\n",
       "      <td>Makes it the sense of the Congress that the po...</td>\n",
       "    </tr>\n",
       "    <tr>\n",
       "      <th>2</th>\n",
       "      <td>93-HCONRES-3</td>\n",
       "      <td>https://www.congress.gov/bill/93th-congress/ho...</td>\n",
       "      <td>Establishes a Joint Congressional Committee on...</td>\n",
       "    </tr>\n",
       "    <tr>\n",
       "      <th>3</th>\n",
       "      <td>93-HCONRES-4</td>\n",
       "      <td>https://www.congress.gov/bill/93th-congress/ho...</td>\n",
       "      <td>Makes it the sense of the Congress that the Pr...</td>\n",
       "    </tr>\n",
       "    <tr>\n",
       "      <th>4</th>\n",
       "      <td>93-HCONRES-5</td>\n",
       "      <td>https://www.congress.gov/bill/93th-congress/ho...</td>\n",
       "      <td>Makes it the sense of the Congress that:  (1) ...</td>\n",
       "    </tr>\n",
       "    <tr>\n",
       "      <th>5</th>\n",
       "      <td>93-HCONRES-6</td>\n",
       "      <td>https://www.congress.gov/bill/93th-congress/ho...</td>\n",
       "      <td>Makes it the sense of Congress that it shall b...</td>\n",
       "    </tr>\n",
       "    <tr>\n",
       "      <th>6</th>\n",
       "      <td>93-HCONRES-7</td>\n",
       "      <td>https://www.congress.gov/bill/93th-congress/ho...</td>\n",
       "      <td>Makes it the sense of the Congress that the Un...</td>\n",
       "    </tr>\n",
       "    <tr>\n",
       "      <th>7</th>\n",
       "      <td>93-HCONRES-8</td>\n",
       "      <td>https://www.congress.gov/bill/93th-congress/ho...</td>\n",
       "      <td>Expresses the sense of the Congress that the S...</td>\n",
       "    </tr>\n",
       "    <tr>\n",
       "      <th>8</th>\n",
       "      <td>93-HCONRES-9</td>\n",
       "      <td>https://www.congress.gov/bill/93th-congress/ho...</td>\n",
       "      <td>Expresses the sense of the Congress that all A...</td>\n",
       "    </tr>\n",
       "    <tr>\n",
       "      <th>9</th>\n",
       "      <td>93-HCONRES-10</td>\n",
       "      <td>https://www.congress.gov/bill/93th-congress/ho...</td>\n",
       "      <td>Makes it the sense of the Congress that the re...</td>\n",
       "    </tr>\n",
       "  </tbody>\n",
       "</table>\n",
       "</div>"
      ],
      "text/plain": [
       "          BillID                                                URL  \\\n",
       "0   93-HCONRES-1  https://www.congress.gov/bill/93th-congress/ho...   \n",
       "1   93-HCONRES-2  https://www.congress.gov/bill/93th-congress/ho...   \n",
       "2   93-HCONRES-3  https://www.congress.gov/bill/93th-congress/ho...   \n",
       "3   93-HCONRES-4  https://www.congress.gov/bill/93th-congress/ho...   \n",
       "4   93-HCONRES-5  https://www.congress.gov/bill/93th-congress/ho...   \n",
       "5   93-HCONRES-6  https://www.congress.gov/bill/93th-congress/ho...   \n",
       "6   93-HCONRES-7  https://www.congress.gov/bill/93th-congress/ho...   \n",
       "7   93-HCONRES-8  https://www.congress.gov/bill/93th-congress/ho...   \n",
       "8   93-HCONRES-9  https://www.congress.gov/bill/93th-congress/ho...   \n",
       "9  93-HCONRES-10  https://www.congress.gov/bill/93th-congress/ho...   \n",
       "\n",
       "                                             Summary  \n",
       "0                                               None  \n",
       "1  Makes it the sense of the Congress that the po...  \n",
       "2  Establishes a Joint Congressional Committee on...  \n",
       "3  Makes it the sense of the Congress that the Pr...  \n",
       "4  Makes it the sense of the Congress that:  (1) ...  \n",
       "5  Makes it the sense of Congress that it shall b...  \n",
       "6  Makes it the sense of the Congress that the Un...  \n",
       "7  Expresses the sense of the Congress that the S...  \n",
       "8  Expresses the sense of the Congress that all A...  \n",
       "9  Makes it the sense of the Congress that the re...  "
      ]
     },
     "execution_count": 27,
     "metadata": {},
     "output_type": "execute_result"
    }
   ],
   "source": [
    "df1"
   ]
  },
  {
   "cell_type": "code",
   "execution_count": null,
   "metadata": {},
   "outputs": [
    {
     "name": "stdout",
     "output_type": "stream",
     "text": [
      "https://www.congress.gov/bill/93th-congress/house-concurrent-resolution/1\n",
      "https://www.congress.gov/bill/93th-congress/house-concurrent-resolution/41\n",
      "https://www.congress.gov/bill/93th-congress/house-concurrent-resolution/42\n",
      "https://www.congress.gov/bill/93th-congress/house-concurrent-resolution/43\n",
      "https://www.congress.gov/bill/93th-congress/house-concurrent-resolution/78\n",
      "https://www.congress.gov/bill/93th-congress/house-concurrent-resolution/105\n",
      "https://www.congress.gov/bill/93th-congress/house-concurrent-resolution/132\n"
     ]
    }
   ],
   "source": [
    "df['Summary'] = df.apply (lambda row: scraper(row['URL']), axis=1)"
   ]
  },
  {
   "cell_type": "code",
   "execution_count": null,
   "metadata": {},
   "outputs": [],
   "source": [
    "df.head()"
   ]
  },
  {
   "cell_type": "code",
   "execution_count": null,
   "metadata": {},
   "outputs": [],
   "source": []
  },
  {
   "cell_type": "markdown",
   "metadata": {},
   "source": [
    "## Enter into Database"
   ]
  },
  {
   "cell_type": "code",
   "execution_count": null,
   "metadata": {},
   "outputs": [],
   "source": [
    "from sodapy import Socrata\n",
    "import sqlalchemy as db"
   ]
  },
  {
   "cell_type": "code",
   "execution_count": null,
   "metadata": {},
   "outputs": [],
   "source": [
    "def query(q):\n",
    "    try:\n",
    "        return pd.read_sql_query(q, engine)\n",
    "    # Pass when no data is returned    \n",
    "    except ResourceClosedError:\n",
    "        pass\n",
    "\n",
    "def query_list(col, table, distinct = True):\n",
    "    elts = ['SELECT',\n",
    "            'DISTINCT' if distinct else '',\n",
    "            col,\n",
    "            'FROM',\n",
    "            table]\n",
    "    query_str = ' '.join(elts)\n",
    "    df = query(query_str)\n",
    "    l = df.iloc[:,0].tolist()\n",
    "    return l"
   ]
  },
  {
   "cell_type": "code",
   "execution_count": null,
   "metadata": {},
   "outputs": [],
   "source": [
    "df.iloc[0][1]"
   ]
  },
  {
   "cell_type": "code",
   "execution_count": null,
   "metadata": {},
   "outputs": [],
   "source": [
    "len(df.iloc[3][1])"
   ]
  },
  {
   "cell_type": "code",
   "execution_count": null,
   "metadata": {},
   "outputs": [],
   "source": [
    "#instantiate the connection and table\n",
    "\n",
    "engine = db.create_engine(f'mysql+mysqlconnector://{config_final.user}:{config_final.password}@{config_final.host}/con_bills')\n",
    "\n",
    "connection = engine.connect()\n",
    "metadata=db.MetaData()"
   ]
  },
  {
   "cell_type": "markdown",
   "metadata": {},
   "source": [
    "**Summaries Table**"
   ]
  },
  {
   "cell_type": "code",
   "execution_count": null,
   "metadata": {},
   "outputs": [],
   "source": [
    "summaries = db.Table('summaries', metadata, \n",
    "    db.Column('Summary', db.String(500)),               \n",
    "    db.Column('BillID', db.String(40), primary_key=True)\n",
    ")"
   ]
  },
  {
   "cell_type": "code",
   "execution_count": null,
   "metadata": {},
   "outputs": [],
   "source": [
    "metadata.create_all(engine)"
   ]
  },
  {
   "cell_type": "code",
   "execution_count": null,
   "metadata": {},
   "outputs": [],
   "source": [
    "query = db.insert(summaries)"
   ]
  },
  {
   "cell_type": "code",
   "execution_count": null,
   "metadata": {},
   "outputs": [],
   "source": [
    "connection.execute(query, url_call(df))"
   ]
  },
  {
   "cell_type": "code",
   "execution_count": null,
   "metadata": {},
   "outputs": [],
   "source": []
  }
 ],
 "metadata": {
  "kernelspec": {
   "display_name": "Python 3",
   "language": "python",
   "name": "python3"
  },
  "language_info": {
   "codemirror_mode": {
    "name": "ipython",
    "version": 3
   },
   "file_extension": ".py",
   "mimetype": "text/x-python",
   "name": "python",
   "nbconvert_exporter": "python",
   "pygments_lexer": "ipython3",
   "version": "3.7.3"
  }
 },
 "nbformat": 4,
 "nbformat_minor": 2
}
