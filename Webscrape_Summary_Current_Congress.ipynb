{
 "cells": [
  {
   "cell_type": "code",
   "execution_count": 1,
   "metadata": {},
   "outputs": [],
   "source": [
    "import numpy as np\n",
    "import pandas as pd\n",
    "import config_final\n",
    "import requests\n",
    "from bs4 import BeautifulSoup as BS\n"
   ]
  },
  {
   "cell_type": "code",
   "execution_count": 2,
   "metadata": {},
   "outputs": [
    {
     "data": {
      "text/plain": [
       "'munzma'"
      ]
     },
     "execution_count": 2,
     "metadata": {},
     "output_type": "execute_result"
    }
   ],
   "source": [
    "config_final.user"
   ]
  },
  {
   "cell_type": "markdown",
   "metadata": {},
   "source": [
    "# Webscrape URL List for Bill Summaries"
   ]
  },
  {
   "cell_type": "code",
   "execution_count": 3,
   "metadata": {
    "scrolled": true
   },
   "outputs": [
    {
     "name": "stdout",
     "output_type": "stream",
     "text": [
      "(294485, 48)\n"
     ]
    }
   ],
   "source": [
    "raw = pd.read_csv('bills93-114.csv', sep=\";\", encoding='latin-1')\n",
    "raw.dropna(axis=0, subset = ['Cosponsr'], inplace=True)\n",
    "\n",
    "#raw['URL'] = raw['URL'].astype('str') \n",
    "# urls = df[['BillID','URL']]\n",
    "# df = df.set_index('BillID')\n",
    "\n",
    "print(raw.shape)"
   ]
  },
  {
   "cell_type": "code",
   "execution_count": 4,
   "metadata": {},
   "outputs": [
    {
     "data": {
      "text/plain": [
       "294485"
      ]
     },
     "execution_count": 4,
     "metadata": {},
     "output_type": "execute_result"
    }
   ],
   "source": [
    "len(raw)"
   ]
  },
  {
   "cell_type": "markdown",
   "metadata": {},
   "source": [
    "## Create Scraper"
   ]
  },
  {
   "cell_type": "code",
   "execution_count": 5,
   "metadata": {},
   "outputs": [],
   "source": [
    "from bs4 import NavigableString\n",
    "\n",
    "def scraper(url):\n",
    "       \n",
    "    response = requests.get(url)\n",
    "    soup = BS(response.content, \"html.parser\")\n",
    "    soup.prettify() \n",
    "    \n",
    "    bill_summary = soup.find('div', id=\"bill-summary\")\n",
    "    paragraphs = bill_summary.find_all('p')\n",
    "    \n",
    "    if len(paragraphs) > 0 and paragraphs[0].get_text(strip=True).startswith('There is'):\n",
    "        paragraphs = paragraphs[1:]\n",
    "\n",
    "    if len(paragraphs) > 0:\n",
    "        return paragraphs[0].get_text(' ', strip=True)\n",
    "    else:\n",
    "        node = bill_summary.contents[-1]\n",
    "        if type(node) == NavigableString:\n",
    "            return node.strip()\n",
    "        else:\n",
    "            print(url) \n",
    "            return ''\n",
    "\n"
   ]
  },
  {
   "cell_type": "code",
   "execution_count": 87,
   "metadata": {},
   "outputs": [],
   "source": [
    "def clean_df(df):   \n",
    "    \n",
    "    df['Class'].fillna(0, inplace=True)\n",
    "\n",
    "    df['PooleID'].fillna(0, inplace=True)\n",
    "\n",
    "    df['PLawDate'].fillna(0, inplace=True)\n",
    "\n",
    "    df['PLawNum'].fillna(0, inplace=True)\n",
    "\n",
    "    df['Major'].fillna(0, inplace=True)\n",
    "\n",
    "    df['Minor'].fillna(0, inplace=True)\n",
    "    \n",
    "    df['URL'].fillna('', inplace=True)\n",
    "    \n",
    "    df = df[df['BillType'].isin(['hr', 's']) ]\n",
    "    return df"
   ]
  },
  {
   "cell_type": "code",
   "execution_count": 88,
   "metadata": {},
   "outputs": [
    {
     "data": {
      "text/html": [
       "<div>\n",
       "<style scoped>\n",
       "    .dataframe tbody tr th:only-of-type {\n",
       "        vertical-align: middle;\n",
       "    }\n",
       "\n",
       "    .dataframe tbody tr th {\n",
       "        vertical-align: top;\n",
       "    }\n",
       "\n",
       "    .dataframe thead th {\n",
       "        text-align: right;\n",
       "    }\n",
       "</style>\n",
       "<table border=\"1\" class=\"dataframe\">\n",
       "  <thead>\n",
       "    <tr style=\"text-align: right;\">\n",
       "      <th></th>\n",
       "      <th>BillID</th>\n",
       "      <th>BillNum</th>\n",
       "      <th>BillType</th>\n",
       "      <th>Chamber</th>\n",
       "      <th>Cong</th>\n",
       "      <th>Cosponsr</th>\n",
       "      <th>IntrDate</th>\n",
       "      <th>Mult</th>\n",
       "      <th>MultNo</th>\n",
       "      <th>PLaw</th>\n",
       "      <th>...</th>\n",
       "      <th>PLawDate</th>\n",
       "      <th>PLawNum</th>\n",
       "      <th>ImpBill</th>\n",
       "      <th>SubChRef</th>\n",
       "      <th>SubRankRef</th>\n",
       "      <th>Majority</th>\n",
       "      <th>ReportH</th>\n",
       "      <th>ReportS</th>\n",
       "      <th>Major</th>\n",
       "      <th>Minor</th>\n",
       "    </tr>\n",
       "  </thead>\n",
       "  <tbody>\n",
       "    <tr>\n",
       "      <th>1880</th>\n",
       "      <td>93-HR-1</td>\n",
       "      <td>1</td>\n",
       "      <td>hr</td>\n",
       "      <td>0</td>\n",
       "      <td>93</td>\n",
       "      <td>0.0</td>\n",
       "      <td>1973-01-03</td>\n",
       "      <td>0.0</td>\n",
       "      <td>1.0</td>\n",
       "      <td>0</td>\n",
       "      <td>...</td>\n",
       "      <td>0</td>\n",
       "      <td>0</td>\n",
       "      <td>1.0</td>\n",
       "      <td>0.0</td>\n",
       "      <td>0.0</td>\n",
       "      <td>1</td>\n",
       "      <td>0</td>\n",
       "      <td>0</td>\n",
       "      <td>3.0</td>\n",
       "      <td>301.0</td>\n",
       "    </tr>\n",
       "    <tr>\n",
       "      <th>1881</th>\n",
       "      <td>93-HR-2</td>\n",
       "      <td>2</td>\n",
       "      <td>hr</td>\n",
       "      <td>0</td>\n",
       "      <td>93</td>\n",
       "      <td>1.0</td>\n",
       "      <td>1973-01-03</td>\n",
       "      <td>0.0</td>\n",
       "      <td>1.0</td>\n",
       "      <td>1</td>\n",
       "      <td>...</td>\n",
       "      <td>1974-09-02</td>\n",
       "      <td>Public law 93-406.</td>\n",
       "      <td>1.0</td>\n",
       "      <td>0.0</td>\n",
       "      <td>0.0</td>\n",
       "      <td>1</td>\n",
       "      <td>1</td>\n",
       "      <td>0</td>\n",
       "      <td>5.0</td>\n",
       "      <td>503.0</td>\n",
       "    </tr>\n",
       "    <tr>\n",
       "      <th>1882</th>\n",
       "      <td>93-HR-3</td>\n",
       "      <td>3</td>\n",
       "      <td>hr</td>\n",
       "      <td>0</td>\n",
       "      <td>93</td>\n",
       "      <td>2.0</td>\n",
       "      <td>1973-01-03</td>\n",
       "      <td>0.0</td>\n",
       "      <td>1.0</td>\n",
       "      <td>0</td>\n",
       "      <td>...</td>\n",
       "      <td>0</td>\n",
       "      <td>0</td>\n",
       "      <td>1.0</td>\n",
       "      <td>0.0</td>\n",
       "      <td>0.0</td>\n",
       "      <td>1</td>\n",
       "      <td>0</td>\n",
       "      <td>0</td>\n",
       "      <td>8.0</td>\n",
       "      <td>805.0</td>\n",
       "    </tr>\n",
       "    <tr>\n",
       "      <th>1883</th>\n",
       "      <td>93-HR-4</td>\n",
       "      <td>4</td>\n",
       "      <td>hr</td>\n",
       "      <td>0</td>\n",
       "      <td>93</td>\n",
       "      <td>21.0</td>\n",
       "      <td>1973-01-03</td>\n",
       "      <td>0.0</td>\n",
       "      <td>1.0</td>\n",
       "      <td>0</td>\n",
       "      <td>...</td>\n",
       "      <td>0</td>\n",
       "      <td>0</td>\n",
       "      <td>1.0</td>\n",
       "      <td>0.0</td>\n",
       "      <td>0.0</td>\n",
       "      <td>1</td>\n",
       "      <td>0</td>\n",
       "      <td>0</td>\n",
       "      <td>2.0</td>\n",
       "      <td>208.0</td>\n",
       "    </tr>\n",
       "    <tr>\n",
       "      <th>1884</th>\n",
       "      <td>93-HR-5</td>\n",
       "      <td>5</td>\n",
       "      <td>hr</td>\n",
       "      <td>0</td>\n",
       "      <td>93</td>\n",
       "      <td>0.0</td>\n",
       "      <td>1973-01-03</td>\n",
       "      <td>0.0</td>\n",
       "      <td>1.0</td>\n",
       "      <td>0</td>\n",
       "      <td>...</td>\n",
       "      <td>0</td>\n",
       "      <td>0</td>\n",
       "      <td>1.0</td>\n",
       "      <td>0.0</td>\n",
       "      <td>0.0</td>\n",
       "      <td>1</td>\n",
       "      <td>0</td>\n",
       "      <td>0</td>\n",
       "      <td>6.0</td>\n",
       "      <td>601.0</td>\n",
       "    </tr>\n",
       "  </tbody>\n",
       "</table>\n",
       "<p>5 rows × 48 columns</p>\n",
       "</div>"
      ],
      "text/plain": [
       "       BillID  BillNum BillType  Chamber  Cong  Cosponsr    IntrDate  Mult  \\\n",
       "1880  93-HR-1        1       hr        0    93       0.0  1973-01-03   0.0   \n",
       "1881  93-HR-2        2       hr        0    93       1.0  1973-01-03   0.0   \n",
       "1882  93-HR-3        3       hr        0    93       2.0  1973-01-03   0.0   \n",
       "1883  93-HR-4        4       hr        0    93      21.0  1973-01-03   0.0   \n",
       "1884  93-HR-5        5       hr        0    93       0.0  1973-01-03   0.0   \n",
       "\n",
       "      MultNo  PLaw  ...    PLawDate             PLawNum  ImpBill  SubChRef  \\\n",
       "1880     1.0     0  ...           0                   0      1.0       0.0   \n",
       "1881     1.0     1  ...  1974-09-02  Public law 93-406.      1.0       0.0   \n",
       "1882     1.0     0  ...           0                   0      1.0       0.0   \n",
       "1883     1.0     0  ...           0                   0      1.0       0.0   \n",
       "1884     1.0     0  ...           0                   0      1.0       0.0   \n",
       "\n",
       "      SubRankRef  Majority  ReportH  ReportS  Major  Minor  \n",
       "1880         0.0         1        0        0    3.0  301.0  \n",
       "1881         0.0         1        1        0    5.0  503.0  \n",
       "1882         0.0         1        0        0    8.0  805.0  \n",
       "1883         0.0         1        0        0    2.0  208.0  \n",
       "1884         0.0         1        0        0    6.0  601.0  \n",
       "\n",
       "[5 rows x 48 columns]"
      ]
     },
     "execution_count": 88,
     "metadata": {},
     "output_type": "execute_result"
    }
   ],
   "source": [
    "clean_df(raw).head()"
   ]
  },
  {
   "cell_type": "code",
   "execution_count": 89,
   "metadata": {},
   "outputs": [],
   "source": [
    "df = clean_df(raw)"
   ]
  },
  {
   "cell_type": "code",
   "execution_count": 90,
   "metadata": {},
   "outputs": [
    {
     "data": {
      "text/plain": [
       "hr    164698\n",
       "s      72919\n",
       "Name: BillType, dtype: int64"
      ]
     },
     "execution_count": 90,
     "metadata": {},
     "output_type": "execute_result"
    }
   ],
   "source": [
    "df['BillType'].value_counts()"
   ]
  },
  {
   "cell_type": "code",
   "execution_count": 91,
   "metadata": {},
   "outputs": [
    {
     "data": {
      "text/plain": [
       "(237617, 48)"
      ]
     },
     "execution_count": 91,
     "metadata": {},
     "output_type": "execute_result"
    }
   ],
   "source": [
    "df.shape"
   ]
  },
  {
   "cell_type": "code",
   "execution_count": 92,
   "metadata": {},
   "outputs": [
    {
     "name": "stdout",
     "output_type": "stream",
     "text": [
      "<class 'pandas.core.frame.DataFrame'>\n",
      "Int64Index: 237617 entries, 1880 to 293782\n",
      "Data columns (total 48 columns):\n",
      "BillID        237617 non-null object\n",
      "BillNum       237617 non-null int64\n",
      "BillType      237617 non-null object\n",
      "Chamber       237617 non-null int64\n",
      "Cong          237617 non-null int64\n",
      "Cosponsr      237617 non-null float64\n",
      "IntrDate      237617 non-null object\n",
      "Mult          237617 non-null float64\n",
      "MultNo        237617 non-null float64\n",
      "PLaw          237617 non-null int64\n",
      "Private       237617 non-null int64\n",
      "Title         237617 non-null object\n",
      "Veto          237617 non-null int64\n",
      "Class         237617 non-null float64\n",
      "ComC          237617 non-null float64\n",
      "ComR          237617 non-null float64\n",
      "CumHServ      237617 non-null float64\n",
      "CumSServ      237617 non-null float64\n",
      "Delegate      237617 non-null int64\n",
      "District      237617 non-null float64\n",
      "DW1           237431 non-null object\n",
      "FrstConH      237617 non-null float64\n",
      "FrstConS      237617 non-null float64\n",
      "Gender        237617 non-null int64\n",
      "MemberID      237615 non-null object\n",
      "MRef          237617 non-null int64\n",
      "NameFirst     237617 non-null object\n",
      "NameFull      237617 non-null object\n",
      "NameLast      237617 non-null object\n",
      "Party         237617 non-null float64\n",
      "PooleID       237617 non-null float64\n",
      "Postal        237617 non-null object\n",
      "State         237617 non-null int64\n",
      "URL           237617 non-null object\n",
      "ChRef         237617 non-null int64\n",
      "RankRef       237617 non-null int64\n",
      "PassH         237617 non-null int64\n",
      "PassS         237617 non-null int64\n",
      "PLawDate      237617 non-null object\n",
      "PLawNum       237617 non-null object\n",
      "ImpBill       237468 non-null float64\n",
      "SubChRef      237439 non-null float64\n",
      "SubRankRef    237439 non-null float64\n",
      "Majority      237617 non-null int64\n",
      "ReportH       237617 non-null int64\n",
      "ReportS       237617 non-null int64\n",
      "Major         237617 non-null float64\n",
      "Minor         237617 non-null float64\n",
      "dtypes: float64(18), int64(17), object(13)\n",
      "memory usage: 88.8+ MB\n"
     ]
    }
   ],
   "source": [
    "df.info()"
   ]
  },
  {
   "cell_type": "markdown",
   "metadata": {},
   "source": [
    "## Enter into Database"
   ]
  },
  {
   "cell_type": "code",
   "execution_count": 93,
   "metadata": {},
   "outputs": [],
   "source": [
    "from sodapy import Socrata\n",
    "import sqlalchemy as db"
   ]
  },
  {
   "cell_type": "code",
   "execution_count": 94,
   "metadata": {},
   "outputs": [],
   "source": [
    "def query(q):\n",
    "    try:\n",
    "        return pd.read_sql_query(q, engine)\n",
    "    # Pass when no data is returned    \n",
    "    except ResourceClosedError:\n",
    "        pass\n",
    "\n",
    "def query_list(col, table, distinct = True):\n",
    "    elts = ['SELECT',\n",
    "            'DISTINCT' if distinct else '',\n",
    "            col,\n",
    "            'FROM',\n",
    "            table]\n",
    "    query_str = ' '.join(elts)\n",
    "    df = query(query_str)\n",
    "    l = df.iloc[:,0].tolist()\n",
    "    return l"
   ]
  },
  {
   "cell_type": "markdown",
   "metadata": {},
   "source": [
    "**Create**"
   ]
  },
  {
   "cell_type": "code",
   "execution_count": 95,
   "metadata": {},
   "outputs": [
    {
     "name": "stderr",
     "output_type": "stream",
     "text": [
      "Exception during reset or similar\n",
      "Traceback (most recent call last):\n",
      "  File \"/Users/melissamunz/anaconda3/lib/python3.7/site-packages/sqlalchemy/pool/base.py\", line 680, in _finalize_fairy\n",
      "    fairy._reset(pool)\n",
      "  File \"/Users/melissamunz/anaconda3/lib/python3.7/site-packages/sqlalchemy/pool/base.py\", line 867, in _reset\n",
      "    pool._dialect.do_rollback(self)\n",
      "  File \"/Users/melissamunz/anaconda3/lib/python3.7/site-packages/sqlalchemy/dialects/mysql/base.py\", line 2241, in do_rollback\n",
      "    dbapi_connection.rollback()\n",
      "  File \"/Users/melissamunz/anaconda3/lib/python3.7/site-packages/mysql/connector/connection_cext.py\", line 369, in rollback\n",
      "    self._cmysql.rollback()\n",
      "_mysql_connector.MySQLInterfaceError: Lost connection to MySQL server during query\n"
     ]
    }
   ],
   "source": [
    "#instantiate the connection and table\n",
    "\n",
    "engine = db.create_engine(f'mysql+mysqlconnector://{config_final.user}:{config_final.password}@{config_final.host}/con_bills')\n",
    "\n",
    "connection = engine.connect()\n",
    "metadata=db.MetaData()"
   ]
  },
  {
   "cell_type": "code",
   "execution_count": 96,
   "metadata": {},
   "outputs": [],
   "source": [
    "#Create Table \n",
    "current_bills_table = db.Table('current_bills', metadata,               \n",
    "    db.Column('BillID', db.String(40), primary_key=True),\n",
    "    db.Column('BillType', db.String(20)),\n",
    "    db.Column('Chamber', db.Boolean()),\n",
    "    db.Column('Cong', db.Integer()),\n",
    "    db.Column('Cosponsr', db.Float()),\n",
    "    db.Column('IntrDate', db.DateTime()),\n",
    "    db.Column('Mult', db.Boolean()),\n",
    "    db.Column('PLaw', db.Boolean()),\n",
    "    db.Column('Title', db.String(500)),\n",
    "    db.Column('Veto', db.Boolean()),\n",
    "    db.Column('Class', db.Float()),\n",
    "    db.Column('District', db.Float()),\n",
    "    db.Column('FrstConH', db.Float()),\n",
    "    db.Column('FrstConS', db.Float()),\n",
    "    db.Column('Gender', db.Boolean()),\n",
    "    db.Column('MRef', db.Boolean()),\n",
    "    db.Column('NameFull', db.String(40)),\n",
    "    db.Column('Party', db.Float()),\n",
    "    db.Column('Postal', db.String(10)),\n",
    "    db.Column('PassH', db.Boolean()),\n",
    "    db.Column('PassS', db.Boolean()),\n",
    "    db.Column('PLawDate', db.DateTime()),\n",
    "    db.Column('PLawNum', db.String(40)),\n",
    "    db.Column('ImpBill', db.Boolean()),\n",
    "    db.Column('Majority', db.Boolean()),\n",
    "    db.Column('Major', db.Float()),\n",
    "    db.Column('Minor', db.Float()),\n",
    "    db.Column('URL', db.String(100)),\n",
    "    db.Column('Summary', db.String(2000))\n",
    "                         \n",
    ")"
   ]
  },
  {
   "cell_type": "code",
   "execution_count": 97,
   "metadata": {},
   "outputs": [],
   "source": [
    "metadata.create_all(engine)"
   ]
  },
  {
   "cell_type": "code",
   "execution_count": 98,
   "metadata": {},
   "outputs": [
    {
     "data": {
      "text/html": [
       "<div>\n",
       "<style scoped>\n",
       "    .dataframe tbody tr th:only-of-type {\n",
       "        vertical-align: middle;\n",
       "    }\n",
       "\n",
       "    .dataframe tbody tr th {\n",
       "        vertical-align: top;\n",
       "    }\n",
       "\n",
       "    .dataframe thead th {\n",
       "        text-align: right;\n",
       "    }\n",
       "</style>\n",
       "<table border=\"1\" class=\"dataframe\">\n",
       "  <thead>\n",
       "    <tr style=\"text-align: right;\">\n",
       "      <th></th>\n",
       "      <th>BillID</th>\n",
       "      <th>BillNum</th>\n",
       "      <th>BillType</th>\n",
       "      <th>Chamber</th>\n",
       "      <th>Cong</th>\n",
       "      <th>Cosponsr</th>\n",
       "      <th>IntrDate</th>\n",
       "      <th>Mult</th>\n",
       "      <th>MultNo</th>\n",
       "      <th>PLaw</th>\n",
       "      <th>...</th>\n",
       "      <th>PLawDate</th>\n",
       "      <th>PLawNum</th>\n",
       "      <th>ImpBill</th>\n",
       "      <th>SubChRef</th>\n",
       "      <th>SubRankRef</th>\n",
       "      <th>Majority</th>\n",
       "      <th>ReportH</th>\n",
       "      <th>ReportS</th>\n",
       "      <th>Major</th>\n",
       "      <th>Minor</th>\n",
       "    </tr>\n",
       "  </thead>\n",
       "  <tbody>\n",
       "    <tr>\n",
       "      <th>1880</th>\n",
       "      <td>93-HR-1</td>\n",
       "      <td>1</td>\n",
       "      <td>hr</td>\n",
       "      <td>0</td>\n",
       "      <td>93</td>\n",
       "      <td>0.0</td>\n",
       "      <td>1973-01-03</td>\n",
       "      <td>0.0</td>\n",
       "      <td>1.0</td>\n",
       "      <td>0</td>\n",
       "      <td>...</td>\n",
       "      <td>0</td>\n",
       "      <td>0</td>\n",
       "      <td>1.0</td>\n",
       "      <td>0.0</td>\n",
       "      <td>0.0</td>\n",
       "      <td>1</td>\n",
       "      <td>0</td>\n",
       "      <td>0</td>\n",
       "      <td>3.0</td>\n",
       "      <td>301.0</td>\n",
       "    </tr>\n",
       "    <tr>\n",
       "      <th>1881</th>\n",
       "      <td>93-HR-2</td>\n",
       "      <td>2</td>\n",
       "      <td>hr</td>\n",
       "      <td>0</td>\n",
       "      <td>93</td>\n",
       "      <td>1.0</td>\n",
       "      <td>1973-01-03</td>\n",
       "      <td>0.0</td>\n",
       "      <td>1.0</td>\n",
       "      <td>1</td>\n",
       "      <td>...</td>\n",
       "      <td>1974-09-02</td>\n",
       "      <td>Public law 93-406.</td>\n",
       "      <td>1.0</td>\n",
       "      <td>0.0</td>\n",
       "      <td>0.0</td>\n",
       "      <td>1</td>\n",
       "      <td>1</td>\n",
       "      <td>0</td>\n",
       "      <td>5.0</td>\n",
       "      <td>503.0</td>\n",
       "    </tr>\n",
       "    <tr>\n",
       "      <th>1882</th>\n",
       "      <td>93-HR-3</td>\n",
       "      <td>3</td>\n",
       "      <td>hr</td>\n",
       "      <td>0</td>\n",
       "      <td>93</td>\n",
       "      <td>2.0</td>\n",
       "      <td>1973-01-03</td>\n",
       "      <td>0.0</td>\n",
       "      <td>1.0</td>\n",
       "      <td>0</td>\n",
       "      <td>...</td>\n",
       "      <td>0</td>\n",
       "      <td>0</td>\n",
       "      <td>1.0</td>\n",
       "      <td>0.0</td>\n",
       "      <td>0.0</td>\n",
       "      <td>1</td>\n",
       "      <td>0</td>\n",
       "      <td>0</td>\n",
       "      <td>8.0</td>\n",
       "      <td>805.0</td>\n",
       "    </tr>\n",
       "    <tr>\n",
       "      <th>1883</th>\n",
       "      <td>93-HR-4</td>\n",
       "      <td>4</td>\n",
       "      <td>hr</td>\n",
       "      <td>0</td>\n",
       "      <td>93</td>\n",
       "      <td>21.0</td>\n",
       "      <td>1973-01-03</td>\n",
       "      <td>0.0</td>\n",
       "      <td>1.0</td>\n",
       "      <td>0</td>\n",
       "      <td>...</td>\n",
       "      <td>0</td>\n",
       "      <td>0</td>\n",
       "      <td>1.0</td>\n",
       "      <td>0.0</td>\n",
       "      <td>0.0</td>\n",
       "      <td>1</td>\n",
       "      <td>0</td>\n",
       "      <td>0</td>\n",
       "      <td>2.0</td>\n",
       "      <td>208.0</td>\n",
       "    </tr>\n",
       "    <tr>\n",
       "      <th>1884</th>\n",
       "      <td>93-HR-5</td>\n",
       "      <td>5</td>\n",
       "      <td>hr</td>\n",
       "      <td>0</td>\n",
       "      <td>93</td>\n",
       "      <td>0.0</td>\n",
       "      <td>1973-01-03</td>\n",
       "      <td>0.0</td>\n",
       "      <td>1.0</td>\n",
       "      <td>0</td>\n",
       "      <td>...</td>\n",
       "      <td>0</td>\n",
       "      <td>0</td>\n",
       "      <td>1.0</td>\n",
       "      <td>0.0</td>\n",
       "      <td>0.0</td>\n",
       "      <td>1</td>\n",
       "      <td>0</td>\n",
       "      <td>0</td>\n",
       "      <td>6.0</td>\n",
       "      <td>601.0</td>\n",
       "    </tr>\n",
       "  </tbody>\n",
       "</table>\n",
       "<p>5 rows × 48 columns</p>\n",
       "</div>"
      ],
      "text/plain": [
       "       BillID  BillNum BillType  Chamber  Cong  Cosponsr    IntrDate  Mult  \\\n",
       "1880  93-HR-1        1       hr        0    93       0.0  1973-01-03   0.0   \n",
       "1881  93-HR-2        2       hr        0    93       1.0  1973-01-03   0.0   \n",
       "1882  93-HR-3        3       hr        0    93       2.0  1973-01-03   0.0   \n",
       "1883  93-HR-4        4       hr        0    93      21.0  1973-01-03   0.0   \n",
       "1884  93-HR-5        5       hr        0    93       0.0  1973-01-03   0.0   \n",
       "\n",
       "      MultNo  PLaw  ...    PLawDate             PLawNum  ImpBill  SubChRef  \\\n",
       "1880     1.0     0  ...           0                   0      1.0       0.0   \n",
       "1881     1.0     1  ...  1974-09-02  Public law 93-406.      1.0       0.0   \n",
       "1882     1.0     0  ...           0                   0      1.0       0.0   \n",
       "1883     1.0     0  ...           0                   0      1.0       0.0   \n",
       "1884     1.0     0  ...           0                   0      1.0       0.0   \n",
       "\n",
       "      SubRankRef  Majority  ReportH  ReportS  Major  Minor  \n",
       "1880         0.0         1        0        0    3.0  301.0  \n",
       "1881         0.0         1        1        0    5.0  503.0  \n",
       "1882         0.0         1        0        0    8.0  805.0  \n",
       "1883         0.0         1        0        0    2.0  208.0  \n",
       "1884         0.0         1        0        0    6.0  601.0  \n",
       "\n",
       "[5 rows x 48 columns]"
      ]
     },
     "execution_count": 98,
     "metadata": {},
     "output_type": "execute_result"
    }
   ],
   "source": [
    "df.head()"
   ]
  },
  {
   "cell_type": "code",
   "execution_count": 99,
   "metadata": {},
   "outputs": [],
   "source": [
    "df = df.reindex(index=df.index[::-1])"
   ]
  },
  {
   "cell_type": "code",
   "execution_count": 100,
   "metadata": {},
   "outputs": [
    {
     "data": {
      "text/plain": [
       "(237617, 48)"
      ]
     },
     "execution_count": 100,
     "metadata": {},
     "output_type": "execute_result"
    }
   ],
   "source": [
    "df.shape"
   ]
  },
  {
   "cell_type": "code",
   "execution_count": 101,
   "metadata": {},
   "outputs": [
    {
     "data": {
      "text/plain": [
       "0"
      ]
     },
     "execution_count": 101,
     "metadata": {},
     "output_type": "execute_result"
    }
   ],
   "source": [
    "df['URL'].isnull().sum()"
   ]
  },
  {
   "cell_type": "code",
   "execution_count": 102,
   "metadata": {
    "scrolled": true
   },
   "outputs": [
    {
     "data": {
      "text/html": [
       "<div>\n",
       "<style scoped>\n",
       "    .dataframe tbody tr th:only-of-type {\n",
       "        vertical-align: middle;\n",
       "    }\n",
       "\n",
       "    .dataframe tbody tr th {\n",
       "        vertical-align: top;\n",
       "    }\n",
       "\n",
       "    .dataframe thead th {\n",
       "        text-align: right;\n",
       "    }\n",
       "</style>\n",
       "<table border=\"1\" class=\"dataframe\">\n",
       "  <thead>\n",
       "    <tr style=\"text-align: right;\">\n",
       "      <th></th>\n",
       "      <th>BillID</th>\n",
       "      <th>BillNum</th>\n",
       "      <th>BillType</th>\n",
       "      <th>Chamber</th>\n",
       "      <th>Cong</th>\n",
       "      <th>Cosponsr</th>\n",
       "      <th>IntrDate</th>\n",
       "      <th>Mult</th>\n",
       "      <th>MultNo</th>\n",
       "      <th>PLaw</th>\n",
       "      <th>...</th>\n",
       "      <th>PLawDate</th>\n",
       "      <th>PLawNum</th>\n",
       "      <th>ImpBill</th>\n",
       "      <th>SubChRef</th>\n",
       "      <th>SubRankRef</th>\n",
       "      <th>Majority</th>\n",
       "      <th>ReportH</th>\n",
       "      <th>ReportS</th>\n",
       "      <th>Major</th>\n",
       "      <th>Minor</th>\n",
       "    </tr>\n",
       "  </thead>\n",
       "  <tbody>\n",
       "    <tr>\n",
       "      <th>293782</th>\n",
       "      <td>114-S-3548</td>\n",
       "      <td>3548</td>\n",
       "      <td>s</td>\n",
       "      <td>1</td>\n",
       "      <td>114</td>\n",
       "      <td>3.0</td>\n",
       "      <td>2016-12-10</td>\n",
       "      <td>0.0</td>\n",
       "      <td>1.0</td>\n",
       "      <td>0</td>\n",
       "      <td>...</td>\n",
       "      <td>0</td>\n",
       "      <td>0</td>\n",
       "      <td>1.0</td>\n",
       "      <td>0.0</td>\n",
       "      <td>0.0</td>\n",
       "      <td>0</td>\n",
       "      <td>0</td>\n",
       "      <td>0</td>\n",
       "      <td>3.0</td>\n",
       "      <td>333.0</td>\n",
       "    </tr>\n",
       "    <tr>\n",
       "      <th>293781</th>\n",
       "      <td>114-S-3547</td>\n",
       "      <td>3547</td>\n",
       "      <td>s</td>\n",
       "      <td>1</td>\n",
       "      <td>114</td>\n",
       "      <td>0.0</td>\n",
       "      <td>2016-12-09</td>\n",
       "      <td>0.0</td>\n",
       "      <td>1.0</td>\n",
       "      <td>0</td>\n",
       "      <td>...</td>\n",
       "      <td>0</td>\n",
       "      <td>0</td>\n",
       "      <td>1.0</td>\n",
       "      <td>0.0</td>\n",
       "      <td>0.0</td>\n",
       "      <td>1</td>\n",
       "      <td>0</td>\n",
       "      <td>0</td>\n",
       "      <td>20.0</td>\n",
       "      <td>2002.0</td>\n",
       "    </tr>\n",
       "    <tr>\n",
       "      <th>293780</th>\n",
       "      <td>114-S-3546</td>\n",
       "      <td>3546</td>\n",
       "      <td>s</td>\n",
       "      <td>1</td>\n",
       "      <td>114</td>\n",
       "      <td>0.0</td>\n",
       "      <td>2016-12-09</td>\n",
       "      <td>0.0</td>\n",
       "      <td>1.0</td>\n",
       "      <td>0</td>\n",
       "      <td>...</td>\n",
       "      <td>0</td>\n",
       "      <td>0</td>\n",
       "      <td>1.0</td>\n",
       "      <td>0.0</td>\n",
       "      <td>0.0</td>\n",
       "      <td>1</td>\n",
       "      <td>0</td>\n",
       "      <td>0</td>\n",
       "      <td>9.0</td>\n",
       "      <td>900.0</td>\n",
       "    </tr>\n",
       "    <tr>\n",
       "      <th>293779</th>\n",
       "      <td>114-S-3545</td>\n",
       "      <td>3545</td>\n",
       "      <td>s</td>\n",
       "      <td>1</td>\n",
       "      <td>114</td>\n",
       "      <td>0.0</td>\n",
       "      <td>2016-12-09</td>\n",
       "      <td>0.0</td>\n",
       "      <td>1.0</td>\n",
       "      <td>0</td>\n",
       "      <td>...</td>\n",
       "      <td>0</td>\n",
       "      <td>0</td>\n",
       "      <td>1.0</td>\n",
       "      <td>0.0</td>\n",
       "      <td>0.0</td>\n",
       "      <td>1</td>\n",
       "      <td>0</td>\n",
       "      <td>0</td>\n",
       "      <td>12.0</td>\n",
       "      <td>1209.0</td>\n",
       "    </tr>\n",
       "    <tr>\n",
       "      <th>293778</th>\n",
       "      <td>114-S-3544</td>\n",
       "      <td>3544</td>\n",
       "      <td>s</td>\n",
       "      <td>1</td>\n",
       "      <td>114</td>\n",
       "      <td>0.0</td>\n",
       "      <td>2016-12-09</td>\n",
       "      <td>0.0</td>\n",
       "      <td>1.0</td>\n",
       "      <td>0</td>\n",
       "      <td>...</td>\n",
       "      <td>0</td>\n",
       "      <td>0</td>\n",
       "      <td>1.0</td>\n",
       "      <td>0.0</td>\n",
       "      <td>0.0</td>\n",
       "      <td>1</td>\n",
       "      <td>0</td>\n",
       "      <td>0</td>\n",
       "      <td>12.0</td>\n",
       "      <td>1209.0</td>\n",
       "    </tr>\n",
       "  </tbody>\n",
       "</table>\n",
       "<p>5 rows × 48 columns</p>\n",
       "</div>"
      ],
      "text/plain": [
       "            BillID  BillNum BillType  Chamber  Cong  Cosponsr    IntrDate  \\\n",
       "293782  114-S-3548     3548        s        1   114       3.0  2016-12-10   \n",
       "293781  114-S-3547     3547        s        1   114       0.0  2016-12-09   \n",
       "293780  114-S-3546     3546        s        1   114       0.0  2016-12-09   \n",
       "293779  114-S-3545     3545        s        1   114       0.0  2016-12-09   \n",
       "293778  114-S-3544     3544        s        1   114       0.0  2016-12-09   \n",
       "\n",
       "        Mult  MultNo  PLaw  ...  PLawDate PLawNum  ImpBill  SubChRef  \\\n",
       "293782   0.0     1.0     0  ...         0       0      1.0       0.0   \n",
       "293781   0.0     1.0     0  ...         0       0      1.0       0.0   \n",
       "293780   0.0     1.0     0  ...         0       0      1.0       0.0   \n",
       "293779   0.0     1.0     0  ...         0       0      1.0       0.0   \n",
       "293778   0.0     1.0     0  ...         0       0      1.0       0.0   \n",
       "\n",
       "        SubRankRef  Majority  ReportH  ReportS  Major   Minor  \n",
       "293782         0.0         0        0        0    3.0   333.0  \n",
       "293781         0.0         1        0        0   20.0  2002.0  \n",
       "293780         0.0         1        0        0    9.0   900.0  \n",
       "293779         0.0         1        0        0   12.0  1209.0  \n",
       "293778         0.0         1        0        0   12.0  1209.0  \n",
       "\n",
       "[5 rows x 48 columns]"
      ]
     },
     "execution_count": 102,
     "metadata": {},
     "output_type": "execute_result"
    }
   ],
   "source": [
    "df.head()"
   ]
  },
  {
   "cell_type": "code",
   "execution_count": 103,
   "metadata": {},
   "outputs": [
    {
     "data": {
      "text/plain": [
       "{'BillID': '114-S-3548',\n",
       " 'BillNum': 3548,\n",
       " 'BillType': 's',\n",
       " 'Chamber': 1,\n",
       " 'Cong': 114,\n",
       " 'Cosponsr': 3.0,\n",
       " 'IntrDate': '2016-12-10',\n",
       " 'Mult': 0.0,\n",
       " 'MultNo': 1.0,\n",
       " 'PLaw': 0,\n",
       " 'Private': 0,\n",
       " 'Title': 'A bill to continue the Medicaid emergency psychiatric demonstration project.',\n",
       " 'Veto': 0,\n",
       " 'Class': 1.0,\n",
       " 'ComC': 0.0,\n",
       " 'ComR': 1.0,\n",
       " 'CumHServ': 7277.0,\n",
       " 'CumSServ': 4382.0,\n",
       " 'Delegate': 0,\n",
       " 'District': 0.0,\n",
       " 'DW1': '-0,33',\n",
       " 'FrstConH': 0.0,\n",
       " 'FrstConS': 0.0,\n",
       " 'Gender': 0,\n",
       " 'MemberID': '15408-114-100',\n",
       " 'MRef': 0,\n",
       " 'NameFirst': 'Benjamin',\n",
       " 'NameFull': 'Benjamin Cardin',\n",
       " 'NameLast': 'Cardin',\n",
       " 'Party': 100.0,\n",
       " 'PooleID': 15408.0,\n",
       " 'Postal': 'MD',\n",
       " 'State': 52,\n",
       " 'URL': 'https://www.congress.gov/bill/114th-congress/senate-bill/3548',\n",
       " 'ChRef': 0,\n",
       " 'RankRef': 0,\n",
       " 'PassH': 0,\n",
       " 'PassS': 0,\n",
       " 'PLawDate': 0,\n",
       " 'PLawNum': 0,\n",
       " 'ImpBill': 1.0,\n",
       " 'SubChRef': 0.0,\n",
       " 'SubRankRef': 0.0,\n",
       " 'Majority': 0,\n",
       " 'ReportH': 0,\n",
       " 'ReportS': 0,\n",
       " 'Major': 3.0,\n",
       " 'Minor': 333.0}"
      ]
     },
     "execution_count": 103,
     "metadata": {},
     "output_type": "execute_result"
    }
   ],
   "source": [
    "#Test - Convert to dictionary format\n",
    "final = df.to_dict(orient = 'records')\n",
    "final[0]"
   ]
  },
  {
   "cell_type": "code",
   "execution_count": 116,
   "metadata": {},
   "outputs": [
    {
     "data": {
      "text/plain": [
       "{'BillID': '112-HR-3038',\n",
       " 'BillNum': 3038,\n",
       " 'BillType': 'hr',\n",
       " 'Chamber': 0,\n",
       " 'Cong': 112,\n",
       " 'Cosponsr': 0.0,\n",
       " 'IntrDate': '9/23/2011',\n",
       " 'Mult': 0.0,\n",
       " 'MultNo': 0.0,\n",
       " 'PLaw': 0,\n",
       " 'Private': 0,\n",
       " 'Title': 'To amend title 49, United States Code, to direct the Secretary of Homeland Security to approve applications submitted by airport operators for participation in the security screening opt-out program, and for other purposes.',\n",
       " 'Veto': 0,\n",
       " 'Class': 0.0,\n",
       " 'ComC': 0.0,\n",
       " 'ComR': 0.0,\n",
       " 'CumHServ': 2190.0,\n",
       " 'CumSServ': 0.0,\n",
       " 'Delegate': 0,\n",
       " 'District': 24.0,\n",
       " 'DW1': '0,713',\n",
       " 'FrstConH': 109.0,\n",
       " 'FrstConS': 0.0,\n",
       " 'Gender': 0,\n",
       " 'MemberID': '20532-112-200',\n",
       " 'MRef': 0,\n",
       " 'NameFirst': 'Kenny',\n",
       " 'NameFull': 'Kenny Ewell Marchant',\n",
       " 'NameLast': 'Marchant',\n",
       " 'Party': 200.0,\n",
       " 'PooleID': 20532.0,\n",
       " 'Postal': 'TX',\n",
       " 'State': 49,\n",
       " 'URL': '',\n",
       " 'ChRef': 0,\n",
       " 'RankRef': 0,\n",
       " 'PassH': 0,\n",
       " 'PassS': 0,\n",
       " 'PLawDate': 0,\n",
       " 'PLawNum': 0,\n",
       " 'ImpBill': nan,\n",
       " 'SubChRef': 0.0,\n",
       " 'SubRankRef': 0.0,\n",
       " 'Majority': 1,\n",
       " 'ReportH': 0,\n",
       " 'ReportS': 0,\n",
       " 'Major': 10.0,\n",
       " 'Minor': 1003.0}"
      ]
     },
     "execution_count": 116,
     "metadata": {},
     "output_type": "execute_result"
    }
   ],
   "source": [
    "completed = 22634\n",
    "errored = 3\n",
    "next_index = completed + errored\n",
    "remaining_final = final[next_index:-1]"
   ]
  },
  {
   "cell_type": "code",
   "execution_count": 51,
   "metadata": {
    "collapsed": true
   },
   "outputs": [
    {
     "name": "stdout",
     "output_type": "stream",
     "text": [
      "https://www.congress.gov/bill/112th-congress/senate-bill/1629\n"
     ]
    },
    {
     "ename": "MissingSchema",
     "evalue": "Invalid URL 'nan': No schema supplied. Perhaps you meant http://nan?",
     "output_type": "error",
     "traceback": [
      "\u001b[0;31m---------------------------------------------------------------------------\u001b[0m",
      "\u001b[0;31mMissingSchema\u001b[0m                             Traceback (most recent call last)",
      "\u001b[0;32m<ipython-input-51-6079a48f2ea8>\u001b[0m in \u001b[0;36m<module>\u001b[0;34m\u001b[0m\n\u001b[1;32m      1\u001b[0m \u001b[0;32mfor\u001b[0m \u001b[0mbill\u001b[0m \u001b[0;32min\u001b[0m \u001b[0mremaining_final\u001b[0m\u001b[0;34m:\u001b[0m\u001b[0;34m\u001b[0m\u001b[0;34m\u001b[0m\u001b[0m\n\u001b[0;32m----> 2\u001b[0;31m     \u001b[0mbill\u001b[0m\u001b[0;34m[\u001b[0m\u001b[0;34m'Summary'\u001b[0m\u001b[0;34m]\u001b[0m \u001b[0;34m=\u001b[0m \u001b[0mscraper\u001b[0m\u001b[0;34m(\u001b[0m\u001b[0mbill\u001b[0m\u001b[0;34m[\u001b[0m\u001b[0;34m'URL'\u001b[0m\u001b[0;34m]\u001b[0m\u001b[0;34m)\u001b[0m\u001b[0;34m\u001b[0m\u001b[0;34m\u001b[0m\u001b[0m\n\u001b[0m\u001b[1;32m      3\u001b[0m     \u001b[0mquery\u001b[0m \u001b[0;34m=\u001b[0m \u001b[0mdb\u001b[0m\u001b[0;34m.\u001b[0m\u001b[0minsert\u001b[0m\u001b[0;34m(\u001b[0m\u001b[0mcurrent_bills_table\u001b[0m\u001b[0;34m)\u001b[0m\u001b[0;34m\u001b[0m\u001b[0;34m\u001b[0m\u001b[0m\n\u001b[1;32m      4\u001b[0m     \u001b[0mconnection\u001b[0m\u001b[0;34m.\u001b[0m\u001b[0mexecute\u001b[0m\u001b[0;34m(\u001b[0m\u001b[0mquery\u001b[0m\u001b[0;34m,\u001b[0m \u001b[0mbill\u001b[0m\u001b[0;34m)\u001b[0m\u001b[0;34m\u001b[0m\u001b[0;34m\u001b[0m\u001b[0m\n",
      "\u001b[0;32m<ipython-input-5-3304c6d2db86>\u001b[0m in \u001b[0;36mscraper\u001b[0;34m(url)\u001b[0m\n\u001b[1;32m      3\u001b[0m \u001b[0;32mdef\u001b[0m \u001b[0mscraper\u001b[0m\u001b[0;34m(\u001b[0m\u001b[0murl\u001b[0m\u001b[0;34m)\u001b[0m\u001b[0;34m:\u001b[0m\u001b[0;34m\u001b[0m\u001b[0;34m\u001b[0m\u001b[0m\n\u001b[1;32m      4\u001b[0m \u001b[0;34m\u001b[0m\u001b[0m\n\u001b[0;32m----> 5\u001b[0;31m     \u001b[0mresponse\u001b[0m \u001b[0;34m=\u001b[0m \u001b[0mrequests\u001b[0m\u001b[0;34m.\u001b[0m\u001b[0mget\u001b[0m\u001b[0;34m(\u001b[0m\u001b[0murl\u001b[0m\u001b[0;34m)\u001b[0m\u001b[0;34m\u001b[0m\u001b[0;34m\u001b[0m\u001b[0m\n\u001b[0m\u001b[1;32m      6\u001b[0m     \u001b[0msoup\u001b[0m \u001b[0;34m=\u001b[0m \u001b[0mBS\u001b[0m\u001b[0;34m(\u001b[0m\u001b[0mresponse\u001b[0m\u001b[0;34m.\u001b[0m\u001b[0mcontent\u001b[0m\u001b[0;34m,\u001b[0m \u001b[0;34m\"html.parser\"\u001b[0m\u001b[0;34m)\u001b[0m\u001b[0;34m\u001b[0m\u001b[0;34m\u001b[0m\u001b[0m\n\u001b[1;32m      7\u001b[0m     \u001b[0msoup\u001b[0m\u001b[0;34m.\u001b[0m\u001b[0mprettify\u001b[0m\u001b[0;34m(\u001b[0m\u001b[0;34m)\u001b[0m\u001b[0;34m\u001b[0m\u001b[0;34m\u001b[0m\u001b[0m\n",
      "\u001b[0;32m~/anaconda3/lib/python3.7/site-packages/requests/api.py\u001b[0m in \u001b[0;36mget\u001b[0;34m(url, params, **kwargs)\u001b[0m\n\u001b[1;32m     73\u001b[0m \u001b[0;34m\u001b[0m\u001b[0m\n\u001b[1;32m     74\u001b[0m     \u001b[0mkwargs\u001b[0m\u001b[0;34m.\u001b[0m\u001b[0msetdefault\u001b[0m\u001b[0;34m(\u001b[0m\u001b[0;34m'allow_redirects'\u001b[0m\u001b[0;34m,\u001b[0m \u001b[0;32mTrue\u001b[0m\u001b[0;34m)\u001b[0m\u001b[0;34m\u001b[0m\u001b[0;34m\u001b[0m\u001b[0m\n\u001b[0;32m---> 75\u001b[0;31m     \u001b[0;32mreturn\u001b[0m \u001b[0mrequest\u001b[0m\u001b[0;34m(\u001b[0m\u001b[0;34m'get'\u001b[0m\u001b[0;34m,\u001b[0m \u001b[0murl\u001b[0m\u001b[0;34m,\u001b[0m \u001b[0mparams\u001b[0m\u001b[0;34m=\u001b[0m\u001b[0mparams\u001b[0m\u001b[0;34m,\u001b[0m \u001b[0;34m**\u001b[0m\u001b[0mkwargs\u001b[0m\u001b[0;34m)\u001b[0m\u001b[0;34m\u001b[0m\u001b[0;34m\u001b[0m\u001b[0m\n\u001b[0m\u001b[1;32m     76\u001b[0m \u001b[0;34m\u001b[0m\u001b[0m\n\u001b[1;32m     77\u001b[0m \u001b[0;34m\u001b[0m\u001b[0m\n",
      "\u001b[0;32m~/anaconda3/lib/python3.7/site-packages/requests/api.py\u001b[0m in \u001b[0;36mrequest\u001b[0;34m(method, url, **kwargs)\u001b[0m\n\u001b[1;32m     58\u001b[0m     \u001b[0;31m# cases, and look like a memory leak in others.\u001b[0m\u001b[0;34m\u001b[0m\u001b[0;34m\u001b[0m\u001b[0;34m\u001b[0m\u001b[0m\n\u001b[1;32m     59\u001b[0m     \u001b[0;32mwith\u001b[0m \u001b[0msessions\u001b[0m\u001b[0;34m.\u001b[0m\u001b[0mSession\u001b[0m\u001b[0;34m(\u001b[0m\u001b[0;34m)\u001b[0m \u001b[0;32mas\u001b[0m \u001b[0msession\u001b[0m\u001b[0;34m:\u001b[0m\u001b[0;34m\u001b[0m\u001b[0;34m\u001b[0m\u001b[0m\n\u001b[0;32m---> 60\u001b[0;31m         \u001b[0;32mreturn\u001b[0m \u001b[0msession\u001b[0m\u001b[0;34m.\u001b[0m\u001b[0mrequest\u001b[0m\u001b[0;34m(\u001b[0m\u001b[0mmethod\u001b[0m\u001b[0;34m=\u001b[0m\u001b[0mmethod\u001b[0m\u001b[0;34m,\u001b[0m \u001b[0murl\u001b[0m\u001b[0;34m=\u001b[0m\u001b[0murl\u001b[0m\u001b[0;34m,\u001b[0m \u001b[0;34m**\u001b[0m\u001b[0mkwargs\u001b[0m\u001b[0;34m)\u001b[0m\u001b[0;34m\u001b[0m\u001b[0;34m\u001b[0m\u001b[0m\n\u001b[0m\u001b[1;32m     61\u001b[0m \u001b[0;34m\u001b[0m\u001b[0m\n\u001b[1;32m     62\u001b[0m \u001b[0;34m\u001b[0m\u001b[0m\n",
      "\u001b[0;32m~/anaconda3/lib/python3.7/site-packages/requests/sessions.py\u001b[0m in \u001b[0;36mrequest\u001b[0;34m(self, method, url, params, data, headers, cookies, files, auth, timeout, allow_redirects, proxies, hooks, stream, verify, cert, json)\u001b[0m\n\u001b[1;32m    517\u001b[0m             \u001b[0mhooks\u001b[0m\u001b[0;34m=\u001b[0m\u001b[0mhooks\u001b[0m\u001b[0;34m,\u001b[0m\u001b[0;34m\u001b[0m\u001b[0;34m\u001b[0m\u001b[0m\n\u001b[1;32m    518\u001b[0m         )\n\u001b[0;32m--> 519\u001b[0;31m         \u001b[0mprep\u001b[0m \u001b[0;34m=\u001b[0m \u001b[0mself\u001b[0m\u001b[0;34m.\u001b[0m\u001b[0mprepare_request\u001b[0m\u001b[0;34m(\u001b[0m\u001b[0mreq\u001b[0m\u001b[0;34m)\u001b[0m\u001b[0;34m\u001b[0m\u001b[0;34m\u001b[0m\u001b[0m\n\u001b[0m\u001b[1;32m    520\u001b[0m \u001b[0;34m\u001b[0m\u001b[0m\n\u001b[1;32m    521\u001b[0m         \u001b[0mproxies\u001b[0m \u001b[0;34m=\u001b[0m \u001b[0mproxies\u001b[0m \u001b[0;32mor\u001b[0m \u001b[0;34m{\u001b[0m\u001b[0;34m}\u001b[0m\u001b[0;34m\u001b[0m\u001b[0;34m\u001b[0m\u001b[0m\n",
      "\u001b[0;32m~/anaconda3/lib/python3.7/site-packages/requests/sessions.py\u001b[0m in \u001b[0;36mprepare_request\u001b[0;34m(self, request)\u001b[0m\n\u001b[1;32m    460\u001b[0m             \u001b[0mauth\u001b[0m\u001b[0;34m=\u001b[0m\u001b[0mmerge_setting\u001b[0m\u001b[0;34m(\u001b[0m\u001b[0mauth\u001b[0m\u001b[0;34m,\u001b[0m \u001b[0mself\u001b[0m\u001b[0;34m.\u001b[0m\u001b[0mauth\u001b[0m\u001b[0;34m)\u001b[0m\u001b[0;34m,\u001b[0m\u001b[0;34m\u001b[0m\u001b[0;34m\u001b[0m\u001b[0m\n\u001b[1;32m    461\u001b[0m             \u001b[0mcookies\u001b[0m\u001b[0;34m=\u001b[0m\u001b[0mmerged_cookies\u001b[0m\u001b[0;34m,\u001b[0m\u001b[0;34m\u001b[0m\u001b[0;34m\u001b[0m\u001b[0m\n\u001b[0;32m--> 462\u001b[0;31m             \u001b[0mhooks\u001b[0m\u001b[0;34m=\u001b[0m\u001b[0mmerge_hooks\u001b[0m\u001b[0;34m(\u001b[0m\u001b[0mrequest\u001b[0m\u001b[0;34m.\u001b[0m\u001b[0mhooks\u001b[0m\u001b[0;34m,\u001b[0m \u001b[0mself\u001b[0m\u001b[0;34m.\u001b[0m\u001b[0mhooks\u001b[0m\u001b[0;34m)\u001b[0m\u001b[0;34m,\u001b[0m\u001b[0;34m\u001b[0m\u001b[0;34m\u001b[0m\u001b[0m\n\u001b[0m\u001b[1;32m    463\u001b[0m         )\n\u001b[1;32m    464\u001b[0m         \u001b[0;32mreturn\u001b[0m \u001b[0mp\u001b[0m\u001b[0;34m\u001b[0m\u001b[0;34m\u001b[0m\u001b[0m\n",
      "\u001b[0;32m~/anaconda3/lib/python3.7/site-packages/requests/models.py\u001b[0m in \u001b[0;36mprepare\u001b[0;34m(self, method, url, headers, files, data, params, auth, cookies, hooks, json)\u001b[0m\n\u001b[1;32m    311\u001b[0m \u001b[0;34m\u001b[0m\u001b[0m\n\u001b[1;32m    312\u001b[0m         \u001b[0mself\u001b[0m\u001b[0;34m.\u001b[0m\u001b[0mprepare_method\u001b[0m\u001b[0;34m(\u001b[0m\u001b[0mmethod\u001b[0m\u001b[0;34m)\u001b[0m\u001b[0;34m\u001b[0m\u001b[0;34m\u001b[0m\u001b[0m\n\u001b[0;32m--> 313\u001b[0;31m         \u001b[0mself\u001b[0m\u001b[0;34m.\u001b[0m\u001b[0mprepare_url\u001b[0m\u001b[0;34m(\u001b[0m\u001b[0murl\u001b[0m\u001b[0;34m,\u001b[0m \u001b[0mparams\u001b[0m\u001b[0;34m)\u001b[0m\u001b[0;34m\u001b[0m\u001b[0;34m\u001b[0m\u001b[0m\n\u001b[0m\u001b[1;32m    314\u001b[0m         \u001b[0mself\u001b[0m\u001b[0;34m.\u001b[0m\u001b[0mprepare_headers\u001b[0m\u001b[0;34m(\u001b[0m\u001b[0mheaders\u001b[0m\u001b[0;34m)\u001b[0m\u001b[0;34m\u001b[0m\u001b[0;34m\u001b[0m\u001b[0m\n\u001b[1;32m    315\u001b[0m         \u001b[0mself\u001b[0m\u001b[0;34m.\u001b[0m\u001b[0mprepare_cookies\u001b[0m\u001b[0;34m(\u001b[0m\u001b[0mcookies\u001b[0m\u001b[0;34m)\u001b[0m\u001b[0;34m\u001b[0m\u001b[0;34m\u001b[0m\u001b[0m\n",
      "\u001b[0;32m~/anaconda3/lib/python3.7/site-packages/requests/models.py\u001b[0m in \u001b[0;36mprepare_url\u001b[0;34m(self, url, params)\u001b[0m\n\u001b[1;32m    385\u001b[0m             \u001b[0merror\u001b[0m \u001b[0;34m=\u001b[0m \u001b[0merror\u001b[0m\u001b[0;34m.\u001b[0m\u001b[0mformat\u001b[0m\u001b[0;34m(\u001b[0m\u001b[0mto_native_string\u001b[0m\u001b[0;34m(\u001b[0m\u001b[0murl\u001b[0m\u001b[0;34m,\u001b[0m \u001b[0;34m'utf8'\u001b[0m\u001b[0;34m)\u001b[0m\u001b[0;34m)\u001b[0m\u001b[0;34m\u001b[0m\u001b[0;34m\u001b[0m\u001b[0m\n\u001b[1;32m    386\u001b[0m \u001b[0;34m\u001b[0m\u001b[0m\n\u001b[0;32m--> 387\u001b[0;31m             \u001b[0;32mraise\u001b[0m \u001b[0mMissingSchema\u001b[0m\u001b[0;34m(\u001b[0m\u001b[0merror\u001b[0m\u001b[0;34m)\u001b[0m\u001b[0;34m\u001b[0m\u001b[0;34m\u001b[0m\u001b[0m\n\u001b[0m\u001b[1;32m    388\u001b[0m \u001b[0;34m\u001b[0m\u001b[0m\n\u001b[1;32m    389\u001b[0m         \u001b[0;32mif\u001b[0m \u001b[0;32mnot\u001b[0m \u001b[0mhost\u001b[0m\u001b[0;34m:\u001b[0m\u001b[0;34m\u001b[0m\u001b[0;34m\u001b[0m\u001b[0m\n",
      "\u001b[0;31mMissingSchema\u001b[0m: Invalid URL 'nan': No schema supplied. Perhaps you meant http://nan?"
     ]
    }
   ],
   "source": [
    "for bill in remaining_final:\n",
    "    if bill['URL'] == '':\n",
    "        print('No URL for: ', bill['BillID'])\n",
    "    else:\n",
    "        bill['Summary'] = scraper(bill['URL'])\n",
    "        \n",
    "    query = db.insert(current_bills_table)\n",
    "    connection.execute(query, bill)"
   ]
  },
  {
   "cell_type": "code",
   "execution_count": 24,
   "metadata": {},
   "outputs": [],
   "source": [
    "# query = db.insert(bills)"
   ]
  },
  {
   "cell_type": "code",
   "execution_count": 25,
   "metadata": {},
   "outputs": [],
   "source": [
    "# connection.execute(query, final)"
   ]
  },
  {
   "cell_type": "code",
   "execution_count": 26,
   "metadata": {},
   "outputs": [],
   "source": [
    "# Stopped at 17778\n",
    "\n",
    "#use reversed(final) to start from the other side."
   ]
  }
 ],
 "metadata": {
  "kernelspec": {
   "display_name": "Python 3",
   "language": "python",
   "name": "python3"
  },
  "language_info": {
   "codemirror_mode": {
    "name": "ipython",
    "version": 3
   },
   "file_extension": ".py",
   "mimetype": "text/x-python",
   "name": "python",
   "nbconvert_exporter": "python",
   "pygments_lexer": "ipython3",
   "version": "3.7.3"
  }
 },
 "nbformat": 4,
 "nbformat_minor": 2
}
