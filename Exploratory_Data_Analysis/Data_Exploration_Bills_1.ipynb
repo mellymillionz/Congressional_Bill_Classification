{
 "cells": [
  {
   "cell_type": "markdown",
   "metadata": {},
   "source": [
    "# Data Exploration and Analysis: Part 1"
   ]
  },
  {
   "cell_type": "code",
   "execution_count": 4,
   "metadata": {},
   "outputs": [],
   "source": [
    "import numpy as np\n",
    "import pandas as pd\n",
    "import config_final\n",
    "import requests\n",
    "from sodapy import Socrata"
   ]
  },
  {
   "cell_type": "code",
   "execution_count": 5,
   "metadata": {},
   "outputs": [],
   "source": [
    "#config_final.gov_key"
   ]
  },
  {
   "cell_type": "code",
   "execution_count": 6,
   "metadata": {},
   "outputs": [],
   "source": [
    "df = pd.read_csv('bills93-114.csv', sep=\";\", encoding='latin-1')"
   ]
  },
  {
   "cell_type": "code",
   "execution_count": 7,
   "metadata": {},
   "outputs": [
    {
     "data": {
      "text/html": [
       "<div>\n",
       "<style scoped>\n",
       "    .dataframe tbody tr th:only-of-type {\n",
       "        vertical-align: middle;\n",
       "    }\n",
       "\n",
       "    .dataframe tbody tr th {\n",
       "        vertical-align: top;\n",
       "    }\n",
       "\n",
       "    .dataframe thead th {\n",
       "        text-align: right;\n",
       "    }\n",
       "</style>\n",
       "<table border=\"1\" class=\"dataframe\">\n",
       "  <thead>\n",
       "    <tr style=\"text-align: right;\">\n",
       "      <th></th>\n",
       "      <th>BillID</th>\n",
       "      <th>BillNum</th>\n",
       "      <th>BillType</th>\n",
       "      <th>Chamber</th>\n",
       "      <th>Cong</th>\n",
       "      <th>Cosponsr</th>\n",
       "      <th>IntrDate</th>\n",
       "      <th>Mult</th>\n",
       "      <th>MultNo</th>\n",
       "      <th>PLaw</th>\n",
       "      <th>...</th>\n",
       "      <th>PLawDate</th>\n",
       "      <th>PLawNum</th>\n",
       "      <th>ImpBill</th>\n",
       "      <th>SubChRef</th>\n",
       "      <th>SubRankRef</th>\n",
       "      <th>Majority</th>\n",
       "      <th>ReportH</th>\n",
       "      <th>ReportS</th>\n",
       "      <th>Major</th>\n",
       "      <th>Minor</th>\n",
       "    </tr>\n",
       "  </thead>\n",
       "  <tbody>\n",
       "    <tr>\n",
       "      <th>0</th>\n",
       "      <td>93-HCONRES-1</td>\n",
       "      <td>1</td>\n",
       "      <td>hconres</td>\n",
       "      <td>0</td>\n",
       "      <td>93</td>\n",
       "      <td>0.0</td>\n",
       "      <td>1973-01-03</td>\n",
       "      <td>0.0</td>\n",
       "      <td>1.0</td>\n",
       "      <td>0</td>\n",
       "      <td>...</td>\n",
       "      <td>NaN</td>\n",
       "      <td>NaN</td>\n",
       "      <td>0.0</td>\n",
       "      <td>NaN</td>\n",
       "      <td>NaN</td>\n",
       "      <td>1</td>\n",
       "      <td>0</td>\n",
       "      <td>0</td>\n",
       "      <td>NaN</td>\n",
       "      <td>NaN</td>\n",
       "    </tr>\n",
       "    <tr>\n",
       "      <th>1</th>\n",
       "      <td>93-HCONRES-2</td>\n",
       "      <td>2</td>\n",
       "      <td>hconres</td>\n",
       "      <td>0</td>\n",
       "      <td>93</td>\n",
       "      <td>0.0</td>\n",
       "      <td>1973-01-03</td>\n",
       "      <td>0.0</td>\n",
       "      <td>1.0</td>\n",
       "      <td>0</td>\n",
       "      <td>...</td>\n",
       "      <td>NaN</td>\n",
       "      <td>NaN</td>\n",
       "      <td>0.0</td>\n",
       "      <td>NaN</td>\n",
       "      <td>NaN</td>\n",
       "      <td>1</td>\n",
       "      <td>0</td>\n",
       "      <td>0</td>\n",
       "      <td>NaN</td>\n",
       "      <td>NaN</td>\n",
       "    </tr>\n",
       "    <tr>\n",
       "      <th>2</th>\n",
       "      <td>93-HCONRES-3</td>\n",
       "      <td>3</td>\n",
       "      <td>hconres</td>\n",
       "      <td>0</td>\n",
       "      <td>93</td>\n",
       "      <td>0.0</td>\n",
       "      <td>1973-01-03</td>\n",
       "      <td>0.0</td>\n",
       "      <td>1.0</td>\n",
       "      <td>0</td>\n",
       "      <td>...</td>\n",
       "      <td>NaN</td>\n",
       "      <td>NaN</td>\n",
       "      <td>0.0</td>\n",
       "      <td>NaN</td>\n",
       "      <td>NaN</td>\n",
       "      <td>1</td>\n",
       "      <td>0</td>\n",
       "      <td>0</td>\n",
       "      <td>NaN</td>\n",
       "      <td>NaN</td>\n",
       "    </tr>\n",
       "    <tr>\n",
       "      <th>3</th>\n",
       "      <td>93-HCONRES-4</td>\n",
       "      <td>4</td>\n",
       "      <td>hconres</td>\n",
       "      <td>0</td>\n",
       "      <td>93</td>\n",
       "      <td>0.0</td>\n",
       "      <td>1973-01-03</td>\n",
       "      <td>0.0</td>\n",
       "      <td>1.0</td>\n",
       "      <td>0</td>\n",
       "      <td>...</td>\n",
       "      <td>NaN</td>\n",
       "      <td>NaN</td>\n",
       "      <td>0.0</td>\n",
       "      <td>NaN</td>\n",
       "      <td>NaN</td>\n",
       "      <td>0</td>\n",
       "      <td>0</td>\n",
       "      <td>0</td>\n",
       "      <td>NaN</td>\n",
       "      <td>NaN</td>\n",
       "    </tr>\n",
       "    <tr>\n",
       "      <th>4</th>\n",
       "      <td>93-HCONRES-5</td>\n",
       "      <td>5</td>\n",
       "      <td>hconres</td>\n",
       "      <td>0</td>\n",
       "      <td>93</td>\n",
       "      <td>0.0</td>\n",
       "      <td>1973-01-03</td>\n",
       "      <td>0.0</td>\n",
       "      <td>1.0</td>\n",
       "      <td>0</td>\n",
       "      <td>...</td>\n",
       "      <td>NaN</td>\n",
       "      <td>NaN</td>\n",
       "      <td>0.0</td>\n",
       "      <td>NaN</td>\n",
       "      <td>NaN</td>\n",
       "      <td>0</td>\n",
       "      <td>0</td>\n",
       "      <td>0</td>\n",
       "      <td>NaN</td>\n",
       "      <td>NaN</td>\n",
       "    </tr>\n",
       "  </tbody>\n",
       "</table>\n",
       "<p>5 rows × 48 columns</p>\n",
       "</div>"
      ],
      "text/plain": [
       "         BillID  BillNum BillType  Chamber  Cong  Cosponsr    IntrDate  Mult  \\\n",
       "0  93-HCONRES-1        1  hconres        0    93       0.0  1973-01-03   0.0   \n",
       "1  93-HCONRES-2        2  hconres        0    93       0.0  1973-01-03   0.0   \n",
       "2  93-HCONRES-3        3  hconres        0    93       0.0  1973-01-03   0.0   \n",
       "3  93-HCONRES-4        4  hconres        0    93       0.0  1973-01-03   0.0   \n",
       "4  93-HCONRES-5        5  hconres        0    93       0.0  1973-01-03   0.0   \n",
       "\n",
       "   MultNo  PLaw  ...  PLawDate PLawNum  ImpBill  SubChRef  SubRankRef  \\\n",
       "0     1.0     0  ...       NaN     NaN      0.0       NaN         NaN   \n",
       "1     1.0     0  ...       NaN     NaN      0.0       NaN         NaN   \n",
       "2     1.0     0  ...       NaN     NaN      0.0       NaN         NaN   \n",
       "3     1.0     0  ...       NaN     NaN      0.0       NaN         NaN   \n",
       "4     1.0     0  ...       NaN     NaN      0.0       NaN         NaN   \n",
       "\n",
       "   Majority  ReportH  ReportS  Major  Minor  \n",
       "0         1        0        0    NaN    NaN  \n",
       "1         1        0        0    NaN    NaN  \n",
       "2         1        0        0    NaN    NaN  \n",
       "3         0        0        0    NaN    NaN  \n",
       "4         0        0        0    NaN    NaN  \n",
       "\n",
       "[5 rows x 48 columns]"
      ]
     },
     "execution_count": 7,
     "metadata": {},
     "output_type": "execute_result"
    }
   ],
   "source": [
    "df.head()"
   ]
  },
  {
   "cell_type": "code",
   "execution_count": 5,
   "metadata": {},
   "outputs": [
    {
     "data": {
      "text/plain": [
       "(294524, 48)"
      ]
     },
     "execution_count": 5,
     "metadata": {},
     "output_type": "execute_result"
    }
   ],
   "source": [
    "df.shape"
   ]
  },
  {
   "cell_type": "code",
   "execution_count": 1,
   "metadata": {},
   "outputs": [
    {
     "ename": "NameError",
     "evalue": "name 'df' is not defined",
     "output_type": "error",
     "traceback": [
      "\u001b[0;31m---------------------------------------------------------------------------\u001b[0m",
      "\u001b[0;31mNameError\u001b[0m                                 Traceback (most recent call last)",
      "\u001b[0;32m<ipython-input-1-a74c58233b9e>\u001b[0m in \u001b[0;36m<module>\u001b[0;34m\u001b[0m\n\u001b[0;32m----> 1\u001b[0;31m \u001b[0mdf\u001b[0m\u001b[0;34m.\u001b[0m\u001b[0minfo\u001b[0m\u001b[0;34m(\u001b[0m\u001b[0;34m)\u001b[0m\u001b[0;34m\u001b[0m\u001b[0;34m\u001b[0m\u001b[0m\n\u001b[0m",
      "\u001b[0;31mNameError\u001b[0m: name 'df' is not defined"
     ]
    }
   ],
   "source": [
    "df.info()"
   ]
  },
  {
   "cell_type": "code",
   "execution_count": 7,
   "metadata": {},
   "outputs": [
    {
     "data": {
      "text/plain": [
       "BillID             0\n",
       "BillNum            0\n",
       "BillType           0\n",
       "Chamber            0\n",
       "Cong               0\n",
       "Cosponsr          39\n",
       "IntrDate           0\n",
       "Mult              39\n",
       "MultNo            39\n",
       "PLaw               0\n",
       "Private            0\n",
       "Title              0\n",
       "Veto               0\n",
       "Class         204037\n",
       "ComC              39\n",
       "ComR              39\n",
       "CumHServ          39\n",
       "CumSServ          39\n",
       "Delegate           0\n",
       "District          39\n",
       "DW1              239\n",
       "FrstConH          39\n",
       "FrstConS          39\n",
       "Gender             0\n",
       "MemberID           2\n",
       "MRef               0\n",
       "NameFirst          0\n",
       "NameFull           0\n",
       "NameLast           0\n",
       "Party             32\n",
       "PooleID         1894\n",
       "Postal             0\n",
       "State              0\n",
       "URL              188\n",
       "ChRef              0\n",
       "RankRef            0\n",
       "PassH              0\n",
       "PassS              0\n",
       "PLawDate      282924\n",
       "PLawNum       282534\n",
       "ImpBill          188\n",
       "SubChRef       53327\n",
       "SubRankRef     53327\n",
       "Majority           0\n",
       "ReportH            0\n",
       "ReportS            0\n",
       "Major          56866\n",
       "Minor          56868\n",
       "dtype: int64"
      ]
     },
     "execution_count": 7,
     "metadata": {},
     "output_type": "execute_result"
    }
   ],
   "source": [
    "# df.isnull().sum()"
   ]
  },
  {
   "cell_type": "markdown",
   "metadata": {},
   "source": [
    "# **Links to Bill URL**\n",
    "\n",
    "**Contains**: Url links only\n",
    "\n",
    "**Plan**: Convert all the urls into a list for webscraping bill summaries.\n",
    "\n"
   ]
  },
  {
   "cell_type": "code",
   "execution_count": 8,
   "metadata": {
    "scrolled": true
   },
   "outputs": [
    {
     "data": {
      "text/plain": [
       "294519    https://www.congress.gov/bill/114th-congress/s...\n",
       "294520    https://www.congress.gov/bill/114th-congress/s...\n",
       "294521    https://www.congress.gov/bill/114th-congress/s...\n",
       "294522    https://www.congress.gov/bill/114th-congress/s...\n",
       "294523    https://www.congress.gov/bill/114th-congress/s...\n",
       "Name: URL, dtype: object"
      ]
     },
     "execution_count": 8,
     "metadata": {},
     "output_type": "execute_result"
    }
   ],
   "source": [
    "df['URL'].tail()"
   ]
  },
  {
   "cell_type": "code",
   "execution_count": 9,
   "metadata": {},
   "outputs": [
    {
     "data": {
      "text/plain": [
       "['https://www.congress.gov/bill/93th-congress/house-concurrent-resolution/1',\n",
       " 'https://www.congress.gov/bill/93th-congress/house-concurrent-resolution/2',\n",
       " 'https://www.congress.gov/bill/93th-congress/house-concurrent-resolution/3',\n",
       " 'https://www.congress.gov/bill/93th-congress/house-concurrent-resolution/4',\n",
       " 'https://www.congress.gov/bill/93th-congress/house-concurrent-resolution/5']"
      ]
     },
     "execution_count": 9,
     "metadata": {},
     "output_type": "execute_result"
    }
   ],
   "source": [
    "url_list = df['URL'].to_list()\n",
    "url_list[0:5]"
   ]
  },
  {
   "cell_type": "markdown",
   "metadata": {},
   "source": [
    "# Unique Identifiers: Bill ID\n",
    "    \n",
    "- need to remove two duplicate entries"
   ]
  },
  {
   "cell_type": "code",
   "execution_count": 10,
   "metadata": {
    "scrolled": true
   },
   "outputs": [
    {
     "data": {
      "text/plain": [
       "107-HR-5715        4\n",
       "107-S-3051         2\n",
       "101-HR-928         1\n",
       "107-HR-3231        1\n",
       "106-HCONRES-180    1\n",
       "Name: BillID, dtype: int64"
      ]
     },
     "execution_count": 10,
     "metadata": {},
     "output_type": "execute_result"
    }
   ],
   "source": [
    "#maybe need to remoe the two bills with mulptiple IDs\n",
    "df['BillID'].value_counts().head()"
   ]
  },
  {
   "cell_type": "code",
   "execution_count": 11,
   "metadata": {},
   "outputs": [
    {
     "data": {
      "text/plain": [
       "4812.0     1794\n",
       "12042.0    1391\n",
       "14503.0    1344\n",
       "0.0        1307\n",
       "10808.0    1200\n",
       "Name: PooleID, dtype: int64"
      ]
     },
     "execution_count": 11,
     "metadata": {},
     "output_type": "execute_result"
    }
   ],
   "source": [
    "#Poole's revised ICPSR number, which is a unique ID for every Congressperson\n",
    "#May not be necessary - revisit!\n",
    "df['PooleID'].value_counts().head()"
   ]
  },
  {
   "cell_type": "markdown",
   "metadata": {},
   "source": [
    "# Remove Columns:\n",
    "\n",
    "- Private\n",
    "- State\n",
    "- FirstName\n",
    "- LastName"
   ]
  },
  {
   "cell_type": "code",
   "execution_count": 12,
   "metadata": {},
   "outputs": [
    {
     "data": {
      "text/plain": [
       "0    292994\n",
       "1      1530\n",
       "Name: Private, dtype: int64"
      ]
     },
     "execution_count": 12,
     "metadata": {},
     "output_type": "execute_result"
    }
   ],
   "source": [
    "#whether it was a \"Private\" bill. These no longer happend.\n",
    "#Plan: DROP\n",
    "df['Private'].value_counts()"
   ]
  },
  {
   "cell_type": "code",
   "execution_count": 13,
   "metadata": {},
   "outputs": [
    {
     "data": {
      "text/plain": [
       "71    27087\n",
       "13    25238\n",
       "49    13516\n",
       "43    12672\n",
       "21    12367\n",
       "Name: State, dtype: int64"
      ]
     },
     "execution_count": 13,
     "metadata": {},
     "output_type": "execute_result"
    }
   ],
   "source": [
    "#Corresponds to a number\n",
    "#Remove b/c collinearity with \"Postal\"\n",
    "df['State'].value_counts().head()"
   ]
  },
  {
   "cell_type": "code",
   "execution_count": 14,
   "metadata": {},
   "outputs": [
    {
     "data": {
      "text/plain": [
       "0           O'Neill\n",
       "1           Bennett\n",
       "2           Bennett\n",
       "3           Collier\n",
       "4           Collier\n",
       "5             Davis\n",
       "6             Flynt\n",
       "7             Green\n",
       "8             Green\n",
       "9            Hosmer\n",
       "10           Rarick\n",
       "11           Rarick\n",
       "12           Rarick\n",
       "13           Rarick\n",
       "14           Veysey\n",
       "15            Abzug\n",
       "16         Annunzio\n",
       "17         Annunzio\n",
       "18         Annunzio\n",
       "19          Collier\n",
       "20            Conte\n",
       "21             Fish\n",
       "22            Flynt\n",
       "23            Fuqua\n",
       "24            Fuqua\n",
       "25            Gross\n",
       "26           Hosmer\n",
       "27            Meeds\n",
       "28         Minshall\n",
       "29         Minshall\n",
       "            ...    \n",
       "294494       Wicker\n",
       "294495       Capito\n",
       "294496        Casey\n",
       "294497      Shaheen\n",
       "294498      Isakson\n",
       "294499         Kirk\n",
       "294500     Barrasso\n",
       "294501        Coons\n",
       "294502        Wyden\n",
       "294503        Blunt\n",
       "294504      Collins\n",
       "294505        Brown\n",
       "294506        Brown\n",
       "294507       Cornyn\n",
       "294508      Isakson\n",
       "294509        Blunt\n",
       "294510        Coons\n",
       "294511       Cornyn\n",
       "294512       Peters\n",
       "294513       Markey\n",
       "294514      Franken\n",
       "294515       Daines\n",
       "294516        Coats\n",
       "294517    Alexander\n",
       "294518    Feinstein\n",
       "294519       Hirono\n",
       "294520      Collins\n",
       "294521        Brown\n",
       "294522     Grassley\n",
       "294523    McConnell\n",
       "Name: NameLast, Length: 294524, dtype: object"
      ]
     },
     "execution_count": 14,
     "metadata": {},
     "output_type": "execute_result"
    }
   ],
   "source": [
    "#Same as 'FullName' which will use instead\n",
    "df['NameFirst']\n",
    "df['NameLast']"
   ]
  },
  {
   "cell_type": "markdown",
   "metadata": {},
   "source": [
    "## Add Columns:"
   ]
  },
  {
   "cell_type": "code",
   "execution_count": 15,
   "metadata": {},
   "outputs": [],
   "source": [
    "#Convert date columns to DateTime\n",
    "df['PLawDate'] = pd.to_datetime(df['PLawDate'], errors='coerce')\n",
    "df['IntrDate'] = pd.to_datetime(df['IntrDate'], errors='coerce')"
   ]
  },
  {
   "cell_type": "code",
   "execution_count": 16,
   "metadata": {},
   "outputs": [],
   "source": [
    "#create new column for time passage between intro and law date\n",
    "df['time_to_passage'] = df['PLawDate'] - df['IntrDate']"
   ]
  },
  {
   "cell_type": "code",
   "execution_count": 17,
   "metadata": {},
   "outputs": [
    {
     "data": {
      "text/html": [
       "<div>\n",
       "<style scoped>\n",
       "    .dataframe tbody tr th:only-of-type {\n",
       "        vertical-align: middle;\n",
       "    }\n",
       "\n",
       "    .dataframe tbody tr th {\n",
       "        vertical-align: top;\n",
       "    }\n",
       "\n",
       "    .dataframe thead th {\n",
       "        text-align: right;\n",
       "    }\n",
       "</style>\n",
       "<table border=\"1\" class=\"dataframe\">\n",
       "  <thead>\n",
       "    <tr style=\"text-align: right;\">\n",
       "      <th></th>\n",
       "      <th>time_to_passage</th>\n",
       "      <th>PLawDate</th>\n",
       "      <th>IntrDate</th>\n",
       "    </tr>\n",
       "  </thead>\n",
       "  <tbody>\n",
       "    <tr>\n",
       "      <th>0</th>\n",
       "      <td>NaT</td>\n",
       "      <td>NaT</td>\n",
       "      <td>1973-01-03</td>\n",
       "    </tr>\n",
       "    <tr>\n",
       "      <th>1</th>\n",
       "      <td>NaT</td>\n",
       "      <td>NaT</td>\n",
       "      <td>1973-01-03</td>\n",
       "    </tr>\n",
       "    <tr>\n",
       "      <th>2</th>\n",
       "      <td>NaT</td>\n",
       "      <td>NaT</td>\n",
       "      <td>1973-01-03</td>\n",
       "    </tr>\n",
       "    <tr>\n",
       "      <th>3</th>\n",
       "      <td>NaT</td>\n",
       "      <td>NaT</td>\n",
       "      <td>1973-01-03</td>\n",
       "    </tr>\n",
       "    <tr>\n",
       "      <th>4</th>\n",
       "      <td>NaT</td>\n",
       "      <td>NaT</td>\n",
       "      <td>1973-01-03</td>\n",
       "    </tr>\n",
       "  </tbody>\n",
       "</table>\n",
       "</div>"
      ],
      "text/plain": [
       "  time_to_passage PLawDate   IntrDate\n",
       "0             NaT      NaT 1973-01-03\n",
       "1             NaT      NaT 1973-01-03\n",
       "2             NaT      NaT 1973-01-03\n",
       "3             NaT      NaT 1973-01-03\n",
       "4             NaT      NaT 1973-01-03"
      ]
     },
     "execution_count": 17,
     "metadata": {},
     "output_type": "execute_result"
    }
   ],
   "source": [
    "df[['time_to_passage', 'PLawDate', 'IntrDate']].head()"
   ]
  },
  {
   "cell_type": "markdown",
   "metadata": {},
   "source": [
    "# Feature Exploration"
   ]
  },
  {
   "cell_type": "code",
   "execution_count": 18,
   "metadata": {},
   "outputs": [
    {
     "data": {
      "text/plain": [
       "hr         164708\n",
       "s           72948\n",
       "hres        19986\n",
       "sres        11132\n",
       "hjres        9892\n",
       "hconres      9265\n",
       "sjres        3829\n",
       "sconres      2764\n",
       "Name: BillType, dtype: int64"
      ]
     },
     "execution_count": 18,
     "metadata": {},
     "output_type": "execute_result"
    }
   ],
   "source": [
    "#Need to explore Further to determine what this means\n",
    "#HR = house of rep originated\n",
    "#S = Senate originate\n",
    "#\n",
    "df['BillType'].value_counts()"
   ]
  },
  {
   "cell_type": "code",
   "execution_count": 19,
   "metadata": {},
   "outputs": [
    {
     "data": {
      "text/plain": [
       "93     26222\n",
       "94     24285\n",
       "95     22313\n",
       "96     14587\n",
       "110    14037\n",
       "111    13681\n",
       "97     13231\n",
       "109    13071\n",
       "112    12298\n",
       "98     12200\n",
       "114    12043\n",
       "102    12013\n",
       "101    11786\n",
       "99     11599\n",
       "100    11275\n",
       "106    10837\n",
       "107    10794\n",
       "108    10667\n",
       "113    10636\n",
       "103     9821\n",
       "105     9141\n",
       "104     7987\n",
       "Name: Cong, dtype: int64"
      ]
     },
     "execution_count": 19,
     "metadata": {},
     "output_type": "execute_result"
    }
   ],
   "source": [
    "#Number corresponds to every Congress since 1974\n",
    "df['Cong'].value_counts()"
   ]
  },
  {
   "cell_type": "code",
   "execution_count": 20,
   "metadata": {},
   "outputs": [
    {
     "data": {
      "text/plain": [
       "0   1973-01-03\n",
       "1   1973-01-03\n",
       "2   1973-01-03\n",
       "3   1973-01-03\n",
       "4   1973-01-03\n",
       "Name: IntrDate, dtype: datetime64[ns]"
      ]
     },
     "execution_count": 20,
     "metadata": {},
     "output_type": "execute_result"
    }
   ],
   "source": [
    "#Date of bill introduction\n",
    "df['IntrDate'].head()"
   ]
  },
  {
   "cell_type": "code",
   "execution_count": 21,
   "metadata": {},
   "outputs": [
    {
     "data": {
      "text/plain": [
       "0    -0,449\n",
       "1    -0,059\n",
       "2    -0,059\n",
       "3     0,351\n",
       "4     0,351\n",
       "Name: DW1, dtype: object"
      ]
     },
     "execution_count": 21,
     "metadata": {},
     "output_type": "execute_result"
    }
   ],
   "source": [
    "#Remove - wtf is this\n",
    "df['DW1'].head()"
   ]
  },
  {
   "cell_type": "code",
   "execution_count": 55,
   "metadata": {},
   "outputs": [
    {
     "data": {
      "text/plain": [
       "0    0\n",
       "1    0\n",
       "2    0\n",
       "3    0\n",
       "4    0\n",
       "Name: MRef, dtype: int64"
      ]
     },
     "execution_count": 55,
     "metadata": {},
     "output_type": "execute_result"
    }
   ],
   "source": [
    "df['MRef'].head()"
   ]
  },
  {
   "cell_type": "markdown",
   "metadata": {},
   "source": [
    "## Information on Passage of Bill"
   ]
  },
  {
   "cell_type": "code",
   "execution_count": 22,
   "metadata": {},
   "outputs": [
    {
     "data": {
      "text/plain": [
       "0    265312\n",
       "1     29212\n",
       "Name: PassH, dtype: int64"
      ]
     },
     "execution_count": 22,
     "metadata": {},
     "output_type": "execute_result"
    }
   ],
   "source": [
    "#Passed House: 0 is No, 1 is Yes\n",
    "df['PassH'].value_counts()"
   ]
  },
  {
   "cell_type": "code",
   "execution_count": 23,
   "metadata": {},
   "outputs": [
    {
     "data": {
      "text/plain": [
       "0    267944\n",
       "1     26580\n",
       "Name: PassS, dtype: int64"
      ]
     },
     "execution_count": 23,
     "metadata": {},
     "output_type": "execute_result"
    }
   ],
   "source": [
    "#Pass Seante: 0 is No, 1 is Yes\n",
    "df['PassS'].value_counts()"
   ]
  },
  {
   "cell_type": "code",
   "execution_count": 24,
   "metadata": {},
   "outputs": [
    {
     "data": {
      "text/plain": [
       "True     282925\n",
       "False     11599\n",
       "Name: PLawDate, dtype: int64"
      ]
     },
     "execution_count": 24,
     "metadata": {},
     "output_type": "execute_result"
    }
   ],
   "source": [
    "df['PLawDate'].isnull().value_counts()"
   ]
  },
  {
   "cell_type": "code",
   "execution_count": 25,
   "metadata": {},
   "outputs": [
    {
     "data": {
      "text/plain": [
       "0    294239\n",
       "1       285\n",
       "Name: Veto, dtype: int64"
      ]
     },
     "execution_count": 25,
     "metadata": {},
     "output_type": "execute_result"
    }
   ],
   "source": [
    "#Presidential Veto\n",
    "df['Veto'].value_counts()"
   ]
  },
  {
   "cell_type": "code",
   "execution_count": 26,
   "metadata": {},
   "outputs": [
    {
     "data": {
      "text/plain": [
       "0    282631\n",
       "1     11893\n",
       "Name: PLaw, dtype: int64"
      ]
     },
     "execution_count": 26,
     "metadata": {},
     "output_type": "execute_result"
    }
   ],
   "source": [
    "#Public law (passed both and signed)?\n",
    "#1 means yes\n",
    "df['PLaw'].value_counts()"
   ]
  },
  {
   "cell_type": "markdown",
   "metadata": {},
   "source": [
    "## Information on Bill Sponsorship and Introduction"
   ]
  },
  {
   "cell_type": "code",
   "execution_count": 27,
   "metadata": {},
   "outputs": [
    {
     "data": {
      "text/plain": [
       "0.0    127722\n",
       "1.0     36458\n",
       "2.0     14712\n",
       "3.0     11348\n",
       "4.0      8133\n",
       "Name: Cosponsr, dtype: int64"
      ]
     },
     "execution_count": 27,
     "metadata": {},
     "output_type": "execute_result"
    }
   ],
   "source": [
    "#The number of cosponsors (most have none)\n",
    "df['Cosponsr'].value_counts().head()"
   ]
  },
  {
   "cell_type": "code",
   "execution_count": 28,
   "metadata": {},
   "outputs": [
    {
     "data": {
      "text/plain": [
       "0.0      255068\n",
       "1.0       39365\n",
       "100.0         8\n",
       "103.0         5\n",
       "95.0          5\n",
       "97.0          5\n",
       "104.0         4\n",
       "94.0          4\n",
       "98.0          3\n",
       "101.0         2\n",
       "107.0         2\n",
       "96.0          2\n",
       "108.0         2\n",
       "111.0         2\n",
       "106.0         1\n",
       "110.0         1\n",
       "93.0          1\n",
       "92.0          1\n",
       "91.0          1\n",
       "88.0          1\n",
       "86.0          1\n",
       "109.0         1\n",
       "Name: FrstConH, dtype: int64"
      ]
     },
     "execution_count": 28,
     "metadata": {},
     "output_type": "execute_result"
    }
   ],
   "source": [
    "#First Congress of House service\n",
    "#Maybe delete based on missing values !!!!!\n",
    "df['FrstConH'].value_counts()"
   ]
  },
  {
   "cell_type": "code",
   "execution_count": 29,
   "metadata": {},
   "outputs": [
    {
     "data": {
      "text/plain": [
       "1.0    32497\n",
       "3.0    31092\n",
       "2.0    26837\n",
       "0.0       61\n",
       "Name: Class, dtype: int64"
      ]
     },
     "execution_count": 29,
     "metadata": {},
     "output_type": "execute_result"
    }
   ],
   "source": [
    "#refers to the numbers of terms of the congressperson introducing the bill\n",
    "#Contains some Null values\n",
    "df['Class'].value_counts()"
   ]
  },
  {
   "cell_type": "code",
   "execution_count": 30,
   "metadata": {},
   "outputs": [
    {
     "data": {
      "text/plain": [
       "Daniel Inouye       1794\n",
       "Robert Roe          1391\n",
       "Orrin Hatch         1344\n",
       "Edward Kennedy      1200\n",
       "Charles Schumer     1195\n",
       "Claude Pepper       1150\n",
       "J. Thurmond         1147\n",
       "Robert Dole         1147\n",
       "Daniel Moynihan     1057\n",
       "Charles Grassley    1024\n",
       "Dianne Feinstein    1018\n",
       "Charles Rangel      1012\n",
       "Don Young            946\n",
       "Arlen Specter        945\n",
       "Alan Cranston        942\n",
       "Olympia Snowe        911\n",
       "Fortney Stark        907\n",
       "John McCain          895\n",
       "Max Baucus           871\n",
       "Pete Domenici        867\n",
       "Christopher Dodd     849\n",
       "Jesse Helms          845\n",
       "Henry Heinz          844\n",
       "Barbara Boxer        834\n",
       "John Kerry           802\n",
       "Harry Reid           800\n",
       "Frank Lautenberg     787\n",
       "Charles Mathias      786\n",
       "John Moakley         775\n",
       "Ron Wyden            768\n",
       "Name: NameFull, dtype: int64"
      ]
     },
     "execution_count": 30,
     "metadata": {},
     "output_type": "execute_result"
    }
   ],
   "source": [
    "df['NameFull'].value_counts().head(30)"
   ]
  },
  {
   "cell_type": "code",
   "execution_count": 31,
   "metadata": {},
   "outputs": [
    {
     "data": {
      "text/plain": [
       "0    270784\n",
       "1     23740\n",
       "Name: Gender, dtype: int64"
      ]
     },
     "execution_count": 31,
     "metadata": {},
     "output_type": "execute_result"
    }
   ],
   "source": [
    "df['Gender'].value_counts()"
   ]
  },
  {
   "cell_type": "code",
   "execution_count": 32,
   "metadata": {},
   "outputs": [
    {
     "data": {
      "text/plain": [
       "CA    27087\n",
       "NY    25238\n",
       "TX    13516\n",
       "FL    12672\n",
       "IL    12367\n",
       "Name: Postal, dtype: int64"
      ]
     },
     "execution_count": 32,
     "metadata": {},
     "output_type": "execute_result"
    }
   ],
   "source": [
    "#Use instead of 'State'\n",
    "df['Postal'].value_counts().head()"
   ]
  },
  {
   "cell_type": "code",
   "execution_count": 33,
   "metadata": {},
   "outputs": [
    {
     "data": {
      "text/plain": [
       "100.0    172763\n",
       "200.0    121717\n",
       "328.0        12\n",
       "Name: Party, dtype: int64"
      ]
     },
     "execution_count": 33,
     "metadata": {},
     "output_type": "execute_result"
    }
   ],
   "source": [
    "#Party code (100 Democrat; 200 Republican, 328…from ICPSR)\n",
    "df['Party'].value_counts()"
   ]
  },
  {
   "cell_type": "code",
   "execution_count": 34,
   "metadata": {},
   "outputs": [
    {
     "data": {
      "text/plain": [
       "1    184941\n",
       "0    109583\n",
       "Name: Majority, dtype: int64"
      ]
     },
     "execution_count": 34,
     "metadata": {},
     "output_type": "execute_result"
    }
   ],
   "source": [
    "#Whether the intoducing member was of House majority party\n",
    "#Boolean 1 or 0\n",
    "df['Majority'].value_counts()"
   ]
  },
  {
   "cell_type": "code",
   "execution_count": 35,
   "metadata": {},
   "outputs": [
    {
     "data": {
      "text/plain": [
       "0    203870\n",
       "1     90654\n",
       "Name: Chamber, dtype: int64"
      ]
     },
     "execution_count": 35,
     "metadata": {},
     "output_type": "execute_result"
    }
   ],
   "source": [
    "#0 for House, 1 for Senate\n",
    "df['Chamber'].value_counts()"
   ]
  },
  {
   "cell_type": "code",
   "execution_count": 36,
   "metadata": {},
   "outputs": [
    {
     "data": {
      "text/plain": [
       "0.0    96001\n",
       "2.0    19571\n",
       "1.0    19157\n",
       "3.0    16752\n",
       "4.0    13456\n",
       "Name: District, dtype: int64"
      ]
     },
     "execution_count": 36,
     "metadata": {},
     "output_type": "execute_result"
    }
   ],
   "source": [
    "#District of House member\n",
    "df['District'].value_counts().head()"
   ]
  },
  {
   "cell_type": "code",
   "execution_count": 37,
   "metadata": {},
   "outputs": [
    {
     "data": {
      "text/plain": [
       "0    278163\n",
       "1     16361\n",
       "Name: ChRef, dtype: int64"
      ]
     },
     "execution_count": 37,
     "metadata": {},
     "output_type": "execute_result"
    }
   ],
   "source": [
    "#Chair of any committee to which the bill was referred? \n",
    "df['ChRef'].value_counts()"
   ]
  },
  {
   "cell_type": "code",
   "execution_count": 38,
   "metadata": {},
   "outputs": [
    {
     "data": {
      "text/plain": [
       "0.0    251890\n",
       "1.0     42595\n",
       "Name: Mult, dtype: int64"
      ]
     },
     "execution_count": 38,
     "metadata": {},
     "output_type": "execute_result"
    }
   ],
   "source": [
    "#Boolean - Multiple referrals (1)\n",
    "df['Mult'].value_counts()"
   ]
  },
  {
   "cell_type": "code",
   "execution_count": 39,
   "metadata": {},
   "outputs": [
    {
     "data": {
      "text/plain": [
       "0    272253\n",
       "1     22271\n",
       "Name: ReportH, dtype: int64"
      ]
     },
     "execution_count": 39,
     "metadata": {},
     "output_type": "execute_result"
    }
   ],
   "source": [
    "df['ReportH'].value_counts()"
   ]
  },
  {
   "cell_type": "code",
   "execution_count": 40,
   "metadata": {
    "scrolled": true
   },
   "outputs": [
    {
     "data": {
      "text/plain": [
       "20.0    24477\n",
       "3.0     22129\n",
       "21.0    19996\n",
       "15.0    16137\n",
       "16.0    15064\n",
       "Name: Major, dtype: int64"
      ]
     },
     "execution_count": 40,
     "metadata": {},
     "output_type": "execute_result"
    }
   ],
   "source": [
    "df['Major'].value_counts().head()"
   ]
  },
  {
   "cell_type": "code",
   "execution_count": 41,
   "metadata": {},
   "outputs": [
    {
     "data": {
      "text/plain": [
       "1807.0    11519\n",
       "9999.0    10603\n",
       "1608.0     7664\n",
       "107.0      6264\n",
       "2101.0     6134\n",
       "Name: Minor, dtype: int64"
      ]
     },
     "execution_count": 41,
     "metadata": {},
     "output_type": "execute_result"
    }
   ],
   "source": [
    "df['Minor'].value_counts().head()"
   ]
  },
  {
   "cell_type": "code",
   "execution_count": 42,
   "metadata": {},
   "outputs": [
    {
     "data": {
      "text/plain": [
       "0.0    230755\n",
       "1.0     10442\n",
       "Name: SubChRef, dtype: int64"
      ]
     },
     "execution_count": 42,
     "metadata": {},
     "output_type": "execute_result"
    }
   ],
   "source": [
    "df['SubChRef'].value_counts()"
   ]
  },
  {
   "cell_type": "code",
   "execution_count": 43,
   "metadata": {},
   "outputs": [
    {
     "data": {
      "text/plain": [
       "0.0    253947\n",
       "1.0     40538\n",
       "Name: ComC, dtype: int64"
      ]
     },
     "execution_count": 43,
     "metadata": {},
     "output_type": "execute_result"
    }
   ],
   "source": [
    "df['ComC'].value_counts()"
   ]
  },
  {
   "cell_type": "markdown",
   "metadata": {},
   "source": [
    "# Visualizations:"
   ]
  },
  {
   "cell_type": "markdown",
   "metadata": {},
   "source": [
    "**Basic:**"
   ]
  },
  {
   "cell_type": "code",
   "execution_count": 44,
   "metadata": {},
   "outputs": [
    {
     "data": {
      "text/plain": [
       "<matplotlib.axes._subplots.AxesSubplot at 0x11bc64fd0>"
      ]
     },
     "execution_count": 44,
     "metadata": {},
     "output_type": "execute_result"
    }
   ],
   "source": [
    "#Visualizing passed(1) vs not passed(0)\n",
    "df['PassH'].value_counts().plot.bar()\n"
   ]
  },
  {
   "cell_type": "code",
   "execution_count": 45,
   "metadata": {
    "scrolled": true
   },
   "outputs": [
    {
     "data": {
      "text/plain": [
       "<matplotlib.axes._subplots.AxesSubplot at 0x11bec72b0>"
      ]
     },
     "execution_count": 45,
     "metadata": {},
     "output_type": "execute_result"
    },
    {
     "data": {
      "image/png": "[encoded data removed]",
      "text/plain": [
       "<Figure size 432x288 with 1 Axes>"
      ]
     },
     "metadata": {},
     "output_type": "display_data"
    }
   ],
   "source": [
    "#Distribution of Bill Types \n",
    "#HR = House of Representatives Bill\n",
    "#S = Seante Bill\n",
    "\n",
    "df['BillType'].value_counts().plot.pie()"
   ]
  },
  {
   "cell_type": "markdown",
   "metadata": {},
   "source": [
    "**Infomation by Congress:**"
   ]
  },
  {
   "cell_type": "code",
   "execution_count": 46,
   "metadata": {},
   "outputs": [
    {
     "data": {
      "text/plain": [
       "<matplotlib.axes._subplots.AxesSubplot at 0x11bf7f1d0>"
      ]
     },
     "execution_count": 46,
     "metadata": {},
     "output_type": "execute_result"
    },
    {
     "data": {
      "image/png": "[encoded data removed]",
      "text/plain": [
       "<Figure size 432x288 with 1 Axes>"
      ]
     },
     "metadata": {
      "needs_background": "light"
     },
     "output_type": "display_data"
    }
   ],
   "source": [
    "# df['Cong'].sort_values(ascending=True)\n",
    "df['Cong'].sort_values(ascending=True).value_counts().plot.bar()"
   ]
  },
  {
   "cell_type": "code",
   "execution_count": 47,
   "metadata": {},
   "outputs": [
    {
     "data": {
      "text/plain": [
       "<matplotlib.axes._subplots.AxesSubplot at 0x11c6804e0>"
      ]
     },
     "execution_count": 47,
     "metadata": {},
     "output_type": "execute_result"
    },
    {
     "data": {
      "image/png": "[encoded data removed]",
      "text/plain": [
       "<Figure size 432x288 with 1 Axes>"
      ]
     },
     "metadata": {
      "needs_background": "light"
     },
     "output_type": "display_data"
    }
   ],
   "source": [
    "df.groupby(['Cong'])['PassH'].value_counts().plot.bar()"
   ]
  },
  {
   "cell_type": "code",
   "execution_count": 48,
   "metadata": {},
   "outputs": [
    {
     "data": {
      "text/plain": [
       "Cong  Majority  PassH\n",
       "93    0         0         9311\n",
       "                1          240\n",
       "      1         0        15286\n",
       "                1         1385\n",
       "94    0         0         7334\n",
       "                1          205\n",
       "      1         0        15255\n",
       "                1         1491\n",
       "95    0         0         7021\n",
       "                1          215\n",
       "      1         0        13569\n",
       "                1         1508\n",
       "96    0         0         4642\n",
       "                1          218\n",
       "      1         0         8362\n",
       "                1         1365\n",
       "97    0         0         5045\n",
       "                1          152\n",
       "      1         0         7350\n",
       "                1          684\n",
       "98    0         0         3879\n",
       "                1          191\n",
       "      1         0         7239\n",
       "                1          891\n",
       "99    0         0         3816\n",
       "                1          211\n",
       "      1         0         6692\n",
       "                1          880\n",
       "100   0         0         3895\n",
       "                1          276\n",
       "                         ...  \n",
       "107   1         0         5188\n",
       "                1          927\n",
       "108   0         0         4715\n",
       "                1          313\n",
       "      1         0         4555\n",
       "                1         1084\n",
       "109   0         0         5503\n",
       "                1          318\n",
       "      1         0         6138\n",
       "                1         1112\n",
       "110   0         0         4416\n",
       "                1          518\n",
       "      1         0         7521\n",
       "                1         1582\n",
       "111   0         0         3623\n",
       "                1          430\n",
       "      1         0         8189\n",
       "                1         1439\n",
       "112   0         0         4719\n",
       "                1          165\n",
       "      1         0         6740\n",
       "                1          674\n",
       "113   0         0         4495\n",
       "                1          198\n",
       "      1         0         5230\n",
       "                1          713\n",
       "114   0         0         5400\n",
       "                1          260\n",
       "      1         0         5476\n",
       "                1          907\n",
       "Name: PassH, Length: 88, dtype: int64"
      ]
     },
     "execution_count": 48,
     "metadata": {},
     "output_type": "execute_result"
    }
   ],
   "source": [
    "df.groupby(['Cong', 'Majority'])['PassH'].value_counts()"
   ]
  },
  {
   "cell_type": "code",
   "execution_count": 49,
   "metadata": {},
   "outputs": [
    {
     "data": {
      "text/plain": [
       "<pandas.core.groupby.generic.SeriesGroupBy object at 0x11c129710>"
      ]
     },
     "execution_count": 49,
     "metadata": {},
     "output_type": "execute_result"
    }
   ],
   "source": [
    "df.groupby(['Cong', 'PassH'])['time_to_passage']\n"
   ]
  },
  {
   "cell_type": "code",
   "execution_count": 50,
   "metadata": {},
   "outputs": [],
   "source": [
    "#groupby "
   ]
  },
  {
   "cell_type": "code",
   "execution_count": 51,
   "metadata": {},
   "outputs": [],
   "source": [
    "#post 9/11?"
   ]
  },
  {
   "cell_type": "code",
   "execution_count": 52,
   "metadata": {},
   "outputs": [],
   "source": [
    "#When the house is a particular majority"
   ]
  },
  {
   "cell_type": "markdown",
   "metadata": {},
   "source": [
    "**Other Exploration:**"
   ]
  },
  {
   "cell_type": "code",
   "execution_count": 53,
   "metadata": {},
   "outputs": [
    {
     "data": {
      "text/html": [
       "<div>\n",
       "<style scoped>\n",
       "    .dataframe tbody tr th:only-of-type {\n",
       "        vertical-align: middle;\n",
       "    }\n",
       "\n",
       "    .dataframe tbody tr th {\n",
       "        vertical-align: top;\n",
       "    }\n",
       "\n",
       "    .dataframe thead th {\n",
       "        text-align: right;\n",
       "    }\n",
       "</style>\n",
       "<table border=\"1\" class=\"dataframe\">\n",
       "  <thead>\n",
       "    <tr style=\"text-align: right;\">\n",
       "      <th></th>\n",
       "      <th>BillNum</th>\n",
       "      <th>Chamber</th>\n",
       "      <th>Cong</th>\n",
       "      <th>Cosponsr</th>\n",
       "      <th>Mult</th>\n",
       "      <th>MultNo</th>\n",
       "      <th>PLaw</th>\n",
       "      <th>Private</th>\n",
       "      <th>Veto</th>\n",
       "      <th>Class</th>\n",
       "      <th>...</th>\n",
       "      <th>PassS</th>\n",
       "      <th>ImpBill</th>\n",
       "      <th>SubChRef</th>\n",
       "      <th>SubRankRef</th>\n",
       "      <th>Majority</th>\n",
       "      <th>ReportH</th>\n",
       "      <th>ReportS</th>\n",
       "      <th>Major</th>\n",
       "      <th>Minor</th>\n",
       "      <th>time_to_passage</th>\n",
       "    </tr>\n",
       "  </thead>\n",
       "  <tbody>\n",
       "    <tr>\n",
       "      <th>count</th>\n",
       "      <td>294524.00000</td>\n",
       "      <td>294524.000000</td>\n",
       "      <td>294524.000000</td>\n",
       "      <td>294485.000000</td>\n",
       "      <td>294485.000000</td>\n",
       "      <td>294485.000000</td>\n",
       "      <td>294524.00000</td>\n",
       "      <td>294524.000000</td>\n",
       "      <td>294524.000000</td>\n",
       "      <td>90487.000000</td>\n",
       "      <td>...</td>\n",
       "      <td>294524.000000</td>\n",
       "      <td>294336.000000</td>\n",
       "      <td>241197.000000</td>\n",
       "      <td>241197.000000</td>\n",
       "      <td>294524.000000</td>\n",
       "      <td>294524.000000</td>\n",
       "      <td>294524.000000</td>\n",
       "      <td>237658.000000</td>\n",
       "      <td>237656.000000</td>\n",
       "      <td>11599</td>\n",
       "    </tr>\n",
       "    <tr>\n",
       "      <th>mean</th>\n",
       "      <td>3047.82267</td>\n",
       "      <td>0.307798</td>\n",
       "      <td>102.230450</td>\n",
       "      <td>10.561645</td>\n",
       "      <td>0.144642</td>\n",
       "      <td>1.193443</td>\n",
       "      <td>0.04038</td>\n",
       "      <td>0.005195</td>\n",
       "      <td>0.000968</td>\n",
       "      <td>1.983125</td>\n",
       "      <td>...</td>\n",
       "      <td>0.090247</td>\n",
       "      <td>0.757519</td>\n",
       "      <td>0.043292</td>\n",
       "      <td>0.023242</td>\n",
       "      <td>0.627932</td>\n",
       "      <td>0.075617</td>\n",
       "      <td>0.061180</td>\n",
       "      <td>15.880698</td>\n",
       "      <td>1601.586844</td>\n",
       "      <td>222 days 16:35:25.424605</td>\n",
       "    </tr>\n",
       "    <tr>\n",
       "      <th>std</th>\n",
       "      <td>3353.46320</td>\n",
       "      <td>0.461583</td>\n",
       "      <td>6.849453</td>\n",
       "      <td>27.831254</td>\n",
       "      <td>0.351740</td>\n",
       "      <td>0.587313</td>\n",
       "      <td>0.19685</td>\n",
       "      <td>0.071888</td>\n",
       "      <td>0.031092</td>\n",
       "      <td>0.839739</td>\n",
       "      <td>...</td>\n",
       "      <td>0.286536</td>\n",
       "      <td>0.428585</td>\n",
       "      <td>0.203515</td>\n",
       "      <td>0.150673</td>\n",
       "      <td>0.483357</td>\n",
       "      <td>0.264385</td>\n",
       "      <td>0.239661</td>\n",
       "      <td>19.080797</td>\n",
       "      <td>1925.000453</td>\n",
       "      <td>182 days 12:27:29.469351</td>\n",
       "    </tr>\n",
       "    <tr>\n",
       "      <th>min</th>\n",
       "      <td>1.00000</td>\n",
       "      <td>0.000000</td>\n",
       "      <td>93.000000</td>\n",
       "      <td>0.000000</td>\n",
       "      <td>0.000000</td>\n",
       "      <td>0.000000</td>\n",
       "      <td>0.00000</td>\n",
       "      <td>0.000000</td>\n",
       "      <td>0.000000</td>\n",
       "      <td>0.000000</td>\n",
       "      <td>...</td>\n",
       "      <td>0.000000</td>\n",
       "      <td>0.000000</td>\n",
       "      <td>0.000000</td>\n",
       "      <td>0.000000</td>\n",
       "      <td>0.000000</td>\n",
       "      <td>0.000000</td>\n",
       "      <td>0.000000</td>\n",
       "      <td>1.000000</td>\n",
       "      <td>100.000000</td>\n",
       "      <td>0 days 00:00:00</td>\n",
       "    </tr>\n",
       "    <tr>\n",
       "      <th>25%</th>\n",
       "      <td>603.00000</td>\n",
       "      <td>0.000000</td>\n",
       "      <td>96.000000</td>\n",
       "      <td>0.000000</td>\n",
       "      <td>0.000000</td>\n",
       "      <td>1.000000</td>\n",
       "      <td>0.00000</td>\n",
       "      <td>0.000000</td>\n",
       "      <td>0.000000</td>\n",
       "      <td>1.000000</td>\n",
       "      <td>...</td>\n",
       "      <td>0.000000</td>\n",
       "      <td>1.000000</td>\n",
       "      <td>0.000000</td>\n",
       "      <td>0.000000</td>\n",
       "      <td>0.000000</td>\n",
       "      <td>0.000000</td>\n",
       "      <td>0.000000</td>\n",
       "      <td>6.000000</td>\n",
       "      <td>602.000000</td>\n",
       "      <td>74 days 00:00:00</td>\n",
       "    </tr>\n",
       "    <tr>\n",
       "      <th>50%</th>\n",
       "      <td>2056.00000</td>\n",
       "      <td>0.000000</td>\n",
       "      <td>101.000000</td>\n",
       "      <td>1.000000</td>\n",
       "      <td>0.000000</td>\n",
       "      <td>1.000000</td>\n",
       "      <td>0.00000</td>\n",
       "      <td>0.000000</td>\n",
       "      <td>0.000000</td>\n",
       "      <td>2.000000</td>\n",
       "      <td>...</td>\n",
       "      <td>0.000000</td>\n",
       "      <td>1.000000</td>\n",
       "      <td>0.000000</td>\n",
       "      <td>0.000000</td>\n",
       "      <td>1.000000</td>\n",
       "      <td>0.000000</td>\n",
       "      <td>0.000000</td>\n",
       "      <td>13.000000</td>\n",
       "      <td>1304.000000</td>\n",
       "      <td>173 days 00:00:00</td>\n",
       "    </tr>\n",
       "    <tr>\n",
       "      <th>75%</th>\n",
       "      <td>4147.00000</td>\n",
       "      <td>1.000000</td>\n",
       "      <td>109.000000</td>\n",
       "      <td>9.000000</td>\n",
       "      <td>0.000000</td>\n",
       "      <td>1.000000</td>\n",
       "      <td>0.00000</td>\n",
       "      <td>0.000000</td>\n",
       "      <td>0.000000</td>\n",
       "      <td>3.000000</td>\n",
       "      <td>...</td>\n",
       "      <td>0.000000</td>\n",
       "      <td>1.000000</td>\n",
       "      <td>0.000000</td>\n",
       "      <td>0.000000</td>\n",
       "      <td>1.000000</td>\n",
       "      <td>0.000000</td>\n",
       "      <td>0.000000</td>\n",
       "      <td>19.000000</td>\n",
       "      <td>1906.000000</td>\n",
       "      <td>331 days 00:00:00</td>\n",
       "    </tr>\n",
       "    <tr>\n",
       "      <th>max</th>\n",
       "      <td>17690.00000</td>\n",
       "      <td>1.000000</td>\n",
       "      <td>114.000000</td>\n",
       "      <td>432.000000</td>\n",
       "      <td>1.000000</td>\n",
       "      <td>17.000000</td>\n",
       "      <td>1.00000</td>\n",
       "      <td>1.000000</td>\n",
       "      <td>1.000000</td>\n",
       "      <td>3.000000</td>\n",
       "      <td>...</td>\n",
       "      <td>1.000000</td>\n",
       "      <td>1.000000</td>\n",
       "      <td>1.000000</td>\n",
       "      <td>1.000000</td>\n",
       "      <td>1.000000</td>\n",
       "      <td>1.000000</td>\n",
       "      <td>1.000000</td>\n",
       "      <td>99.000000</td>\n",
       "      <td>9999.000000</td>\n",
       "      <td>735 days 00:00:00</td>\n",
       "    </tr>\n",
       "  </tbody>\n",
       "</table>\n",
       "<p>8 rows × 36 columns</p>\n",
       "</div>"
      ],
      "text/plain": [
       "            BillNum        Chamber           Cong       Cosponsr  \\\n",
       "count  294524.00000  294524.000000  294524.000000  294485.000000   \n",
       "mean     3047.82267       0.307798     102.230450      10.561645   \n",
       "std      3353.46320       0.461583       6.849453      27.831254   \n",
       "min         1.00000       0.000000      93.000000       0.000000   \n",
       "25%       603.00000       0.000000      96.000000       0.000000   \n",
       "50%      2056.00000       0.000000     101.000000       1.000000   \n",
       "75%      4147.00000       1.000000     109.000000       9.000000   \n",
       "max     17690.00000       1.000000     114.000000     432.000000   \n",
       "\n",
       "                Mult         MultNo          PLaw        Private  \\\n",
       "count  294485.000000  294485.000000  294524.00000  294524.000000   \n",
       "mean        0.144642       1.193443       0.04038       0.005195   \n",
       "std         0.351740       0.587313       0.19685       0.071888   \n",
       "min         0.000000       0.000000       0.00000       0.000000   \n",
       "25%         0.000000       1.000000       0.00000       0.000000   \n",
       "50%         0.000000       1.000000       0.00000       0.000000   \n",
       "75%         0.000000       1.000000       0.00000       0.000000   \n",
       "max         1.000000      17.000000       1.00000       1.000000   \n",
       "\n",
       "                Veto         Class  ...          PassS        ImpBill  \\\n",
       "count  294524.000000  90487.000000  ...  294524.000000  294336.000000   \n",
       "mean        0.000968      1.983125  ...       0.090247       0.757519   \n",
       "std         0.031092      0.839739  ...       0.286536       0.428585   \n",
       "min         0.000000      0.000000  ...       0.000000       0.000000   \n",
       "25%         0.000000      1.000000  ...       0.000000       1.000000   \n",
       "50%         0.000000      2.000000  ...       0.000000       1.000000   \n",
       "75%         0.000000      3.000000  ...       0.000000       1.000000   \n",
       "max         1.000000      3.000000  ...       1.000000       1.000000   \n",
       "\n",
       "            SubChRef     SubRankRef       Majority        ReportH  \\\n",
       "count  241197.000000  241197.000000  294524.000000  294524.000000   \n",
       "mean        0.043292       0.023242       0.627932       0.075617   \n",
       "std         0.203515       0.150673       0.483357       0.264385   \n",
       "min         0.000000       0.000000       0.000000       0.000000   \n",
       "25%         0.000000       0.000000       0.000000       0.000000   \n",
       "50%         0.000000       0.000000       1.000000       0.000000   \n",
       "75%         0.000000       0.000000       1.000000       0.000000   \n",
       "max         1.000000       1.000000       1.000000       1.000000   \n",
       "\n",
       "             ReportS          Major          Minor           time_to_passage  \n",
       "count  294524.000000  237658.000000  237656.000000                     11599  \n",
       "mean        0.061180      15.880698    1601.586844  222 days 16:35:25.424605  \n",
       "std         0.239661      19.080797    1925.000453  182 days 12:27:29.469351  \n",
       "min         0.000000       1.000000     100.000000           0 days 00:00:00  \n",
       "25%         0.000000       6.000000     602.000000          74 days 00:00:00  \n",
       "50%         0.000000      13.000000    1304.000000         173 days 00:00:00  \n",
       "75%         0.000000      19.000000    1906.000000         331 days 00:00:00  \n",
       "max         1.000000      99.000000    9999.000000         735 days 00:00:00  \n",
       "\n",
       "[8 rows x 36 columns]"
      ]
     },
     "execution_count": 53,
     "metadata": {},
     "output_type": "execute_result"
    }
   ],
   "source": [
    "df.describe()"
   ]
  },
  {
   "cell_type": "code",
   "execution_count": 54,
   "metadata": {},
   "outputs": [
    {
     "data": {
      "text/html": [
       "<div>\n",
       "<style scoped>\n",
       "    .dataframe tbody tr th:only-of-type {\n",
       "        vertical-align: middle;\n",
       "    }\n",
       "\n",
       "    .dataframe tbody tr th {\n",
       "        vertical-align: top;\n",
       "    }\n",
       "\n",
       "    .dataframe thead th {\n",
       "        text-align: right;\n",
       "    }\n",
       "</style>\n",
       "<table border=\"1\" class=\"dataframe\">\n",
       "  <thead>\n",
       "    <tr style=\"text-align: right;\">\n",
       "      <th></th>\n",
       "      <th>BillID</th>\n",
       "      <th>BillNum</th>\n",
       "      <th>BillType</th>\n",
       "      <th>Chamber</th>\n",
       "      <th>Cong</th>\n",
       "      <th>Cosponsr</th>\n",
       "      <th>IntrDate</th>\n",
       "      <th>Mult</th>\n",
       "      <th>MultNo</th>\n",
       "      <th>PLaw</th>\n",
       "      <th>...</th>\n",
       "      <th>PLawNum</th>\n",
       "      <th>ImpBill</th>\n",
       "      <th>SubChRef</th>\n",
       "      <th>SubRankRef</th>\n",
       "      <th>Majority</th>\n",
       "      <th>ReportH</th>\n",
       "      <th>ReportS</th>\n",
       "      <th>Major</th>\n",
       "      <th>Minor</th>\n",
       "      <th>time_to_passage</th>\n",
       "    </tr>\n",
       "  </thead>\n",
       "  <tbody>\n",
       "    <tr>\n",
       "      <th>177807</th>\n",
       "      <td>105-HJRES-135</td>\n",
       "      <td>135</td>\n",
       "      <td>hjres</td>\n",
       "      <td>0</td>\n",
       "      <td>105</td>\n",
       "      <td>0.0</td>\n",
       "      <td>1998-10-14</td>\n",
       "      <td>0.0</td>\n",
       "      <td>1.0</td>\n",
       "      <td>1</td>\n",
       "      <td>...</td>\n",
       "      <td>Became Public Law No: 105-257.</td>\n",
       "      <td>1.0</td>\n",
       "      <td>NaN</td>\n",
       "      <td>NaN</td>\n",
       "      <td>1</td>\n",
       "      <td>0</td>\n",
       "      <td>0</td>\n",
       "      <td>NaN</td>\n",
       "      <td>NaN</td>\n",
       "      <td>0 days</td>\n",
       "    </tr>\n",
       "    <tr>\n",
       "      <th>246238</th>\n",
       "      <td>111-HJRES-38</td>\n",
       "      <td>38</td>\n",
       "      <td>hjres</td>\n",
       "      <td>0</td>\n",
       "      <td>111</td>\n",
       "      <td>0.0</td>\n",
       "      <td>2009-03-06</td>\n",
       "      <td>0.0</td>\n",
       "      <td>1.0</td>\n",
       "      <td>1</td>\n",
       "      <td>...</td>\n",
       "      <td>Became Public Law No: 111-6.</td>\n",
       "      <td>1.0</td>\n",
       "      <td>NaN</td>\n",
       "      <td>NaN</td>\n",
       "      <td>1</td>\n",
       "      <td>0</td>\n",
       "      <td>0</td>\n",
       "      <td>NaN</td>\n",
       "      <td>NaN</td>\n",
       "      <td>0 days</td>\n",
       "    </tr>\n",
       "    <tr>\n",
       "      <th>88210</th>\n",
       "      <td>97-HJRES-368</td>\n",
       "      <td>368</td>\n",
       "      <td>hjres</td>\n",
       "      <td>0</td>\n",
       "      <td>97</td>\n",
       "      <td>0.0</td>\n",
       "      <td>1981-11-23</td>\n",
       "      <td>0.0</td>\n",
       "      <td>1.0</td>\n",
       "      <td>1</td>\n",
       "      <td>...</td>\n",
       "      <td>Became Public Law No: 97-85.</td>\n",
       "      <td>1.0</td>\n",
       "      <td>NaN</td>\n",
       "      <td>NaN</td>\n",
       "      <td>1</td>\n",
       "      <td>0</td>\n",
       "      <td>0</td>\n",
       "      <td>NaN</td>\n",
       "      <td>NaN</td>\n",
       "      <td>0 days</td>\n",
       "    </tr>\n",
       "    <tr>\n",
       "      <th>81393</th>\n",
       "      <td>96-HR-7471</td>\n",
       "      <td>7471</td>\n",
       "      <td>hr</td>\n",
       "      <td>0</td>\n",
       "      <td>96</td>\n",
       "      <td>0.0</td>\n",
       "      <td>1980-05-30</td>\n",
       "      <td>0.0</td>\n",
       "      <td>1.0</td>\n",
       "      <td>1</td>\n",
       "      <td>...</td>\n",
       "      <td>Public Law 96-256.</td>\n",
       "      <td>1.0</td>\n",
       "      <td>0.0</td>\n",
       "      <td>0.0</td>\n",
       "      <td>1</td>\n",
       "      <td>0</td>\n",
       "      <td>0</td>\n",
       "      <td>1.0</td>\n",
       "      <td>105.0</td>\n",
       "      <td>0 days</td>\n",
       "    </tr>\n",
       "    <tr>\n",
       "      <th>117456</th>\n",
       "      <td>99-HR-3452</td>\n",
       "      <td>3452</td>\n",
       "      <td>hr</td>\n",
       "      <td>0</td>\n",
       "      <td>99</td>\n",
       "      <td>1.0</td>\n",
       "      <td>1985-09-30</td>\n",
       "      <td>1.0</td>\n",
       "      <td>2.0</td>\n",
       "      <td>1</td>\n",
       "      <td>...</td>\n",
       "      <td>Became Public Law No: 99-107.</td>\n",
       "      <td>1.0</td>\n",
       "      <td>0.0</td>\n",
       "      <td>0.0</td>\n",
       "      <td>1</td>\n",
       "      <td>0</td>\n",
       "      <td>0</td>\n",
       "      <td>3.0</td>\n",
       "      <td>341.0</td>\n",
       "      <td>0 days</td>\n",
       "    </tr>\n",
       "  </tbody>\n",
       "</table>\n",
       "<p>5 rows × 49 columns</p>\n",
       "</div>"
      ],
      "text/plain": [
       "               BillID  BillNum BillType  Chamber  Cong  Cosponsr   IntrDate  \\\n",
       "177807  105-HJRES-135      135    hjres        0   105       0.0 1998-10-14   \n",
       "246238   111-HJRES-38       38    hjres        0   111       0.0 2009-03-06   \n",
       "88210    97-HJRES-368      368    hjres        0    97       0.0 1981-11-23   \n",
       "81393      96-HR-7471     7471       hr        0    96       0.0 1980-05-30   \n",
       "117456     99-HR-3452     3452       hr        0    99       1.0 1985-09-30   \n",
       "\n",
       "        Mult  MultNo  PLaw  ...                         PLawNum ImpBill  \\\n",
       "177807   0.0     1.0     1  ...  Became Public Law No: 105-257.     1.0   \n",
       "246238   0.0     1.0     1  ...    Became Public Law No: 111-6.     1.0   \n",
       "88210    0.0     1.0     1  ...    Became Public Law No: 97-85.     1.0   \n",
       "81393    0.0     1.0     1  ...              Public Law 96-256.     1.0   \n",
       "117456   1.0     2.0     1  ...   Became Public Law No: 99-107.     1.0   \n",
       "\n",
       "        SubChRef  SubRankRef  Majority  ReportH  ReportS  Major  Minor  \\\n",
       "177807       NaN         NaN         1        0        0    NaN    NaN   \n",
       "246238       NaN         NaN         1        0        0    NaN    NaN   \n",
       "88210        NaN         NaN         1        0        0    NaN    NaN   \n",
       "81393        0.0         0.0         1        0        0    1.0  105.0   \n",
       "117456       0.0         0.0         1        0        0    3.0  341.0   \n",
       "\n",
       "        time_to_passage  \n",
       "177807           0 days  \n",
       "246238           0 days  \n",
       "88210            0 days  \n",
       "81393            0 days  \n",
       "117456           0 days  \n",
       "\n",
       "[5 rows x 49 columns]"
      ]
     },
     "execution_count": 54,
     "metadata": {},
     "output_type": "execute_result"
    }
   ],
   "source": [
    "#Which bill take the shortest and longest to become law\n",
    "df.sort_values('time_to_passage', ).head()"
   ]
  },
  {
   "cell_type": "code",
   "execution_count": 12,
   "metadata": {},
   "outputs": [
    {
     "data": {
      "text/plain": [
       "0         1973-01-03\n",
       "1         1973-01-03\n",
       "2         1973-01-03\n",
       "3         1973-01-03\n",
       "4         1973-01-03\n",
       "5         1973-01-03\n",
       "6         1973-01-03\n",
       "7         1973-01-03\n",
       "8         1973-01-03\n",
       "9         1973-01-03\n",
       "10        1973-01-03\n",
       "11        1973-01-03\n",
       "12        1973-01-03\n",
       "13        1973-01-03\n",
       "14        1973-01-03\n",
       "15        1973-01-03\n",
       "16        1973-01-03\n",
       "17        1973-01-03\n",
       "18        1973-01-03\n",
       "19        1973-01-03\n",
       "20        1973-01-03\n",
       "21        1973-01-03\n",
       "22        1973-01-03\n",
       "23        1973-01-03\n",
       "24        1973-01-03\n",
       "25        1973-01-03\n",
       "26        1973-01-03\n",
       "27        1973-01-03\n",
       "28        1973-01-03\n",
       "29        1973-01-03\n",
       "             ...    \n",
       "294494    2016-09-29\n",
       "294495    2016-11-16\n",
       "294496    2016-11-16\n",
       "294497    2016-11-17\n",
       "294498    2016-11-17\n",
       "294499    2016-11-17\n",
       "294500    2016-11-17\n",
       "294501    2016-11-29\n",
       "294502    2016-11-29\n",
       "294503    2016-11-29\n",
       "294504    2016-11-29\n",
       "294505    2016-11-30\n",
       "294506    2016-11-30\n",
       "294507    2016-11-30\n",
       "294508    2016-12-01\n",
       "294509    2016-12-01\n",
       "294510    2016-12-05\n",
       "294511    2016-12-05\n",
       "294512    2016-12-06\n",
       "294513    2016-12-07\n",
       "294514    2016-12-09\n",
       "294515    2016-12-09\n",
       "294516    2016-12-10\n",
       "294517    2016-12-10\n",
       "294518    2016-12-10\n",
       "294519    2016-12-10\n",
       "294520    2016-12-10\n",
       "294521    2016-12-10\n",
       "294522    2016-12-10\n",
       "294523    2016-12-10\n",
       "Name: IntrDate, Length: 294524, dtype: object"
      ]
     },
     "execution_count": 12,
     "metadata": {},
     "output_type": "execute_result"
    }
   ],
   "source": [
    "df['IntrDate']"
   ]
  },
  {
   "cell_type": "code",
   "execution_count": 19,
   "metadata": {},
   "outputs": [
    {
     "ename": "AttributeError",
     "evalue": "module 'pandas' has no attribute 'DateTime'",
     "output_type": "error",
     "traceback": [
      "\u001b[0;31m---------------------------------------------------------------------------\u001b[0m",
      "\u001b[0;31mAttributeError\u001b[0m                            Traceback (most recent call last)",
      "\u001b[0;32m<ipython-input-19-67e62c0c44de>\u001b[0m in \u001b[0;36m<module>\u001b[0;34m\u001b[0m\n\u001b[0;32m----> 1\u001b[0;31m \u001b[0mdf\u001b[0m\u001b[0;34m[\u001b[0m\u001b[0;34m'IntrDate'\u001b[0m\u001b[0;34m]\u001b[0m \u001b[0;34m=\u001b[0m \u001b[0mpd\u001b[0m\u001b[0;34m.\u001b[0m\u001b[0mDateTime\u001b[0m\u001b[0;34m(\u001b[0m\u001b[0mdf\u001b[0m\u001b[0;34m[\u001b[0m\u001b[0;34m'IntrDate'\u001b[0m\u001b[0;34m]\u001b[0m\u001b[0;34m)\u001b[0m\u001b[0;34m\u001b[0m\u001b[0;34m\u001b[0m\u001b[0m\n\u001b[0m\u001b[1;32m      2\u001b[0m \u001b[0mdf_time\u001b[0m \u001b[0;34m=\u001b[0m \u001b[0mdf\u001b[0m\u001b[0;34m[\u001b[0m\u001b[0;34m'IntrDate'\u001b[0m\u001b[0;34m]\u001b[0m\u001b[0;34m\u001b[0m\u001b[0;34m\u001b[0m\u001b[0m\n",
      "\u001b[0;31mAttributeError\u001b[0m: module 'pandas' has no attribute 'DateTime'"
     ]
    }
   ],
   "source": [
    "df['IntrDate'] = pd.DateTime(df['IntrDate'])\n",
    "df_time = df['IntrDate']"
   ]
  },
  {
   "cell_type": "code",
   "execution_count": 11,
   "metadata": {},
   "outputs": [
    {
     "ename": "ValueError",
     "evalue": "time data '1973-01-03' does not match format '%y-%m-%d' (match)",
     "output_type": "error",
     "traceback": [
      "\u001b[0;31m---------------------------------------------------------------------------\u001b[0m",
      "\u001b[0;31mTypeError\u001b[0m                                 Traceback (most recent call last)",
      "\u001b[0;32m~/anaconda3/lib/python3.7/site-packages/pandas/core/tools/datetimes.py\u001b[0m in \u001b[0;36m_convert_listlike_datetimes\u001b[0;34m(arg, box, format, name, tz, unit, errors, infer_datetime_format, dayfirst, yearfirst, exact)\u001b[0m\n\u001b[1;32m    290\u001b[0m             \u001b[0;32mtry\u001b[0m\u001b[0;34m:\u001b[0m\u001b[0;34m\u001b[0m\u001b[0;34m\u001b[0m\u001b[0m\n\u001b[0;32m--> 291\u001b[0;31m                 \u001b[0mvalues\u001b[0m\u001b[0;34m,\u001b[0m \u001b[0mtz\u001b[0m \u001b[0;34m=\u001b[0m \u001b[0mconversion\u001b[0m\u001b[0;34m.\u001b[0m\u001b[0mdatetime_to_datetime64\u001b[0m\u001b[0;34m(\u001b[0m\u001b[0marg\u001b[0m\u001b[0;34m)\u001b[0m\u001b[0;34m\u001b[0m\u001b[0;34m\u001b[0m\u001b[0m\n\u001b[0m\u001b[1;32m    292\u001b[0m                 \u001b[0;32mreturn\u001b[0m \u001b[0mDatetimeIndex\u001b[0m\u001b[0;34m.\u001b[0m\u001b[0m_simple_new\u001b[0m\u001b[0;34m(\u001b[0m\u001b[0mvalues\u001b[0m\u001b[0;34m,\u001b[0m \u001b[0mname\u001b[0m\u001b[0;34m=\u001b[0m\u001b[0mname\u001b[0m\u001b[0;34m,\u001b[0m \u001b[0mtz\u001b[0m\u001b[0;34m=\u001b[0m\u001b[0mtz\u001b[0m\u001b[0;34m)\u001b[0m\u001b[0;34m\u001b[0m\u001b[0;34m\u001b[0m\u001b[0m\n",
      "\u001b[0;32mpandas/_libs/tslibs/conversion.pyx\u001b[0m in \u001b[0;36mpandas._libs.tslibs.conversion.datetime_to_datetime64\u001b[0;34m()\u001b[0m\n",
      "\u001b[0;31mTypeError\u001b[0m: Unrecognized value type: <class 'str'>",
      "\nDuring handling of the above exception, another exception occurred:\n",
      "\u001b[0;31mValueError\u001b[0m                                Traceback (most recent call last)",
      "\u001b[0;32m<ipython-input-11-1193593f0136>\u001b[0m in \u001b[0;36m<module>\u001b[0;34m\u001b[0m\n\u001b[0;32m----> 1\u001b[0;31m \u001b[0mdf\u001b[0m\u001b[0;34m[\u001b[0m\u001b[0;34m'IntrDate'\u001b[0m\u001b[0;34m]\u001b[0m \u001b[0;34m=\u001b[0m \u001b[0mpd\u001b[0m\u001b[0;34m.\u001b[0m\u001b[0mto_datetime\u001b[0m\u001b[0;34m(\u001b[0m\u001b[0mdf\u001b[0m\u001b[0;34m[\u001b[0m\u001b[0;34m'IntrDate'\u001b[0m\u001b[0;34m]\u001b[0m\u001b[0;34m,\u001b[0m \u001b[0mformat\u001b[0m\u001b[0;34m=\u001b[0m\u001b[0;34m'%y-%m-%d'\u001b[0m\u001b[0;34m)\u001b[0m\u001b[0;34m\u001b[0m\u001b[0;34m\u001b[0m\u001b[0m\n\u001b[0m\u001b[1;32m      2\u001b[0m \u001b[0mdf_time\u001b[0m \u001b[0;34m=\u001b[0m \u001b[0mdf\u001b[0m\u001b[0;34m[\u001b[0m\u001b[0;34m'IntrDate'\u001b[0m\u001b[0;34m]\u001b[0m\u001b[0;34m\u001b[0m\u001b[0;34m\u001b[0m\u001b[0m\n\u001b[1;32m      3\u001b[0m \u001b[0;34m\u001b[0m\u001b[0m\n\u001b[1;32m      4\u001b[0m trace = go.Histogram(\n\u001b[1;32m      5\u001b[0m     \u001b[0mx\u001b[0m\u001b[0;34m=\u001b[0m\u001b[0mdf_time\u001b[0m\u001b[0;34m,\u001b[0m\u001b[0;34m\u001b[0m\u001b[0;34m\u001b[0m\u001b[0m\n",
      "\u001b[0;32m~/anaconda3/lib/python3.7/site-packages/pandas/core/tools/datetimes.py\u001b[0m in \u001b[0;36mto_datetime\u001b[0;34m(arg, errors, dayfirst, yearfirst, utc, box, format, exact, unit, infer_datetime_format, origin, cache)\u001b[0m\n\u001b[1;32m    590\u001b[0m         \u001b[0;32melse\u001b[0m\u001b[0;34m:\u001b[0m\u001b[0;34m\u001b[0m\u001b[0;34m\u001b[0m\u001b[0m\n\u001b[1;32m    591\u001b[0m             \u001b[0;32mfrom\u001b[0m \u001b[0mpandas\u001b[0m \u001b[0;32mimport\u001b[0m \u001b[0mSeries\u001b[0m\u001b[0;34m\u001b[0m\u001b[0;34m\u001b[0m\u001b[0m\n\u001b[0;32m--> 592\u001b[0;31m             \u001b[0mvalues\u001b[0m \u001b[0;34m=\u001b[0m \u001b[0mconvert_listlike\u001b[0m\u001b[0;34m(\u001b[0m\u001b[0marg\u001b[0m\u001b[0;34m.\u001b[0m\u001b[0m_values\u001b[0m\u001b[0;34m,\u001b[0m \u001b[0;32mTrue\u001b[0m\u001b[0;34m,\u001b[0m \u001b[0mformat\u001b[0m\u001b[0;34m)\u001b[0m\u001b[0;34m\u001b[0m\u001b[0;34m\u001b[0m\u001b[0m\n\u001b[0m\u001b[1;32m    593\u001b[0m             \u001b[0mresult\u001b[0m \u001b[0;34m=\u001b[0m \u001b[0mSeries\u001b[0m\u001b[0;34m(\u001b[0m\u001b[0mvalues\u001b[0m\u001b[0;34m,\u001b[0m \u001b[0mindex\u001b[0m\u001b[0;34m=\u001b[0m\u001b[0marg\u001b[0m\u001b[0;34m.\u001b[0m\u001b[0mindex\u001b[0m\u001b[0;34m,\u001b[0m \u001b[0mname\u001b[0m\u001b[0;34m=\u001b[0m\u001b[0marg\u001b[0m\u001b[0;34m.\u001b[0m\u001b[0mname\u001b[0m\u001b[0;34m)\u001b[0m\u001b[0;34m\u001b[0m\u001b[0;34m\u001b[0m\u001b[0m\n\u001b[1;32m    594\u001b[0m     \u001b[0;32melif\u001b[0m \u001b[0misinstance\u001b[0m\u001b[0;34m(\u001b[0m\u001b[0marg\u001b[0m\u001b[0;34m,\u001b[0m \u001b[0;34m(\u001b[0m\u001b[0mABCDataFrame\u001b[0m\u001b[0;34m,\u001b[0m \u001b[0mcompat\u001b[0m\u001b[0;34m.\u001b[0m\u001b[0mMutableMapping\u001b[0m\u001b[0;34m)\u001b[0m\u001b[0;34m)\u001b[0m\u001b[0;34m:\u001b[0m\u001b[0;34m\u001b[0m\u001b[0;34m\u001b[0m\u001b[0m\n",
      "\u001b[0;32m~/anaconda3/lib/python3.7/site-packages/pandas/core/tools/datetimes.py\u001b[0m in \u001b[0;36m_convert_listlike_datetimes\u001b[0;34m(arg, box, format, name, tz, unit, errors, infer_datetime_format, dayfirst, yearfirst, exact)\u001b[0m\n\u001b[1;32m    292\u001b[0m                 \u001b[0;32mreturn\u001b[0m \u001b[0mDatetimeIndex\u001b[0m\u001b[0;34m.\u001b[0m\u001b[0m_simple_new\u001b[0m\u001b[0;34m(\u001b[0m\u001b[0mvalues\u001b[0m\u001b[0;34m,\u001b[0m \u001b[0mname\u001b[0m\u001b[0;34m=\u001b[0m\u001b[0mname\u001b[0m\u001b[0;34m,\u001b[0m \u001b[0mtz\u001b[0m\u001b[0;34m=\u001b[0m\u001b[0mtz\u001b[0m\u001b[0;34m)\u001b[0m\u001b[0;34m\u001b[0m\u001b[0;34m\u001b[0m\u001b[0m\n\u001b[1;32m    293\u001b[0m             \u001b[0;32mexcept\u001b[0m \u001b[0;34m(\u001b[0m\u001b[0mValueError\u001b[0m\u001b[0;34m,\u001b[0m \u001b[0mTypeError\u001b[0m\u001b[0;34m)\u001b[0m\u001b[0;34m:\u001b[0m\u001b[0;34m\u001b[0m\u001b[0;34m\u001b[0m\u001b[0m\n\u001b[0;32m--> 294\u001b[0;31m                 \u001b[0;32mraise\u001b[0m \u001b[0me\u001b[0m\u001b[0;34m\u001b[0m\u001b[0;34m\u001b[0m\u001b[0m\n\u001b[0m\u001b[1;32m    295\u001b[0m \u001b[0;34m\u001b[0m\u001b[0m\n\u001b[1;32m    296\u001b[0m     \u001b[0;32mif\u001b[0m \u001b[0mresult\u001b[0m \u001b[0;32mis\u001b[0m \u001b[0;32mNone\u001b[0m\u001b[0;34m:\u001b[0m\u001b[0;34m\u001b[0m\u001b[0;34m\u001b[0m\u001b[0m\n",
      "\u001b[0;32m~/anaconda3/lib/python3.7/site-packages/pandas/core/tools/datetimes.py\u001b[0m in \u001b[0;36m_convert_listlike_datetimes\u001b[0;34m(arg, box, format, name, tz, unit, errors, infer_datetime_format, dayfirst, yearfirst, exact)\u001b[0m\n\u001b[1;32m    259\u001b[0m                 \u001b[0;32mtry\u001b[0m\u001b[0;34m:\u001b[0m\u001b[0;34m\u001b[0m\u001b[0;34m\u001b[0m\u001b[0m\n\u001b[1;32m    260\u001b[0m                     result, timezones = array_strptime(\n\u001b[0;32m--> 261\u001b[0;31m                         arg, format, exact=exact, errors=errors)\n\u001b[0m\u001b[1;32m    262\u001b[0m                     \u001b[0;32mif\u001b[0m \u001b[0;34m'%Z'\u001b[0m \u001b[0;32min\u001b[0m \u001b[0mformat\u001b[0m \u001b[0;32mor\u001b[0m \u001b[0;34m'%z'\u001b[0m \u001b[0;32min\u001b[0m \u001b[0mformat\u001b[0m\u001b[0;34m:\u001b[0m\u001b[0;34m\u001b[0m\u001b[0;34m\u001b[0m\u001b[0m\n\u001b[1;32m    263\u001b[0m                         return _return_parsed_timezone_results(\n",
      "\u001b[0;32mpandas/_libs/tslibs/strptime.pyx\u001b[0m in \u001b[0;36mpandas._libs.tslibs.strptime.array_strptime\u001b[0;34m()\u001b[0m\n",
      "\u001b[0;31mValueError\u001b[0m: time data '1973-01-03' does not match format '%y-%m-%d' (match)"
     ]
    }
   ],
   "source": [
    "\n",
    "\n",
    "trace = go.Histogram(\n",
    "    x=df_time,\n",
    "    marker=dict(\n",
    "        color='blue'\n",
    "    ),\n",
    "    opacity=0.75\n",
    ")\n",
    "\n",
    "layout = go.Layout(\n",
    "    title='Bills Proposed Over Years',\n",
    "    height=450,\n",
    "    width=1200,\n",
    "    xaxis=dict(\n",
    "        title='Month and year'\n",
    "    ),\n",
    "    yaxis=dict(\n",
    "        title='Bill Quantity'\n",
    "    ),\n",
    "    bargap=0.2,\n",
    ")\n",
    "\n",
    "data = [trace]\n",
    "\n",
    "fig = go.Figure(data=data, layout=layout)\n",
    "py.offline.iplot(fig)"
   ]
  },
  {
   "cell_type": "code",
   "execution_count": null,
   "metadata": {},
   "outputs": [],
   "source": []
  }
 ],
 "metadata": {
  "kernelspec": {
   "display_name": "Python 3",
   "language": "python",
   "name": "python3"
  },
  "language_info": {
   "codemirror_mode": {
    "name": "ipython",
    "version": 3
   },
   "file_extension": ".py",
   "mimetype": "text/x-python",
   "name": "python",
   "nbconvert_exporter": "python",
   "pygments_lexer": "ipython3",
   "version": "3.7.3"
  }
 },
 "nbformat": 4,
 "nbformat_minor": 2
}
