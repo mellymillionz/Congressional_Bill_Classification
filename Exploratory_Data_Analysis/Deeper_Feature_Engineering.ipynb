{
 "cells": [
  {
   "cell_type": "markdown",
   "metadata": {},
   "source": [
    "# EDA for Combined Tables: Topics and Bills"
   ]
  },
  {
   "cell_type": "code",
   "execution_count": 1,
   "metadata": {},
   "outputs": [],
   "source": [
    "import mysql.connector \n",
    "import numpy as np\n",
    "import pandas as pd\n",
    "import config_final\n",
    "import requests\n",
    "from utilities import query, query_list\n",
    "\n",
    "\n",
    "from sodapy import Socrata\n",
    "import sqlalchemy as db\n",
    "\n",
    "\n",
    "import config_final as config\n",
    "from schema import DbSchema\n",
    "\n",
    "import pickle\n"
   ]
  },
  {
   "cell_type": "code",
   "execution_count": 2,
   "metadata": {},
   "outputs": [],
   "source": [
    "bills_db = DbSchema(config)"
   ]
  },
  {
   "cell_type": "markdown",
   "metadata": {},
   "source": [
    "**Connect to Database**"
   ]
  },
  {
   "cell_type": "code",
   "execution_count": 3,
   "metadata": {},
   "outputs": [
    {
     "data": {
      "text/html": [
       "<div>\n",
       "<style scoped>\n",
       "    .dataframe tbody tr th:only-of-type {\n",
       "        vertical-align: middle;\n",
       "    }\n",
       "\n",
       "    .dataframe tbody tr th {\n",
       "        vertical-align: top;\n",
       "    }\n",
       "\n",
       "    .dataframe thead th {\n",
       "        text-align: right;\n",
       "    }\n",
       "</style>\n",
       "<table border=\"1\" class=\"dataframe\">\n",
       "  <thead>\n",
       "    <tr style=\"text-align: right;\">\n",
       "      <th></th>\n",
       "      <th>BillID</th>\n",
       "      <th>BillType</th>\n",
       "      <th>Chamber</th>\n",
       "      <th>Cong</th>\n",
       "      <th>Cosponsr</th>\n",
       "      <th>IntrDate</th>\n",
       "      <th>Mult</th>\n",
       "      <th>PLaw</th>\n",
       "      <th>Title</th>\n",
       "      <th>Veto</th>\n",
       "      <th>...</th>\n",
       "      <th>PLawNum</th>\n",
       "      <th>ImpBill</th>\n",
       "      <th>Majority</th>\n",
       "      <th>Major</th>\n",
       "      <th>Minor</th>\n",
       "      <th>URL</th>\n",
       "      <th>Summary</th>\n",
       "      <th>Index</th>\n",
       "      <th>BillID</th>\n",
       "      <th>dominant_topic</th>\n",
       "    </tr>\n",
       "  </thead>\n",
       "  <tbody>\n",
       "    <tr>\n",
       "      <th>0</th>\n",
       "      <td>110-HR-1</td>\n",
       "      <td>hr</td>\n",
       "      <td>0</td>\n",
       "      <td>110</td>\n",
       "      <td>205.0</td>\n",
       "      <td>2007-01-05 00:00:00</td>\n",
       "      <td>1</td>\n",
       "      <td>1</td>\n",
       "      <td>To provide for the implementation of the recom...</td>\n",
       "      <td>0</td>\n",
       "      <td>...</td>\n",
       "      <td>Became Public Law No: 110-53.</td>\n",
       "      <td>1</td>\n",
       "      <td>1</td>\n",
       "      <td>16.0</td>\n",
       "      <td>1615.0</td>\n",
       "      <td>https://www.congress.gov/bill/110th-congress/h...</td>\n",
       "      <td>Implementing Recommendations of the 9/11 Commi...</td>\n",
       "      <td>51068</td>\n",
       "      <td>110-HR-1</td>\n",
       "      <td>5</td>\n",
       "    </tr>\n",
       "    <tr>\n",
       "      <th>1</th>\n",
       "      <td>110-HR-10</td>\n",
       "      <td>hr</td>\n",
       "      <td>0</td>\n",
       "      <td>110</td>\n",
       "      <td>0.0</td>\n",
       "      <td>2007-01-04 00:00:00</td>\n",
       "      <td>0</td>\n",
       "      <td>0</td>\n",
       "      <td>Reserved for Speaker.</td>\n",
       "      <td>0</td>\n",
       "      <td>...</td>\n",
       "      <td>0</td>\n",
       "      <td>1</td>\n",
       "      <td>1</td>\n",
       "      <td>20.0</td>\n",
       "      <td>2002.0</td>\n",
       "      <td>https://www.congress.gov/bill/110th-congress/h...</td>\n",
       "      <td></td>\n",
       "      <td>51069</td>\n",
       "      <td>110-HR-10</td>\n",
       "      <td>10</td>\n",
       "    </tr>\n",
       "    <tr>\n",
       "      <th>2</th>\n",
       "      <td>110-HR-100</td>\n",
       "      <td>hr</td>\n",
       "      <td>0</td>\n",
       "      <td>110</td>\n",
       "      <td>10.0</td>\n",
       "      <td>2007-01-04 00:00:00</td>\n",
       "      <td>0</td>\n",
       "      <td>0</td>\n",
       "      <td>To amend the Higher Education Act of 1965 to p...</td>\n",
       "      <td>0</td>\n",
       "      <td>...</td>\n",
       "      <td>0</td>\n",
       "      <td>1</td>\n",
       "      <td>1</td>\n",
       "      <td>6.0</td>\n",
       "      <td>601.0</td>\n",
       "      <td>https://www.congress.gov/bill/110th-congress/h...</td>\n",
       "      <td>Veterans' Equity in Education Act of 2007 - Am...</td>\n",
       "      <td>51070</td>\n",
       "      <td>110-HR-100</td>\n",
       "      <td>4</td>\n",
       "    </tr>\n",
       "    <tr>\n",
       "      <th>3</th>\n",
       "      <td>110-HR-1000</td>\n",
       "      <td>hr</td>\n",
       "      <td>0</td>\n",
       "      <td>110</td>\n",
       "      <td>286.0</td>\n",
       "      <td>2007-02-12 00:00:00</td>\n",
       "      <td>0</td>\n",
       "      <td>0</td>\n",
       "      <td>To award a congressional gold medal to Edward ...</td>\n",
       "      <td>0</td>\n",
       "      <td>...</td>\n",
       "      <td>0</td>\n",
       "      <td>0</td>\n",
       "      <td>1</td>\n",
       "      <td>20.0</td>\n",
       "      <td>2006.0</td>\n",
       "      <td>https://www.congress.gov/bill/110th-congress/h...</td>\n",
       "      <td>Edward William Brooke III Congressional Gold M...</td>\n",
       "      <td>51071</td>\n",
       "      <td>110-HR-1000</td>\n",
       "      <td>10</td>\n",
       "    </tr>\n",
       "    <tr>\n",
       "      <th>4</th>\n",
       "      <td>110-HR-1001</td>\n",
       "      <td>hr</td>\n",
       "      <td>0</td>\n",
       "      <td>110</td>\n",
       "      <td>0.0</td>\n",
       "      <td>2007-02-12 00:00:00</td>\n",
       "      <td>0</td>\n",
       "      <td>0</td>\n",
       "      <td>To amend the Haitian Hemispheric Opportunity t...</td>\n",
       "      <td>0</td>\n",
       "      <td>...</td>\n",
       "      <td>0</td>\n",
       "      <td>1</td>\n",
       "      <td>1</td>\n",
       "      <td>19.0</td>\n",
       "      <td>1921.0</td>\n",
       "      <td>https://www.congress.gov/bill/110th-congress/h...</td>\n",
       "      <td>Amends the Caribbean Basin Economic Recovery A...</td>\n",
       "      <td>51072</td>\n",
       "      <td>110-HR-1001</td>\n",
       "      <td>5</td>\n",
       "    </tr>\n",
       "  </tbody>\n",
       "</table>\n",
       "<p>5 rows × 32 columns</p>\n",
       "</div>"
      ],
      "text/plain": [
       "        BillID BillType  Chamber  Cong  Cosponsr             IntrDate  Mult  \\\n",
       "0     110-HR-1       hr        0   110     205.0  2007-01-05 00:00:00     1   \n",
       "1    110-HR-10       hr        0   110       0.0  2007-01-04 00:00:00     0   \n",
       "2   110-HR-100       hr        0   110      10.0  2007-01-04 00:00:00     0   \n",
       "3  110-HR-1000       hr        0   110     286.0  2007-02-12 00:00:00     0   \n",
       "4  110-HR-1001       hr        0   110       0.0  2007-02-12 00:00:00     0   \n",
       "\n",
       "   PLaw                                              Title  Veto  ...  \\\n",
       "0     1  To provide for the implementation of the recom...     0  ...   \n",
       "1     0                              Reserved for Speaker.     0  ...   \n",
       "2     0  To amend the Higher Education Act of 1965 to p...     0  ...   \n",
       "3     0  To award a congressional gold medal to Edward ...     0  ...   \n",
       "4     0  To amend the Haitian Hemispheric Opportunity t...     0  ...   \n",
       "\n",
       "                         PLawNum  ImpBill  Majority  Major   Minor  \\\n",
       "0  Became Public Law No: 110-53.        1         1   16.0  1615.0   \n",
       "1                              0        1         1   20.0  2002.0   \n",
       "2                              0        1         1    6.0   601.0   \n",
       "3                              0        0         1   20.0  2006.0   \n",
       "4                              0        1         1   19.0  1921.0   \n",
       "\n",
       "                                                 URL  \\\n",
       "0  https://www.congress.gov/bill/110th-congress/h...   \n",
       "1  https://www.congress.gov/bill/110th-congress/h...   \n",
       "2  https://www.congress.gov/bill/110th-congress/h...   \n",
       "3  https://www.congress.gov/bill/110th-congress/h...   \n",
       "4  https://www.congress.gov/bill/110th-congress/h...   \n",
       "\n",
       "                                             Summary  Index       BillID  \\\n",
       "0  Implementing Recommendations of the 9/11 Commi...  51068     110-HR-1   \n",
       "1                                                     51069    110-HR-10   \n",
       "2  Veterans' Equity in Education Act of 2007 - Am...  51070   110-HR-100   \n",
       "3  Edward William Brooke III Congressional Gold M...  51071  110-HR-1000   \n",
       "4  Amends the Caribbean Basin Economic Recovery A...  51072  110-HR-1001   \n",
       "\n",
       "   dominant_topic  \n",
       "0               5  \n",
       "1              10  \n",
       "2               4  \n",
       "3              10  \n",
       "4               5  \n",
       "\n",
       "[5 rows x 32 columns]"
      ]
     },
     "execution_count": 3,
     "metadata": {},
     "output_type": "execute_result"
    }
   ],
   "source": [
    "#Query all titles and Passing\n",
    "\n",
    "df = bills_db.query(\"\"\"\n",
    "    SELECT\n",
    "        *\n",
    "    FROM con_bills.current_bills as cb\n",
    "    JOIN con_bills.topics as tp\n",
    "    ON cb.BillID = tp.BillID\n",
    "    WHERE cb.Cong >=110\n",
    "    \"\"\")\n",
    "df.head()"
   ]
  },
  {
   "cell_type": "markdown",
   "metadata": {},
   "source": [
    "**Review All data**"
   ]
  },
  {
   "cell_type": "markdown",
   "metadata": {},
   "source": [
    "Important coding:\n",
    "    \n",
    "- Party: (100 Democrat; 200 Republican, 328…from ICPSR)\n",
    "- Cosponsor: Number of cosponsors\n",
    "    "
   ]
  },
  {
   "cell_type": "code",
   "execution_count": 4,
   "metadata": {
    "scrolled": true
   },
   "outputs": [
    {
     "data": {
      "text/html": [
       "<div>\n",
       "<style scoped>\n",
       "    .dataframe tbody tr th:only-of-type {\n",
       "        vertical-align: middle;\n",
       "    }\n",
       "\n",
       "    .dataframe tbody tr th {\n",
       "        vertical-align: top;\n",
       "    }\n",
       "\n",
       "    .dataframe thead th {\n",
       "        text-align: right;\n",
       "    }\n",
       "</style>\n",
       "<table border=\"1\" class=\"dataframe\">\n",
       "  <thead>\n",
       "    <tr style=\"text-align: right;\">\n",
       "      <th></th>\n",
       "      <th>BillID</th>\n",
       "      <th>BillType</th>\n",
       "      <th>Chamber</th>\n",
       "      <th>Cong</th>\n",
       "      <th>Cosponsr</th>\n",
       "      <th>IntrDate</th>\n",
       "      <th>Mult</th>\n",
       "      <th>PLaw</th>\n",
       "      <th>Title</th>\n",
       "      <th>Veto</th>\n",
       "      <th>...</th>\n",
       "      <th>PLawNum</th>\n",
       "      <th>ImpBill</th>\n",
       "      <th>Majority</th>\n",
       "      <th>Major</th>\n",
       "      <th>Minor</th>\n",
       "      <th>URL</th>\n",
       "      <th>Summary</th>\n",
       "      <th>Index</th>\n",
       "      <th>BillID</th>\n",
       "      <th>dominant_topic</th>\n",
       "    </tr>\n",
       "  </thead>\n",
       "  <tbody>\n",
       "    <tr>\n",
       "      <th>0</th>\n",
       "      <td>110-HR-1</td>\n",
       "      <td>hr</td>\n",
       "      <td>0</td>\n",
       "      <td>110</td>\n",
       "      <td>205.0</td>\n",
       "      <td>2007-01-05 00:00:00</td>\n",
       "      <td>1</td>\n",
       "      <td>1</td>\n",
       "      <td>To provide for the implementation of the recom...</td>\n",
       "      <td>0</td>\n",
       "      <td>...</td>\n",
       "      <td>Became Public Law No: 110-53.</td>\n",
       "      <td>1</td>\n",
       "      <td>1</td>\n",
       "      <td>16.0</td>\n",
       "      <td>1615.0</td>\n",
       "      <td>https://www.congress.gov/bill/110th-congress/h...</td>\n",
       "      <td>Implementing Recommendations of the 9/11 Commi...</td>\n",
       "      <td>51068</td>\n",
       "      <td>110-HR-1</td>\n",
       "      <td>5</td>\n",
       "    </tr>\n",
       "    <tr>\n",
       "      <th>1</th>\n",
       "      <td>110-HR-10</td>\n",
       "      <td>hr</td>\n",
       "      <td>0</td>\n",
       "      <td>110</td>\n",
       "      <td>0.0</td>\n",
       "      <td>2007-01-04 00:00:00</td>\n",
       "      <td>0</td>\n",
       "      <td>0</td>\n",
       "      <td>Reserved for Speaker.</td>\n",
       "      <td>0</td>\n",
       "      <td>...</td>\n",
       "      <td>0</td>\n",
       "      <td>1</td>\n",
       "      <td>1</td>\n",
       "      <td>20.0</td>\n",
       "      <td>2002.0</td>\n",
       "      <td>https://www.congress.gov/bill/110th-congress/h...</td>\n",
       "      <td></td>\n",
       "      <td>51069</td>\n",
       "      <td>110-HR-10</td>\n",
       "      <td>10</td>\n",
       "    </tr>\n",
       "    <tr>\n",
       "      <th>2</th>\n",
       "      <td>110-HR-100</td>\n",
       "      <td>hr</td>\n",
       "      <td>0</td>\n",
       "      <td>110</td>\n",
       "      <td>10.0</td>\n",
       "      <td>2007-01-04 00:00:00</td>\n",
       "      <td>0</td>\n",
       "      <td>0</td>\n",
       "      <td>To amend the Higher Education Act of 1965 to p...</td>\n",
       "      <td>0</td>\n",
       "      <td>...</td>\n",
       "      <td>0</td>\n",
       "      <td>1</td>\n",
       "      <td>1</td>\n",
       "      <td>6.0</td>\n",
       "      <td>601.0</td>\n",
       "      <td>https://www.congress.gov/bill/110th-congress/h...</td>\n",
       "      <td>Veterans' Equity in Education Act of 2007 - Am...</td>\n",
       "      <td>51070</td>\n",
       "      <td>110-HR-100</td>\n",
       "      <td>4</td>\n",
       "    </tr>\n",
       "    <tr>\n",
       "      <th>3</th>\n",
       "      <td>110-HR-1000</td>\n",
       "      <td>hr</td>\n",
       "      <td>0</td>\n",
       "      <td>110</td>\n",
       "      <td>286.0</td>\n",
       "      <td>2007-02-12 00:00:00</td>\n",
       "      <td>0</td>\n",
       "      <td>0</td>\n",
       "      <td>To award a congressional gold medal to Edward ...</td>\n",
       "      <td>0</td>\n",
       "      <td>...</td>\n",
       "      <td>0</td>\n",
       "      <td>0</td>\n",
       "      <td>1</td>\n",
       "      <td>20.0</td>\n",
       "      <td>2006.0</td>\n",
       "      <td>https://www.congress.gov/bill/110th-congress/h...</td>\n",
       "      <td>Edward William Brooke III Congressional Gold M...</td>\n",
       "      <td>51071</td>\n",
       "      <td>110-HR-1000</td>\n",
       "      <td>10</td>\n",
       "    </tr>\n",
       "    <tr>\n",
       "      <th>4</th>\n",
       "      <td>110-HR-1001</td>\n",
       "      <td>hr</td>\n",
       "      <td>0</td>\n",
       "      <td>110</td>\n",
       "      <td>0.0</td>\n",
       "      <td>2007-02-12 00:00:00</td>\n",
       "      <td>0</td>\n",
       "      <td>0</td>\n",
       "      <td>To amend the Haitian Hemispheric Opportunity t...</td>\n",
       "      <td>0</td>\n",
       "      <td>...</td>\n",
       "      <td>0</td>\n",
       "      <td>1</td>\n",
       "      <td>1</td>\n",
       "      <td>19.0</td>\n",
       "      <td>1921.0</td>\n",
       "      <td>https://www.congress.gov/bill/110th-congress/h...</td>\n",
       "      <td>Amends the Caribbean Basin Economic Recovery A...</td>\n",
       "      <td>51072</td>\n",
       "      <td>110-HR-1001</td>\n",
       "      <td>5</td>\n",
       "    </tr>\n",
       "  </tbody>\n",
       "</table>\n",
       "<p>5 rows × 32 columns</p>\n",
       "</div>"
      ],
      "text/plain": [
       "        BillID BillType  Chamber  Cong  Cosponsr             IntrDate  Mult  \\\n",
       "0     110-HR-1       hr        0   110     205.0  2007-01-05 00:00:00     1   \n",
       "1    110-HR-10       hr        0   110       0.0  2007-01-04 00:00:00     0   \n",
       "2   110-HR-100       hr        0   110      10.0  2007-01-04 00:00:00     0   \n",
       "3  110-HR-1000       hr        0   110     286.0  2007-02-12 00:00:00     0   \n",
       "4  110-HR-1001       hr        0   110       0.0  2007-02-12 00:00:00     0   \n",
       "\n",
       "   PLaw                                              Title  Veto  ...  \\\n",
       "0     1  To provide for the implementation of the recom...     0  ...   \n",
       "1     0                              Reserved for Speaker.     0  ...   \n",
       "2     0  To amend the Higher Education Act of 1965 to p...     0  ...   \n",
       "3     0  To award a congressional gold medal to Edward ...     0  ...   \n",
       "4     0  To amend the Haitian Hemispheric Opportunity t...     0  ...   \n",
       "\n",
       "                         PLawNum  ImpBill  Majority  Major   Minor  \\\n",
       "0  Became Public Law No: 110-53.        1         1   16.0  1615.0   \n",
       "1                              0        1         1   20.0  2002.0   \n",
       "2                              0        1         1    6.0   601.0   \n",
       "3                              0        0         1   20.0  2006.0   \n",
       "4                              0        1         1   19.0  1921.0   \n",
       "\n",
       "                                                 URL  \\\n",
       "0  https://www.congress.gov/bill/110th-congress/h...   \n",
       "1  https://www.congress.gov/bill/110th-congress/h...   \n",
       "2  https://www.congress.gov/bill/110th-congress/h...   \n",
       "3  https://www.congress.gov/bill/110th-congress/h...   \n",
       "4  https://www.congress.gov/bill/110th-congress/h...   \n",
       "\n",
       "                                             Summary  Index       BillID  \\\n",
       "0  Implementing Recommendations of the 9/11 Commi...  51068     110-HR-1   \n",
       "1                                                     51069    110-HR-10   \n",
       "2  Veterans' Equity in Education Act of 2007 - Am...  51070   110-HR-100   \n",
       "3  Edward William Brooke III Congressional Gold M...  51071  110-HR-1000   \n",
       "4  Amends the Caribbean Basin Economic Recovery A...  51072  110-HR-1001   \n",
       "\n",
       "   dominant_topic  \n",
       "0               5  \n",
       "1              10  \n",
       "2               4  \n",
       "3              10  \n",
       "4               5  \n",
       "\n",
       "[5 rows x 32 columns]"
      ]
     },
     "execution_count": 4,
     "metadata": {},
     "output_type": "execute_result"
    }
   ],
   "source": [
    "df.head()"
   ]
  },
  {
   "cell_type": "code",
   "execution_count": 5,
   "metadata": {},
   "outputs": [
    {
     "data": {
      "text/plain": [
       "(51067, 32)"
      ]
     },
     "execution_count": 5,
     "metadata": {},
     "output_type": "execute_result"
    }
   ],
   "source": [
    "df.shape"
   ]
  },
  {
   "cell_type": "code",
   "execution_count": 6,
   "metadata": {},
   "outputs": [
    {
     "data": {
      "text/plain": [
       "0    47042\n",
       "1     4025\n",
       "Name: PassH, dtype: int64"
      ]
     },
     "execution_count": 6,
     "metadata": {},
     "output_type": "execute_result"
    }
   ],
   "source": [
    "#Review the dependent variable counts\n",
    "df['PassH'].value_counts()"
   ]
  },
  {
   "cell_type": "code",
   "execution_count": 7,
   "metadata": {},
   "outputs": [
    {
     "data": {
      "text/plain": [
       "100.0    30400\n",
       "200.0    20660\n",
       "328.0        7\n",
       "Name: Party, dtype: int64"
      ]
     },
     "execution_count": 7,
     "metadata": {},
     "output_type": "execute_result"
    }
   ],
   "source": [
    "df['Party'].value_counts()"
   ]
  },
  {
   "cell_type": "code",
   "execution_count": 8,
   "metadata": {},
   "outputs": [
    {
     "name": "stdout",
     "output_type": "stream",
     "text": [
      "<class 'pandas.core.frame.DataFrame'>\n",
      "RangeIndex: 51067 entries, 0 to 51066\n",
      "Data columns (total 32 columns):\n",
      "BillID            51067 non-null object\n",
      "BillType          51067 non-null object\n",
      "Chamber           51067 non-null int64\n",
      "Cong              51067 non-null int64\n",
      "Cosponsr          51067 non-null float64\n",
      "IntrDate          51025 non-null object\n",
      "Mult              51067 non-null int64\n",
      "PLaw              51067 non-null int64\n",
      "Title             51067 non-null object\n",
      "Veto              51067 non-null int64\n",
      "Class             51067 non-null float64\n",
      "District          51067 non-null float64\n",
      "FrstConH          51067 non-null float64\n",
      "FrstConS          51067 non-null float64\n",
      "Gender            51067 non-null int64\n",
      "MRef              51067 non-null int64\n",
      "NameFull          51067 non-null object\n",
      "Party             51067 non-null float64\n",
      "Postal            51067 non-null object\n",
      "PassH             51067 non-null int64\n",
      "PassS             51067 non-null int64\n",
      "PLawDate          1393 non-null object\n",
      "PLawNum           51067 non-null object\n",
      "ImpBill           51067 non-null int64\n",
      "Majority          51067 non-null int64\n",
      "Major             51067 non-null float64\n",
      "Minor             51067 non-null float64\n",
      "URL               51067 non-null object\n",
      "Summary           51017 non-null object\n",
      "Index             51067 non-null int64\n",
      "BillID            51067 non-null object\n",
      "dominant_topic    51067 non-null int64\n",
      "dtypes: float64(8), int64(13), object(11)\n",
      "memory usage: 12.5+ MB\n"
     ]
    }
   ],
   "source": [
    "df.info()"
   ]
  },
  {
   "cell_type": "markdown",
   "metadata": {},
   "source": [
    "**Combined Text:**"
   ]
  },
  {
   "cell_type": "code",
   "execution_count": 9,
   "metadata": {},
   "outputs": [],
   "source": [
    "df['combined_text'] = df[['Title', 'Summary']].astype(str).apply(' '.join, axis=1)"
   ]
  },
  {
   "cell_type": "code",
   "execution_count": 10,
   "metadata": {},
   "outputs": [
    {
     "data": {
      "text/html": [
       "<div>\n",
       "<style scoped>\n",
       "    .dataframe tbody tr th:only-of-type {\n",
       "        vertical-align: middle;\n",
       "    }\n",
       "\n",
       "    .dataframe tbody tr th {\n",
       "        vertical-align: top;\n",
       "    }\n",
       "\n",
       "    .dataframe thead th {\n",
       "        text-align: right;\n",
       "    }\n",
       "</style>\n",
       "<table border=\"1\" class=\"dataframe\">\n",
       "  <thead>\n",
       "    <tr style=\"text-align: right;\">\n",
       "      <th></th>\n",
       "      <th>BillID</th>\n",
       "      <th>BillType</th>\n",
       "      <th>Chamber</th>\n",
       "      <th>Cong</th>\n",
       "      <th>Cosponsr</th>\n",
       "      <th>IntrDate</th>\n",
       "      <th>Mult</th>\n",
       "      <th>PLaw</th>\n",
       "      <th>Title</th>\n",
       "      <th>Veto</th>\n",
       "      <th>...</th>\n",
       "      <th>ImpBill</th>\n",
       "      <th>Majority</th>\n",
       "      <th>Major</th>\n",
       "      <th>Minor</th>\n",
       "      <th>URL</th>\n",
       "      <th>Summary</th>\n",
       "      <th>Index</th>\n",
       "      <th>BillID</th>\n",
       "      <th>dominant_topic</th>\n",
       "      <th>combined_text</th>\n",
       "    </tr>\n",
       "  </thead>\n",
       "  <tbody>\n",
       "    <tr>\n",
       "      <th>0</th>\n",
       "      <td>110-HR-1</td>\n",
       "      <td>hr</td>\n",
       "      <td>0</td>\n",
       "      <td>110</td>\n",
       "      <td>205.0</td>\n",
       "      <td>2007-01-05 00:00:00</td>\n",
       "      <td>1</td>\n",
       "      <td>1</td>\n",
       "      <td>To provide for the implementation of the recom...</td>\n",
       "      <td>0</td>\n",
       "      <td>...</td>\n",
       "      <td>1</td>\n",
       "      <td>1</td>\n",
       "      <td>16.0</td>\n",
       "      <td>1615.0</td>\n",
       "      <td>https://www.congress.gov/bill/110th-congress/h...</td>\n",
       "      <td>Implementing Recommendations of the 9/11 Commi...</td>\n",
       "      <td>51068</td>\n",
       "      <td>110-HR-1</td>\n",
       "      <td>5</td>\n",
       "      <td>To provide for the implementation of the recom...</td>\n",
       "    </tr>\n",
       "    <tr>\n",
       "      <th>1</th>\n",
       "      <td>110-HR-10</td>\n",
       "      <td>hr</td>\n",
       "      <td>0</td>\n",
       "      <td>110</td>\n",
       "      <td>0.0</td>\n",
       "      <td>2007-01-04 00:00:00</td>\n",
       "      <td>0</td>\n",
       "      <td>0</td>\n",
       "      <td>Reserved for Speaker.</td>\n",
       "      <td>0</td>\n",
       "      <td>...</td>\n",
       "      <td>1</td>\n",
       "      <td>1</td>\n",
       "      <td>20.0</td>\n",
       "      <td>2002.0</td>\n",
       "      <td>https://www.congress.gov/bill/110th-congress/h...</td>\n",
       "      <td></td>\n",
       "      <td>51069</td>\n",
       "      <td>110-HR-10</td>\n",
       "      <td>10</td>\n",
       "      <td>Reserved for Speaker.</td>\n",
       "    </tr>\n",
       "    <tr>\n",
       "      <th>2</th>\n",
       "      <td>110-HR-100</td>\n",
       "      <td>hr</td>\n",
       "      <td>0</td>\n",
       "      <td>110</td>\n",
       "      <td>10.0</td>\n",
       "      <td>2007-01-04 00:00:00</td>\n",
       "      <td>0</td>\n",
       "      <td>0</td>\n",
       "      <td>To amend the Higher Education Act of 1965 to p...</td>\n",
       "      <td>0</td>\n",
       "      <td>...</td>\n",
       "      <td>1</td>\n",
       "      <td>1</td>\n",
       "      <td>6.0</td>\n",
       "      <td>601.0</td>\n",
       "      <td>https://www.congress.gov/bill/110th-congress/h...</td>\n",
       "      <td>Veterans' Equity in Education Act of 2007 - Am...</td>\n",
       "      <td>51070</td>\n",
       "      <td>110-HR-100</td>\n",
       "      <td>4</td>\n",
       "      <td>To amend the Higher Education Act of 1965 to p...</td>\n",
       "    </tr>\n",
       "    <tr>\n",
       "      <th>3</th>\n",
       "      <td>110-HR-1000</td>\n",
       "      <td>hr</td>\n",
       "      <td>0</td>\n",
       "      <td>110</td>\n",
       "      <td>286.0</td>\n",
       "      <td>2007-02-12 00:00:00</td>\n",
       "      <td>0</td>\n",
       "      <td>0</td>\n",
       "      <td>To award a congressional gold medal to Edward ...</td>\n",
       "      <td>0</td>\n",
       "      <td>...</td>\n",
       "      <td>0</td>\n",
       "      <td>1</td>\n",
       "      <td>20.0</td>\n",
       "      <td>2006.0</td>\n",
       "      <td>https://www.congress.gov/bill/110th-congress/h...</td>\n",
       "      <td>Edward William Brooke III Congressional Gold M...</td>\n",
       "      <td>51071</td>\n",
       "      <td>110-HR-1000</td>\n",
       "      <td>10</td>\n",
       "      <td>To award a congressional gold medal to Edward ...</td>\n",
       "    </tr>\n",
       "    <tr>\n",
       "      <th>4</th>\n",
       "      <td>110-HR-1001</td>\n",
       "      <td>hr</td>\n",
       "      <td>0</td>\n",
       "      <td>110</td>\n",
       "      <td>0.0</td>\n",
       "      <td>2007-02-12 00:00:00</td>\n",
       "      <td>0</td>\n",
       "      <td>0</td>\n",
       "      <td>To amend the Haitian Hemispheric Opportunity t...</td>\n",
       "      <td>0</td>\n",
       "      <td>...</td>\n",
       "      <td>1</td>\n",
       "      <td>1</td>\n",
       "      <td>19.0</td>\n",
       "      <td>1921.0</td>\n",
       "      <td>https://www.congress.gov/bill/110th-congress/h...</td>\n",
       "      <td>Amends the Caribbean Basin Economic Recovery A...</td>\n",
       "      <td>51072</td>\n",
       "      <td>110-HR-1001</td>\n",
       "      <td>5</td>\n",
       "      <td>To amend the Haitian Hemispheric Opportunity t...</td>\n",
       "    </tr>\n",
       "  </tbody>\n",
       "</table>\n",
       "<p>5 rows × 33 columns</p>\n",
       "</div>"
      ],
      "text/plain": [
       "        BillID BillType  Chamber  Cong  Cosponsr             IntrDate  Mult  \\\n",
       "0     110-HR-1       hr        0   110     205.0  2007-01-05 00:00:00     1   \n",
       "1    110-HR-10       hr        0   110       0.0  2007-01-04 00:00:00     0   \n",
       "2   110-HR-100       hr        0   110      10.0  2007-01-04 00:00:00     0   \n",
       "3  110-HR-1000       hr        0   110     286.0  2007-02-12 00:00:00     0   \n",
       "4  110-HR-1001       hr        0   110       0.0  2007-02-12 00:00:00     0   \n",
       "\n",
       "   PLaw                                              Title  Veto  ...  \\\n",
       "0     1  To provide for the implementation of the recom...     0  ...   \n",
       "1     0                              Reserved for Speaker.     0  ...   \n",
       "2     0  To amend the Higher Education Act of 1965 to p...     0  ...   \n",
       "3     0  To award a congressional gold medal to Edward ...     0  ...   \n",
       "4     0  To amend the Haitian Hemispheric Opportunity t...     0  ...   \n",
       "\n",
       "   ImpBill  Majority  Major   Minor  \\\n",
       "0        1         1   16.0  1615.0   \n",
       "1        1         1   20.0  2002.0   \n",
       "2        1         1    6.0   601.0   \n",
       "3        0         1   20.0  2006.0   \n",
       "4        1         1   19.0  1921.0   \n",
       "\n",
       "                                                 URL  \\\n",
       "0  https://www.congress.gov/bill/110th-congress/h...   \n",
       "1  https://www.congress.gov/bill/110th-congress/h...   \n",
       "2  https://www.congress.gov/bill/110th-congress/h...   \n",
       "3  https://www.congress.gov/bill/110th-congress/h...   \n",
       "4  https://www.congress.gov/bill/110th-congress/h...   \n",
       "\n",
       "                                             Summary  Index       BillID  \\\n",
       "0  Implementing Recommendations of the 9/11 Commi...  51068     110-HR-1   \n",
       "1                                                     51069    110-HR-10   \n",
       "2  Veterans' Equity in Education Act of 2007 - Am...  51070   110-HR-100   \n",
       "3  Edward William Brooke III Congressional Gold M...  51071  110-HR-1000   \n",
       "4  Amends the Caribbean Basin Economic Recovery A...  51072  110-HR-1001   \n",
       "\n",
       "  dominant_topic                                      combined_text  \n",
       "0              5  To provide for the implementation of the recom...  \n",
       "1             10                             Reserved for Speaker.   \n",
       "2              4  To amend the Higher Education Act of 1965 to p...  \n",
       "3             10  To award a congressional gold medal to Edward ...  \n",
       "4              5  To amend the Haitian Hemispheric Opportunity t...  \n",
       "\n",
       "[5 rows x 33 columns]"
      ]
     },
     "execution_count": 10,
     "metadata": {},
     "output_type": "execute_result"
    }
   ],
   "source": [
    "df.head()"
   ]
  },
  {
   "cell_type": "code",
   "execution_count": 11,
   "metadata": {},
   "outputs": [
    {
     "data": {
      "text/plain": [
       "'Short Sea Shipping Promotion Act of 2007 - Amends the Internal Revenue Code to exempt from the harbor maintenance tax cargo contained in intermodal cargo containers and loaded by crane on a vessel, or cargo loaded on a vessel by means of wheeled technology, that is: (1) loaded at a U.S. port and unloaded at another U.S. port or a port in Canada located in the Great Lakes Saint Lawrence Seaway System; or (2) loaded at a port in Canada located in the Great Lakes Saint Lawrence Seaway System and unloaded at a U.S. port.'"
      ]
     },
     "execution_count": 11,
     "metadata": {},
     "output_type": "execute_result"
    }
   ],
   "source": [
    "df.iloc[555][8]\n",
    "df.iloc[555][28]"
   ]
  },
  {
   "cell_type": "code",
   "execution_count": 12,
   "metadata": {},
   "outputs": [],
   "source": [
    "new = df[['PassH', 'combined_text', 'Cong', 'BillID']].copy()"
   ]
  },
  {
   "cell_type": "code",
   "execution_count": 13,
   "metadata": {},
   "outputs": [
    {
     "data": {
      "text/html": [
       "<div>\n",
       "<style scoped>\n",
       "    .dataframe tbody tr th:only-of-type {\n",
       "        vertical-align: middle;\n",
       "    }\n",
       "\n",
       "    .dataframe tbody tr th {\n",
       "        vertical-align: top;\n",
       "    }\n",
       "\n",
       "    .dataframe thead th {\n",
       "        text-align: right;\n",
       "    }\n",
       "</style>\n",
       "<table border=\"1\" class=\"dataframe\">\n",
       "  <thead>\n",
       "    <tr style=\"text-align: right;\">\n",
       "      <th></th>\n",
       "      <th>PassH</th>\n",
       "      <th>combined_text</th>\n",
       "      <th>Cong</th>\n",
       "      <th>BillID</th>\n",
       "      <th>BillID</th>\n",
       "    </tr>\n",
       "  </thead>\n",
       "  <tbody>\n",
       "    <tr>\n",
       "      <th>0</th>\n",
       "      <td>1</td>\n",
       "      <td>To provide for the implementation of the recom...</td>\n",
       "      <td>110</td>\n",
       "      <td>110-HR-1</td>\n",
       "      <td>110-HR-1</td>\n",
       "    </tr>\n",
       "    <tr>\n",
       "      <th>1</th>\n",
       "      <td>0</td>\n",
       "      <td>Reserved for Speaker.</td>\n",
       "      <td>110</td>\n",
       "      <td>110-HR-10</td>\n",
       "      <td>110-HR-10</td>\n",
       "    </tr>\n",
       "    <tr>\n",
       "      <th>2</th>\n",
       "      <td>0</td>\n",
       "      <td>To amend the Higher Education Act of 1965 to p...</td>\n",
       "      <td>110</td>\n",
       "      <td>110-HR-100</td>\n",
       "      <td>110-HR-100</td>\n",
       "    </tr>\n",
       "    <tr>\n",
       "      <th>3</th>\n",
       "      <td>0</td>\n",
       "      <td>To award a congressional gold medal to Edward ...</td>\n",
       "      <td>110</td>\n",
       "      <td>110-HR-1000</td>\n",
       "      <td>110-HR-1000</td>\n",
       "    </tr>\n",
       "    <tr>\n",
       "      <th>4</th>\n",
       "      <td>0</td>\n",
       "      <td>To amend the Haitian Hemispheric Opportunity t...</td>\n",
       "      <td>110</td>\n",
       "      <td>110-HR-1001</td>\n",
       "      <td>110-HR-1001</td>\n",
       "    </tr>\n",
       "  </tbody>\n",
       "</table>\n",
       "</div>"
      ],
      "text/plain": [
       "   PassH                                      combined_text  Cong  \\\n",
       "0      1  To provide for the implementation of the recom...   110   \n",
       "1      0                             Reserved for Speaker.    110   \n",
       "2      0  To amend the Higher Education Act of 1965 to p...   110   \n",
       "3      0  To award a congressional gold medal to Edward ...   110   \n",
       "4      0  To amend the Haitian Hemispheric Opportunity t...   110   \n",
       "\n",
       "        BillID       BillID  \n",
       "0     110-HR-1     110-HR-1  \n",
       "1    110-HR-10    110-HR-10  \n",
       "2   110-HR-100   110-HR-100  \n",
       "3  110-HR-1000  110-HR-1000  \n",
       "4  110-HR-1001  110-HR-1001  "
      ]
     },
     "execution_count": 13,
     "metadata": {},
     "output_type": "execute_result"
    }
   ],
   "source": [
    "new.head()"
   ]
  },
  {
   "cell_type": "code",
   "execution_count": 14,
   "metadata": {},
   "outputs": [
    {
     "name": "stdout",
     "output_type": "stream",
     "text": [
      "4025\n"
     ]
    },
    {
     "data": {
      "text/html": [
       "<div>\n",
       "<style scoped>\n",
       "    .dataframe tbody tr th:only-of-type {\n",
       "        vertical-align: middle;\n",
       "    }\n",
       "\n",
       "    .dataframe tbody tr th {\n",
       "        vertical-align: top;\n",
       "    }\n",
       "\n",
       "    .dataframe thead th {\n",
       "        text-align: right;\n",
       "    }\n",
       "</style>\n",
       "<table border=\"1\" class=\"dataframe\">\n",
       "  <thead>\n",
       "    <tr style=\"text-align: right;\">\n",
       "      <th></th>\n",
       "      <th>PassH</th>\n",
       "      <th>combined_text</th>\n",
       "      <th>Cong</th>\n",
       "      <th>BillID</th>\n",
       "      <th>BillID</th>\n",
       "    </tr>\n",
       "  </thead>\n",
       "  <tbody>\n",
       "    <tr>\n",
       "      <th>0</th>\n",
       "      <td>1</td>\n",
       "      <td>To provide for the implementation of the recom...</td>\n",
       "      <td>110</td>\n",
       "      <td>110-HR-1</td>\n",
       "      <td>110-HR-1</td>\n",
       "    </tr>\n",
       "    <tr>\n",
       "      <th>6</th>\n",
       "      <td>1</td>\n",
       "      <td>To amend the Foreign Affairs Reform and Restru...</td>\n",
       "      <td>110</td>\n",
       "      <td>110-HR-1003</td>\n",
       "      <td>110-HR-1003</td>\n",
       "    </tr>\n",
       "    <tr>\n",
       "      <th>9</th>\n",
       "      <td>1</td>\n",
       "      <td>To amend the provisions of law relating to the...</td>\n",
       "      <td>110</td>\n",
       "      <td>110-HR-1006</td>\n",
       "      <td>110-HR-1006</td>\n",
       "    </tr>\n",
       "    <tr>\n",
       "      <th>15</th>\n",
       "      <td>1</td>\n",
       "      <td>To designate additional National Forest System...</td>\n",
       "      <td>110</td>\n",
       "      <td>110-HR-1011</td>\n",
       "      <td>110-HR-1011</td>\n",
       "    </tr>\n",
       "    <tr>\n",
       "      <th>18</th>\n",
       "      <td>1</td>\n",
       "      <td>To amend the Federal Food, Drug, and Cosmetic ...</td>\n",
       "      <td>110</td>\n",
       "      <td>110-HR-1014</td>\n",
       "      <td>110-HR-1014</td>\n",
       "    </tr>\n",
       "  </tbody>\n",
       "</table>\n",
       "</div>"
      ],
      "text/plain": [
       "    PassH                                      combined_text  Cong  \\\n",
       "0       1  To provide for the implementation of the recom...   110   \n",
       "6       1  To amend the Foreign Affairs Reform and Restru...   110   \n",
       "9       1  To amend the provisions of law relating to the...   110   \n",
       "15      1  To designate additional National Forest System...   110   \n",
       "18      1  To amend the Federal Food, Drug, and Cosmetic ...   110   \n",
       "\n",
       "         BillID       BillID  \n",
       "0      110-HR-1     110-HR-1  \n",
       "6   110-HR-1003  110-HR-1003  \n",
       "9   110-HR-1006  110-HR-1006  \n",
       "15  110-HR-1011  110-HR-1011  \n",
       "18  110-HR-1014  110-HR-1014  "
      ]
     },
     "execution_count": 14,
     "metadata": {},
     "output_type": "execute_result"
    }
   ],
   "source": [
    "passed_only = new.loc[new['PassH'] != 0] \n",
    "\n",
    "print(len(passed_only))\n",
    "passed_only.head()"
   ]
  },
  {
   "cell_type": "code",
   "execution_count": 15,
   "metadata": {},
   "outputs": [
    {
     "data": {
      "text/plain": [
       "'To direct the Secretary of the Interior to conduct a special resources study regarding the suitability and feasibility of designating certain historic buildings and areas in Taunton, Massachusetts, as a unit of the National Park System, and for other purposes. (This measure has not been amended since it was introduced. The summary has been expanded because action occurred on the measure.)'"
      ]
     },
     "execution_count": 15,
     "metadata": {},
     "output_type": "execute_result"
    }
   ],
   "source": [
    "passed_only.iloc[6][1]"
   ]
  },
  {
   "cell_type": "markdown",
   "metadata": {},
   "source": [
    "**Basic NLP EDA:**"
   ]
  },
  {
   "cell_type": "code",
   "execution_count": 16,
   "metadata": {},
   "outputs": [
    {
     "data": {
      "text/plain": [
       "50"
      ]
     },
     "execution_count": 16,
     "metadata": {},
     "output_type": "execute_result"
    }
   ],
   "source": [
    "df['Summary'].isnull().sum()"
   ]
  },
  {
   "cell_type": "code",
   "execution_count": 17,
   "metadata": {},
   "outputs": [],
   "source": [
    "df['text_len'] = [len(summary) for summary in df['combined_text']]"
   ]
  },
  {
   "cell_type": "code",
   "execution_count": 18,
   "metadata": {},
   "outputs": [
    {
     "data": {
      "text/html": [
       "<div>\n",
       "<style scoped>\n",
       "    .dataframe tbody tr th:only-of-type {\n",
       "        vertical-align: middle;\n",
       "    }\n",
       "\n",
       "    .dataframe tbody tr th {\n",
       "        vertical-align: top;\n",
       "    }\n",
       "\n",
       "    .dataframe thead th {\n",
       "        text-align: right;\n",
       "    }\n",
       "</style>\n",
       "<table border=\"1\" class=\"dataframe\">\n",
       "  <thead>\n",
       "    <tr style=\"text-align: right;\">\n",
       "      <th></th>\n",
       "      <th>BillID</th>\n",
       "      <th>BillType</th>\n",
       "      <th>Chamber</th>\n",
       "      <th>Cong</th>\n",
       "      <th>Cosponsr</th>\n",
       "      <th>IntrDate</th>\n",
       "      <th>Mult</th>\n",
       "      <th>PLaw</th>\n",
       "      <th>Title</th>\n",
       "      <th>Veto</th>\n",
       "      <th>...</th>\n",
       "      <th>Majority</th>\n",
       "      <th>Major</th>\n",
       "      <th>Minor</th>\n",
       "      <th>URL</th>\n",
       "      <th>Summary</th>\n",
       "      <th>Index</th>\n",
       "      <th>BillID</th>\n",
       "      <th>dominant_topic</th>\n",
       "      <th>combined_text</th>\n",
       "      <th>text_len</th>\n",
       "    </tr>\n",
       "  </thead>\n",
       "  <tbody>\n",
       "    <tr>\n",
       "      <th>0</th>\n",
       "      <td>110-HR-1</td>\n",
       "      <td>hr</td>\n",
       "      <td>0</td>\n",
       "      <td>110</td>\n",
       "      <td>205.0</td>\n",
       "      <td>2007-01-05 00:00:00</td>\n",
       "      <td>1</td>\n",
       "      <td>1</td>\n",
       "      <td>To provide for the implementation of the recom...</td>\n",
       "      <td>0</td>\n",
       "      <td>...</td>\n",
       "      <td>1</td>\n",
       "      <td>16.0</td>\n",
       "      <td>1615.0</td>\n",
       "      <td>https://www.congress.gov/bill/110th-congress/h...</td>\n",
       "      <td>Implementing Recommendations of the 9/11 Commi...</td>\n",
       "      <td>51068</td>\n",
       "      <td>110-HR-1</td>\n",
       "      <td>5</td>\n",
       "      <td>To provide for the implementation of the recom...</td>\n",
       "      <td>331</td>\n",
       "    </tr>\n",
       "    <tr>\n",
       "      <th>1</th>\n",
       "      <td>110-HR-10</td>\n",
       "      <td>hr</td>\n",
       "      <td>0</td>\n",
       "      <td>110</td>\n",
       "      <td>0.0</td>\n",
       "      <td>2007-01-04 00:00:00</td>\n",
       "      <td>0</td>\n",
       "      <td>0</td>\n",
       "      <td>Reserved for Speaker.</td>\n",
       "      <td>0</td>\n",
       "      <td>...</td>\n",
       "      <td>1</td>\n",
       "      <td>20.0</td>\n",
       "      <td>2002.0</td>\n",
       "      <td>https://www.congress.gov/bill/110th-congress/h...</td>\n",
       "      <td></td>\n",
       "      <td>51069</td>\n",
       "      <td>110-HR-10</td>\n",
       "      <td>10</td>\n",
       "      <td>Reserved for Speaker.</td>\n",
       "      <td>22</td>\n",
       "    </tr>\n",
       "    <tr>\n",
       "      <th>2</th>\n",
       "      <td>110-HR-100</td>\n",
       "      <td>hr</td>\n",
       "      <td>0</td>\n",
       "      <td>110</td>\n",
       "      <td>10.0</td>\n",
       "      <td>2007-01-04 00:00:00</td>\n",
       "      <td>0</td>\n",
       "      <td>0</td>\n",
       "      <td>To amend the Higher Education Act of 1965 to p...</td>\n",
       "      <td>0</td>\n",
       "      <td>...</td>\n",
       "      <td>1</td>\n",
       "      <td>6.0</td>\n",
       "      <td>601.0</td>\n",
       "      <td>https://www.congress.gov/bill/110th-congress/h...</td>\n",
       "      <td>Veterans' Equity in Education Act of 2007 - Am...</td>\n",
       "      <td>51070</td>\n",
       "      <td>110-HR-100</td>\n",
       "      <td>4</td>\n",
       "      <td>To amend the Higher Education Act of 1965 to p...</td>\n",
       "      <td>720</td>\n",
       "    </tr>\n",
       "    <tr>\n",
       "      <th>3</th>\n",
       "      <td>110-HR-1000</td>\n",
       "      <td>hr</td>\n",
       "      <td>0</td>\n",
       "      <td>110</td>\n",
       "      <td>286.0</td>\n",
       "      <td>2007-02-12 00:00:00</td>\n",
       "      <td>0</td>\n",
       "      <td>0</td>\n",
       "      <td>To award a congressional gold medal to Edward ...</td>\n",
       "      <td>0</td>\n",
       "      <td>...</td>\n",
       "      <td>1</td>\n",
       "      <td>20.0</td>\n",
       "      <td>2006.0</td>\n",
       "      <td>https://www.congress.gov/bill/110th-congress/h...</td>\n",
       "      <td>Edward William Brooke III Congressional Gold M...</td>\n",
       "      <td>51071</td>\n",
       "      <td>110-HR-1000</td>\n",
       "      <td>10</td>\n",
       "      <td>To award a congressional gold medal to Edward ...</td>\n",
       "      <td>400</td>\n",
       "    </tr>\n",
       "    <tr>\n",
       "      <th>4</th>\n",
       "      <td>110-HR-1001</td>\n",
       "      <td>hr</td>\n",
       "      <td>0</td>\n",
       "      <td>110</td>\n",
       "      <td>0.0</td>\n",
       "      <td>2007-02-12 00:00:00</td>\n",
       "      <td>0</td>\n",
       "      <td>0</td>\n",
       "      <td>To amend the Haitian Hemispheric Opportunity t...</td>\n",
       "      <td>0</td>\n",
       "      <td>...</td>\n",
       "      <td>1</td>\n",
       "      <td>19.0</td>\n",
       "      <td>1921.0</td>\n",
       "      <td>https://www.congress.gov/bill/110th-congress/h...</td>\n",
       "      <td>Amends the Caribbean Basin Economic Recovery A...</td>\n",
       "      <td>51072</td>\n",
       "      <td>110-HR-1001</td>\n",
       "      <td>5</td>\n",
       "      <td>To amend the Haitian Hemispheric Opportunity t...</td>\n",
       "      <td>575</td>\n",
       "    </tr>\n",
       "  </tbody>\n",
       "</table>\n",
       "<p>5 rows × 34 columns</p>\n",
       "</div>"
      ],
      "text/plain": [
       "        BillID BillType  Chamber  Cong  Cosponsr             IntrDate  Mult  \\\n",
       "0     110-HR-1       hr        0   110     205.0  2007-01-05 00:00:00     1   \n",
       "1    110-HR-10       hr        0   110       0.0  2007-01-04 00:00:00     0   \n",
       "2   110-HR-100       hr        0   110      10.0  2007-01-04 00:00:00     0   \n",
       "3  110-HR-1000       hr        0   110     286.0  2007-02-12 00:00:00     0   \n",
       "4  110-HR-1001       hr        0   110       0.0  2007-02-12 00:00:00     0   \n",
       "\n",
       "   PLaw                                              Title  Veto  ...  \\\n",
       "0     1  To provide for the implementation of the recom...     0  ...   \n",
       "1     0                              Reserved for Speaker.     0  ...   \n",
       "2     0  To amend the Higher Education Act of 1965 to p...     0  ...   \n",
       "3     0  To award a congressional gold medal to Edward ...     0  ...   \n",
       "4     0  To amend the Haitian Hemispheric Opportunity t...     0  ...   \n",
       "\n",
       "   Majority  Major   Minor                                                URL  \\\n",
       "0         1   16.0  1615.0  https://www.congress.gov/bill/110th-congress/h...   \n",
       "1         1   20.0  2002.0  https://www.congress.gov/bill/110th-congress/h...   \n",
       "2         1    6.0   601.0  https://www.congress.gov/bill/110th-congress/h...   \n",
       "3         1   20.0  2006.0  https://www.congress.gov/bill/110th-congress/h...   \n",
       "4         1   19.0  1921.0  https://www.congress.gov/bill/110th-congress/h...   \n",
       "\n",
       "                                             Summary  Index       BillID  \\\n",
       "0  Implementing Recommendations of the 9/11 Commi...  51068     110-HR-1   \n",
       "1                                                     51069    110-HR-10   \n",
       "2  Veterans' Equity in Education Act of 2007 - Am...  51070   110-HR-100   \n",
       "3  Edward William Brooke III Congressional Gold M...  51071  110-HR-1000   \n",
       "4  Amends the Caribbean Basin Economic Recovery A...  51072  110-HR-1001   \n",
       "\n",
       "   dominant_topic                                      combined_text  text_len  \n",
       "0               5  To provide for the implementation of the recom...       331  \n",
       "1              10                             Reserved for Speaker.         22  \n",
       "2               4  To amend the Higher Education Act of 1965 to p...       720  \n",
       "3              10  To award a congressional gold medal to Edward ...       400  \n",
       "4               5  To amend the Haitian Hemispheric Opportunity t...       575  \n",
       "\n",
       "[5 rows x 34 columns]"
      ]
     },
     "execution_count": 18,
     "metadata": {},
     "output_type": "execute_result"
    }
   ],
   "source": [
    "df.head()"
   ]
  },
  {
   "cell_type": "code",
   "execution_count": 19,
   "metadata": {},
   "outputs": [
    {
     "data": {
      "text/plain": [
       "PassH  Cong\n",
       "0      110     515.0\n",
       "       111     527.0\n",
       "       112     487.0\n",
       "       113     554.0\n",
       "       114     223.0\n",
       "1      110     450.0\n",
       "       111     380.0\n",
       "       112     355.0\n",
       "       113     345.5\n",
       "       114     278.0\n",
       "Name: text_len, dtype: float64"
      ]
     },
     "execution_count": 19,
     "metadata": {},
     "output_type": "execute_result"
    }
   ],
   "source": [
    "df.groupby(['PassH','Cong'])['text_len'].agg('median')"
   ]
  },
  {
   "cell_type": "code",
   "execution_count": 20,
   "metadata": {},
   "outputs": [
    {
     "data": {
      "text/plain": [
       "PLaw  Cong\n",
       "0     110     514.0\n",
       "      111     525.0\n",
       "      112     486.0\n",
       "      113     550.0\n",
       "      114     226.0\n",
       "1     110     395.5\n",
       "      111     329.5\n",
       "      112     310.5\n",
       "      113     300.0\n",
       "      114     299.0\n",
       "Name: text_len, dtype: float64"
      ]
     },
     "execution_count": 20,
     "metadata": {},
     "output_type": "execute_result"
    }
   ],
   "source": [
    "#Median text length by congress, passed or didn't pass\n",
    "df.groupby(['PLaw','Cong'])['text_len'].agg('median')"
   ]
  },
  {
   "cell_type": "code",
   "execution_count": null,
   "metadata": {},
   "outputs": [],
   "source": []
  },
  {
   "cell_type": "code",
   "execution_count": 21,
   "metadata": {},
   "outputs": [],
   "source": [
    "df['title_len'] = [len(summary) for summary in df['Title']]"
   ]
  },
  {
   "cell_type": "code",
   "execution_count": 22,
   "metadata": {},
   "outputs": [
    {
     "name": "stderr",
     "output_type": "stream",
     "text": [
      "/Users/melissamunz/anaconda3/lib/python3.7/site-packages/pandas/core/generic.py:6130: SettingWithCopyWarning: \n",
      "A value is trying to be set on a copy of a slice from a DataFrame\n",
      "\n",
      "See the caveats in the documentation: http://pandas.pydata.org/pandas-docs/stable/indexing.html#indexing-view-versus-copy\n",
      "  self._update_inplace(new_data)\n"
     ]
    }
   ],
   "source": [
    "df['Summary'].fillna('', inplace=True)"
   ]
  },
  {
   "cell_type": "code",
   "execution_count": 23,
   "metadata": {},
   "outputs": [
    {
     "ename": "TypeError",
     "evalue": "object of type 'NoneType' has no len()",
     "output_type": "error",
     "traceback": [
      "\u001b[0;31m---------------------------------------------------------------------------\u001b[0m",
      "\u001b[0;31mTypeError\u001b[0m                                 Traceback (most recent call last)",
      "\u001b[0;32m<ipython-input-23-706d6e82a694>\u001b[0m in \u001b[0;36m<module>\u001b[0;34m\u001b[0m\n\u001b[0;32m----> 1\u001b[0;31m \u001b[0mdf\u001b[0m\u001b[0;34m[\u001b[0m\u001b[0;34m'summary_len'\u001b[0m\u001b[0;34m]\u001b[0m \u001b[0;34m=\u001b[0m \u001b[0;34m[\u001b[0m\u001b[0mlen\u001b[0m\u001b[0;34m(\u001b[0m\u001b[0msummary\u001b[0m\u001b[0;34m)\u001b[0m \u001b[0;32mfor\u001b[0m \u001b[0msummary\u001b[0m \u001b[0;32min\u001b[0m \u001b[0mdf\u001b[0m\u001b[0;34m[\u001b[0m\u001b[0;34m'Summary'\u001b[0m\u001b[0;34m]\u001b[0m\u001b[0;34m]\u001b[0m\u001b[0;34m\u001b[0m\u001b[0;34m\u001b[0m\u001b[0m\n\u001b[0m",
      "\u001b[0;32m<ipython-input-23-706d6e82a694>\u001b[0m in \u001b[0;36m<listcomp>\u001b[0;34m(.0)\u001b[0m\n\u001b[0;32m----> 1\u001b[0;31m \u001b[0mdf\u001b[0m\u001b[0;34m[\u001b[0m\u001b[0;34m'summary_len'\u001b[0m\u001b[0;34m]\u001b[0m \u001b[0;34m=\u001b[0m \u001b[0;34m[\u001b[0m\u001b[0mlen\u001b[0m\u001b[0;34m(\u001b[0m\u001b[0msummary\u001b[0m\u001b[0;34m)\u001b[0m \u001b[0;32mfor\u001b[0m \u001b[0msummary\u001b[0m \u001b[0;32min\u001b[0m \u001b[0mdf\u001b[0m\u001b[0;34m[\u001b[0m\u001b[0;34m'Summary'\u001b[0m\u001b[0;34m]\u001b[0m\u001b[0;34m]\u001b[0m\u001b[0;34m\u001b[0m\u001b[0;34m\u001b[0m\u001b[0m\n\u001b[0m",
      "\u001b[0;31mTypeError\u001b[0m: object of type 'NoneType' has no len()"
     ]
    }
   ],
   "source": [
    "df['summary_len'] = [len(summary) for summary in df['Summary']]"
   ]
  },
  {
   "cell_type": "code",
   "execution_count": null,
   "metadata": {},
   "outputs": [],
   "source": [
    "#Median Bill Title length by congress, passed or didn't pass\n",
    "df.groupby(['PLaw','Cong'])['title_len'].agg('median')"
   ]
  },
  {
   "cell_type": "markdown",
   "metadata": {},
   "source": [
    "**Basic Feature Info:**"
   ]
  },
  {
   "cell_type": "code",
   "execution_count": null,
   "metadata": {},
   "outputs": [],
   "source": [
    "df['Cong'].value_counts()"
   ]
  },
  {
   "cell_type": "code",
   "execution_count": null,
   "metadata": {},
   "outputs": [],
   "source": [
    "df['Cong'].value_counts()"
   ]
  },
  {
   "cell_type": "code",
   "execution_count": null,
   "metadata": {},
   "outputs": [],
   "source": [
    "df['BillType'].value_counts()"
   ]
  },
  {
   "cell_type": "markdown",
   "metadata": {},
   "source": [
    "**General Visualizations:**"
   ]
  },
  {
   "cell_type": "code",
   "execution_count": null,
   "metadata": {},
   "outputs": [],
   "source": [
    "import seaborn as sns\n",
    "sns.set(style=\"whitegrid\")\n",
    "\n",
    "df['PassH'].value_counts().plot.barh().set_title('Passed vs. Proposed Bills')"
   ]
  },
  {
   "cell_type": "code",
   "execution_count": null,
   "metadata": {},
   "outputs": [],
   "source": [
    "df['Chamber'].value_counts().plot.bar().set_title('Bills Proposed by Chamber')"
   ]
  },
  {
   "cell_type": "code",
   "execution_count": null,
   "metadata": {},
   "outputs": [],
   "source": [
    "df['Cong'].value_counts().plot.barh().set_title('Number of Bills by Recent Congress')\n"
   ]
  },
  {
   "cell_type": "code",
   "execution_count": null,
   "metadata": {},
   "outputs": [],
   "source": [
    "#Bills Proposed by Majority or Not, for all Congresses\n",
    "#DONT USE< DOESNT REALLY MAKE SENSE\n",
    "\n",
    "df.groupby(['Cong', 'Majority']).size().unstack().plot.bar(stacked=True).set_title('Majority vs Minority House Bill Proposals')\n"
   ]
  },
  {
   "cell_type": "code",
   "execution_count": null,
   "metadata": {
    "scrolled": true
   },
   "outputs": [],
   "source": [
    "#Portion of bills proposed for all congresses vs those that passed the house \n",
    "df.groupby(['Cong', 'PassH']).size().unstack().plot.bar(stacked=True).set_title('Bill Passage in House per Congress')\n"
   ]
  },
  {
   "cell_type": "code",
   "execution_count": null,
   "metadata": {},
   "outputs": [],
   "source": [
    "#Portion of bills proposed for all congresses vs those that passed the house \n",
    "df.groupby(['Cong', 'PassS']).size().unstack().plot.bar(stacked=True).set_title('Bill Passage Senate per Congress')\n"
   ]
  },
  {
   "cell_type": "code",
   "execution_count": null,
   "metadata": {},
   "outputs": [],
   "source": [
    "#Portion of bills proposed by the House and Senate\n",
    "#0 for House, 1 for Senate\n",
    "df.groupby(['Cong', 'Chamber']).size().plot.bar(stacked=True).set_title('Bill Proposal by Chamber')\n"
   ]
  },
  {
   "cell_type": "code",
   "execution_count": null,
   "metadata": {},
   "outputs": [],
   "source": [
    "#All bills proposed in each congress, by Gender\n",
    "\n",
    "df.groupby(['Cong', 'Gender']).size().unstack().plot.bar(stacked=True).set_title('Bill Proposal by Gender')\n"
   ]
  },
  {
   "cell_type": "code",
   "execution_count": null,
   "metadata": {},
   "outputs": [],
   "source": [
    "df.groupby(['Cong', 'Majority', 'PassH']).size().unstack().plot.bar(stacked=True).set_title('Bill Passage by Majority')\n"
   ]
  },
  {
   "cell_type": "code",
   "execution_count": null,
   "metadata": {},
   "outputs": [],
   "source": [
    "df.groupby(['Cong', 'Party']).size().unstack().plot.bar(stacked=True).set_title('Bill Proposal by Party')\n"
   ]
  },
  {
   "cell_type": "code",
   "execution_count": null,
   "metadata": {},
   "outputs": [],
   "source": [
    "df.groupby(['Cong', 'Majority']).size().unstack().plot.bar(stacked=True).set_title('Bill Proposal by Majority')\n"
   ]
  },
  {
   "cell_type": "code",
   "execution_count": null,
   "metadata": {},
   "outputs": [],
   "source": [
    "#Party code (100 Democrat; 200 Republican, 328…from ICPSR)\n",
    "df.groupby(['Cong', 'Party']).size().unstack().plot.bar().set_title('Party breakdown by Congress')"
   ]
  },
  {
   "cell_type": "code",
   "execution_count": null,
   "metadata": {},
   "outputs": [],
   "source": [
    "#Proportional Party breakdown by Congress\n",
    "import pandas as pd\n",
    "import seaborn as sns\n",
    "import matplotlib.pyplot as plt\n",
    "\n",
    "%matplotlib inline\n",
    "\n",
    "plt.figure(figsize=(20,5))\n",
    "\n",
    "x, y, hue = \"Cong\", \"proportion\", \"Party\"\n",
    "hue_order = [\"1\", \"0\"]\n",
    "data=df\n",
    "\n",
    "(df[x]\n",
    " .groupby(df[hue])\n",
    " .value_counts(normalize=True)\n",
    " .rename(y)\n",
    " .reset_index()\n",
    " .pipe((sns.barplot, \"data\"), x=x, y=y, hue=hue))\n"
   ]
  },
  {
   "cell_type": "code",
   "execution_count": null,
   "metadata": {},
   "outputs": [],
   "source": [
    "#Proportional Party breakdown by Congress\n",
    "import pandas as pd\n",
    "import seaborn as sns\n",
    "import matplotlib.pyplot as plt\n",
    "\n",
    "%matplotlib inline\n",
    "\n",
    "plt.figure(figsize=(20,5))\n",
    "\n",
    "x, y, hue = \"Cong\", \"proportion\", \"PassH\"\n",
    "hue_order = [\"1\", \"0\"]\n",
    "data=df\n",
    "\n",
    "(df[x]\n",
    " .groupby(df[hue])\n",
    " .value_counts(normalize=True)\n",
    " .rename(y)\n",
    " .reset_index()\n",
    " .pipe((sns.barplot, \"data\"), x=x, y=y, hue=hue)\n",
    " .set_title('Proportion Bill Passage in House by Congress'))\n"
   ]
  },
  {
   "cell_type": "markdown",
   "metadata": {},
   "source": [
    "**By State:**\n",
    "\n",
    ".size includes NaN values, .count does not"
   ]
  },
  {
   "cell_type": "code",
   "execution_count": null,
   "metadata": {},
   "outputs": [],
   "source": [
    "#Breakdown of bills proposed by party by state\n",
    "\n",
    "df.groupby(['Postal', 'Party']).size().unstack().plot.bar(figsize=(20,8), stacked=True).set_title('Party breakdown by State')"
   ]
  },
  {
   "cell_type": "code",
   "execution_count": null,
   "metadata": {},
   "outputs": [],
   "source": [
    "df.groupby(['Postal', 'PassH']).size().unstack().plot.bar(figsize=(20,8), stacked=True).set_title('Bill Passage by State')"
   ]
  },
  {
   "cell_type": "code",
   "execution_count": null,
   "metadata": {},
   "outputs": [],
   "source": [
    "df.groupby(['Postal', 'PassH']).size().unstack().plot.bar(figsize=(20,8), stacked=True).set_title('Bill Passage by State')"
   ]
  },
  {
   "cell_type": "code",
   "execution_count": null,
   "metadata": {},
   "outputs": [],
   "source": [
    "#Passed Laws by state. 0 is Not passed, 1 passed\n",
    "df.groupby(['Postal', 'PLaw']).size().unstack().plot.bar(figsize=(20,8), stacked=True).set_title('Bill to Law Passage by State')"
   ]
  },
  {
   "cell_type": "code",
   "execution_count": null,
   "metadata": {},
   "outputs": [],
   "source": [
    "plt.figure(figsize=(20,5))\n",
    "sns.barplot(x='Postal', y='PassH', data=df, estimator=lambda x: sum(x==1 )*100.0/len(x))\n"
   ]
  },
  {
   "cell_type": "code",
   "execution_count": null,
   "metadata": {},
   "outputs": [],
   "source": [
    "import pandas as pd\n",
    "import seaborn as sns\n",
    "import matplotlib.pyplot as plt\n",
    "\n",
    "%matplotlib inline\n",
    "\n",
    "plt.figure(figsize=(20,5))\n",
    "\n",
    "x, y, hue = \"Postal\", \"proportion\", \"PassH\"\n",
    "hue_order = [\"1\", \"0\"]\n",
    "data=df\n",
    "\n",
    "(df[x]\n",
    " .groupby(df[hue])\n",
    " .value_counts(normalize=True)\n",
    " .rename(y)\n",
    " .reset_index()\n",
    " .pipe((sns.barplot, \"data\"), x=x, y=y, hue=hue)).set_title('Title')\n"
   ]
  },
  {
   "cell_type": "code",
   "execution_count": null,
   "metadata": {},
   "outputs": [],
   "source": [
    "# def compute_percentage(x):\n",
    "#     pct = float(x/df['PassH'].count()) * 100\n",
    "#     return round(pct, 2)\n",
    "\n",
    "# df['state_weight'] = df.apply(compute_percentage, axis=1)\n",
    "# df['state_weight']=map(lambda x: sum(x==1 )*100.0/len(x))"
   ]
  },
  {
   "cell_type": "code",
   "execution_count": null,
   "metadata": {},
   "outputs": [],
   "source": [
    "import plotly.express as px  # Be sure to import express\n",
    "\n",
    "fig = px.choropleth(df,  # Input Pandas DataFrame\n",
    "                    locations=\"Postal\",  # DataFrame column with locations\n",
    "                    color=\"value\",  # DataFrame column with color values\n",
    "                    hover_name=\"Postal\", # DataFrame column hover info\n",
    "                    locationmode = 'USA-states') # Set to plot as US States\n",
    "fig.update_layout(\n",
    "    title_text = 'State Rankings', # Create a Title\n",
    "    geo_scope='usa',  # Plot only the USA instead of globe\n",
    ")\n",
    "fig.show()  # Output the plot to the screen"
   ]
  },
  {
   "cell_type": "code",
   "execution_count": null,
   "metadata": {},
   "outputs": [],
   "source": [
    "import plotly.graph_objects as go\n",
    "\n",
    "\n",
    "# fig = go.Figure(data=go.Choropleth(\n",
    "#     locations=df['Postal'], # Spatial coordinates\n",
    "#     z = df['PassH'].astype(float), # Data to be color-coded\n",
    "#     locationmode = 'USA-states', # set of locations match entries in `locations`\n",
    "#     colorscale = 'Reds',\n",
    "#     colorbar_title = \"Millions USD\",\n",
    "# ))\n",
    "\n",
    "# fig.update_layout(\n",
    "#     title_text = '2011 US Agriculture Exports by State',\n",
    "#     geo_scope='usa', # limite map scope to USA\n",
    "# )\n",
    "\n",
    "# fig.show()"
   ]
  },
  {
   "cell_type": "markdown",
   "metadata": {},
   "source": [
    "**NLP Graphs:**"
   ]
  },
  {
   "cell_type": "code",
   "execution_count": null,
   "metadata": {},
   "outputs": [],
   "source": [
    "df.groupby(['PassH','Cong'])['text_len'].agg('mean').unstack().plot.bar().set_title('Length of Title/Summary Text by Congress - Not Pass and Pass')"
   ]
  },
  {
   "cell_type": "code",
   "execution_count": null,
   "metadata": {},
   "outputs": [],
   "source": [
    "df.groupby(['PassH','Cong'])['title_len'].agg('median').unstack().plot.bar().set_title('Median Length of Title Text by Congress')"
   ]
  },
  {
   "cell_type": "code",
   "execution_count": null,
   "metadata": {},
   "outputs": [],
   "source": [
    "#find median length of all titles\n",
    "df['title_len'].median()"
   ]
  },
  {
   "cell_type": "code",
   "execution_count": null,
   "metadata": {},
   "outputs": [],
   "source": [
    "df['summary_len'].median()"
   ]
  },
  {
   "cell_type": "markdown",
   "metadata": {},
   "source": [
    "**EDA Passed Laws:**"
   ]
  },
  {
   "cell_type": "code",
   "execution_count": null,
   "metadata": {},
   "outputs": [],
   "source": [
    "#Bill vs number of Congresspersons - whip and majority or others?"
   ]
  },
  {
   "cell_type": "code",
   "execution_count": null,
   "metadata": {},
   "outputs": [],
   "source": [
    "df['NameFull'].value_counts().head()"
   ]
  },
  {
   "cell_type": "code",
   "execution_count": null,
   "metadata": {},
   "outputs": [],
   "source": [
    "from collections import Counter\n",
    "\n",
    "all_names_dict = dict(Counter(df['NameFull']))"
   ]
  },
  {
   "cell_type": "code",
   "execution_count": null,
   "metadata": {},
   "outputs": [],
   "source": [
    "top_names = {key: value for key, value in all_names_dict.items() if value >= 100}\n"
   ]
  },
  {
   "cell_type": "code",
   "execution_count": null,
   "metadata": {},
   "outputs": [],
   "source": [
    "for name in sorted(top_names, key=top_names.get, reverse = True):\n",
    "    print(name, top_names[name])"
   ]
  },
  {
   "cell_type": "code",
   "execution_count": null,
   "metadata": {},
   "outputs": [],
   "source": [
    "# The top 50 Congresspersons and number of bill introductions\n",
    "\n",
    "data['NameFull'].value_counts().head(50).plot(kind='barh', figsize=(20,20))"
   ]
  },
  {
   "cell_type": "markdown",
   "metadata": {},
   "source": [
    "**Map Graph**"
   ]
  },
  {
   "cell_type": "code",
   "execution_count": null,
   "metadata": {},
   "outputs": [],
   "source": [
    "!pip install folium\n",
    "\n"
   ]
  },
  {
   "cell_type": "code",
   "execution_count": null,
   "metadata": {},
   "outputs": [],
   "source": [
    "import folium"
   ]
  },
  {
   "cell_type": "code",
   "execution_count": null,
   "metadata": {},
   "outputs": [],
   "source": [
    "state_geo = os.path.join('/Users/y.holtz/Desktop/', 'us-states.json')\n"
   ]
  },
  {
   "cell_type": "markdown",
   "metadata": {},
   "source": [
    "**References**\n",
    "\n",
    "- https://www.drawingfromdata.com/setting-figure-size-using-seaborn-and-matplotlib"
   ]
  },
  {
   "cell_type": "code",
   "execution_count": null,
   "metadata": {},
   "outputs": [],
   "source": []
  }
 ],
 "metadata": {
  "kernelspec": {
   "display_name": "Python 3",
   "language": "python",
   "name": "python3"
  },
  "language_info": {
   "codemirror_mode": {
    "name": "ipython",
    "version": 3
   },
   "file_extension": ".py",
   "mimetype": "text/x-python",
   "name": "python",
   "nbconvert_exporter": "python",
   "pygments_lexer": "ipython3",
   "version": "3.7.3"
  }
 },
 "nbformat": 4,
 "nbformat_minor": 2
}
