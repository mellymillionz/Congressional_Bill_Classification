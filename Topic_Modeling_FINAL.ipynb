{
 "cells": [
  {
   "cell_type": "markdown",
   "metadata": {},
   "source": [
    "# Natural Language Processing - Bill Text Exploration"
   ]
  },
  {
   "cell_type": "markdown",
   "metadata": {},
   "source": [
    "**This analysis includes combined text of bill titles and summaries**\n",
    "\n",
    "Transform the raw data into feature vectors and these new features will be created using the existing dataset. Structure as follows:\n",
    "\n",
    "Data Exploration\n",
    "- Word Cloud \n",
    "\n",
    "Vectorizers\n",
    "- Custom and Spacy Tokenizer\n",
    "- Count Vectors as features\n",
    "- TF-IDF Vectors as features\n",
    "\n",
    "- Word level\n",
    "- N-Gram level\n",
    "\n",
    "Character level\n",
    "- Word Embeddings as features\n",
    "- Text / NLP based features\n",
    "- Topic Models as features\n",
    "\n",
    "https://www.analyticsvidhya.com/blog/2018/04/a-comprehensive-guide-to-understand-and-implement-text-classification-in-python/"
   ]
  },
  {
   "cell_type": "code",
   "execution_count": 1,
   "metadata": {},
   "outputs": [],
   "source": [
    "import mysql.connector \n",
    "import numpy as np\n",
    "import pandas as pd\n",
    "import config_final\n",
    "import requests\n",
    "\n",
    "from sodapy import Socrata\n",
    "import sqlalchemy as db\n"
   ]
  },
  {
   "cell_type": "code",
   "execution_count": 2,
   "metadata": {},
   "outputs": [],
   "source": [
    "def query(q):\n",
    "    try:\n",
    "        return pd.read_sql_query(q, engine)\n",
    "    # Pass when no data is returned    \n",
    "    except ResourceClosedError:\n",
    "        pass\n",
    "\n",
    "def query_list(col, table, distinct = True):\n",
    "    elts = ['SELECT',\n",
    "            'DISTINCT' if distinct else '',\n",
    "            col,\n",
    "            'FROM',\n",
    "            table]\n",
    "    query_str = ' '.join(elts)\n",
    "    df = query(query_str)\n",
    "    l = df.iloc[:,0].tolist()\n",
    "    return l"
   ]
  },
  {
   "cell_type": "code",
   "execution_count": 3,
   "metadata": {},
   "outputs": [],
   "source": [
    "engine = db.create_engine(f'mysql+mysqlconnector://{config_final.user}:{config_final.password}@{config_final.host}/con_bills')\n",
    "\n",
    "connection = engine.connect()\n",
    "metadata=db.MetaData()"
   ]
  },
  {
   "cell_type": "code",
   "execution_count": 4,
   "metadata": {},
   "outputs": [],
   "source": [
    "df = query('SELECT * FROM con_bills.current_bills WHERE Cong >= 110')\n"
   ]
  },
  {
   "cell_type": "code",
   "execution_count": 5,
   "metadata": {},
   "outputs": [
    {
     "data": {
      "text/plain": [
       "(51067, 29)"
      ]
     },
     "execution_count": 5,
     "metadata": {},
     "output_type": "execute_result"
    }
   ],
   "source": [
    "df.shape"
   ]
  },
  {
   "cell_type": "code",
   "execution_count": 6,
   "metadata": {},
   "outputs": [
    {
     "data": {
      "text/html": [
       "<div>\n",
       "<style scoped>\n",
       "    .dataframe tbody tr th:only-of-type {\n",
       "        vertical-align: middle;\n",
       "    }\n",
       "\n",
       "    .dataframe tbody tr th {\n",
       "        vertical-align: top;\n",
       "    }\n",
       "\n",
       "    .dataframe thead th {\n",
       "        text-align: right;\n",
       "    }\n",
       "</style>\n",
       "<table border=\"1\" class=\"dataframe\">\n",
       "  <thead>\n",
       "    <tr style=\"text-align: right;\">\n",
       "      <th></th>\n",
       "      <th>BillID</th>\n",
       "      <th>BillType</th>\n",
       "      <th>Chamber</th>\n",
       "      <th>Cong</th>\n",
       "      <th>Cosponsr</th>\n",
       "      <th>IntrDate</th>\n",
       "      <th>Mult</th>\n",
       "      <th>PLaw</th>\n",
       "      <th>Title</th>\n",
       "      <th>Veto</th>\n",
       "      <th>...</th>\n",
       "      <th>PassH</th>\n",
       "      <th>PassS</th>\n",
       "      <th>PLawDate</th>\n",
       "      <th>PLawNum</th>\n",
       "      <th>ImpBill</th>\n",
       "      <th>Majority</th>\n",
       "      <th>Major</th>\n",
       "      <th>Minor</th>\n",
       "      <th>URL</th>\n",
       "      <th>Summary</th>\n",
       "    </tr>\n",
       "  </thead>\n",
       "  <tbody>\n",
       "    <tr>\n",
       "      <th>51062</th>\n",
       "      <td>114-S-995</td>\n",
       "      <td>s</td>\n",
       "      <td>1</td>\n",
       "      <td>114</td>\n",
       "      <td>1.0</td>\n",
       "      <td>2015-04-16 00:00:00</td>\n",
       "      <td>0</td>\n",
       "      <td>0</td>\n",
       "      <td>A bill to establish congressional trade negoti...</td>\n",
       "      <td>0</td>\n",
       "      <td>...</td>\n",
       "      <td>0</td>\n",
       "      <td>0</td>\n",
       "      <td>None</td>\n",
       "      <td>0</td>\n",
       "      <td>1</td>\n",
       "      <td>1</td>\n",
       "      <td>18.0</td>\n",
       "      <td>1802.0</td>\n",
       "      <td>https://www.congress.gov/bill/114th-congress/s...</td>\n",
       "      <td>Bipartisan Congressional Trade Priorities and ...</td>\n",
       "    </tr>\n",
       "    <tr>\n",
       "      <th>51063</th>\n",
       "      <td>114-S-996</td>\n",
       "      <td>s</td>\n",
       "      <td>1</td>\n",
       "      <td>114</td>\n",
       "      <td>7.0</td>\n",
       "      <td>2015-04-16 00:00:00</td>\n",
       "      <td>0</td>\n",
       "      <td>0</td>\n",
       "      <td>A bill to facilitate nationwide availability o...</td>\n",
       "      <td>0</td>\n",
       "      <td>...</td>\n",
       "      <td>0</td>\n",
       "      <td>0</td>\n",
       "      <td>None</td>\n",
       "      <td>0</td>\n",
       "      <td>1</td>\n",
       "      <td>0</td>\n",
       "      <td>13.0</td>\n",
       "      <td>1302.0</td>\n",
       "      <td>https://www.congress.gov/bill/114th-congress/s...</td>\n",
       "      <td>Volunteer Income Tax Assistance (VITA) Act</td>\n",
       "    </tr>\n",
       "    <tr>\n",
       "      <th>51064</th>\n",
       "      <td>114-S-997</td>\n",
       "      <td>s</td>\n",
       "      <td>1</td>\n",
       "      <td>114</td>\n",
       "      <td>1.0</td>\n",
       "      <td>2015-04-16 00:00:00</td>\n",
       "      <td>0</td>\n",
       "      <td>0</td>\n",
       "      <td>A bill to extend the authorization for the maj...</td>\n",
       "      <td>0</td>\n",
       "      <td>...</td>\n",
       "      <td>0</td>\n",
       "      <td>0</td>\n",
       "      <td>None</td>\n",
       "      <td>0</td>\n",
       "      <td>1</td>\n",
       "      <td>1</td>\n",
       "      <td>3.0</td>\n",
       "      <td>322.0</td>\n",
       "      <td>https://www.congress.gov/bill/114th-congress/s...</td>\n",
       "      <td>Department of Veterans Affairs Construction, A...</td>\n",
       "    </tr>\n",
       "    <tr>\n",
       "      <th>51065</th>\n",
       "      <td>114-S-998</td>\n",
       "      <td>s</td>\n",
       "      <td>1</td>\n",
       "      <td>114</td>\n",
       "      <td>4.0</td>\n",
       "      <td>2015-04-16 00:00:00</td>\n",
       "      <td>0</td>\n",
       "      <td>0</td>\n",
       "      <td>A bill to establish a process for the consider...</td>\n",
       "      <td>0</td>\n",
       "      <td>...</td>\n",
       "      <td>0</td>\n",
       "      <td>0</td>\n",
       "      <td>None</td>\n",
       "      <td>0</td>\n",
       "      <td>1</td>\n",
       "      <td>1</td>\n",
       "      <td>18.0</td>\n",
       "      <td>1807.0</td>\n",
       "      <td>https://www.congress.gov/bill/114th-congress/s...</td>\n",
       "      <td>American Manufacturing Competitiveness Act of ...</td>\n",
       "    </tr>\n",
       "    <tr>\n",
       "      <th>51066</th>\n",
       "      <td>114-S-999</td>\n",
       "      <td>s</td>\n",
       "      <td>1</td>\n",
       "      <td>114</td>\n",
       "      <td>0.0</td>\n",
       "      <td>2015-04-16 00:00:00</td>\n",
       "      <td>0</td>\n",
       "      <td>0</td>\n",
       "      <td>A bill to amend the Small Business Act to prov...</td>\n",
       "      <td>0</td>\n",
       "      <td>...</td>\n",
       "      <td>0</td>\n",
       "      <td>0</td>\n",
       "      <td>None</td>\n",
       "      <td>0</td>\n",
       "      <td>1</td>\n",
       "      <td>1</td>\n",
       "      <td>15.0</td>\n",
       "      <td>1521.0</td>\n",
       "      <td>https://www.congress.gov/bill/114th-congress/s...</td>\n",
       "      <td>Small Business Development Centers Improvement...</td>\n",
       "    </tr>\n",
       "  </tbody>\n",
       "</table>\n",
       "<p>5 rows × 29 columns</p>\n",
       "</div>"
      ],
      "text/plain": [
       "          BillID BillType  Chamber  Cong  Cosponsr             IntrDate  Mult  \\\n",
       "51062  114-S-995        s        1   114       1.0  2015-04-16 00:00:00     0   \n",
       "51063  114-S-996        s        1   114       7.0  2015-04-16 00:00:00     0   \n",
       "51064  114-S-997        s        1   114       1.0  2015-04-16 00:00:00     0   \n",
       "51065  114-S-998        s        1   114       4.0  2015-04-16 00:00:00     0   \n",
       "51066  114-S-999        s        1   114       0.0  2015-04-16 00:00:00     0   \n",
       "\n",
       "       PLaw                                              Title  Veto  ...  \\\n",
       "51062     0  A bill to establish congressional trade negoti...     0  ...   \n",
       "51063     0  A bill to facilitate nationwide availability o...     0  ...   \n",
       "51064     0  A bill to extend the authorization for the maj...     0  ...   \n",
       "51065     0  A bill to establish a process for the consider...     0  ...   \n",
       "51066     0  A bill to amend the Small Business Act to prov...     0  ...   \n",
       "\n",
       "       PassH  PassS  PLawDate  PLawNum  ImpBill  Majority Major   Minor  \\\n",
       "51062      0      0      None        0        1         1  18.0  1802.0   \n",
       "51063      0      0      None        0        1         0  13.0  1302.0   \n",
       "51064      0      0      None        0        1         1   3.0   322.0   \n",
       "51065      0      0      None        0        1         1  18.0  1807.0   \n",
       "51066      0      0      None        0        1         1  15.0  1521.0   \n",
       "\n",
       "                                                     URL  \\\n",
       "51062  https://www.congress.gov/bill/114th-congress/s...   \n",
       "51063  https://www.congress.gov/bill/114th-congress/s...   \n",
       "51064  https://www.congress.gov/bill/114th-congress/s...   \n",
       "51065  https://www.congress.gov/bill/114th-congress/s...   \n",
       "51066  https://www.congress.gov/bill/114th-congress/s...   \n",
       "\n",
       "                                                 Summary  \n",
       "51062  Bipartisan Congressional Trade Priorities and ...  \n",
       "51063         Volunteer Income Tax Assistance (VITA) Act  \n",
       "51064  Department of Veterans Affairs Construction, A...  \n",
       "51065  American Manufacturing Competitiveness Act of ...  \n",
       "51066  Small Business Development Centers Improvement...  \n",
       "\n",
       "[5 rows x 29 columns]"
      ]
     },
     "execution_count": 6,
     "metadata": {},
     "output_type": "execute_result"
    }
   ],
   "source": [
    "df.tail()"
   ]
  },
  {
   "cell_type": "markdown",
   "metadata": {},
   "source": [
    "**Final Cleaning:**"
   ]
  },
  {
   "cell_type": "code",
   "execution_count": 7,
   "metadata": {},
   "outputs": [
    {
     "data": {
      "text/plain": [
       "50"
      ]
     },
     "execution_count": 7,
     "metadata": {},
     "output_type": "execute_result"
    }
   ],
   "source": [
    "df['Summary'].isnull().sum()"
   ]
  },
  {
   "cell_type": "code",
   "execution_count": 8,
   "metadata": {},
   "outputs": [],
   "source": [
    "df['Summary'].fillna('None', inplace = True)"
   ]
  },
  {
   "cell_type": "code",
   "execution_count": 9,
   "metadata": {},
   "outputs": [
    {
     "data": {
      "text/plain": [
       "0"
      ]
     },
     "execution_count": 9,
     "metadata": {},
     "output_type": "execute_result"
    }
   ],
   "source": [
    "df['Summary'].isnull().sum()"
   ]
  },
  {
   "cell_type": "code",
   "execution_count": 10,
   "metadata": {},
   "outputs": [
    {
     "data": {
      "text/plain": [
       "0    47042\n",
       "1     4025\n",
       "Name: PassH, dtype: int64"
      ]
     },
     "execution_count": 10,
     "metadata": {},
     "output_type": "execute_result"
    }
   ],
   "source": [
    "df['PassH'].value_counts()"
   ]
  },
  {
   "cell_type": "code",
   "execution_count": 11,
   "metadata": {},
   "outputs": [],
   "source": [
    "# blanks = []\n",
    "\n",
    "# for i, billID, title, summary, PassH, Cong in df.itertuples():  # iterate over the DataFrame\n",
    "#     if type(summary)==str:            # avoid NaN values\n",
    "#         if summary.isspace():         # test 'plot' for whitespace\n",
    "#             blanks.append(i)\n",
    "                  \n",
    "# len(blanks)"
   ]
  },
  {
   "cell_type": "code",
   "execution_count": 12,
   "metadata": {},
   "outputs": [
    {
     "data": {
      "text/plain": [
       "(51067, 29)"
      ]
     },
     "execution_count": 12,
     "metadata": {},
     "output_type": "execute_result"
    }
   ],
   "source": [
    "df.shape"
   ]
  },
  {
   "cell_type": "markdown",
   "metadata": {},
   "source": [
    "**Combine Title and Summary columns:**"
   ]
  },
  {
   "cell_type": "code",
   "execution_count": 13,
   "metadata": {},
   "outputs": [],
   "source": [
    "df['combined_text'] = df[['Title', 'Summary']].astype(str).apply(' '.join, axis=1)"
   ]
  },
  {
   "cell_type": "code",
   "execution_count": 14,
   "metadata": {},
   "outputs": [
    {
     "data": {
      "text/html": [
       "<div>\n",
       "<style scoped>\n",
       "    .dataframe tbody tr th:only-of-type {\n",
       "        vertical-align: middle;\n",
       "    }\n",
       "\n",
       "    .dataframe tbody tr th {\n",
       "        vertical-align: top;\n",
       "    }\n",
       "\n",
       "    .dataframe thead th {\n",
       "        text-align: right;\n",
       "    }\n",
       "</style>\n",
       "<table border=\"1\" class=\"dataframe\">\n",
       "  <thead>\n",
       "    <tr style=\"text-align: right;\">\n",
       "      <th></th>\n",
       "      <th>BillID</th>\n",
       "      <th>BillType</th>\n",
       "      <th>Chamber</th>\n",
       "      <th>Cong</th>\n",
       "      <th>Cosponsr</th>\n",
       "      <th>IntrDate</th>\n",
       "      <th>Mult</th>\n",
       "      <th>PLaw</th>\n",
       "      <th>Title</th>\n",
       "      <th>Veto</th>\n",
       "      <th>...</th>\n",
       "      <th>PassS</th>\n",
       "      <th>PLawDate</th>\n",
       "      <th>PLawNum</th>\n",
       "      <th>ImpBill</th>\n",
       "      <th>Majority</th>\n",
       "      <th>Major</th>\n",
       "      <th>Minor</th>\n",
       "      <th>URL</th>\n",
       "      <th>Summary</th>\n",
       "      <th>combined_text</th>\n",
       "    </tr>\n",
       "  </thead>\n",
       "  <tbody>\n",
       "    <tr>\n",
       "      <th>0</th>\n",
       "      <td>110-HR-1</td>\n",
       "      <td>hr</td>\n",
       "      <td>0</td>\n",
       "      <td>110</td>\n",
       "      <td>205.0</td>\n",
       "      <td>2007-01-05 00:00:00</td>\n",
       "      <td>1</td>\n",
       "      <td>1</td>\n",
       "      <td>To provide for the implementation of the recom...</td>\n",
       "      <td>0</td>\n",
       "      <td>...</td>\n",
       "      <td>1</td>\n",
       "      <td>2007-08-03 00:00:00</td>\n",
       "      <td>Became Public Law No: 110-53.</td>\n",
       "      <td>1</td>\n",
       "      <td>1</td>\n",
       "      <td>16.0</td>\n",
       "      <td>1615.0</td>\n",
       "      <td>https://www.congress.gov/bill/110th-congress/h...</td>\n",
       "      <td>Implementing Recommendations of the 9/11 Commi...</td>\n",
       "      <td>To provide for the implementation of the recom...</td>\n",
       "    </tr>\n",
       "    <tr>\n",
       "      <th>1</th>\n",
       "      <td>110-HR-10</td>\n",
       "      <td>hr</td>\n",
       "      <td>0</td>\n",
       "      <td>110</td>\n",
       "      <td>0.0</td>\n",
       "      <td>2007-01-04 00:00:00</td>\n",
       "      <td>0</td>\n",
       "      <td>0</td>\n",
       "      <td>Reserved for Speaker.</td>\n",
       "      <td>0</td>\n",
       "      <td>...</td>\n",
       "      <td>0</td>\n",
       "      <td>None</td>\n",
       "      <td>0</td>\n",
       "      <td>1</td>\n",
       "      <td>1</td>\n",
       "      <td>20.0</td>\n",
       "      <td>2002.0</td>\n",
       "      <td>https://www.congress.gov/bill/110th-congress/h...</td>\n",
       "      <td></td>\n",
       "      <td>Reserved for Speaker.</td>\n",
       "    </tr>\n",
       "    <tr>\n",
       "      <th>2</th>\n",
       "      <td>110-HR-100</td>\n",
       "      <td>hr</td>\n",
       "      <td>0</td>\n",
       "      <td>110</td>\n",
       "      <td>10.0</td>\n",
       "      <td>2007-01-04 00:00:00</td>\n",
       "      <td>0</td>\n",
       "      <td>0</td>\n",
       "      <td>To amend the Higher Education Act of 1965 to p...</td>\n",
       "      <td>0</td>\n",
       "      <td>...</td>\n",
       "      <td>0</td>\n",
       "      <td>None</td>\n",
       "      <td>0</td>\n",
       "      <td>1</td>\n",
       "      <td>1</td>\n",
       "      <td>6.0</td>\n",
       "      <td>601.0</td>\n",
       "      <td>https://www.congress.gov/bill/110th-congress/h...</td>\n",
       "      <td>Veterans' Equity in Education Act of 2007 - Am...</td>\n",
       "      <td>To amend the Higher Education Act of 1965 to p...</td>\n",
       "    </tr>\n",
       "    <tr>\n",
       "      <th>3</th>\n",
       "      <td>110-HR-1000</td>\n",
       "      <td>hr</td>\n",
       "      <td>0</td>\n",
       "      <td>110</td>\n",
       "      <td>286.0</td>\n",
       "      <td>2007-02-12 00:00:00</td>\n",
       "      <td>0</td>\n",
       "      <td>0</td>\n",
       "      <td>To award a congressional gold medal to Edward ...</td>\n",
       "      <td>0</td>\n",
       "      <td>...</td>\n",
       "      <td>0</td>\n",
       "      <td>None</td>\n",
       "      <td>0</td>\n",
       "      <td>0</td>\n",
       "      <td>1</td>\n",
       "      <td>20.0</td>\n",
       "      <td>2006.0</td>\n",
       "      <td>https://www.congress.gov/bill/110th-congress/h...</td>\n",
       "      <td>Edward William Brooke III Congressional Gold M...</td>\n",
       "      <td>To award a congressional gold medal to Edward ...</td>\n",
       "    </tr>\n",
       "    <tr>\n",
       "      <th>4</th>\n",
       "      <td>110-HR-1001</td>\n",
       "      <td>hr</td>\n",
       "      <td>0</td>\n",
       "      <td>110</td>\n",
       "      <td>0.0</td>\n",
       "      <td>2007-02-12 00:00:00</td>\n",
       "      <td>0</td>\n",
       "      <td>0</td>\n",
       "      <td>To amend the Haitian Hemispheric Opportunity t...</td>\n",
       "      <td>0</td>\n",
       "      <td>...</td>\n",
       "      <td>0</td>\n",
       "      <td>None</td>\n",
       "      <td>0</td>\n",
       "      <td>1</td>\n",
       "      <td>1</td>\n",
       "      <td>19.0</td>\n",
       "      <td>1921.0</td>\n",
       "      <td>https://www.congress.gov/bill/110th-congress/h...</td>\n",
       "      <td>Amends the Caribbean Basin Economic Recovery A...</td>\n",
       "      <td>To amend the Haitian Hemispheric Opportunity t...</td>\n",
       "    </tr>\n",
       "  </tbody>\n",
       "</table>\n",
       "<p>5 rows × 30 columns</p>\n",
       "</div>"
      ],
      "text/plain": [
       "        BillID BillType  Chamber  Cong  Cosponsr             IntrDate  Mult  \\\n",
       "0     110-HR-1       hr        0   110     205.0  2007-01-05 00:00:00     1   \n",
       "1    110-HR-10       hr        0   110       0.0  2007-01-04 00:00:00     0   \n",
       "2   110-HR-100       hr        0   110      10.0  2007-01-04 00:00:00     0   \n",
       "3  110-HR-1000       hr        0   110     286.0  2007-02-12 00:00:00     0   \n",
       "4  110-HR-1001       hr        0   110       0.0  2007-02-12 00:00:00     0   \n",
       "\n",
       "   PLaw                                              Title  Veto  ...  PassS  \\\n",
       "0     1  To provide for the implementation of the recom...     0  ...      1   \n",
       "1     0                              Reserved for Speaker.     0  ...      0   \n",
       "2     0  To amend the Higher Education Act of 1965 to p...     0  ...      0   \n",
       "3     0  To award a congressional gold medal to Edward ...     0  ...      0   \n",
       "4     0  To amend the Haitian Hemispheric Opportunity t...     0  ...      0   \n",
       "\n",
       "              PLawDate                        PLawNum  ImpBill  Majority  \\\n",
       "0  2007-08-03 00:00:00  Became Public Law No: 110-53.        1         1   \n",
       "1                 None                              0        1         1   \n",
       "2                 None                              0        1         1   \n",
       "3                 None                              0        0         1   \n",
       "4                 None                              0        1         1   \n",
       "\n",
       "   Major   Minor                                                URL  \\\n",
       "0   16.0  1615.0  https://www.congress.gov/bill/110th-congress/h...   \n",
       "1   20.0  2002.0  https://www.congress.gov/bill/110th-congress/h...   \n",
       "2    6.0   601.0  https://www.congress.gov/bill/110th-congress/h...   \n",
       "3   20.0  2006.0  https://www.congress.gov/bill/110th-congress/h...   \n",
       "4   19.0  1921.0  https://www.congress.gov/bill/110th-congress/h...   \n",
       "\n",
       "                                             Summary  \\\n",
       "0  Implementing Recommendations of the 9/11 Commi...   \n",
       "1                                                      \n",
       "2  Veterans' Equity in Education Act of 2007 - Am...   \n",
       "3  Edward William Brooke III Congressional Gold M...   \n",
       "4  Amends the Caribbean Basin Economic Recovery A...   \n",
       "\n",
       "                                       combined_text  \n",
       "0  To provide for the implementation of the recom...  \n",
       "1                             Reserved for Speaker.   \n",
       "2  To amend the Higher Education Act of 1965 to p...  \n",
       "3  To award a congressional gold medal to Edward ...  \n",
       "4  To amend the Haitian Hemispheric Opportunity t...  \n",
       "\n",
       "[5 rows x 30 columns]"
      ]
     },
     "execution_count": 14,
     "metadata": {},
     "output_type": "execute_result"
    }
   ],
   "source": [
    "df.head()"
   ]
  },
  {
   "cell_type": "markdown",
   "metadata": {},
   "source": [
    "# Topic Modeling"
   ]
  },
  {
   "cell_type": "markdown",
   "metadata": {},
   "source": [
    "**Split Training and Testing Data**"
   ]
  },
  {
   "cell_type": "code",
   "execution_count": 15,
   "metadata": {},
   "outputs": [],
   "source": [
    "from sklearn import preprocessing"
   ]
  },
  {
   "cell_type": "code",
   "execution_count": 16,
   "metadata": {},
   "outputs": [],
   "source": [
    "from sklearn.model_selection import train_test_split\n",
    "\n",
    "X = df['combined_text']\n",
    "y = df['PassH']\n",
    "\n",
    "X_train, X_test, y_train1, y_test1 = train_test_split(X, y, random_state=2)"
   ]
  },
  {
   "cell_type": "code",
   "execution_count": 17,
   "metadata": {},
   "outputs": [
    {
     "data": {
      "text/plain": [
       "0    1\n",
       "1    0\n",
       "2    0\n",
       "3    0\n",
       "4    0\n",
       "Name: PassH, dtype: int64"
      ]
     },
     "execution_count": 17,
     "metadata": {},
     "output_type": "execute_result"
    }
   ],
   "source": [
    "df['PassH'].head()"
   ]
  },
  {
   "cell_type": "markdown",
   "metadata": {},
   "source": [
    "Encode our target column so that it can be used in machine learning models (may not be necessary since the data is already binary)"
   ]
  },
  {
   "cell_type": "code",
   "execution_count": 18,
   "metadata": {},
   "outputs": [],
   "source": [
    "encoder = preprocessing.LabelEncoder()\n",
    "\n",
    "y_train = encoder.fit_transform(y_train1)\n",
    "y_test = encoder.fit_transform(y_test1)"
   ]
  },
  {
   "cell_type": "code",
   "execution_count": 19,
   "metadata": {},
   "outputs": [
    {
     "data": {
      "text/plain": [
       "array([0, 0, 0, ..., 0, 0, 0])"
      ]
     },
     "execution_count": 19,
     "metadata": {},
     "output_type": "execute_result"
    }
   ],
   "source": [
    "y_train"
   ]
  },
  {
   "cell_type": "markdown",
   "metadata": {},
   "source": [
    "## Feature Engineering\n"
   ]
  },
  {
   "cell_type": "markdown",
   "metadata": {},
   "source": [
    "**Cleaning Text**\n",
    "\n",
    "Test both the spacy tokenizer and personalized tokenizer against the data."
   ]
  },
  {
   "cell_type": "code",
   "execution_count": 20,
   "metadata": {},
   "outputs": [],
   "source": [
    "import spacy\n",
    "from spacy.lang.en import English\n",
    "# For part of speech tagging\n",
    "import en_core_web_sm\n",
    "\n",
    "nlp = English()\n",
    "stop_words = spacy.lang.en.stop_words.STOP_WORDS\n",
    "\n",
    "nlp.Defaults.stop_words |= {\"bill\",\"amend\", \"purpose\", \"united\", \"state\", \"states\", \"secretary\", \"act\", \"federal\", \"provide\"}\n"
   ]
  },
  {
   "cell_type": "code",
   "execution_count": 21,
   "metadata": {},
   "outputs": [],
   "source": [
    "#Define the spacy tokenizer\n",
    "spacy_tokenizer = spacy.load('en_core_web_sm', disable =['tagger', 'parser', 'ner'])"
   ]
  },
  {
   "cell_type": "code",
   "execution_count": 22,
   "metadata": {},
   "outputs": [],
   "source": [
    "import string\n",
    "import re\n",
    "\n",
    "replace_with_space = re.compile('[/(){}\\[\\]\\|@,;]')\n",
    "\n",
    "just_words = re.compile('[^a-zA-Z\\s]')\n"
   ]
  },
  {
   "cell_type": "code",
   "execution_count": 23,
   "metadata": {},
   "outputs": [],
   "source": [
    "# Create our list of punctuation marks\n",
    "punctuations = string.punctuation\n",
    "\n",
    "# Create our list of stopwords\n",
    "nlp = spacy.load('en_core_web_sm')\n",
    "stop_words = spacy.lang.en.stop_words.STOP_WORDS\n",
    "\n",
    "def tokenizer(text):\n",
    "    \n",
    "    #lowercase everything\n",
    "    lower_text = text.lower()\n",
    "    \n",
    "    #remove punctuation\n",
    "#     no_pun_text = lower_text.translate(str.maketrans('', '', string.punctuation))\n",
    "    \n",
    "    #get rid of weird characters\n",
    "    text = replace_with_space.sub('',lower_text)\n",
    "    \n",
    "    #remove numbers\n",
    "    just_words_text = just_words.sub('', text)\n",
    "    \n",
    "    #add spacy tokenizer\n",
    "    mytokens = nlp(just_words_text, disable=['parser', 'ner'])\n",
    "#     print(mytokens)\n",
    "    \n",
    "    #for POS tagging\n",
    "#     mytokens = [word for word in mytokens if (word.pos_ == 'NOUN') or (word.pos_ == 'VERB') or (word.pos_ == 'ADJ') or (word.pos_ == 'ADV')]\n",
    "    \n",
    "    #lemmatize\n",
    "    mytokens = [word.lemma_.strip() if word.lemma_ != \"-PRON-\" else word.lower_ for word in mytokens ]\n",
    "    \n",
    "    #MAP SPECIFIC WORDS to others (veteran from veterans)\n",
    "\n",
    "    #add stopwords\n",
    "    mytokens = [word for word in mytokens if word not in stop_words and word not in punctuations]\n",
    "    \n",
    "    return mytokens\n",
    "    "
   ]
  },
  {
   "cell_type": "code",
   "execution_count": 24,
   "metadata": {},
   "outputs": [
    {
     "data": {
      "text/plain": [
       "'To accelerate the reduction of greenhouse gas emissions in the United States by establishing a market-driven system of greenhouse gas tradeable allowances that will limit greenhouse gas emissions in the United States, reduce dependence upon foreign oil, and ensure benefits to consumers from the trading in such allowances, and for other purposes. Climate Stewardship and Economic Security Act of 2007 - Requires the Administrator of the Environmental Protection Agency (EPA) to establish a National Greenhouse Gas Database consisting of: (1) an inventory of greenhouse gas (GHG) emissions by covered entities (specified entities that own or control a source of GHG emissions in the electric power, industrial, and commercial sectors of the U.S. economy that emit more than 10,000 metric tons of GHGs per year); and (2) a registry of GHG emission reductions and increased sequestration, applicable to all entities.'"
      ]
     },
     "execution_count": 24,
     "metadata": {},
     "output_type": "execute_result"
    }
   ],
   "source": [
    "test_fun = df.iloc[3586][29]\n",
    "test_fun"
   ]
  },
  {
   "cell_type": "code",
   "execution_count": 25,
   "metadata": {},
   "outputs": [
    {
     "data": {
      "text/plain": [
       "['accelerate',\n",
       " 'reduction',\n",
       " 'greenhouse',\n",
       " 'gas',\n",
       " 'emission',\n",
       " 'establish',\n",
       " 'marketdriven',\n",
       " 'system',\n",
       " 'greenhouse',\n",
       " 'gas',\n",
       " 'tradeable',\n",
       " 'allowance',\n",
       " 'limit',\n",
       " 'greenhouse',\n",
       " 'gas',\n",
       " 'emission',\n",
       " 'reduce',\n",
       " 'dependence',\n",
       " 'foreign',\n",
       " 'oil',\n",
       " 'ensure',\n",
       " 'benefit',\n",
       " 'consumer',\n",
       " 'trading',\n",
       " 'allowance',\n",
       " 'climate',\n",
       " 'stewardship',\n",
       " 'economic',\n",
       " 'security',\n",
       " 'require',\n",
       " 'administrator',\n",
       " 'environmental',\n",
       " 'protection',\n",
       " 'agency',\n",
       " 'epa',\n",
       " 'establish',\n",
       " 'national',\n",
       " 'greenhouse',\n",
       " 'gas',\n",
       " 'database',\n",
       " 'consist',\n",
       " 'inventory',\n",
       " 'greenhouse',\n",
       " 'gas',\n",
       " 'ghg',\n",
       " 'emission',\n",
       " 'covered',\n",
       " 'entity',\n",
       " 'specify',\n",
       " 'entity',\n",
       " 'control',\n",
       " 'source',\n",
       " 'ghg',\n",
       " 'emission',\n",
       " 'electric',\n",
       " 'power',\n",
       " 'industrial',\n",
       " 'commercial',\n",
       " 'sector',\n",
       " 'economy',\n",
       " 'emit',\n",
       " 'metric',\n",
       " 'ton',\n",
       " 'ghg',\n",
       " 'year',\n",
       " 'registry',\n",
       " 'ghg',\n",
       " 'emission',\n",
       " 'reduction',\n",
       " 'increase',\n",
       " 'sequestration',\n",
       " 'applicable',\n",
       " 'entity']"
      ]
     },
     "execution_count": 25,
     "metadata": {},
     "output_type": "execute_result"
    }
   ],
   "source": [
    "tokenizer(test_fun)\n"
   ]
  },
  {
   "cell_type": "markdown",
   "metadata": {},
   "source": [
    "**CountVectorizer**\n",
    "\n",
    "Every row represents a document in the corpus, every column represents a term in the document, every cell represents the frequency count of a particular term in a particular document.\n",
    "\n",
    "Tuning: analyzer, vectorizer, max_features, max_df, min_df, n_grams"
   ]
  },
  {
   "cell_type": "markdown",
   "metadata": {},
   "source": [
    "Explore:\n",
    "\n",
    "min_df:\n",
    "\n",
    "- min_df = 0.01 means \"ignore terms that appear in less than 1% of the documents\".\n",
    "- min_df = 5 means \"ignore terms that appear in less than 5 documents\".\n",
    "\n",
    "max_df: Attempt to remove heavily used words.\n",
    "\n",
    "- max_df = 0.50 means \"ignore terms that appear in more than 50% of the documents\".\n",
    "- max_df = 25 means \"ignore terms that appear in more than 25 documents\"."
   ]
  },
  {
   "cell_type": "code",
   "execution_count": 26,
   "metadata": {},
   "outputs": [
    {
     "name": "stdout",
     "output_type": "stream",
     "text": [
      "10000\n"
     ]
    }
   ],
   "source": [
    "from sklearn.feature_extraction.text import CountVectorizer\n",
    "\n",
    "vectorizer = CountVectorizer(tokenizer = tokenizer, max_df = 0.90, max_features = 10000) # max_df=0.90, min_df=10\n",
    "transformed = vectorizer.fit_transform(X, y)\n",
    "print(len(vectorizer.get_feature_names()))"
   ]
  },
  {
   "cell_type": "markdown",
   "metadata": {},
   "source": [
    "**Exploring Stored Words**"
   ]
  },
  {
   "cell_type": "markdown",
   "metadata": {},
   "source": [
    "Think about the number of words and how to decrease that list!\n",
    "\n",
    "Lemmatization should be something to further consider, also limiting specific words (pronouns?) used often"
   ]
  },
  {
   "cell_type": "code",
   "execution_count": 27,
   "metadata": {},
   "outputs": [
    {
     "data": {
      "text/plain": [
       "10000"
      ]
     },
     "execution_count": 27,
     "metadata": {},
     "output_type": "execute_result"
    }
   ],
   "source": [
    "len(vectorizer.get_feature_names())"
   ]
  },
  {
   "cell_type": "code",
   "execution_count": 28,
   "metadata": {},
   "outputs": [
    {
     "name": "stdout",
     "output_type": "stream",
     "text": [
      "capacity\n",
      "agree\n",
      "cure\n",
      "capitol\n",
      "bamboo\n",
      "audiologist\n",
      "conserve\n",
      "deployment\n",
      "corporation\n",
      "bullion\n"
     ]
    }
   ],
   "source": [
    "import random\n",
    "\n",
    "#get ten random words from each\n",
    "\n",
    "for i in range(10):\n",
    "    word_id = random.randint(0, 2454) #second should be len of cv\n",
    "    print(vectorizer.get_feature_names()[word_id])"
   ]
  },
  {
   "cell_type": "markdown",
   "metadata": {},
   "source": [
    "**Topic - Modeling LDA**\n",
    "\n",
    "\n",
    "LDA is an iterative model which starts from a fixed number of topics. Each topic is represented as a distribution over words, and each document is then represented as a distribution over topics.\n",
    "\n",
    "https://stackabuse.com/implementing-lda-in-python-with-scikit-learn/"
   ]
  },
  {
   "cell_type": "code",
   "execution_count": 29,
   "metadata": {},
   "outputs": [],
   "source": [
    "from sklearn.decomposition import LatentDirichletAllocation"
   ]
  },
  {
   "cell_type": "markdown",
   "metadata": {},
   "source": [
    "**OPTIONAL - Grisearch LDA**"
   ]
  },
  {
   "cell_type": "code",
   "execution_count": 30,
   "metadata": {},
   "outputs": [
    {
     "name": "stdout",
     "output_type": "stream",
     "text": [
      "Fitting 3 folds for each of 1 candidates, totalling 3 fits\n"
     ]
    },
    {
     "name": "stderr",
     "output_type": "stream",
     "text": [
      "[Parallel(n_jobs=-1)]: Using backend LokyBackend with 4 concurrent workers.\n",
      "[Parallel(n_jobs=-1)]: Done   3 out of   3 | elapsed:  4.1min finished\n"
     ]
    },
    {
     "data": {
      "text/plain": [
       "GridSearchCV(cv=3, error_score=nan,\n",
       "             estimator=LatentDirichletAllocation(batch_size=128,\n",
       "                                                 doc_topic_prior=None,\n",
       "                                                 evaluate_every=-1,\n",
       "                                                 learning_decay=0.7,\n",
       "                                                 learning_method='batch',\n",
       "                                                 learning_offset=10.0,\n",
       "                                                 max_doc_update_iter=100,\n",
       "                                                 max_iter=10,\n",
       "                                                 mean_change_tol=0.001,\n",
       "                                                 n_components=10, n_jobs=None,\n",
       "                                                 perp_tol=0.1,\n",
       "                                                 random_state=None,\n",
       "                                                 topic_word_prior=None,\n",
       "                                                 total_samples=1000000.0,\n",
       "                                                 verbose=0),\n",
       "             iid='deprecated', n_jobs=-1,\n",
       "             param_grid={'learning_decay': [0.3], 'n_components': [13],\n",
       "                         'random_state': [2]},\n",
       "             pre_dispatch='2*n_jobs', refit=True, return_train_score=False,\n",
       "             scoring=None, verbose=2)"
      ]
     },
     "execution_count": 30,
     "metadata": {},
     "output_type": "execute_result"
    }
   ],
   "source": [
    "from sklearn.model_selection import GridSearchCV\n",
    "\n",
    "\n",
    "# Define Search Param\n",
    "search_params = {'n_components': [13],\n",
    "                 'learning_decay': [.3],\n",
    "                 'random_state': [2]\n",
    "                }\n",
    "\n",
    "# Init the Model\n",
    "lda = LatentDirichletAllocation()\n",
    "\n",
    "# Init Grid Search Class\n",
    "model = GridSearchCV(lda, param_grid=search_params, cv=3, verbose=2, n_jobs = -1)\n",
    "\n",
    "# Do the Grid Search\n",
    "model.fit(transformed)"
   ]
  },
  {
   "cell_type": "code",
   "execution_count": 31,
   "metadata": {},
   "outputs": [
    {
     "name": "stdout",
     "output_type": "stream",
     "text": [
      "Best Model's Params:  {'learning_decay': 0.3, 'n_components': 13, 'random_state': 2}\n",
      "Best Log Likelihood Score:  -4453002.224204919\n",
      "Model Perplexity:  957.500224494282\n"
     ]
    }
   ],
   "source": [
    "# Best Model\n",
    "best_lda_model = model.best_estimator_\n",
    "\n",
    "# Model Parameters\n",
    "print(\"Best Model's Params: \", model.best_params_)\n",
    "\n",
    "# Log Likelihood Score\n",
    "print(\"Best Log Likelihood Score: \", model.best_score_)\n",
    "\n",
    "# Perplexity\n",
    "print(\"Model Perplexity: \", best_lda_model.perplexity(transformed))\n",
    "\n",
    "#Shows best params\n",
    "#shows best log likelihood\n",
    "#shows model perplexity score"
   ]
  },
  {
   "cell_type": "markdown",
   "metadata": {},
   "source": [
    "**Model evaluation:**"
   ]
  },
  {
   "cell_type": "markdown",
   "metadata": {},
   "source": [
    "Look at model components:"
   ]
  },
  {
   "cell_type": "code",
   "execution_count": 32,
   "metadata": {},
   "outputs": [
    {
     "data": {
      "text/plain": [
       "array([[7.69248361e-02, 1.33196783e-01, 7.69246040e-02, ...,\n",
       "        8.39427504e+00, 7.69230769e-02, 7.69237492e-02],\n",
       "       [7.69231841e-02, 2.00867833e+00, 7.69231627e-02, ...,\n",
       "        7.69238571e-02, 7.69278536e-02, 7.69230769e-02],\n",
       "       [7.69234439e-02, 7.69233542e-02, 7.69231652e-02, ...,\n",
       "        7.69233910e-02, 1.00769227e+01, 7.69230769e-02],\n",
       "       ...,\n",
       "       [1.20769153e+01, 1.12520009e+01, 7.69231237e-02, ...,\n",
       "        2.56766288e-01, 7.69232750e-02, 7.69230769e-02],\n",
       "       [7.69230769e-02, 5.90472955e+01, 7.69243560e-02, ...,\n",
       "        2.58180257e+02, 7.69289197e-02, 7.69241609e-02],\n",
       "       [7.69230769e-02, 7.69233664e-02, 7.69255997e-02, ...,\n",
       "        7.69234406e-02, 7.69233618e-02, 7.69230769e-02]])"
      ]
     },
     "execution_count": 32,
     "metadata": {},
     "output_type": "execute_result"
    }
   ],
   "source": [
    "best_lda_model.components_"
   ]
  },
  {
   "cell_type": "code",
   "execution_count": 33,
   "metadata": {},
   "outputs": [],
   "source": [
    "single_topic = best_lda_model.components_[0]"
   ]
  },
  {
   "cell_type": "code",
   "execution_count": 34,
   "metadata": {},
   "outputs": [
    {
     "data": {
      "text/plain": [
       "array([6485, 1468, 7860, ..., 7160, 8140, 5060])"
      ]
     },
     "execution_count": 34,
     "metadata": {},
     "output_type": "execute_result"
    }
   ],
   "source": [
    "# Returns the indices that would sort this array.\n",
    "single_topic.argsort()\n",
    "\n",
    "#look at the most and least representative words!"
   ]
  },
  {
   "cell_type": "code",
   "execution_count": 35,
   "metadata": {},
   "outputs": [
    {
     "data": {
      "text/plain": [
       "0.9787192149504518"
      ]
     },
     "execution_count": 35,
     "metadata": {},
     "output_type": "execute_result"
    }
   ],
   "source": [
    "# Word least representative of this topic\n",
    "single_topic[1279]\n"
   ]
  },
  {
   "cell_type": "code",
   "execution_count": 36,
   "metadata": {},
   "outputs": [
    {
     "data": {
      "text/plain": [
       "0.07692820933168064"
      ]
     },
     "execution_count": 36,
     "metadata": {},
     "output_type": "execute_result"
    }
   ],
   "source": [
    "# Word most representative of this topic\n",
    "single_topic[7710]"
   ]
  },
  {
   "cell_type": "markdown",
   "metadata": {},
   "source": [
    "Look at the top fifteen for each topic:"
   ]
  },
  {
   "cell_type": "code",
   "execution_count": 37,
   "metadata": {},
   "outputs": [
    {
     "name": "stdout",
     "output_type": "stream",
     "text": [
      "THE TOP 15 WORDS FOR TOPIC #0\n",
      "['information', 'employee', 'certain', 'code', 'right', 'foreign', 'immigration', 'homeland', 'require', 'criminal', 'enforcement', 'person', 'prohibit', 'security', 'law']\n",
      "\n",
      "\n",
      "THE TOP 15 WORDS FOR TOPIC #1\n",
      "['exchange', 'establish', 'use', 'production', 'require', 'security', 'renewable', 'policy', 'commission', 'oil', 'fuel', 'gas', 'product', 'consumer', 'energy']\n",
      "\n",
      "\n",
      "THE TOP 15 WORDS FOR TOPIC #2\n",
      "['family', 'title', 'va', 'affair', 'facility', 'health', 'affairs', 'service', 'medical', 'child', 'veteran', 'program', 'department', 'veterans', 'care']\n",
      "\n",
      "\n",
      "THE TOP 15 WORDS FOR TOPIC #3\n",
      "['amends', 'hospital', 'benefit', 'insurance', 'medicaid', 'payment', 'service', 'xviii', 'program', 'small', 'business', 'medicare', 'title', 'social', 'security']\n",
      "\n",
      "\n",
      "THE TOP 15 WORDS FOR TOPIC #4\n",
      "['require', 'war', 'benefit', 'employee', 'compensation', 'title', 'code', 'defense', 'pay', 'armed', 'veteran', 'military', 'service', 'force', 'member']\n",
      "\n",
      "\n",
      "THE TOP 15 WORDS FOR TOPIC #5\n",
      "['emergency', 'management', 'committee', 'disaster', 'president', 'year', 'government', 'report', 'establish', 'budget', 'office', 'congress', 'national', 'agency', 'require']\n",
      "\n",
      "\n",
      "THE TOP 15 WORDS FOR TOPIC #6\n",
      "['qualified', 'business', 'extend', 'deduction', 'taxpayer', 'certain', 'increase', 'property', 'allow', 'income', 'credit', 'internal', 'code', 'tax', 'revenue']\n",
      "\n",
      "\n",
      "THE TOP 15 WORDS FOR TOPIC #7\n",
      "['certain', 'introduce', 'version', 'repeat', 'temporary', 'suspension', 'summary', 'harmonized', 'extend', 'tariff', 'suspend', 'schedule', 'measure', 'temporarily', 'duty']\n",
      "\n",
      "\n",
      "THE TOP 15 WORDS FOR TOPIC #8\n",
      "['direct', 'mortgage', 'loan', 'service', 'national', 'authorize', 'training', 'community', 'development', 'establish', 'housing', 'education', 'assistance', 'grant', 'program']\n",
      "\n",
      "\n",
      "THE TOP 15 WORDS FOR TOPIC #9\n",
      "['public', 'title', 'regulation', 'air', 'direct', 'prohibit', 'use', 'requirement', 'service', 'safety', 'loan', 'certain', 'vehicle', 'require', 'transportation']\n",
      "\n",
      "\n",
      "THE TOP 15 WORDS FOR TOPIC #10\n",
      "['child', 'award', 'agency', 'high', 'local', 'educational', 'grant', 'elementary', 'program', 'drug', 'secondary', 'student', 'food', 'school', 'education']\n",
      "\n",
      "\n",
      "THE TOP 15 WORDS FOR TOPIC #11\n",
      "['county', 'forest', 'conservation', 'river', 'environmental', 'management', 'park', 'authorize', 'system', 'project', 'interior', 'area', 'water', 'land', 'national']\n",
      "\n",
      "\n",
      "THE TOP 15 WORDS FOR TOPIC #12\n",
      "['treatment', 'patient', 'coverage', 'drug', 'plan', 'information', 'individual', 'protection', 'insurance', 'human', 'require', 'public', 'care', 'service', 'health']\n",
      "\n",
      "\n"
     ]
    }
   ],
   "source": [
    "for index,topic in enumerate(best_lda_model.components_):\n",
    "    print(f'THE TOP 15 WORDS FOR TOPIC #{index}')\n",
    "    print([vectorizer.get_feature_names()[i] for i in topic.argsort()[-15:]])\n",
    "    print('\\n')\n",
    "\n",
    "#print top fifteen words for each topic\n",
    "#increase number of topics to get more specific topics\n",
    "#go back and clean some of the data based on answers"
   ]
  },
  {
   "cell_type": "code",
   "execution_count": 38,
   "metadata": {},
   "outputs": [],
   "source": [
    "# # Create Document - Topic Matrix\n",
    "# lda_output = best_lda_model.transform(transformed)\n",
    "\n",
    "# # column names\n",
    "# topicnames = [\"Topic\" + str(i) for i in range(best_lda_model.n_components)] #change to best_lda_model after gridsearch!\n",
    "\n",
    "# # index names\n",
    "# docnames = [\"Doc\" + str(i) for i in range(len(X_train))]\n",
    "\n",
    "# # Make the pandas dataframe\n",
    "# df_document_topic = pd.DataFrame(np.round(lda_output, 2), columns=topicnames, index=docnames)\n",
    "\n",
    "# # Get dominant topic for each document\n",
    "# dominant_topic = np.argmax(df_document_topic.values, axis=1)\n",
    "# df_document_topic['dominant_topic'] = dominant_topic\n",
    "\n",
    "# # Styling\n",
    "# def color_green(val):\n",
    "#     color = 'green' if val > .1 else 'black'\n",
    "#     return 'color: {col}'.format(col=color)\n",
    "\n",
    "# def make_bold(val):\n",
    "#     weight = 700 if val > .1 else 400\n",
    "#     return 'font-weight: {weight}'.format(weight=weight)\n",
    "\n",
    "# # Apply Style\n",
    "# df_document_topics = df_document_topic.head(15).style.applymap(color_green).applymap(make_bold)\n",
    "# df_document_topics\n",
    "\n",
    "# #final column shows the topic each document is most 'like'\n",
    "# #topcis are distribution of words, and see which scores most highly on, and applying that topic to the document"
   ]
  },
  {
   "cell_type": "code",
   "execution_count": 39,
   "metadata": {},
   "outputs": [
    {
     "data": {
      "text/html": [
       "<div>\n",
       "<style scoped>\n",
       "    .dataframe tbody tr th:only-of-type {\n",
       "        vertical-align: middle;\n",
       "    }\n",
       "\n",
       "    .dataframe tbody tr th {\n",
       "        vertical-align: top;\n",
       "    }\n",
       "\n",
       "    .dataframe thead th {\n",
       "        text-align: right;\n",
       "    }\n",
       "</style>\n",
       "<table border=\"1\" class=\"dataframe\">\n",
       "  <thead>\n",
       "    <tr style=\"text-align: right;\">\n",
       "      <th></th>\n",
       "      <th>Topic0</th>\n",
       "      <th>Topic1</th>\n",
       "      <th>Topic2</th>\n",
       "      <th>Topic3</th>\n",
       "      <th>Topic4</th>\n",
       "      <th>Topic5</th>\n",
       "      <th>Topic6</th>\n",
       "      <th>Topic7</th>\n",
       "      <th>Topic8</th>\n",
       "      <th>Topic9</th>\n",
       "      <th>Topic10</th>\n",
       "      <th>Topic11</th>\n",
       "      <th>Topic12</th>\n",
       "      <th>dominant_topic</th>\n",
       "    </tr>\n",
       "    <tr>\n",
       "      <th>BillID</th>\n",
       "      <th></th>\n",
       "      <th></th>\n",
       "      <th></th>\n",
       "      <th></th>\n",
       "      <th></th>\n",
       "      <th></th>\n",
       "      <th></th>\n",
       "      <th></th>\n",
       "      <th></th>\n",
       "      <th></th>\n",
       "      <th></th>\n",
       "      <th></th>\n",
       "      <th></th>\n",
       "      <th></th>\n",
       "    </tr>\n",
       "  </thead>\n",
       "  <tbody>\n",
       "    <tr>\n",
       "      <th>110-HR-1</th>\n",
       "      <td>0.11</td>\n",
       "      <td>0.00</td>\n",
       "      <td>0.00</td>\n",
       "      <td>0.00</td>\n",
       "      <td>0.00</td>\n",
       "      <td>0.84</td>\n",
       "      <td>0.00</td>\n",
       "      <td>0.00</td>\n",
       "      <td>0.00</td>\n",
       "      <td>0.00</td>\n",
       "      <td>0.00</td>\n",
       "      <td>0.00</td>\n",
       "      <td>0.00</td>\n",
       "      <td>5</td>\n",
       "    </tr>\n",
       "    <tr>\n",
       "      <th>110-HR-10</th>\n",
       "      <td>0.03</td>\n",
       "      <td>0.03</td>\n",
       "      <td>0.03</td>\n",
       "      <td>0.03</td>\n",
       "      <td>0.35</td>\n",
       "      <td>0.03</td>\n",
       "      <td>0.03</td>\n",
       "      <td>0.03</td>\n",
       "      <td>0.03</td>\n",
       "      <td>0.03</td>\n",
       "      <td>0.36</td>\n",
       "      <td>0.03</td>\n",
       "      <td>0.03</td>\n",
       "      <td>10</td>\n",
       "    </tr>\n",
       "    <tr>\n",
       "      <th>110-HR-100</th>\n",
       "      <td>0.00</td>\n",
       "      <td>0.00</td>\n",
       "      <td>0.00</td>\n",
       "      <td>0.00</td>\n",
       "      <td>0.40</td>\n",
       "      <td>0.03</td>\n",
       "      <td>0.04</td>\n",
       "      <td>0.00</td>\n",
       "      <td>0.17</td>\n",
       "      <td>0.00</td>\n",
       "      <td>0.35</td>\n",
       "      <td>0.00</td>\n",
       "      <td>0.00</td>\n",
       "      <td>4</td>\n",
       "    </tr>\n",
       "    <tr>\n",
       "      <th>110-HR-1000</th>\n",
       "      <td>0.00</td>\n",
       "      <td>0.00</td>\n",
       "      <td>0.00</td>\n",
       "      <td>0.00</td>\n",
       "      <td>0.00</td>\n",
       "      <td>0.07</td>\n",
       "      <td>0.00</td>\n",
       "      <td>0.00</td>\n",
       "      <td>0.00</td>\n",
       "      <td>0.00</td>\n",
       "      <td>0.84</td>\n",
       "      <td>0.00</td>\n",
       "      <td>0.08</td>\n",
       "      <td>10</td>\n",
       "    </tr>\n",
       "    <tr>\n",
       "      <th>110-HR-1001</th>\n",
       "      <td>0.00</td>\n",
       "      <td>0.00</td>\n",
       "      <td>0.00</td>\n",
       "      <td>0.08</td>\n",
       "      <td>0.00</td>\n",
       "      <td>0.66</td>\n",
       "      <td>0.20</td>\n",
       "      <td>0.00</td>\n",
       "      <td>0.00</td>\n",
       "      <td>0.00</td>\n",
       "      <td>0.00</td>\n",
       "      <td>0.04</td>\n",
       "      <td>0.00</td>\n",
       "      <td>5</td>\n",
       "    </tr>\n",
       "  </tbody>\n",
       "</table>\n",
       "</div>"
      ],
      "text/plain": [
       "             Topic0  Topic1  Topic2  Topic3  Topic4  Topic5  Topic6  Topic7  \\\n",
       "BillID                                                                        \n",
       "110-HR-1       0.11    0.00    0.00    0.00    0.00    0.84    0.00    0.00   \n",
       "110-HR-10      0.03    0.03    0.03    0.03    0.35    0.03    0.03    0.03   \n",
       "110-HR-100     0.00    0.00    0.00    0.00    0.40    0.03    0.04    0.00   \n",
       "110-HR-1000    0.00    0.00    0.00    0.00    0.00    0.07    0.00    0.00   \n",
       "110-HR-1001    0.00    0.00    0.00    0.08    0.00    0.66    0.20    0.00   \n",
       "\n",
       "             Topic8  Topic9  Topic10  Topic11  Topic12  dominant_topic  \n",
       "BillID                                                                  \n",
       "110-HR-1       0.00    0.00     0.00     0.00     0.00               5  \n",
       "110-HR-10      0.03    0.03     0.36     0.03     0.03              10  \n",
       "110-HR-100     0.17    0.00     0.35     0.00     0.00               4  \n",
       "110-HR-1000    0.00    0.00     0.84     0.00     0.08              10  \n",
       "110-HR-1001    0.00    0.00     0.00     0.04     0.00               5  "
      ]
     },
     "execution_count": 39,
     "metadata": {},
     "output_type": "execute_result"
    }
   ],
   "source": [
    "#Add output to the dataframe:\n",
    "\n",
    "# Create Document - Topic Matrix\n",
    "lda_output = best_lda_model.transform(transformed)\n",
    "\n",
    "# column names\n",
    "topicnames = [\"Topic\" + str(i) for i in range(best_lda_model.n_components)] #change to best_lda_model after gridsearch!\n",
    "\n",
    "# index names\n",
    "docnames = [\"Doc\" + str(i) for i in range(len(X))]\n",
    "\n",
    "# Make the pandas dataframe\n",
    "df_document_topic = pd.DataFrame(np.round(lda_output, 2), columns=topicnames, index=df['BillID'])\n",
    "\n",
    "# Get dominant topic for each document\n",
    "dominant_topic = np.argmax(df_document_topic.values, axis=1)\n",
    "df_document_topic['dominant_topic'] = dominant_topic\n",
    "\n",
    "df_document_topic.head()\n"
   ]
  },
  {
   "cell_type": "code",
   "execution_count": 40,
   "metadata": {},
   "outputs": [
    {
     "data": {
      "text/html": [
       "<div>\n",
       "<style scoped>\n",
       "    .dataframe tbody tr th:only-of-type {\n",
       "        vertical-align: middle;\n",
       "    }\n",
       "\n",
       "    .dataframe tbody tr th {\n",
       "        vertical-align: top;\n",
       "    }\n",
       "\n",
       "    .dataframe thead th {\n",
       "        text-align: right;\n",
       "    }\n",
       "</style>\n",
       "<table border=\"1\" class=\"dataframe\">\n",
       "  <thead>\n",
       "    <tr style=\"text-align: right;\">\n",
       "      <th></th>\n",
       "      <th>Topic0</th>\n",
       "      <th>Topic1</th>\n",
       "      <th>Topic2</th>\n",
       "      <th>Topic3</th>\n",
       "      <th>Topic4</th>\n",
       "      <th>Topic5</th>\n",
       "      <th>Topic6</th>\n",
       "      <th>Topic7</th>\n",
       "      <th>Topic8</th>\n",
       "      <th>Topic9</th>\n",
       "      <th>Topic10</th>\n",
       "      <th>Topic11</th>\n",
       "      <th>Topic12</th>\n",
       "      <th>dominant_topic</th>\n",
       "    </tr>\n",
       "    <tr>\n",
       "      <th>BillID</th>\n",
       "      <th></th>\n",
       "      <th></th>\n",
       "      <th></th>\n",
       "      <th></th>\n",
       "      <th></th>\n",
       "      <th></th>\n",
       "      <th></th>\n",
       "      <th></th>\n",
       "      <th></th>\n",
       "      <th></th>\n",
       "      <th></th>\n",
       "      <th></th>\n",
       "      <th></th>\n",
       "      <th></th>\n",
       "    </tr>\n",
       "  </thead>\n",
       "  <tbody>\n",
       "    <tr>\n",
       "      <th>110-HR-1</th>\n",
       "      <td>0.11</td>\n",
       "      <td>0.00</td>\n",
       "      <td>0.00</td>\n",
       "      <td>0.00</td>\n",
       "      <td>0.00</td>\n",
       "      <td>0.84</td>\n",
       "      <td>0.00</td>\n",
       "      <td>0.00</td>\n",
       "      <td>0.00</td>\n",
       "      <td>0.00</td>\n",
       "      <td>0.00</td>\n",
       "      <td>0.00</td>\n",
       "      <td>0.00</td>\n",
       "      <td>5</td>\n",
       "    </tr>\n",
       "    <tr>\n",
       "      <th>110-HR-10</th>\n",
       "      <td>0.03</td>\n",
       "      <td>0.03</td>\n",
       "      <td>0.03</td>\n",
       "      <td>0.03</td>\n",
       "      <td>0.35</td>\n",
       "      <td>0.03</td>\n",
       "      <td>0.03</td>\n",
       "      <td>0.03</td>\n",
       "      <td>0.03</td>\n",
       "      <td>0.03</td>\n",
       "      <td>0.36</td>\n",
       "      <td>0.03</td>\n",
       "      <td>0.03</td>\n",
       "      <td>10</td>\n",
       "    </tr>\n",
       "    <tr>\n",
       "      <th>110-HR-100</th>\n",
       "      <td>0.00</td>\n",
       "      <td>0.00</td>\n",
       "      <td>0.00</td>\n",
       "      <td>0.00</td>\n",
       "      <td>0.40</td>\n",
       "      <td>0.03</td>\n",
       "      <td>0.04</td>\n",
       "      <td>0.00</td>\n",
       "      <td>0.17</td>\n",
       "      <td>0.00</td>\n",
       "      <td>0.35</td>\n",
       "      <td>0.00</td>\n",
       "      <td>0.00</td>\n",
       "      <td>4</td>\n",
       "    </tr>\n",
       "    <tr>\n",
       "      <th>110-HR-1000</th>\n",
       "      <td>0.00</td>\n",
       "      <td>0.00</td>\n",
       "      <td>0.00</td>\n",
       "      <td>0.00</td>\n",
       "      <td>0.00</td>\n",
       "      <td>0.07</td>\n",
       "      <td>0.00</td>\n",
       "      <td>0.00</td>\n",
       "      <td>0.00</td>\n",
       "      <td>0.00</td>\n",
       "      <td>0.84</td>\n",
       "      <td>0.00</td>\n",
       "      <td>0.08</td>\n",
       "      <td>10</td>\n",
       "    </tr>\n",
       "    <tr>\n",
       "      <th>110-HR-1001</th>\n",
       "      <td>0.00</td>\n",
       "      <td>0.00</td>\n",
       "      <td>0.00</td>\n",
       "      <td>0.08</td>\n",
       "      <td>0.00</td>\n",
       "      <td>0.66</td>\n",
       "      <td>0.20</td>\n",
       "      <td>0.00</td>\n",
       "      <td>0.00</td>\n",
       "      <td>0.00</td>\n",
       "      <td>0.00</td>\n",
       "      <td>0.04</td>\n",
       "      <td>0.00</td>\n",
       "      <td>5</td>\n",
       "    </tr>\n",
       "  </tbody>\n",
       "</table>\n",
       "</div>"
      ],
      "text/plain": [
       "             Topic0  Topic1  Topic2  Topic3  Topic4  Topic5  Topic6  Topic7  \\\n",
       "BillID                                                                        \n",
       "110-HR-1       0.11    0.00    0.00    0.00    0.00    0.84    0.00    0.00   \n",
       "110-HR-10      0.03    0.03    0.03    0.03    0.35    0.03    0.03    0.03   \n",
       "110-HR-100     0.00    0.00    0.00    0.00    0.40    0.03    0.04    0.00   \n",
       "110-HR-1000    0.00    0.00    0.00    0.00    0.00    0.07    0.00    0.00   \n",
       "110-HR-1001    0.00    0.00    0.00    0.08    0.00    0.66    0.20    0.00   \n",
       "\n",
       "             Topic8  Topic9  Topic10  Topic11  Topic12  dominant_topic  \n",
       "BillID                                                                  \n",
       "110-HR-1       0.00    0.00     0.00     0.00     0.00               5  \n",
       "110-HR-10      0.03    0.03     0.36     0.03     0.03              10  \n",
       "110-HR-100     0.17    0.00     0.35     0.00     0.00               4  \n",
       "110-HR-1000    0.00    0.00     0.84     0.00     0.08              10  \n",
       "110-HR-1001    0.00    0.00     0.00     0.04     0.00               5  "
      ]
     },
     "execution_count": 40,
     "metadata": {},
     "output_type": "execute_result"
    }
   ],
   "source": [
    "df_document_topic.head()"
   ]
  },
  {
   "cell_type": "code",
   "execution_count": 41,
   "metadata": {},
   "outputs": [],
   "source": [
    "df_document_topic.reset_index(drop=True, inplace=True)\n",
    "df.reset_index(drop=True, inplace=True)"
   ]
  },
  {
   "cell_type": "code",
   "execution_count": 72,
   "metadata": {},
   "outputs": [],
   "source": [
    "test = pd.concat([df_document_topic, df], axis=1)"
   ]
  },
  {
   "cell_type": "code",
   "execution_count": 73,
   "metadata": {},
   "outputs": [
    {
     "data": {
      "text/html": [
       "<div>\n",
       "<style scoped>\n",
       "    .dataframe tbody tr th:only-of-type {\n",
       "        vertical-align: middle;\n",
       "    }\n",
       "\n",
       "    .dataframe tbody tr th {\n",
       "        vertical-align: top;\n",
       "    }\n",
       "\n",
       "    .dataframe thead th {\n",
       "        text-align: right;\n",
       "    }\n",
       "</style>\n",
       "<table border=\"1\" class=\"dataframe\">\n",
       "  <thead>\n",
       "    <tr style=\"text-align: right;\">\n",
       "      <th></th>\n",
       "      <th>Topic0</th>\n",
       "      <th>Topic1</th>\n",
       "      <th>Topic2</th>\n",
       "      <th>Topic3</th>\n",
       "      <th>Topic4</th>\n",
       "      <th>Topic5</th>\n",
       "      <th>Topic6</th>\n",
       "      <th>Topic7</th>\n",
       "      <th>Topic8</th>\n",
       "      <th>Topic9</th>\n",
       "      <th>...</th>\n",
       "      <th>PassS</th>\n",
       "      <th>PLawDate</th>\n",
       "      <th>PLawNum</th>\n",
       "      <th>ImpBill</th>\n",
       "      <th>Majority</th>\n",
       "      <th>Major</th>\n",
       "      <th>Minor</th>\n",
       "      <th>URL</th>\n",
       "      <th>Summary</th>\n",
       "      <th>combined_text</th>\n",
       "    </tr>\n",
       "  </thead>\n",
       "  <tbody>\n",
       "    <tr>\n",
       "      <th>0</th>\n",
       "      <td>0.11</td>\n",
       "      <td>0.00</td>\n",
       "      <td>0.00</td>\n",
       "      <td>0.00</td>\n",
       "      <td>0.00</td>\n",
       "      <td>0.84</td>\n",
       "      <td>0.00</td>\n",
       "      <td>0.00</td>\n",
       "      <td>0.00</td>\n",
       "      <td>0.00</td>\n",
       "      <td>...</td>\n",
       "      <td>1</td>\n",
       "      <td>2007-08-03 00:00:00</td>\n",
       "      <td>Became Public Law No: 110-53.</td>\n",
       "      <td>1</td>\n",
       "      <td>1</td>\n",
       "      <td>16.0</td>\n",
       "      <td>1615.0</td>\n",
       "      <td>https://www.congress.gov/bill/110th-congress/h...</td>\n",
       "      <td>Implementing Recommendations of the 9/11 Commi...</td>\n",
       "      <td>To provide for the implementation of the recom...</td>\n",
       "    </tr>\n",
       "    <tr>\n",
       "      <th>1</th>\n",
       "      <td>0.03</td>\n",
       "      <td>0.03</td>\n",
       "      <td>0.03</td>\n",
       "      <td>0.03</td>\n",
       "      <td>0.35</td>\n",
       "      <td>0.03</td>\n",
       "      <td>0.03</td>\n",
       "      <td>0.03</td>\n",
       "      <td>0.03</td>\n",
       "      <td>0.03</td>\n",
       "      <td>...</td>\n",
       "      <td>0</td>\n",
       "      <td>None</td>\n",
       "      <td>0</td>\n",
       "      <td>1</td>\n",
       "      <td>1</td>\n",
       "      <td>20.0</td>\n",
       "      <td>2002.0</td>\n",
       "      <td>https://www.congress.gov/bill/110th-congress/h...</td>\n",
       "      <td></td>\n",
       "      <td>Reserved for Speaker.</td>\n",
       "    </tr>\n",
       "    <tr>\n",
       "      <th>2</th>\n",
       "      <td>0.00</td>\n",
       "      <td>0.00</td>\n",
       "      <td>0.00</td>\n",
       "      <td>0.00</td>\n",
       "      <td>0.40</td>\n",
       "      <td>0.03</td>\n",
       "      <td>0.04</td>\n",
       "      <td>0.00</td>\n",
       "      <td>0.17</td>\n",
       "      <td>0.00</td>\n",
       "      <td>...</td>\n",
       "      <td>0</td>\n",
       "      <td>None</td>\n",
       "      <td>0</td>\n",
       "      <td>1</td>\n",
       "      <td>1</td>\n",
       "      <td>6.0</td>\n",
       "      <td>601.0</td>\n",
       "      <td>https://www.congress.gov/bill/110th-congress/h...</td>\n",
       "      <td>Veterans' Equity in Education Act of 2007 - Am...</td>\n",
       "      <td>To amend the Higher Education Act of 1965 to p...</td>\n",
       "    </tr>\n",
       "    <tr>\n",
       "      <th>3</th>\n",
       "      <td>0.00</td>\n",
       "      <td>0.00</td>\n",
       "      <td>0.00</td>\n",
       "      <td>0.00</td>\n",
       "      <td>0.00</td>\n",
       "      <td>0.07</td>\n",
       "      <td>0.00</td>\n",
       "      <td>0.00</td>\n",
       "      <td>0.00</td>\n",
       "      <td>0.00</td>\n",
       "      <td>...</td>\n",
       "      <td>0</td>\n",
       "      <td>None</td>\n",
       "      <td>0</td>\n",
       "      <td>0</td>\n",
       "      <td>1</td>\n",
       "      <td>20.0</td>\n",
       "      <td>2006.0</td>\n",
       "      <td>https://www.congress.gov/bill/110th-congress/h...</td>\n",
       "      <td>Edward William Brooke III Congressional Gold M...</td>\n",
       "      <td>To award a congressional gold medal to Edward ...</td>\n",
       "    </tr>\n",
       "    <tr>\n",
       "      <th>4</th>\n",
       "      <td>0.00</td>\n",
       "      <td>0.00</td>\n",
       "      <td>0.00</td>\n",
       "      <td>0.08</td>\n",
       "      <td>0.00</td>\n",
       "      <td>0.66</td>\n",
       "      <td>0.20</td>\n",
       "      <td>0.00</td>\n",
       "      <td>0.00</td>\n",
       "      <td>0.00</td>\n",
       "      <td>...</td>\n",
       "      <td>0</td>\n",
       "      <td>None</td>\n",
       "      <td>0</td>\n",
       "      <td>1</td>\n",
       "      <td>1</td>\n",
       "      <td>19.0</td>\n",
       "      <td>1921.0</td>\n",
       "      <td>https://www.congress.gov/bill/110th-congress/h...</td>\n",
       "      <td>Amends the Caribbean Basin Economic Recovery A...</td>\n",
       "      <td>To amend the Haitian Hemispheric Opportunity t...</td>\n",
       "    </tr>\n",
       "  </tbody>\n",
       "</table>\n",
       "<p>5 rows × 44 columns</p>\n",
       "</div>"
      ],
      "text/plain": [
       "   Topic0  Topic1  Topic2  Topic3  Topic4  Topic5  Topic6  Topic7  Topic8  \\\n",
       "0    0.11    0.00    0.00    0.00    0.00    0.84    0.00    0.00    0.00   \n",
       "1    0.03    0.03    0.03    0.03    0.35    0.03    0.03    0.03    0.03   \n",
       "2    0.00    0.00    0.00    0.00    0.40    0.03    0.04    0.00    0.17   \n",
       "3    0.00    0.00    0.00    0.00    0.00    0.07    0.00    0.00    0.00   \n",
       "4    0.00    0.00    0.00    0.08    0.00    0.66    0.20    0.00    0.00   \n",
       "\n",
       "   Topic9  ...  PassS             PLawDate                        PLawNum  \\\n",
       "0    0.00  ...      1  2007-08-03 00:00:00  Became Public Law No: 110-53.   \n",
       "1    0.03  ...      0                 None                              0   \n",
       "2    0.00  ...      0                 None                              0   \n",
       "3    0.00  ...      0                 None                              0   \n",
       "4    0.00  ...      0                 None                              0   \n",
       "\n",
       "   ImpBill Majority Major   Minor  \\\n",
       "0        1        1  16.0  1615.0   \n",
       "1        1        1  20.0  2002.0   \n",
       "2        1        1   6.0   601.0   \n",
       "3        0        1  20.0  2006.0   \n",
       "4        1        1  19.0  1921.0   \n",
       "\n",
       "                                                 URL  \\\n",
       "0  https://www.congress.gov/bill/110th-congress/h...   \n",
       "1  https://www.congress.gov/bill/110th-congress/h...   \n",
       "2  https://www.congress.gov/bill/110th-congress/h...   \n",
       "3  https://www.congress.gov/bill/110th-congress/h...   \n",
       "4  https://www.congress.gov/bill/110th-congress/h...   \n",
       "\n",
       "                                             Summary  \\\n",
       "0  Implementing Recommendations of the 9/11 Commi...   \n",
       "1                                                      \n",
       "2  Veterans' Equity in Education Act of 2007 - Am...   \n",
       "3  Edward William Brooke III Congressional Gold M...   \n",
       "4  Amends the Caribbean Basin Economic Recovery A...   \n",
       "\n",
       "                                       combined_text  \n",
       "0  To provide for the implementation of the recom...  \n",
       "1                             Reserved for Speaker.   \n",
       "2  To amend the Higher Education Act of 1965 to p...  \n",
       "3  To award a congressional gold medal to Edward ...  \n",
       "4  To amend the Haitian Hemispheric Opportunity t...  \n",
       "\n",
       "[5 rows x 44 columns]"
      ]
     },
     "execution_count": 73,
     "metadata": {},
     "output_type": "execute_result"
    }
   ],
   "source": [
    "test.head()"
   ]
  },
  {
   "cell_type": "code",
   "execution_count": 74,
   "metadata": {},
   "outputs": [
    {
     "data": {
      "text/plain": [
       "<matplotlib.legend.Legend at 0x1a3791fcf8>"
      ]
     },
     "execution_count": 74,
     "metadata": {},
     "output_type": "execute_result"
    },
    {
     "data": {
      "image/png": "[encoded data removed]",
      "text/plain": [
       "<Figure size 432x288 with 1 Axes>"
      ]
     },
     "metadata": {},
     "output_type": "display_data"
    }
   ],
   "source": [
    "import seaborn as sns\n",
    "import matplotlib.pyplot as plt\n",
    "sns.set(style=\"whitegrid\")\n",
    "\n",
    "test.groupby(['PassH', 'dominant_topic']).size().unstack().plot.bar().set_title('Topics by Bill Passage')\n",
    "plt.legend(bbox_to_anchor=(1.05, 1), loc='upper left', borderaxespad=0.)\n"
   ]
  },
  {
   "cell_type": "code",
   "execution_count": 75,
   "metadata": {},
   "outputs": [
    {
     "data": {
      "text/plain": [
       "<matplotlib.legend.Legend at 0x1a374ac3c8>"
      ]
     },
     "execution_count": 75,
     "metadata": {},
     "output_type": "execute_result"
    },
    {
     "data": {
      "image/png": "[encoded data removed]",
      "text/plain": [
       "<Figure size 1440x576 with 1 Axes>"
      ]
     },
     "metadata": {},
     "output_type": "display_data"
    }
   ],
   "source": [
    "\n",
    "test.groupby(['PassH', 'Cong','dominant_topic']).size().unstack().plot.bar(figsize=(20,8)).set_title('Bill Topics by Congress')\n",
    "plt.legend(bbox_to_anchor=(1.05, 1), loc='upper left', borderaxespad=0.)\n"
   ]
  },
  {
   "cell_type": "code",
   "execution_count": 76,
   "metadata": {},
   "outputs": [
    {
     "data": {
      "text/plain": [
       "Text(0.5, 1.0, 'Bill Topic Percentage Proposals by Congress')"
      ]
     },
     "execution_count": 76,
     "metadata": {},
     "output_type": "execute_result"
    },
    {
     "data": {
      "image/png": "[encoded data removed]",
      "text/plain": [
       "<Figure size 1440x360 with 1 Axes>"
      ]
     },
     "metadata": {
      "needs_background": "light"
     },
     "output_type": "display_data"
    }
   ],
   "source": [
    "#Looking at dominant topic contribution by proportion\n",
    "import pandas as pd\n",
    "import seaborn as sns\n",
    "import matplotlib.pyplot as plt\n",
    "\n",
    "%matplotlib inline\n",
    "\n",
    "plt.figure(figsize=(20,5))\n",
    "\n",
    "x1, y1, hue = \"dominant_topic\", \"proportion\", \"Cong\"\n",
    "hue_order = [\"1\", \"0\"]\n",
    "data=test\n",
    "\n",
    "(test[x1]\n",
    " .groupby(test[hue])\n",
    " .value_counts(normalize=True)\n",
    " .rename(y1)\n",
    " .reset_index()\n",
    " .pipe((sns.barplot, \"data\"), x=x1, y=y1, hue=hue).set_title('Bill Topic Percentage Proposals by Congress'))\n"
   ]
  },
  {
   "cell_type": "code",
   "execution_count": 77,
   "metadata": {},
   "outputs": [
    {
     "data": {
      "text/plain": [
       "0     5\n",
       "1    10\n",
       "2     4\n",
       "3    10\n",
       "4     5\n",
       "Name: dominant_topic, dtype: int64"
      ]
     },
     "execution_count": 77,
     "metadata": {},
     "output_type": "execute_result"
    }
   ],
   "source": [
    "test['dominant_topic'].head()"
   ]
  },
  {
   "cell_type": "code",
   "execution_count": 78,
   "metadata": {},
   "outputs": [
    {
     "data": {
      "text/plain": [
       "Text(0.5, 1.0, 'Topic by Percent Contribution to Passage')"
      ]
     },
     "execution_count": 78,
     "metadata": {},
     "output_type": "execute_result"
    },
    {
     "data": {
      "image/png": "[encoded data removed]",
      "text/plain": [
       "<Figure size 1440x360 with 1 Axes>"
      ]
     },
     "metadata": {
      "needs_background": "light"
     },
     "output_type": "display_data"
    }
   ],
   "source": [
    "#Looking at dominant topic contribution by proportion\n",
    "import pandas as pd\n",
    "import seaborn as sns\n",
    "import matplotlib.pyplot as plt\n",
    "\n",
    "%matplotlib inline\n",
    "\n",
    "plt.figure(figsize=(20,5))\n",
    "\n",
    "x2, y2, hue = \"dominant_topic\", \"proportion\", \"PassH\"\n",
    "hue_order = [\"1\", \"0\"]\n",
    "data=test\n",
    "\n",
    "(test[x2]\n",
    " .groupby(test[hue])\n",
    " .value_counts(normalize=True)\n",
    " .rename(y2)\n",
    " .reset_index()\n",
    " .pipe((sns.barplot, \"data\"), x=x2, y=y2, hue=hue).set_title('Topic by Percent Contribution to Passage'))\n"
   ]
  },
  {
   "cell_type": "code",
   "execution_count": 79,
   "metadata": {},
   "outputs": [
    {
     "data": {
      "text/plain": [
       "Text(0.5, 1.0, 'Topic by Party Proposal Breakdown')"
      ]
     },
     "execution_count": 79,
     "metadata": {},
     "output_type": "execute_result"
    },
    {
     "data": {
      "image/png": "[encoded data removed]",
      "text/plain": [
       "<Figure size 1440x360 with 1 Axes>"
      ]
     },
     "metadata": {
      "needs_background": "light"
     },
     "output_type": "display_data"
    }
   ],
   "source": [
    "#Looking at dominant topic contribution by topic and party\n",
    "import pandas as pd\n",
    "import seaborn as sns\n",
    "import matplotlib.pyplot as plt\n",
    "\n",
    "%matplotlib inline\n",
    "\n",
    "plt.figure(figsize=(20,5))\n",
    "\n",
    "x3, y3, hue = \"dominant_topic\", \"proportion\", \"Party\"\n",
    "hue_order = [\"1\", \"0\"]\n",
    "data=test\n",
    "\n",
    "(test[x3]\n",
    " .groupby(test[hue])\n",
    " .value_counts(normalize=True)\n",
    " .rename(y3)\n",
    " .reset_index()\n",
    " .pipe((sns.barplot, \"data\"), x=x3, y=y3, hue=hue).set_title('Topic by Party Proposal Breakdown'))\n"
   ]
  },
  {
   "cell_type": "code",
   "execution_count": 80,
   "metadata": {},
   "outputs": [
    {
     "data": {
      "text/plain": [
       "<matplotlib.legend.Legend at 0x1a3b7d2b70>"
      ]
     },
     "execution_count": 80,
     "metadata": {},
     "output_type": "execute_result"
    },
    {
     "data": {
      "image/png": "[encoded data removed]",
      "text/plain": [
       "<Figure size 432x288 with 1 Axes>"
      ]
     },
     "metadata": {},
     "output_type": "display_data"
    }
   ],
   "source": [
    "import seaborn as sns\n",
    "import matplotlib.pyplot as plt\n",
    "sns.set(style=\"whitegrid\")\n",
    "\n",
    "test.groupby(['PLaw', 'dominant_topic']).size().unstack().plot.bar().set_title('Topics by Law Passage')\n",
    "plt.legend(bbox_to_anchor=(1.05, 1), loc='upper left', borderaxespad=0.)\n"
   ]
  },
  {
   "cell_type": "code",
   "execution_count": 81,
   "metadata": {},
   "outputs": [
    {
     "data": {
      "text/plain": [
       "<matplotlib.axes._subplots.AxesSubplot at 0x1a3c50e710>"
      ]
     },
     "execution_count": 81,
     "metadata": {},
     "output_type": "execute_result"
    },
    {
     "data": {
      "image/png": "[encoded data removed]",
      "text/plain": [
       "<Figure size 432x288 with 1 Axes>"
      ]
     },
     "metadata": {},
     "output_type": "display_data"
    }
   ],
   "source": [
    "test['dominant_topic'].value_counts().plot.pie()"
   ]
  },
  {
   "cell_type": "code",
   "execution_count": 82,
   "metadata": {},
   "outputs": [
    {
     "data": {
      "text/plain": [
       "7     6168\n",
       "0     5544\n",
       "6     5266\n",
       "11    4495\n",
       "5     3991\n",
       "8     3962\n",
       "12    3632\n",
       "4     3530\n",
       "9     3493\n",
       "1     3180\n",
       "3     3004\n",
       "10    2452\n",
       "2     2350\n",
       "Name: dominant_topic, dtype: int64"
      ]
     },
     "execution_count": 82,
     "metadata": {},
     "output_type": "execute_result"
    }
   ],
   "source": [
    "df_document_topic['dominant_topic'].value_counts()"
   ]
  },
  {
   "cell_type": "code",
   "execution_count": 83,
   "metadata": {},
   "outputs": [
    {
     "name": "stdout",
     "output_type": "stream",
     "text": [
      "(51067, 30)\n",
      "(51067, 14)\n"
     ]
    }
   ],
   "source": [
    "print(df.shape)\n",
    "print(df_document_topic.shape)"
   ]
  },
  {
   "cell_type": "markdown",
   "metadata": {},
   "source": [
    "**Looking into 112th Congress Issue:**\n",
    "\n",
    "Find a way to pull out just where PassH is true"
   ]
  },
  {
   "cell_type": "code",
   "execution_count": null,
   "metadata": {},
   "outputs": [],
   "source": []
  },
  {
   "cell_type": "markdown",
   "metadata": {},
   "source": [
    "**Dominant topic visualizations**\n",
    "\n"
   ]
  },
  {
   "cell_type": "code",
   "execution_count": 100,
   "metadata": {},
   "outputs": [
    {
     "name": "stderr",
     "output_type": "stream",
     "text": [
      "/Users/melissamunz/anaconda3/lib/python3.7/site-packages/past/types/oldstr.py:5: DeprecationWarning: Using or importing the ABCs from 'collections' instead of from 'collections.abc' is deprecated, and in 3.8 it will stop working\n",
      "  from collections import Iterable\n"
     ]
    }
   ],
   "source": [
    "import pyLDAvis\n",
    "import pyLDAvis.sklearn\n",
    "import matplotlib.pyplot as plt\n",
    "%matplotlib inline"
   ]
  },
  {
   "cell_type": "code",
   "execution_count": 101,
   "metadata": {},
   "outputs": [
    {
     "name": "stderr",
     "output_type": "stream",
     "text": [
      "/Users/melissamunz/anaconda3/lib/python3.7/site-packages/pyLDAvis/_prepare.py:257: FutureWarning: Sorting because non-concatenation axis is not aligned. A future version\n",
      "of pandas will change to not sort by default.\n",
      "\n",
      "To accept the future behavior, pass 'sort=False'.\n",
      "\n",
      "To retain the current behavior and silence the warning, pass 'sort=True'.\n",
      "\n",
      "  return pd.concat([default_term_info] + list(topic_dfs))\n"
     ]
    },
    {
     "data": {
      "text/html": [
       "\n",
       "<link rel=\"stylesheet\" type=\"text/css\" href=\"https://cdn.rawgit.com/bmabey/pyLDAvis/files/ldavis.v1.0.0.css\">\n",
       "\n",
       "\n",
       "<div id=\"ldavis_el458261127572681767602741927\"></div>\n",
       "<script type=\"text/javascript\">\n",
       "\n",
       "var ldavis_el458261127572681767602741927_data = {\"mdsDat\": {\"x\": [-28.37015724182129, 140.52513122558594, -15.713380813598633, -34.62474060058594, 66.22930908203125, 54.002044677734375, -115.58010864257812, 156.04005432128906, 31.304780960083008, 125.52310180664062, -110.4810791015625, 58.766029357910156, -69.45768737792969], \"y\": [75.71671295166016, 125.03842163085938, -6.499067783355713, 168.4297637939453, 7.804510593414307, 90.61491394042969, 108.73042297363281, 31.69039535522461, -90.66338348388672, -64.16011047363281, 11.011039733886719, 183.6070556640625, -81.48936462402344], \"topics\": [1, 2, 3, 4, 5, 6, 7, 8, 9, 10, 11, 12, 13], \"cluster\": [1, 1, 1, 1, 1, 1, 1, 1, 1, 1, 1, 1, 1], \"Freq\": [10.49546689457841, 9.997081474300936, 9.028741576808029, 8.794859378537277, 8.688813951152678, 8.472334320549631, 7.601225952401681, 7.4934848853216804, 6.732284610659121, 6.37937644967795, 5.795031868526372, 5.4552099292181335, 5.066088708268094]}, \"tinfo\": {\"Category\": [\"Default\", \"Default\", \"Default\", \"Default\", \"Default\", \"Default\", \"Default\", \"Default\", \"Default\", \"Default\", \"Default\", \"Default\", \"Default\", \"Default\", \"Default\", \"Default\", \"Default\", \"Default\", \"Default\", \"Default\", \"Default\", \"Default\", \"Default\", \"Default\", \"Default\", \"Default\", \"Default\", \"Default\", \"Default\", \"Default\", \"Topic1\", \"Topic1\", \"Topic1\", \"Topic1\", \"Topic1\", \"Topic1\", \"Topic1\", \"Topic1\", \"Topic1\", \"Topic1\", \"Topic1\", \"Topic1\", \"Topic1\", \"Topic1\", \"Topic1\", \"Topic1\", \"Topic1\", \"Topic1\", \"Topic1\", \"Topic1\", \"Topic1\", \"Topic1\", \"Topic1\", \"Topic1\", \"Topic1\", \"Topic1\", \"Topic1\", \"Topic1\", \"Topic1\", \"Topic1\", \"Topic1\", \"Topic1\", \"Topic1\", \"Topic1\", \"Topic1\", \"Topic1\", \"Topic1\", \"Topic1\", \"Topic1\", \"Topic1\", \"Topic1\", \"Topic1\", \"Topic1\", \"Topic1\", \"Topic1\", \"Topic1\", \"Topic1\", \"Topic1\", \"Topic1\", \"Topic1\", \"Topic1\", \"Topic1\", \"Topic1\", \"Topic1\", \"Topic1\", \"Topic1\", \"Topic1\", \"Topic1\", \"Topic1\", \"Topic1\", \"Topic1\", \"Topic1\", \"Topic1\", \"Topic1\", \"Topic1\", \"Topic1\", \"Topic1\", \"Topic1\", \"Topic1\", \"Topic1\", \"Topic1\", \"Topic1\", \"Topic1\", \"Topic1\", \"Topic1\", \"Topic1\", \"Topic1\", \"Topic2\", \"Topic2\", \"Topic2\", \"Topic2\", \"Topic2\", \"Topic2\", \"Topic2\", \"Topic2\", \"Topic2\", \"Topic2\", \"Topic2\", \"Topic2\", \"Topic2\", \"Topic2\", \"Topic2\", \"Topic2\", \"Topic2\", \"Topic2\", \"Topic2\", \"Topic2\", \"Topic2\", \"Topic2\", \"Topic2\", \"Topic2\", \"Topic2\", \"Topic2\", \"Topic2\", \"Topic2\", \"Topic2\", \"Topic2\", \"Topic2\", \"Topic2\", \"Topic2\", \"Topic2\", \"Topic2\", \"Topic2\", \"Topic2\", \"Topic2\", \"Topic2\", \"Topic2\", \"Topic2\", \"Topic2\", \"Topic2\", \"Topic2\", \"Topic2\", \"Topic2\", \"Topic2\", \"Topic2\", \"Topic2\", \"Topic2\", \"Topic2\", \"Topic2\", \"Topic2\", \"Topic2\", \"Topic2\", \"Topic2\", \"Topic2\", \"Topic2\", \"Topic2\", \"Topic2\", \"Topic2\", \"Topic2\", \"Topic2\", \"Topic2\", \"Topic2\", \"Topic2\", \"Topic2\", \"Topic2\", \"Topic2\", \"Topic3\", \"Topic3\", \"Topic3\", \"Topic3\", \"Topic3\", \"Topic3\", \"Topic3\", \"Topic3\", \"Topic3\", \"Topic3\", \"Topic3\", \"Topic3\", \"Topic3\", \"Topic3\", \"Topic3\", \"Topic3\", \"Topic3\", \"Topic3\", \"Topic3\", \"Topic3\", \"Topic3\", \"Topic3\", \"Topic3\", \"Topic3\", \"Topic3\", \"Topic3\", \"Topic3\", \"Topic3\", \"Topic3\", \"Topic3\", \"Topic3\", \"Topic3\", \"Topic3\", \"Topic3\", \"Topic3\", \"Topic3\", \"Topic3\", \"Topic3\", \"Topic3\", \"Topic3\", \"Topic3\", \"Topic3\", \"Topic3\", \"Topic3\", \"Topic3\", \"Topic3\", \"Topic3\", \"Topic3\", \"Topic3\", \"Topic3\", \"Topic3\", \"Topic3\", \"Topic3\", \"Topic3\", \"Topic3\", \"Topic3\", \"Topic3\", \"Topic3\", \"Topic3\", \"Topic3\", \"Topic3\", \"Topic3\", \"Topic3\", \"Topic3\", \"Topic3\", \"Topic3\", \"Topic3\", \"Topic3\", \"Topic3\", \"Topic3\", \"Topic3\", \"Topic3\", \"Topic3\", \"Topic4\", \"Topic4\", \"Topic4\", \"Topic4\", \"Topic4\", \"Topic4\", \"Topic4\", \"Topic4\", \"Topic4\", \"Topic4\", \"Topic4\", \"Topic4\", \"Topic4\", \"Topic4\", \"Topic4\", \"Topic4\", \"Topic4\", \"Topic4\", \"Topic4\", \"Topic4\", \"Topic4\", \"Topic4\", \"Topic4\", \"Topic4\", \"Topic4\", \"Topic4\", \"Topic4\", \"Topic4\", \"Topic4\", \"Topic4\", \"Topic4\", \"Topic4\", \"Topic4\", \"Topic4\", \"Topic4\", \"Topic4\", \"Topic4\", \"Topic4\", \"Topic4\", \"Topic4\", \"Topic4\", \"Topic4\", \"Topic4\", \"Topic4\", \"Topic4\", \"Topic4\", \"Topic4\", \"Topic4\", \"Topic4\", \"Topic4\", \"Topic4\", \"Topic4\", \"Topic4\", \"Topic4\", \"Topic4\", \"Topic4\", \"Topic4\", \"Topic4\", \"Topic4\", \"Topic4\", \"Topic4\", \"Topic4\", \"Topic4\", \"Topic4\", \"Topic4\", \"Topic4\", \"Topic4\", \"Topic4\", \"Topic4\", \"Topic4\", \"Topic4\", \"Topic4\", \"Topic5\", \"Topic5\", \"Topic5\", \"Topic5\", \"Topic5\", \"Topic5\", \"Topic5\", \"Topic5\", \"Topic5\", \"Topic5\", \"Topic5\", \"Topic5\", \"Topic5\", \"Topic5\", \"Topic5\", \"Topic5\", \"Topic5\", \"Topic5\", \"Topic5\", \"Topic5\", \"Topic5\", \"Topic5\", \"Topic5\", \"Topic5\", \"Topic5\", \"Topic5\", \"Topic5\", \"Topic5\", \"Topic5\", \"Topic5\", \"Topic5\", \"Topic5\", \"Topic5\", \"Topic5\", \"Topic5\", \"Topic5\", \"Topic5\", \"Topic5\", \"Topic5\", \"Topic5\", \"Topic5\", \"Topic5\", \"Topic5\", \"Topic5\", \"Topic5\", \"Topic5\", \"Topic5\", \"Topic5\", \"Topic5\", \"Topic5\", \"Topic5\", \"Topic5\", \"Topic5\", \"Topic5\", \"Topic5\", \"Topic5\", \"Topic5\", \"Topic5\", \"Topic5\", \"Topic5\", \"Topic5\", \"Topic5\", \"Topic5\", \"Topic5\", \"Topic5\", \"Topic5\", \"Topic5\", \"Topic5\", \"Topic5\", \"Topic5\", \"Topic5\", \"Topic5\", \"Topic5\", \"Topic5\", \"Topic5\", \"Topic5\", \"Topic5\", \"Topic5\", \"Topic5\", \"Topic5\", \"Topic6\", \"Topic6\", \"Topic6\", \"Topic6\", \"Topic6\", \"Topic6\", \"Topic6\", \"Topic6\", \"Topic6\", \"Topic6\", \"Topic6\", \"Topic6\", \"Topic6\", \"Topic6\", \"Topic6\", \"Topic6\", \"Topic6\", \"Topic6\", \"Topic6\", \"Topic6\", \"Topic6\", \"Topic6\", \"Topic6\", \"Topic6\", \"Topic6\", \"Topic6\", \"Topic6\", \"Topic6\", \"Topic6\", \"Topic6\", \"Topic6\", \"Topic6\", \"Topic6\", \"Topic6\", \"Topic6\", \"Topic6\", \"Topic6\", \"Topic6\", \"Topic6\", \"Topic6\", \"Topic6\", \"Topic6\", \"Topic6\", \"Topic6\", \"Topic6\", \"Topic6\", \"Topic6\", \"Topic6\", \"Topic6\", \"Topic6\", \"Topic6\", \"Topic6\", \"Topic6\", \"Topic6\", \"Topic6\", \"Topic6\", \"Topic6\", \"Topic6\", \"Topic6\", \"Topic6\", \"Topic6\", \"Topic6\", \"Topic6\", \"Topic6\", \"Topic6\", \"Topic6\", \"Topic7\", \"Topic7\", \"Topic7\", \"Topic7\", \"Topic7\", \"Topic7\", \"Topic7\", \"Topic7\", \"Topic7\", \"Topic7\", \"Topic7\", \"Topic7\", \"Topic7\", \"Topic7\", \"Topic7\", \"Topic7\", \"Topic7\", \"Topic7\", \"Topic7\", \"Topic7\", \"Topic7\", \"Topic7\", \"Topic7\", \"Topic7\", \"Topic7\", \"Topic7\", \"Topic7\", \"Topic7\", \"Topic7\", \"Topic7\", \"Topic7\", \"Topic7\", \"Topic7\", \"Topic7\", \"Topic7\", \"Topic7\", \"Topic7\", \"Topic7\", \"Topic7\", \"Topic7\", \"Topic7\", \"Topic7\", \"Topic7\", \"Topic7\", \"Topic7\", \"Topic7\", \"Topic7\", \"Topic7\", \"Topic7\", \"Topic7\", \"Topic7\", \"Topic7\", \"Topic7\", \"Topic7\", \"Topic7\", \"Topic7\", \"Topic7\", \"Topic7\", \"Topic7\", \"Topic7\", \"Topic7\", \"Topic7\", \"Topic7\", \"Topic7\", \"Topic7\", \"Topic7\", \"Topic7\", \"Topic7\", \"Topic7\", \"Topic7\", \"Topic7\", \"Topic7\", \"Topic7\", \"Topic8\", \"Topic8\", \"Topic8\", \"Topic8\", \"Topic8\", \"Topic8\", \"Topic8\", \"Topic8\", \"Topic8\", \"Topic8\", \"Topic8\", \"Topic8\", \"Topic8\", \"Topic8\", \"Topic8\", \"Topic8\", \"Topic8\", \"Topic8\", \"Topic8\", \"Topic8\", \"Topic8\", \"Topic8\", \"Topic8\", \"Topic8\", \"Topic8\", \"Topic8\", \"Topic8\", \"Topic8\", \"Topic8\", \"Topic8\", \"Topic8\", \"Topic8\", \"Topic8\", \"Topic8\", \"Topic8\", \"Topic8\", \"Topic8\", \"Topic8\", \"Topic8\", \"Topic8\", \"Topic8\", \"Topic8\", \"Topic8\", \"Topic8\", \"Topic8\", \"Topic8\", \"Topic8\", \"Topic8\", \"Topic8\", \"Topic8\", \"Topic8\", \"Topic8\", \"Topic8\", \"Topic8\", \"Topic8\", \"Topic8\", \"Topic8\", \"Topic8\", \"Topic8\", \"Topic8\", \"Topic8\", \"Topic8\", \"Topic8\", \"Topic8\", \"Topic8\", \"Topic8\", \"Topic8\", \"Topic8\", \"Topic8\", \"Topic8\", \"Topic8\", \"Topic8\", \"Topic8\", \"Topic8\", \"Topic8\", \"Topic8\", \"Topic9\", \"Topic9\", \"Topic9\", \"Topic9\", \"Topic9\", \"Topic9\", \"Topic9\", \"Topic9\", \"Topic9\", \"Topic9\", \"Topic9\", \"Topic9\", \"Topic9\", \"Topic9\", \"Topic9\", \"Topic9\", \"Topic9\", \"Topic9\", \"Topic9\", \"Topic9\", \"Topic9\", \"Topic9\", \"Topic9\", \"Topic9\", \"Topic9\", \"Topic9\", \"Topic9\", \"Topic9\", \"Topic9\", \"Topic9\", \"Topic9\", \"Topic9\", \"Topic9\", \"Topic9\", \"Topic9\", \"Topic9\", \"Topic9\", \"Topic9\", \"Topic9\", \"Topic9\", \"Topic9\", \"Topic9\", \"Topic9\", \"Topic9\", \"Topic9\", \"Topic9\", \"Topic9\", \"Topic9\", \"Topic9\", \"Topic9\", \"Topic9\", \"Topic9\", \"Topic9\", \"Topic9\", \"Topic9\", \"Topic9\", \"Topic9\", \"Topic9\", \"Topic9\", \"Topic9\", \"Topic9\", \"Topic9\", \"Topic9\", \"Topic9\", \"Topic9\", \"Topic9\", \"Topic9\", \"Topic9\", \"Topic9\", \"Topic9\", \"Topic9\", \"Topic9\", \"Topic9\", \"Topic9\", \"Topic9\", \"Topic10\", \"Topic10\", \"Topic10\", \"Topic10\", \"Topic10\", \"Topic10\", \"Topic10\", \"Topic10\", \"Topic10\", \"Topic10\", \"Topic10\", \"Topic10\", \"Topic10\", \"Topic10\", \"Topic10\", \"Topic10\", \"Topic10\", \"Topic10\", \"Topic10\", \"Topic10\", \"Topic10\", \"Topic10\", \"Topic10\", \"Topic10\", \"Topic10\", \"Topic10\", \"Topic10\", \"Topic10\", \"Topic10\", \"Topic10\", \"Topic10\", \"Topic10\", \"Topic10\", \"Topic10\", \"Topic10\", \"Topic10\", \"Topic10\", \"Topic10\", \"Topic10\", \"Topic10\", \"Topic10\", \"Topic10\", \"Topic10\", \"Topic10\", \"Topic10\", \"Topic10\", \"Topic10\", \"Topic10\", \"Topic10\", \"Topic10\", \"Topic10\", \"Topic10\", \"Topic10\", \"Topic10\", \"Topic10\", \"Topic10\", \"Topic10\", \"Topic10\", \"Topic10\", \"Topic10\", \"Topic10\", \"Topic10\", \"Topic10\", \"Topic10\", \"Topic10\", \"Topic11\", \"Topic11\", \"Topic11\", \"Topic11\", \"Topic11\", \"Topic11\", \"Topic11\", \"Topic11\", \"Topic11\", \"Topic11\", \"Topic11\", \"Topic11\", \"Topic11\", \"Topic11\", \"Topic11\", \"Topic11\", \"Topic11\", \"Topic11\", \"Topic11\", \"Topic11\", \"Topic11\", \"Topic11\", \"Topic11\", \"Topic11\", \"Topic11\", \"Topic11\", \"Topic11\", \"Topic11\", \"Topic11\", \"Topic11\", \"Topic11\", \"Topic11\", \"Topic11\", \"Topic11\", \"Topic11\", \"Topic11\", \"Topic11\", \"Topic11\", \"Topic11\", \"Topic11\", \"Topic11\", \"Topic11\", \"Topic11\", \"Topic11\", \"Topic11\", \"Topic11\", \"Topic11\", \"Topic11\", \"Topic11\", \"Topic11\", \"Topic11\", \"Topic11\", \"Topic11\", \"Topic11\", \"Topic12\", \"Topic12\", \"Topic12\", \"Topic12\", \"Topic12\", \"Topic12\", \"Topic12\", \"Topic12\", \"Topic12\", \"Topic12\", \"Topic12\", \"Topic12\", \"Topic12\", \"Topic12\", \"Topic12\", \"Topic12\", \"Topic12\", \"Topic12\", \"Topic12\", \"Topic12\", \"Topic12\", \"Topic12\", \"Topic12\", \"Topic12\", \"Topic12\", \"Topic12\", \"Topic12\", \"Topic12\", \"Topic12\", \"Topic12\", \"Topic12\", \"Topic12\", \"Topic12\", \"Topic12\", \"Topic12\", \"Topic12\", \"Topic12\", \"Topic12\", \"Topic12\", \"Topic12\", \"Topic12\", \"Topic12\", \"Topic12\", \"Topic12\", \"Topic12\", \"Topic12\", \"Topic12\", \"Topic12\", \"Topic12\", \"Topic12\", \"Topic12\", \"Topic12\", \"Topic12\", \"Topic12\", \"Topic12\", \"Topic12\", \"Topic12\", \"Topic12\", \"Topic12\", \"Topic12\", \"Topic12\", \"Topic12\", \"Topic12\", \"Topic12\", \"Topic12\", \"Topic12\", \"Topic12\", \"Topic13\", \"Topic13\", \"Topic13\", \"Topic13\", \"Topic13\", \"Topic13\", \"Topic13\", \"Topic13\", \"Topic13\", \"Topic13\", \"Topic13\", \"Topic13\", \"Topic13\", \"Topic13\", \"Topic13\", \"Topic13\", \"Topic13\", \"Topic13\", \"Topic13\", \"Topic13\", \"Topic13\", \"Topic13\", \"Topic13\", \"Topic13\", \"Topic13\", \"Topic13\", \"Topic13\", \"Topic13\", \"Topic13\", \"Topic13\", \"Topic13\", \"Topic13\", \"Topic13\", \"Topic13\", \"Topic13\", \"Topic13\", \"Topic13\", \"Topic13\", \"Topic13\", \"Topic13\", \"Topic13\", \"Topic13\", \"Topic13\", \"Topic13\", \"Topic13\", \"Topic13\", \"Topic13\", \"Topic13\", \"Topic13\", \"Topic13\", \"Topic13\", \"Topic13\", \"Topic13\", \"Topic13\", \"Topic13\", \"Topic13\", \"Topic13\", \"Topic13\", \"Topic13\", \"Topic13\", \"Topic13\", \"Topic13\", \"Topic13\", \"Topic13\", \"Topic13\", \"Topic13\", \"Topic13\", \"Topic13\", \"Topic13\", \"Topic13\", \"Topic13\", \"Topic13\", \"Topic13\", \"Topic13\", \"Topic13\", \"Topic13\"], \"Freq\": [15425.0, 9077.0, 9809.0, 9718.0, 9399.0, 12139.0, 18663.0, 6132.0, 14559.0, 8269.0, 6691.0, 7732.0, 4641.0, 6742.0, 5158.0, 4543.0, 5069.0, 4269.0, 4302.0, 4130.0, 3988.0, 10881.0, 5591.0, 4983.0, 17678.0, 3799.0, 7123.0, 5457.0, 3500.0, 3989.0, 1575.563800918917, 1133.256089229698, 957.549571516158, 598.1228788071728, 365.49209777564266, 1261.224530547943, 301.59585785541265, 791.0421637172775, 234.70255625856726, 198.7598793705337, 145.8442865117271, 139.85384545104046, 128.8713638256786, 127.872956444327, 450.90293409162865, 120.88410517417947, 250.65520555576887, 105.90799130872152, 118.75871340447443, 95.92391742215392, 1251.8659172897462, 87.93665704336969, 85.93797837559207, 85.93739407750182, 78.95098879250631, 77.95257977726992, 491.9083503232431, 70.95572761723714, 68.96319512182129, 67.96850393433108, 1997.8890822625788, 1286.0757333373097, 238.9695368372641, 190.3665287532335, 276.51416540132095, 443.97040255947667, 241.69212166081516, 208.1471054200192, 1777.2484531091072, 928.0363248298854, 2025.6772417441316, 460.95484506410304, 1045.3111546741736, 502.417757314154, 262.7043604372476, 344.6461665528846, 616.7867420708928, 505.95423199682944, 863.9157522309644, 800.4408462769028, 489.2319023463591, 3345.016867824744, 2189.5353505663143, 1507.9929819858964, 412.50251918286773, 1111.3284331309853, 915.2137961490157, 492.1877373734974, 1081.693992707105, 1551.9196455584618, 987.3118158672597, 2239.858272036734, 2864.957022513137, 855.3029989449982, 1095.7035248138004, 1359.301554462785, 793.9997709049602, 1370.2860743970525, 1207.402825720764, 1353.651085132025, 1822.829527873762, 1500.2544490759904, 1410.4617133772606, 1088.316419612214, 1034.1774120514256, 1002.4541863851881, 983.2784221218975, 9808.9574686119, 9717.202184546619, 9398.52750148887, 1780.9078421159716, 639.3994954289308, 544.6747618693349, 509.16690900253235, 375.9744925746126, 339.46990363414153, 204.30426428773274, 197.39799234404614, 128.33525630479488, 119.45576139855986, 104.65660581066054, 100.71016376432635, 439.8305032013335, 106.52860420527847, 94.79049604140609, 89.85744798841472, 79.00473263520911, 76.044900278917, 74.07167945153165, 70.1252369040556, 67.16540659441843, 65.19218495170422, 63.21896503013931, 58.285912136251476, 57.29929594067775, 54.33946981256961, 184.35842659972377, 861.686976977074, 571.2029952135874, 1788.883120821573, 1213.5151314477791, 324.7035364635214, 3765.7310621907795, 231.01113915144745, 6062.030012197549, 806.9232269843088, 176.06773357086075, 1517.576644192479, 510.92415898905034, 9412.573899887291, 537.919625414207, 313.7878491706608, 2521.743761018495, 3387.6687274926053, 1592.2025140617725, 1047.5391509551516, 1318.0648117675287, 733.4346638173272, 990.8523615488107, 967.1814521946319, 1912.8512829089527, 904.0471273798562, 1218.1651497498615, 1082.5368932758483, 1599.5957832430795, 1560.0755777252473, 851.8038866850575, 1659.3841846589903, 1528.559310753117, 1507.0380113408494, 1847.142584832803, 994.8418136930799, 939.5177596679904, 965.1694410095039, 964.0758295058685, 1001.451984551483, 2798.4130207401063, 245.50367236775847, 241.51299142644908, 240.51532070527608, 239.5176506453279, 232.53395725601882, 221.55958159729397, 204.59918298521353, 191.62946798320175, 166.68770548392573, 157.68753401380388, 147.73196720570692, 133.76458206647342, 138.60213525101472, 120.70556996847613, 105.82980613174257, 103.83446929569797, 100.84145674280535, 94.85543523277971, 90.86475218394371, 89.86706858722253, 88.86941301367102, 87.87173402640455, 283.3301619576809, 83.88106069953939, 81.88571714640798, 77.89498880064068, 74.90200511834753, 74.89472797731129, 73.90435430971263, 1640.9015930216137, 698.4168026783811, 702.4180428232061, 679.8177313364457, 770.2122334650874, 1859.9379060850563, 371.0608078510689, 290.8337817254496, 337.8838202645101, 4461.983370160562, 4646.319396018391, 394.6195991857412, 768.7753951415003, 1979.5853971470544, 514.3414112522112, 357.1459814233076, 8380.886342725247, 2472.5739645811013, 628.0832671883962, 870.925934042216, 1661.0625349946927, 691.42480850528, 2958.24478716604, 1063.766698383859, 838.7558196994831, 1313.3744602069519, 1118.9206897599734, 1061.7050601517594, 2763.375911630069, 1114.7058502525542, 1100.2568639156327, 1063.543003736269, 1095.500278577122, 1805.9357330607756, 1157.4315232723745, 1296.6576663337112, 1756.3823554325886, 1478.8721696279474, 1728.3821474662755, 1117.420368350706, 902.7824581766928, 851.8626251097068, 868.2227126955348, 473.71063989071644, 424.47624316591583, 218.67646340298424, 204.89083429202566, 199.96739245556932, 182.24286350238398, 162.52029190967934, 136.94736561192013, 232.75784152798, 121.19235872846677, 113.31475880848356, 112.33016835189851, 178.74789881947584, 107.40672554275365, 103.46581091871954, 100.51391331821932, 98.5445289920116, 97.54633726715336, 86.72828285142846, 82.78953061884606, 79.8354660124834, 76.88129837667994, 72.94261716841464, 151.42851870679706, 60.1405679118543, 59.15702100410422, 58.17233194985756, 57.18763906570866, 55.218269069421154, 122.8317931514191, 1400.080945188135, 259.01934162410925, 443.4117218865288, 190.0021499210518, 13218.560880394863, 1589.6098670245046, 533.3670706052457, 170.66833477128816, 963.8883993151999, 830.582185360874, 2580.7713326906733, 974.4402711544608, 500.44013007556435, 700.3305702664243, 328.1934798745536, 985.2835325224258, 1596.8898543035907, 3845.1584169430084, 1559.8826495282003, 3538.8264065075277, 6261.58866813978, 329.17448170081394, 1887.0108037544856, 649.5357679346411, 1602.2876809432364, 561.194004855511, 1685.0200286920003, 1635.7173256746103, 970.9303350955604, 1351.8448071106823, 1783.1507431247655, 760.974456619548, 1729.7925917722018, 2631.579894400977, 1072.6688793404408, 1097.9797453420638, 809.2910916668978, 800.6244011125323, 715.709944825841, 916.8011563659045, 746.7086225137659, 733.7586683750815, 1782.2707106991195, 232.31878417184205, 215.3010671394804, 202.28695938566585, 194.2791831732742, 255.0046171721608, 180.26453437138633, 175.2593819484166, 173.25729366742092, 171.25521128277578, 458.9959598245177, 166.25000031892765, 145.22811597374192, 131.2135257245693, 128.2103942749334, 112.19372503063882, 105.1864254757874, 105.1864126074361, 104.18538728599724, 95.17600638594838, 91.17183749105168, 90.17079758007505, 88.16871034289566, 85.16558721793896, 88.13104054009543, 84.16454051282435, 83.1635032858746, 83.14538993023235, 81.9883948297444, 63.14265980087804, 417.5640149814638, 261.95940725379404, 1337.452511052536, 547.3179632646662, 947.4619031596444, 559.0206062917222, 288.5714138511174, 1360.3361260224344, 138.34101215224914, 285.63285512016506, 346.2126456205288, 691.8061071962242, 296.2767875496644, 301.84835455696964, 371.30375998138993, 1235.432804172335, 467.3178543028063, 753.8084326277308, 2078.5947833707796, 1490.9290386499063, 1171.4667366215301, 522.8987763431618, 352.932723734607, 366.71753442353054, 1962.1610470054952, 1249.3582985913638, 1645.85062546451, 442.77717367100917, 454.3030209094086, 2219.601334596962, 1293.378351721662, 1308.725788591414, 1607.0306268296965, 965.0810200777427, 738.6166608553596, 783.8711338784656, 733.6111270973755, 967.3371425016187, 991.8369025687251, 2467.822036006119, 1531.762572320121, 2121.633573169031, 1151.6691154317846, 1702.4406946342115, 1023.3753913942651, 708.5080970640475, 905.027682962254, 977.7847371939413, 1045.2814577813738, 901.8320217217296, 3988.7518463136375, 1395.1091143748718, 1442.1992538187606, 742.9103415416229, 700.6032023598286, 659.2797252970274, 519.568000872772, 547.8909636252573, 445.77387672486077, 386.7432587054284, 355.25887656772954, 698.3043220942279, 268.67682327822286, 251.95074630121192, 283.2496800232189, 222.43413718811072, 181.1108844151412, 864.4083254722922, 196.75677147910875, 161.43314557692028, 1564.0467321822778, 5126.2379192686185, 139.7876310303466, 136.8359683166902, 129.9487616888431, 127.98098856951799, 128.95258471033205, 126.99710015167734, 119.12600468768316, 116.17434046000886, 2407.99679430515, 1349.7571826076082, 744.2512768867812, 449.0099943800507, 368.77366112723547, 356.37771770832, 507.3408281477251, 476.1992012670038, 560.3837592127994, 378.5888080624995, 433.12590549664503, 398.4657210283901, 850.3508439786415, 827.662235835273, 350.98210018841326, 2837.4786656038195, 1466.8415749074156, 1438.0050516662857, 5577.599949316162, 1992.640644614548, 546.198699360384, 958.166762344192, 1165.714167256263, 1467.0820439067236, 1879.0595097785197, 1026.6439077653447, 1248.2056310797173, 1772.77305957194, 1145.5979235550672, 1269.7001654250998, 1107.763348907832, 1223.841515201683, 911.7146218000237, 995.0990013125776, 956.9599305840344, 960.6299171057415, 2239.0762595722567, 1201.5689189361162, 601.8196744868125, 582.0295985727711, 364.67931048385555, 396.0854017280469, 246.10913063042642, 244.13296151228886, 243.10265440341723, 223.38317939625486, 208.56190634090606, 173.97893406986398, 187.6904601279359, 170.96808438841413, 150.26490087264207, 173.8010016067886, 139.39596601294872, 137.41979403532633, 124.5746952824726, 109.75342225238535, 110.72804832471355, 93.94406497758095, 92.95597878519712, 87.98415031318174, 83.07513230756916, 76.15853699842576, 71.21811445718622, 66.27768392589961, 63.313432905850185, 62.32535143162731, 2723.120172790017, 550.7599751508907, 257.0081495206018, 113.91081554866295, 104.9331711930578, 4504.748426999386, 879.2250820165699, 2950.418982132439, 253.65498005375545, 213.79473237015495, 218.38741159160352, 1757.7763873775139, 187.16728962125666, 191.66699594231608, 769.4339803280942, 1959.6801477674965, 298.0335016044837, 462.5280522860908, 2074.7397814790934, 597.456357746812, 926.0806639802561, 2599.5127522702446, 1094.5269062274583, 622.208615427972, 646.7284336106125, 450.1335473082094, 849.00882629601, 1536.3815127918822, 1107.6054450047552, 1552.9760319789884, 699.9021609024371, 2786.2391495505717, 1787.9292486552786, 1830.1263279880786, 1025.9261520485957, 1023.4941075753163, 1123.9904181367897, 1112.6585108930497, 1141.4495398971255, 899.6499200914662, 878.2770094545738, 841.4299871931031, 771.2876204842865, 514.8747127876104, 363.6078524667599, 258.5618485698396, 470.6282552354878, 206.8651128604744, 176.4552377118926, 315.6058365978872, 281.20590747003143, 168.3134779688317, 161.2503019558038, 268.04076298805927, 151.11367734387517, 116.64915491008126, 112.59412760461068, 109.55351409138758, 107.52619161720513, 607.8552560759259, 85.225619335131, 82.18463209083787, 77.11631657446905, 246.1663885269888, 63.93870763175909, 58.870393781004225, 56.84307065850781, 56.84306861034264, 55.80692937821996, 51.774756820248165, 50.761095264364926, 47.72010896000694, 46.70644475324675, 2814.121785933925, 998.4460954175289, 400.4850386565725, 920.2935744196855, 116.23403640101316, 163.80195768039138, 1939.3607524787296, 803.1097274262507, 176.2729733705109, 310.0667369008067, 162.28221850976385, 139.66503053870463, 505.71999419476515, 658.2610254254164, 222.19005683315456, 166.74151204551956, 855.3411824767899, 257.1034899982161, 431.69223215506094, 1129.7875307635593, 307.99225722186185, 1123.1366871591442, 1697.9278237898939, 1673.0973350418137, 726.6377982550557, 1018.3308430016843, 368.5047226984246, 1335.396057748628, 471.5253073568221, 2454.095010701611, 776.4931377418166, 564.131581182917, 1238.5099977356501, 1707.787562563662, 1330.283825546244, 753.1770635113966, 1177.6791159504712, 1496.6230784479785, 923.0226905570125, 1034.5893874932303, 905.8960937322804, 1074.5944311785859, 677.6872250664164, 911.2797306632036, 735.0010862336925, 661.6776903496153, 492.2186464801539, 426.12163945651866, 396.6376512309327, 867.3691113628746, 350.4630278019726, 119.0460409539464, 104.81058066670323, 93.6255664043169, 86.50783625181295, 85.45952516492476, 80.40692150713846, 77.35646484654447, 76.3346540493105, 73.28918898421999, 63.120997759321874, 63.120996562378934, 59.02559061320491, 224.00239846229155, 52.95280735496597, 51.9359851601178, 54.91297910247639, 49.90234905466871, 47.868695180750834, 46.85189077412724, 151.53332330430587, 45.83507277757414, 43.80143613587696, 41.76779483008776, 41.76779422702564, 37.70052053329543, 593.0263439720255, 1747.7498440630814, 280.23009325347994, 5928.2668446795615, 102.234113084498, 384.77746880831955, 1168.0104385381692, 2248.857089245929, 205.64595586561327, 438.66902178300904, 1730.8385500043007, 139.64768888805656, 339.2359911169356, 116.63342937035692, 1433.9879788091546, 1766.6431209824552, 561.9196430788912, 1001.346806556907, 193.73213989617963, 609.8540047093067, 661.9759282955301, 515.993699698328, 719.1601437492575, 809.0194913748285, 706.7496010550478, 1270.5197190384984, 313.2253558871912, 899.851075844366, 509.911539543492, 1397.1077559787575, 663.88337318674, 703.4707248336191, 739.997107238515, 659.4207313538769, 492.8331911492852, 1075.6748824160989, 936.326924253447, 636.1421829336327, 1031.3402502813854, 821.0321732558385, 922.9096069947154, 660.8829737899572, 768.9725902083355, 726.7657948016719, 677.7190854110468, 4542.988896624782, 2418.678253783657, 448.8893686323508, 365.11101196875325, 276.34584344414986, 163.6439963546081, 855.6622717424844, 147.68621363205114, 6092.770070257357, 131.72842837864985, 128.73634558189596, 116.76800976233308, 107.79175545338913, 104.79967255144841, 103.8023108245633, 1499.3150950897127, 1076.2288717335475, 124.24839443646802, 80.86299563980216, 65.90257514861975, 91.47422907427783, 61.91312710590753, 54.931599811427006, 51.93951469151314, 49.9447922832859, 47.950069089004465, 47.95006107302978, 46.95270488963833, 45.955346353616456, 45.95534612527804, 495.2480953081166, 47.90749110853542, 95.53127014967247, 3228.5900105890814, 1355.3014179338852, 102.96363769192301, 735.816866078463, 645.3148973164922, 7650.556100448143, 3503.7619883428792, 739.9818704725427, 156.8241090112349, 334.60004141953203, 4656.325364165853, 263.09714350254467, 1750.5308335577538, 671.0849311132697, 401.7964267713025, 1495.0227831209102, 1436.9999623770073, 416.30144937319375, 393.2424035563894, 283.9399485428571, 634.8410682054791, 723.392236656061, 2777.810442371198, 783.752288993359, 878.4322502280928, 1846.0129248743488, 1022.4953929061038, 821.2777411584694, 598.4251848099274, 669.6790370751579, 604.5088460894674, 532.0229621846088, 4640.260404180127, 4129.11953168378, 3987.9472925356117, 3799.0685708988126, 3209.065962887734, 3498.991053795632, 2634.6409831011424, 2624.9049666815185, 2521.52799294542, 687.4277284627393, 371.0171232167364, 328.17865098468474, 246.39611180420994, 226.92407922754597, 215.2408575828257, 187.00641120093675, 178.24398457820539, 167.53437772910436, 160.71916450836696, 151.95675096727422, 135.40552124559696, 118.85429494576884, 117.8806931592679, 116.90709165112418, 114.95988760319943, 107.171075066354, 106.174422503331, 99.38226175524309, 93.54065172006747, 89.64624516983746, 4236.4594895665205, 225.1651417030396, 4619.319496692427, 3107.894339819729, 8051.428202550181, 229.5409664675328, 1048.6648043938005, 734.1809164210908, 415.83749281062495, 859.9649561736414, 3978.093277657082, 845.5309372264718, 1059.6803937991356, 857.2600385154249, 744.1166353791019, 1103.9777662433928, 2350.514598659017, 1018.7737334357457, 393.20372439747604, 495.7978427463636, 826.6479651658516, 836.8235638088458, 715.1017672974921, 899.5711524344766, 4268.001815947322, 1672.0207977932562, 616.8519238901312, 546.3061272236656, 336.6833420289152, 2038.4811620393675, 779.3523042785109, 182.48965748546124, 160.3180176552366, 141.16978112375222, 124.03715005328148, 117.99033913654293, 113.95913200785796, 2869.996500149243, 103.88111356604105, 101.86551025056863, 147.68032899472865, 91.78748954668748, 84.73287795151326, 83.72507556640073, 79.69386862359231, 65.57364538964215, 61.55343538552742, 59.537741386185296, 58.53003049754981, 56.51442695860304, 55.50662291125676, 53.49047837108734, 51.47503089878707, 172.896941571495, 740.4269690195101, 317.1513080374152, 163.44569545004737, 426.8761823879318, 219.66909971950574, 66.17159207015114, 192.24466992816627, 146.11394348968918, 2101.614215716646, 4767.062173992891, 413.1735373397925, 490.05181546288975, 318.1475095863195, 1938.4024668128043, 1242.4928791166005, 382.1163038536728, 176.96109327351263, 191.03304514925443, 1038.9832842322523, 628.003610165731, 939.0502521948127, 1075.9802845425013, 366.7043880340344, 400.19353975031385, 557.2931782785968, 1301.6483422307315, 1930.517204247102, 949.3205631802527, 810.3967679335955, 661.3931401117152, 802.5296389145846, 597.9989907641647, 645.3536522573654, 537.9011520903201, 550.2400702269671, 476.4799095769152, 457.03884785945536, 509.32369881344783, 182.05354574945855, 165.33587081830365, 154.51526136197145, 108.28175192983768, 78.77100073972534, 72.86883519636991, 66.96670294475805, 48.27656086682588, 44.341794015616394, 44.34179300402327, 40.407027525190664, 39.423335132804674, 39.42333422723642, 39.42333334180649, 37.45594856159985, 35.48856416109457, 35.48856404892151, 33.52118302309766, 29.586418470287406, 29.5864159682897, 27.61903442095739, 27.61902555935699, 52.358431720514886, 26.635343521535646, 26.635341959087363, 26.635341351457782, 24.66796067526743, 24.667947986708956, 23.68426603691155, 62.76523478608912, 148.64825496490337, 201.2684068044848, 1739.489009080033, 1261.8171595858307, 609.0622344336509, 73.44514797584102, 3050.489304349942, 1339.0115474674378, 422.303973359571, 272.7339204295428, 232.74480609336337, 125.14433176276262, 441.6551454941382, 435.4104698801511, 2096.3472598738604, 259.08644105327994, 3022.951543265522, 2692.8274493545746, 2187.793480995723, 3155.7404145546893, 218.6037598120193, 174.0865622450457, 1486.0699364570019, 350.8961384661734, 393.6930568539837, 962.5852487273216, 337.62062989315825, 2916.0076620594305, 752.143898866238, 450.9231106887105, 601.2589103192499, 1740.4948885211302, 1588.671155199309, 1236.7928127657506, 475.65586618874215, 782.8974198338714, 642.7386268623152, 729.4009474698306, 809.9630793825194, 925.3087002442292, 716.4512106403445, 735.2468824993703, 608.2695979472879, 521.6155960673528, 474.76875977535104], \"Term\": [\"health\", \"duty\", \"revenue\", \"tax\", \"internal\", \"security\", \"program\", \"social\", \"code\", \"education\", \"energy\", \"care\", \"temporarily\", \"credit\", \"land\", \"medicare\", \"measure\", \"school\", \"schedule\", \"suspend\", \"tariff\", \"title\", \"veteran\", \"member\", \"service\", \"harmonized\", \"extend\", \"business\", \"summary\", \"water\", \"immigration\", \"border\", \"nationality\", \"visa\", \"dhs\", \"firearm\", \"relations\", \"intelligence\", \"nonimmigrant\", \"band\", \"migratory\", \"bargaining\", \"fbi\", \"passport\", \"trafficking\", \"fisa\", \"gun\", \"naturalization\", \"supreme\", \"hb\", \"alien\", \"cbp\", \"unlawfully\", \"customs\", \"smuggling\", \"classified\", \"shelf\", \"misdemeanor\", \"plaintiff\", \"ocs\", \"criminal\", \"court\", \"petition\", \"felony\", \"tobacco\", \"immigrant\", \"indians\", \"dh\", \"homeland\", \"violation\", \"enforcement\", \"sex\", \"tribe\", \"continental\", \"prosecution\", \"illegal\", \"investigation\", \"terrorism\", \"attorney\", \"victim\", \"outer\", \"law\", \"person\", \"right\", \"prison\", \"indian\", \"penalty\", \"terrorist\", \"labor\", \"foreign\", \"civil\", \"prohibit\", \"security\", \"officer\", \"action\", \"information\", \"crime\", \"employee\", \"government\", \"protection\", \"require\", \"code\", \"certain\", \"use\", \"individual\", \"authorize\", \"national\", \"revenue\", \"tax\", \"internal\", \"deduction\", \"taxable\", \"taxexempt\", \"excise\", \"depreciation\", \"refundable\", \"dividend\", \"ira\", \"employerprovide\", \"deduct\", \"amt\", \"depreciable\", \"charitable\", \"roof\", \"decedent\", \"taxfree\", \"expensing\", \"spirit\", \"businessrelate\", \"marginal\", \"itemize\", \"nonbusiness\", \"diallo\", \"carryback\", \"farmland\", \"roth\", \"firsttime\", \"bond\", \"estate\", \"taxpayer\", \"gross\", \"inflation\", \"income\", \"irs\", \"credit\", \"taxis\", \"homebuyer\", \"expense\", \"gain\", \"code\", \"exclusion\", \"candidate\", \"property\", \"allow\", \"qualified\", \"contribution\", \"account\", \"saving\", \"employer\", \"corporation\", \"increase\", \"retirement\", \"relief\", \"investment\", \"business\", \"employee\", \"permanent\", \"extend\", \"year\", \"individual\", \"certain\", \"rate\", \"repeal\", \"pay\", \"plan\", \"use\", \"housing\", \"mac\", \"mae\", \"fannie\", \"freddie\", \"hud\", \"troubled\", \"autism\", \"hawaiian\", \"tarp\", \"delinquency\", \"pell\", \"aeronautics\", \"apprenticeship\", \"vocational\", \"credential\", \"fha\", \"multifamily\", \"eesa\", \"nasa\", \"africa\", \"gse\", \"appalachian\", \"spectrum\", \"mathematics\", \"fellowship\", \"mortgagor\", \"servicer\", \"reintegration\", \"homelessness\", \"mortgage\", \"urban\", \"nonprofit\", \"youth\", \"workforce\", \"training\", \"engineering\", \"stabilization\", \"scholarship\", \"assistance\", \"grant\", \"homeless\", \"science\", \"community\", \"college\", \"enterprise\", \"program\", \"development\", \"native\", \"assist\", \"loan\", \"pilot\", \"education\", \"institution\", \"job\", \"support\", \"technology\", \"educational\", \"establish\", \"organization\", \"award\", \"eligible\", \"high\", \"authorize\", \"local\", \"fund\", \"national\", \"direct\", \"service\", \"public\", \"emergency\", \"economic\", \"financial\", \"abortion\", \"voter\", \"brain\", \"ppaca\", \"traumatic\", \"pregnancy\", \"medication\", \"hivaid\", \"nih\", \"absentee\", \"opioid\", \"contraception\", \"diagnosis\", \"obesity\", \"stress\", \"syndrome\", \"alzheimer\", \"infection\", \"contraceptive\", \"unborn\", \"infectious\", \"intensify\", \"posttraumatic\", \"pain\", \"tissue\", \"arthritis\", \"surgery\", \"abduction\", \"ultrasound\", \"debtor\", \"disease\", \"institutes\", \"disorder\", \"behavioral\", \"health\", \"patient\", \"registration\", \"cdc\", \"hhs\", \"prescription\", \"human\", \"mental\", \"vote\", \"cancer\", \"voting\", \"affordable\", \"coverage\", \"care\", \"treatment\", \"public\", \"service\", \"awareness\", \"insurance\", \"group\", \"drug\", \"abuse\", \"information\", \"plan\", \"prevention\", \"research\", \"protection\", \"election\", \"individual\", \"require\", \"include\", \"establish\", \"medical\", \"access\", \"center\", \"national\", \"safety\", \"provision\", \"budget\", \"balanced\", \"mariana\", \"fema\", \"omb\", \"nations\", \"capitol\", \"oceanic\", \"arctic\", \"guam\", \"inspector\", \"samoa\", \"earmark\", \"haiti\", \"prostate\", \"noaa\", \"gao\", \"catastrophe\", \"magnusonstevens\", \"earthquake\", \"egypt\", \"cbo\", \"sudan\", \"grammrudmanholling\", \"horizon\", \"chafee\", \"redistricte\", \"vice\", \"un\", \"redistricting\", \"fishery\", \"conference\", \"committee\", \"vessel\", \"columbia\", \"deficit\", \"t\", \"disaster\", \"wildfire\", \"comptroller\", \"legislative\", \"flood\", \"rico\", \"hurricane\", \"islands\", \"congressional\", \"resolution\", \"executive\", \"congress\", \"president\", \"district\", \"recommendation\", \"appoint\", \"branch\", \"office\", \"fiscal\", \"report\", \"advisory\", \"council\", \"agency\", \"emergency\", \"management\", \"government\", \"trade\", \"submit\", \"review\", \"accountability\", \"appropriation\", \"general\", \"require\", \"year\", \"national\", \"research\", \"establish\", \"commission\", \"house\", \"fund\", \"direct\", \"program\", \"include\", \"water\", \"forest\", \"river\", \"heritage\", \"wildlife\", \"specie\", \"reclamation\", \"lake\", \"fish\", \"recreation\", \"basin\", \"boundary\", \"habitat\", \"blm\", \"mining\", \"refuge\", \"watershed\", \"wilderness\", \"dam\", \"wastewater\", \"park\", \"land\", \"santa\", \"poultry\", \"chesapeake\", \"groundwater\", \"hunting\", \"lakes\", \"species\", \"municipality\", \"interior\", \"county\", \"pollution\", \"wild\", \"recreational\", \"valley\", \"historic\", \"colorado\", \"convey\", \"engineer\", \"historical\", \"conveyance\", \"site\", \"california\", \"nevada\", \"area\", \"environmental\", \"conservation\", \"national\", \"project\", \"mexico\", \"agriculture\", \"study\", \"management\", \"system\", \"resource\", \"control\", \"authorize\", \"designate\", \"direct\", \"protection\", \"certain\", \"new\", \"use\", \"public\", \"establish\", \"armed\", \"war\", \"coin\", \"honor\", \"retire\", \"servicemember\", \"vietnam\", \"mint\", \"naval\", \"commemorative\", \"serviceconnecte\", \"battlefield\", \"deceased\", \"guantanamo\", \"retired\", \"dog\", \"centennial\", \"merchant\", \"anniversary\", \"valor\", \"soldier\", \"forces\", \"korean\", \"hall\", \"fer\", \"philippines\", \"filipino\", \"peoples\", \"furlough\", \"nonregular\", \"military\", \"iraq\", \"die\", \"claimant\", \"shutdown\", \"member\", \"active\", \"force\", \"survive\", \"navy\", \"contingency\", \"compensation\", \"flag\", \"wound\", \"dod\", \"defense\", \"uniformed\", \"world\", \"pay\", \"spouse\", \"reserve\", \"veteran\", \"disability\", \"guard\", \"debt\", \"memorial\", \"day\", \"benefit\", \"period\", \"employee\", \"serve\", \"service\", \"title\", \"code\", \"individual\", \"duty\", \"certain\", \"national\", \"require\", \"year\", \"department\", \"direct\", \"authorize\", \"carrier\", \"rail\", \"fcc\", \"aviation\", \"federalaid\", \"radio\", \"dot\", \"broadband\", \"faa\", \"wireless\", \"depository\", \"broadcast\", \"ticket\", \"gambling\", \"toll\", \"airline\", \"passenger\", \"subscriber\", \"signal\", \"car\", \"driver\", \"baggage\", \"ozone\", \"davisbacon\", \"ffel\", \"nhtsa\", \"sarbanesoxley\", \"ambient\", \"recorder\", \"nonattainment\", \"transportation\", \"highway\", \"communications\", \"motor\", \"broadcasting\", \"telecommunications\", \"vehicle\", \"bank\", \"freight\", \"flight\", \"truck\", \"pound\", \"aircraft\", \"internet\", \"transit\", \"copyright\", \"communication\", \"television\", \"airport\", \"air\", \"mobile\", \"regulation\", \"loan\", \"safety\", \"commercial\", \"rule\", \"deposit\", \"requirement\", \"travel\", \"require\", \"institution\", \"company\", \"prohibit\", \"certain\", \"use\", \"standard\", \"direct\", \"service\", \"fund\", \"public\", \"system\", \"title\", \"administration\", \"code\", \"information\", \"financial\", \"iran\", \"petroleum\", \"crop\", \"nuclear\", \"assault\", \"realignment\", \"cftc\", \"wolf\", \"speculation\", \"cfpb\", \"iranian\", \"hemisphere\", \"irans\", \"futures\", \"ukraine\", \"tickborne\", \"manipulation\", \"swap\", \"nonproliferation\", \"ape\", \"reactor\", \"sanctions\", \"arlington\", \"nato\", \"doddfrank\", \"proliferation\", \"lng\", \"udall\", \"gettysburg\", \"asiapacific\", \"commodity\", \"gas\", \"trading\", \"energy\", \"hate\", \"sanction\", \"renewable\", \"consumer\", \"gasoline\", \"securities\", \"fuel\", \"orientation\", \"utility\", \"atomic\", \"oil\", \"product\", \"sexual\", \"production\", \"biofuel\", \"price\", \"power\", \"transaction\", \"efficiency\", \"natural\", \"domestic\", \"policy\", \"producer\", \"exchange\", \"produce\", \"commission\", \"market\", \"international\", \"country\", \"clean\", \"agricultural\", \"security\", \"use\", \"promote\", \"require\", \"protection\", \"establish\", \"financial\", \"direct\", \"include\", \"credit\", \"medicare\", \"xviii\", \"trail\", \"sba\", \"oasdi\", \"supplementary\", \"xix\", \"xi\", \"social\", \"trails\", \"therapist\", \"ssi\", \"colorectal\", \"hubzone\", \"xvi\", \"medicaid\", \"amends\", \"hospice\", \"widower\", \"oldage\", \"tsa\", \"servicedisable\", \"ehr\", \"dsh\", \"feeforservice\", \"beneficiaries\", \"diabete\", \"gestational\", \"sbir\", \"titles\", \"ssa\", \"toddler\", \"widow\", \"small\", \"hospital\", \"durable\", \"beneficiary\", \"old\", \"security\", \"business\", \"physician\", \"advantage\", \"nurse\", \"title\", \"therapy\", \"payment\", \"ii\", \"d\", \"insurance\", \"benefit\", \"b\", \"survivor\", \"nursing\", \"age\", \"disability\", \"program\", \"coverage\", \"access\", \"service\", \"individual\", \"certain\", \"medical\", \"care\", \"health\", \"increase\", \"temporarily\", \"suspend\", \"tariff\", \"harmonized\", \"suspension\", \"summary\", \"repeat\", \"version\", \"introduce\", \"acid\", \"fiber\", \"footwear\", \"courthouse\", \"polymer\", \"staple\", \"acrylic\", \"fabric\", \"ester\", \"textile\", \"methyl\", \"plastic\", \"resin\", \"yarn\", \"filament\", \"chloride\", \"combed\", \"dutyfree\", \"carded\", \"pigment\", \"phosphate\", \"schedule\", \"avenue\", \"measure\", \"temporary\", \"duty\", \"salt\", \"postal\", \"pass\", \"mixture\", \"post\", \"extend\", \"occur\", \"locate\", \"house\", \"building\", \"designate\", \"certain\", \"expand\", \"alaska\", \"street\", \"office\", \"facility\", \"action\", \"service\", \"school\", \"elementary\", \"nutrition\", \"lea\", \"lunch\", \"secondary\", \"cosmetic\", \"russell\", \"esea\", \"dna\", \"tempore\", \"graduation\", \"prekindergarten\", \"food\", \"kindergarten\", \"breakfast\", \"subgrant\", \"asthma\", \"highneed\", \"snap\", \"classroom\", \"cohort\", \"ffdca\", \"additive\", \"bullying\", \"ayp\", \"ha\", \"nutrient\", \"dust\", \"generic\", \"teacher\", \"grade\", \"sentence\", \"achievement\", \"milk\", \"afterschool\", \"richard\", \"dairy\", \"student\", \"education\", \"academic\", \"gold\", \"omnibus\", \"drug\", \"educational\", \"animal\", \"label\", \"labeling\", \"high\", \"crime\", \"award\", \"local\", \"recognition\", \"medal\", \"safe\", \"grant\", \"program\", \"agency\", \"child\", \"improve\", \"use\", \"direct\", \"require\", \"public\", \"title\", \"establish\", \"authorize\", \"carbon\", \"tricare\", \"tanf\", \"needy\", \"ghg\", \"antimicrobial\", \"veterinary\", \"nondepartment\", \"jerusalem\", \"vha\", \"adoptive\", \"nonva\", \"boxing\", \"paint\", \"monoxide\", \"airway\", \"profiling\", \"stationary\", \"decontamination\", \"usbc\", \"weatherization\", \"walsh\", \"descent\", \"palliative\", \"leadbased\", \"python\", \"veterinarian\", \"champva\", \"sbp\", \"energys\", \"exportimport\", \"solid\", \"xxi\", \"affairs\", \"va\", \"emission\", \"technician\", \"veterans\", \"affair\", \"adoption\", \"greenhouse\", \"dioxide\", \"mercury\", \"children\", \"foster\", \"medical\", \"clinic\", \"department\", \"veteran\", \"child\", \"care\", \"welfare\", \"schip\", \"facility\", \"waste\", \"demonstration\", \"family\", \"iv\", \"program\", \"appropriation\", \"fy\", \"fiscal\", \"service\", \"health\", \"title\", \"rural\", \"year\", \"improve\", \"assistance\", \"direct\", \"require\", \"establish\", \"code\", \"agency\", \"improvement\", \"technology\"], \"Total\": [15425.0, 9077.0, 9809.0, 9718.0, 9399.0, 12139.0, 18663.0, 6132.0, 14559.0, 8269.0, 6691.0, 7732.0, 4641.0, 6742.0, 5158.0, 4543.0, 5069.0, 4269.0, 4302.0, 4130.0, 3988.0, 10881.0, 5591.0, 4983.0, 17678.0, 3799.0, 7123.0, 5457.0, 3500.0, 3989.0, 1576.4818730732447, 1134.1871680041045, 958.4676436551093, 599.0409512672397, 366.41201346921173, 1264.9494135578589, 302.5139300458973, 793.7350809360836, 235.62062895745925, 199.67795967265835, 146.76236328778361, 140.7719184496867, 129.78943619725885, 128.7910287191262, 454.26137226824164, 121.80217636674404, 252.58941584114655, 106.82606417440135, 119.80570069192007, 96.84198939111974, 1263.8480384793029, 88.8547295617208, 86.85793214922967, 86.85785378870708, 79.86906226608944, 78.87065477247094, 498.2159809476229, 71.88186903994063, 69.88494899932795, 68.88658001435958, 2051.1404936247377, 1315.4655099088418, 242.56989538618873, 193.71009212735405, 283.4586803236607, 461.30482815427024, 248.653871035845, 213.66777822341632, 1933.2071455486907, 999.8375084091409, 2236.9471820064336, 488.95622165455563, 1165.025278920897, 540.0899589312654, 273.65300385803477, 366.3290241469336, 699.6165725267958, 570.9158378567834, 1065.6215755449073, 980.4987250489532, 558.4040457574946, 5204.149654211481, 3369.005676137928, 2165.8542974397633, 462.2421212895035, 1639.7957704443443, 1280.30320754394, 578.5637218095062, 1658.8149446830496, 2746.119136920778, 1494.025126816794, 6163.47233170639, 12139.707716091796, 1565.4461011521175, 2829.94405841889, 4692.36597202783, 1459.54023646123, 5206.766441933096, 4412.141987315255, 6213.722247847754, 15284.04167431455, 14559.154110387968, 12404.597051917191, 9028.552409244103, 7158.636109213821, 7806.883774624449, 13351.427759785838, 9809.876449231784, 9718.121686781513, 9399.446481779461, 1781.826821537916, 640.3184745728371, 545.6039802142551, 510.08588876422937, 376.8934714284202, 340.38888297687055, 205.22324468032917, 198.31697116239457, 129.25423626365478, 120.37474178527937, 105.57558428634742, 101.62914229265289, 444.01923305578265, 107.5485258974054, 95.70947931640477, 90.77642680768147, 79.92371132323014, 76.96387984168956, 74.99065884058882, 71.04421685792866, 68.08438533961119, 66.11116435408792, 64.13794333960362, 59.20489085150206, 58.218280427093774, 55.258448857995646, 187.52421703824174, 878.2614813461867, 582.2256742459626, 1855.150212905348, 1254.0249551509874, 334.6283582332914, 4022.1814353026975, 238.75467766084944, 6742.925519410815, 858.7308670399922, 182.59335719871655, 1722.9155595337145, 583.0637698805334, 14559.154110387968, 639.1221643519091, 353.369492480866, 3593.2472223641266, 5430.6128432322585, 2322.1540221575196, 1479.8318943816635, 2172.180359898268, 1106.8262684133724, 1763.211172075014, 1741.2419936739625, 5272.746039460468, 1644.2438002711046, 2927.0020470628483, 2486.0787326341483, 5457.173398735758, 5206.766441933096, 1595.520905887201, 7123.263285705079, 6591.687059803687, 7158.636109213821, 12404.597051917191, 2704.4650236451025, 2541.4432609075184, 3438.4591315762714, 4562.0790260669255, 9028.552409244103, 2799.459043753529, 246.42180185354232, 242.43112007665943, 241.43344962514584, 240.43577917925677, 233.45208603126147, 222.47771109761385, 205.5173134373195, 192.54759761852569, 167.6058363797926, 158.6265061789265, 148.65009788409026, 134.6827115804319, 139.66939209050585, 121.71296804831462, 106.7479389978335, 104.75259811662563, 101.75958676598393, 95.7735640796757, 91.78288227449303, 90.78521183264806, 89.78754138638931, 88.78987087134328, 286.32411869919196, 84.7991891418867, 82.80384822606509, 78.81316598160275, 75.820154929039, 75.82022900190252, 74.82248461864748, 1769.324597271769, 754.1747998229008, 784.5940398468913, 766.010919090947, 881.244554807369, 2277.4485524712854, 411.78139328686706, 321.7534349123465, 379.78231660803397, 6512.972831255349, 6966.652288098165, 460.00483778448813, 974.9713205293681, 2924.9733553200554, 637.450420878776, 431.50994257166604, 18663.67678209346, 4496.846539708045, 873.6077921332892, 1342.2436763552894, 3491.4955111159165, 1080.253487763789, 8269.8317274121, 2194.1094794261335, 1576.056636159777, 3158.9302677631454, 2490.569755531243, 2325.2379205160964, 10191.404384401783, 2601.8587437140886, 2726.777893683814, 2776.504485901209, 3029.7835290954613, 7806.883774624449, 3714.5150242869236, 5684.615610280815, 13351.427759785838, 9238.326597880472, 17678.00255693012, 8231.496020532732, 3002.7676296152463, 2058.39368548799, 2770.38892406911, 474.62976758961537, 425.39537090136065, 219.59559273977408, 205.80996166286397, 200.88652199805838, 183.16213916004259, 163.46906031114008, 137.8664942427759, 234.3773540872237, 122.11148730725088, 114.23398510550817, 113.249295893604, 180.21503900736454, 108.32585629025733, 104.38713301782471, 101.43304067839256, 99.4636649234376, 98.47896322796838, 87.6474096047307, 83.70865787169315, 80.75459407947422, 77.80053201023226, 73.8617789582373, 153.62398834898846, 61.06083934563615, 60.07614745240458, 59.09145952682906, 58.10677165132057, 56.13739572000034, 125.07008626243572, 1430.944216384593, 265.9745381634752, 463.05719511756695, 197.0349283933004, 15425.437856650005, 1841.3679011159238, 590.1892234823177, 179.3216663904151, 1109.9567914603515, 953.9040429196299, 3259.530897627209, 1146.7528243046154, 572.1022398230525, 842.7776130787694, 367.932999749819, 1241.2500638856757, 2389.952168432461, 7732.289312855522, 2781.475723531785, 8231.496020532732, 17678.00255693012, 416.6837414283743, 4152.088211603845, 1039.242700915162, 3725.1726767494183, 933.9957595167582, 4692.36597202783, 4562.0790260669255, 2241.1106625119924, 3933.43668375934, 6213.722247847754, 1689.6599903719564, 7158.636109213821, 15284.04167431455, 7505.524045693236, 10191.404384401783, 3580.1544397715625, 3542.1371000646814, 2301.676908039029, 13351.427759785838, 3508.883362219004, 3763.788156431092, 1786.8402094665453, 233.23665516489498, 216.21893824297825, 203.20538814577384, 195.1970526670318, 256.2597351349025, 181.18246207954584, 176.1772514047511, 174.17516702584265, 172.1730826982334, 461.4684105285826, 167.16787185111207, 146.14598627142738, 132.1313958529475, 129.12826927489633, 113.11159460685664, 106.10429937010284, 106.10429934152577, 105.10325723377653, 96.09387766486456, 92.08970900564408, 91.0886668444911, 89.08658248538666, 86.08345598894418, 89.08593689046552, 85.08241374861169, 84.08137164947955, 84.08107576612483, 83.08305528360566, 64.06052822084422, 425.3175641248797, 267.2117718332617, 1400.3673093419304, 565.1869104159507, 997.1847090680732, 583.259718244914, 303.93027342130114, 1536.1177841441026, 142.14635161252244, 304.4254281673913, 378.45504764189184, 799.9588518361895, 329.8681884390323, 340.20998312934245, 428.4779376626597, 1661.4031691742239, 562.0869796096669, 979.3623184208279, 3203.4521161651246, 2330.069479305891, 1785.1705870853743, 670.8785437020639, 416.7779150199083, 439.3394731591255, 3733.43166090905, 2093.2799568676946, 3771.446777692275, 596.0397864451256, 620.1840140628044, 6733.2779524878815, 3002.7676296152463, 3134.90100962566, 4412.141987315255, 2047.0132005915004, 1370.870645983172, 1541.263046384004, 1436.8050166673736, 2437.0582144457285, 2626.47229625137, 15284.04167431455, 6591.687059803687, 13351.427759785838, 3933.43668375934, 10191.404384401783, 3372.5029760110588, 1713.33915616661, 5684.615610280815, 9238.326597880472, 18663.67678209346, 7505.524045693236, 3989.672617689342, 1396.150151406734, 1443.3766508439774, 743.8295312878257, 701.5223917231668, 660.1991367831965, 520.4871898462387, 549.0177191609431, 446.6957127110844, 387.66244936861716, 356.17806642316447, 700.5536447363186, 269.596013368324, 252.86993490871467, 284.3588254446246, 223.35332590286126, 182.03007330900908, 868.8298883093113, 197.77394394582802, 162.35233396786222, 1573.265614154549, 5158.963039549463, 140.7068207140847, 137.75515987086402, 130.86795104159725, 128.90017710386448, 129.88424547296177, 127.91629016762185, 120.0451944176631, 117.09353356517003, 2453.680617539246, 1375.170752888726, 754.8175635038778, 454.6302754786091, 375.0196043643069, 363.0049740949244, 524.4806001712572, 491.79937521035527, 582.5171720878782, 390.7563117548574, 449.7138974164624, 414.09802390437227, 936.2375368782992, 909.2542014912774, 361.97496802355255, 4150.832889784631, 2020.226445658409, 1989.1239774544101, 13351.427759785838, 3512.3720863947137, 630.9470796615675, 1403.7622348210396, 2163.866505209506, 3134.90100962566, 5478.217461616817, 2166.3601520062534, 3585.859170568171, 7806.883774624449, 3037.0177105743383, 9238.326597880472, 6213.722247847754, 12404.597051917191, 3192.211817827682, 9028.552409244103, 8231.496020532732, 10191.404384401783, 2239.9951262391796, 1202.506231914829, 602.7385409834858, 582.9767254142681, 365.59817860997833, 397.21910898352667, 247.02799740869196, 245.0518277178851, 244.06396136859854, 224.30204601082934, 209.48077335433499, 174.89780383304372, 188.73081011695845, 171.9344791892931, 151.18376760931898, 174.89953002583098, 140.31483434299562, 138.33866473838955, 125.49356169259681, 110.67228903309682, 111.66051448016613, 94.8629315461714, 93.87484672658081, 88.9339621653088, 83.99399826483531, 77.07740434390304, 72.13698014611444, 67.19655605137595, 64.23230142901974, 63.2442165488726, 2788.65746034144, 565.3325513763783, 262.8300280690016, 115.62726033547264, 106.72901684247257, 4983.358679454385, 935.062071130939, 3272.89763333575, 262.8250247267176, 221.52707276957383, 227.3702472807927, 2027.354465185859, 193.81640078725735, 200.55328893433747, 936.289795565978, 2818.6607345810557, 331.88968102770315, 554.1568033925352, 3438.4591315762714, 787.7228233012878, 1425.6120470076646, 5591.30919190973, 2003.957595634836, 957.8350961284973, 1142.468675029938, 666.7841123562486, 1750.0094574368284, 4537.472755725291, 2769.967138080767, 5206.766441933096, 1452.6147586151533, 17678.00255693012, 10881.709159539914, 14559.154110387968, 7158.636109213821, 9077.339727974086, 12404.597051917191, 13351.427759785838, 15284.04167431455, 6591.687059803687, 6307.25942143248, 9238.326597880472, 7806.883774624449, 515.9299593458322, 364.89023398557407, 259.4787952632481, 472.32436029757787, 207.78201108049922, 177.3721375744349, 317.247491212221, 282.77334500184315, 169.2623494734818, 162.16720084941994, 269.61604648252495, 152.03057635382586, 117.56605309199891, 113.51139732291198, 110.47041586434854, 108.44309101217856, 613.127569385717, 86.14251716437492, 83.1015298174767, 78.03321749264266, 249.2786731179566, 64.85560572251636, 59.78729344979976, 57.75996857915051, 57.75996856085188, 56.74595148604163, 52.69165631145377, 51.677993868773974, 48.63700654160409, 47.62334404356072, 2887.470017907999, 1022.8152911333818, 408.3754220851281, 949.2041614753355, 118.55632011986616, 168.19347963466097, 2065.667112939999, 841.0026445299627, 181.31371670943685, 328.04103618759456, 168.11194907620694, 144.88295018288235, 578.441075243317, 783.3071111793212, 240.75128977909534, 176.12662379683704, 1097.2324482099189, 285.09174796002446, 526.4978632383326, 1638.1487354950827, 358.9946316368751, 1959.21361821672, 3491.4955111159165, 3508.883362219004, 1246.9074324180672, 2253.201632423943, 553.9250285149047, 5010.051875510402, 846.5753877386817, 15284.04167431455, 2194.1094794261335, 1195.7601711910077, 6163.47233170639, 12404.597051917191, 9028.552409244103, 2571.9956265384326, 9238.326597880472, 17678.00255693012, 5684.615610280815, 8231.496020532732, 5478.217461616817, 10881.709159539914, 2848.6443006020736, 14559.154110387968, 4692.36597202783, 2770.38892406911, 493.1353025462669, 427.0419508911872, 397.5543096529606, 870.3075079443462, 351.79374662576174, 119.96270274875852, 105.72723589202886, 94.5422259743673, 87.42449257577958, 86.40667836671199, 81.32357812344708, 78.27312091430369, 77.25616077649366, 74.20584462653683, 64.03765388751565, 64.03765385419786, 59.969488728713515, 227.7367187563107, 53.86946317387851, 52.852644025401325, 55.90072193152614, 50.81900592128129, 48.78536733771759, 47.768548673083934, 154.5147631824265, 46.75172963772502, 44.718091530472435, 42.6844533138221, 42.684453254463364, 38.61717706770962, 623.0279091606183, 1864.3349168572258, 292.7857006172574, 6691.412993277162, 106.63050839118299, 419.3086918167171, 1343.8656284560807, 2735.7229135113353, 224.1563721185017, 501.3257803367069, 2176.0249313246345, 151.27845468514766, 396.69898599344765, 124.80275542457481, 2007.1402471865513, 2615.51734753776, 727.4676645046608, 1450.574851913894, 225.77344358084264, 888.8105779924839, 1009.1580221433413, 753.1806980948123, 1145.5652645809116, 1338.5766509830735, 1162.7891868253041, 2550.4885040307445, 430.136742704332, 1793.4403327911343, 831.4967292499377, 3372.5029760110588, 1249.9212328107537, 1392.744004872635, 1572.0317393970008, 1295.632395921599, 815.9675019332283, 12139.707716091796, 9028.552409244103, 2175.676186193683, 15284.04167431455, 6213.722247847754, 10191.404384401783, 2770.38892406911, 9238.326597880472, 7505.524045693236, 6742.925519410815, 4543.97542975778, 2419.5964056085418, 449.8075271867477, 366.0291648360451, 277.26399512250964, 164.56215044567614, 860.6637047996171, 148.6043671019531, 6132.238365439023, 132.64658376215218, 129.65449941075371, 117.68616193658322, 108.70990880030207, 105.71782444885459, 104.72046299227179, 1513.8036230982027, 1088.0984874785051, 125.65822110089569, 81.78114945655474, 66.820727610447, 92.75250281745569, 62.83128175785482, 55.849751576244756, 52.85766719552938, 50.862944286528176, 48.86822136927616, 48.86822129242913, 47.87085987892762, 46.87349846501013, 46.87349845532858, 506.5133429681306, 48.868266017363425, 98.73869266342325, 4016.7755162789445, 1685.0159966598776, 109.75575213322993, 897.7508982726308, 807.8804557950813, 12139.707716091796, 5457.173398735758, 1005.7899491610144, 177.84287556453813, 443.67064362351255, 10881.709159539914, 346.0237985956543, 3894.5979041439846, 1139.6645773812697, 634.8469151489865, 4152.088211603845, 4537.472755725291, 777.5045356987404, 719.1340055252897, 438.6995792202516, 1572.9260762730096, 2003.957595634836, 18663.67678209346, 2389.952168432461, 3542.1371000646814, 17678.00255693012, 7158.636109213821, 12404.597051917191, 3580.1544397715625, 7732.289312855522, 15425.437856650005, 5272.746039460468, 4641.180384536658, 4130.039512890979, 3988.867272109875, 3799.98854999274, 3209.9859438813423, 3500.1251067761673, 2635.560964299336, 2625.8249476914007, 2522.624987410433, 688.3577466010463, 371.93710406698045, 329.0986309796743, 247.31609150089355, 227.84405828092414, 216.1608383997528, 187.92639020636702, 179.16397541361135, 168.45435700540065, 161.63914542743274, 152.8767304408804, 136.32550226128427, 119.77427398507714, 118.80067232912273, 117.8270706634829, 115.87986735697818, 108.09105405997417, 107.11810207823103, 100.30224077852607, 94.46063081711193, 90.56622417450762, 4302.955601645711, 227.9221360891356, 5069.86581701465, 3380.6260299480514, 9077.339727974086, 236.67139571822977, 1173.9154058912418, 816.0333279255797, 469.9836357691492, 1089.445402669704, 7123.263285705079, 1287.8803219558142, 2065.4601202713493, 1713.33915616661, 1624.0725009110085, 3037.0177105743383, 12404.597051917191, 3495.1402572651014, 682.7050341097861, 1094.6778374548348, 3733.43166090905, 4231.00338353141, 2829.94405841889, 17678.00255693012, 4269.034550179988, 1672.938146686229, 617.769602419054, 547.2234761149738, 337.6006905534283, 2045.8235659296338, 782.9853630863789, 183.40700691120358, 161.23536615826032, 142.08713092208967, 124.95449941488424, 118.90768829246355, 114.8764808840391, 2893.8875880396076, 104.79846234592567, 102.78285864570901, 149.13627442481632, 92.70484006814907, 85.65022711806849, 84.64242525877788, 80.61121785087651, 66.50180583474148, 62.47078448775395, 60.45517798278601, 59.44737893683056, 57.431775230795935, 56.42397334883869, 54.40835492633769, 52.39275682215755, 176.29418261814183, 757.6880915096766, 326.58154232285295, 167.22506635399782, 457.2301801532532, 233.67250445360386, 67.49972549271635, 209.05169067099152, 156.96275924271154, 3015.048415997607, 8269.8317274121, 515.9423764666421, 629.1220226753583, 410.29792545677515, 3725.1726767494183, 2325.2379205160964, 547.3335905260345, 205.67817996250588, 236.92827439237465, 3029.7835290954613, 1459.54023646123, 2726.777893683814, 3714.5150242869236, 676.3993271520329, 796.3265101167937, 1487.507859385243, 6966.652288098165, 18663.67678209346, 6733.2779524878815, 4859.363921454864, 4436.119861623632, 9028.552409244103, 9238.326597880472, 15284.04167431455, 8231.496020532732, 10881.709159539914, 10191.404384401783, 7806.883774624449, 510.54806798258585, 182.97785617195197, 166.2550748046381, 155.43446626497177, 109.20095701549957, 79.69020640274802, 73.78805672002228, 67.88590612125472, 49.19576408042534, 45.260997329764976, 45.260997343434035, 41.32623058047118, 40.34253890056379, 40.34253890613922, 40.34253895981931, 38.37515555047116, 36.40777221933277, 36.40777225774101, 34.44038880878706, 30.505622032656998, 30.505622097594998, 28.538238670598123, 28.538238804648273, 54.11506979293357, 27.554546971519997, 27.554546986409306, 27.554546976986423, 25.587163592263668, 25.587163652297154, 24.603471983267028, 65.98659000155098, 159.37117888063474, 217.6195434593175, 1986.2448973540577, 1436.987803249564, 681.9471674785239, 77.82200798834891, 3653.206367728462, 1564.1599213906695, 476.8571771931025, 303.9761253359963, 259.4404030465476, 137.0061090482866, 518.8641963593111, 544.7821697246891, 3580.1544397715625, 340.2930166736379, 6307.25942143248, 5591.30919190973, 4859.363921454864, 7732.289312855522, 305.7674470425143, 244.9250268451769, 4231.00338353141, 622.331375602548, 783.5837519818524, 2803.476193515761, 648.4170096899211, 18663.67678209346, 2437.0582144457285, 1220.8394462171336, 2093.2799568676946, 17678.00255693012, 15425.437856650005, 10881.709159539914, 1504.833893697993, 6591.687059803687, 4436.119861623632, 6512.972831255349, 9238.326597880472, 15284.04167431455, 10191.404384401783, 14559.154110387968, 6733.2779524878815, 2701.428025302602, 2490.569755531243], \"loglift\": [30.0, 29.0, 28.0, 27.0, 26.0, 25.0, 24.0, 23.0, 22.0, 21.0, 20.0, 19.0, 18.0, 17.0, 16.0, 15.0, 14.0, 13.0, 12.0, 11.0, 10.0, 9.0, 8.0, 7.0, 6.0, 5.0, 4.0, 3.0, 2.0, 1.0, 2.2536, 2.2534, 2.2533, 2.2527, 2.2517, 2.2513, 2.2512, 2.2508, 2.2503, 2.2496, 2.248, 2.2477, 2.2471, 2.2471, 2.2468, 2.2467, 2.2465, 2.2456, 2.2454, 2.2447, 2.2447, 2.2438, 2.2436, 2.2436, 2.2427, 2.2425, 2.2415, 2.2413, 2.2409, 2.2408, 2.2279, 2.2316, 2.2393, 2.2368, 2.2294, 2.2159, 2.2258, 2.228, 2.1701, 2.1797, 2.155, 2.1953, 2.1458, 2.1819, 2.2134, 2.1932, 2.1282, 2.1334, 2.0444, 2.0513, 2.122, 1.8122, 1.8233, 1.8922, 2.1404, 1.8652, 1.9185, 2.0925, 1.8267, 1.6835, 1.84, 1.242, 0.8103, 1.6498, 1.3054, 1.0153, 1.6454, 0.9193, 0.9583, 0.7303, 0.1278, -0.0184, 0.0801, 0.1385, 0.3195, 0.2017, -0.3543, 2.3028, 2.3028, 2.3028, 2.3024, 2.3014, 2.3012, 2.3011, 2.3004, 2.3002, 2.2984, 2.2982, 2.2957, 2.2952, 2.2941, 2.2938, 2.2934, 2.2933, 2.2932, 2.2927, 2.2913, 2.2909, 2.2905, 2.2899, 2.2893, 2.2889, 2.2884, 2.2872, 2.287, 2.2861, 2.2859, 2.2838, 2.2838, 2.2665, 2.27, 2.2728, 2.237, 2.2699, 2.1964, 2.2406, 2.2665, 2.176, 2.1708, 1.8667, 2.1305, 2.1841, 1.9488, 1.831, 1.9255, 1.9574, 1.8033, 1.8914, 1.7266, 1.7149, 1.2889, 1.7047, 1.4262, 1.4715, 1.0757, 1.0977, 1.6753, 0.846, 0.8414, 0.7447, 0.3984, 1.3028, 1.3078, 1.0324, 0.7485, 0.1039, 2.4044, 2.401, 2.401, 2.4009, 2.4009, 2.4008, 2.4006, 2.4003, 2.4, 2.3993, 2.3988, 2.3986, 2.3979, 2.3971, 2.3964, 2.3961, 2.396, 2.3957, 2.3951, 2.3947, 2.3946, 2.3945, 2.3944, 2.3942, 2.3939, 2.3936, 2.393, 2.3926, 2.3925, 2.3924, 2.3294, 2.3279, 2.2941, 2.2854, 2.2701, 2.2022, 2.3006, 2.3037, 2.2879, 2.0266, 1.9997, 2.2514, 2.1671, 2.0144, 2.1902, 2.2156, 1.6041, 1.8066, 2.0748, 1.9722, 1.6619, 1.9586, 1.3767, 1.6808, 1.774, 1.5271, 1.6046, 1.6208, 1.0997, 1.5571, 1.4972, 1.4452, 1.3875, 0.9408, 1.2387, 0.9268, 0.3764, 0.5727, 0.0796, 0.4078, 1.2029, 1.5225, 1.2445, 2.4291, 2.4288, 2.4268, 2.4265, 2.4264, 2.426, 2.4252, 2.4243, 2.4241, 2.4234, 2.4229, 2.4229, 2.4228, 2.4225, 2.4221, 2.4219, 2.4217, 2.4215, 2.4205, 2.42, 2.4196, 2.4191, 2.4185, 2.4166, 2.4158, 2.4156, 2.4153, 2.4151, 2.4145, 2.4129, 2.4092, 2.4045, 2.3877, 2.3947, 2.2766, 2.284, 2.3298, 2.3815, 2.2899, 2.2926, 2.1975, 2.2682, 2.2972, 2.2459, 2.3167, 2.2001, 2.0278, 1.7324, 1.8526, 1.5868, 1.3931, 2.1953, 1.6424, 1.961, 1.5873, 1.9216, 1.4068, 1.4053, 1.5945, 1.363, 1.1826, 1.6333, 1.0107, 0.6718, 0.4855, 0.2029, 0.944, 0.9439, 1.2629, -0.2475, 0.8836, 0.796, 2.4406, 2.4392, 2.4389, 2.4386, 2.4384, 2.4382, 2.4381, 2.4379, 2.4378, 2.4378, 2.4378, 2.4376, 2.4368, 2.4362, 2.436, 2.435, 2.4344, 2.4344, 2.4344, 2.4335, 2.4331, 2.433, 2.4328, 2.4324, 2.4324, 2.4323, 2.4322, 2.4319, 2.4299, 2.4287, 2.4247, 2.4233, 2.3972, 2.411, 2.392, 2.4007, 2.3913, 2.3216, 2.416, 2.3794, 2.3541, 2.2979, 2.3357, 2.3235, 2.2999, 2.1469, 2.2585, 2.1814, 2.0106, 1.9966, 2.0219, 2.1939, 2.2769, 2.2625, 1.7999, 1.927, 1.6139, 2.1459, 2.1319, 1.3334, 1.6009, 1.5696, 1.4332, 1.6912, 1.8247, 1.767, 1.7709, 1.5191, 1.4693, 0.6197, 0.9837, 0.6037, 1.2148, 0.6537, 1.2506, 1.5601, 0.6056, 0.1973, -0.4392, 0.3242, 2.4681, 2.4676, 2.4675, 2.4671, 2.4671, 2.467, 2.4666, 2.4663, 2.4663, 2.466, 2.4658, 2.4651, 2.4649, 2.4647, 2.4645, 2.4642, 2.4633, 2.4633, 2.4632, 2.4627, 2.4625, 2.462, 2.4618, 2.4617, 2.4613, 2.4612, 2.4612, 2.4612, 2.4607, 2.4605, 2.4496, 2.4497, 2.4543, 2.4559, 2.4516, 2.4499, 2.4351, 2.4361, 2.4296, 2.4367, 2.4308, 2.4299, 2.3721, 2.3743, 2.4375, 2.088, 2.1483, 2.1439, 1.5955, 1.9015, 2.3241, 2.0865, 1.8498, 1.709, 1.3984, 1.7216, 1.4131, 0.9859, 1.4934, 0.4838, 0.7439, 0.1523, 1.2152, 0.2631, 0.3164, 0.1067, 2.5765, 2.5761, 2.5753, 2.5752, 2.5743, 2.574, 2.5731, 2.5731, 2.5729, 2.5728, 2.5725, 2.5716, 2.5713, 2.5712, 2.5708, 2.5706, 2.5703, 2.5702, 2.5695, 2.5685, 2.5685, 2.5671, 2.567, 2.5661, 2.5659, 2.5649, 2.564, 2.5631, 2.5625, 2.5622, 2.5531, 2.5507, 2.5545, 2.5619, 2.5599, 2.4759, 2.5153, 2.4731, 2.5413, 2.5413, 2.5366, 2.4342, 2.542, 2.5315, 2.3806, 2.2134, 2.4693, 2.3961, 2.0717, 2.3004, 2.1455, 1.811, 1.9721, 2.1455, 2.0078, 2.1839, 1.8536, 1.4939, 1.6602, 1.3671, 1.8467, 0.7292, 0.7708, 0.503, 0.6341, 0.3943, 0.1757, 0.092, -0.0176, 0.5853, 0.6054, 0.1808, 0.2622, 2.5891, 2.5876, 2.5876, 2.5875, 2.5867, 2.586, 2.5859, 2.5856, 2.5855, 2.5855, 2.5853, 2.5851, 2.5833, 2.583, 2.5828, 2.5826, 2.5825, 2.5804, 2.58, 2.5793, 2.5786, 2.5769, 2.5757, 2.5751, 2.5751, 2.5744, 2.5736, 2.5732, 2.5721, 2.5717, 2.5654, 2.567, 2.5716, 2.5602, 2.5714, 2.5647, 2.528, 2.545, 2.5629, 2.5348, 2.5558, 2.5545, 2.4568, 2.4172, 2.5109, 2.5364, 2.3421, 2.4878, 2.3926, 2.2196, 2.4379, 2.0347, 1.8702, 1.8505, 2.0511, 1.7969, 2.1836, 1.2689, 2.0059, 0.7621, 1.5524, 1.8399, 0.9864, 0.6083, 0.6761, 1.363, 0.5313, 0.122, 0.7733, 0.5172, 0.7915, 0.276, 1.1552, -0.18, 0.7373, 1.1592, 2.6964, 2.6961, 2.6959, 2.6949, 2.6945, 2.6906, 2.6895, 2.6885, 2.6877, 2.6872, 2.6869, 2.6865, 2.6863, 2.6858, 2.6838, 2.6838, 2.6824, 2.6817, 2.6811, 2.6808, 2.6804, 2.6801, 2.6793, 2.6789, 2.6788, 2.6785, 2.6775, 2.6765, 2.6765, 2.6742, 2.6489, 2.6337, 2.6544, 2.5772, 2.6562, 2.6123, 2.558, 2.5023, 2.6121, 2.5647, 2.4694, 2.6183, 2.5418, 2.6306, 2.362, 2.3059, 2.44, 2.3276, 2.5452, 2.3216, 2.2766, 2.32, 2.2327, 2.1947, 2.2004, 2.0014, 2.3811, 2.0086, 2.2093, 1.817, 2.0655, 2.0153, 1.9448, 2.0229, 2.1941, 0.2747, 0.4321, 1.4686, 0.0023, 0.6743, 0.2965, 1.2651, 0.2122, 0.3635, 0.4007, 2.7519, 2.7517, 2.7501, 2.7496, 2.7488, 2.7465, 2.7463, 2.7459, 2.7456, 2.7452, 2.745, 2.7443, 2.7436, 2.7434, 2.7433, 2.7425, 2.7411, 2.7408, 2.7408, 2.7383, 2.7382, 2.7374, 2.7355, 2.7346, 2.7339, 2.7331, 2.7331, 2.7327, 2.7323, 2.7323, 2.7296, 2.7322, 2.7191, 2.5337, 2.5343, 2.6882, 2.5532, 2.5274, 2.2904, 2.309, 2.4452, 2.6263, 2.47, 1.9032, 2.4781, 1.9524, 2.2225, 2.2947, 1.7306, 1.6023, 2.1274, 2.1485, 2.317, 1.8448, 1.7332, 0.8472, 1.6372, 1.3578, 0.4928, 0.806, 0.0371, 0.9632, 0.3057, -0.4873, 0.4585, 2.848, 2.8479, 2.8479, 2.8479, 2.8479, 2.8478, 2.8478, 2.8478, 2.8477, 2.8468, 2.8457, 2.8454, 2.8444, 2.8441, 2.8439, 2.8433, 2.843, 2.8427, 2.8425, 2.8421, 2.8414, 2.8405, 2.8404, 2.8403, 2.8402, 2.8396, 2.8393, 2.839, 2.8384, 2.838, 2.8326, 2.836, 2.7551, 2.7641, 2.7282, 2.8176, 2.7353, 2.7425, 2.7258, 2.6116, 2.2656, 2.4274, 2.1808, 2.1557, 2.0677, 1.8362, 1.1847, 1.6154, 2.2964, 2.0561, 1.3405, 1.2276, 1.4726, -0.13, 2.9084, 2.9081, 2.9071, 2.9069, 2.9059, 2.905, 2.9039, 2.9036, 2.9029, 2.9021, 2.9012, 2.9009, 2.9006, 2.9003, 2.8998, 2.8996, 2.8988, 2.8987, 2.8978, 2.8977, 2.8972, 2.8945, 2.8938, 2.8933, 2.893, 2.8925, 2.8922, 2.8916, 2.8909, 2.8891, 2.8856, 2.8793, 2.8857, 2.8399, 2.8468, 2.8887, 2.8248, 2.837, 2.5477, 2.3577, 2.6865, 2.6588, 2.6542, 2.2554, 2.2819, 2.5493, 2.7582, 2.6933, 1.8384, 2.0653, 1.8426, 1.6696, 2.2964, 2.2205, 1.9268, 1.2311, 0.6398, 0.9495, 1.1175, 1.0054, 0.4882, 0.1711, -0.2562, 0.1806, -0.0759, -0.1543, 0.0706, 2.9802, 2.9775, 2.9771, 2.9767, 2.9741, 2.971, 2.9701, 2.969, 2.9637, 2.9621, 2.9621, 2.9601, 2.9596, 2.9596, 2.9596, 2.9584, 2.957, 2.957, 2.9555, 2.952, 2.952, 2.9499, 2.9499, 2.9496, 2.9487, 2.9487, 2.9487, 2.946, 2.946, 2.9445, 2.9326, 2.9129, 2.9045, 2.8499, 2.8526, 2.8696, 2.9247, 2.8023, 2.8272, 2.8611, 2.8741, 2.874, 2.892, 2.8215, 2.7585, 2.4474, 2.71, 2.2471, 2.252, 2.1846, 2.0864, 2.647, 2.6412, 1.9363, 2.4096, 2.2943, 1.9136, 2.33, 1.1262, 1.807, 1.9866, 1.7351, 0.6644, 0.7095, 0.808, 1.8309, 0.852, 1.0508, 0.7933, 0.5485, 0.1782, 0.3276, -0.0032, 0.5784, 1.338, 1.3252], \"logprob\": [30.0, 29.0, 28.0, 27.0, 26.0, 25.0, 24.0, 23.0, 22.0, 21.0, 20.0, 19.0, 18.0, 17.0, 16.0, 15.0, 14.0, 13.0, 12.0, 11.0, 10.0, 9.0, 8.0, 7.0, 6.0, 5.0, 4.0, 3.0, 2.0, 1.0, -4.8244, -5.1539, -5.3223, -5.7929, -6.2855, -5.0469, -6.4776, -5.5134, -6.7284, -6.8946, -7.2042, -7.2461, -7.3279, -7.3357, -6.0755, -7.3919, -6.6626, -7.5241, -7.4096, -7.6232, -5.0543, -7.7101, -7.7331, -7.7331, -7.8179, -7.8306, -5.9884, -7.9247, -7.9531, -7.9677, -4.5869, -5.0274, -6.7104, -6.9378, -6.5645, -6.091, -6.6991, -6.8485, -4.7039, -5.3536, -4.5731, -6.0534, -5.2346, -5.9673, -6.6157, -6.3442, -5.7622, -5.9603, -5.4252, -5.5016, -5.9939, -4.0715, -4.4953, -4.8682, -6.1645, -5.1734, -5.3676, -5.9879, -5.2004, -4.8395, -5.2917, -4.4726, -4.2264, -5.4353, -5.1876, -4.972, -5.5096, -4.9639, -5.0905, -4.9762, -4.6786, -4.8733, -4.935, -5.1943, -5.2454, -5.2765, -5.2958, -2.947, -2.9564, -2.9898, -4.6532, -5.6775, -5.8379, -5.9053, -6.2085, -6.3107, -6.8185, -6.8528, -7.2834, -7.3551, -7.4874, -7.5258, -6.0517, -7.4697, -7.5864, -7.6398, -7.7686, -7.8067, -7.833, -7.8878, -7.9309, -7.9607, -7.9915, -8.0727, -8.0898, -8.1428, -6.9212, -5.3792, -5.7903, -4.6487, -5.0368, -6.3552, -3.9044, -6.6956, -3.4283, -5.4448, -6.9672, -4.8132, -5.9018, -2.9883, -5.8504, -6.3894, -4.3054, -4.0102, -4.7652, -5.1839, -4.9541, -5.5403, -5.2395, -5.2637, -4.5817, -5.3312, -5.033, -5.151, -4.7606, -4.7856, -5.3907, -4.7239, -4.806, -4.8202, -4.6167, -5.2355, -5.2927, -5.2658, -5.2669, -5.2289, -4.0994, -6.5329, -6.5493, -6.5534, -6.5576, -6.5872, -6.6355, -6.7151, -6.7806, -6.9201, -6.9756, -7.0408, -7.1401, -7.1046, -7.2428, -7.3744, -7.3934, -7.4226, -7.4838, -7.5268, -7.5379, -7.549, -7.5603, -6.3896, -7.6068, -7.6309, -7.6808, -7.72, -7.7201, -7.7334, -4.6332, -5.4874, -5.4817, -5.5144, -5.3895, -4.5079, -6.1198, -6.3634, -6.2135, -3.6328, -3.5924, -6.0583, -5.3914, -4.4455, -5.7933, -6.158, -3.0025, -4.2232, -5.5935, -5.2666, -4.621, -5.4974, -4.0438, -5.0666, -5.3043, -4.8558, -5.0161, -5.0686, -4.112, -5.0198, -5.0329, -5.0668, -5.0372, -4.5374, -4.9822, -4.8686, -4.5652, -4.7372, -4.5812, -5.0174, -5.2307, -5.2888, -5.2697, -5.8493, -5.9591, -6.6224, -6.6875, -6.7118, -6.8046, -6.9191, -7.0903, -6.5599, -7.2126, -7.2798, -7.2885, -6.824, -7.3333, -7.3707, -7.3996, -7.4194, -7.4296, -7.5472, -7.5936, -7.63, -7.6677, -7.7203, -6.9898, -7.9133, -7.9297, -7.9465, -7.9636, -7.9986, -7.1991, -4.7657, -6.453, -5.9154, -6.7629, -2.5206, -4.6387, -5.7307, -6.8702, -5.139, -5.2878, -4.1541, -5.1281, -5.7945, -5.4584, -6.2163, -5.117, -4.6341, -3.7554, -4.6576, -3.8384, -3.2678, -6.2134, -4.4672, -5.5337, -4.6308, -5.6799, -4.5804, -4.6101, -5.1317, -4.8007, -4.5238, -5.3753, -4.5542, -4.1346, -5.032, -5.0087, -5.3138, -5.3246, -5.4367, -5.1891, -5.3943, -5.4118, -4.5122, -6.5497, -6.6258, -6.6881, -6.7285, -6.4565, -6.8034, -6.8315, -6.843, -6.8547, -5.8688, -6.8843, -7.0195, -7.121, -7.1441, -7.2776, -7.3421, -7.3421, -7.3516, -7.4421, -7.4851, -7.4961, -7.5186, -7.5532, -7.519, -7.565, -7.577, -7.5772, -7.5912, -7.8524, -5.9634, -6.4296, -4.7993, -5.6928, -5.144, -5.6716, -6.3329, -4.7823, -7.0681, -6.3431, -6.1508, -5.4585, -6.3065, -6.2879, -6.0808, -4.8786, -5.8508, -5.3727, -4.3584, -4.6907, -4.9318, -5.7384, -6.1315, -6.0932, -4.416, -4.8674, -4.5918, -5.9047, -5.879, -4.2927, -4.8328, -4.821, -4.6157, -5.1256, -5.393, -5.3336, -5.3998, -5.1233, -5.0983, -4.1867, -4.6636, -4.3379, -4.9488, -4.558, -5.067, -5.4347, -5.1898, -5.1125, -5.0458, -5.1934, -3.6813, -4.7319, -4.6987, -5.362, -5.4206, -5.4814, -5.7196, -5.6665, -5.8728, -6.0148, -6.0997, -5.4239, -6.3791, -6.4433, -6.3263, -6.568, -6.7735, -5.2105, -6.6906, -6.8885, -4.6176, -3.4305, -7.0325, -7.0538, -7.1054, -7.1207, -7.1131, -7.1284, -7.1924, -7.2175, -4.186, -4.7649, -5.3602, -5.8655, -6.0624, -6.0966, -5.7434, -5.8067, -5.644, -6.0361, -5.9016, -5.985, -5.2269, -5.254, -6.1118, -4.0219, -4.6817, -4.7016, -3.3461, -4.3754, -5.6696, -5.1076, -4.9115, -4.6816, -4.4341, -5.0385, -4.8431, -4.4923, -4.9289, -4.826, -4.9625, -4.8628, -5.1573, -5.0697, -5.1088, -5.105, -4.1503, -4.7727, -5.4641, -5.4976, -5.9651, -5.8825, -6.3583, -6.3664, -6.3706, -6.4552, -6.5238, -6.7052, -6.6293, -6.7226, -6.8517, -6.7062, -6.9268, -6.941, -7.0392, -7.1658, -7.157, -7.3214, -7.332, -7.3869, -7.4443, -7.5313, -7.5983, -7.6702, -7.716, -7.7317, -3.9546, -5.5528, -6.315, -7.1287, -7.2108, -3.4512, -5.085, -3.8744, -6.3281, -6.4991, -6.4778, -4.3923, -6.6321, -6.6083, -5.2184, -4.2835, -6.1669, -5.7274, -4.2265, -5.4714, -5.0331, -4.001, -4.866, -5.4308, -5.3922, -5.7545, -5.12, -4.5269, -4.8541, -4.5162, -5.3131, -3.9316, -4.3753, -4.3519, -4.9307, -4.9331, -4.8394, -4.8496, -4.824, -5.0621, -5.0861, -5.129, -5.216, -5.6059, -5.9537, -6.2947, -5.6957, -6.5177, -6.6767, -6.0953, -6.2107, -6.724, -6.7669, -6.2587, -6.8318, -7.0906, -7.126, -7.1534, -7.1721, -5.4399, -7.4045, -7.4408, -7.5045, -6.3438, -7.6919, -7.7745, -7.8095, -7.8095, -7.8279, -7.9029, -7.9227, -7.9845, -8.0059, -3.9074, -4.9436, -5.8571, -5.0251, -7.0942, -6.7512, -4.2797, -5.1613, -6.6778, -6.113, -6.7605, -6.9106, -5.6238, -5.3602, -6.4463, -6.7334, -5.0983, -6.3003, -5.7821, -4.82, -6.1197, -4.8259, -4.4126, -4.4274, -5.2614, -4.9239, -5.9404, -4.6528, -5.6938, -4.0443, -5.195, -5.5145, -4.7281, -4.4069, -4.6567, -5.2255, -4.7785, -4.5388, -5.0222, -4.9081, -5.0409, -4.8701, -5.3311, -5.035, -5.2499, -5.355, -5.5438, -5.688, -5.7597, -4.9772, -5.8834, -6.9632, -7.0905, -7.2034, -7.2825, -7.2946, -7.3556, -7.3943, -7.4076, -7.4483, -7.5976, -7.5976, -7.6647, -6.331, -7.7733, -7.7927, -7.7369, -7.8326, -7.8742, -7.8957, -6.7219, -7.9176, -7.963, -8.0106, -8.0106, -8.113, -5.3575, -4.2766, -6.1071, -3.0552, -7.1154, -5.79, -4.6796, -4.0245, -6.4165, -5.6589, -4.2863, -6.8036, -5.916, -6.9837, -4.4745, -4.2659, -5.4113, -4.8336, -6.4762, -5.3295, -5.2475, -5.4966, -5.1646, -5.0469, -5.182, -4.5955, -5.9958, -4.9405, -5.5085, -4.5005, -5.2446, -5.1867, -5.136, -5.2513, -5.5425, -4.762, -4.9007, -5.2873, -4.8041, -5.0321, -4.9152, -5.2491, -5.0976, -5.1541, -5.224, -3.2675, -3.8979, -5.5821, -5.7886, -6.0672, -6.5912, -4.937, -6.6938, -2.974, -6.8081, -6.8311, -6.9287, -7.0086, -7.0368, -7.0464, -4.3761, -4.7076, -6.8666, -7.2961, -7.5007, -7.1728, -7.5631, -7.6828, -7.7388, -7.7779, -7.8187, -7.8187, -7.8397, -7.8612, -7.8612, -5.4838, -7.8196, -7.1294, -3.609, -4.4771, -7.0545, -5.0879, -5.2191, -2.7463, -3.5273, -5.0822, -6.6337, -5.8759, -3.2429, -6.1163, -4.2212, -5.18, -5.6929, -4.3789, -4.4185, -5.6574, -5.7144, -6.0401, -5.2355, -5.1049, -3.7594, -5.0248, -4.9107, -4.1681, -4.7588, -4.978, -5.2945, -5.182, -5.2844, -5.4122, -3.1503, -3.267, -3.3017, -3.3503, -3.519, -3.4325, -3.7163, -3.72, -3.7602, -5.0598, -5.6765, -5.7992, -6.0858, -6.1682, -6.221, -6.3616, -6.4096, -6.4716, -6.5131, -6.5692, -6.6845, -6.8149, -6.8231, -6.8314, -6.8482, -6.9184, -6.9277, -6.9938, -7.0544, -7.0969, -3.2413, -6.1759, -3.1548, -3.5511, -2.5992, -6.1567, -4.6375, -4.994, -5.5625, -4.8359, -3.3042, -4.8528, -4.6271, -4.839, -4.9806, -4.5861, -3.8304, -4.6664, -5.6184, -5.3866, -4.8754, -4.8632, -5.0204, -4.7909, -3.1734, -4.1106, -5.1077, -5.2292, -5.7132, -3.9124, -4.8739, -6.3257, -6.4552, -6.5824, -6.7118, -6.7617, -6.7965, -3.5703, -6.8891, -6.9087, -6.5373, -7.0129, -7.0928, -7.1048, -7.1542, -7.3492, -7.4124, -7.4457, -7.4628, -7.4979, -7.5158, -7.5528, -7.5913, -6.3797, -4.9251, -5.773, -6.4359, -5.4759, -6.1402, -7.3401, -6.2736, -6.548, -3.8819, -3.0629, -5.5085, -5.3378, -5.7698, -3.9627, -4.4075, -5.5866, -6.3564, -6.2799, -4.5863, -5.0898, -4.6875, -4.5514, -5.6278, -5.5404, -5.2093, -4.361, -3.9668, -4.6766, -4.8348, -5.038, -4.8446, -5.1388, -5.0625, -5.2447, -5.222, -5.3659, -5.4076, -5.2253, -6.254, -6.3504, -6.4181, -6.7736, -7.0918, -7.1697, -7.2541, -7.5814, -7.6664, -7.6664, -7.7593, -7.784, -7.784, -7.784, -7.8352, -7.8891, -7.8891, -7.9462, -8.071, -8.071, -8.1398, -8.1398, -7.5002, -8.1761, -8.1761, -8.1761, -8.2528, -8.2528, -8.2935, -7.3189, -6.4568, -6.1537, -3.997, -4.318, -5.0464, -7.1618, -3.4353, -4.2587, -5.4126, -5.8498, -6.0084, -6.6289, -5.3678, -5.3821, -3.8104, -5.9012, -3.4444, -3.56, -3.7677, -3.4014, -6.0711, -6.2988, -4.1545, -5.5979, -5.4828, -4.5887, -5.6364, -3.4804, -4.8354, -5.347, -5.0593, -3.9964, -4.0877, -4.3381, -5.2937, -4.7953, -4.9926, -4.8661, -4.7614, -4.6282, -4.884, -4.8581, -5.0477, -5.2014, -5.2955]}, \"token.table\": {\"Topic\": [4, 4, 4, 1, 3, 4, 7, 9, 10, 12, 3, 4, 12, 1, 2, 3, 4, 5, 6, 7, 8, 9, 10, 12, 13, 1, 2, 3, 4, 5, 7, 8, 9, 10, 13, 1, 3, 4, 5, 7, 8, 9, 12, 13, 3, 12, 11, 11, 1, 3, 4, 5, 6, 7, 8, 9, 11, 12, 13, 2, 4, 7, 12, 12, 1, 3, 4, 5, 6, 7, 8, 9, 10, 12, 13, 2, 5, 13, 13, 3, 9, 10, 3, 4, 5, 6, 9, 10, 13, 3, 3, 7, 13, 3, 7, 13, 2, 3, 4, 9, 3, 12, 1, 2, 3, 4, 7, 10, 12, 13, 1, 3, 4, 5, 6, 7, 8, 9, 10, 12, 13, 1, 2, 5, 6, 8, 9, 12, 13, 1, 3, 5, 6, 8, 9, 12, 13, 1, 2, 6, 7, 8, 9, 11, 12, 13, 1, 7, 8, 9, 13, 8, 1, 8, 10, 11, 13, 13, 1, 3, 5, 6, 9, 11, 1, 2, 1, 2, 3, 4, 5, 6, 7, 8, 9, 10, 12, 13, 4, 8, 7, 10, 12, 2, 6, 7, 8, 12, 13, 7, 13, 9, 3, 1, 3, 4, 5, 7, 9, 13, 3, 1, 3, 5, 6, 7, 12, 13, 5, 1, 2, 3, 4, 5, 6, 8, 9, 10, 12, 13, 9, 7, 4, 9, 9, 1, 2, 3, 4, 5, 6, 7, 8, 9, 10, 12, 13, 1, 2, 3, 4, 5, 6, 7, 8, 9, 10, 12, 13, 12, 6, 9, 13, 1, 3, 4, 12, 1, 3, 4, 5, 6, 7, 8, 9, 10, 11, 12, 13, 3, 9, 11, 6, 8, 1, 2, 3, 4, 5, 7, 8, 10, 12, 13, 1, 3, 4, 5, 7, 12, 3, 4, 6, 8, 9, 10, 11, 12, 13, 8, 5, 1, 5, 8, 9, 1, 6, 7, 3, 4, 5, 13, 10, 2, 4, 7, 10, 13, 1, 2, 3, 4, 5, 6, 7, 8, 9, 10, 12, 13, 2, 9, 13, 6, 2, 10, 1, 6, 9, 11, 13, 4, 1, 5, 9, 12, 6, 8, 8, 1, 8, 5, 10, 2, 3, 5, 6, 8, 9, 11, 12, 13, 12, 1, 2, 3, 4, 5, 8, 9, 10, 2, 6, 11, 4, 5, 10, 2, 4, 5, 7, 5, 8, 13, 11, 2, 4, 7, 10, 13, 8, 2, 5, 5, 1, 4, 10, 7, 1, 3, 4, 5, 6, 7, 9, 10, 11, 12, 13, 1, 2, 3, 4, 5, 6, 7, 8, 9, 10, 11, 12, 13, 9, 9, 5, 13, 2, 3, 6, 1, 2, 3, 4, 7, 12, 13, 4, 10, 11, 12, 13, 11, 1, 3, 4, 5, 6, 7, 8, 9, 10, 12, 7, 12, 1, 12, 2, 6, 8, 9, 13, 4, 10, 13, 1, 2, 3, 4, 5, 7, 8, 10, 12, 13, 12, 7, 2, 3, 8, 12, 6, 11, 10, 5, 6, 7, 11, 7, 1, 2, 3, 5, 6, 8, 9, 12, 13, 1, 4, 5, 6, 7, 8, 9, 13, 1, 2, 4, 5, 9, 9, 12, 1, 3, 4, 5, 7, 8, 9, 3, 8, 1, 2, 3, 4, 5, 6, 8, 9, 10, 12, 13, 1, 2, 4, 8, 9, 10, 1, 2, 3, 7, 10, 12, 3, 4, 5, 8, 9, 5, 7, 13, 1, 3, 4, 5, 6, 7, 8, 9, 12, 13, 1, 5, 7, 9, 12, 2, 5, 6, 9, 13, 3, 4, 8, 9, 1, 5, 7, 5, 7, 4, 4, 2, 3, 5, 7, 12, 1, 2, 3, 4, 5, 6, 7, 8, 9, 10, 12, 13, 6, 8, 9, 11, 6, 8, 11, 2, 8, 1, 2, 3, 6, 8, 9, 11, 4, 12, 3, 4, 5, 6, 9, 1, 3, 4, 5, 7, 9, 10, 11, 12, 6, 8, 10, 1, 5, 7, 11, 11, 2, 4, 10, 13, 3, 2, 7, 8, 9, 1, 3, 9, 12, 1, 3, 4, 7, 12, 9, 1, 3, 4, 7, 8, 9, 10, 11, 12, 13, 6, 12, 6, 8, 1, 2, 3, 4, 5, 6, 7, 8, 9, 10, 12, 13, 2, 3, 4, 5, 7, 8, 9, 10, 13, 4, 7, 7, 2, 13, 2, 2, 1, 3, 5, 7, 9, 13, 2, 5, 3, 3, 4, 6, 8, 10, 12, 13, 1, 3, 4, 5, 6, 7, 8, 9, 10, 12, 13, 1, 2, 3, 5, 7, 8, 9, 8, 9, 2, 2, 13, 1, 2, 3, 4, 5, 6, 7, 8, 9, 10, 11, 13, 1, 2, 3, 4, 5, 6, 8, 9, 10, 12, 13, 1, 5, 1, 10, 4, 10, 2, 2, 7, 11, 13, 1, 2, 3, 4, 5, 6, 7, 8, 9, 10, 11, 12, 13, 3, 4, 7, 8, 10, 12, 13, 2, 3, 5, 10, 4, 5, 7, 10, 3, 4, 1, 5, 6, 7, 11, 12, 2, 12, 1, 5, 7, 9, 13, 4, 8, 9, 7, 1, 2, 3, 5, 6, 8, 9, 10, 5, 8, 8, 13, 4, 10, 12, 13, 10, 4, 8, 10, 12, 12, 1, 4, 7, 11, 11, 5, 5, 1, 2, 3, 5, 6, 8, 9, 10, 13, 2, 3, 4, 8, 10, 12, 13, 3, 7, 8, 12, 3, 2, 3, 5, 6, 9, 10, 13, 5, 10, 1, 2, 4, 5, 7, 12, 1, 2, 3, 4, 5, 6, 7, 8, 9, 10, 12, 13, 1, 2, 3, 4, 5, 6, 7, 8, 9, 10, 13, 8, 9, 13, 1, 2, 3, 4, 5, 7, 8, 10, 12, 13, 1, 2, 3, 4, 7, 10, 2, 2, 6, 9, 13, 13, 1, 3, 4, 7, 8, 9, 12, 2, 6, 8, 3, 6, 9, 1, 2, 3, 5, 10, 3, 4, 5, 6, 8, 9, 12, 13, 12, 1, 2, 3, 4, 5, 6, 7, 8, 9, 10, 12, 13, 2, 5, 7, 8, 11, 2, 4, 6, 7, 8, 9, 11, 12, 2, 1, 2, 4, 8, 9, 10, 1, 3, 5, 7, 8, 9, 13, 1, 2, 3, 4, 5, 6, 7, 8, 9, 10, 11, 12, 13, 1, 2, 3, 5, 7, 8, 10, 13, 2, 8, 13, 1, 2, 3, 4, 5, 6, 7, 8, 9, 10, 11, 12, 13, 8, 11, 1, 2, 3, 4, 5, 6, 7, 8, 9, 10, 11, 12, 13, 1, 2, 3, 4, 7, 8, 10, 12, 13, 3, 2, 1, 8, 8, 10, 3, 1, 12, 5, 7, 12, 8, 3, 11, 11, 7, 1, 2, 3, 4, 5, 7, 8, 9, 10, 12, 13, 1, 7, 2, 8, 1, 1, 3, 5, 7, 8, 10, 12, 13, 6, 5, 6, 5, 7, 9, 1, 3, 7, 8, 5, 6, 4, 9, 12, 13, 11, 1, 3, 4, 5, 7, 9, 7, 1, 2, 3, 5, 7, 8, 9, 12, 6, 1, 3, 4, 6, 9, 10, 13, 3, 2, 8, 2, 6, 8, 9, 13, 1, 2, 3, 4, 5, 6, 7, 8, 9, 10, 12, 13, 7, 9, 1, 3, 5, 6, 7, 8, 10, 12, 13, 1, 2, 4, 8, 9, 12, 8, 5, 1, 2, 6, 9, 13, 2, 9, 1, 2, 3, 4, 5, 6, 7, 8, 9, 10, 11, 12, 13, 4, 12, 10, 9, 13, 7, 12, 1, 2, 3, 4, 5, 6, 7, 8, 9, 10, 12, 13, 9, 12, 12, 5, 1, 2, 3, 4, 5, 6, 7, 8, 9, 10, 12, 13, 9, 13, 2, 5, 8, 6, 1, 2, 3, 4, 5, 6, 7, 8, 9, 10, 12, 3, 5, 7, 1, 5, 7, 1, 3, 12, 6, 5, 7, 11, 4, 9, 3, 1, 2, 3, 4, 10, 13, 9, 6, 4, 10, 13, 2, 3, 4, 5, 6, 7, 8, 9, 10, 11, 12, 13, 12, 8, 11, 2, 6, 7, 6, 7, 4, 2, 3, 1, 5, 7, 10, 3, 13, 3, 7, 5, 10, 13, 4, 10, 13, 1, 5, 7, 11, 12, 3, 10, 3, 1, 3, 4, 5, 9, 10, 12, 13, 6, 5, 10, 7, 10, 12, 1, 9, 13, 1, 3, 12, 1, 1, 2, 3, 4, 5, 6, 7, 8, 9, 10, 11, 12, 13, 1, 2, 3, 4, 5, 6, 7, 8, 9, 10, 12, 13, 1, 2, 3, 4, 5, 6, 7, 8, 9, 10, 12, 13, 2, 4, 10, 13, 1, 2, 3, 4, 5, 6, 7, 8, 9, 10, 11, 12, 13, 1, 2, 3, 4, 6, 10, 12, 13, 1, 12, 1, 2, 3, 4, 5, 7, 8, 10, 12, 13, 4, 4, 2, 8, 10, 1, 3, 4, 5, 7, 8, 9, 10, 12, 13, 1, 5, 4, 5, 3, 4, 8, 9, 12, 2, 3, 4, 5, 8, 9, 10, 13, 1, 5, 4, 1, 6, 9, 2, 1, 3, 5, 6, 7, 8, 9, 1, 3, 4, 8, 12, 11, 1, 4, 5, 12, 2, 3, 5, 6, 8, 9, 10, 12, 13, 2, 9, 9, 9, 1, 7, 2, 4, 5, 6, 12, 2, 3, 8, 12, 13, 13, 1, 2, 3, 5, 6, 7, 8, 9, 10, 13, 12, 7, 6, 8, 9, 12, 6, 9, 12, 13, 1, 2, 3, 4, 7, 9, 10, 13, 6, 6, 1, 6, 8, 11, 1, 2, 3, 4, 5, 6, 7, 8, 9, 10, 12, 13, 12, 13, 1, 5, 8, 9, 9, 2, 3, 6, 7, 8, 9, 10, 13, 1, 2, 3, 4, 5, 6, 7, 8, 9, 10, 12, 13, 1, 2, 3, 5, 6, 7, 8, 9, 10, 11, 12, 13, 12, 3, 3, 5, 1, 2, 3, 4, 5, 6, 7, 8, 10, 12, 13, 9, 2, 5, 2, 3, 4, 5, 6, 8, 9, 10, 12, 3, 1, 3, 4, 5, 6, 9, 10, 11, 12, 13, 7, 12, 10, 13, 2, 3, 4, 7, 10, 13, 10, 4, 1, 2, 3, 4, 5, 7, 8, 3, 5, 7, 9, 11, 12, 3, 4, 7, 10, 13, 7, 12, 13, 11, 1, 5, 6, 1, 1, 5, 7, 9, 13, 1, 12, 6, 7, 1, 2, 6, 11, 1, 2, 5, 6, 8, 13, 2, 3, 7, 9, 3, 2, 8, 9, 3, 6, 3, 1, 2, 3, 4, 5, 6, 7, 8, 9, 10, 11, 12, 13, 1, 5, 1, 3, 5, 6, 9, 11, 12, 9, 1, 2, 5, 6, 9, 1, 7, 7, 9, 13, 6, 11, 1, 2, 3, 4, 5, 6, 7, 8, 9, 10, 11, 12, 13, 8, 4, 5, 5, 8, 2, 13, 1, 3, 4, 6, 12, 9, 7, 13, 6, 9, 4, 7, 10, 12, 7, 10, 13, 12, 12, 10, 4, 1, 2, 4, 5, 6, 7, 8, 9, 11, 12, 13, 5, 1, 1, 2, 3, 4, 5, 6, 7, 9, 11, 13, 1, 3, 4, 5, 7, 11, 12, 13, 1, 2, 5, 6, 8, 9, 11, 2, 3, 4, 8, 9, 10, 10, 5, 2, 3, 4, 6, 10, 12, 4, 1, 2, 3, 4, 5, 6, 7, 8, 9, 10, 12, 13, 3, 9, 1, 6, 11, 8, 2, 4, 13, 4, 13, 6, 7, 11, 1, 2, 5, 8, 11, 12, 13, 2, 8, 1, 4, 10, 13, 1, 2, 3, 4, 5, 7, 8, 9, 10, 13, 1, 2, 3, 4, 5, 7, 8, 9, 10, 12, 13, 3, 1, 2, 4, 7, 8, 10, 12, 7, 1, 2, 3, 4, 5, 6, 7, 8, 9, 10, 12, 13, 1, 2, 3, 4, 5, 6, 7, 8, 9, 10, 12, 13, 1, 2, 3, 4, 5, 6, 7, 8, 9, 10, 12, 13, 1, 6, 9, 7, 11, 4, 10, 13, 11, 3, 6, 8, 10, 12, 13, 1, 1, 2, 3, 4, 5, 6, 7, 8, 9, 10, 12, 13, 11, 1, 3, 4, 5, 6, 7, 8, 9, 10, 12, 13, 5, 6, 11, 3, 4, 5, 7, 8, 11, 5, 7, 8, 11, 13, 4, 6, 2, 8, 12, 1, 2, 5, 6, 8, 9, 11, 13, 4, 4, 12, 4, 10, 12, 13, 1, 3, 5, 7, 9, 12, 1, 2, 3, 4, 5, 6, 7, 8, 9, 10, 12, 13, 2, 4, 8, 9, 10, 12, 1, 3, 4, 7, 8, 12, 1, 2, 6, 8, 9, 12, 13, 2, 4, 6, 8, 9, 12, 1, 2, 4, 5, 6, 9, 11, 12, 13, 1, 2, 5, 6, 9, 11, 13, 13, 1, 2, 3, 4, 5, 6, 7, 8, 9, 10, 12, 13, 1, 2, 3, 4, 5, 6, 7, 8, 9, 10, 12, 13, 2, 3, 4, 5, 6, 8, 9, 10, 12, 13, 9, 1, 2, 3, 4, 5, 6, 7, 8, 9, 10, 12, 13, 1, 2, 3, 5, 6, 7, 8, 9, 11, 12, 1, 12, 5, 1, 2, 3, 4, 5, 6, 7, 8, 9, 10, 12, 13, 1, 2, 3, 4, 5, 6, 7, 8, 9, 10, 11, 12, 13, 1, 2, 3, 4, 5, 6, 7, 8, 9, 10, 12, 13, 13, 2, 3, 4, 7, 8, 10, 12, 13, 8, 8, 1, 2, 3, 4, 5, 7, 8, 9, 10, 11, 12, 13, 9, 9, 6, 1, 2, 4, 5, 7, 10, 11, 12, 13, 1, 3, 4, 5, 6, 7, 8, 9, 10, 13, 8, 6, 5, 6, 8, 5, 5, 6, 2, 4, 7, 8, 9, 1, 4, 5, 6, 7, 8, 9, 12, 13, 3, 1, 1, 2, 3, 5, 6, 7, 8, 9, 10, 11, 12, 2, 6, 9, 12, 1, 2, 3, 4, 5, 6, 7, 8, 9, 10, 12, 13, 11, 1, 2, 3, 4, 5, 6, 7, 8, 9, 11, 12, 13, 1, 2, 3, 4, 5, 6, 7, 8, 9, 10, 12, 13, 1, 2, 3, 4, 5, 6, 7, 8, 9, 10, 12, 13, 2, 3, 4, 5, 6, 9, 13, 3, 5, 7, 8, 9, 12, 11, 1, 5, 7, 8, 9, 12, 1, 2, 3, 4, 5, 6, 7, 9, 10, 12, 13, 7, 7, 2, 4, 7, 10, 2, 1, 4, 5, 6, 7, 8, 9, 10, 12, 13, 11, 12, 2, 5, 12, 1, 2, 4, 6, 7, 8, 9, 12, 6, 2, 2, 1, 2, 4, 5, 6, 7, 8, 9, 10, 12, 13, 2, 3, 6, 8, 10, 12, 13, 12, 1, 2, 3, 4, 5, 6, 7, 8, 9, 10, 12, 13, 1, 3, 4, 5, 6, 7, 8, 9, 12, 13, 6, 11, 5, 1, 8, 9, 9, 6, 8, 2, 3, 4, 5, 8, 9, 10, 13, 10, 10, 13, 10, 11, 10, 13, 2, 3, 12, 12, 3, 5, 6, 9, 12, 13, 4, 8, 12, 4, 8, 9, 1, 2, 3, 4, 5, 7, 8, 9, 10, 13, 7, 12, 1, 3, 4, 5, 6, 7, 8, 9, 12, 13, 1, 2, 3, 4, 5, 6, 7, 8, 9, 10, 11, 12, 13, 7, 10, 7, 3, 1, 3, 4, 1, 3, 4, 7, 9, 12, 1, 5, 1, 7, 8, 4, 6, 7, 9, 10, 12, 2, 6, 8, 10, 1, 12, 10, 13, 7, 6, 13, 6, 6, 3, 4, 9, 9, 2, 1, 2, 7, 10, 10, 13, 10, 3, 5, 9, 10, 1, 2, 3, 4, 5, 6, 7, 8, 9, 10, 12, 13, 11, 13, 2, 3, 4, 8, 9, 11, 12, 4, 2, 3, 8, 12, 3, 4, 5, 6, 7, 8, 9, 10, 12, 13, 3, 12, 1, 4, 5, 6, 7, 8, 9, 10, 12, 13, 8, 5, 11, 10, 1, 2, 3, 4, 5, 6, 7, 8, 9, 10, 12, 13, 1, 4, 2, 7, 3, 7, 9, 10, 11, 11, 8, 9, 4, 1, 2, 3, 4, 5, 6, 7, 8, 9, 10, 11, 12, 13, 2, 3, 5, 11, 13, 11, 3, 2, 2, 2, 2, 2, 8, 1, 2, 3, 4, 5, 8, 3, 12, 8, 13, 1, 2, 3, 4, 5, 6, 8, 9, 10, 12, 13, 3, 8, 2, 8, 11, 1, 2, 10, 11, 13, 12, 1, 5, 7, 9, 1, 5, 7, 9, 11, 10, 4, 10, 9, 8, 4, 1, 3, 4, 5, 6, 7, 8, 9, 10, 11, 12, 13, 10, 1, 4, 13, 10, 8, 1, 2, 4, 5, 8, 9, 11, 12, 8, 9, 1, 6, 12, 10, 10, 1, 2, 3, 4, 7, 10, 12, 13, 1, 2, 8, 9, 2, 8, 1, 2, 3, 5, 6, 7, 8, 9, 10, 13, 4, 1, 3, 5, 7, 8, 10, 12, 13, 1, 2, 3, 4, 5, 6, 7, 9, 10, 11, 12, 13, 1, 3, 4, 6, 12, 13, 3, 2, 8, 10, 9, 9, 4, 5, 4, 4, 7, 1, 3, 6, 10, 13, 1, 2, 3, 4, 5, 6, 7, 8, 9, 10, 11, 12, 13, 2, 6, 9, 13, 3, 7, 13, 6, 11, 7, 2, 8, 9, 13, 11, 4, 5, 7, 11, 12, 3, 7, 10, 13, 3, 7, 13, 13, 13, 13, 5, 1, 2, 3, 7, 9, 12, 7, 1, 4, 8, 9, 12, 1, 3, 1, 2, 4, 5, 4, 4, 5, 13, 7, 1, 2, 5, 6, 13, 6, 6, 6, 13, 1, 2, 3, 7, 13, 1, 10, 10, 6, 10, 6, 10, 3, 5, 8, 6, 8, 9, 1, 2, 3, 5, 10, 13, 5, 6, 7, 9, 12, 7, 13, 10, 10, 13, 10, 10, 10, 13, 11, 1, 2, 3, 4, 5, 6, 7, 8, 9, 10, 12, 13, 3, 12, 13], \"Freq\": [0.9809527939710376, 0.9986731392916766, 0.9908977661990619, 0.15738829486341202, 0.20235637911010115, 0.6006451252950622, 0.0010706686725402178, 0.018201367433183704, 0.0021413373450804357, 0.018201367433183704, 0.1957582951252892, 0.0019382009418345465, 0.8004769889776677, 0.07170812219418661, 0.0005646308834187922, 0.07537822293640876, 0.2261346688092263, 0.003952416183931546, 0.03303090667999935, 0.006493255159316111, 0.130429734069741, 0.04460583979008459, 0.2478729578208498, 0.054204564808204056, 0.10558597519931415, 0.025780547984801182, 0.6067636114994278, 0.01657320941880076, 0.00414330235470019, 0.057085499109202624, 0.04511595897340207, 0.04649705975830214, 0.08470751480720388, 0.10358255886750475, 0.010588439350900486, 0.1412856982298492, 0.002783954644923137, 0.039671353690154704, 0.5108556773433957, 0.0013919773224615685, 0.027143557788000587, 0.08282265068646333, 0.09813440123354059, 0.09674242391107901, 0.06561246676661782, 0.9338841103115268, 0.9980275567352143, 0.995070462400998, 0.3872868075746851, 0.0014134555020973907, 0.048057487071311286, 0.11979035380275387, 0.0533579452041765, 0.025088835162228686, 0.02438210741117999, 0.057244947834944326, 0.2526551709999086, 0.014841282772022603, 0.016254738274119995, 0.03529177475896029, 0.002138895439936987, 0.9400445458523058, 0.02138895439936987, 0.9924708189112333, 0.00947819283520004, 0.13620514148361537, 0.08249538208414849, 0.2239661862539861, 0.014041767163259318, 0.007020883581629659, 0.23800795341724543, 0.003861485969896312, 0.16779911760094884, 0.0287856226846816, 0.08881417730761518, 0.0272618314702133, 0.08388255836988708, 0.8849609908023086, 0.9721394264941675, 0.022491764077152608, 0.08996705630861043, 0.8828017400282399, 0.0385880280529184, 0.16609629466256182, 0.743238975106211, 0.006710961400507548, 0.03355480700253774, 0.001677740350126887, 0.008388701750634435, 0.9949309635036253, 0.004475245724092209, 0.13937193826458594, 0.8560505749370669, 0.0025173129490027465, 0.12133448414193237, 0.8755214436631551, 0.01852970700198763, 0.16918428132249577, 0.793554843345992, 0.01852970700198763, 0.9913508839512816, 0.9777817541957533, 0.033059404878843436, 0.11507215928982042, 0.06484729418542366, 0.07946972326645058, 0.20534976492050827, 0.4037061941935689, 0.04704607617373874, 0.05213213846279158, 0.11183260297783693, 0.11123853868578999, 0.01455457515515009, 0.3297056820860531, 0.06118862208083508, 0.003118837533246448, 0.0950502867275108, 0.04113895222425077, 0.0010396125110821493, 0.1409417532881371, 0.09029777239113526, 0.03431509212519015, 0.047796021174372, 0.0073532340268264605, 0.14461360252758707, 0.029412936107305842, 0.6041907292042409, 0.08946434732638861, 0.04289386515648769, 0.003561856756060567, 0.003561856756060567, 0.0007123713512121134, 0.6824517544612047, 0.0014247427024242267, 0.069100021067575, 0.21584851941727037, 0.022083511887575517, 0.0018313355405382879, 0.0006104451801794293, 0.009767122882870868, 0.0647071890990195, 0.6898030536027551, 0.08790410594583782, 0.0006104451801794293, 0.0012208903603588585, 0.1440650625223453, 0.04149082945035426, 0.06569381329639425, 0.8747649875783023, 0.015559061043882848, 0.0017287845604314275, 0.9959140687706071, 0.005698028823038118, 0.8205161505174889, 0.03798685882025412, 0.017094086469114353, 0.11775926234278776, 0.9641654729278543, 0.007323807135126453, 0.05419617279993576, 0.013182852843227616, 0.2885580011239823, 0.058590457081011627, 0.5756512408209392, 0.9906254247990456, 0.008703578013410145, 0.05450581887252031, 0.6238706565543879, 0.025779779196462307, 0.042168353114213346, 0.000736565119898923, 0.02172867103701823, 0.054137536312570844, 0.07439307710979123, 0.005708379679216654, 0.027989474556159077, 0.053585112472646655, 0.015467867517877385, 0.9953383486945256, 0.9868804143114455, 0.006433241182258588, 0.9888810731586059, 0.003676137818433479, 0.9945481307042896, 0.2722288611170351, 0.020097432699915343, 0.0018270393363559402, 0.6979290264879692, 0.007308157345423761, 0.9960670357431896, 0.9913388804734704, 0.9838675237327477, 0.9911040430221167, 0.03838975008845113, 0.004798718761056391, 0.007198078141584586, 0.846973861326453, 0.07198078141584587, 0.004798718761056391, 0.02639295318581015, 0.9952073100592284, 0.026261169971500176, 0.1555153659249776, 0.39678986503813546, 0.04103307808046902, 0.06647358649035982, 0.004923969369656283, 0.30856874716512706, 0.993252958812043, 0.004095563577574441, 0.010600282200780907, 0.10311183595305064, 0.0004818310091264048, 0.04047380476661801, 0.6834772864458052, 0.023368803942630634, 0.0007227465136896073, 0.07564746843284556, 0.012286690732723322, 0.04577394586700846, 0.9839015799085642, 0.9995557462480508, 0.9820869430208194, 0.9840180687825139, 0.9949011412426556, 0.08046229004651508, 0.015645445286822376, 0.6489134688010614, 0.04321122983979513, 0.03501599659431674, 0.033525954186047945, 0.0014900424082687977, 0.008940254449612786, 0.023095657328166364, 0.005960169633075191, 0.061091738739020705, 0.041721187431526335, 0.013665034740033702, 0.014279193604754319, 0.685094213595847, 0.002917254607422925, 0.09765125949057792, 0.002303095742702309, 0.003377873755963387, 0.02011370281960017, 0.0018424765941618476, 0.018578305657798628, 0.02794422834478802, 0.11193045309533223, 0.9923969442411968, 0.008012643603885454, 0.9374793016545981, 0.048075861623312725, 0.810794394396709, 0.1426397545697914, 0.000938419437959154, 0.04504413302203939, 0.12834826659734683, 0.23133430087306223, 0.022416114425684325, 0.08915208937300736, 0.2271072621527903, 0.09875899555544351, 0.045985057593260985, 0.022416114425684325, 0.014730589479735413, 0.00038427624729744556, 0.058538081671644204, 0.0607156470729964, 0.9974828717412303, 0.008774926535515802, 0.9871792352455279, 0.0021171891269168744, 0.9971960787778478, 0.01100199619099548, 0.000733466412733032, 0.4034065270031676, 0.013935861841927608, 0.005134264889131224, 0.12982355505374665, 0.015036061461027156, 0.02383765841382354, 0.3443624807781585, 0.05244284851041179, 0.028798819840833018, 0.1439940992041651, 0.7895676439695052, 0.026398918187430266, 0.009599606613611006, 0.9924819452461499, 0.010289329042705108, 0.03601265164946788, 0.0012861661303381385, 0.011575495173043246, 0.0012861661303381385, 0.5350451102206656, 0.03601265164946788, 0.3408340245396067, 0.02700948873710091, 0.9868075286170782, 0.9946978524279527, 0.9966047345747635, 0.03329359328667656, 0.9548126931857599, 0.011890569030955915, 0.9945165310085435, 0.9966924790316402, 0.9948666946447151, 0.010150484567933105, 0.9642960339536449, 0.02030096913586621, 0.005075242283966552, 0.982233415807885, 0.08911157889558072, 0.04566968418398512, 0.02227789472389518, 0.8198265258393426, 0.02227789472389518, 0.01652902486419704, 0.15030393276509843, 0.013443606889546926, 0.09851298819061437, 0.014986315876871985, 0.020495990831604333, 0.3385144292187554, 0.00044077399637858775, 0.008154318933003873, 0.3166961163980153, 0.006391222947489523, 0.015206702875061278, 0.13287656654471813, 0.8592684636558439, 0.004429218884823938, 0.9965597534992496, 0.9814844648301537, 0.01707919602372657, 0.9989532873959476, 0.9963548191412526, 0.0014274424342997887, 0.0014274424342997887, 0.9667215069464796, 0.9972877746208693, 0.15477780658095092, 0.8353449266942498, 0.009104576857702995, 0.9923833734921937, 0.0035364012120501736, 0.9937287405860987, 0.9932212560226874, 0.008434809708912623, 0.9784379262338643, 0.9972911906498957, 0.002238588531200664, 0.16871167995659198, 0.02093502598001506, 0.050490356775330446, 0.017856345688836376, 0.008004568757064583, 0.11267969865713989, 0.4581076273273884, 0.015393401455893428, 0.14716091791834118, 0.9924743706983962, 0.045811261936063184, 0.29319207639080436, 0.005680596480071835, 0.0023821856206752857, 0.00018324504774425274, 0.007879537053002867, 0.002748675716163791, 0.6420906472958616, 0.9867895701157299, 0.9106364299906324, 0.08908399858604013, 0.8305868465618287, 0.015425184293291103, 0.15306529029496557, 0.888588309634574, 0.05942788058065622, 0.03678868797850147, 0.01414949537634672, 0.993473639413142, 0.9867592606604991, 0.9969678310825796, 0.987016832640843, 0.00775966826541855, 0.4972654080089054, 0.0001293278044236425, 0.08664962896384047, 0.4081585507610157, 0.998197508539703, 0.9796487953246267, 0.9895923223811008, 0.9880482733779636, 0.9903805957664067, 0.953593636742716, 0.04461256780082882, 0.9906293988860683, 0.0004344658437973273, 0.2889197861252226, 0.31107754415888633, 0.004344658437973273, 0.059956286444031164, 0.03910192594175945, 0.010427180251135855, 0.0669077399447884, 0.014771838689109126, 0.007385919344554563, 0.19681302724018926, 0.11366753745395362, 0.14889641253720023, 0.02539381155886198, 0.0286184225504635, 0.021443663094150116, 0.09867309634300654, 0.09061156886400275, 0.13769088934138496, 0.030553189145424414, 0.06618514060262122, 0.1895265110313794, 0.017009822980698024, 0.03168180299248494, 0.9837202587427095, 0.9931215841793922, 0.9872780554650243, 0.9770524157495442, 0.9909480654067124, 0.006756464082318494, 0.9933677341573005, 0.1697753066728536, 0.03395506133457072, 0.03272033183149542, 0.12532504456214283, 0.02119618980279263, 0.16668848291516536, 0.45026469212145903, 0.04818216438022949, 0.0077091463008367184, 0.04240030465460195, 0.04818216438022949, 0.8518606662424574, 0.9924070731435369, 0.6606314594607429, 0.0006693327856745115, 0.022087981927258877, 0.015394654070513764, 0.008031993428094138, 0.24363713398552217, 0.011378657356466695, 0.0033466639283725574, 0.0006693327856745115, 0.03346663928372557, 0.9859266722159513, 0.008648479580841677, 0.9889609795305664, 0.9924177072723649, 0.035503897667887224, 0.3149041358369128, 0.07795421009688283, 0.5086319252856017, 0.06251773284997533, 0.044079658603120644, 0.19101185394685613, 0.7611087718805498, 0.10302796361841851, 0.6465348143601156, 0.0020605592723683705, 0.0035029507630262298, 0.005426139417236709, 0.12569411561447058, 0.06257231657091951, 0.00020605592723683703, 0.00041211185447367405, 0.05048370217302507, 0.9924542525057368, 0.998774690959233, 0.02509999127138818, 0.8063372195933454, 0.014118745090155854, 0.15216869708279085, 0.9678743487553284, 0.030500242082625896, 0.9934696955582387, 0.9496736074954722, 0.048135515480235126, 0.0010028232391715653, 0.9899061576421597, 0.9941951220063036, 0.02726746117317261, 0.06736666878077939, 0.024861508716716205, 0.006415873217217085, 0.08661428843243066, 0.5830424786146027, 0.17804048177777412, 0.0008019841521521357, 0.026465477021020478, 0.03558188112911142, 0.05218675898936342, 0.30333553662567486, 0.015122299479872354, 0.046552961143920775, 0.1322459915298641, 0.4142323994780721, 0.0002965156760759285, 0.0014281967214300746, 0.0007140983607150373, 0.022137049182166156, 0.9547495082760048, 0.02070885246073608, 0.9518032680091751, 0.04654687145407434, 0.13853035448229822, 0.018227678221355032, 0.025518749509897045, 0.014582142577084024, 0.0009113839110677515, 0.7792332439629276, 0.02278459777669379, 0.017141090333641116, 0.9794908762080637, 0.04136789819979744, 0.005812018755343442, 0.6769292432694127, 0.022564308108980424, 0.024273725389963786, 0.06803480778313795, 0.010940270598293538, 0.0006837669123933461, 0.04136789819979744, 0.06051337174681113, 0.04752180041133756, 0.007526592887799374, 0.3520772895292818, 0.015053185775598749, 0.47166648763542746, 0.11540775761292374, 0.03763296443899687, 0.0009865073100656075, 0.12429992106826654, 0.004439282895295234, 0.8671399255476689, 0.0024662682751640185, 0.0004932536550328037, 0.0065697534271029435, 0.009854630140654415, 0.9394747400757208, 0.029563890421963245, 0.013139506854205887, 0.9804957251789274, 0.014969400384411104, 0.003742350096102776, 0.12299231757260047, 0.00031216324257005195, 0.021539263737333583, 0.6489873813031379, 0.003433795668270571, 0.12455313378545073, 0.0018729794554203116, 0.04495150693008748, 0.028094691831304676, 0.0031216324257005196, 0.009630413795317705, 0.7433475648260853, 0.032502646559197254, 0.004213306035451496, 0.20946150004816008, 0.03669957268999495, 0.03217496783780379, 0.7229313086056539, 0.20410995222106781, 0.004021870979725474, 0.0010966022857005872, 0.06250633028493346, 0.11404663771286107, 0.8220861801802068, 0.9294747878545305, 0.04814012845461712, 0.02036697742310724, 0.035184902579273425, 0.9587885952852009, 0.9889686210960844, 0.9926134770251583, 0.7081885476173622, 0.0020272572927977927, 0.1351504861865195, 0.06554798580046196, 0.08852356845217027, 0.07501688917620755, 0.033743656469595214, 0.028445065784286877, 0.15282251029205107, 0.16899715554193967, 0.34803374606656884, 0.0011154927758543873, 0.05800562434442814, 0.003067605133599565, 0.0262140802325781, 0.10374082815445802, 0.0011154927758543873, 0.9613450501258678, 0.008583437947552392, 0.0017166875895104781, 0.025750313842657174, 0.9611250888072583, 0.002414887157807182, 0.03380842020930055, 0.051099599855962415, 0.9481814639939692, 0.0022972108498027512, 0.5553507229398151, 0.2659021558646684, 0.025269319347830263, 0.11428623977768687, 0.029289438334985075, 0.006891632549408253, 0.003831489247991268, 0.994910041395066, 0.19994065823735155, 0.006449698652817791, 0.7320407970948194, 0.027411219274475616, 0.03224849326408896, 0.45736990035315295, 0.025444778879174016, 0.0006361194719793504, 0.03180597359896752, 0.0025444778879174018, 0.4707284092647193, 0.0006361194719793504, 0.0019083584159380513, 0.009541792079690256, 0.9816962709279182, 0.01599801330401052, 0.002181547268728707, 0.9776006974816971, 0.00076018716755964, 0.01292318184851388, 0.0076018716755964005, 0.9946785043669963, 0.0004184184157358627, 0.6682142099301728, 0.3280400379369164, 0.0033473473258869017, 0.9929934104128354, 0.8990163071725116, 0.00014830358085986663, 0.00014830358085986663, 0.10054982782298959, 0.5440069277741293, 0.023980154246970437, 0.0013702945283983105, 0.4302724819170695, 0.9740922214787789, 0.0009750672887675465, 0.0009750672887675465, 0.00048753364438377324, 0.023401614930421116, 0.998605700807408, 0.9901234747200418, 0.04252993809328603, 0.061432132801413145, 0.03150365784687854, 0.08348469329422813, 0.007875914461719634, 0.6332235227222586, 0.04883066966266173, 0.05355621833969351, 0.03780438941625425, 0.06370937952573195, 0.9301569410756865, 0.9960867244168422, 0.9868426420954662, 0.07885671669576191, 0.011428509666052453, 0.0017142764499078677, 0.08914237539520913, 0.10742799086089305, 0.011428509666052453, 0.4851402353239266, 0.09428520474493272, 0.018857040948986544, 0.038285507381275716, 0.03657123093136785, 0.026856997715223263, 0.1724336117966978, 0.014004760348970378, 0.0008752975218106487, 0.1260428431407334, 0.5663174966114897, 0.08577915713744358, 0.03151071078518335, 0.0008752975218106487, 0.0035011900872425946, 0.9834485901121709, 0.007995516992781877, 0.9961277646373395, 0.9925871572860687, 0.9872130128602177, 0.9885794829970926, 0.999535969754231, 0.04079951822122811, 0.0007095568386300541, 0.105014412117248, 0.6953657018574531, 0.08088947960382617, 0.07698691699136087, 0.039433547835618185, 0.9584066626135028, 0.9960504319611011, 0.34457069753821684, 0.01659044099258081, 0.037009445291141814, 0.0306285064478415, 0.039561820828461935, 0.029352318679181436, 0.5028179808520646, 0.11526400793498465, 0.09607976452352228, 0.007293183445679909, 0.08545708428742328, 0.028062901519246605, 0.13920467533276, 0.0034880442566295215, 0.04138088868092296, 0.0038051391890503872, 0.0007927373310521639, 0.47928899035413836, 0.01263708920820437, 0.1642821597066568, 0.0018052984583149098, 0.0180529845831491, 0.06679604295765167, 0.6661551311182017, 0.0722119383325964, 0.9940061190585342, 0.0037089780561885607, 0.9938094302632093, 0.9976293793972234, 0.9811397329620564, 0.023048927161759, 0.03490266113066363, 0.03951244656301543, 0.01646351940125643, 0.04873201742771903, 0.37734386467679737, 0.054000343636121086, 0.0069146781485277, 0.00954884125272873, 0.01679278978928156, 0.363514508379742, 0.00954884125272873, 0.0002223780578611705, 0.012230793182364377, 0.5499409370906746, 0.02423920830686758, 0.061598722027544225, 0.15099470128773476, 0.000444756115722341, 0.10585195554191715, 0.004002805041501069, 0.016678354339587788, 0.07405189326776977, 0.9734738748605793, 0.023400814299533158, 0.9961463778006548, 0.9822334173524822, 0.9932578378915708, 0.005548926468667993, 0.9822578760659921, 0.01902370150296272, 0.9778182572522838, 0.10021569383445338, 0.8980867947472169, 0.04751942847536033, 0.00010824471178897569, 0.16009392873589504, 0.05055028040545165, 0.10586332812961823, 0.13747078397199913, 0.09103380261452855, 0.12751227048741337, 0.08324018336572231, 0.044055597698113104, 0.00021648942357795138, 0.06473033764980746, 0.0876782165490703, 0.05389335594488293, 0.026447665417396255, 0.5464187477745075, 0.0004990125550452123, 0.3607860772976885, 0.010978276210994672, 0.0009980251100904247, 0.050126364524126006, 0.009764876205998573, 0.8853487760105373, 0.05468330675359201, 0.9783749666616801, 0.0006988392619012001, 0.015374463761826402, 0.005590714095209601, 0.04103164835863534, 0.9566852748881819, 0.07226200170069835, 0.6559597208644788, 0.24535470344888277, 0.0005601705558193671, 0.0005601705558193671, 0.02520767501187152, 0.9940394438152725, 0.9923488431708444, 0.013884590071967651, 0.030973316314389376, 0.8213269050263942, 0.05233422411741653, 0.08010340426135183, 0.006471873492239436, 0.012943746984478872, 0.9837247708203943, 0.9948568756834387, 0.0980401273865021, 0.22446029164804426, 0.021500027935636424, 0.027520035757614622, 0.012040015643956398, 0.005160006704552742, 0.6080207900197981, 0.0034400044697018278, 0.0031521131851317157, 0.9960677665016222, 0.9868473581115174, 0.008023149252939166, 0.43004717875196685, 0.041071921566199085, 0.5202443398385217, 0.008321761885961905, 0.9837740248286644, 0.009111139785968789, 0.018222279571937578, 0.9384473979547853, 0.027333419357906365, 0.9734169968019599, 0.00011016443473171448, 0.00011016443473171448, 0.11269821673054391, 0.8869338640250333, 0.9895619689245945, 0.9921586196058849, 0.9886165727573243, 0.01263120858915582, 0.12582627017659068, 0.4139149891523369, 0.1637198959440581, 0.08161704011454529, 0.019918444313668793, 0.17392202595837628, 0.005829788579610379, 0.0029148942898051893, 0.00012092144471153981, 0.35768563345673476, 0.046071070435096666, 0.017170845149038653, 0.001813821670673097, 0.5764325269399103, 0.0007255286682692388, 0.4567274559862178, 0.0030104446251445617, 0.006020889250289123, 0.5341388892042208, 0.9919229895315146, 0.020950355900307478, 0.03928191731307652, 0.14577955980630622, 0.049757095263230265, 0.6276377455133783, 0.004364657479230725, 0.11173523146830655, 0.988166875350021, 0.9847850428647889, 0.04971414395715703, 0.44979463580284934, 0.4503864708499583, 0.04320395843895789, 0.006510185518199135, 0.9994392221325772, 0.015487099055070636, 0.11345200470575001, 0.3832156603394223, 0.04610113207090794, 0.0003601650943039683, 0.015126933960766668, 0.12389679244056509, 0.007923632074687303, 0.0014406603772158732, 0.11417233489435795, 0.07203301886079366, 0.10696903300827858, 0.008325652559137028, 0.0003330261023654811, 0.3007225704360294, 0.04262734110278158, 0.43060275035856704, 0.0013321044094619244, 0.055615359095035344, 0.049953915354822166, 0.019315513937197902, 0.004995391535482216, 0.08592073441029412, 0.06745390580634482, 0.038126120673151416, 0.893031057305739, 0.26311915759589277, 0.299610135656637, 0.0053776178194781, 0.09257184960673015, 0.002496751130471975, 0.29826573120176747, 0.00038411555853415, 0.00576173337801225, 0.001728520013403675, 0.03034512912419785, 0.3187366373924554, 0.5620427182489738, 0.031193087289297237, 0.07429626245268978, 0.012477234915718893, 0.0005671470416235861, 0.9902963624256279, 0.0494663833083617, 0.0023911242686821365, 0.8859115415467316, 0.06201978571894291, 0.9754720803764017, 0.9056986308379332, 0.010728907769057452, 0.012070021240189634, 0.004917416060817999, 0.0460448958422049, 0.002682226942264363, 0.017881512948429087, 0.01791397807130363, 0.9699139555748679, 0.010236558897887788, 0.900963487054752, 0.07528266333880677, 0.021856257098363256, 0.04171398668759648, 0.10660241042385768, 0.8273274026373302, 0.016222105934065298, 0.006952331114599414, 0.0004949940152249079, 0.0039599521217992635, 0.015344814471972144, 0.7261562203349399, 0.11582859956262845, 0.04157949727889226, 0.0004949940152249079, 0.09553384493840722, 0.9923381191875252, 0.0463135385661282, 0.014620163657527758, 0.2711108200385852, 0.10773785030849314, 0.16700348016853855, 0.09429514949586694, 0.01893752742216683, 0.0296328149300227, 0.09056651715367865, 0.04268302812768171, 0.046706026181095386, 0.07025528307912668, 0.980719376107038, 0.005152641205466049, 0.008587735342443415, 0.005152641205466049, 0.9973027886397376, 0.08475330749556755, 0.2286108952183072, 0.13382101183510664, 0.0011151750986258889, 0.015612451380762444, 0.50182879438165, 0.030109727662898995, 0.003903112845190611, 0.9978711648603726, 0.02659898365007973, 0.8417796002201703, 0.028163629747143246, 0.02972827584420676, 0.05006867510603243, 0.023469691455952704, 0.21136202211024108, 0.004084290282323499, 0.7698887182179796, 0.007147507994066124, 0.0010210725705808747, 0.0030632177117426245, 0.004084290282323499, 0.03547783232511197, 0.11787795901569463, 0.11530295505661392, 0.1384779906883403, 0.007725011877242124, 0.05350286003867693, 0.022316700978699467, 0.006580565673206254, 0.032616716815022304, 0.014591689101457346, 0.29154767047813795, 0.08755013460874407, 0.0766778956704033, 0.005804114975145024, 0.8810646532270147, 0.0034824689850870144, 0.04759374279618919, 0.023216459900580095, 0.017992756422949573, 0.004643291980116019, 0.015671110432891565, 0.9884425872130183, 0.030309188578361013, 0.9547394402183719, 0.02133853458779667, 0.2328988742181229, 0.017267366804598623, 0.004632708167087435, 0.008563490854313138, 0.01249427354153884, 0.04029052254406345, 0.008984646142230178, 0.0028077019194469306, 0.04843285811045955, 0.5584519117779945, 0.0025269317275022373, 0.04113283311989753, 0.9925420539333848, 0.9935032954536522, 0.004254309998914793, 0.06121479387327398, 0.0051997122208958585, 0.00898132110882012, 0.0028362066659431955, 0.19546190939458524, 0.003781608887924261, 0.07161421831506569, 0.05294252443093966, 0.023398704994031364, 0.1978254149495379, 0.0217442511055645, 0.3512169254659657, 0.044587501862550505, 0.06919980289067838, 0.22008390919354928, 0.07312350305458283, 0.20581590859753313, 0.0032103001341036363, 0.005707200238406465, 0.03495660146023959, 0.34350211434908906, 0.9982046827984323, 0.979073919426057, 0.9939175620112947, 0.9981547807682614, 0.9962363869883026, 0.9830339297373955, 0.9902921392750917, 0.9808471923862653, 0.015487060932414715, 0.9940681290158058, 0.9881658417819187, 0.992463925471494, 0.9868426424081026, 0.9928154706407594, 0.9974804770571862, 0.9929806396880982, 0.9842385951863875, 0.01696512702301994, 0.014438405977038249, 0.31331340970173, 0.01985280821842759, 0.14618886051751226, 0.0014438405977038249, 0.23895561891998301, 0.23859465877055705, 0.0003609601494259562, 0.001804800747129781, 0.007941123287371036, 0.9968778090921829, 0.0023716363420115375, 0.9812066031049043, 0.010665289164183743, 0.9934141048159214, 0.017675609933878796, 0.0014331575622063889, 0.5966712650652599, 0.07882366592135139, 0.0004777191874021296, 0.0128984180598575, 0.004299472686619166, 0.2871092316286799, 0.9984425355084292, 0.9827950577589334, 0.016458290440939074, 0.005159522083467283, 0.964830629608382, 0.025797610417336414, 0.0030483991015933048, 0.02133879371115313, 0.03048399101593305, 0.9450037214939244, 0.8650444937406647, 0.13375687981250162, 0.006911118483889868, 0.0003455559241944934, 0.991745502438196, 0.0006911118483889868, 0.9966616969010055, 0.04124785285826599, 0.007027411968445316, 0.001222158603207881, 0.035442599493028554, 0.9013419698658123, 0.013138204984484722, 0.9909033852095179, 0.5651612048194882, 0.1234469384238444, 0.009832057042607076, 0.03605087582289261, 0.0021849015650237946, 0.01638676173767846, 0.22322410989326433, 0.02330561669358714, 0.9991761979142607, 0.00734238420839184, 0.07893063024021227, 0.040383113146155114, 0.01284917236468572, 0.06057466971923268, 0.00183559605209796, 0.7984842826626125, 0.9981875443798576, 0.0220612101091622, 0.9706932448031369, 0.17646856636253871, 0.0009191071164715558, 0.024815892144732007, 0.7954872093061315, 0.0018382142329431115, 0.07300405664183499, 0.07810554493728851, 0.22815966617942163, 0.024100134361280466, 0.15920161749604977, 0.07564275748431094, 0.0650879541144071, 0.16236805850702093, 0.019526386234322127, 0.016008118444354177, 0.07441136375782216, 0.02445196114027726, 0.9808149264216929, 0.9837500046983414, 0.009010193792545251, 0.12778093014882358, 0.36614151138797524, 0.02539236432444571, 0.03685988369677603, 0.022115930218065617, 0.03767899222337105, 0.004914651159570137, 0.3694179454943553, 0.08746899161724561, 0.876404994439461, 0.010290469602028895, 0.003430156534009632, 0.00857539133502408, 0.015435704403043343, 0.9954947491179482, 0.989592322114574, 0.008582148977272686, 0.01662791364346583, 0.017164297954545372, 0.937599775767041, 0.019309835198863545, 0.08030108548725166, 0.9190013116874357, 0.28669634211437084, 0.05863378045898156, 0.10470317939103849, 0.031601323234386164, 0.377692923476037, 0.003045910673193847, 0.026270979556296932, 0.0456886600979077, 0.014087336863521543, 0.019798419375760004, 0.0007614776682984617, 0.03045910673193847, 0.00038073883414923085, 0.017017010745601767, 0.981314286329702, 0.9818081421321834, 0.9839648114880846, 0.9890023215151026, 0.21935331307136777, 0.7788632130794942, 0.2735632723221692, 0.014052131635438683, 0.12533594829673536, 0.00385300383552351, 0.36422218609919293, 0.014052131635438683, 0.07909990227045323, 0.05280881727511634, 0.0541687009817717, 0.01133236422212797, 0.005439534826621426, 0.0020398255599830347, 0.0244961792485239, 0.9706611027227595, 0.9923664457235851, 0.9874138883424554, 0.034019208968544476, 0.00014354096611200203, 0.6668913285563614, 0.02755986549350439, 0.0004306228983360061, 0.020239276221792286, 0.00014354096611200203, 0.005885179610592083, 0.0005741638644480081, 0.0008612457966720122, 0.18689033787782663, 0.05612451774979279, 0.09869196130728973, 0.8980968478963365, 0.9680828080919903, 0.002392296889848411, 0.02950499497479707, 0.9930164789212109, 0.10392182683110951, 0.04522523945427914, 0.04907419600357949, 0.6254554392613072, 0.03367836980637808, 0.007697913098600705, 0.0057734348239505285, 0.012509108785226144, 0.05099867427822967, 0.010584630510575968, 0.05484763082753002, 0.9912288344882925, 0.9931866080350699, 0.9945649110422797, 0.002088042094180784, 0.3466149876340101, 0.6493810912902238, 0.9937075121067379, 0.003958994072138398, 0.9924859359652413, 0.9977892352306051, 0.9914373427629066, 0.9894982508080236, 0.9997398544812084, 0.03751271620431241, 0.9565742632099664, 0.9971560402451212, 0.9913055339278589, 0.0002593119259999206, 0.0005834518334998214, 0.8569610874482376, 0.03922092880748799, 0.10301166260346846, 0.9837348900946782, 0.998884783067984, 0.8685022763198569, 0.08739078921475739, 0.04324492662173562, 0.04422758217317445, 0.3617420153865612, 0.02376407400349672, 0.007261244834401776, 0.0006601131667637978, 0.0003300565833818989, 0.16634851802447703, 0.007591301417783675, 0.010231754084838866, 0.033005658338189886, 0.34292879013379296, 0.0023103960836732924, 0.9924083433290591, 0.9757382478063229, 0.02346464724183542, 0.015253185718190116, 0.9666706448902986, 0.01715983393296388, 0.9628343764502695, 0.03557817557322012, 0.9937149758718746, 0.9638904870370449, 0.032859902967171985, 0.9191979266638002, 0.07190124468557582, 0.0031036508497370857, 0.005690026557851324, 0.8586866214330058, 0.14130286175479842, 0.9890075206291332, 0.9983245893503312, 0.987810232137978, 0.9868037197537259, 0.007958094514142951, 0.03323410585478475, 0.8041466684505953, 0.16201626604207567, 0.002334622415884966, 0.41381182321561016, 0.007003867247654897, 0.5001928526033539, 0.07587522851626138, 0.9994788122523941, 0.9932099960191494, 0.998063474013246, 0.021168690270808255, 0.014726045405779657, 0.7918317331732769, 0.01902114198246539, 0.015646423243640885, 0.056756633334775757, 0.02300944594653071, 0.05767701117263699, 0.9931920498152654, 0.88768706086201, 0.11169572288992179, 0.27376476043233355, 0.5887697251605636, 0.13688238021616678, 0.9417763192621653, 0.0191085050285077, 0.0382170100570154, 0.9624872164821932, 0.023845404011946226, 0.013006584006516123, 0.9996943364326129, 0.02705066674101986, 0.0036067555654693147, 0.1731242671425271, 0.14629902262434907, 0.1233059558944822, 0.020062577832923065, 0.006086400016729469, 0.03719466676890231, 0.0701063113038098, 0.09918577805040615, 0.00022542222284183217, 0.14900408929845108, 0.14494648928729809, 0.07144369503547332, 0.06885247293574114, 0.12956110498660967, 0.03960868066733495, 0.08365945636278224, 0.08551032929116237, 0.010364888398928773, 0.04775252155220756, 0.008143840884872607, 0.11771551824497678, 0.14399791382797472, 0.19323113372288642, 0.11897903391734713, 0.07181377299154547, 0.08606993942957027, 0.1429613699813141, 0.12017815072054548, 0.08606993942957027, 0.07487818259971903, 0.08407141142423968, 0.09686199065835539, 0.030777331282090915, 0.05396025614392563, 0.03357527048955373, 0.9363078370721439, 0.0004972426112969431, 0.0629011903290633, 0.00024862130564847157, 0.04324122540582858, 0.3628090535146933, 0.12213749632172634, 0.04987913281461805, 0.061258402658257154, 0.01024134285927519, 0.07187905451232031, 0.016120632278488724, 0.06732734657486468, 0.10089619261360001, 0.00037930899478797, 0.04229295291885866, 0.05158602329116392, 0.6775233965257432, 0.011586808761466356, 0.1902675965040791, 0.004878656320617412, 0.06586186032833508, 0.0006098320400771765, 0.04451773892563389, 0.004268824280540236, 0.9732404285196679, 0.024129927979826476, 0.14444092201713496, 0.21051496081220733, 0.08814528219807752, 0.24166614612151208, 0.0023747540370321995, 0.1433233907055904, 0.0062861136274381755, 0.14276462504981813, 0.017042352501054608, 0.003212902520690623, 0.9951363904303132, 0.9906557132993377, 0.9712267116746308, 0.011953559528303149, 0.014941949410378937, 0.2896193536696161, 0.025573452862659257, 0.35909390061317376, 0.06457296847821463, 0.0055409147869095055, 0.15663739878378796, 0.0596713900128716, 0.00021311210718882715, 0.021950547040449197, 0.016835856467917343, 0.004333991134320826, 0.9946509653266294, 0.9737774216598566, 0.022558550308722548, 0.4849347810476111, 0.00045576577166128864, 0.35367423880916, 0.021876757039741852, 0.13855279458503175, 0.10934257098180279, 0.006984437353463174, 0.4544701133098279, 0.04286999479022224, 0.016858986715255937, 0.00818865069026717, 0.3600597877043947, 0.0009633706694431964, 0.9965541639751414, 0.0025197323994314573, 0.9897104558343255, 0.013856734147453148, 0.9813828184431523, 0.00448306104770543, 0.999952499141271, 0.2828947736422178, 0.01651416191312439, 0.1522174924166248, 0.003590035198505302, 0.002154021119103181, 0.036618359024754084, 0.5047589489098455, 0.02553276960538334, 0.003829915440807501, 0.12638720954664753, 0.8400281200171119, 0.003829915440807501, 0.9997522471974424, 0.8819116416462082, 0.04145127651173426, 0.07432642684862695, 0.001429354362473595, 0.4356257852109523, 0.32702101881487, 0.010055996888526137, 0.0012067196266231366, 0.011262716515149275, 0.11906300316014948, 0.09251517137444047, 0.003217919004328364, 0.000804479751082091, 0.9933592614153222, 0.9976977869148591, 0.9837245463863147, 0.983740315803062, 0.024764185196686644, 0.9746475745267387, 0.9675203110706592, 0.02931879730517149, 0.8658555491183492, 0.13069517722541119, 0.002333842450453771, 0.9840729216515333, 0.05243539187267637, 0.25909252454734205, 0.16655948006614846, 0.5212694839107239, 0.9756937593555717, 0.02728328348959203, 0.20684535854900005, 0.5323412755294817, 0.07233242599566259, 0.027917778454466264, 0.0019034848946226997, 0.0006344949648742332, 0.12245752822072702, 0.006979444613616566, 0.0006344949648742332, 0.9923809726970034, 0.9906807120641284, 0.019447857817145118, 0.019447857817145118, 0.09723928908572559, 0.8605677084086714, 0.021103433150066117, 0.15194471868047604, 0.8061511463325256, 0.016882746520052894, 0.6522728791828785, 0.007836919990182458, 0.19592299975456146, 0.02411359996979218, 0.05666695992901162, 0.0006028399992448045, 0.03978743995015709, 0.022305079972057766, 0.9981462908656237, 0.992836798452948, 0.00562128469959587, 0.9936105300044286, 0.00019383740343434033, 0.00038767480686868066, 0.6427563045372925, 0.0013450804579255746, 0.014988039388313546, 0.058607077095328614, 0.03074469618115599, 0.029591770074362644, 0.10068887999328588, 0.08397145144478231, 0.011721415419065722, 0.005956784885098974, 0.016140965495106897, 0.003266623969247824, 0.9977642112073483, 0.9798745748898297, 0.060773400020188, 0.9142433220428282, 0.002642321740008174, 0.021138573920065393, 0.9839418117836468, 0.004868973752329595, 0.4757273766246739, 0.00028641022072527027, 0.00028641022072527027, 0.48632455479150893, 0.001145640882901081, 0.03093230383832919, 0.00028641022072527027, 0.11495444148377655, 0.07107253524992274, 0.3114807700157599, 0.01292227913634959, 0.06461139568174795, 0.03553626762496137, 0.0005384282973478995, 0.08399481438627233, 0.0029613556354134477, 0.004038212230109247, 0.28967442397316995, 0.008345638608892442, 0.024691834763335876, 0.03098583185987247, 0.026628449254577906, 0.012587994193073191, 0.3030801678793776, 0.0009683072456210147, 0.05713012749163987, 0.0048415362281050735, 0.020818605780851818, 0.5132028401791378, 0.0009683072456210147, 0.0038732289824840588, 0.9982207069765064, 0.998288293282617, 0.9982216801352768, 0.9895031109138454, 0.0006379786774316108, 0.0003189893387158054, 0.008612712145326745, 0.03732175262974923, 0.4175570443789893, 0.4679573598960865, 0.001594946693579027, 0.020096328339095738, 0.021053296355243157, 0.001594946693579027, 0.02296723238753799, 0.9838336335815829, 0.9853018739017584, 0.9943624815990519, 0.13440846958188787, 0.04240267195142892, 0.0968061001155264, 0.005600352899245329, 0.005600352899245329, 0.10720675549983914, 0.5312334750141283, 0.01600100828355808, 0.06000378106334281, 0.9905755096248681, 0.0011834632742870209, 0.0013807071533348577, 0.002169682669526205, 0.04615506769719382, 0.00039448775809567364, 0.012031876621918045, 0.00019724387904783682, 0.9110694773219582, 0.00986219395239184, 0.01538502256573127, 0.49602769088029874, 0.5023065224104291, 0.9902209091903842, 0.009248227303979572, 0.012010655049491017, 0.0013965877964524438, 0.22596790546600543, 0.007541574100843197, 0.16703190045571228, 0.5854496042728644, 0.9997853356003221, 0.9971305866061303, 0.022876137828489913, 0.0014046751298195561, 0.003812689638081652, 0.004414693265147176, 0.06321038084188002, 0.9040087799767286, 0.000200667875688508, 0.04349233801855482, 0.0014997357937432698, 0.6748811071844714, 0.0344939232560952, 0.18746697421790873, 0.05698996016224425, 0.028776907543272036, 0.8493547862771808, 0.0017440550026225478, 0.017440550026225476, 0.10202721765341904, 0.9903232784491517, 0.08028839061565603, 0.9123680751779094, 0.9942651151790596, 0.11569908531656305, 0.017434108746331417, 0.865365761408814, 0.9948054578114914, 0.0007171909882955371, 0.00035859549414776857, 0.9764555305643737, 0.005737527906364297, 0.016495392730797354, 0.05563341750625682, 0.9414886039520385, 0.9952214409294317, 0.9957077336346334, 0.9877316901783588, 0.10213121552933616, 0.01276640194116702, 0.8851372012542467, 0.030641126720598304, 0.01392778487299923, 0.08078115226339554, 0.016713341847599077, 0.8579515481767526, 0.9667215055265496, 0.0457801808243094, 0.9274725522554534, 0.0101733735165132, 0.016390435109937936, 0.9896823586329146, 0.02317731094415525, 0.9692330031192196, 0.006321084802951432, 0.9925354770973005, 0.9906610251490838, 0.9914702801318477, 0.07362508472395522, 7.489835678937459e-05, 0.13152151452214178, 0.0686817931758565, 0.1589343131070529, 0.41778303417113144, 0.08336187110657392, 0.01468007793071742, 0.025690136378755484, 0.003969612909836853, 7.489835678937459e-05, 0.020147657976341764, 0.0014230687789981173, 0.9995120923922628, 0.9950841472061956, 0.019459533389104954, 0.71885805696223, 0.005723392173266163, 0.05151052955939546, 0.002289356869306465, 0.1831485495445172, 0.019459533389104954, 0.983910989669297, 0.013447119361286104, 0.029882487469524675, 0.14866537516088527, 0.2032009147927678, 0.6043733090711366, 0.9922672038815102, 0.9956406453348035, 0.9660218831248527, 0.031598846644270887, 0.9972048267323727, 0.9696803121954045, 0.027626219720666794, 0.020048794895932802, 0.13595589038804431, 0.06860447003452005, 0.04166390189311035, 0.0645320585712837, 0.28569532726704244, 0.015976383432696452, 0.08207475410522491, 0.08113496684447806, 0.026000780880662853, 0.0651585834117816, 0.06609837067252845, 0.04636283819684461, 0.9868545426324357, 0.9941233482535556, 0.00426662381224702, 0.9901725847759443, 0.9869109560431004, 0.9831924854910045, 0.9869500729698981, 0.9973659820865205, 0.8947302226983409, 0.006372722383891317, 0.015294533721339161, 0.08284539099058712, 0.983859813655984, 0.9803267932347439, 0.9679082616090833, 0.00229803831604759, 0.9961996100066304, 0.18932963270673422, 0.03606278718223509, 0.7550646066280472, 0.018031393591117544, 0.0022794642333083806, 0.6473678422595801, 0.3487580276961822, 0.9741150981637944, 0.9987542242026147, 0.9954411854956099, 0.9877604817938874, 0.0885175416197649, 0.004658817979987626, 0.027952907879925756, 0.056682285423182786, 0.01552939326662542, 0.08463519330310854, 0.024847029226600672, 0.0349411348499072, 0.6568933351782553, 0.004658817979987626, 0.000776469663331271, 0.9933178012747714, 0.9871298587595033, 0.06428402118965333, 0.0008035502648706666, 0.07874792595732533, 0.0784800758690351, 0.525521873225416, 0.002142800706321778, 0.0008035502648706666, 0.002678500882902222, 0.22151202301601375, 0.024642208122700442, 0.5461701935127296, 0.04471568835776733, 0.00958193321952157, 0.09645812774318381, 0.25168544589943326, 0.014692297603266409, 0.035772550686213864, 0.0006387955479681048, 0.08569406160884664, 0.09765137253101129, 0.07722429970564668, 0.02341640055590577, 0.000498221288423527, 0.7144493275993377, 0.000996442576847054, 0.01856710345249984, 0.17081735176299856, 0.0012378068968333228, 0.009902455174666583, 0.0012378068968333228, 0.7983854484574933, 0.9877174697164076, 0.9938674654628431, 0.019498026930294093, 0.03655880049430142, 0.009749013465147047, 0.1389234418783454, 0.019498026930294093, 0.7750465704791902, 0.9891977408967354, 0.23790684313491703, 0.09301042978780279, 0.42853979013801696, 0.03651235880099696, 0.026903843327050394, 0.003074724951662902, 0.027672524564966116, 0.013451921663525197, 0.049579939845564296, 0.050732961702437886, 0.02075439342372459, 0.012298899806651609, 0.07271359310811341, 0.9254457304668979, 0.8757099876249185, 0.007163271882412421, 0.11640316808920184, 0.9868317596537329, 0.006509400066663382, 0.9829194100661706, 0.9667215068128765, 0.01847914090892629, 0.9609153272641671, 0.994110584969768, 0.0044493440503762, 0.0006356205786251714, 0.0012254401453701382, 0.015930721889811796, 0.05637024668702636, 0.015930721889811796, 0.8994730667016815, 0.0024508802907402764, 0.008578081017590968, 0.006523927808380135, 0.9916370268737805, 0.9938580448732085, 0.8634884962621606, 0.12653636454659337, 0.0097753414671188, 0.02093961197293437, 0.2806489660261342, 0.027628654686510625, 0.013668913371221045, 0.004362419161027993, 0.6034679839422057, 0.021812095805139965, 0.0008724838322055987, 0.0221029237492085, 0.00407159121695946, 0.010270636657365486, 0.22492694279630412, 0.030041612222794046, 0.006419147910853428, 0.015405954986048229, 0.16715461159862327, 0.02516305981054544, 0.03055514405566232, 0.44959711967617416, 0.010013870740931349, 0.03055514405566232, 0.9956266568717824, 0.7146744572758537, 0.17730175060286205, 0.060142003508459815, 0.0007810649806293483, 0.00937277976755218, 0.03514792412832067, 0.0015621299612586965, 0.9821931937931296, 0.06028952390955426, 0.20830572033420844, 0.007942332491079004, 0.019133801001235785, 0.06931490174032585, 0.0068592871513864125, 0.40000474545979714, 0.05704038789047648, 0.004332181358770366, 0.14007386393357515, 0.01985583122769751, 0.006498272038155549, 0.21685707703566828, 0.5339948833363855, 0.02632369143207534, 0.009401318368598336, 0.006267545579065557, 0.0495136100746179, 0.10028072926504891, 0.0037605273474393343, 0.0012535091158131116, 0.015668863947663893, 0.0031337727895327785, 0.034471500684860566, 0.6500434283953225, 0.014544350680991233, 0.015137997647562304, 0.06322340193981903, 0.005045999215854101, 0.013653880231134627, 0.10537233656636505, 0.05075681564182655, 0.07836139958738134, 0.0005936469665710708, 0.001484117416427677, 0.0017809408997132123, 0.9852830237630882, 0.012367569335938345, 0.9975600736906228, 0.9860217874087212, 0.9937479542768991, 0.13919407339154843, 0.7357401022124702, 0.12428042267102538, 0.9951235682725454, 0.6396646785472779, 0.027771259560663297, 0.04721114125312761, 0.0074056692161768795, 0.024068424952574857, 0.252718462002036, 0.987337058808808, 0.0008767932289521283, 0.2113071681774629, 0.03857890207389364, 0.35860843064142045, 0.14752046077119557, 0.10499598916701736, 0.015782278121138308, 0.003507172915808513, 0.03090696132056252, 0.05436118019503195, 0.015124683199424211, 0.018631856115232725, 0.9902769310268611, 0.10194125540620977, 0.024701150348427754, 0.04704981018748143, 0.20466667431554422, 0.02234865983905368, 0.005489144521872834, 0.027053640857801823, 0.4983359062357408, 0.009802043789058633, 0.03371903063436169, 0.025093232099990096, 0.013248234386041318, 0.9856686383214741, 0.9962954562550697, 0.1073940921805623, 0.004589491118827449, 0.011932676908951367, 0.07802134902006663, 0.008261084013889407, 0.7893924724383211, 0.0008518501375665954, 0.036629555915363606, 0.005962950962966168, 0.8935907943073585, 0.06218506004236146, 0.9883325453246319, 0.9945181010165287, 0.006902123395042159, 0.9662972753059024, 0.02070637018512648, 0.1823302158458832, 0.031709602755805776, 0.02180035189461647, 0.07233753128668192, 0.02378220206685433, 0.6559924070107319, 0.0029727752583567912, 0.008918325775070374, 0.9960645167205717, 0.993655134377814, 0.9923702321198031, 0.8711568067753906, 0.1121706117027278, 0.01572485210785904, 0.0010483234738572693, 0.028325335611735006, 0.0008583435033859093, 0.6398950817741954, 0.16823532666363822, 0.11802223171556253, 0.04463386217606728, 0.14635600351495132, 0.008924146555789714, 0.2338126397616905, 0.4332673152835906, 0.03525037889536937, 0.015171049144842514, 0.001338621983368457, 0.03792762286210628, 0.03658900087873783, 0.017848293111579427, 0.028557268978527083, 0.004908280605684342, 0.05287965868515738, 0.05963025341092215, 0.02812747802401988, 0.6863104637860851, 0.142887588362021, 0.02925257714498068, 0.8934711506771945, 0.04759410487868833, 0.006490105210730227, 0.021633684035767424, 0.00865347361430697, 0.021633684035767424, 0.03728216709639248, 0.27059637408671966, 0.06614578033230925, 0.003607951654489595, 0.6133517812632312, 0.00721590330897919, 0.0012026505514965318, 0.14181536693769559, 0.055796209942699904, 0.013949052485674976, 0.020923578728512464, 0.7276755713360447, 0.037197473295133274, 0.021410678102639323, 0.006499670138301223, 0.1043770557503667, 0.0049703359881126995, 0.008029004288489745, 0.67558336084578, 0.04779169219339134, 0.12999340276602445, 0.0015293341501885229, 0.07307447792862477, 0.17992866735255722, 0.0034469093362558857, 0.05032487630933593, 0.6900712491184283, 0.0020681456017535315, 0.0006893818672511771, 0.9613331952624875, 0.005840221156453918, 0.00016074003182900691, 0.4490540689196357, 0.03252306644006907, 0.05599111108710408, 0.01784214353301977, 0.0008572801697547035, 0.013984382769123602, 0.01521672301314599, 0.14884526947366042, 0.10346300048727079, 0.15623931093779472, 0.3634315008565706, 0.002433693086093107, 0.006652094435321158, 0.09296707588875668, 0.07171282293687688, 0.0425085059037596, 0.0721995615540955, 0.2010230489112906, 0.09767221585520335, 0.005354124789404835, 0.02920431703311728, 0.014926650928037721, 0.003131786647151893, 0.19246252486133453, 0.00028470787701380846, 0.030179034963463698, 0.5674227988885203, 0.08626648673518396, 0.00028470787701380846, 0.010249483572497105, 0.00028470787701380846, 0.10961253265031626, 0.9839208165441128, 0.015167698304283538, 0.012409934976231985, 0.2973788122082257, 0.0942235803750947, 0.0887080537189916, 0.03906831381406366, 0.0027577633280515524, 0.02298136106709627, 0.29232291277346456, 0.019304343296360868, 0.07859625484946925, 0.03722980492869596, 0.02337718358959264, 0.7018721072970553, 0.01641968847364245, 0.03701387401685501, 0.12579151169637945, 0.017811187496832488, 0.06456555467601777, 0.010853692380882298, 0.0002782998046380076, 0.0016697988278280458, 0.9610711239860488, 0.036542628288442916, 0.991262414642185, 0.2179048155023319, 0.003862419181725233, 0.00885137729145366, 0.28694555837567043, 0.007724838363450466, 0.17831501888964826, 0.019151161776054283, 0.10138850352028737, 0.13212692284151736, 0.0210823713669169, 0.0012874730605750779, 0.021243305499488784, 0.22078819674802655, 0.12487419069984654, 0.04676139907058083, 0.1950162893057178, 0.05101243534972454, 0.02125518139571856, 0.07120485767565718, 0.09538262651328704, 0.05074674558227806, 0.03321122093081025, 0.000265689767446482, 0.028428805116773575, 0.06110864651269086, 0.008382437387795082, 0.005588291591863388, 0.13569829800242184, 0.4299339987740115, 0.051387985725178546, 0.1162607620307231, 0.029277788557371228, 0.12573656081692622, 0.026362158161616415, 0.0012148459982311713, 0.065358714704837, 0.004859383992924685, 0.979874574360347, 0.6855703733729378, 0.098615336370856, 0.06545646780947648, 0.012488405042597486, 0.01507221298244524, 0.09430898980444308, 0.02153173283206463, 0.006459519849619389, 0.9922640748812136, 0.9975602690818816, 0.0011092766864318965, 0.36791010099991234, 0.0077649368050232755, 0.024773845996979023, 0.052505763157776435, 0.1586265661597612, 0.10796959747937127, 0.059531182171845116, 0.08948165270550631, 0.07506105578189166, 0.04732913862109425, 0.008134695700500575, 0.9838871145057938, 0.9919749828346671, 0.9990639734161706, 0.18036682637411658, 0.03991724845984547, 0.017740999315486877, 0.010348916267367345, 0.18332365959336439, 0.010348916267367345, 0.0014784166096239065, 0.5425788957319736, 0.01626258270586297, 0.0014905827729737298, 0.0029811655459474596, 0.14309594620547805, 0.7795747902652607, 0.007452913864868649, 0.0029811655459474596, 0.005962331091894919, 0.02235874159460595, 0.0029811655459474596, 0.03130223823244833, 0.9869028423642974, 0.9982911696252859, 0.002666527265141493, 0.983948560837211, 0.013332636325707466, 0.9871389865761515, 0.9834449035888664, 0.9939408741849234, 0.9959197169874525, 0.9031001902324108, 0.018638090229937183, 0.07116361724157834, 0.005083115517255596, 0.09085277804572221, 0.034707802848927584, 0.05716579292764543, 0.05920742838934706, 0.0025520443271270284, 0.5731891558727306, 0.14801857097336765, 0.012249812770209737, 0.021947581213292443, 0.9891819239706868, 0.9983011359317591, 0.07242905764713596, 0.4161254349726962, 0.1339254273475344, 0.18961380657622856, 0.008541162458388674, 0.0450973377802922, 0.013665859933421879, 0.005466343973368751, 0.08985302906224886, 0.014349152930092974, 0.01127433444507305, 0.09152700790577575, 0.0052088541084587825, 0.8691345140971226, 0.03348549069723503, 0.10427146026678231, 0.3698685760406618, 0.0027543404598772687, 0.1495213392504803, 0.03344556272708112, 0.0011804316256616868, 0.058234626865976545, 0.07397371520813237, 0.12748661557146215, 0.07239980637391678, 0.0031478176684311644, 0.003934772085538956, 0.9997871556352008, 0.11401460111896748, 0.000530300470320779, 0.0034469530570850637, 0.08484807525132464, 0.43643728707400115, 0.02147716904799155, 0.00530300470320779, 0.06814361043622011, 0.12515091099570386, 0.10393889218287268, 0.018030215990906488, 0.018825666696387654, 0.1192747336631269, 0.014852092452841362, 0.04939792864271026, 0.17220575918889192, 0.16147561309961447, 0.051229904804294214, 0.07465302858454623, 0.16055962501882248, 0.06745597937832355, 0.02610566030257138, 0.04220087943648757, 0.060520641052327136, 0.11277328339887505, 0.07185554340459295, 0.04331292477443519, 0.12754358954315248, 0.05568804613855954, 0.02714542750840178, 0.030738204678631427, 0.2664643067920322, 0.08223467745192303, 0.09460979881604738, 0.047504498139703116, 0.039720147604205544, 0.06660841931986974, 0.15711451580030344, 0.34371978213917515, 0.292873660520954, 0.014999605877375246, 0.07931994972442503, 0.045253048240216844, 0.021745046322432862, 0.10942668471933956, 0.6495455772442849, 0.08136856043232941, 0.12906737172024665, 0.008417437286103042, 0.9935355568494315, 0.06760519524289381, 0.8308322678534581, 0.010674504512035865, 0.0035581681706786214, 0.06938427932823313, 0.014232672682714486, 0.05169962155012751, 0.029542640885787147, 0.11955537483466985, 0.04108273498179775, 0.07154858339526575, 0.4740670654641156, 0.004154433874563817, 0.14448197808205276, 0.024003395719702055, 0.03000424464962757, 0.010616886568329756, 0.9983638359133717, 0.9921700085396866, 0.5497968122798745, 0.028584568780037723, 0.3180793504672283, 0.10339099345971091, 0.9999106564454384, 0.12392433624364764, 0.15376998790442142, 0.5086737152618835, 0.010381096229834358, 0.053851936692265734, 0.0616377588646415, 0.057096029264088966, 0.016220462859116182, 0.011029914744199005, 0.0038929110861878843, 0.07653609472683492, 0.9184331367220191, 0.097008444953201, 0.8973281158171094, 0.0030315139047875314, 0.696261055871853, 0.007387385208189422, 0.04524773440016021, 0.046632869126695724, 0.03786034919197079, 0.042015753371577334, 0.07064187105331135, 0.05355854275937331, 0.9990462289637481, 0.9948997357906266, 0.9772261276962436, 0.07234150626131418, 0.1744184782864814, 0.019971581483184897, 0.1642107810839647, 0.00044381292184855325, 0.0008876258436971065, 0.4518015544418272, 0.049263234325189406, 0.06524049951173733, 0.00044381292184855325, 0.00044381292184855325, 0.043858661262480586, 0.08638827218367388, 0.1508472137361075, 0.0013290503412872906, 0.258500291380378, 0.14154386134709646, 0.31631398122637516, 0.9923284996854849, 0.07865504660147056, 0.0006722653555681244, 0.1015120686907868, 0.07058786233465307, 0.010756245689089991, 0.11899096793555802, 0.0013445307111362489, 0.1868897688479386, 0.02890741028942935, 0.02420155280045248, 0.3744518030514453, 0.003361326777840622, 0.04474357902301825, 0.08920216709684531, 0.2128882390458257, 0.012254610815221561, 0.013679565561177555, 0.0014249547459559955, 0.47678985799687607, 0.05671319888904862, 0.056428207939857415, 0.035908859598091085, 0.025351606102595212, 0.9718115672661497, 0.9930137780772119, 0.07870096815074976, 0.002384877822749993, 0.9181779617587472, 0.9838838657617599, 0.9949766421379035, 0.9868735135717602, 0.6622538883638444, 0.0027104524762503863, 0.00722787327000103, 0.08583099508126223, 0.020780135651252963, 0.12919823470126843, 0.05149859704875734, 0.039753302985005665, 0.9971882982698768, 0.9813647691421588, 0.9770524134571501, 0.015338294444580744, 0.9844396252612732, 0.2858017447283928, 0.7104214797534335, 0.09215805599533174, 0.8899835121834894, 0.015798523884914012, 0.9997576617926541, 0.7887411494139803, 0.11179816032005703, 0.0010256711955968535, 0.002051342391193707, 0.09231040760371681, 0.004102684782387414, 0.0004888007043489081, 0.002444003521744541, 0.9961758354630749, 0.12167736508389893, 0.0019947109030147366, 0.8756780864234693, 0.2360023871252104, 0.0004942458369114354, 0.0006589944492152472, 0.012520894535089698, 0.0195227105580017, 0.0003294972246076236, 0.000906117367670965, 0.08863475341945075, 0.6302458163682321, 0.010791034105899674, 0.0179398942120873, 0.9747342521900766, 0.0440584811770839, 0.15558151165657752, 0.006195723915527423, 0.059203584081706485, 0.03166703334602905, 0.4818896378743551, 0.017210344209798396, 0.004130482610351615, 0.13768275367838717, 0.06195723915527423, 0.003280913656009336, 0.016348000803218934, 0.09774859995834713, 0.3542255398953528, 0.007749744325401363, 0.013293357054520586, 0.15759699044210362, 0.08468151281113752, 0.0009050796292439548, 0.10442356222402129, 0.05091072914497246, 0.010351848259477733, 0.09842740968028009, 0.9977049284923072, 0.9867696196130696, 0.9969308903928455, 0.9891828903567053, 0.9428246938755459, 0.018406555845726494, 0.03681311169145299, 0.013746315455559236, 0.02611799936556255, 0.046737472548901406, 0.0013746315455559236, 0.7725429286024291, 0.1388377861011483, 0.9875235215542466, 0.01003580814587649, 0.009369523205446153, 0.983799936571846, 0.9867447708857335, 0.06301819535747728, 0.9078892551500964, 0.003204315018176811, 0.006408630036353622, 0.011749155066648306, 0.006408630036353622, 0.1936876972205613, 0.001991647272190862, 0.00024895590902385774, 0.8038786302380365, 0.9891189123619093, 0.9924101269922998, 0.9936012980740982, 0.006359831056111904, 0.9940846190505109, 0.06274660242985192, 0.9349243762047935, 0.9981836741122697, 0.9912933256284575, 0.98839036433852, 0.0034925454570265725, 0.0034925454570265725, 0.9951444662328279, 0.9874762051539994, 0.04189290829698123, 0.1866138642320073, 0.7578807955544786, 0.01269482069605492, 0.977269418213816, 0.01974281652957204, 0.9941695614395771, 0.9044192491038223, 0.0031079699281918293, 0.0839151880611794, 0.006215939856383659, 0.02760502361178454, 0.08009344878912134, 0.0015552125978470163, 0.10730966925144413, 0.028771433060169802, 0.012052897633314377, 0.0011664094483852623, 0.2927687715447008, 0.22045138574481454, 0.012830503932237884, 0.13413708656430515, 0.08087105508804485, 0.9946297469590397, 0.9613331942483329, 0.006394575427118586, 0.06577277582179117, 0.002740532325907965, 0.032886387910895584, 0.1260644869917664, 0.4531013445501169, 0.3133341959288107, 0.9867116475208889, 0.0003316696324656279, 0.13631621894337306, 0.16616648586527957, 0.6971695674427498, 0.0993591792665526, 0.09519995780888296, 0.10629121502933533, 0.5388502466269783, 0.006932035762782739, 0.04482716459932838, 0.09335141493880755, 0.01247766437300893, 0.002772814305113096, 0.0004621357175188493, 0.006705276793702711, 0.9923809654680013, 0.09555970899504408, 0.09337131871271483, 0.5390734728804395, 0.0612749279052191, 0.04960351306612975, 0.06419278161499144, 0.0284490736702803, 0.015318731976304775, 0.0284490736702803, 0.024801756533064875, 0.986736895995333, 0.98780307364956, 0.9996785524111726, 0.9965839626903653, 0.04210286037563532, 0.0069643829192780225, 0.4156470351369111, 0.054132249054388265, 0.0737591463723536, 0.012979077258654497, 0.0940191694102533, 0.007914071499179571, 0.09560198371008923, 0.003798754319606194, 0.10351605520926879, 0.08927072651074557, 0.9932749386108769, 0.9815293185247267, 0.030438501844785547, 0.9664224335719411, 0.0013905614145858008, 0.4463702140820421, 0.0041716842437574024, 0.5464906359322198, 0.9997483043714875, 0.9996928510284534, 0.013173106279844776, 0.9835919355617433, 0.9957307729759816, 0.05366709190716028, 0.017889030635720095, 0.05457979755183988, 0.07958793221606082, 0.09437376365987028, 0.3429947812705924, 0.05366709190716028, 0.1653822628159429, 0.04892102255482638, 0.03468281449782467, 0.0021904935472310317, 0.016428701604232737, 0.03559552014250427, 0.003290228343307621, 0.003290228343307621, 0.9508759912159025, 0.04277296846299908, 0.9924509083039246, 0.9997825768443239, 0.9963853503381601, 0.9998845778209344, 0.9979409081180788, 0.998893006216674, 0.9914468234211685, 0.9397589291062679, 0.05938996949742214, 0.0005390399079511203, 0.9643423953245541, 0.011858877974924647, 0.0005390399079511203, 0.002156159631804481, 0.01994447659419145, 0.021116868773957312, 0.9766551807955257, 0.03854950646415014, 0.9380379906276533, 0.0012045436564614889, 0.009636349251691911, 0.4492947838601353, 0.006424232834461274, 0.058621124614459126, 0.006825747386615104, 0.010037863803845741, 0.2316738965927597, 0.03171964962015254, 0.0044166600736921255, 0.19071941227306907, 0.02378213476936527, 0.975067525543976, 0.09470635398323048, 0.9014641842107493, 0.9997456714803435, 0.0017748192041496524, 0.02188943685117905, 0.0020706224048412615, 0.91935634774952, 0.05472359212794762, 0.9923612241307531, 0.8862952583335624, 0.007006286627142785, 0.017515716567856963, 0.08933015449607051, 0.8503816977345712, 0.02938310744204819, 0.10889033934406094, 0.010370508508958185, 0.9960458499966539, 0.9949519730227008, 0.23697791982169703, 0.7600633282086137, 0.9837961919004652, 0.9951852335167197, 0.982626518780208, 0.08279949287287282, 0.011395268719463074, 0.024168997364667648, 0.017552389721108445, 0.003951585120458969, 0.1643124231483869, 0.09878962801147423, 0.004411071762372803, 0.4278739609501619, 0.0003675893135310669, 0.0505435306105217, 0.11367699520948243, 0.9813647693448561, 0.9772147379071757, 0.017639255196880428, 0.007055702078752171, 0.9822325183984445, 0.9957417027837916, 0.15144015676617184, 0.08304782790402972, 0.011235882598780491, 0.47141855251405107, 0.009770332694591733, 0.26868414910127264, 0.003908133077836693, 0.0004885166347295866, 0.04098560815880464, 0.9563308570387751, 0.99282049395493, 0.0022013758180818846, 0.0022013758180818846, 0.9982047272712437, 0.9951255151560363, 0.0021954392754885473, 0.001756351420390838, 0.8167034104817397, 0.01624625063861525, 0.07903581391758771, 0.005269054261172514, 0.064985002554461, 0.013172635652931284, 0.0013277026383303804, 0.025226350128277227, 0.28678376987936216, 0.6850945613784762, 0.07476595459370601, 0.9221134399890407, 0.0006926478846866158, 0.004155887308119694, 0.011428690097329159, 0.0013852957693732315, 0.0006926478846866158, 0.0003463239423433079, 0.9745555737540683, 0.0013852957693732315, 0.0003463239423433079, 0.00484853519280631, 0.9955869513333157, 0.21262134785279377, 0.0035436891308798964, 0.0011812297102932988, 0.14292879494548916, 0.557540423258437, 0.0011812297102932988, 0.007087378261759793, 0.07559870145877112, 0.03846878802312051, 0.09131843138198702, 0.013661812568958686, 0.5608533580940934, 0.002876171067149197, 0.05860198549316489, 0.06363528486067599, 0.0017976069169682483, 0.0578829427263776, 0.05249012197547285, 0.003235692450542847, 0.0550067716592284, 0.8969762449857995, 0.05665113126226102, 0.003433401894682486, 0.01630865899974181, 0.025750514210118647, 0.9946558769874698, 0.9978527687323956, 0.02974208572011408, 0.9636435773316963, 0.9811056007738707, 0.9839648101197431, 0.9837961913886114, 0.9797390722278355, 0.9869641856584519, 0.9915342344542262, 0.09943062977376949, 0.8978887173510094, 0.9901225814614644, 0.9255148808524336, 0.003977857654093554, 0.06894953267095494, 0.9834252836373664, 0.12050658296960483, 0.1108704867211162, 0.07144002391120874, 0.06889255019034393, 0.031123483285348304, 0.11020592835915147, 0.05537986349706104, 0.14731043690218237, 0.10367110446649827, 0.029351327653442352, 0.01594940068715358, 0.08894006077628003, 0.04618680615654891, 0.02016642412121552, 0.0630200753787985, 0.8545522221365076, 0.05797846934849462, 0.0006959001306334181, 0.12039072259958132, 0.8782259648593735, 0.9807028151270107, 0.016528699131354112, 0.9939254077152433, 0.04114893414700405, 0.9386798036593043, 0.005325156183729937, 0.01403904812074256, 0.9996858329447567, 0.0017693261849678144, 0.9678214231773945, 0.0035386523699356288, 0.02300124040458159, 0.0017693261849678144, 0.05276045195762851, 0.4650073731858784, 0.000536546969060629, 0.4816403292267579, 0.0010949285633943455, 0.16369182022745465, 0.8348830295881885, 0.9798745746954366, 0.9893199962832407, 0.9721394267877587, 0.9871424603423024, 0.8159113108077305, 0.015298337077644946, 0.07241212883418609, 0.010198891385096632, 0.07343201797269575, 0.011218780523606295, 0.9958385388722105, 0.9281508167027632, 0.025004062949966682, 0.007001137625990671, 0.03800617568394935, 0.0010001625179986671, 0.9982623036621492, 0.9941422178774606, 0.026219089798773385, 0.017479393199182257, 0.8739696599591128, 0.08040520871623838, 0.9967198258448275, 0.8914666535022084, 0.10599755941032356, 0.9811397375706774, 0.9995790193003633, 0.003213721946870473, 0.01928233168122284, 0.0482058292030571, 0.3647574409697987, 0.564008201675768, 0.9916703755664522, 0.9998314103051062, 0.9943411915938721, 0.9834252815439269, 0.13408883253127762, 0.022893215310218134, 0.006540918660062324, 0.12100699521115299, 0.7162305932768245, 0.020255483904547174, 0.9722632274182644, 0.9904482944817287, 0.9876157049314811, 0.010997947716386205, 0.9944409275344913, 0.0046038931830300524, 0.014070005858833518, 0.9708304042595127, 0.007035002929416759, 0.9992553456178588, 0.9928024850690754, 0.9942647217285289, 0.006808552707950108, 0.0397165574630423, 0.8737642641869305, 0.028368969616458784, 0.019290899339191973, 0.030638487185775488, 0.06676810565797776, 0.0018045433961615613, 0.8355035924228029, 0.06135447546949308, 0.036090867923231226, 0.9573515399334195, 0.03988964749722581, 0.9959330461564534, 0.994581269346425, 0.0046475760249832946, 0.993120131713656, 0.9997535102932211, 0.06892763288424116, 0.9236302806488315, 0.9932603720717627, 0.06963316004471698, 0.2319588272513557, 0.026700296662026553, 0.008798961399986023, 0.2324139459444584, 0.009709198786191474, 0.1365356079308176, 0.032161720979259255, 0.02305934711720475, 0.047332344082683435, 0.06310979211024458, 0.11878597889981131, 0.8877158054182579, 0.05482950562877475, 0.057440434468240216], \"Term\": [\"abduction\", \"abortion\", \"absentee\", \"abuse\", \"abuse\", \"abuse\", \"abuse\", \"abuse\", \"abuse\", \"abuse\", \"academic\", \"academic\", \"academic\", \"access\", \"access\", \"access\", \"access\", \"access\", \"access\", \"access\", \"access\", \"access\", \"access\", \"access\", \"access\", \"account\", \"account\", \"account\", \"account\", \"account\", \"account\", \"account\", \"account\", \"account\", \"account\", \"accountability\", \"accountability\", \"accountability\", \"accountability\", \"accountability\", \"accountability\", \"accountability\", \"accountability\", \"accountability\", \"achievement\", \"achievement\", \"acid\", \"acrylic\", \"action\", \"action\", \"action\", \"action\", \"action\", \"action\", \"action\", \"action\", \"action\", \"action\", \"action\", \"active\", \"active\", \"active\", \"active\", \"additive\", \"administration\", \"administration\", \"administration\", \"administration\", \"administration\", \"administration\", \"administration\", \"administration\", \"administration\", \"administration\", \"administration\", \"adoption\", \"adoption\", \"adoption\", \"adoptive\", \"advantage\", \"advantage\", \"advantage\", \"advisory\", \"advisory\", \"advisory\", \"advisory\", \"advisory\", \"advisory\", \"advisory\", \"aeronautics\", \"affair\", \"affair\", \"affair\", \"affairs\", \"affairs\", \"affairs\", \"affordable\", \"affordable\", \"affordable\", \"affordable\", \"africa\", \"afterschool\", \"age\", \"age\", \"age\", \"age\", \"age\", \"age\", \"age\", \"age\", \"agency\", \"agency\", \"agency\", \"agency\", \"agency\", \"agency\", \"agency\", \"agency\", \"agency\", \"agency\", \"agency\", \"agricultural\", \"agricultural\", \"agricultural\", \"agricultural\", \"agricultural\", \"agricultural\", \"agricultural\", \"agricultural\", \"agriculture\", \"agriculture\", \"agriculture\", \"agriculture\", \"agriculture\", \"agriculture\", \"agriculture\", \"agriculture\", \"air\", \"air\", \"air\", \"air\", \"air\", \"air\", \"air\", \"air\", \"air\", \"aircraft\", \"aircraft\", \"aircraft\", \"aircraft\", \"aircraft\", \"airline\", \"airport\", \"airport\", \"airport\", \"airport\", \"airport\", \"airway\", \"alaska\", \"alaska\", \"alaska\", \"alaska\", \"alaska\", \"alaska\", \"alien\", \"alien\", \"allow\", \"allow\", \"allow\", \"allow\", \"allow\", \"allow\", \"allow\", \"allow\", \"allow\", \"allow\", \"allow\", \"allow\", \"alzheimer\", \"ambient\", \"amends\", \"amends\", \"amends\", \"amt\", \"animal\", \"animal\", \"animal\", \"animal\", \"animal\", \"anniversary\", \"antimicrobial\", \"ape\", \"appalachian\", \"appoint\", \"appoint\", \"appoint\", \"appoint\", \"appoint\", \"appoint\", \"appoint\", \"apprenticeship\", \"appropriation\", \"appropriation\", \"appropriation\", \"appropriation\", \"appropriation\", \"appropriation\", \"appropriation\", \"arctic\", \"area\", \"area\", \"area\", \"area\", \"area\", \"area\", \"area\", \"area\", \"area\", \"area\", \"area\", \"arlington\", \"armed\", \"arthritis\", \"asiapacific\", \"assault\", \"assist\", \"assist\", \"assist\", \"assist\", \"assist\", \"assist\", \"assist\", \"assist\", \"assist\", \"assist\", \"assist\", \"assist\", \"assistance\", \"assistance\", \"assistance\", \"assistance\", \"assistance\", \"assistance\", \"assistance\", \"assistance\", \"assistance\", \"assistance\", \"assistance\", \"assistance\", \"asthma\", \"atomic\", \"atomic\", \"atomic\", \"attorney\", \"attorney\", \"attorney\", \"attorney\", \"authorize\", \"authorize\", \"authorize\", \"authorize\", \"authorize\", \"authorize\", \"authorize\", \"authorize\", \"authorize\", \"authorize\", \"authorize\", \"authorize\", \"autism\", \"avenue\", \"avenue\", \"aviation\", \"aviation\", \"award\", \"award\", \"award\", \"award\", \"award\", \"award\", \"award\", \"award\", \"award\", \"award\", \"awareness\", \"awareness\", \"awareness\", \"awareness\", \"awareness\", \"ayp\", \"b\", \"b\", \"b\", \"b\", \"b\", \"b\", \"b\", \"b\", \"b\", \"baggage\", \"balanced\", \"band\", \"bank\", \"bank\", \"bank\", \"bargaining\", \"basin\", \"battlefield\", \"behavioral\", \"behavioral\", \"behavioral\", \"behavioral\", \"beneficiaries\", \"beneficiary\", \"beneficiary\", \"beneficiary\", \"beneficiary\", \"beneficiary\", \"benefit\", \"benefit\", \"benefit\", \"benefit\", \"benefit\", \"benefit\", \"benefit\", \"benefit\", \"benefit\", \"benefit\", \"benefit\", \"benefit\", \"biofuel\", \"biofuel\", \"biofuel\", \"blm\", \"bond\", \"bond\", \"border\", \"boundary\", \"boundary\", \"boundary\", \"boxing\", \"brain\", \"branch\", \"branch\", \"branch\", \"breakfast\", \"broadband\", \"broadband\", \"broadcast\", \"broadcasting\", \"broadcasting\", \"budget\", \"budget\", \"building\", \"building\", \"building\", \"building\", \"building\", \"building\", \"building\", \"building\", \"building\", \"bullying\", \"business\", \"business\", \"business\", \"business\", \"business\", \"business\", \"business\", \"business\", \"businessrelate\", \"california\", \"california\", \"cancer\", \"cancer\", \"cancer\", \"candidate\", \"candidate\", \"candidate\", \"candidate\", \"capitol\", \"car\", \"carbon\", \"carded\", \"care\", \"care\", \"care\", \"care\", \"care\", \"carrier\", \"carryback\", \"catastrophe\", \"cbo\", \"cbp\", \"cdc\", \"cdc\", \"centennial\", \"center\", \"center\", \"center\", \"center\", \"center\", \"center\", \"center\", \"center\", \"center\", \"center\", \"center\", \"certain\", \"certain\", \"certain\", \"certain\", \"certain\", \"certain\", \"certain\", \"certain\", \"certain\", \"certain\", \"certain\", \"certain\", \"certain\", \"cfpb\", \"cftc\", \"chafee\", \"champva\", \"charitable\", \"charitable\", \"chesapeake\", \"child\", \"child\", \"child\", \"child\", \"child\", \"child\", \"child\", \"children\", \"children\", \"children\", \"children\", \"children\", \"chloride\", \"civil\", \"civil\", \"civil\", \"civil\", \"civil\", \"civil\", \"civil\", \"civil\", \"civil\", \"civil\", \"claimant\", \"claimant\", \"classified\", \"classroom\", \"clean\", \"clean\", \"clean\", \"clean\", \"clean\", \"clinic\", \"clinic\", \"clinic\", \"code\", \"code\", \"code\", \"code\", \"code\", \"code\", \"code\", \"code\", \"code\", \"code\", \"cohort\", \"coin\", \"college\", \"college\", \"college\", \"college\", \"colorado\", \"colorado\", \"colorectal\", \"columbia\", \"columbia\", \"columbia\", \"combed\", \"commemorative\", \"commercial\", \"commercial\", \"commercial\", \"commercial\", \"commercial\", \"commercial\", \"commercial\", \"commercial\", \"commercial\", \"commission\", \"commission\", \"commission\", \"commission\", \"commission\", \"commission\", \"commission\", \"commission\", \"committee\", \"committee\", \"committee\", \"committee\", \"committee\", \"commodity\", \"commodity\", \"communication\", \"communication\", \"communication\", \"communication\", \"communication\", \"communication\", \"communication\", \"communications\", \"communications\", \"community\", \"community\", \"community\", \"community\", \"community\", \"community\", \"community\", \"community\", \"community\", \"community\", \"community\", \"company\", \"company\", \"company\", \"company\", \"company\", \"company\", \"compensation\", \"compensation\", \"compensation\", \"compensation\", \"compensation\", \"compensation\", \"comptroller\", \"comptroller\", \"comptroller\", \"comptroller\", \"comptroller\", \"conference\", \"conference\", \"conference\", \"congress\", \"congress\", \"congress\", \"congress\", \"congress\", \"congress\", \"congress\", \"congress\", \"congress\", \"congress\", \"congressional\", \"congressional\", \"congressional\", \"congressional\", \"congressional\", \"conservation\", \"conservation\", \"conservation\", \"conservation\", \"conservation\", \"consumer\", \"consumer\", \"consumer\", \"consumer\", \"continental\", \"continental\", \"continental\", \"contingency\", \"contingency\", \"contraception\", \"contraceptive\", \"contribution\", \"contribution\", \"contribution\", \"contribution\", \"contribution\", \"control\", \"control\", \"control\", \"control\", \"control\", \"control\", \"control\", \"control\", \"control\", \"control\", \"control\", \"control\", \"convey\", \"convey\", \"convey\", \"convey\", \"conveyance\", \"conveyance\", \"conveyance\", \"copyright\", \"copyright\", \"corporation\", \"corporation\", \"corporation\", \"corporation\", \"corporation\", \"corporation\", \"corporation\", \"cosmetic\", \"cosmetic\", \"council\", \"council\", \"council\", \"council\", \"council\", \"country\", \"country\", \"country\", \"country\", \"country\", \"country\", \"country\", \"country\", \"country\", \"county\", \"county\", \"county\", \"court\", \"court\", \"court\", \"court\", \"courthouse\", \"coverage\", \"coverage\", \"coverage\", \"coverage\", \"credential\", \"credit\", \"credit\", \"credit\", \"credit\", \"crime\", \"crime\", \"crime\", \"crime\", \"criminal\", \"criminal\", \"criminal\", \"criminal\", \"criminal\", \"crop\", \"customs\", \"d\", \"d\", \"d\", \"d\", \"d\", \"d\", \"d\", \"d\", \"d\", \"dairy\", \"dairy\", \"dam\", \"davisbacon\", \"day\", \"day\", \"day\", \"day\", \"day\", \"day\", \"day\", \"day\", \"day\", \"day\", \"day\", \"day\", \"debt\", \"debt\", \"debt\", \"debt\", \"debt\", \"debt\", \"debt\", \"debt\", \"debt\", \"debtor\", \"debtor\", \"deceased\", \"decedent\", \"decontamination\", \"deduct\", \"deduction\", \"defense\", \"defense\", \"defense\", \"defense\", \"defense\", \"defense\", \"deficit\", \"deficit\", \"delinquency\", \"demonstration\", \"demonstration\", \"demonstration\", \"demonstration\", \"demonstration\", \"demonstration\", \"demonstration\", \"department\", \"department\", \"department\", \"department\", \"department\", \"department\", \"department\", \"department\", \"department\", \"department\", \"department\", \"deposit\", \"deposit\", \"deposit\", \"deposit\", \"deposit\", \"deposit\", \"deposit\", \"depository\", \"depository\", \"depreciable\", \"depreciation\", \"descent\", \"designate\", \"designate\", \"designate\", \"designate\", \"designate\", \"designate\", \"designate\", \"designate\", \"designate\", \"designate\", \"designate\", \"designate\", \"development\", \"development\", \"development\", \"development\", \"development\", \"development\", \"development\", \"development\", \"development\", \"development\", \"development\", \"dh\", \"dh\", \"dhs\", \"diabete\", \"diagnosis\", \"diagnosis\", \"diallo\", \"die\", \"die\", \"dioxide\", \"dioxide\", \"direct\", \"direct\", \"direct\", \"direct\", \"direct\", \"direct\", \"direct\", \"direct\", \"direct\", \"direct\", \"direct\", \"direct\", \"direct\", \"disability\", \"disability\", \"disability\", \"disability\", \"disability\", \"disability\", \"disability\", \"disaster\", \"disaster\", \"disaster\", \"disaster\", \"disease\", \"disease\", \"disease\", \"disease\", \"disorder\", \"disorder\", \"district\", \"district\", \"district\", \"district\", \"district\", \"district\", \"dividend\", \"dna\", \"dod\", \"dod\", \"dod\", \"dod\", \"dod\", \"doddfrank\", \"doddfrank\", \"doddfrank\", \"dog\", \"domestic\", \"domestic\", \"domestic\", \"domestic\", \"domestic\", \"domestic\", \"domestic\", \"domestic\", \"dot\", \"dot\", \"driver\", \"driver\", \"drug\", \"drug\", \"drug\", \"drug\", \"dsh\", \"durable\", \"durable\", \"durable\", \"durable\", \"dust\", \"duty\", \"duty\", \"duty\", \"duty\", \"dutyfree\", \"earmark\", \"earthquake\", \"economic\", \"economic\", \"economic\", \"economic\", \"economic\", \"economic\", \"economic\", \"economic\", \"economic\", \"education\", \"education\", \"education\", \"education\", \"education\", \"education\", \"education\", \"educational\", \"educational\", \"educational\", \"educational\", \"eesa\", \"efficiency\", \"efficiency\", \"efficiency\", \"efficiency\", \"efficiency\", \"efficiency\", \"efficiency\", \"egypt\", \"ehr\", \"election\", \"election\", \"election\", \"election\", \"election\", \"elementary\", \"eligible\", \"eligible\", \"eligible\", \"eligible\", \"eligible\", \"eligible\", \"eligible\", \"eligible\", \"eligible\", \"eligible\", \"eligible\", \"eligible\", \"emergency\", \"emergency\", \"emergency\", \"emergency\", \"emergency\", \"emergency\", \"emergency\", \"emergency\", \"emergency\", \"emergency\", \"emergency\", \"emission\", \"emission\", \"emission\", \"employee\", \"employee\", \"employee\", \"employee\", \"employee\", \"employee\", \"employee\", \"employee\", \"employee\", \"employee\", \"employer\", \"employer\", \"employer\", \"employer\", \"employer\", \"employer\", \"employerprovide\", \"energy\", \"energy\", \"energy\", \"energy\", \"energys\", \"enforcement\", \"enforcement\", \"enforcement\", \"enforcement\", \"enforcement\", \"enforcement\", \"enforcement\", \"engineer\", \"engineer\", \"engineer\", \"engineering\", \"engineering\", \"engineering\", \"enterprise\", \"enterprise\", \"enterprise\", \"enterprise\", \"enterprise\", \"environmental\", \"environmental\", \"environmental\", \"environmental\", \"environmental\", \"environmental\", \"environmental\", \"environmental\", \"esea\", \"establish\", \"establish\", \"establish\", \"establish\", \"establish\", \"establish\", \"establish\", \"establish\", \"establish\", \"establish\", \"establish\", \"establish\", \"estate\", \"estate\", \"estate\", \"estate\", \"ester\", \"exchange\", \"exchange\", \"exchange\", \"exchange\", \"exchange\", \"exchange\", \"exchange\", \"exchange\", \"excise\", \"exclusion\", \"exclusion\", \"exclusion\", \"exclusion\", \"exclusion\", \"exclusion\", \"executive\", \"executive\", \"executive\", \"executive\", \"executive\", \"executive\", \"executive\", \"expand\", \"expand\", \"expand\", \"expand\", \"expand\", \"expand\", \"expand\", \"expand\", \"expand\", \"expand\", \"expand\", \"expand\", \"expand\", \"expense\", \"expense\", \"expense\", \"expense\", \"expense\", \"expense\", \"expense\", \"expense\", \"expensing\", \"exportimport\", \"exportimport\", \"extend\", \"extend\", \"extend\", \"extend\", \"extend\", \"extend\", \"extend\", \"extend\", \"extend\", \"extend\", \"extend\", \"extend\", \"extend\", \"faa\", \"fabric\", \"facility\", \"facility\", \"facility\", \"facility\", \"facility\", \"facility\", \"facility\", \"facility\", \"facility\", \"facility\", \"facility\", \"facility\", \"facility\", \"family\", \"family\", \"family\", \"family\", \"family\", \"family\", \"family\", \"family\", \"family\", \"fannie\", \"farmland\", \"fbi\", \"fcc\", \"federalaid\", \"feeforservice\", \"fellowship\", \"felony\", \"felony\", \"fema\", \"fer\", \"ffdca\", \"ffel\", \"fha\", \"fiber\", \"filament\", \"filipino\", \"financial\", \"financial\", \"financial\", \"financial\", \"financial\", \"financial\", \"financial\", \"financial\", \"financial\", \"financial\", \"financial\", \"firearm\", \"firearm\", \"firsttime\", \"firsttime\", \"fisa\", \"fiscal\", \"fiscal\", \"fiscal\", \"fiscal\", \"fiscal\", \"fiscal\", \"fiscal\", \"fiscal\", \"fish\", \"fishery\", \"fishery\", \"flag\", \"flag\", \"flag\", \"flight\", \"flight\", \"flight\", \"flight\", \"flood\", \"flood\", \"food\", \"food\", \"food\", \"food\", \"footwear\", \"force\", \"force\", \"force\", \"force\", \"force\", \"force\", \"forces\", \"foreign\", \"foreign\", \"foreign\", \"foreign\", \"foreign\", \"foreign\", \"foreign\", \"foreign\", \"forest\", \"foster\", \"foster\", \"foster\", \"foster\", \"foster\", \"foster\", \"foster\", \"freddie\", \"freight\", \"freight\", \"fuel\", \"fuel\", \"fuel\", \"fuel\", \"fuel\", \"fund\", \"fund\", \"fund\", \"fund\", \"fund\", \"fund\", \"fund\", \"fund\", \"fund\", \"fund\", \"fund\", \"fund\", \"furlough\", \"futures\", \"fy\", \"fy\", \"fy\", \"fy\", \"fy\", \"fy\", \"fy\", \"fy\", \"fy\", \"gain\", \"gain\", \"gain\", \"gain\", \"gain\", \"gain\", \"gambling\", \"gao\", \"gas\", \"gas\", \"gas\", \"gas\", \"gas\", \"gasoline\", \"gasoline\", \"general\", \"general\", \"general\", \"general\", \"general\", \"general\", \"general\", \"general\", \"general\", \"general\", \"general\", \"general\", \"general\", \"generic\", \"generic\", \"gestational\", \"gettysburg\", \"ghg\", \"gold\", \"gold\", \"government\", \"government\", \"government\", \"government\", \"government\", \"government\", \"government\", \"government\", \"government\", \"government\", \"government\", \"government\", \"grade\", \"grade\", \"graduation\", \"grammrudmanholling\", \"grant\", \"grant\", \"grant\", \"grant\", \"grant\", \"grant\", \"grant\", \"grant\", \"grant\", \"grant\", \"grant\", \"grant\", \"greenhouse\", \"greenhouse\", \"gross\", \"gross\", \"gross\", \"groundwater\", \"group\", \"group\", \"group\", \"group\", \"group\", \"group\", \"group\", \"group\", \"group\", \"group\", \"group\", \"gse\", \"guam\", \"guantanamo\", \"guard\", \"guard\", \"guard\", \"gun\", \"gun\", \"ha\", \"habitat\", \"haiti\", \"hall\", \"harmonized\", \"hate\", \"hate\", \"hawaiian\", \"hb\", \"health\", \"health\", \"health\", \"health\", \"health\", \"hemisphere\", \"heritage\", \"hhs\", \"hhs\", \"hhs\", \"high\", \"high\", \"high\", \"high\", \"high\", \"high\", \"high\", \"high\", \"high\", \"high\", \"high\", \"high\", \"highneed\", \"highway\", \"highway\", \"historic\", \"historic\", \"historic\", \"historical\", \"historical\", \"hivaid\", \"homebuyer\", \"homebuyer\", \"homeland\", \"homeland\", \"homeland\", \"homeland\", \"homeless\", \"homeless\", \"homelessness\", \"honor\", \"horizon\", \"hospice\", \"hospice\", \"hospital\", \"hospital\", \"hospital\", \"house\", \"house\", \"house\", \"house\", \"house\", \"housing\", \"hubzone\", \"hud\", \"human\", \"human\", \"human\", \"human\", \"human\", \"human\", \"human\", \"human\", \"hunting\", \"hurricane\", \"hurricane\", \"ii\", \"ii\", \"ii\", \"illegal\", \"illegal\", \"illegal\", \"immigrant\", \"immigrant\", \"immigrant\", \"immigration\", \"improve\", \"improve\", \"improve\", \"improve\", \"improve\", \"improve\", \"improve\", \"improve\", \"improve\", \"improve\", \"improve\", \"improve\", \"improve\", \"improvement\", \"improvement\", \"improvement\", \"improvement\", \"improvement\", \"improvement\", \"improvement\", \"improvement\", \"improvement\", \"improvement\", \"improvement\", \"improvement\", \"include\", \"include\", \"include\", \"include\", \"include\", \"include\", \"include\", \"include\", \"include\", \"include\", \"include\", \"include\", \"income\", \"income\", \"income\", \"income\", \"increase\", \"increase\", \"increase\", \"increase\", \"increase\", \"increase\", \"increase\", \"increase\", \"increase\", \"increase\", \"increase\", \"increase\", \"increase\", \"indian\", \"indian\", \"indian\", \"indian\", \"indian\", \"indian\", \"indian\", \"indian\", \"indians\", \"indians\", \"individual\", \"individual\", \"individual\", \"individual\", \"individual\", \"individual\", \"individual\", \"individual\", \"individual\", \"individual\", \"infection\", \"infectious\", \"inflation\", \"inflation\", \"inflation\", \"information\", \"information\", \"information\", \"information\", \"information\", \"information\", \"information\", \"information\", \"information\", \"information\", \"inspector\", \"inspector\", \"institutes\", \"institutes\", \"institution\", \"institution\", \"institution\", \"institution\", \"institution\", \"insurance\", \"insurance\", \"insurance\", \"insurance\", \"insurance\", \"insurance\", \"insurance\", \"insurance\", \"intelligence\", \"intelligence\", \"intensify\", \"interior\", \"interior\", \"interior\", \"internal\", \"international\", \"international\", \"international\", \"international\", \"international\", \"international\", \"international\", \"internet\", \"internet\", \"internet\", \"internet\", \"internet\", \"introduce\", \"investigation\", \"investigation\", \"investigation\", \"investigation\", \"investment\", \"investment\", \"investment\", \"investment\", \"investment\", \"investment\", \"investment\", \"investment\", \"investment\", \"ira\", \"iran\", \"iranian\", \"irans\", \"iraq\", \"iraq\", \"irs\", \"irs\", \"islands\", \"islands\", \"islands\", \"itemize\", \"iv\", \"iv\", \"iv\", \"iv\", \"jerusalem\", \"job\", \"job\", \"job\", \"job\", \"job\", \"job\", \"job\", \"job\", \"job\", \"job\", \"kindergarten\", \"korean\", \"label\", \"label\", \"label\", \"label\", \"labeling\", \"labeling\", \"labeling\", \"labeling\", \"labor\", \"labor\", \"labor\", \"labor\", \"labor\", \"labor\", \"labor\", \"labor\", \"lake\", \"lakes\", \"land\", \"land\", \"land\", \"land\", \"law\", \"law\", \"law\", \"law\", \"law\", \"law\", \"law\", \"law\", \"law\", \"law\", \"law\", \"law\", \"lea\", \"leadbased\", \"legislative\", \"legislative\", \"legislative\", \"legislative\", \"lng\", \"loan\", \"loan\", \"loan\", \"loan\", \"loan\", \"loan\", \"loan\", \"loan\", \"local\", \"local\", \"local\", \"local\", \"local\", \"local\", \"local\", \"local\", \"local\", \"local\", \"local\", \"local\", \"locate\", \"locate\", \"locate\", \"locate\", \"locate\", \"locate\", \"locate\", \"locate\", \"locate\", \"locate\", \"locate\", \"locate\", \"lunch\", \"mac\", \"mae\", \"magnusonstevens\", \"management\", \"management\", \"management\", \"management\", \"management\", \"management\", \"management\", \"management\", \"management\", \"management\", \"management\", \"manipulation\", \"marginal\", \"mariana\", \"market\", \"market\", \"market\", \"market\", \"market\", \"market\", \"market\", \"market\", \"market\", \"mathematics\", \"measure\", \"measure\", \"measure\", \"measure\", \"measure\", \"measure\", \"measure\", \"measure\", \"measure\", \"measure\", \"medal\", \"medal\", \"medicaid\", \"medicaid\", \"medical\", \"medical\", \"medical\", \"medical\", \"medical\", \"medical\", \"medicare\", \"medication\", \"member\", \"member\", \"member\", \"member\", \"member\", \"member\", \"member\", \"memorial\", \"memorial\", \"memorial\", \"memorial\", \"memorial\", \"memorial\", \"mental\", \"mental\", \"mental\", \"mental\", \"mental\", \"merchant\", \"mercury\", \"mercury\", \"methyl\", \"mexico\", \"mexico\", \"mexico\", \"migratory\", \"military\", \"military\", \"military\", \"military\", \"military\", \"milk\", \"milk\", \"mining\", \"mint\", \"misdemeanor\", \"mixture\", \"mixture\", \"mixture\", \"mobile\", \"mobile\", \"mobile\", \"mobile\", \"mobile\", \"monoxide\", \"mortgage\", \"mortgage\", \"mortgage\", \"mortgage\", \"mortgagor\", \"motor\", \"motor\", \"motor\", \"multifamily\", \"municipality\", \"nasa\", \"national\", \"national\", \"national\", \"national\", \"national\", \"national\", \"national\", \"national\", \"national\", \"national\", \"national\", \"national\", \"national\", \"nationality\", \"nations\", \"native\", \"native\", \"native\", \"native\", \"native\", \"native\", \"native\", \"nato\", \"natural\", \"natural\", \"natural\", \"natural\", \"natural\", \"naturalization\", \"naval\", \"navy\", \"navy\", \"needy\", \"nevada\", \"nevada\", \"new\", \"new\", \"new\", \"new\", \"new\", \"new\", \"new\", \"new\", \"new\", \"new\", \"new\", \"new\", \"new\", \"nhtsa\", \"nih\", \"nih\", \"noaa\", \"nonattainment\", \"nonbusiness\", \"nondepartment\", \"nonimmigrant\", \"nonprofit\", \"nonprofit\", \"nonprofit\", \"nonprofit\", \"nonproliferation\", \"nonregular\", \"nonva\", \"nuclear\", \"nuclear\", \"nurse\", \"nurse\", \"nurse\", \"nurse\", \"nursing\", \"nursing\", \"nursing\", \"nutrient\", \"nutrition\", \"oasdi\", \"obesity\", \"occur\", \"occur\", \"occur\", \"occur\", \"occur\", \"occur\", \"occur\", \"occur\", \"occur\", \"occur\", \"occur\", \"oceanic\", \"ocs\", \"office\", \"office\", \"office\", \"office\", \"office\", \"office\", \"office\", \"office\", \"office\", \"office\", \"officer\", \"officer\", \"officer\", \"officer\", \"officer\", \"officer\", \"officer\", \"officer\", \"oil\", \"oil\", \"oil\", \"oil\", \"oil\", \"oil\", \"oil\", \"old\", \"old\", \"old\", \"old\", \"old\", \"old\", \"oldage\", \"omb\", \"omnibus\", \"omnibus\", \"omnibus\", \"omnibus\", \"omnibus\", \"omnibus\", \"opioid\", \"organization\", \"organization\", \"organization\", \"organization\", \"organization\", \"organization\", \"organization\", \"organization\", \"organization\", \"organization\", \"organization\", \"organization\", \"orientation\", \"orientation\", \"outer\", \"outer\", \"outer\", \"ozone\", \"pain\", \"pain\", \"paint\", \"palliative\", \"palliative\", \"park\", \"park\", \"park\", \"pass\", \"pass\", \"pass\", \"pass\", \"pass\", \"pass\", \"pass\", \"passenger\", \"passenger\", \"passport\", \"patient\", \"patient\", \"patient\", \"pay\", \"pay\", \"pay\", \"pay\", \"pay\", \"pay\", \"pay\", \"pay\", \"pay\", \"pay\", \"payment\", \"payment\", \"payment\", \"payment\", \"payment\", \"payment\", \"payment\", \"payment\", \"payment\", \"payment\", \"payment\", \"pell\", \"penalty\", \"penalty\", \"penalty\", \"penalty\", \"penalty\", \"penalty\", \"penalty\", \"peoples\", \"period\", \"period\", \"period\", \"period\", \"period\", \"period\", \"period\", \"period\", \"period\", \"period\", \"period\", \"period\", \"permanent\", \"permanent\", \"permanent\", \"permanent\", \"permanent\", \"permanent\", \"permanent\", \"permanent\", \"permanent\", \"permanent\", \"permanent\", \"permanent\", \"person\", \"person\", \"person\", \"person\", \"person\", \"person\", \"person\", \"person\", \"person\", \"person\", \"person\", \"person\", \"petition\", \"petition\", \"petroleum\", \"philippines\", \"phosphate\", \"physician\", \"physician\", \"physician\", \"pigment\", \"pilot\", \"pilot\", \"pilot\", \"pilot\", \"pilot\", \"pilot\", \"plaintiff\", \"plan\", \"plan\", \"plan\", \"plan\", \"plan\", \"plan\", \"plan\", \"plan\", \"plan\", \"plan\", \"plan\", \"plan\", \"plastic\", \"policy\", \"policy\", \"policy\", \"policy\", \"policy\", \"policy\", \"policy\", \"policy\", \"policy\", \"policy\", \"policy\", \"pollution\", \"pollution\", \"polymer\", \"post\", \"post\", \"post\", \"post\", \"post\", \"post\", \"postal\", \"postal\", \"postal\", \"postal\", \"postal\", \"posttraumatic\", \"poultry\", \"pound\", \"pound\", \"pound\", \"power\", \"power\", \"power\", \"power\", \"power\", \"power\", \"power\", \"power\", \"ppaca\", \"pregnancy\", \"prekindergarten\", \"prescription\", \"prescription\", \"prescription\", \"prescription\", \"president\", \"president\", \"president\", \"president\", \"president\", \"president\", \"prevention\", \"prevention\", \"prevention\", \"prevention\", \"prevention\", \"prevention\", \"prevention\", \"prevention\", \"prevention\", \"prevention\", \"prevention\", \"prevention\", \"price\", \"price\", \"price\", \"price\", \"price\", \"price\", \"prison\", \"prison\", \"prison\", \"prison\", \"prison\", \"prison\", \"produce\", \"produce\", \"produce\", \"produce\", \"produce\", \"produce\", \"produce\", \"producer\", \"producer\", \"producer\", \"producer\", \"producer\", \"producer\", \"product\", \"product\", \"product\", \"product\", \"product\", \"product\", \"product\", \"product\", \"product\", \"production\", \"production\", \"production\", \"production\", \"production\", \"production\", \"production\", \"profiling\", \"program\", \"program\", \"program\", \"program\", \"program\", \"program\", \"program\", \"program\", \"program\", \"program\", \"program\", \"program\", \"prohibit\", \"prohibit\", \"prohibit\", \"prohibit\", \"prohibit\", \"prohibit\", \"prohibit\", \"prohibit\", \"prohibit\", \"prohibit\", \"prohibit\", \"prohibit\", \"project\", \"project\", \"project\", \"project\", \"project\", \"project\", \"project\", \"project\", \"project\", \"project\", \"proliferation\", \"promote\", \"promote\", \"promote\", \"promote\", \"promote\", \"promote\", \"promote\", \"promote\", \"promote\", \"promote\", \"promote\", \"promote\", \"property\", \"property\", \"property\", \"property\", \"property\", \"property\", \"property\", \"property\", \"property\", \"property\", \"prosecution\", \"prosecution\", \"prostate\", \"protection\", \"protection\", \"protection\", \"protection\", \"protection\", \"protection\", \"protection\", \"protection\", \"protection\", \"protection\", \"protection\", \"protection\", \"provision\", \"provision\", \"provision\", \"provision\", \"provision\", \"provision\", \"provision\", \"provision\", \"provision\", \"provision\", \"provision\", \"provision\", \"provision\", \"public\", \"public\", \"public\", \"public\", \"public\", \"public\", \"public\", \"public\", \"public\", \"public\", \"public\", \"public\", \"python\", \"qualified\", \"qualified\", \"qualified\", \"qualified\", \"qualified\", \"qualified\", \"qualified\", \"qualified\", \"radio\", \"rail\", \"rate\", \"rate\", \"rate\", \"rate\", \"rate\", \"rate\", \"rate\", \"rate\", \"rate\", \"rate\", \"rate\", \"rate\", \"reactor\", \"realignment\", \"reclamation\", \"recognition\", \"recognition\", \"recognition\", \"recognition\", \"recognition\", \"recognition\", \"recognition\", \"recognition\", \"recognition\", \"recommendation\", \"recommendation\", \"recommendation\", \"recommendation\", \"recommendation\", \"recommendation\", \"recommendation\", \"recommendation\", \"recommendation\", \"recommendation\", \"recorder\", \"recreation\", \"recreational\", \"recreational\", \"recreational\", \"redistricte\", \"redistricting\", \"refuge\", \"refundable\", \"registration\", \"registration\", \"registration\", \"registration\", \"regulation\", \"regulation\", \"regulation\", \"regulation\", \"regulation\", \"regulation\", \"regulation\", \"regulation\", \"regulation\", \"reintegration\", \"relations\", \"relief\", \"relief\", \"relief\", \"relief\", \"relief\", \"relief\", \"relief\", \"relief\", \"relief\", \"relief\", \"relief\", \"renewable\", \"renewable\", \"renewable\", \"renewable\", \"repeal\", \"repeal\", \"repeal\", \"repeal\", \"repeal\", \"repeal\", \"repeal\", \"repeal\", \"repeal\", \"repeal\", \"repeal\", \"repeal\", \"repeat\", \"report\", \"report\", \"report\", \"report\", \"report\", \"report\", \"report\", \"report\", \"report\", \"report\", \"report\", \"report\", \"require\", \"require\", \"require\", \"require\", \"require\", \"require\", \"require\", \"require\", \"require\", \"require\", \"require\", \"require\", \"requirement\", \"requirement\", \"requirement\", \"requirement\", \"requirement\", \"requirement\", \"requirement\", \"requirement\", \"requirement\", \"requirement\", \"requirement\", \"requirement\", \"research\", \"research\", \"research\", \"research\", \"research\", \"research\", \"research\", \"reserve\", \"reserve\", \"reserve\", \"reserve\", \"reserve\", \"reserve\", \"resin\", \"resolution\", \"resolution\", \"resolution\", \"resolution\", \"resolution\", \"resolution\", \"resource\", \"resource\", \"resource\", \"resource\", \"resource\", \"resource\", \"resource\", \"resource\", \"resource\", \"resource\", \"resource\", \"retire\", \"retired\", \"retirement\", \"retirement\", \"retirement\", \"retirement\", \"revenue\", \"review\", \"review\", \"review\", \"review\", \"review\", \"review\", \"review\", \"review\", \"review\", \"review\", \"richard\", \"richard\", \"rico\", \"rico\", \"rico\", \"right\", \"right\", \"right\", \"right\", \"right\", \"right\", \"right\", \"right\", \"river\", \"roof\", \"roth\", \"rule\", \"rule\", \"rule\", \"rule\", \"rule\", \"rule\", \"rule\", \"rule\", \"rule\", \"rule\", \"rule\", \"rural\", \"rural\", \"rural\", \"rural\", \"rural\", \"rural\", \"rural\", \"russell\", \"safe\", \"safe\", \"safe\", \"safe\", \"safe\", \"safe\", \"safe\", \"safe\", \"safe\", \"safe\", \"safe\", \"safe\", \"safety\", \"safety\", \"safety\", \"safety\", \"safety\", \"safety\", \"safety\", \"safety\", \"safety\", \"safety\", \"salt\", \"salt\", \"samoa\", \"sanction\", \"sanction\", \"sanction\", \"sanctions\", \"santa\", \"sarbanesoxley\", \"saving\", \"saving\", \"saving\", \"saving\", \"saving\", \"saving\", \"saving\", \"saving\", \"sba\", \"sbir\", \"sbp\", \"schedule\", \"schedule\", \"schip\", \"schip\", \"scholarship\", \"scholarship\", \"scholarship\", \"school\", \"science\", \"science\", \"science\", \"science\", \"science\", \"science\", \"secondary\", \"secondary\", \"secondary\", \"securities\", \"securities\", \"securities\", \"security\", \"security\", \"security\", \"security\", \"security\", \"security\", \"security\", \"security\", \"security\", \"security\", \"sentence\", \"sentence\", \"serve\", \"serve\", \"serve\", \"serve\", \"serve\", \"serve\", \"serve\", \"serve\", \"serve\", \"serve\", \"service\", \"service\", \"service\", \"service\", \"service\", \"service\", \"service\", \"service\", \"service\", \"service\", \"service\", \"service\", \"service\", \"serviceconnecte\", \"servicedisable\", \"servicemember\", \"servicer\", \"sex\", \"sex\", \"sex\", \"sexual\", \"sexual\", \"sexual\", \"sexual\", \"sexual\", \"sexual\", \"shelf\", \"shelf\", \"shutdown\", \"shutdown\", \"signal\", \"site\", \"site\", \"site\", \"site\", \"site\", \"site\", \"small\", \"small\", \"small\", \"small\", \"smuggling\", \"snap\", \"social\", \"social\", \"soldier\", \"solid\", \"solid\", \"specie\", \"species\", \"spectrum\", \"spectrum\", \"spectrum\", \"speculation\", \"spirit\", \"spouse\", \"spouse\", \"spouse\", \"spouse\", \"ssa\", \"ssa\", \"ssi\", \"stabilization\", \"stabilization\", \"stabilization\", \"stabilization\", \"standard\", \"standard\", \"standard\", \"standard\", \"standard\", \"standard\", \"standard\", \"standard\", \"standard\", \"standard\", \"standard\", \"standard\", \"staple\", \"stationary\", \"street\", \"street\", \"street\", \"street\", \"street\", \"street\", \"street\", \"stress\", \"student\", \"student\", \"student\", \"student\", \"study\", \"study\", \"study\", \"study\", \"study\", \"study\", \"study\", \"study\", \"study\", \"study\", \"subgrant\", \"subgrant\", \"submit\", \"submit\", \"submit\", \"submit\", \"submit\", \"submit\", \"submit\", \"submit\", \"submit\", \"submit\", \"subscriber\", \"sudan\", \"summary\", \"supplementary\", \"support\", \"support\", \"support\", \"support\", \"support\", \"support\", \"support\", \"support\", \"support\", \"support\", \"support\", \"support\", \"supreme\", \"surgery\", \"survive\", \"survive\", \"survivor\", \"survivor\", \"survivor\", \"survivor\", \"suspend\", \"suspension\", \"swap\", \"swap\", \"syndrome\", \"system\", \"system\", \"system\", \"system\", \"system\", \"system\", \"system\", \"system\", \"system\", \"system\", \"system\", \"system\", \"system\", \"t\", \"t\", \"t\", \"t\", \"tanf\", \"tariff\", \"tarp\", \"tax\", \"taxable\", \"taxexempt\", \"taxfree\", \"taxis\", \"taxis\", \"taxpayer\", \"taxpayer\", \"taxpayer\", \"taxpayer\", \"taxpayer\", \"taxpayer\", \"teacher\", \"teacher\", \"technician\", \"technician\", \"technology\", \"technology\", \"technology\", \"technology\", \"technology\", \"technology\", \"technology\", \"technology\", \"technology\", \"technology\", \"technology\", \"telecommunications\", \"telecommunications\", \"television\", \"television\", \"temporarily\", \"temporary\", \"temporary\", \"temporary\", \"temporary\", \"temporary\", \"tempore\", \"terrorism\", \"terrorism\", \"terrorism\", \"terrorism\", \"terrorist\", \"terrorist\", \"terrorist\", \"terrorist\", \"textile\", \"therapist\", \"therapy\", \"therapy\", \"tickborne\", \"ticket\", \"tissue\", \"title\", \"title\", \"title\", \"title\", \"title\", \"title\", \"title\", \"title\", \"title\", \"title\", \"title\", \"title\", \"titles\", \"tobacco\", \"tobacco\", \"tobacco\", \"toddler\", \"toll\", \"trade\", \"trade\", \"trade\", \"trade\", \"trade\", \"trade\", \"trade\", \"trade\", \"trading\", \"trading\", \"trafficking\", \"trafficking\", \"trafficking\", \"trail\", \"trails\", \"training\", \"training\", \"training\", \"training\", \"training\", \"training\", \"training\", \"training\", \"transaction\", \"transaction\", \"transaction\", \"transaction\", \"transit\", \"transit\", \"transportation\", \"transportation\", \"transportation\", \"transportation\", \"transportation\", \"transportation\", \"transportation\", \"transportation\", \"transportation\", \"transportation\", \"traumatic\", \"travel\", \"travel\", \"travel\", \"travel\", \"travel\", \"travel\", \"travel\", \"travel\", \"treatment\", \"treatment\", \"treatment\", \"treatment\", \"treatment\", \"treatment\", \"treatment\", \"treatment\", \"treatment\", \"treatment\", \"treatment\", \"treatment\", \"tribe\", \"tribe\", \"tribe\", \"tribe\", \"tribe\", \"tricare\", \"troubled\", \"truck\", \"truck\", \"tsa\", \"udall\", \"ukraine\", \"ultrasound\", \"un\", \"unborn\", \"uniformed\", \"uniformed\", \"unlawfully\", \"urban\", \"urban\", \"urban\", \"usbc\", \"use\", \"use\", \"use\", \"use\", \"use\", \"use\", \"use\", \"use\", \"use\", \"use\", \"use\", \"use\", \"use\", \"utility\", \"utility\", \"utility\", \"utility\", \"va\", \"va\", \"va\", \"valley\", \"valley\", \"valor\", \"vehicle\", \"vehicle\", \"vehicle\", \"vehicle\", \"version\", \"vessel\", \"vessel\", \"vessel\", \"vessel\", \"vessel\", \"veteran\", \"veteran\", \"veteran\", \"veteran\", \"veterans\", \"veterans\", \"veterans\", \"veterinarian\", \"veterinary\", \"vha\", \"vice\", \"victim\", \"victim\", \"victim\", \"victim\", \"victim\", \"victim\", \"vietnam\", \"violation\", \"violation\", \"violation\", \"violation\", \"violation\", \"visa\", \"vocational\", \"vote\", \"vote\", \"vote\", \"vote\", \"voter\", \"voting\", \"voting\", \"walsh\", \"war\", \"waste\", \"waste\", \"waste\", \"waste\", \"waste\", \"wastewater\", \"water\", \"watershed\", \"weatherization\", \"welfare\", \"welfare\", \"welfare\", \"welfare\", \"welfare\", \"widow\", \"widow\", \"widower\", \"wild\", \"wild\", \"wilderness\", \"wilderness\", \"wildfire\", \"wildfire\", \"wildfire\", \"wildlife\", \"wireless\", \"wolf\", \"workforce\", \"workforce\", \"workforce\", \"workforce\", \"workforce\", \"workforce\", \"world\", \"world\", \"world\", \"world\", \"world\", \"wound\", \"wound\", \"xi\", \"xix\", \"xix\", \"xvi\", \"xviii\", \"xxi\", \"xxi\", \"yarn\", \"year\", \"year\", \"year\", \"year\", \"year\", \"year\", \"year\", \"year\", \"year\", \"year\", \"year\", \"year\", \"youth\", \"youth\", \"youth\"]}, \"R\": 30, \"lambda.step\": 0.01, \"plot.opts\": {\"xlab\": \"PC1\", \"ylab\": \"PC2\"}, \"topic.order\": [1, 7, 9, 13, 6, 12, 5, 10, 2, 4, 8, 11, 3]};\n",
       "\n",
       "function LDAvis_load_lib(url, callback){\n",
       "  var s = document.createElement('script');\n",
       "  s.src = url;\n",
       "  s.async = true;\n",
       "  s.onreadystatechange = s.onload = callback;\n",
       "  s.onerror = function(){console.warn(\"failed to load library \" + url);};\n",
       "  document.getElementsByTagName(\"head\")[0].appendChild(s);\n",
       "}\n",
       "\n",
       "if(typeof(LDAvis) !== \"undefined\"){\n",
       "   // already loaded: just create the visualization\n",
       "   !function(LDAvis){\n",
       "       new LDAvis(\"#\" + \"ldavis_el458261127572681767602741927\", ldavis_el458261127572681767602741927_data);\n",
       "   }(LDAvis);\n",
       "}else if(typeof define === \"function\" && define.amd){\n",
       "   // require.js is available: use it to load d3/LDAvis\n",
       "   require.config({paths: {d3: \"https://cdnjs.cloudflare.com/ajax/libs/d3/3.5.5/d3.min\"}});\n",
       "   require([\"d3\"], function(d3){\n",
       "      window.d3 = d3;\n",
       "      LDAvis_load_lib(\"https://cdn.rawgit.com/bmabey/pyLDAvis/files/ldavis.v1.0.0.js\", function(){\n",
       "        new LDAvis(\"#\" + \"ldavis_el458261127572681767602741927\", ldavis_el458261127572681767602741927_data);\n",
       "      });\n",
       "    });\n",
       "}else{\n",
       "    // require.js not available: dynamically load d3 & LDAvis\n",
       "    LDAvis_load_lib(\"https://cdnjs.cloudflare.com/ajax/libs/d3/3.5.5/d3.min.js\", function(){\n",
       "         LDAvis_load_lib(\"https://cdn.rawgit.com/bmabey/pyLDAvis/files/ldavis.v1.0.0.js\", function(){\n",
       "                 new LDAvis(\"#\" + \"ldavis_el458261127572681767602741927\", ldavis_el458261127572681767602741927_data);\n",
       "            })\n",
       "         });\n",
       "}\n",
       "</script>"
      ],
      "text/plain": [
       "PreparedData(topic_coordinates=                x           y  topics  cluster       Freq\n",
       "topic                                                    \n",
       "0      -28.370157   75.716713       1        1  10.495467\n",
       "6      140.525131  125.038422       2        1   9.997081\n",
       "8      -15.713381   -6.499068       3        1   9.028742\n",
       "12     -34.624741  168.429764       4        1   8.794859\n",
       "5       66.229309    7.804511       5        1   8.688814\n",
       "11      54.002045   90.614914       6        1   8.472334\n",
       "4     -115.580109  108.730423       7        1   7.601226\n",
       "9      156.040054   31.690395       8        1   7.493485\n",
       "1       31.304781  -90.663383       9        1   6.732285\n",
       "3      125.523102  -64.160110      10        1   6.379376\n",
       "7     -110.481079   11.011040      11        1   5.795032\n",
       "10      58.766029  183.607056      12        1   5.455210\n",
       "2      -69.457687  -81.489365      13        1   5.066089, topic_info=     Category          Freq           Term         Total  loglift  logprob\n",
       "4096  Default  15425.000000         health  15425.000000  30.0000  30.0000\n",
       "2821  Default   9077.000000           duty   9077.000000  29.0000  29.0000\n",
       "7831  Default   9809.000000        revenue   9809.000000  28.0000  28.0000\n",
       "8956  Default   9718.000000            tax   9718.000000  27.0000  27.0000\n",
       "4721  Default   9399.000000       internal   9399.000000  26.0000  26.0000\n",
       "8140  Default  12139.000000       security  12139.000000  25.0000  25.0000\n",
       "7150  Default  18663.000000        program  18663.000000  24.0000  24.0000\n",
       "8434  Default   6132.000000         social   6132.000000  23.0000  23.0000\n",
       "1620  Default  14559.000000           code  14559.000000  22.0000  22.0000\n",
       "2878  Default   8269.000000      education   8269.000000  21.0000  21.0000\n",
       "3029  Default   6691.000000         energy   6691.000000  20.0000  20.0000\n",
       "1274  Default   7732.000000           care   7732.000000  19.0000  19.0000\n",
       "9009  Default   4641.000000    temporarily   4641.000000  18.0000  18.0000\n",
       "2104  Default   6742.000000         credit   6742.000000  17.0000  17.0000\n",
       "5026  Default   5158.000000           land   5158.000000  16.0000  16.0000\n",
       "5528  Default   4543.000000       medicare   4543.000000  15.0000  15.0000\n",
       "5511  Default   5069.000000        measure   5069.000000  14.0000  14.0000\n",
       "8073  Default   4269.000000         school   4269.000000  13.0000  13.0000\n",
       "8063  Default   4302.000000       schedule   4302.000000  12.0000  12.0000\n",
       "8873  Default   4130.000000        suspend   4130.000000  11.0000  11.0000\n",
       "8951  Default   3988.000000         tariff   3988.000000  10.0000  10.0000\n",
       "9138  Default  10881.000000          title  10881.000000   9.0000   9.0000\n",
       "9639  Default   5591.000000        veteran   5591.000000   8.0000   8.0000\n",
       "5552  Default   4983.000000         member   4983.000000   7.0000   7.0000\n",
       "8222  Default  17678.000000        service  17678.000000   6.0000   6.0000\n",
       "4062  Default   3799.000000     harmonized   3799.000000   5.0000   5.0000\n",
       "3300  Default   7123.000000         extend   7123.000000   4.0000   4.0000\n",
       "1154  Default   5457.000000       business   5457.000000   3.0000   3.0000\n",
       "8813  Default   3500.000000        summary   3500.000000   2.0000   2.0000\n",
       "9782  Default   3989.000000          water   3989.000000   1.0000   1.0000\n",
       "...       ...           ...            ...           ...      ...      ...\n",
       "1572  Topic13    259.086441         clinic    340.293017   2.7100  -5.9012\n",
       "2387  Topic13   3022.951543     department   6307.259421   2.2471  -3.4444\n",
       "9639  Topic13   2692.827449        veteran   5591.309192   2.2520  -3.5600\n",
       "1453  Topic13   2187.793481          child   4859.363921   2.1846  -3.7677\n",
       "1274  Topic13   3155.740415           care   7732.289313   2.0864  -3.4014\n",
       "9818  Topic13    218.603760        welfare    305.767447   2.6470  -6.0711\n",
       "8067  Topic13    174.086562          schip    244.925027   2.6412  -6.2988\n",
       "3342  Topic13   1486.069936       facility   4231.003384   1.9363  -4.1545\n",
       "9776  Topic13    350.896138          waste    622.331376   2.4096  -5.5979\n",
       "2375  Topic13    393.693057  demonstration    783.583752   2.2943  -5.4828\n",
       "3369  Topic13    962.585249         family   2803.476194   1.9136  -4.5887\n",
       "4843  Topic13    337.620630             iv    648.417010   2.3300  -5.6364\n",
       "7150  Topic13   2916.007662        program  18663.676782   1.1262  -3.4804\n",
       "528   Topic13    752.143899  appropriation   2437.058214   1.8070  -4.8354\n",
       "3768  Topic13    450.923111             fy   1220.839446   1.9866  -5.3470\n",
       "3523  Topic13    601.258910         fiscal   2093.279957   1.7351  -5.0593\n",
       "8222  Topic13   1740.494889        service  17678.002557   0.6644  -3.9964\n",
       "4096  Topic13   1588.671155         health  15425.437857   0.7095  -4.0877\n",
       "9138  Topic13   1236.792813          title  10881.709160   0.8080  -4.3381\n",
       "7965  Topic13    475.655866          rural   1504.833894   1.8309  -5.2937\n",
       "9966  Topic13    782.897420           year   6591.687060   0.8520  -4.7953\n",
       "4431  Topic13    642.738627        improve   4436.119862   1.0508  -4.9926\n",
       "640   Topic13    729.400947     assistance   6512.972831   0.7933  -4.8661\n",
       "2564  Topic13    809.963079         direct   9238.326598   0.5485  -4.7614\n",
       "7721  Topic13    925.308700        require  15284.041674   0.1782  -4.6282\n",
       "3143  Topic13    716.451211      establish  10191.404384   0.3276  -4.8840\n",
       "1620  Topic13    735.246882           code  14559.154110  -0.0032  -4.8581\n",
       "236   Topic13    608.269598         agency   6733.277952   0.5784  -5.0477\n",
       "4433  Topic13    521.615596    improvement   2701.428025   1.3380  -5.2014\n",
       "8986  Topic13    474.768760     technology   2490.569756   1.3252  -5.2955\n",
       "\n",
       "[953 rows x 6 columns], token_table=      Topic      Freq       Term\n",
       "term                            \n",
       "8         4  0.980953  abduction\n",
       "20        4  0.998673   abortion\n",
       "31        4  0.990898   absentee\n",
       "38        1  0.157388      abuse\n",
       "38        3  0.202356      abuse\n",
       "38        4  0.600645      abuse\n",
       "38        7  0.001071      abuse\n",
       "38        9  0.018201      abuse\n",
       "38       10  0.002141      abuse\n",
       "38       12  0.018201      abuse\n",
       "45        3  0.195758   academic\n",
       "45        4  0.001938   academic\n",
       "45       12  0.800477   academic\n",
       "56        1  0.071708     access\n",
       "56        2  0.000565     access\n",
       "56        3  0.075378     access\n",
       "56        4  0.226135     access\n",
       "56        5  0.003952     access\n",
       "56        6  0.033031     access\n",
       "56        7  0.006493     access\n",
       "56        8  0.130430     access\n",
       "56        9  0.044606     access\n",
       "56       10  0.247873     access\n",
       "56       12  0.054205     access\n",
       "56       13  0.105586     access\n",
       "71        1  0.025781    account\n",
       "71        2  0.606764    account\n",
       "71        3  0.016573    account\n",
       "71        4  0.004143    account\n",
       "71        5  0.057085    account\n",
       "...     ...       ...        ...\n",
       "9924      5  0.066768      world\n",
       "9924      6  0.001805      world\n",
       "9924      7  0.835504      world\n",
       "9924      9  0.061354      world\n",
       "9924     12  0.036091      world\n",
       "9928      7  0.957352      wound\n",
       "9928     13  0.039890      wound\n",
       "9945     10  0.995933         xi\n",
       "9947     10  0.994581        xix\n",
       "9947     13  0.004648        xix\n",
       "9950     10  0.993120        xvi\n",
       "9952     10  0.999754      xviii\n",
       "9954     10  0.068928        xxi\n",
       "9954     13  0.923630        xxi\n",
       "9964     11  0.993260       yarn\n",
       "9966      1  0.069633       year\n",
       "9966      2  0.231959       year\n",
       "9966      3  0.026700       year\n",
       "9966      4  0.008799       year\n",
       "9966      5  0.232414       year\n",
       "9966      6  0.009709       year\n",
       "9966      7  0.136536       year\n",
       "9966      8  0.032162       year\n",
       "9966      9  0.023059       year\n",
       "9966     10  0.047332       year\n",
       "9966     12  0.063110       year\n",
       "9966     13  0.118786       year\n",
       "9979      3  0.887716      youth\n",
       "9979     12  0.054830      youth\n",
       "9979     13  0.057440      youth\n",
       "\n",
       "[2904 rows x 3 columns], R=30, lambda_step=0.01, plot_opts={'xlab': 'PC1', 'ylab': 'PC2'}, topic_order=[1, 7, 9, 13, 6, 12, 5, 10, 2, 4, 8, 11, 3])"
      ]
     },
     "execution_count": 101,
     "metadata": {},
     "output_type": "execute_result"
    }
   ],
   "source": [
    "pyLDAvis.enable_notebook()\n",
    "panel = pyLDAvis.sklearn.prepare(best_lda_model, transformed, vectorizer, mds='tsne')\n",
    "panel"
   ]
  },
  {
   "cell_type": "markdown",
   "metadata": {},
   "source": [
    "**Visualization using SVD and Kmeans**"
   ]
  },
  {
   "cell_type": "code",
   "execution_count": 103,
   "metadata": {},
   "outputs": [
    {
     "name": "stdout",
     "output_type": "stream",
     "text": [
      "Component's weights: \n",
      " [[ 0.26  0.12  0.09  0.09  0.14  0.18  0.22  0.84  0.16  0.14  0.08  0.2\n",
      "   0.13]\n",
      " [-0.4  -0.16 -0.09 -0.13 -0.19 -0.24 -0.47  0.54 -0.26 -0.18 -0.11 -0.18\n",
      "  -0.21]]\n",
      "Perc of Variance Explained: \n",
      " [0.07 0.11]\n"
     ]
    }
   ],
   "source": [
    "# Construct the k-means clusters\n",
    "from sklearn.decomposition import TruncatedSVD\n",
    "from sklearn.cluster import KMeans\n",
    "\n",
    "clusters = KMeans(n_clusters=15, random_state=100).fit_predict(lda_output)\n",
    "\n",
    "# Build the Singular Value Decomposition(SVD) model\n",
    "svd_model = TruncatedSVD(n_components=2)  # 2 components\n",
    "lda_output_svd = svd_model.fit_transform(lda_output)\n",
    "\n",
    "# X and Y axes of the plot using SVD decomposition\n",
    "x = lda_output_svd[:, 0]\n",
    "y = lda_output_svd[:, 1]\n",
    "\n",
    "# Weights for the 15 columns of lda_output, for each component\n",
    "print(\"Component's weights: \\n\", np.round(svd_model.components_, 2))\n",
    "\n",
    "# Percentage of total information in 'lda_output' explained by the two components\n",
    "print(\"Perc of Variance Explained: \\n\", np.round(svd_model.explained_variance_ratio_, 2))"
   ]
  },
  {
   "cell_type": "code",
   "execution_count": 104,
   "metadata": {},
   "outputs": [
    {
     "data": {
      "text/plain": [
       "Text(0.5, 1.0, 'Segregation of Topic Clusters')"
      ]
     },
     "execution_count": 104,
     "metadata": {},
     "output_type": "execute_result"
    },
    {
     "data": {
      "image/png": "[encoded data removed]",
      "text/plain": [
       "<Figure size 864x864 with 1 Axes>"
      ]
     },
     "metadata": {
      "needs_background": "light"
     },
     "output_type": "display_data"
    }
   ],
   "source": [
    "# Plot\n",
    "plt.figure(figsize=(12, 12))\n",
    "plt.scatter(x, y, c=clusters)\n",
    "plt.xlabel('Component 2')\n",
    "plt.xlabel('Component 1')\n",
    "plt.title(\"Segregation of Topic Clusters\", )"
   ]
  },
  {
   "cell_type": "markdown",
   "metadata": {},
   "source": [
    "**t-SNE**"
   ]
  },
  {
   "cell_type": "markdown",
   "metadata": {},
   "source": [
    "# Adding topics to MySQL:\n",
    "\n",
    "Create a separate table for topics and link with BillID Primary Key"
   ]
  },
  {
   "cell_type": "markdown",
   "metadata": {},
   "source": [
    "https://stackoverflow.com/questions/53518217/adding-topic-distribution-outcome-of-topic-model-to-pandas-dataframe"
   ]
  },
  {
   "cell_type": "code",
   "execution_count": 88,
   "metadata": {},
   "outputs": [
    {
     "data": {
      "text/plain": [
       "(51067, 44)"
      ]
     },
     "execution_count": 88,
     "metadata": {},
     "output_type": "execute_result"
    }
   ],
   "source": [
    "#make sure it is the right shape first!\n",
    "test.shape"
   ]
  },
  {
   "cell_type": "code",
   "execution_count": 89,
   "metadata": {},
   "outputs": [
    {
     "data": {
      "text/html": [
       "<div>\n",
       "<style scoped>\n",
       "    .dataframe tbody tr th:only-of-type {\n",
       "        vertical-align: middle;\n",
       "    }\n",
       "\n",
       "    .dataframe tbody tr th {\n",
       "        vertical-align: top;\n",
       "    }\n",
       "\n",
       "    .dataframe thead th {\n",
       "        text-align: right;\n",
       "    }\n",
       "</style>\n",
       "<table border=\"1\" class=\"dataframe\">\n",
       "  <thead>\n",
       "    <tr style=\"text-align: right;\">\n",
       "      <th></th>\n",
       "      <th>Topic0</th>\n",
       "      <th>Topic1</th>\n",
       "      <th>Topic2</th>\n",
       "      <th>Topic3</th>\n",
       "      <th>Topic4</th>\n",
       "      <th>Topic5</th>\n",
       "      <th>Topic6</th>\n",
       "      <th>Topic7</th>\n",
       "      <th>Topic8</th>\n",
       "      <th>Topic9</th>\n",
       "      <th>...</th>\n",
       "      <th>PassS</th>\n",
       "      <th>PLawDate</th>\n",
       "      <th>PLawNum</th>\n",
       "      <th>ImpBill</th>\n",
       "      <th>Majority</th>\n",
       "      <th>Major</th>\n",
       "      <th>Minor</th>\n",
       "      <th>URL</th>\n",
       "      <th>Summary</th>\n",
       "      <th>combined_text</th>\n",
       "    </tr>\n",
       "  </thead>\n",
       "  <tbody>\n",
       "    <tr>\n",
       "      <th>0</th>\n",
       "      <td>0.11</td>\n",
       "      <td>0.00</td>\n",
       "      <td>0.00</td>\n",
       "      <td>0.00</td>\n",
       "      <td>0.00</td>\n",
       "      <td>0.84</td>\n",
       "      <td>0.00</td>\n",
       "      <td>0.00</td>\n",
       "      <td>0.00</td>\n",
       "      <td>0.00</td>\n",
       "      <td>...</td>\n",
       "      <td>1</td>\n",
       "      <td>2007-08-03 00:00:00</td>\n",
       "      <td>Became Public Law No: 110-53.</td>\n",
       "      <td>1</td>\n",
       "      <td>1</td>\n",
       "      <td>16.0</td>\n",
       "      <td>1615.0</td>\n",
       "      <td>https://www.congress.gov/bill/110th-congress/h...</td>\n",
       "      <td>Implementing Recommendations of the 9/11 Commi...</td>\n",
       "      <td>To provide for the implementation of the recom...</td>\n",
       "    </tr>\n",
       "    <tr>\n",
       "      <th>1</th>\n",
       "      <td>0.03</td>\n",
       "      <td>0.03</td>\n",
       "      <td>0.03</td>\n",
       "      <td>0.03</td>\n",
       "      <td>0.35</td>\n",
       "      <td>0.03</td>\n",
       "      <td>0.03</td>\n",
       "      <td>0.03</td>\n",
       "      <td>0.03</td>\n",
       "      <td>0.03</td>\n",
       "      <td>...</td>\n",
       "      <td>0</td>\n",
       "      <td>None</td>\n",
       "      <td>0</td>\n",
       "      <td>1</td>\n",
       "      <td>1</td>\n",
       "      <td>20.0</td>\n",
       "      <td>2002.0</td>\n",
       "      <td>https://www.congress.gov/bill/110th-congress/h...</td>\n",
       "      <td></td>\n",
       "      <td>Reserved for Speaker.</td>\n",
       "    </tr>\n",
       "    <tr>\n",
       "      <th>2</th>\n",
       "      <td>0.00</td>\n",
       "      <td>0.00</td>\n",
       "      <td>0.00</td>\n",
       "      <td>0.00</td>\n",
       "      <td>0.40</td>\n",
       "      <td>0.03</td>\n",
       "      <td>0.04</td>\n",
       "      <td>0.00</td>\n",
       "      <td>0.17</td>\n",
       "      <td>0.00</td>\n",
       "      <td>...</td>\n",
       "      <td>0</td>\n",
       "      <td>None</td>\n",
       "      <td>0</td>\n",
       "      <td>1</td>\n",
       "      <td>1</td>\n",
       "      <td>6.0</td>\n",
       "      <td>601.0</td>\n",
       "      <td>https://www.congress.gov/bill/110th-congress/h...</td>\n",
       "      <td>Veterans' Equity in Education Act of 2007 - Am...</td>\n",
       "      <td>To amend the Higher Education Act of 1965 to p...</td>\n",
       "    </tr>\n",
       "    <tr>\n",
       "      <th>3</th>\n",
       "      <td>0.00</td>\n",
       "      <td>0.00</td>\n",
       "      <td>0.00</td>\n",
       "      <td>0.00</td>\n",
       "      <td>0.00</td>\n",
       "      <td>0.07</td>\n",
       "      <td>0.00</td>\n",
       "      <td>0.00</td>\n",
       "      <td>0.00</td>\n",
       "      <td>0.00</td>\n",
       "      <td>...</td>\n",
       "      <td>0</td>\n",
       "      <td>None</td>\n",
       "      <td>0</td>\n",
       "      <td>0</td>\n",
       "      <td>1</td>\n",
       "      <td>20.0</td>\n",
       "      <td>2006.0</td>\n",
       "      <td>https://www.congress.gov/bill/110th-congress/h...</td>\n",
       "      <td>Edward William Brooke III Congressional Gold M...</td>\n",
       "      <td>To award a congressional gold medal to Edward ...</td>\n",
       "    </tr>\n",
       "    <tr>\n",
       "      <th>4</th>\n",
       "      <td>0.00</td>\n",
       "      <td>0.00</td>\n",
       "      <td>0.00</td>\n",
       "      <td>0.08</td>\n",
       "      <td>0.00</td>\n",
       "      <td>0.66</td>\n",
       "      <td>0.20</td>\n",
       "      <td>0.00</td>\n",
       "      <td>0.00</td>\n",
       "      <td>0.00</td>\n",
       "      <td>...</td>\n",
       "      <td>0</td>\n",
       "      <td>None</td>\n",
       "      <td>0</td>\n",
       "      <td>1</td>\n",
       "      <td>1</td>\n",
       "      <td>19.0</td>\n",
       "      <td>1921.0</td>\n",
       "      <td>https://www.congress.gov/bill/110th-congress/h...</td>\n",
       "      <td>Amends the Caribbean Basin Economic Recovery A...</td>\n",
       "      <td>To amend the Haitian Hemispheric Opportunity t...</td>\n",
       "    </tr>\n",
       "  </tbody>\n",
       "</table>\n",
       "<p>5 rows × 44 columns</p>\n",
       "</div>"
      ],
      "text/plain": [
       "   Topic0  Topic1  Topic2  Topic3  Topic4  Topic5  Topic6  Topic7  Topic8  \\\n",
       "0    0.11    0.00    0.00    0.00    0.00    0.84    0.00    0.00    0.00   \n",
       "1    0.03    0.03    0.03    0.03    0.35    0.03    0.03    0.03    0.03   \n",
       "2    0.00    0.00    0.00    0.00    0.40    0.03    0.04    0.00    0.17   \n",
       "3    0.00    0.00    0.00    0.00    0.00    0.07    0.00    0.00    0.00   \n",
       "4    0.00    0.00    0.00    0.08    0.00    0.66    0.20    0.00    0.00   \n",
       "\n",
       "   Topic9  ...  PassS             PLawDate                        PLawNum  \\\n",
       "0    0.00  ...      1  2007-08-03 00:00:00  Became Public Law No: 110-53.   \n",
       "1    0.03  ...      0                 None                              0   \n",
       "2    0.00  ...      0                 None                              0   \n",
       "3    0.00  ...      0                 None                              0   \n",
       "4    0.00  ...      0                 None                              0   \n",
       "\n",
       "   ImpBill Majority Major   Minor  \\\n",
       "0        1        1  16.0  1615.0   \n",
       "1        1        1  20.0  2002.0   \n",
       "2        1        1   6.0   601.0   \n",
       "3        0        1  20.0  2006.0   \n",
       "4        1        1  19.0  1921.0   \n",
       "\n",
       "                                                 URL  \\\n",
       "0  https://www.congress.gov/bill/110th-congress/h...   \n",
       "1  https://www.congress.gov/bill/110th-congress/h...   \n",
       "2  https://www.congress.gov/bill/110th-congress/h...   \n",
       "3  https://www.congress.gov/bill/110th-congress/h...   \n",
       "4  https://www.congress.gov/bill/110th-congress/h...   \n",
       "\n",
       "                                             Summary  \\\n",
       "0  Implementing Recommendations of the 9/11 Commi...   \n",
       "1                                                      \n",
       "2  Veterans' Equity in Education Act of 2007 - Am...   \n",
       "3  Edward William Brooke III Congressional Gold M...   \n",
       "4  Amends the Caribbean Basin Economic Recovery A...   \n",
       "\n",
       "                                       combined_text  \n",
       "0  To provide for the implementation of the recom...  \n",
       "1                             Reserved for Speaker.   \n",
       "2  To amend the Higher Education Act of 1965 to p...  \n",
       "3  To award a congressional gold medal to Edward ...  \n",
       "4  To amend the Haitian Hemispheric Opportunity t...  \n",
       "\n",
       "[5 rows x 44 columns]"
      ]
     },
     "execution_count": 89,
     "metadata": {},
     "output_type": "execute_result"
    }
   ],
   "source": [
    "test.head()"
   ]
  },
  {
   "cell_type": "code",
   "execution_count": 93,
   "metadata": {},
   "outputs": [],
   "source": [
    "test2 = test.drop(columns=['IntrDate', 'PLawNum', 'PLawDate'])\n"
   ]
  },
  {
   "cell_type": "code",
   "execution_count": 94,
   "metadata": {},
   "outputs": [
    {
     "data": {
      "text/html": [
       "<div>\n",
       "<style scoped>\n",
       "    .dataframe tbody tr th:only-of-type {\n",
       "        vertical-align: middle;\n",
       "    }\n",
       "\n",
       "    .dataframe tbody tr th {\n",
       "        vertical-align: top;\n",
       "    }\n",
       "\n",
       "    .dataframe thead th {\n",
       "        text-align: right;\n",
       "    }\n",
       "</style>\n",
       "<table border=\"1\" class=\"dataframe\">\n",
       "  <thead>\n",
       "    <tr style=\"text-align: right;\">\n",
       "      <th></th>\n",
       "      <th>Topic0</th>\n",
       "      <th>Topic1</th>\n",
       "      <th>Topic2</th>\n",
       "      <th>Topic3</th>\n",
       "      <th>Topic4</th>\n",
       "      <th>Topic5</th>\n",
       "      <th>Topic6</th>\n",
       "      <th>Topic7</th>\n",
       "      <th>Topic8</th>\n",
       "      <th>Topic9</th>\n",
       "      <th>...</th>\n",
       "      <th>Postal</th>\n",
       "      <th>PassH</th>\n",
       "      <th>PassS</th>\n",
       "      <th>ImpBill</th>\n",
       "      <th>Majority</th>\n",
       "      <th>Major</th>\n",
       "      <th>Minor</th>\n",
       "      <th>URL</th>\n",
       "      <th>Summary</th>\n",
       "      <th>combined_text</th>\n",
       "    </tr>\n",
       "  </thead>\n",
       "  <tbody>\n",
       "    <tr>\n",
       "      <th>0</th>\n",
       "      <td>0.11</td>\n",
       "      <td>0.00</td>\n",
       "      <td>0.00</td>\n",
       "      <td>0.00</td>\n",
       "      <td>0.00</td>\n",
       "      <td>0.84</td>\n",
       "      <td>0.00</td>\n",
       "      <td>0.00</td>\n",
       "      <td>0.00</td>\n",
       "      <td>0.00</td>\n",
       "      <td>...</td>\n",
       "      <td>MS</td>\n",
       "      <td>1</td>\n",
       "      <td>1</td>\n",
       "      <td>1</td>\n",
       "      <td>1</td>\n",
       "      <td>16.0</td>\n",
       "      <td>1615.0</td>\n",
       "      <td>https://www.congress.gov/bill/110th-congress/h...</td>\n",
       "      <td>Implementing Recommendations of the 9/11 Commi...</td>\n",
       "      <td>To provide for the implementation of the recom...</td>\n",
       "    </tr>\n",
       "    <tr>\n",
       "      <th>1</th>\n",
       "      <td>0.03</td>\n",
       "      <td>0.03</td>\n",
       "      <td>0.03</td>\n",
       "      <td>0.03</td>\n",
       "      <td>0.35</td>\n",
       "      <td>0.03</td>\n",
       "      <td>0.03</td>\n",
       "      <td>0.03</td>\n",
       "      <td>0.03</td>\n",
       "      <td>0.03</td>\n",
       "      <td>...</td>\n",
       "      <td>CA</td>\n",
       "      <td>0</td>\n",
       "      <td>0</td>\n",
       "      <td>1</td>\n",
       "      <td>1</td>\n",
       "      <td>20.0</td>\n",
       "      <td>2002.0</td>\n",
       "      <td>https://www.congress.gov/bill/110th-congress/h...</td>\n",
       "      <td></td>\n",
       "      <td>Reserved for Speaker.</td>\n",
       "    </tr>\n",
       "    <tr>\n",
       "      <th>2</th>\n",
       "      <td>0.00</td>\n",
       "      <td>0.00</td>\n",
       "      <td>0.00</td>\n",
       "      <td>0.00</td>\n",
       "      <td>0.40</td>\n",
       "      <td>0.03</td>\n",
       "      <td>0.04</td>\n",
       "      <td>0.00</td>\n",
       "      <td>0.17</td>\n",
       "      <td>0.00</td>\n",
       "      <td>...</td>\n",
       "      <td>CA</td>\n",
       "      <td>0</td>\n",
       "      <td>0</td>\n",
       "      <td>1</td>\n",
       "      <td>1</td>\n",
       "      <td>6.0</td>\n",
       "      <td>601.0</td>\n",
       "      <td>https://www.congress.gov/bill/110th-congress/h...</td>\n",
       "      <td>Veterans' Equity in Education Act of 2007 - Am...</td>\n",
       "      <td>To amend the Higher Education Act of 1965 to p...</td>\n",
       "    </tr>\n",
       "    <tr>\n",
       "      <th>3</th>\n",
       "      <td>0.00</td>\n",
       "      <td>0.00</td>\n",
       "      <td>0.00</td>\n",
       "      <td>0.00</td>\n",
       "      <td>0.00</td>\n",
       "      <td>0.07</td>\n",
       "      <td>0.00</td>\n",
       "      <td>0.00</td>\n",
       "      <td>0.00</td>\n",
       "      <td>0.00</td>\n",
       "      <td>...</td>\n",
       "      <td>DC</td>\n",
       "      <td>0</td>\n",
       "      <td>0</td>\n",
       "      <td>0</td>\n",
       "      <td>1</td>\n",
       "      <td>20.0</td>\n",
       "      <td>2006.0</td>\n",
       "      <td>https://www.congress.gov/bill/110th-congress/h...</td>\n",
       "      <td>Edward William Brooke III Congressional Gold M...</td>\n",
       "      <td>To award a congressional gold medal to Edward ...</td>\n",
       "    </tr>\n",
       "    <tr>\n",
       "      <th>4</th>\n",
       "      <td>0.00</td>\n",
       "      <td>0.00</td>\n",
       "      <td>0.00</td>\n",
       "      <td>0.08</td>\n",
       "      <td>0.00</td>\n",
       "      <td>0.66</td>\n",
       "      <td>0.20</td>\n",
       "      <td>0.00</td>\n",
       "      <td>0.00</td>\n",
       "      <td>0.00</td>\n",
       "      <td>...</td>\n",
       "      <td>SC</td>\n",
       "      <td>0</td>\n",
       "      <td>0</td>\n",
       "      <td>1</td>\n",
       "      <td>1</td>\n",
       "      <td>19.0</td>\n",
       "      <td>1921.0</td>\n",
       "      <td>https://www.congress.gov/bill/110th-congress/h...</td>\n",
       "      <td>Amends the Caribbean Basin Economic Recovery A...</td>\n",
       "      <td>To amend the Haitian Hemispheric Opportunity t...</td>\n",
       "    </tr>\n",
       "  </tbody>\n",
       "</table>\n",
       "<p>5 rows × 41 columns</p>\n",
       "</div>"
      ],
      "text/plain": [
       "   Topic0  Topic1  Topic2  Topic3  Topic4  Topic5  Topic6  Topic7  Topic8  \\\n",
       "0    0.11    0.00    0.00    0.00    0.00    0.84    0.00    0.00    0.00   \n",
       "1    0.03    0.03    0.03    0.03    0.35    0.03    0.03    0.03    0.03   \n",
       "2    0.00    0.00    0.00    0.00    0.40    0.03    0.04    0.00    0.17   \n",
       "3    0.00    0.00    0.00    0.00    0.00    0.07    0.00    0.00    0.00   \n",
       "4    0.00    0.00    0.00    0.08    0.00    0.66    0.20    0.00    0.00   \n",
       "\n",
       "   Topic9  ...  Postal  PassH  PassS  ImpBill Majority Major   Minor  \\\n",
       "0    0.00  ...      MS      1      1        1        1  16.0  1615.0   \n",
       "1    0.03  ...      CA      0      0        1        1  20.0  2002.0   \n",
       "2    0.00  ...      CA      0      0        1        1   6.0   601.0   \n",
       "3    0.00  ...      DC      0      0        0        1  20.0  2006.0   \n",
       "4    0.00  ...      SC      0      0        1        1  19.0  1921.0   \n",
       "\n",
       "                                                 URL  \\\n",
       "0  https://www.congress.gov/bill/110th-congress/h...   \n",
       "1  https://www.congress.gov/bill/110th-congress/h...   \n",
       "2  https://www.congress.gov/bill/110th-congress/h...   \n",
       "3  https://www.congress.gov/bill/110th-congress/h...   \n",
       "4  https://www.congress.gov/bill/110th-congress/h...   \n",
       "\n",
       "                                             Summary  \\\n",
       "0  Implementing Recommendations of the 9/11 Commi...   \n",
       "1                                                      \n",
       "2  Veterans' Equity in Education Act of 2007 - Am...   \n",
       "3  Edward William Brooke III Congressional Gold M...   \n",
       "4  Amends the Caribbean Basin Economic Recovery A...   \n",
       "\n",
       "                                       combined_text  \n",
       "0  To provide for the implementation of the recom...  \n",
       "1                             Reserved for Speaker.   \n",
       "2  To amend the Higher Education Act of 1965 to p...  \n",
       "3  To award a congressional gold medal to Edward ...  \n",
       "4  To amend the Haitian Hemispheric Opportunity t...  \n",
       "\n",
       "[5 rows x 41 columns]"
      ]
     },
     "execution_count": 94,
     "metadata": {},
     "output_type": "execute_result"
    }
   ],
   "source": [
    "test2.head()"
   ]
  },
  {
   "cell_type": "code",
   "execution_count": 96,
   "metadata": {
    "collapsed": true
   },
   "outputs": [
    {
     "data": {
      "text/plain": [
       "{'Topic0': 0.11,\n",
       " 'Topic1': 0.0,\n",
       " 'Topic2': 0.0,\n",
       " 'Topic3': 0.0,\n",
       " 'Topic4': 0.0,\n",
       " 'Topic5': 0.84,\n",
       " 'Topic6': 0.0,\n",
       " 'Topic7': 0.0,\n",
       " 'Topic8': 0.0,\n",
       " 'Topic9': 0.0,\n",
       " 'Topic10': 0.0,\n",
       " 'Topic11': 0.0,\n",
       " 'Topic12': 0.0,\n",
       " 'dominant_topic': 5,\n",
       " 'BillID': '110-HR-1',\n",
       " 'BillType': 'hr',\n",
       " 'Chamber': 0,\n",
       " 'Cong': 110,\n",
       " 'Cosponsr': 205.0,\n",
       " 'Mult': 1,\n",
       " 'PLaw': 1,\n",
       " 'Title': 'To provide for the implementation of the recommendations of the National Commission on Terrorist Attacks Upon the United States.',\n",
       " 'Veto': 0,\n",
       " 'Class': 0.0,\n",
       " 'District': 2.0,\n",
       " 'FrstConH': 0.0,\n",
       " 'FrstConS': 0.0,\n",
       " 'Gender': 0,\n",
       " 'MRef': 1,\n",
       " 'NameFull': 'Bennie Thompson',\n",
       " 'Party': 100.0,\n",
       " 'Postal': 'MS',\n",
       " 'PassH': 1,\n",
       " 'PassS': 1,\n",
       " 'ImpBill': 1,\n",
       " 'Majority': 1,\n",
       " 'Major': 16.0,\n",
       " 'Minor': 1615.0,\n",
       " 'URL': 'https://www.congress.gov/bill/110th-congress/house-bill/1',\n",
       " 'Summary': 'Implementing Recommendations of the 9/11 Commission Act of 2007 - Provides for implementation of recommendations of the National Commission on Terrorist Attacks Upon the United States (9/11 Commission).',\n",
       " 'combined_text': 'To provide for the implementation of the recommendations of the National Commission on Terrorist Attacks Upon the United States. Implementing Recommendations of the 9/11 Commission Act of 2007 - Provides for implementation of recommendations of the National Commission on Terrorist Attacks Upon the United States (9/11 Commission).'}"
      ]
     },
     "execution_count": 96,
     "metadata": {},
     "output_type": "execute_result"
    }
   ],
   "source": [
    "final_topics = test2.to_dict(orient = 'records')\n",
    "final_topics[0]"
   ]
  },
  {
   "cell_type": "code",
   "execution_count": 97,
   "metadata": {},
   "outputs": [],
   "source": [
    "from schema import DbSchema\n",
    "\n",
    "bills_db = DbSchema(config_final)\n"
   ]
  },
  {
   "cell_type": "code",
   "execution_count": 99,
   "metadata": {},
   "outputs": [
    {
     "data": {
      "text/plain": [
       "<sqlalchemy.engine.result.ResultProxy at 0x1a3ccc8208>"
      ]
     },
     "execution_count": 99,
     "metadata": {},
     "output_type": "execute_result"
    }
   ],
   "source": [
    "query = db.insert(bills_db.topics_table)\n",
    "bills_db.connection.execute(query, final_topics)"
   ]
  },
  {
   "cell_type": "code",
   "execution_count": null,
   "metadata": {},
   "outputs": [],
   "source": []
  }
 ],
 "metadata": {
  "kernelspec": {
   "display_name": "Python 3",
   "language": "python",
   "name": "python3"
  },
  "language_info": {
   "codemirror_mode": {
    "name": "ipython",
    "version": 3
   },
   "file_extension": ".py",
   "mimetype": "text/x-python",
   "name": "python",
   "nbconvert_exporter": "python",
   "pygments_lexer": "ipython3",
   "version": "3.7.3"
  }
 },
 "nbformat": 4,
 "nbformat_minor": 2
}
