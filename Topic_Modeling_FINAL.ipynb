{
 "cells": [
  {
   "cell_type": "markdown",
   "metadata": {},
   "source": [
    "# Natural Language Processing - Bill Text Exploration"
   ]
  },
  {
   "cell_type": "markdown",
   "metadata": {},
   "source": [
    "**This analysis includes combined text of bill titles and summaries**\n",
    "\n",
    "Transform the raw data into feature vectors and these new features will be created using the existing dataset. Structure as follows:\n",
    "\n",
    "Data Exploration\n",
    "- Word Cloud \n",
    "\n",
    "Vectorizers\n",
    "- Custom and Spacy Tokenizer\n",
    "- Count Vectors as features\n",
    "- TF-IDF Vectors as features\n",
    "\n",
    "- Word level\n",
    "- N-Gram level\n",
    "\n",
    "Character level\n",
    "- Word Embeddings as features\n",
    "- Text / NLP based features\n",
    "- Topic Models as features\n",
    "\n",
    "https://www.analyticsvidhya.com/blog/2018/04/a-comprehensive-guide-to-understand-and-implement-text-classification-in-python/"
   ]
  },
  {
   "cell_type": "code",
   "execution_count": 1,
   "metadata": {},
   "outputs": [],
   "source": [
    "import mysql.connector \n",
    "import numpy as np\n",
    "import pandas as pd\n",
    "import config_final\n",
    "import requests\n",
    "\n",
    "from sodapy import Socrata\n",
    "import sqlalchemy as db\n"
   ]
  },
  {
   "cell_type": "code",
   "execution_count": 2,
   "metadata": {},
   "outputs": [],
   "source": [
    "def query(q):\n",
    "    try:\n",
    "        return pd.read_sql_query(q, engine)\n",
    "    # Pass when no data is returned    \n",
    "    except ResourceClosedError:\n",
    "        pass\n",
    "\n",
    "def query_list(col, table, distinct = True):\n",
    "    elts = ['SELECT',\n",
    "            'DISTINCT' if distinct else '',\n",
    "            col,\n",
    "            'FROM',\n",
    "            table]\n",
    "    query_str = ' '.join(elts)\n",
    "    df = query(query_str)\n",
    "    l = df.iloc[:,0].tolist()\n",
    "    return l"
   ]
  },
  {
   "cell_type": "code",
   "execution_count": 3,
   "metadata": {},
   "outputs": [],
   "source": [
    "engine = db.create_engine(f'mysql+mysqlconnector://{config_final.user}:{config_final.password}@{config_final.host}/con_bills')\n",
    "\n",
    "connection = engine.connect()\n",
    "metadata=db.MetaData()"
   ]
  },
  {
   "cell_type": "code",
   "execution_count": 4,
   "metadata": {},
   "outputs": [],
   "source": [
    "df = query('SELECT BillID, Title, Summary, PassH, Cong FROM con_bills.current_bills WHERE Cong >= 110')\n"
   ]
  },
  {
   "cell_type": "code",
   "execution_count": 5,
   "metadata": {},
   "outputs": [
    {
     "data": {
      "text/plain": [
       "(51067, 5)"
      ]
     },
     "execution_count": 5,
     "metadata": {},
     "output_type": "execute_result"
    }
   ],
   "source": [
    "df.shape"
   ]
  },
  {
   "cell_type": "code",
   "execution_count": 6,
   "metadata": {},
   "outputs": [
    {
     "data": {
      "text/html": [
       "<div>\n",
       "<style scoped>\n",
       "    .dataframe tbody tr th:only-of-type {\n",
       "        vertical-align: middle;\n",
       "    }\n",
       "\n",
       "    .dataframe tbody tr th {\n",
       "        vertical-align: top;\n",
       "    }\n",
       "\n",
       "    .dataframe thead th {\n",
       "        text-align: right;\n",
       "    }\n",
       "</style>\n",
       "<table border=\"1\" class=\"dataframe\">\n",
       "  <thead>\n",
       "    <tr style=\"text-align: right;\">\n",
       "      <th></th>\n",
       "      <th>BillID</th>\n",
       "      <th>Title</th>\n",
       "      <th>Summary</th>\n",
       "      <th>PassH</th>\n",
       "      <th>Cong</th>\n",
       "    </tr>\n",
       "  </thead>\n",
       "  <tbody>\n",
       "    <tr>\n",
       "      <th>51062</th>\n",
       "      <td>114-S-995</td>\n",
       "      <td>A bill to establish congressional trade negoti...</td>\n",
       "      <td>Bipartisan Congressional Trade Priorities and ...</td>\n",
       "      <td>0</td>\n",
       "      <td>114</td>\n",
       "    </tr>\n",
       "    <tr>\n",
       "      <th>51063</th>\n",
       "      <td>114-S-996</td>\n",
       "      <td>A bill to facilitate nationwide availability o...</td>\n",
       "      <td>Volunteer Income Tax Assistance (VITA) Act</td>\n",
       "      <td>0</td>\n",
       "      <td>114</td>\n",
       "    </tr>\n",
       "    <tr>\n",
       "      <th>51064</th>\n",
       "      <td>114-S-997</td>\n",
       "      <td>A bill to extend the authorization for the maj...</td>\n",
       "      <td>Department of Veterans Affairs Construction, A...</td>\n",
       "      <td>0</td>\n",
       "      <td>114</td>\n",
       "    </tr>\n",
       "    <tr>\n",
       "      <th>51065</th>\n",
       "      <td>114-S-998</td>\n",
       "      <td>A bill to establish a process for the consider...</td>\n",
       "      <td>American Manufacturing Competitiveness Act of ...</td>\n",
       "      <td>0</td>\n",
       "      <td>114</td>\n",
       "    </tr>\n",
       "    <tr>\n",
       "      <th>51066</th>\n",
       "      <td>114-S-999</td>\n",
       "      <td>A bill to amend the Small Business Act to prov...</td>\n",
       "      <td>Small Business Development Centers Improvement...</td>\n",
       "      <td>0</td>\n",
       "      <td>114</td>\n",
       "    </tr>\n",
       "  </tbody>\n",
       "</table>\n",
       "</div>"
      ],
      "text/plain": [
       "          BillID                                              Title  \\\n",
       "51062  114-S-995  A bill to establish congressional trade negoti...   \n",
       "51063  114-S-996  A bill to facilitate nationwide availability o...   \n",
       "51064  114-S-997  A bill to extend the authorization for the maj...   \n",
       "51065  114-S-998  A bill to establish a process for the consider...   \n",
       "51066  114-S-999  A bill to amend the Small Business Act to prov...   \n",
       "\n",
       "                                                 Summary  PassH  Cong  \n",
       "51062  Bipartisan Congressional Trade Priorities and ...      0   114  \n",
       "51063         Volunteer Income Tax Assistance (VITA) Act      0   114  \n",
       "51064  Department of Veterans Affairs Construction, A...      0   114  \n",
       "51065  American Manufacturing Competitiveness Act of ...      0   114  \n",
       "51066  Small Business Development Centers Improvement...      0   114  "
      ]
     },
     "execution_count": 6,
     "metadata": {},
     "output_type": "execute_result"
    }
   ],
   "source": [
    "df.tail()"
   ]
  },
  {
   "cell_type": "markdown",
   "metadata": {},
   "source": [
    "**Final Cleaning:**"
   ]
  },
  {
   "cell_type": "code",
   "execution_count": 7,
   "metadata": {},
   "outputs": [
    {
     "data": {
      "text/plain": [
       "50"
      ]
     },
     "execution_count": 7,
     "metadata": {},
     "output_type": "execute_result"
    }
   ],
   "source": [
    "df['Summary'].isnull().sum()"
   ]
  },
  {
   "cell_type": "code",
   "execution_count": 8,
   "metadata": {},
   "outputs": [],
   "source": [
    "df['Summary'].fillna('None', inplace = True)"
   ]
  },
  {
   "cell_type": "code",
   "execution_count": 9,
   "metadata": {},
   "outputs": [
    {
     "data": {
      "text/plain": [
       "0"
      ]
     },
     "execution_count": 9,
     "metadata": {},
     "output_type": "execute_result"
    }
   ],
   "source": [
    "df['Summary'].isnull().sum()"
   ]
  },
  {
   "cell_type": "code",
   "execution_count": 10,
   "metadata": {},
   "outputs": [
    {
     "data": {
      "text/plain": [
       "0    47042\n",
       "1     4025\n",
       "Name: PassH, dtype: int64"
      ]
     },
     "execution_count": 10,
     "metadata": {},
     "output_type": "execute_result"
    }
   ],
   "source": [
    "df['PassH'].value_counts()"
   ]
  },
  {
   "cell_type": "code",
   "execution_count": 11,
   "metadata": {},
   "outputs": [
    {
     "data": {
      "text/plain": [
       "0"
      ]
     },
     "execution_count": 11,
     "metadata": {},
     "output_type": "execute_result"
    }
   ],
   "source": [
    "blanks = []\n",
    "\n",
    "for i, billID, title, summary, PassH, Cong in df.itertuples():  # iterate over the DataFrame\n",
    "    if type(summary)==str:            # avoid NaN values\n",
    "        if summary.isspace():         # test 'plot' for whitespace\n",
    "            blanks.append(i)\n",
    "                  \n",
    "len(blanks)"
   ]
  },
  {
   "cell_type": "code",
   "execution_count": 12,
   "metadata": {},
   "outputs": [
    {
     "data": {
      "text/plain": [
       "(51067, 5)"
      ]
     },
     "execution_count": 12,
     "metadata": {},
     "output_type": "execute_result"
    }
   ],
   "source": [
    "df.shape"
   ]
  },
  {
   "cell_type": "markdown",
   "metadata": {},
   "source": [
    "**Combine Title and Summary columns:**"
   ]
  },
  {
   "cell_type": "code",
   "execution_count": 13,
   "metadata": {},
   "outputs": [],
   "source": [
    "df['combined_text'] = df[['Title', 'Summary']].astype(str).apply(' '.join, axis=1)"
   ]
  },
  {
   "cell_type": "code",
   "execution_count": 14,
   "metadata": {},
   "outputs": [
    {
     "data": {
      "text/html": [
       "<div>\n",
       "<style scoped>\n",
       "    .dataframe tbody tr th:only-of-type {\n",
       "        vertical-align: middle;\n",
       "    }\n",
       "\n",
       "    .dataframe tbody tr th {\n",
       "        vertical-align: top;\n",
       "    }\n",
       "\n",
       "    .dataframe thead th {\n",
       "        text-align: right;\n",
       "    }\n",
       "</style>\n",
       "<table border=\"1\" class=\"dataframe\">\n",
       "  <thead>\n",
       "    <tr style=\"text-align: right;\">\n",
       "      <th></th>\n",
       "      <th>BillID</th>\n",
       "      <th>Title</th>\n",
       "      <th>Summary</th>\n",
       "      <th>PassH</th>\n",
       "      <th>Cong</th>\n",
       "      <th>combined_text</th>\n",
       "    </tr>\n",
       "  </thead>\n",
       "  <tbody>\n",
       "    <tr>\n",
       "      <th>0</th>\n",
       "      <td>110-HR-1</td>\n",
       "      <td>To provide for the implementation of the recom...</td>\n",
       "      <td>Implementing Recommendations of the 9/11 Commi...</td>\n",
       "      <td>1</td>\n",
       "      <td>110</td>\n",
       "      <td>To provide for the implementation of the recom...</td>\n",
       "    </tr>\n",
       "    <tr>\n",
       "      <th>1</th>\n",
       "      <td>110-HR-10</td>\n",
       "      <td>Reserved for Speaker.</td>\n",
       "      <td></td>\n",
       "      <td>0</td>\n",
       "      <td>110</td>\n",
       "      <td>Reserved for Speaker.</td>\n",
       "    </tr>\n",
       "    <tr>\n",
       "      <th>2</th>\n",
       "      <td>110-HR-100</td>\n",
       "      <td>To amend the Higher Education Act of 1965 to p...</td>\n",
       "      <td>Veterans' Equity in Education Act of 2007 - Am...</td>\n",
       "      <td>0</td>\n",
       "      <td>110</td>\n",
       "      <td>To amend the Higher Education Act of 1965 to p...</td>\n",
       "    </tr>\n",
       "    <tr>\n",
       "      <th>3</th>\n",
       "      <td>110-HR-1000</td>\n",
       "      <td>To award a congressional gold medal to Edward ...</td>\n",
       "      <td>Edward William Brooke III Congressional Gold M...</td>\n",
       "      <td>0</td>\n",
       "      <td>110</td>\n",
       "      <td>To award a congressional gold medal to Edward ...</td>\n",
       "    </tr>\n",
       "    <tr>\n",
       "      <th>4</th>\n",
       "      <td>110-HR-1001</td>\n",
       "      <td>To amend the Haitian Hemispheric Opportunity t...</td>\n",
       "      <td>Amends the Caribbean Basin Economic Recovery A...</td>\n",
       "      <td>0</td>\n",
       "      <td>110</td>\n",
       "      <td>To amend the Haitian Hemispheric Opportunity t...</td>\n",
       "    </tr>\n",
       "  </tbody>\n",
       "</table>\n",
       "</div>"
      ],
      "text/plain": [
       "        BillID                                              Title  \\\n",
       "0     110-HR-1  To provide for the implementation of the recom...   \n",
       "1    110-HR-10                              Reserved for Speaker.   \n",
       "2   110-HR-100  To amend the Higher Education Act of 1965 to p...   \n",
       "3  110-HR-1000  To award a congressional gold medal to Edward ...   \n",
       "4  110-HR-1001  To amend the Haitian Hemispheric Opportunity t...   \n",
       "\n",
       "                                             Summary  PassH  Cong  \\\n",
       "0  Implementing Recommendations of the 9/11 Commi...      1   110   \n",
       "1                                                         0   110   \n",
       "2  Veterans' Equity in Education Act of 2007 - Am...      0   110   \n",
       "3  Edward William Brooke III Congressional Gold M...      0   110   \n",
       "4  Amends the Caribbean Basin Economic Recovery A...      0   110   \n",
       "\n",
       "                                       combined_text  \n",
       "0  To provide for the implementation of the recom...  \n",
       "1                             Reserved for Speaker.   \n",
       "2  To amend the Higher Education Act of 1965 to p...  \n",
       "3  To award a congressional gold medal to Edward ...  \n",
       "4  To amend the Haitian Hemispheric Opportunity t...  "
      ]
     },
     "execution_count": 14,
     "metadata": {},
     "output_type": "execute_result"
    }
   ],
   "source": [
    "df.head()"
   ]
  },
  {
   "cell_type": "markdown",
   "metadata": {},
   "source": [
    "# Topic Modeling"
   ]
  },
  {
   "cell_type": "markdown",
   "metadata": {},
   "source": [
    "**Split Training and Testing Data**"
   ]
  },
  {
   "cell_type": "code",
   "execution_count": 15,
   "metadata": {},
   "outputs": [],
   "source": [
    "from sklearn import preprocessing"
   ]
  },
  {
   "cell_type": "code",
   "execution_count": 16,
   "metadata": {},
   "outputs": [],
   "source": [
    "from sklearn.model_selection import train_test_split\n",
    "\n",
    "X = df['combined_text']\n",
    "y = df['PassH']\n",
    "\n",
    "X_train, X_test, y_train1, y_test1 = train_test_split(X, y)"
   ]
  },
  {
   "cell_type": "code",
   "execution_count": 17,
   "metadata": {},
   "outputs": [
    {
     "data": {
      "text/plain": [
       "0    1\n",
       "1    0\n",
       "2    0\n",
       "3    0\n",
       "4    0\n",
       "Name: PassH, dtype: int64"
      ]
     },
     "execution_count": 17,
     "metadata": {},
     "output_type": "execute_result"
    }
   ],
   "source": [
    "df['PassH'].head()"
   ]
  },
  {
   "cell_type": "markdown",
   "metadata": {},
   "source": [
    "Encode our target column so that it can be used in machine learning models (may not be necessary since the data is already binary)"
   ]
  },
  {
   "cell_type": "code",
   "execution_count": 18,
   "metadata": {},
   "outputs": [],
   "source": [
    "encoder = preprocessing.LabelEncoder()\n",
    "\n",
    "y_train = encoder.fit_transform(y_train1)\n",
    "y_test = encoder.fit_transform(y_test1)"
   ]
  },
  {
   "cell_type": "code",
   "execution_count": 19,
   "metadata": {},
   "outputs": [
    {
     "data": {
      "text/plain": [
       "array([0, 0, 0, ..., 0, 0, 0])"
      ]
     },
     "execution_count": 19,
     "metadata": {},
     "output_type": "execute_result"
    }
   ],
   "source": [
    "y_train"
   ]
  },
  {
   "cell_type": "markdown",
   "metadata": {},
   "source": [
    "## Feature Engineering\n"
   ]
  },
  {
   "cell_type": "markdown",
   "metadata": {},
   "source": [
    "**Cleaning Text**\n",
    "\n",
    "Test both the spacy tokenizer and personalized tokenizer against the data."
   ]
  },
  {
   "cell_type": "code",
   "execution_count": 20,
   "metadata": {},
   "outputs": [],
   "source": [
    "import spacy\n",
    "from spacy.lang.en import English\n",
    "# For part of speech tagging\n",
    "import en_core_web_sm\n",
    "\n",
    "nlp = English()\n",
    "stop_words = spacy.lang.en.stop_words.STOP_WORDS\n",
    "\n",
    "nlp.Defaults.stop_words |= {\"bill\",\"amend\", \"purpose\", \"united\", \"state\", \"states\", \"secretary\", \"act\", \"federal\"}\n"
   ]
  },
  {
   "cell_type": "code",
   "execution_count": 21,
   "metadata": {},
   "outputs": [],
   "source": [
    "#Define the spacy tokenizer\n",
    "spacy_tokenizer = spacy.load('en_core_web_sm', disable =['tagger', 'parser', 'ner'])"
   ]
  },
  {
   "cell_type": "code",
   "execution_count": 22,
   "metadata": {},
   "outputs": [],
   "source": [
    "import string\n",
    "import re\n",
    "\n",
    "replace_with_space = re.compile('[/(){}\\[\\]\\|@,;]')\n",
    "\n",
    "just_words = re.compile('[^a-zA-Z\\s]')\n"
   ]
  },
  {
   "cell_type": "code",
   "execution_count": 23,
   "metadata": {},
   "outputs": [],
   "source": [
    "# Create our list of punctuation marks\n",
    "punctuations = string.punctuation\n",
    "\n",
    "# Create our list of stopwords\n",
    "nlp = spacy.load('en_core_web_sm')\n",
    "stop_words = spacy.lang.en.stop_words.STOP_WORDS\n",
    "\n",
    "def tokenizer(text):\n",
    "    \n",
    "    #lowercase everything\n",
    "    lower_text = text.lower()\n",
    "    \n",
    "    #remove punctuation\n",
    "#     no_pun_text = lower_text.translate(str.maketrans('', '', string.punctuation))\n",
    "    \n",
    "    #get rid of weird characters\n",
    "    text = replace_with_space.sub('',lower_text)\n",
    "    \n",
    "    #remove numbers\n",
    "    just_words_text = just_words.sub('', text)\n",
    "    \n",
    "    #add spacy tokenizer\n",
    "    mytokens = nlp(just_words_text, disable=['parser', 'ner'])\n",
    "#     print(mytokens)\n",
    "    \n",
    "    #for POS tagging\n",
    "#     mytokens = [word for word in mytokens if (word.pos_ == 'NOUN') or (word.pos_ == 'VERB') or (word.pos_ == 'ADJ') or (word.pos_ == 'ADV')]\n",
    "    \n",
    "    #lemmatize\n",
    "    mytokens = [word.lemma_.strip() if word.lemma_ != \"-PRON-\" else word.lower_ for word in mytokens ]\n",
    "    \n",
    "    #MAP SPECIFIC WORDS to others (veteran from veterans)\n",
    "\n",
    "    #add stopwords\n",
    "    mytokens = [word for word in mytokens if word not in stop_words and word not in punctuations]\n",
    "    \n",
    "    return mytokens\n",
    "    "
   ]
  },
  {
   "cell_type": "code",
   "execution_count": 24,
   "metadata": {},
   "outputs": [],
   "source": [
    "test_fun = df.iloc[3486][5]"
   ]
  },
  {
   "cell_type": "code",
   "execution_count": 25,
   "metadata": {},
   "outputs": [
    {
     "data": {
      "text/plain": [
       "['title',\n",
       " 'code',\n",
       " 'clarify',\n",
       " 'scope',\n",
       " 'child',\n",
       " 'pornography',\n",
       " 'law',\n",
       " 'enhance',\n",
       " 'effective',\n",
       " 'prosecution',\n",
       " 'child',\n",
       " 'pornography',\n",
       " 'criminal',\n",
       " 'code',\n",
       " 'include',\n",
       " 'child',\n",
       " 'pornography',\n",
       " 'activity',\n",
       " 'production',\n",
       " 'pornography',\n",
       " 'importation',\n",
       " 'predicate',\n",
       " 'crime',\n",
       " 'money',\n",
       " 'laundering',\n",
       " 'prosecution',\n",
       " 'define',\n",
       " 'possess',\n",
       " 'respect',\n",
       " 'crime',\n",
       " 'child',\n",
       " 'sexual',\n",
       " 'exploitation',\n",
       " 'child',\n",
       " 'pornography',\n",
       " 'include',\n",
       " 'accessing',\n",
       " 'computer',\n",
       " 'visual',\n",
       " 'depiction',\n",
       " 'child',\n",
       " 'pornography',\n",
       " 'intent',\n",
       " 'view']"
      ]
     },
     "execution_count": 25,
     "metadata": {},
     "output_type": "execute_result"
    }
   ],
   "source": [
    "tokenizer(test_fun)\n"
   ]
  },
  {
   "cell_type": "markdown",
   "metadata": {},
   "source": [
    "**CountVectorizer**\n",
    "\n",
    "Every row represents a document in the corpus, every column represents a term in the document, every cell represents the frequency count of a particular term in a particular document.\n",
    "\n",
    "Tuning: analyzer, vectorizer, max_features, max_df, min_df, n_grams"
   ]
  },
  {
   "cell_type": "markdown",
   "metadata": {},
   "source": [
    "Explore:\n",
    "\n",
    "min_df:\n",
    "\n",
    "- min_df = 0.01 means \"ignore terms that appear in less than 1% of the documents\".\n",
    "- min_df = 5 means \"ignore terms that appear in less than 5 documents\".\n",
    "\n",
    "max_df: Attempt to remove heavily used words.\n",
    "\n",
    "- max_df = 0.50 means \"ignore terms that appear in more than 50% of the documents\".\n",
    "- max_df = 25 means \"ignore terms that appear in more than 25 documents\"."
   ]
  },
  {
   "cell_type": "code",
   "execution_count": 26,
   "metadata": {},
   "outputs": [
    {
     "name": "stdout",
     "output_type": "stream",
     "text": [
      "10000\n"
     ]
    }
   ],
   "source": [
    "from sklearn.feature_extraction.text import CountVectorizer\n",
    "\n",
    "vectorizer = CountVectorizer(tokenizer = tokenizer, max_df = 0.90, max_features = 10000) # max_df=0.90, min_df=10\n",
    "transformed = vectorizer.fit_transform(X, y)\n",
    "print(len(vectorizer.get_feature_names()))"
   ]
  },
  {
   "cell_type": "markdown",
   "metadata": {},
   "source": [
    "**Exploring Stored Words**"
   ]
  },
  {
   "cell_type": "markdown",
   "metadata": {},
   "source": [
    "Think about the number of words and how to decrease that list!\n",
    "\n",
    "Lemmatization should be something to further consider, also limiting specific words (pronouns?) used often"
   ]
  },
  {
   "cell_type": "code",
   "execution_count": 27,
   "metadata": {},
   "outputs": [
    {
     "data": {
      "text/plain": [
       "10000"
      ]
     },
     "execution_count": 27,
     "metadata": {},
     "output_type": "execute_result"
    }
   ],
   "source": [
    "len(vectorizer.get_feature_names())"
   ]
  },
  {
   "cell_type": "code",
   "execution_count": 28,
   "metadata": {},
   "outputs": [
    {
     "name": "stdout",
     "output_type": "stream",
     "text": [
      "brower\n",
      "cv\n",
      "appliance\n",
      "canadian\n",
      "customer\n",
      "attack\n",
      "alamos\n",
      "cycle\n",
      "cyprodinil\n",
      "closing\n"
     ]
    }
   ],
   "source": [
    "import random\n",
    "\n",
    "#get ten random words from each\n",
    "\n",
    "for i in range(10):\n",
    "    word_id = random.randint(0, 2454) #second should be len of cv\n",
    "    print(vectorizer.get_feature_names()[word_id])"
   ]
  },
  {
   "cell_type": "markdown",
   "metadata": {},
   "source": [
    "**Topic - Modeling LDA**\n",
    "\n",
    "\n",
    "LDA is an iterative model which starts from a fixed number of topics. Each topic is represented as a distribution over words, and each document is then represented as a distribution over topics.\n",
    "\n",
    "https://stackabuse.com/implementing-lda-in-python-with-scikit-learn/"
   ]
  },
  {
   "cell_type": "code",
   "execution_count": 29,
   "metadata": {},
   "outputs": [],
   "source": [
    "from sklearn.decomposition import LatentDirichletAllocation"
   ]
  },
  {
   "cell_type": "markdown",
   "metadata": {},
   "source": [
    "**OPTIONAL - Grisearch LDA**"
   ]
  },
  {
   "cell_type": "code",
   "execution_count": 30,
   "metadata": {},
   "outputs": [
    {
     "name": "stdout",
     "output_type": "stream",
     "text": [
      "Fitting 3 folds for each of 1 candidates, totalling 3 fits\n"
     ]
    },
    {
     "name": "stderr",
     "output_type": "stream",
     "text": [
      "[Parallel(n_jobs=-1)]: Using backend LokyBackend with 4 concurrent workers.\n",
      "[Parallel(n_jobs=-1)]: Done   3 out of   3 | elapsed:  4.4min finished\n"
     ]
    },
    {
     "data": {
      "text/plain": [
       "GridSearchCV(cv=3, error_score=nan,\n",
       "             estimator=LatentDirichletAllocation(batch_size=128,\n",
       "                                                 doc_topic_prior=None,\n",
       "                                                 evaluate_every=-1,\n",
       "                                                 learning_decay=0.7,\n",
       "                                                 learning_method='batch',\n",
       "                                                 learning_offset=10.0,\n",
       "                                                 max_doc_update_iter=100,\n",
       "                                                 max_iter=10,\n",
       "                                                 mean_change_tol=0.001,\n",
       "                                                 n_components=10, n_jobs=None,\n",
       "                                                 perp_tol=0.1,\n",
       "                                                 random_state=None,\n",
       "                                                 topic_word_prior=None,\n",
       "                                                 total_samples=1000000.0,\n",
       "                                                 verbose=0),\n",
       "             iid='deprecated', n_jobs=-1,\n",
       "             param_grid={'learning_decay': [0.3], 'n_components': [13]},\n",
       "             pre_dispatch='2*n_jobs', refit=True, return_train_score=False,\n",
       "             scoring=None, verbose=2)"
      ]
     },
     "execution_count": 30,
     "metadata": {},
     "output_type": "execute_result"
    }
   ],
   "source": [
    "from sklearn.model_selection import GridSearchCV\n",
    "\n",
    "\n",
    "# Define Search Param\n",
    "search_params = {'n_components': [13],\n",
    "                 'learning_decay': [.3]\n",
    "                }\n",
    "\n",
    "# Init the Model\n",
    "lda = LatentDirichletAllocation()\n",
    "\n",
    "# Init Grid Search Class\n",
    "model = GridSearchCV(lda, param_grid=search_params, cv=3, verbose=2, n_jobs = -1)\n",
    "\n",
    "# Do the Grid Search\n",
    "model.fit(transformed)"
   ]
  },
  {
   "cell_type": "code",
   "execution_count": 31,
   "metadata": {},
   "outputs": [
    {
     "name": "stdout",
     "output_type": "stream",
     "text": [
      "Best Model's Params:  {'learning_decay': 0.3, 'n_components': 13}\n",
      "Best Log Likelihood Score:  -4493792.752468728\n",
      "Model Perplexity:  942.2103337259015\n"
     ]
    }
   ],
   "source": [
    "# Best Model\n",
    "best_lda_model = model.best_estimator_\n",
    "\n",
    "# Model Parameters\n",
    "print(\"Best Model's Params: \", model.best_params_)\n",
    "\n",
    "# Log Likelihood Score\n",
    "print(\"Best Log Likelihood Score: \", model.best_score_)\n",
    "\n",
    "# Perplexity\n",
    "print(\"Model Perplexity: \", best_lda_model.perplexity(transformed))\n",
    "\n",
    "#Shows best params\n",
    "#shows best log likelihood\n",
    "#shows model perplexity score"
   ]
  },
  {
   "cell_type": "markdown",
   "metadata": {},
   "source": [
    "**Model evaluation:**"
   ]
  },
  {
   "cell_type": "markdown",
   "metadata": {},
   "source": [
    "Look at model components:"
   ]
  },
  {
   "cell_type": "code",
   "execution_count": 32,
   "metadata": {},
   "outputs": [
    {
     "data": {
      "text/plain": [
       "array([[7.69230769e-02, 4.48668122e+01, 5.11491636e+00, ...,\n",
       "        7.72148153e+01, 1.00769217e+01, 7.69230769e-02],\n",
       "       [7.69232179e-02, 7.69264844e-02, 7.69230769e-02, ...,\n",
       "        7.69297748e-02, 7.69230769e-02, 7.69231503e-02],\n",
       "       [7.69230769e-02, 2.14832647e+01, 7.30509007e+00, ...,\n",
       "        1.25870203e+02, 7.69236120e-02, 7.69231590e-02],\n",
       "       ...,\n",
       "       [7.69230769e-02, 1.41056742e+00, 7.69235242e-02, ...,\n",
       "        1.02395987e+01, 7.69231358e-02, 7.69230769e-02],\n",
       "       [7.69230769e-02, 7.69237113e-02, 7.69230769e-02, ...,\n",
       "        7.69234270e-02, 7.69230769e-02, 7.69230769e-02],\n",
       "       [7.69230769e-02, 7.69244290e-02, 7.69238784e-02, ...,\n",
       "        4.95135664e+01, 7.69247252e-02, 7.69230769e-02]])"
      ]
     },
     "execution_count": 32,
     "metadata": {},
     "output_type": "execute_result"
    }
   ],
   "source": [
    "best_lda_model.components_"
   ]
  },
  {
   "cell_type": "code",
   "execution_count": 33,
   "metadata": {},
   "outputs": [],
   "source": [
    "single_topic = best_lda_model.components_[0]"
   ]
  },
  {
   "cell_type": "code",
   "execution_count": 34,
   "metadata": {},
   "outputs": [
    {
     "data": {
      "text/plain": [
       "array([7212, 9616, 5413, ..., 1287, 8218, 4089])"
      ]
     },
     "execution_count": 34,
     "metadata": {},
     "output_type": "execute_result"
    }
   ],
   "source": [
    "# Returns the indices that would sort this array.\n",
    "single_topic.argsort()\n",
    "\n",
    "#look at the most and least representative words!"
   ]
  },
  {
   "cell_type": "code",
   "execution_count": 35,
   "metadata": {},
   "outputs": [
    {
     "data": {
      "text/plain": [
       "0.07692307692310447"
      ]
     },
     "execution_count": 35,
     "metadata": {},
     "output_type": "execute_result"
    }
   ],
   "source": [
    "# Word least representative of this topic\n",
    "single_topic[1279]\n"
   ]
  },
  {
   "cell_type": "code",
   "execution_count": 36,
   "metadata": {},
   "outputs": [
    {
     "data": {
      "text/plain": [
       "0.07692307692318212"
      ]
     },
     "execution_count": 36,
     "metadata": {},
     "output_type": "execute_result"
    }
   ],
   "source": [
    "# Word most representative of this topic\n",
    "single_topic[7710]"
   ]
  },
  {
   "cell_type": "markdown",
   "metadata": {},
   "source": [
    "Look at the top fifteen for each topic:"
   ]
  },
  {
   "cell_type": "code",
   "execution_count": 37,
   "metadata": {},
   "outputs": [
    {
     "name": "stdout",
     "output_type": "stream",
     "text": [
      "THE TOP 15 WORDS FOR TOPIC #0\n",
      "['emergency', 'insurance', 'require', 'national', 'research', 'human', 'assistance', 'establish', 'grant', 'public', 'provide', 'program', 'care', 'service', 'health']\n",
      "\n",
      "\n",
      "THE TOP 15 WORDS FOR TOPIC #1\n",
      "['expense', 'qualified', 'certain', 'taxpayer', 'deduction', 'increase', 'provide', 'property', 'allow', 'income', 'credit', 'internal', 'code', 'tax', 'revenue']\n",
      "\n",
      "\n",
      "THE TOP 15 WORDS FOR TOPIC #2\n",
      "['action', 'law', 'agreement', 'alien', 'right', 'country', 'provide', 'oil', 'immigration', 'person', 'certain', 'require', 'trade', 'foreign', 'prohibit']\n",
      "\n",
      "\n",
      "THE TOP 15 WORDS FOR TOPIC #3\n",
      "['medical', 'direct', 'assistance', 'provide', 'title', 'code', 'mortgage', 'va', 'program', 'affair', 'affairs', 'department', 'housing', 'veterans', 'veteran']\n",
      "\n",
      "\n",
      "THE TOP 15 WORDS FOR TOPIC #4\n",
      "['county', 'expand', 'park', 'forest', 'authorize', 'certain', 'interior', 'area', 'introduce', 'version', 'repeat', 'summary', 'measure', 'national', 'land']\n",
      "\n",
      "\n",
      "THE TOP 15 WORDS FOR TOPIC #5\n",
      "['war', 'establish', 'post', 'building', 'highway', 'transportation', 'facility', 'postal', 'locate', 'national', 'service', 'designate', 'office', 'small', 'business']\n",
      "\n",
      "\n",
      "THE TOP 15 WORDS FOR TOPIC #6\n",
      "['year', 'period', 'title', 'compensation', 'code', 'benefit', 'armed', 'provide', 'pay', 'defense', 'service', 'military', 'force', 'employee', 'member']\n",
      "\n",
      "\n",
      "THE TOP 15 WORDS FOR TOPIC #7\n",
      "['product', 'health', 'medical', 'provide', 'payment', 'hospital', 'program', 'xviii', 'service', 'social', 'security', 'food', 'title', 'drug', 'medicare']\n",
      "\n",
      "\n",
      "THE TOP 15 WORDS FOR TOPIC #8\n",
      "['footwear', 'fiber', 'reduce', 'mixture', 'acid', 'certain', 'suspension', 'temporary', 'harmonized', 'tariff', 'extend', 'suspend', 'schedule', 'temporarily', 'duty']\n",
      "\n",
      "\n",
      "THE TOP 15 WORDS FOR TOPIC #9\n",
      "['enforcement', 'require', 'local', 'educational', 'criminal', 'secondary', 'law', 'high', 'provide', 'student', 'grant', 'child', 'program', 'school', 'education']\n",
      "\n",
      "\n",
      "THE TOP 15 WORDS FOR TOPIC #10\n",
      "['columbia', 'government', 'protection', 'treasury', 'fiscal', 'debt', 'year', 'loan', 'consumer', 'district', 'provide', 'require', 'budget', 'financial', 'fund']\n",
      "\n",
      "\n",
      "THE TOP 15 WORDS FOR TOPIC #11\n",
      "['number', 'program', 'benefit', 'medicaid', 'individual', 'department', 'border', 'insurance', 'provide', 'information', 'require', 'homeland', 'title', 'social', 'security']\n",
      "\n",
      "\n",
      "THE TOP 15 WORDS FOR TOPIC #12\n",
      "['provide', 'commission', 'project', 'environmental', 'national', 'use', 'direct', 'development', 'technology', 'water', 'establish', 'agency', 'program', 'require', 'energy']\n",
      "\n",
      "\n"
     ]
    }
   ],
   "source": [
    "for index,topic in enumerate(best_lda_model.components_):\n",
    "    print(f'THE TOP 15 WORDS FOR TOPIC #{index}')\n",
    "    print([vectorizer.get_feature_names()[i] for i in topic.argsort()[-15:]])\n",
    "    print('\\n')\n",
    "\n",
    "#print top fifteen words for each topic\n",
    "#increase number of topics to get more specific topics\n",
    "#go back and clean some of the data based on answers"
   ]
  },
  {
   "cell_type": "code",
   "execution_count": 38,
   "metadata": {},
   "outputs": [],
   "source": [
    "# # Create Document - Topic Matrix\n",
    "# lda_output = best_lda_model.transform(transformed)\n",
    "\n",
    "# # column names\n",
    "# topicnames = [\"Topic\" + str(i) for i in range(best_lda_model.n_components)] #change to best_lda_model after gridsearch!\n",
    "\n",
    "# # index names\n",
    "# docnames = [\"Doc\" + str(i) for i in range(len(X_train))]\n",
    "\n",
    "# # Make the pandas dataframe\n",
    "# df_document_topic = pd.DataFrame(np.round(lda_output, 2), columns=topicnames, index=docnames)\n",
    "\n",
    "# # Get dominant topic for each document\n",
    "# dominant_topic = np.argmax(df_document_topic.values, axis=1)\n",
    "# df_document_topic['dominant_topic'] = dominant_topic\n",
    "\n",
    "# # Styling\n",
    "# def color_green(val):\n",
    "#     color = 'green' if val > .1 else 'black'\n",
    "#     return 'color: {col}'.format(col=color)\n",
    "\n",
    "# def make_bold(val):\n",
    "#     weight = 700 if val > .1 else 400\n",
    "#     return 'font-weight: {weight}'.format(weight=weight)\n",
    "\n",
    "# # Apply Style\n",
    "# df_document_topics = df_document_topic.head(15).style.applymap(color_green).applymap(make_bold)\n",
    "# df_document_topics\n",
    "\n",
    "# #final column shows the topic each document is most 'like'\n",
    "# #topcis are distribution of words, and see which scores most highly on, and applying that topic to the document"
   ]
  },
  {
   "cell_type": "code",
   "execution_count": 39,
   "metadata": {},
   "outputs": [
    {
     "data": {
      "text/html": [
       "<div>\n",
       "<style scoped>\n",
       "    .dataframe tbody tr th:only-of-type {\n",
       "        vertical-align: middle;\n",
       "    }\n",
       "\n",
       "    .dataframe tbody tr th {\n",
       "        vertical-align: top;\n",
       "    }\n",
       "\n",
       "    .dataframe thead th {\n",
       "        text-align: right;\n",
       "    }\n",
       "</style>\n",
       "<table border=\"1\" class=\"dataframe\">\n",
       "  <thead>\n",
       "    <tr style=\"text-align: right;\">\n",
       "      <th></th>\n",
       "      <th>Topic0</th>\n",
       "      <th>Topic1</th>\n",
       "      <th>Topic2</th>\n",
       "      <th>Topic3</th>\n",
       "      <th>Topic4</th>\n",
       "      <th>Topic5</th>\n",
       "      <th>Topic6</th>\n",
       "      <th>Topic7</th>\n",
       "      <th>Topic8</th>\n",
       "      <th>Topic9</th>\n",
       "      <th>Topic10</th>\n",
       "      <th>Topic11</th>\n",
       "      <th>Topic12</th>\n",
       "      <th>dominant_topic</th>\n",
       "    </tr>\n",
       "    <tr>\n",
       "      <th>BillID</th>\n",
       "      <th></th>\n",
       "      <th></th>\n",
       "      <th></th>\n",
       "      <th></th>\n",
       "      <th></th>\n",
       "      <th></th>\n",
       "      <th></th>\n",
       "      <th></th>\n",
       "      <th></th>\n",
       "      <th></th>\n",
       "      <th></th>\n",
       "      <th></th>\n",
       "      <th></th>\n",
       "      <th></th>\n",
       "    </tr>\n",
       "  </thead>\n",
       "  <tbody>\n",
       "    <tr>\n",
       "      <th>110-HR-1</th>\n",
       "      <td>0.00</td>\n",
       "      <td>0.00</td>\n",
       "      <td>0.16</td>\n",
       "      <td>0.00</td>\n",
       "      <td>0.00</td>\n",
       "      <td>0.00</td>\n",
       "      <td>0.00</td>\n",
       "      <td>0.00</td>\n",
       "      <td>0.00</td>\n",
       "      <td>0.00</td>\n",
       "      <td>0.00</td>\n",
       "      <td>0.00</td>\n",
       "      <td>0.79</td>\n",
       "      <td>12</td>\n",
       "    </tr>\n",
       "    <tr>\n",
       "      <th>110-HR-10</th>\n",
       "      <td>0.03</td>\n",
       "      <td>0.03</td>\n",
       "      <td>0.03</td>\n",
       "      <td>0.03</td>\n",
       "      <td>0.03</td>\n",
       "      <td>0.35</td>\n",
       "      <td>0.36</td>\n",
       "      <td>0.03</td>\n",
       "      <td>0.03</td>\n",
       "      <td>0.03</td>\n",
       "      <td>0.03</td>\n",
       "      <td>0.03</td>\n",
       "      <td>0.03</td>\n",
       "      <td>6</td>\n",
       "    </tr>\n",
       "    <tr>\n",
       "      <th>110-HR-100</th>\n",
       "      <td>0.00</td>\n",
       "      <td>0.04</td>\n",
       "      <td>0.00</td>\n",
       "      <td>0.07</td>\n",
       "      <td>0.00</td>\n",
       "      <td>0.00</td>\n",
       "      <td>0.40</td>\n",
       "      <td>0.00</td>\n",
       "      <td>0.00</td>\n",
       "      <td>0.39</td>\n",
       "      <td>0.09</td>\n",
       "      <td>0.00</td>\n",
       "      <td>0.00</td>\n",
       "      <td>6</td>\n",
       "    </tr>\n",
       "    <tr>\n",
       "      <th>110-HR-1000</th>\n",
       "      <td>0.00</td>\n",
       "      <td>0.00</td>\n",
       "      <td>0.04</td>\n",
       "      <td>0.00</td>\n",
       "      <td>0.00</td>\n",
       "      <td>0.85</td>\n",
       "      <td>0.09</td>\n",
       "      <td>0.00</td>\n",
       "      <td>0.00</td>\n",
       "      <td>0.00</td>\n",
       "      <td>0.00</td>\n",
       "      <td>0.00</td>\n",
       "      <td>0.00</td>\n",
       "      <td>5</td>\n",
       "    </tr>\n",
       "    <tr>\n",
       "      <th>110-HR-1001</th>\n",
       "      <td>0.00</td>\n",
       "      <td>0.00</td>\n",
       "      <td>0.63</td>\n",
       "      <td>0.00</td>\n",
       "      <td>0.00</td>\n",
       "      <td>0.00</td>\n",
       "      <td>0.00</td>\n",
       "      <td>0.00</td>\n",
       "      <td>0.05</td>\n",
       "      <td>0.00</td>\n",
       "      <td>0.24</td>\n",
       "      <td>0.07</td>\n",
       "      <td>0.00</td>\n",
       "      <td>2</td>\n",
       "    </tr>\n",
       "  </tbody>\n",
       "</table>\n",
       "</div>"
      ],
      "text/plain": [
       "             Topic0  Topic1  Topic2  Topic3  Topic4  Topic5  Topic6  Topic7  \\\n",
       "BillID                                                                        \n",
       "110-HR-1       0.00    0.00    0.16    0.00    0.00    0.00    0.00    0.00   \n",
       "110-HR-10      0.03    0.03    0.03    0.03    0.03    0.35    0.36    0.03   \n",
       "110-HR-100     0.00    0.04    0.00    0.07    0.00    0.00    0.40    0.00   \n",
       "110-HR-1000    0.00    0.00    0.04    0.00    0.00    0.85    0.09    0.00   \n",
       "110-HR-1001    0.00    0.00    0.63    0.00    0.00    0.00    0.00    0.00   \n",
       "\n",
       "             Topic8  Topic9  Topic10  Topic11  Topic12  dominant_topic  \n",
       "BillID                                                                  \n",
       "110-HR-1       0.00    0.00     0.00     0.00     0.79              12  \n",
       "110-HR-10      0.03    0.03     0.03     0.03     0.03               6  \n",
       "110-HR-100     0.00    0.39     0.09     0.00     0.00               6  \n",
       "110-HR-1000    0.00    0.00     0.00     0.00     0.00               5  \n",
       "110-HR-1001    0.05    0.00     0.24     0.07     0.00               2  "
      ]
     },
     "execution_count": 39,
     "metadata": {},
     "output_type": "execute_result"
    }
   ],
   "source": [
    "#Add output to the dataframe:\n",
    "\n",
    "# Create Document - Topic Matrix\n",
    "lda_output = best_lda_model.transform(transformed)\n",
    "\n",
    "# column names\n",
    "topicnames = [\"Topic\" + str(i) for i in range(best_lda_model.n_components)] #change to best_lda_model after gridsearch!\n",
    "\n",
    "# index names\n",
    "docnames = [\"Doc\" + str(i) for i in range(len(X))]\n",
    "\n",
    "# Make the pandas dataframe\n",
    "df_document_topic = pd.DataFrame(np.round(lda_output, 2), columns=topicnames, index=df['BillID'])\n",
    "\n",
    "# Get dominant topic for each document\n",
    "dominant_topic = np.argmax(df_document_topic.values, axis=1)\n",
    "df_document_topic['dominant_topic'] = dominant_topic\n",
    "\n",
    "df_document_topic.head()\n"
   ]
  },
  {
   "cell_type": "code",
   "execution_count": 81,
   "metadata": {},
   "outputs": [
    {
     "data": {
      "text/html": [
       "<div>\n",
       "<style scoped>\n",
       "    .dataframe tbody tr th:only-of-type {\n",
       "        vertical-align: middle;\n",
       "    }\n",
       "\n",
       "    .dataframe tbody tr th {\n",
       "        vertical-align: top;\n",
       "    }\n",
       "\n",
       "    .dataframe thead th {\n",
       "        text-align: right;\n",
       "    }\n",
       "</style>\n",
       "<table border=\"1\" class=\"dataframe\">\n",
       "  <thead>\n",
       "    <tr style=\"text-align: right;\">\n",
       "      <th></th>\n",
       "      <th>Topic0</th>\n",
       "      <th>Topic1</th>\n",
       "      <th>Topic2</th>\n",
       "      <th>Topic3</th>\n",
       "      <th>Topic4</th>\n",
       "      <th>Topic5</th>\n",
       "      <th>Topic6</th>\n",
       "      <th>Topic7</th>\n",
       "      <th>Topic8</th>\n",
       "      <th>Topic9</th>\n",
       "      <th>Topic10</th>\n",
       "      <th>Topic11</th>\n",
       "      <th>Topic12</th>\n",
       "      <th>dominant_topic</th>\n",
       "    </tr>\n",
       "    <tr>\n",
       "      <th>BillID</th>\n",
       "      <th></th>\n",
       "      <th></th>\n",
       "      <th></th>\n",
       "      <th></th>\n",
       "      <th></th>\n",
       "      <th></th>\n",
       "      <th></th>\n",
       "      <th></th>\n",
       "      <th></th>\n",
       "      <th></th>\n",
       "      <th></th>\n",
       "      <th></th>\n",
       "      <th></th>\n",
       "      <th></th>\n",
       "    </tr>\n",
       "  </thead>\n",
       "  <tbody>\n",
       "    <tr>\n",
       "      <th>110-HR-1</th>\n",
       "      <td>0.00</td>\n",
       "      <td>0.00</td>\n",
       "      <td>0.16</td>\n",
       "      <td>0.00</td>\n",
       "      <td>0.00</td>\n",
       "      <td>0.00</td>\n",
       "      <td>0.00</td>\n",
       "      <td>0.00</td>\n",
       "      <td>0.00</td>\n",
       "      <td>0.00</td>\n",
       "      <td>0.00</td>\n",
       "      <td>0.00</td>\n",
       "      <td>0.79</td>\n",
       "      <td>12</td>\n",
       "    </tr>\n",
       "    <tr>\n",
       "      <th>110-HR-10</th>\n",
       "      <td>0.03</td>\n",
       "      <td>0.03</td>\n",
       "      <td>0.03</td>\n",
       "      <td>0.03</td>\n",
       "      <td>0.03</td>\n",
       "      <td>0.35</td>\n",
       "      <td>0.36</td>\n",
       "      <td>0.03</td>\n",
       "      <td>0.03</td>\n",
       "      <td>0.03</td>\n",
       "      <td>0.03</td>\n",
       "      <td>0.03</td>\n",
       "      <td>0.03</td>\n",
       "      <td>6</td>\n",
       "    </tr>\n",
       "    <tr>\n",
       "      <th>110-HR-100</th>\n",
       "      <td>0.00</td>\n",
       "      <td>0.04</td>\n",
       "      <td>0.00</td>\n",
       "      <td>0.07</td>\n",
       "      <td>0.00</td>\n",
       "      <td>0.00</td>\n",
       "      <td>0.40</td>\n",
       "      <td>0.00</td>\n",
       "      <td>0.00</td>\n",
       "      <td>0.39</td>\n",
       "      <td>0.09</td>\n",
       "      <td>0.00</td>\n",
       "      <td>0.00</td>\n",
       "      <td>6</td>\n",
       "    </tr>\n",
       "    <tr>\n",
       "      <th>110-HR-1000</th>\n",
       "      <td>0.00</td>\n",
       "      <td>0.00</td>\n",
       "      <td>0.04</td>\n",
       "      <td>0.00</td>\n",
       "      <td>0.00</td>\n",
       "      <td>0.85</td>\n",
       "      <td>0.09</td>\n",
       "      <td>0.00</td>\n",
       "      <td>0.00</td>\n",
       "      <td>0.00</td>\n",
       "      <td>0.00</td>\n",
       "      <td>0.00</td>\n",
       "      <td>0.00</td>\n",
       "      <td>5</td>\n",
       "    </tr>\n",
       "    <tr>\n",
       "      <th>110-HR-1001</th>\n",
       "      <td>0.00</td>\n",
       "      <td>0.00</td>\n",
       "      <td>0.63</td>\n",
       "      <td>0.00</td>\n",
       "      <td>0.00</td>\n",
       "      <td>0.00</td>\n",
       "      <td>0.00</td>\n",
       "      <td>0.00</td>\n",
       "      <td>0.05</td>\n",
       "      <td>0.00</td>\n",
       "      <td>0.24</td>\n",
       "      <td>0.07</td>\n",
       "      <td>0.00</td>\n",
       "      <td>2</td>\n",
       "    </tr>\n",
       "  </tbody>\n",
       "</table>\n",
       "</div>"
      ],
      "text/plain": [
       "             Topic0  Topic1  Topic2  Topic3  Topic4  Topic5  Topic6  Topic7  \\\n",
       "BillID                                                                        \n",
       "110-HR-1       0.00    0.00    0.16    0.00    0.00    0.00    0.00    0.00   \n",
       "110-HR-10      0.03    0.03    0.03    0.03    0.03    0.35    0.36    0.03   \n",
       "110-HR-100     0.00    0.04    0.00    0.07    0.00    0.00    0.40    0.00   \n",
       "110-HR-1000    0.00    0.00    0.04    0.00    0.00    0.85    0.09    0.00   \n",
       "110-HR-1001    0.00    0.00    0.63    0.00    0.00    0.00    0.00    0.00   \n",
       "\n",
       "             Topic8  Topic9  Topic10  Topic11  Topic12  dominant_topic  \n",
       "BillID                                                                  \n",
       "110-HR-1       0.00    0.00     0.00     0.00     0.79              12  \n",
       "110-HR-10      0.03    0.03     0.03     0.03     0.03               6  \n",
       "110-HR-100     0.00    0.39     0.09     0.00     0.00               6  \n",
       "110-HR-1000    0.00    0.00     0.00     0.00     0.00               5  \n",
       "110-HR-1001    0.05    0.00     0.24     0.07     0.00               2  "
      ]
     },
     "execution_count": 81,
     "metadata": {},
     "output_type": "execute_result"
    }
   ],
   "source": [
    "df_document_topic.head()"
   ]
  },
  {
   "cell_type": "code",
   "execution_count": 82,
   "metadata": {},
   "outputs": [],
   "source": [
    "df_document_topic.reset_index(drop=True, inplace=True)\n",
    "df.reset_index(drop=True, inplace=True)"
   ]
  },
  {
   "cell_type": "code",
   "execution_count": 83,
   "metadata": {},
   "outputs": [],
   "source": [
    "test = pd.concat([df_document_topic, df], axis=1)"
   ]
  },
  {
   "cell_type": "code",
   "execution_count": 84,
   "metadata": {},
   "outputs": [
    {
     "data": {
      "text/html": [
       "<div>\n",
       "<style scoped>\n",
       "    .dataframe tbody tr th:only-of-type {\n",
       "        vertical-align: middle;\n",
       "    }\n",
       "\n",
       "    .dataframe tbody tr th {\n",
       "        vertical-align: top;\n",
       "    }\n",
       "\n",
       "    .dataframe thead th {\n",
       "        text-align: right;\n",
       "    }\n",
       "</style>\n",
       "<table border=\"1\" class=\"dataframe\">\n",
       "  <thead>\n",
       "    <tr style=\"text-align: right;\">\n",
       "      <th></th>\n",
       "      <th>Topic0</th>\n",
       "      <th>Topic1</th>\n",
       "      <th>Topic2</th>\n",
       "      <th>Topic3</th>\n",
       "      <th>Topic4</th>\n",
       "      <th>Topic5</th>\n",
       "      <th>Topic6</th>\n",
       "      <th>Topic7</th>\n",
       "      <th>Topic8</th>\n",
       "      <th>Topic9</th>\n",
       "      <th>Topic10</th>\n",
       "      <th>Topic11</th>\n",
       "      <th>Topic12</th>\n",
       "      <th>dominant_topic</th>\n",
       "      <th>BillID</th>\n",
       "      <th>Title</th>\n",
       "      <th>Summary</th>\n",
       "      <th>PassH</th>\n",
       "      <th>Cong</th>\n",
       "      <th>combined_text</th>\n",
       "    </tr>\n",
       "  </thead>\n",
       "  <tbody>\n",
       "    <tr>\n",
       "      <th>0</th>\n",
       "      <td>0.00</td>\n",
       "      <td>0.00</td>\n",
       "      <td>0.16</td>\n",
       "      <td>0.00</td>\n",
       "      <td>0.00</td>\n",
       "      <td>0.00</td>\n",
       "      <td>0.00</td>\n",
       "      <td>0.00</td>\n",
       "      <td>0.00</td>\n",
       "      <td>0.00</td>\n",
       "      <td>0.00</td>\n",
       "      <td>0.00</td>\n",
       "      <td>0.79</td>\n",
       "      <td>12</td>\n",
       "      <td>110-HR-1</td>\n",
       "      <td>To provide for the implementation of the recom...</td>\n",
       "      <td>Implementing Recommendations of the 9/11 Commi...</td>\n",
       "      <td>1</td>\n",
       "      <td>110</td>\n",
       "      <td>To provide for the implementation of the recom...</td>\n",
       "    </tr>\n",
       "    <tr>\n",
       "      <th>1</th>\n",
       "      <td>0.03</td>\n",
       "      <td>0.03</td>\n",
       "      <td>0.03</td>\n",
       "      <td>0.03</td>\n",
       "      <td>0.03</td>\n",
       "      <td>0.35</td>\n",
       "      <td>0.36</td>\n",
       "      <td>0.03</td>\n",
       "      <td>0.03</td>\n",
       "      <td>0.03</td>\n",
       "      <td>0.03</td>\n",
       "      <td>0.03</td>\n",
       "      <td>0.03</td>\n",
       "      <td>6</td>\n",
       "      <td>110-HR-10</td>\n",
       "      <td>Reserved for Speaker.</td>\n",
       "      <td></td>\n",
       "      <td>0</td>\n",
       "      <td>110</td>\n",
       "      <td>Reserved for Speaker.</td>\n",
       "    </tr>\n",
       "    <tr>\n",
       "      <th>2</th>\n",
       "      <td>0.00</td>\n",
       "      <td>0.04</td>\n",
       "      <td>0.00</td>\n",
       "      <td>0.07</td>\n",
       "      <td>0.00</td>\n",
       "      <td>0.00</td>\n",
       "      <td>0.40</td>\n",
       "      <td>0.00</td>\n",
       "      <td>0.00</td>\n",
       "      <td>0.39</td>\n",
       "      <td>0.09</td>\n",
       "      <td>0.00</td>\n",
       "      <td>0.00</td>\n",
       "      <td>6</td>\n",
       "      <td>110-HR-100</td>\n",
       "      <td>To amend the Higher Education Act of 1965 to p...</td>\n",
       "      <td>Veterans' Equity in Education Act of 2007 - Am...</td>\n",
       "      <td>0</td>\n",
       "      <td>110</td>\n",
       "      <td>To amend the Higher Education Act of 1965 to p...</td>\n",
       "    </tr>\n",
       "    <tr>\n",
       "      <th>3</th>\n",
       "      <td>0.00</td>\n",
       "      <td>0.00</td>\n",
       "      <td>0.04</td>\n",
       "      <td>0.00</td>\n",
       "      <td>0.00</td>\n",
       "      <td>0.85</td>\n",
       "      <td>0.09</td>\n",
       "      <td>0.00</td>\n",
       "      <td>0.00</td>\n",
       "      <td>0.00</td>\n",
       "      <td>0.00</td>\n",
       "      <td>0.00</td>\n",
       "      <td>0.00</td>\n",
       "      <td>5</td>\n",
       "      <td>110-HR-1000</td>\n",
       "      <td>To award a congressional gold medal to Edward ...</td>\n",
       "      <td>Edward William Brooke III Congressional Gold M...</td>\n",
       "      <td>0</td>\n",
       "      <td>110</td>\n",
       "      <td>To award a congressional gold medal to Edward ...</td>\n",
       "    </tr>\n",
       "    <tr>\n",
       "      <th>4</th>\n",
       "      <td>0.00</td>\n",
       "      <td>0.00</td>\n",
       "      <td>0.63</td>\n",
       "      <td>0.00</td>\n",
       "      <td>0.00</td>\n",
       "      <td>0.00</td>\n",
       "      <td>0.00</td>\n",
       "      <td>0.00</td>\n",
       "      <td>0.05</td>\n",
       "      <td>0.00</td>\n",
       "      <td>0.24</td>\n",
       "      <td>0.07</td>\n",
       "      <td>0.00</td>\n",
       "      <td>2</td>\n",
       "      <td>110-HR-1001</td>\n",
       "      <td>To amend the Haitian Hemispheric Opportunity t...</td>\n",
       "      <td>Amends the Caribbean Basin Economic Recovery A...</td>\n",
       "      <td>0</td>\n",
       "      <td>110</td>\n",
       "      <td>To amend the Haitian Hemispheric Opportunity t...</td>\n",
       "    </tr>\n",
       "  </tbody>\n",
       "</table>\n",
       "</div>"
      ],
      "text/plain": [
       "   Topic0  Topic1  Topic2  Topic3  Topic4  Topic5  Topic6  Topic7  Topic8  \\\n",
       "0    0.00    0.00    0.16    0.00    0.00    0.00    0.00    0.00    0.00   \n",
       "1    0.03    0.03    0.03    0.03    0.03    0.35    0.36    0.03    0.03   \n",
       "2    0.00    0.04    0.00    0.07    0.00    0.00    0.40    0.00    0.00   \n",
       "3    0.00    0.00    0.04    0.00    0.00    0.85    0.09    0.00    0.00   \n",
       "4    0.00    0.00    0.63    0.00    0.00    0.00    0.00    0.00    0.05   \n",
       "\n",
       "   Topic9  Topic10  Topic11  Topic12  dominant_topic       BillID  \\\n",
       "0    0.00     0.00     0.00     0.79              12     110-HR-1   \n",
       "1    0.03     0.03     0.03     0.03               6    110-HR-10   \n",
       "2    0.39     0.09     0.00     0.00               6   110-HR-100   \n",
       "3    0.00     0.00     0.00     0.00               5  110-HR-1000   \n",
       "4    0.00     0.24     0.07     0.00               2  110-HR-1001   \n",
       "\n",
       "                                               Title  \\\n",
       "0  To provide for the implementation of the recom...   \n",
       "1                              Reserved for Speaker.   \n",
       "2  To amend the Higher Education Act of 1965 to p...   \n",
       "3  To award a congressional gold medal to Edward ...   \n",
       "4  To amend the Haitian Hemispheric Opportunity t...   \n",
       "\n",
       "                                             Summary  PassH  Cong  \\\n",
       "0  Implementing Recommendations of the 9/11 Commi...      1   110   \n",
       "1                                                         0   110   \n",
       "2  Veterans' Equity in Education Act of 2007 - Am...      0   110   \n",
       "3  Edward William Brooke III Congressional Gold M...      0   110   \n",
       "4  Amends the Caribbean Basin Economic Recovery A...      0   110   \n",
       "\n",
       "                                       combined_text  \n",
       "0  To provide for the implementation of the recom...  \n",
       "1                             Reserved for Speaker.   \n",
       "2  To amend the Higher Education Act of 1965 to p...  \n",
       "3  To award a congressional gold medal to Edward ...  \n",
       "4  To amend the Haitian Hemispheric Opportunity t...  "
      ]
     },
     "execution_count": 84,
     "metadata": {},
     "output_type": "execute_result"
    }
   ],
   "source": [
    "test.head()"
   ]
  },
  {
   "cell_type": "code",
   "execution_count": 108,
   "metadata": {},
   "outputs": [
    {
     "data": {
      "text/plain": [
       "<matplotlib.legend.Legend at 0x1a34e80d30>"
      ]
     },
     "execution_count": 108,
     "metadata": {},
     "output_type": "execute_result"
    },
    {
     "data": {
      "image/png": "[encoded data removed]",
      "text/plain": [
       "<Figure size 432x288 with 1 Axes>"
      ]
     },
     "metadata": {},
     "output_type": "display_data"
    }
   ],
   "source": [
    "import seaborn as sns\n",
    "import matplotlib.pyplot as plt\n",
    "sns.set(style=\"whitegrid\")\n",
    "\n",
    "test.groupby(['PassH', 'dominant_topic']).size().unstack().plot.bar().set_title('Topics by Bill Passage')\n",
    "plt.legend(bbox_to_anchor=(1.05, 1), loc='upper left', borderaxespad=0.)\n"
   ]
  },
  {
   "cell_type": "code",
   "execution_count": 117,
   "metadata": {},
   "outputs": [
    {
     "data": {
      "text/plain": [
       "<matplotlib.legend.Legend at 0x1a365eadd8>"
      ]
     },
     "execution_count": 117,
     "metadata": {},
     "output_type": "execute_result"
    },
    {
     "data": {
      "image/png": "[encoded data removed]",
      "text/plain": [
       "<Figure size 1440x576 with 1 Axes>"
      ]
     },
     "metadata": {},
     "output_type": "display_data"
    }
   ],
   "source": [
    "\n",
    "test.groupby(['PassH', 'Cong','dominant_topic']).size().unstack().plot.bar(figsize=(20,8)).set_title('Bill Topics by Congress')\n",
    "plt.legend(bbox_to_anchor=(1.05, 1), loc='upper left', borderaxespad=0.)\n"
   ]
  },
  {
   "cell_type": "code",
   "execution_count": 40,
   "metadata": {},
   "outputs": [
    {
     "data": {
      "text/plain": [
       "51067"
      ]
     },
     "execution_count": 40,
     "metadata": {},
     "output_type": "execute_result"
    }
   ],
   "source": [
    "len(df_document_topic)"
   ]
  },
  {
   "cell_type": "code",
   "execution_count": 42,
   "metadata": {},
   "outputs": [
    {
     "data": {
      "text/plain": [
       "12    6099\n",
       "9     5272\n",
       "4     5205\n",
       "1     4895\n",
       "2     4788\n",
       "0     4640\n",
       "8     3881\n",
       "6     3438\n",
       "10    3239\n",
       "7     2767\n",
       "5     2521\n",
       "11    2273\n",
       "3     2049\n",
       "Name: dominant_topic, dtype: int64"
      ]
     },
     "execution_count": 42,
     "metadata": {},
     "output_type": "execute_result"
    }
   ],
   "source": [
    "df_document_topic['dominant_topic'].value_counts()"
   ]
  },
  {
   "cell_type": "code",
   "execution_count": 48,
   "metadata": {},
   "outputs": [
    {
     "name": "stdout",
     "output_type": "stream",
     "text": [
      "(51067, 6)\n",
      "(51067, 14)\n"
     ]
    }
   ],
   "source": [
    "print(df.shape)\n",
    "print(df_document_topic.shape)"
   ]
  },
  {
   "cell_type": "code",
   "execution_count": null,
   "metadata": {},
   "outputs": [],
   "source": [
    "# df_topic_distribution = df_document_topic['dominant_topic'].value_counts().reset_index(name=\"Num Documents\")\n",
    "# df_topic_distribution.columns = ['Topic Num', 'Num Documents']\n",
    "# df_topic_distribution"
   ]
  },
  {
   "cell_type": "code",
   "execution_count": null,
   "metadata": {},
   "outputs": [],
   "source": [
    "# # Show top n keywords for each topic\n",
    "# def show_topics(vectorizer=vectorizer, lda_model=best_lda_model, n_words=20):\n",
    "#     keywords = np.array(vectorizer.get_feature_names())\n",
    "#     topic_keywords = []\n",
    "#     for topic_weights in best_lda_model.components_:\n",
    "#         top_keyword_locs = (-topic_weights).argsort()[:n_words]\n",
    "#         topic_keywords.append(keywords.take(top_keyword_locs))\n",
    "#     return topic_keywords\n",
    "\n",
    "# topic_keywords = show_topics(vectorizer=vectorizer, lda_model=best_lda_model, n_words=15)        \n",
    "\n",
    "# # Topic - Keywords Dataframe\n",
    "# df_topic_keywords = pd.DataFrame(topic_keywords)\n",
    "# df_topic_keywords.columns = ['Word '+str(i) for i in range(df_topic_keywords.shape[1])]\n",
    "# df_topic_keywords.index = ['Topic '+str(i) for i in range(df_topic_keywords.shape[0])]\n",
    "# df_topic_keywords"
   ]
  },
  {
   "cell_type": "markdown",
   "metadata": {},
   "source": [
    "**Dominant topic visualizations**\n",
    "\n"
   ]
  },
  {
   "cell_type": "code",
   "execution_count": null,
   "metadata": {},
   "outputs": [],
   "source": [
    "# def format_topics_sentences(ldamodel, corpus, texts):\n",
    "#     # Init output\n",
    "#     sent_topics_df = pd.DataFrame()\n",
    "\n",
    "#     # Get main topic in each document\n",
    "#     for i, row_list in enumerate(ldamodel[corpus]):\n",
    "#         row = row_list[0] if ldamodel.per_word_topics else row_list            \n",
    "#         # print(row)\n",
    "        \n",
    "#         row = sorted(row, key=lambda x: (x[1]), reverse=True)\n",
    "        \n",
    "#         # Get the Dominant topic, Perc Contribution and Keywords for each document\n",
    "#         for j, (topic_num, prop_topic) in enumerate(row):\n",
    "#             if j == 0:  # => dominant topic\n",
    "#                 wp = ldamodel.show_topic(topic_num)\n",
    "#                 topic_keywords = \", \".join([word for word, prop in wp])\n",
    "#                 sent_topics_df = sent_topics_df.append(pd.Series([int(topic_num), round(prop_topic,4), topic_keywords]), ignore_index=True)\n",
    "#             else:\n",
    "#                 break\n",
    "#     sent_topics_df.columns = ['Dominant_Topic', 'Perc_Contribution', 'Topic_Keywords']\n",
    "\n",
    "#     # Add original text to the end of the output\n",
    "#     contents = pd.Series(texts)\n",
    "#     sent_topics_df = pd.concat([sent_topics_df, contents], axis=1)\n",
    "#     return(sent_topics_df)\n",
    "\n",
    "\n",
    "# df_topic_sents_keywords = format_topics_sentences(best_lda_model, transformed, vectorizer)\n",
    "\n",
    "# # Format\n",
    "# # df_dominant_topic = df_topic_sents_keywords.reset_index()\n",
    "# df_dominant_topic.columns = ['Document_No', 'Dominant_Topic', 'Topic_Perc_Contrib', 'Keywords', 'Text']\n",
    "# df_dominant_topic.head(10)"
   ]
  },
  {
   "cell_type": "markdown",
   "metadata": {},
   "source": [
    "# Adding topics to MySQL:\n",
    "\n",
    "Create a separate table for topics and link with BillID Primary Key"
   ]
  },
  {
   "cell_type": "markdown",
   "metadata": {},
   "source": [
    "https://stackoverflow.com/questions/53518217/adding-topic-distribution-outcome-of-topic-model-to-pandas-dataframe"
   ]
  },
  {
   "cell_type": "code",
   "execution_count": null,
   "metadata": {},
   "outputs": [],
   "source": [
    "#make sure it is the right shape first!\n",
    "df.shape"
   ]
  },
  {
   "cell_type": "code",
   "execution_count": null,
   "metadata": {},
   "outputs": [],
   "source": [
    "engine = db.create_engine(f'mysql+mysqlconnector://{config_final.user}:{config_final.password}@{config_final.host}/con_bills')\n",
    "\n",
    "connection = engine.connect()\n",
    "metadata=db.MetaData()"
   ]
  },
  {
   "cell_type": "code",
   "execution_count": null,
   "metadata": {},
   "outputs": [],
   "source": [
    "#Create Table \n",
    "topics_table = db.Table('topics', metadata,\n",
    "    db.Column('Index', db.Integer, autoincrement=True, primary_key=True),\n",
    "    db.Column('BillID', db.String(40)),\n",
    "    db.Column('dominant_topic', db.Integer),\n",
    "    db.Column('foreign_key',\n",
    "                db.String(40),\n",
    "                db.ForeignKey('current_bills.BillID'),\n",
    "                nullable=False))                       \n"
   ]
  },
  {
   "cell_type": "code",
   "execution_count": null,
   "metadata": {},
   "outputs": [],
   "source": [
    "metadata.create_all(engine)"
   ]
  },
  {
   "cell_type": "code",
   "execution_count": null,
   "metadata": {},
   "outputs": [],
   "source": [
    "# query = db.insert(topics_table)\n",
    "# connection.execute(query, bill)"
   ]
  }
 ],
 "metadata": {
  "kernelspec": {
   "display_name": "Python 3",
   "language": "python",
   "name": "python3"
  },
  "language_info": {
   "codemirror_mode": {
    "name": "ipython",
    "version": 3
   },
   "file_extension": ".py",
   "mimetype": "text/x-python",
   "name": "python",
   "nbconvert_exporter": "python",
   "pygments_lexer": "ipython3",
   "version": "3.7.3"
  }
 },
 "nbformat": 4,
 "nbformat_minor": 2
}
