{
 "cells": [
  {
   "cell_type": "markdown",
   "metadata": {},
   "source": [
    "# **Model Testing**"
   ]
  },
  {
   "cell_type": "markdown",
   "metadata": {},
   "source": [
    "**All Features:**\n",
    "\n",
    "Data columns (total 29 columns):\n",
    "\n",
    "Specific Identifiers:\n",
    "\n",
    "- BillID      51067 non-null object\n",
    "\n",
    "\n",
    "How far it made it:\n",
    "\n",
    "- PassH       51067 non-null int64\n",
    "- PassS       51067 non-null int64\n",
    "- PLawDate    1393 non-null object - MAKE BOOL?\n",
    "- PLawNum     51067 non-null object\n",
    "- PLaw        51067 non-null int64\n",
    "- Veto        51067 non-null int64\n",
    "\n",
    "Bill Descriptive Info:\n",
    "\n",
    "- BillType    51067 non-null object\n",
    "- Title       51067 non-null object\n",
    "- Cong        51067 non-null int64\n",
    "- Summary     51017 non-null object - REMOVE NULL\n",
    "- ImpBill     51067 non-null int64\n",
    "- Chamber     51067 non-null int64 (H or S)\n",
    "\n",
    "Info about Rep Bill Proposer:\n",
    "\n",
    "- Cosponsr    51067 non-null float64\n",
    "- IntrDate    51025 non-null object - REMOVE NULL\n",
    "- Mult        51067 non-null int64\n",
    "- Class       51067 non-null float64\n",
    "- District    51067 non-null float64\n",
    "- FrstConH    51067 non-null float64\n",
    "- FrstConS    51067 non-null float64\n",
    "- Gender      51067 non-null int64\n",
    "- MRef        51067 non-null int64\n",
    "- NameFull    51067 non-null object\n",
    "- Party       51067 non-null float64\n",
    "- Postal      51067 non-null object\n",
    "- Majority    51067 non-null int64\n",
    "\n",
    "Other general bill info:\n",
    "\n",
    "- Major       51067 non-null float64\n",
    "- Minor       51067 non-null float64\n",
    "\n",
    "The URL:\n",
    "\n",
    "- URL         51067 non-null object\n",
    "\n",
    "\n",
    "List of the models to test and the parameters to tune:\n",
    "  \n",
    "**Models:**\n",
    "- Naive Bayes\n",
    "- Logistic Regression\n",
    "- Random Forest\n",
    "- SVM\n",
    "\n",
    "**Evaluations:**\n",
    "- Accuracy, precision, recall, f1\n",
    "- Confusion Matrix\n",
    "- ROC/AUC\n",
    "    "
   ]
  },
  {
   "cell_type": "markdown",
   "metadata": {},
   "source": [
    "# **Query Data**"
   ]
  },
  {
   "cell_type": "code",
   "execution_count": 1,
   "metadata": {},
   "outputs": [],
   "source": [
    "import mysql.connector \n",
    "import numpy as np\n",
    "import pandas as pd\n",
    "import config_final\n",
    "import requests\n",
    "\n",
    "from sodapy import Socrata\n",
    "import sqlalchemy as db\n",
    "\n",
    "import config_final as config\n",
    "from schema import DbSchema\n",
    "\n"
   ]
  },
  {
   "cell_type": "code",
   "execution_count": 2,
   "metadata": {},
   "outputs": [],
   "source": [
    "bills_db = DbSchema(config)\n",
    "\n",
    "# topics_db = bills_db.query('SELECT * from topics')"
   ]
  },
  {
   "cell_type": "code",
   "execution_count": 3,
   "metadata": {},
   "outputs": [],
   "source": [
    "df = bills_db.query(\"\"\"\n",
    "    SELECT cb.BillID, \n",
    "        cb.BillType, \n",
    "        cb.Chamber, \n",
    "        cb.Cong, \n",
    "        cb.Cosponsr, \n",
    "        cb.Title,\n",
    "        cb.IntrDate,\n",
    "        cb.Mult,\n",
    "        cb.PLaw,\n",
    "        cb.Veto,\n",
    "        cb.District,\n",
    "        cb.FrstConH,\n",
    "        cb.FrstConS,\n",
    "        cb.Gender,\n",
    "        cb.NameFull,\n",
    "        cb.Party,\n",
    "        cb.Postal,\n",
    "        cb.PassH,\n",
    "        cb.PassS,\n",
    "        cb.PLawDate,\n",
    "        cb.Majority,\n",
    "        tp.dominant_topic         \n",
    "    FROM \n",
    "        con_bills.current_bills as cb\n",
    "    JOIN\n",
    "        con_bills.topics as tp\n",
    "    ON cb.BillID = tp.BillID\n",
    "    WHERE cb.Cong >= 110\"\"\")\n"
   ]
  },
  {
   "cell_type": "code",
   "execution_count": 4,
   "metadata": {},
   "outputs": [
    {
     "data": {
      "text/html": [
       "<div>\n",
       "<style scoped>\n",
       "    .dataframe tbody tr th:only-of-type {\n",
       "        vertical-align: middle;\n",
       "    }\n",
       "\n",
       "    .dataframe tbody tr th {\n",
       "        vertical-align: top;\n",
       "    }\n",
       "\n",
       "    .dataframe thead th {\n",
       "        text-align: right;\n",
       "    }\n",
       "</style>\n",
       "<table border=\"1\" class=\"dataframe\">\n",
       "  <thead>\n",
       "    <tr style=\"text-align: right;\">\n",
       "      <th></th>\n",
       "      <th>BillID</th>\n",
       "      <th>BillType</th>\n",
       "      <th>Chamber</th>\n",
       "      <th>Cong</th>\n",
       "      <th>Cosponsr</th>\n",
       "      <th>Title</th>\n",
       "      <th>IntrDate</th>\n",
       "      <th>Mult</th>\n",
       "      <th>PLaw</th>\n",
       "      <th>Veto</th>\n",
       "      <th>...</th>\n",
       "      <th>FrstConS</th>\n",
       "      <th>Gender</th>\n",
       "      <th>NameFull</th>\n",
       "      <th>Party</th>\n",
       "      <th>Postal</th>\n",
       "      <th>PassH</th>\n",
       "      <th>PassS</th>\n",
       "      <th>PLawDate</th>\n",
       "      <th>Majority</th>\n",
       "      <th>dominant_topic</th>\n",
       "    </tr>\n",
       "  </thead>\n",
       "  <tbody>\n",
       "    <tr>\n",
       "      <th>0</th>\n",
       "      <td>110-HR-1</td>\n",
       "      <td>hr</td>\n",
       "      <td>0</td>\n",
       "      <td>110</td>\n",
       "      <td>205.0</td>\n",
       "      <td>To provide for the implementation of the recom...</td>\n",
       "      <td>2007-01-05 00:00:00</td>\n",
       "      <td>1</td>\n",
       "      <td>1</td>\n",
       "      <td>0</td>\n",
       "      <td>...</td>\n",
       "      <td>0.0</td>\n",
       "      <td>0</td>\n",
       "      <td>Bennie Thompson</td>\n",
       "      <td>100.0</td>\n",
       "      <td>MS</td>\n",
       "      <td>1</td>\n",
       "      <td>1</td>\n",
       "      <td>2007-08-03 00:00:00</td>\n",
       "      <td>1</td>\n",
       "      <td>5</td>\n",
       "    </tr>\n",
       "    <tr>\n",
       "      <th>1</th>\n",
       "      <td>110-HR-10</td>\n",
       "      <td>hr</td>\n",
       "      <td>0</td>\n",
       "      <td>110</td>\n",
       "      <td>0.0</td>\n",
       "      <td>Reserved for Speaker.</td>\n",
       "      <td>2007-01-04 00:00:00</td>\n",
       "      <td>0</td>\n",
       "      <td>0</td>\n",
       "      <td>0</td>\n",
       "      <td>...</td>\n",
       "      <td>0.0</td>\n",
       "      <td>1</td>\n",
       "      <td>Nancy Pelosi</td>\n",
       "      <td>100.0</td>\n",
       "      <td>CA</td>\n",
       "      <td>0</td>\n",
       "      <td>0</td>\n",
       "      <td>None</td>\n",
       "      <td>1</td>\n",
       "      <td>10</td>\n",
       "    </tr>\n",
       "    <tr>\n",
       "      <th>2</th>\n",
       "      <td>110-HR-100</td>\n",
       "      <td>hr</td>\n",
       "      <td>0</td>\n",
       "      <td>110</td>\n",
       "      <td>10.0</td>\n",
       "      <td>To amend the Higher Education Act of 1965 to p...</td>\n",
       "      <td>2007-01-04 00:00:00</td>\n",
       "      <td>0</td>\n",
       "      <td>0</td>\n",
       "      <td>0</td>\n",
       "      <td>...</td>\n",
       "      <td>0.0</td>\n",
       "      <td>1</td>\n",
       "      <td>Susan Davis</td>\n",
       "      <td>100.0</td>\n",
       "      <td>CA</td>\n",
       "      <td>0</td>\n",
       "      <td>0</td>\n",
       "      <td>None</td>\n",
       "      <td>1</td>\n",
       "      <td>4</td>\n",
       "    </tr>\n",
       "    <tr>\n",
       "      <th>3</th>\n",
       "      <td>110-HR-1000</td>\n",
       "      <td>hr</td>\n",
       "      <td>0</td>\n",
       "      <td>110</td>\n",
       "      <td>286.0</td>\n",
       "      <td>To award a congressional gold medal to Edward ...</td>\n",
       "      <td>2007-02-12 00:00:00</td>\n",
       "      <td>0</td>\n",
       "      <td>0</td>\n",
       "      <td>0</td>\n",
       "      <td>...</td>\n",
       "      <td>0.0</td>\n",
       "      <td>1</td>\n",
       "      <td>Eleanor Norton</td>\n",
       "      <td>100.0</td>\n",
       "      <td>DC</td>\n",
       "      <td>0</td>\n",
       "      <td>0</td>\n",
       "      <td>None</td>\n",
       "      <td>1</td>\n",
       "      <td>10</td>\n",
       "    </tr>\n",
       "    <tr>\n",
       "      <th>4</th>\n",
       "      <td>110-HR-1001</td>\n",
       "      <td>hr</td>\n",
       "      <td>0</td>\n",
       "      <td>110</td>\n",
       "      <td>0.0</td>\n",
       "      <td>To amend the Haitian Hemispheric Opportunity t...</td>\n",
       "      <td>2007-02-12 00:00:00</td>\n",
       "      <td>0</td>\n",
       "      <td>0</td>\n",
       "      <td>0</td>\n",
       "      <td>...</td>\n",
       "      <td>0.0</td>\n",
       "      <td>0</td>\n",
       "      <td>John Spratt</td>\n",
       "      <td>100.0</td>\n",
       "      <td>SC</td>\n",
       "      <td>0</td>\n",
       "      <td>0</td>\n",
       "      <td>None</td>\n",
       "      <td>1</td>\n",
       "      <td>5</td>\n",
       "    </tr>\n",
       "  </tbody>\n",
       "</table>\n",
       "<p>5 rows × 22 columns</p>\n",
       "</div>"
      ],
      "text/plain": [
       "        BillID BillType  Chamber  Cong  Cosponsr  \\\n",
       "0     110-HR-1       hr        0   110     205.0   \n",
       "1    110-HR-10       hr        0   110       0.0   \n",
       "2   110-HR-100       hr        0   110      10.0   \n",
       "3  110-HR-1000       hr        0   110     286.0   \n",
       "4  110-HR-1001       hr        0   110       0.0   \n",
       "\n",
       "                                               Title             IntrDate  \\\n",
       "0  To provide for the implementation of the recom...  2007-01-05 00:00:00   \n",
       "1                              Reserved for Speaker.  2007-01-04 00:00:00   \n",
       "2  To amend the Higher Education Act of 1965 to p...  2007-01-04 00:00:00   \n",
       "3  To award a congressional gold medal to Edward ...  2007-02-12 00:00:00   \n",
       "4  To amend the Haitian Hemispheric Opportunity t...  2007-02-12 00:00:00   \n",
       "\n",
       "   Mult  PLaw  Veto  ...  FrstConS  Gender         NameFull  Party Postal  \\\n",
       "0     1     1     0  ...       0.0       0  Bennie Thompson  100.0     MS   \n",
       "1     0     0     0  ...       0.0       1     Nancy Pelosi  100.0     CA   \n",
       "2     0     0     0  ...       0.0       1      Susan Davis  100.0     CA   \n",
       "3     0     0     0  ...       0.0       1   Eleanor Norton  100.0     DC   \n",
       "4     0     0     0  ...       0.0       0      John Spratt  100.0     SC   \n",
       "\n",
       "   PassH PassS             PLawDate  Majority dominant_topic  \n",
       "0      1     1  2007-08-03 00:00:00         1              5  \n",
       "1      0     0                 None         1             10  \n",
       "2      0     0                 None         1              4  \n",
       "3      0     0                 None         1             10  \n",
       "4      0     0                 None         1              5  \n",
       "\n",
       "[5 rows x 22 columns]"
      ]
     },
     "execution_count": 4,
     "metadata": {},
     "output_type": "execute_result"
    }
   ],
   "source": [
    "df.head()"
   ]
  },
  {
   "cell_type": "code",
   "execution_count": 23,
   "metadata": {},
   "outputs": [
    {
     "data": {
      "text/html": [
       "<div>\n",
       "<style scoped>\n",
       "    .dataframe tbody tr th:only-of-type {\n",
       "        vertical-align: middle;\n",
       "    }\n",
       "\n",
       "    .dataframe tbody tr th {\n",
       "        vertical-align: top;\n",
       "    }\n",
       "\n",
       "    .dataframe thead th {\n",
       "        text-align: right;\n",
       "    }\n",
       "</style>\n",
       "<table border=\"1\" class=\"dataframe\">\n",
       "  <thead>\n",
       "    <tr style=\"text-align: right;\">\n",
       "      <th></th>\n",
       "      <th>Cong</th>\n",
       "      <th>PassH</th>\n",
       "    </tr>\n",
       "  </thead>\n",
       "  <tbody>\n",
       "    <tr>\n",
       "      <th>0</th>\n",
       "      <td>112</td>\n",
       "      <td>1</td>\n",
       "    </tr>\n",
       "    <tr>\n",
       "      <th>1</th>\n",
       "      <td>112</td>\n",
       "      <td>1</td>\n",
       "    </tr>\n",
       "    <tr>\n",
       "      <th>2</th>\n",
       "      <td>112</td>\n",
       "      <td>1</td>\n",
       "    </tr>\n",
       "    <tr>\n",
       "      <th>3</th>\n",
       "      <td>112</td>\n",
       "      <td>1</td>\n",
       "    </tr>\n",
       "    <tr>\n",
       "      <th>4</th>\n",
       "      <td>112</td>\n",
       "      <td>1</td>\n",
       "    </tr>\n",
       "  </tbody>\n",
       "</table>\n",
       "</div>"
      ],
      "text/plain": [
       "   Cong  PassH\n",
       "0   112      1\n",
       "1   112      1\n",
       "2   112      1\n",
       "3   112      1\n",
       "4   112      1"
      ]
     },
     "execution_count": 23,
     "metadata": {},
     "output_type": "execute_result"
    }
   ],
   "source": [
    "pass_by_cong = bills_db.query(\"\"\"\n",
    "    SELECT\n",
    "        cb.Cong,\n",
    "        cb.PassH\n",
    "    FROM con_bills.current_bills as cb\n",
    "    WHERE cb.Cong = 112 \n",
    "    AND cb.PassH = 1\n",
    "    \"\"\")\n",
    "pass_by_cong.head()"
   ]
  },
  {
   "cell_type": "code",
   "execution_count": 24,
   "metadata": {},
   "outputs": [
    {
     "data": {
      "text/html": [
       "<div>\n",
       "<style scoped>\n",
       "    .dataframe tbody tr th:only-of-type {\n",
       "        vertical-align: middle;\n",
       "    }\n",
       "\n",
       "    .dataframe tbody tr th {\n",
       "        vertical-align: top;\n",
       "    }\n",
       "\n",
       "    .dataframe thead th {\n",
       "        text-align: right;\n",
       "    }\n",
       "</style>\n",
       "<table border=\"1\" class=\"dataframe\">\n",
       "  <thead>\n",
       "    <tr style=\"text-align: right;\">\n",
       "      <th></th>\n",
       "      <th>count(*)</th>\n",
       "      <th>Cong</th>\n",
       "    </tr>\n",
       "  </thead>\n",
       "  <tbody>\n",
       "    <tr>\n",
       "      <th>0</th>\n",
       "      <td>1082</td>\n",
       "      <td>110</td>\n",
       "    </tr>\n",
       "    <tr>\n",
       "      <th>1</th>\n",
       "      <td>836</td>\n",
       "      <td>111</td>\n",
       "    </tr>\n",
       "    <tr>\n",
       "      <th>2</th>\n",
       "      <td>567</td>\n",
       "      <td>112</td>\n",
       "    </tr>\n",
       "    <tr>\n",
       "      <th>3</th>\n",
       "      <td>654</td>\n",
       "      <td>113</td>\n",
       "    </tr>\n",
       "    <tr>\n",
       "      <th>4</th>\n",
       "      <td>886</td>\n",
       "      <td>114</td>\n",
       "    </tr>\n",
       "  </tbody>\n",
       "</table>\n",
       "</div>"
      ],
      "text/plain": [
       "   count(*)  Cong\n",
       "0      1082   110\n",
       "1       836   111\n",
       "2       567   112\n",
       "3       654   113\n",
       "4       886   114"
      ]
     },
     "execution_count": 24,
     "metadata": {},
     "output_type": "execute_result"
    }
   ],
   "source": [
    "count_by_cong = bills_db.query(\"\"\"\n",
    "    SELECT\n",
    "        count(*), cb.Cong\n",
    "    FROM con_bills.current_bills as cb\n",
    "    WHERE cb.PassH = 1\n",
    "    AND cb.Cong >=110\n",
    "    GROUP BY cb.Cong\n",
    "    \"\"\")\n",
    "count_by_cong.head()"
   ]
  },
  {
   "cell_type": "code",
   "execution_count": 33,
   "metadata": {},
   "outputs": [
    {
     "data": {
      "text/html": [
       "<div>\n",
       "<style scoped>\n",
       "    .dataframe tbody tr th:only-of-type {\n",
       "        vertical-align: middle;\n",
       "    }\n",
       "\n",
       "    .dataframe tbody tr th {\n",
       "        vertical-align: top;\n",
       "    }\n",
       "\n",
       "    .dataframe thead th {\n",
       "        text-align: right;\n",
       "    }\n",
       "</style>\n",
       "<table border=\"1\" class=\"dataframe\">\n",
       "  <thead>\n",
       "    <tr style=\"text-align: right;\">\n",
       "      <th></th>\n",
       "      <th>count(*)</th>\n",
       "      <th>Cong</th>\n",
       "    </tr>\n",
       "  </thead>\n",
       "  <tbody>\n",
       "    <tr>\n",
       "      <th>0</th>\n",
       "      <td>1404</td>\n",
       "      <td>110</td>\n",
       "    </tr>\n",
       "    <tr>\n",
       "      <th>1</th>\n",
       "      <td>1334</td>\n",
       "      <td>111</td>\n",
       "    </tr>\n",
       "    <tr>\n",
       "      <th>2</th>\n",
       "      <td>2486</td>\n",
       "      <td>112</td>\n",
       "    </tr>\n",
       "    <tr>\n",
       "      <th>3</th>\n",
       "      <td>415</td>\n",
       "      <td>113</td>\n",
       "    </tr>\n",
       "    <tr>\n",
       "      <th>4</th>\n",
       "      <td>529</td>\n",
       "      <td>114</td>\n",
       "    </tr>\n",
       "  </tbody>\n",
       "</table>\n",
       "</div>"
      ],
      "text/plain": [
       "   count(*)  Cong\n",
       "0      1404   110\n",
       "1      1334   111\n",
       "2      2486   112\n",
       "3       415   113\n",
       "4       529   114"
      ]
     },
     "execution_count": 33,
     "metadata": {},
     "output_type": "execute_result"
    }
   ],
   "source": [
    "#Way more bills in Topic 7 were introduced compared to other years\n",
    "#Almost the same number of bills in topic 7 were passed as compared to other years\n",
    "\n",
    "topic7_by_cong = bills_db.query(\"\"\"\n",
    "    SELECT\n",
    "    count(*), cb.Cong\n",
    "    FROM con_bills.current_bills as cb\n",
    "    JOIN con_bills.topics as tp\n",
    "    ON cb.BillID = tp.BillID\n",
    "    WHERE tp.dominant_topic = 7\n",
    "# AND cb.PassH = 1\n",
    "    GROUP BY cb.Cong\"\"\")\n",
    "\n",
    "topic7_by_cong"
   ]
  },
  {
   "cell_type": "markdown",
   "metadata": {},
   "source": [
    "# **Final Data Cleaning**\n",
    "\n",
    "Add:\n",
    "- Len title words or anything?\n",
    "- tfidf on title?\n",
    "\n",
    "REMOVE:\n",
    "- PLawNum (not necessary for analysis)\n",
    "- Major/Minor (no keys)\n",
    "- PLawDate (too few)\n",
    "- ImpBill (almost all are)\n",
    "\n",
    "\n",
    "Edit: \n",
    "- BillType: \n",
    "- Chamber: To binary\n",
    "- Cong: OHE\n",
    "- Postal: OHE\n",
    "\n",
    "How to deal with: Things that happen after House passage!?"
   ]
  },
  {
   "cell_type": "code",
   "execution_count": null,
   "metadata": {},
   "outputs": [],
   "source": []
  },
  {
   "cell_type": "code",
   "execution_count": 20,
   "metadata": {},
   "outputs": [
    {
     "data": {
      "text/plain": [
       "(51067, 22)"
      ]
     },
     "execution_count": 20,
     "metadata": {},
     "output_type": "execute_result"
    }
   ],
   "source": [
    "df.shape"
   ]
  },
  {
   "cell_type": "code",
   "execution_count": 21,
   "metadata": {},
   "outputs": [
    {
     "data": {
      "text/plain": [
       "BillID                0\n",
       "BillType              0\n",
       "Chamber               0\n",
       "Cong                  0\n",
       "Cosponsr              0\n",
       "Title                 0\n",
       "IntrDate             42\n",
       "Mult                  0\n",
       "PLaw                  0\n",
       "Veto                  0\n",
       "District              0\n",
       "FrstConH              0\n",
       "FrstConS              0\n",
       "Gender                0\n",
       "NameFull              0\n",
       "Party                 0\n",
       "Postal                0\n",
       "PassH                 0\n",
       "PassS                 0\n",
       "PLawDate          49674\n",
       "Majority              0\n",
       "dominant_topic        0\n",
       "dtype: int64"
      ]
     },
     "execution_count": 21,
     "metadata": {},
     "output_type": "execute_result"
    }
   ],
   "source": [
    "df.isnull().sum()"
   ]
  },
  {
   "cell_type": "code",
   "execution_count": 22,
   "metadata": {},
   "outputs": [
    {
     "data": {
      "text/plain": [
       "0    2007-01-05 00:00:00\n",
       "1    2007-01-04 00:00:00\n",
       "2    2007-01-04 00:00:00\n",
       "3    2007-02-12 00:00:00\n",
       "4    2007-02-12 00:00:00\n",
       "Name: IntrDate, dtype: object"
      ]
     },
     "execution_count": 22,
     "metadata": {},
     "output_type": "execute_result"
    }
   ],
   "source": [
    "#Replace Nulls in IntrDate - Figure out how to do this!\n",
    "#Maybe change to just month or just year\n",
    "df['IntrDate'].head()"
   ]
  },
  {
   "cell_type": "markdown",
   "metadata": {},
   "source": [
    "**Final Engineering:**"
   ]
  },
  {
   "cell_type": "code",
   "execution_count": 24,
   "metadata": {},
   "outputs": [
    {
     "data": {
      "text/plain": [
       "0    MS\n",
       "1    CA\n",
       "2    CA\n",
       "3    DC\n",
       "4    SC\n",
       "Name: Postal, dtype: object"
      ]
     },
     "execution_count": 24,
     "metadata": {},
     "output_type": "execute_result"
    }
   ],
   "source": [
    "#One hot encode Postal - SHOULD I Assign to numerical?\n",
    "df['Postal'].head()"
   ]
  },
  {
   "cell_type": "code",
   "execution_count": 25,
   "metadata": {},
   "outputs": [
    {
     "data": {
      "text/plain": [
       "936"
      ]
     },
     "execution_count": 25,
     "metadata": {},
     "output_type": "execute_result"
    }
   ],
   "source": [
    "#Do I want to try to encode the name?\n",
    "df['NameFull'].value_counts().count()\n",
    "\n",
    "#one hot encode only for the top bill people\n",
    "#Consider adding only top, or thinking about the particular model that is running"
   ]
  },
  {
   "cell_type": "code",
   "execution_count": 26,
   "metadata": {
    "collapsed": true
   },
   "outputs": [
    {
     "ename": "AttributeError",
     "evalue": "'int' object has no attribute 'head'",
     "output_type": "error",
     "traceback": [
      "\u001b[0;31m---------------------------------------------------------------------------\u001b[0m",
      "\u001b[0;31mAttributeError\u001b[0m                            Traceback (most recent call last)",
      "\u001b[0;32m<ipython-input-26-5e936d4f28aa>\u001b[0m in \u001b[0;36m<module>\u001b[0;34m\u001b[0m\n\u001b[1;32m      1\u001b[0m \u001b[0;31m#Add title length?\u001b[0m\u001b[0;34m\u001b[0m\u001b[0;34m\u001b[0m\u001b[0;34m\u001b[0m\u001b[0m\n\u001b[0;32m----> 2\u001b[0;31m \u001b[0mlen\u001b[0m\u001b[0;34m(\u001b[0m\u001b[0mdf\u001b[0m\u001b[0;34m[\u001b[0m\u001b[0;34m'Title'\u001b[0m\u001b[0;34m]\u001b[0m\u001b[0;34m)\u001b[0m\u001b[0;34m.\u001b[0m\u001b[0mhead\u001b[0m\u001b[0;34m(\u001b[0m\u001b[0;34m)\u001b[0m\u001b[0;34m\u001b[0m\u001b[0;34m\u001b[0m\u001b[0m\n\u001b[0m",
      "\u001b[0;31mAttributeError\u001b[0m: 'int' object has no attribute 'head'"
     ]
    }
   ],
   "source": [
    "#Add title length?\n",
    "len(df['Title']).head()"
   ]
  },
  {
   "cell_type": "code",
   "execution_count": null,
   "metadata": {},
   "outputs": [],
   "source": [
    "#total 325. Need to convert to groups, then OHE\n",
    "df['Cosponsr'].value_counts()"
   ]
  },
  {
   "cell_type": "markdown",
   "metadata": {},
   "source": [
    "# **Train and Test**"
   ]
  },
  {
   "cell_type": "code",
   "execution_count": null,
   "metadata": {},
   "outputs": [],
   "source": [
    "from sklearn.model_selection import train_test_split\n",
    "\n",
    "X = df.drop(columns=['PassH'], axis=1)\n",
    "y = df['PassH']\n",
    "\n",
    "X_train, X_test, y_train1, y_test1 = train_test_split(X, y, test_size = .2, random_state=1)"
   ]
  },
  {
   "cell_type": "code",
   "execution_count": null,
   "metadata": {},
   "outputs": [],
   "source": [
    "#Do i need to transform back after modeling?\n",
    "encoder = preprocessing.LabelEncoder()\n",
    "\n",
    "y_train = encoder.fit_transform(y_train1)\n",
    "y_test = encoder.fit_transform(y_test1)"
   ]
  },
  {
   "cell_type": "markdown",
   "metadata": {},
   "source": [
    "**One hot encoding**\n",
    "\n",
    "All categorical variables:\n",
    "- "
   ]
  },
  {
   "cell_type": "code",
   "execution_count": null,
   "metadata": {},
   "outputs": [],
   "source": [
    "from sklearn.preprocessing import OneHotEncoder, LabelEncoder"
   ]
  },
  {
   "cell_type": "markdown",
   "metadata": {},
   "source": [
    "Then One-Hot-Encode:\n",
    "\n",
    "- Encode categorical integer features using a one-hot aka one-of-K scheme.\n",
    "- The input to this transformer should be a matrix of integers, denoting the values taken on by categorical (discrete) features.\n",
    "- The output will be a sparse matrix where each column corresponds to one possible value of one feature.\n",
    "- It is assumed that input features take on values in the range [0, n_values).\n",
    "- This encoding is needed for feeding categorical data to many scikit-learn estimators, notably linear models and SVMs with the standard kernels."
   ]
  },
  {
   "cell_type": "markdown",
   "metadata": {},
   "source": [
    "# **Modeling**\n",
    "\n",
    "Import packages:\n",
    "\n",
    "- CountVectorizer\n",
    "- TFIDF\n",
    "\n",
    "- Naive Bayes\n",
    "- Logistic Regression\n",
    "- Random Forest\n",
    "\n",
    "**Remember to look at feature importances!"
   ]
  },
  {
   "cell_type": "code",
   "execution_count": null,
   "metadata": {},
   "outputs": [],
   "source": [
    "import numpy as np\n",
    "\n",
    "from sklearn.compose import ColumnTransformer\n",
    "from sklearn.datasets import fetch_openml\n",
    "from sklearn.pipeline import Pipeline\n",
    "from sklearn.impute import SimpleImputer\n",
    "from sklearn.preprocessing import StandardScaler, OneHotEncoder\n",
    "from sklearn.linear_model import LogisticRegression\n",
    "from sklearn.model_selection import train_test_split, GridSearchCV\n",
    "\n",
    "np.random.seed(0)\n",
    "\n",
    "# We will train our classifier with the following features:\n",
    "\n",
    "# Numeric Features:\n",
    "# - IntraDate: Datetime?\n",
    "\n",
    "\n",
    "# Categorical Features:\n",
    "# - District\n",
    "# - Party\n",
    "\n",
    "# - embarked: categories encoded as strings {'C', 'S', 'Q'}.\n",
    "# - sex: categories encoded as strings {'female', 'male'}.\n",
    "# - pclass: ordinal integers {1, 2, 3}.\n",
    "\n",
    "#Binary Features: Will not be OHE\n",
    "\n",
    "# We create the preprocessing pipelines for both numeric and categorical data.\n",
    "\n",
    "numeric_features = ['']\n",
    "numeric_transformer = Pipeline(steps=[\n",
    "    ('imputer', SimpleImputer(strategy='median')),\n",
    "    ('scaler', StandardScaler())])\n",
    "\n",
    "categorical_features = ['Postal', 'Topic', 'District', 'NameFull']\n",
    "categorical_transformer = Pipeline(steps=[\n",
    "#     ('imputer', SimpleImputer(strategy='constant', fill_value='missing')),\n",
    "    ('onehot', OneHotEncoder(handle_unknown='ignore'))])\n",
    "\n",
    "preprocessor = ColumnTransformer(\n",
    "    transformers=[\n",
    "        ('num', numeric_transformer, numeric_features),\n",
    "        ('cat', categorical_transformer, categorical_features)])\n",
    "\n",
    "# Append classifier to preprocessing pipeline.\n",
    "# Now we have a full prediction pipeline - laid out for each model below."
   ]
  },
  {
   "cell_type": "markdown",
   "metadata": {},
   "source": [
    "**Naive Bayes**"
   ]
  },
  {
   "cell_type": "code",
   "execution_count": null,
   "metadata": {},
   "outputs": [],
   "source": [
    "from sklearn.naive_bayes import MultinomialNB\n",
    "from sklearn.pipeline import Pipeline\n",
    "from sklearn.feature_extraction.text import TfidfTransformer\n",
    "from sklearn.metrics import classification_report\n",
    "\n",
    "\n",
    "nb_clf = Pipeline(steps=[('preprocessor', preprocessor),\n",
    "                      ('classifier', MultinomialNB())]) #get parameters\n",
    "parameters = None\n",
    "\n",
    "nb.fit(X_train, y_train)\n",
    "\n",
    "nb_y_pred = nb.predict(X_test)\n",
    "\n",
    "print('accuracy %s' % accuracy_score(nb_y_pred, y_test))\n",
    "print('f1 %s' % f1_score(nb_y_pred, y_test, average='weighted'))\n",
    "print(classification_report(y_test, nb_y_pred))\n",
    "print(confusion_matrix(y_test, nb_y_pred))"
   ]
  },
  {
   "cell_type": "markdown",
   "metadata": {},
   "source": [
    "Use Pipeline or DFMapper!"
   ]
  },
  {
   "cell_type": "markdown",
   "metadata": {},
   "source": [
    "EXAMPLE"
   ]
  },
  {
   "cell_type": "code",
   "execution_count": null,
   "metadata": {},
   "outputs": [],
   "source": [
    "\n",
    "# data = data.fillna('')\n",
    " \n",
    "# #Add the features of the dataframe that you want to transform and/or combine\n",
    "# mapper = DataFrameMapper([\n",
    "#      ('Summary', TfidfVectorizer()), #add paramaters from Topic Modeling\n",
    "#      ('nb_like', None),\n",
    "#      ('picture_labels', TfidfVectorizer()),\n",
    "#      ('nb_share', None),\n",
    "#  ])\n",
    " \n",
    "# \"\"\"\n",
    "# Use the fit_transform method to transform the old dataframe into a new one\n",
    "# that can be fed to the machine learning algorithm.\n",
    "# \"\"\"\n",
    " \n",
    "# #sample Usage\n",
    "# features = mapper.fit_transform(data)\n",
    "# categories = data['INDEX New']\n",
    " \n",
    "# # Split the data between train and test\n",
    "# x, x_test, y, y_test = train_test_split(features,categories,test_size=0.2,train_size=0.8, random_state = 0)\n",
    " \n",
    "# clf = sk.RandomForestClassifier(random_state=0)\n",
    "# clf.fit(x, y)\n",
    " \n",
    "# predicted = clf.predict(x_test)\n",
    " \n",
    "# printreport(y_test, predicted)"
   ]
  },
  {
   "cell_type": "markdown",
   "metadata": {},
   "source": [
    "Evaluate:"
   ]
  },
  {
   "cell_type": "markdown",
   "metadata": {},
   "source": [
    "**Logistic Regression**"
   ]
  },
  {
   "cell_type": "code",
   "execution_count": null,
   "metadata": {},
   "outputs": [],
   "source": [
    "from sklearn.linear_model import LogisticRegression\n",
    "\n",
    "# Bring in OHE?\n",
    "lr_clf = Pipeline(steps=[('preprocessor', preprocessor),\n",
    "                      ('classifier', LogisticRegression())]) #get parameters\n",
    "\n",
    "# Logistic Regression Classifier\n",
    "lr_classifier = LogisticRegression()\n",
    "\n",
    "lr_classifier.fit(X_train, y_train)\n",
    "\n",
    "lr_y_pred = lr_classifier.predict(X_test)\n",
    "\n",
    "print('accuracy %s' % accuracy_score(lr_y_pred, y_test))\n",
    "print('f1 %s' % f1_score(lr_y_pred, y_test, average='weighted'))\n",
    "print(classification_report(y_test, lr_y_pred))\n",
    "print(confusion_matrix(y_test, lr_y_pred))"
   ]
  },
  {
   "cell_type": "markdown",
   "metadata": {},
   "source": [
    "Evaluate:\n",
    "- ROC/AUC"
   ]
  },
  {
   "cell_type": "markdown",
   "metadata": {},
   "source": [
    "**SGD Classifier:**"
   ]
  },
  {
   "cell_type": "code",
   "execution_count": null,
   "metadata": {},
   "outputs": [],
   "source": [
    "from sklearn.linear_model import SGDClassifier\n",
    "\n",
    "sgd = Pipeline(steps=[('preprocessor', preprocessor),\n",
    "                      ('classifier', SGDClassifier(loss='hinge', penalty='l2',alpha=1e-3, random_state=42, max_iter=5, tol=None))])\n",
    "\n",
    "\n",
    "sgd.fit(X_train, y_train)\n",
    "\n",
    "sg_y_pred = sgd.predict(X_test)\n",
    "\n",
    "print('accuracy %s' % accuracy_score(sg_y_pred, y_test))\n",
    "print('f1 %s' % f1_score(sg_y_pred, y_test, average='weighted'))\n",
    "print(classification_report(y_test, sg_y_pred))\n",
    "print(confusion_matrix(y_test, sg_y_pred))"
   ]
  },
  {
   "cell_type": "markdown",
   "metadata": {},
   "source": [
    "**Random Forest**"
   ]
  },
  {
   "cell_type": "code",
   "execution_count": null,
   "metadata": {},
   "outputs": [],
   "source": [
    "from sklearn.ensemble import RandomForestClassifier\n",
    "\n",
    "#add bag of trees?\n",
    "#add OHE\n",
    "\n",
    "rf_pipeline = Pipeline(steps=[('preprocessor', preprocessor),\n",
    "                      ('classifier', RandomForestClassifier(max_depth=None, max_features='auto', n_estimators=10))])\n",
    "\n",
    "\n",
    "rf_pipeline.fit(X_train, y_train) \n",
    "\n",
    "rf_y_pred = rf_pipeline.predict(X_test)\n",
    "\n",
    "print('accuracy %s' % accuracy_score(rf_y_pred, y_test))\n",
    "print('f1 %s' % f1_score(rf_y_pred, y_test, average='weighted'))\n",
    "print(classification_report(y_test, rf_y_pred))\n",
    "print(confusion_matrix(y_test, rf_y_pred))"
   ]
  },
  {
   "cell_type": "markdown",
   "metadata": {},
   "source": [
    "**FINAL MODEL**"
   ]
  },
  {
   "cell_type": "markdown",
   "metadata": {},
   "source": [
    "**Further Evaluation**:\n",
    "- Classification Report\n",
    "- Confusion Matrix\n",
    "- ROC/AUC\n",
    "\n",
    "https://www.kaggle.com/selener/multi-class-text-classification-tfidf"
   ]
  },
  {
   "cell_type": "code",
   "execution_count": null,
   "metadata": {},
   "outputs": [],
   "source": [
    "# Pretty Confusion Matrix - need to change for each model\n",
    "\n",
    "conf_mat = confusion_matrix(y_test, y_pred)\n",
    "fig, ax = plt.subplots(figsize=(8,8))\n",
    "sns.heatmap(conf_mat, annot=True, cmap=\"Blues\", fmt='d',\n",
    "            xticklabels=category_id_df.Product.values, \n",
    "            yticklabels=category_id_df.Product.values)\n",
    "plt.ylabel('Actual')\n",
    "plt.xlabel('Predicted')\n",
    "plt.title(\"CONFUSION MATRIX - LinearSVC\\n\", size=16);"
   ]
  },
  {
   "cell_type": "markdown",
   "metadata": {},
   "source": [
    "# Comparing all Models:"
   ]
  },
  {
   "cell_type": "code",
   "execution_count": null,
   "metadata": {},
   "outputs": [],
   "source": [
    "models = [\n",
    "    RandomForestClassifier(n_estimators=100, max_depth=5, random_state=0),\n",
    "    LinearSVC(),\n",
    "    MultinomialNB(),\n",
    "    LogisticRegression(random_state=0),\n",
    "]\n",
    "\n",
    "# 5 Cross-validation\n",
    "CV = 5\n",
    "cv_df = pd.DataFrame(index=range(CV * len(models)))\n",
    "\n",
    "entries = []\n",
    "for model in models:\n",
    "    model_name = model.__class__.__name__\n",
    "    accuracies = cross_val_score(model, features, labels, scoring='accuracy', cv=CV)\n",
    "    for fold_idx, accuracy in enumerate(accuracies):\n",
    "        entries.append((model_name, fold_idx, accuracy))\n",
    "    \n",
    "cv_df = pd.DataFrame(entries, columns=['model_name', 'fold_idx', 'accuracy'])"
   ]
  },
  {
   "cell_type": "code",
   "execution_count": null,
   "metadata": {},
   "outputs": [],
   "source": [
    "\n",
    "mean_accuracy = cv_df.groupby('model_name').accuracy.mean()\n",
    "std_accuracy = cv_df.groupby('model_name').accuracy.std()\n",
    "\n",
    "acc = pd.concat([mean_accuracy, std_accuracy], axis= 1, \n",
    "          ignore_index=True)\n",
    "acc.columns = ['Mean Accuracy', 'Standard deviation']\n",
    "acc"
   ]
  }
 ],
 "metadata": {
  "kernelspec": {
   "display_name": "Python 3",
   "language": "python",
   "name": "python3"
  },
  "language_info": {
   "codemirror_mode": {
    "name": "ipython",
    "version": 3
   },
   "file_extension": ".py",
   "mimetype": "text/x-python",
   "name": "python",
   "nbconvert_exporter": "python",
   "pygments_lexer": "ipython3",
   "version": "3.7.3"
  }
 },
 "nbformat": 4,
 "nbformat_minor": 2
}
