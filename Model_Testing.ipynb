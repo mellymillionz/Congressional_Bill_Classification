{
 "cells": [
  {
   "cell_type": "markdown",
   "metadata": {},
   "source": [
    "# **Model Testing**"
   ]
  },
  {
   "cell_type": "markdown",
   "metadata": {},
   "source": [
    "**All Features:**\n",
    "\n",
    "Data columns (total 29 columns):\n",
    "\n",
    "Specific Identifiers:\n",
    "\n",
    "- BillID      51067 non-null object\n",
    "\n",
    "\n",
    "How far it made it:\n",
    "\n",
    "- PassH       51067 non-null int64\n",
    "- PassS       51067 non-null int64\n",
    "- PLawDate    1393 non-null object - MAKE BOOL?\n",
    "- PLawNum     51067 non-null object\n",
    "- PLaw        51067 non-null int64\n",
    "- Veto        51067 non-null int64\n",
    "\n",
    "Bill Descriptive Info:\n",
    "\n",
    "- BillType    51067 non-null object\n",
    "- Title       51067 non-null object\n",
    "- Cong        51067 non-null int64\n",
    "- Summary     51017 non-null object - REMOVE NULL\n",
    "- ImpBill     51067 non-null int64\n",
    "- Chamber     51067 non-null int64 (H or S)\n",
    "\n",
    "Info about Rep Bill Proposer:\n",
    "\n",
    "- Cosponsr    51067 non-null float64\n",
    "- IntrDate    51025 non-null object - REMOVE NULL\n",
    "- Mult        51067 non-null int64\n",
    "- Class       51067 non-null float64\n",
    "- District    51067 non-null float64\n",
    "- FrstConH    51067 non-null float64\n",
    "- FrstConS    51067 non-null float64\n",
    "- Gender      51067 non-null int64\n",
    "- MRef        51067 non-null int64\n",
    "- NameFull    51067 non-null object\n",
    "- Party       51067 non-null float64\n",
    "- Postal      51067 non-null object\n",
    "- Majority    51067 non-null int64\n",
    "\n",
    "Other general bill info:\n",
    "\n",
    "- Major       51067 non-null float64\n",
    "- Minor       51067 non-null float64\n",
    "\n",
    "The URL:\n",
    "\n",
    "- URL         51067 non-null object\n",
    "\n",
    "\n",
    "List of the models to test and the parameters to tune:\n",
    "  \n",
    "**Models:**\n",
    "- Naive Bayes\n",
    "- Logistic Regression\n",
    "- Random Forest\n",
    "- SVM\n",
    "\n",
    "**Evaluations:**\n",
    "- Accuracy, precision, recall, f1\n",
    "- Confusion Matrix\n",
    "- ROC/AUC\n",
    "    "
   ]
  },
  {
   "cell_type": "markdown",
   "metadata": {},
   "source": [
    "**Query Data**"
   ]
  },
  {
   "cell_type": "code",
   "execution_count": 3,
   "metadata": {},
   "outputs": [],
   "source": [
    "import mysql.connector \n",
    "import numpy as np\n",
    "import pandas as pd\n",
    "import config_final\n",
    "import requests\n",
    "\n",
    "from sodapy import Socrata\n",
    "import sqlalchemy as db\n"
   ]
  },
  {
   "cell_type": "code",
   "execution_count": 4,
   "metadata": {},
   "outputs": [],
   "source": [
    "def query(q):\n",
    "    try:\n",
    "        return pd.read_sql_query(q, engine)\n",
    "    # Pass when no data is returned    \n",
    "    except ResourceClosedError:\n",
    "        pass\n",
    "\n",
    "def query_list(col, table, distinct = True):\n",
    "    elts = ['SELECT',\n",
    "            'DISTINCT' if distinct else '',\n",
    "            col,\n",
    "            'FROM',\n",
    "            table]\n",
    "    query_str = ' '.join(elts)\n",
    "    df = query(query_str)\n",
    "    l = df.iloc[:,0].tolist()\n",
    "    return l"
   ]
  },
  {
   "cell_type": "code",
   "execution_count": 5,
   "metadata": {},
   "outputs": [],
   "source": [
    "engine = db.create_engine(f'mysql+mysqlconnector://{config_final.user}:{config_final.password}@{config_final.host}/con_bills')\n",
    "\n",
    "connection = engine.connect()\n",
    "metadata=db.MetaData()"
   ]
  },
  {
   "cell_type": "code",
   "execution_count": 8,
   "metadata": {},
   "outputs": [],
   "source": [
    "df = query('SELECT * FROM con_bills.current_bills WHERE Cong >= 110')\n"
   ]
  },
  {
   "cell_type": "code",
   "execution_count": null,
   "metadata": {},
   "outputs": [],
   "source": [
    "df = query('SELECT BillID, \n",
    "           BillType, \n",
    "           Chamber, \n",
    "           Cong, \n",
    "           Cosponsr, \n",
    "#            Title,\n",
    "           IntrDate,\n",
    "           Mult,\n",
    "           PLaw,\n",
    "           Veto,\n",
    "#            Class,\n",
    "           District,\n",
    "           FrstConH,\n",
    "           FrstConS,\n",
    "           Gender,\n",
    "#            NameFull,\n",
    "           Party,\n",
    "           Postal,\n",
    "           PassH,\n",
    "           PassS,\n",
    "           PLawDate,\n",
    "           Majority,\n",
    "#            Summary \n",
    "           Topic,\n",
    "           title_len         \n",
    "           FROM con_bills.current_bills WHERE Cong >= 110')\n"
   ]
  },
  {
   "cell_type": "code",
   "execution_count": 9,
   "metadata": {},
   "outputs": [
    {
     "data": {
      "text/html": [
       "<div>\n",
       "<style scoped>\n",
       "    .dataframe tbody tr th:only-of-type {\n",
       "        vertical-align: middle;\n",
       "    }\n",
       "\n",
       "    .dataframe tbody tr th {\n",
       "        vertical-align: top;\n",
       "    }\n",
       "\n",
       "    .dataframe thead th {\n",
       "        text-align: right;\n",
       "    }\n",
       "</style>\n",
       "<table border=\"1\" class=\"dataframe\">\n",
       "  <thead>\n",
       "    <tr style=\"text-align: right;\">\n",
       "      <th></th>\n",
       "      <th>BillID</th>\n",
       "      <th>BillType</th>\n",
       "      <th>Chamber</th>\n",
       "      <th>Cong</th>\n",
       "      <th>Cosponsr</th>\n",
       "      <th>IntrDate</th>\n",
       "      <th>Mult</th>\n",
       "      <th>PLaw</th>\n",
       "      <th>Title</th>\n",
       "      <th>Veto</th>\n",
       "      <th>...</th>\n",
       "      <th>PassH</th>\n",
       "      <th>PassS</th>\n",
       "      <th>PLawDate</th>\n",
       "      <th>PLawNum</th>\n",
       "      <th>ImpBill</th>\n",
       "      <th>Majority</th>\n",
       "      <th>Major</th>\n",
       "      <th>Minor</th>\n",
       "      <th>URL</th>\n",
       "      <th>Summary</th>\n",
       "    </tr>\n",
       "  </thead>\n",
       "  <tbody>\n",
       "    <tr>\n",
       "      <th>0</th>\n",
       "      <td>110-HR-1</td>\n",
       "      <td>hr</td>\n",
       "      <td>0</td>\n",
       "      <td>110</td>\n",
       "      <td>205.0</td>\n",
       "      <td>2007-01-05 00:00:00</td>\n",
       "      <td>1</td>\n",
       "      <td>1</td>\n",
       "      <td>To provide for the implementation of the recom...</td>\n",
       "      <td>0</td>\n",
       "      <td>...</td>\n",
       "      <td>1</td>\n",
       "      <td>1</td>\n",
       "      <td>2007-08-03 00:00:00</td>\n",
       "      <td>Became Public Law No: 110-53.</td>\n",
       "      <td>1</td>\n",
       "      <td>1</td>\n",
       "      <td>16.0</td>\n",
       "      <td>1615.0</td>\n",
       "      <td>https://www.congress.gov/bill/110th-congress/h...</td>\n",
       "      <td>Implementing Recommendations of the 9/11 Commi...</td>\n",
       "    </tr>\n",
       "    <tr>\n",
       "      <th>1</th>\n",
       "      <td>110-HR-10</td>\n",
       "      <td>hr</td>\n",
       "      <td>0</td>\n",
       "      <td>110</td>\n",
       "      <td>0.0</td>\n",
       "      <td>2007-01-04 00:00:00</td>\n",
       "      <td>0</td>\n",
       "      <td>0</td>\n",
       "      <td>Reserved for Speaker.</td>\n",
       "      <td>0</td>\n",
       "      <td>...</td>\n",
       "      <td>0</td>\n",
       "      <td>0</td>\n",
       "      <td>None</td>\n",
       "      <td>0</td>\n",
       "      <td>1</td>\n",
       "      <td>1</td>\n",
       "      <td>20.0</td>\n",
       "      <td>2002.0</td>\n",
       "      <td>https://www.congress.gov/bill/110th-congress/h...</td>\n",
       "      <td></td>\n",
       "    </tr>\n",
       "    <tr>\n",
       "      <th>2</th>\n",
       "      <td>110-HR-100</td>\n",
       "      <td>hr</td>\n",
       "      <td>0</td>\n",
       "      <td>110</td>\n",
       "      <td>10.0</td>\n",
       "      <td>2007-01-04 00:00:00</td>\n",
       "      <td>0</td>\n",
       "      <td>0</td>\n",
       "      <td>To amend the Higher Education Act of 1965 to p...</td>\n",
       "      <td>0</td>\n",
       "      <td>...</td>\n",
       "      <td>0</td>\n",
       "      <td>0</td>\n",
       "      <td>None</td>\n",
       "      <td>0</td>\n",
       "      <td>1</td>\n",
       "      <td>1</td>\n",
       "      <td>6.0</td>\n",
       "      <td>601.0</td>\n",
       "      <td>https://www.congress.gov/bill/110th-congress/h...</td>\n",
       "      <td>Veterans' Equity in Education Act of 2007 - Am...</td>\n",
       "    </tr>\n",
       "    <tr>\n",
       "      <th>3</th>\n",
       "      <td>110-HR-1000</td>\n",
       "      <td>hr</td>\n",
       "      <td>0</td>\n",
       "      <td>110</td>\n",
       "      <td>286.0</td>\n",
       "      <td>2007-02-12 00:00:00</td>\n",
       "      <td>0</td>\n",
       "      <td>0</td>\n",
       "      <td>To award a congressional gold medal to Edward ...</td>\n",
       "      <td>0</td>\n",
       "      <td>...</td>\n",
       "      <td>0</td>\n",
       "      <td>0</td>\n",
       "      <td>None</td>\n",
       "      <td>0</td>\n",
       "      <td>0</td>\n",
       "      <td>1</td>\n",
       "      <td>20.0</td>\n",
       "      <td>2006.0</td>\n",
       "      <td>https://www.congress.gov/bill/110th-congress/h...</td>\n",
       "      <td>Edward William Brooke III Congressional Gold M...</td>\n",
       "    </tr>\n",
       "    <tr>\n",
       "      <th>4</th>\n",
       "      <td>110-HR-1001</td>\n",
       "      <td>hr</td>\n",
       "      <td>0</td>\n",
       "      <td>110</td>\n",
       "      <td>0.0</td>\n",
       "      <td>2007-02-12 00:00:00</td>\n",
       "      <td>0</td>\n",
       "      <td>0</td>\n",
       "      <td>To amend the Haitian Hemispheric Opportunity t...</td>\n",
       "      <td>0</td>\n",
       "      <td>...</td>\n",
       "      <td>0</td>\n",
       "      <td>0</td>\n",
       "      <td>None</td>\n",
       "      <td>0</td>\n",
       "      <td>1</td>\n",
       "      <td>1</td>\n",
       "      <td>19.0</td>\n",
       "      <td>1921.0</td>\n",
       "      <td>https://www.congress.gov/bill/110th-congress/h...</td>\n",
       "      <td>Amends the Caribbean Basin Economic Recovery A...</td>\n",
       "    </tr>\n",
       "  </tbody>\n",
       "</table>\n",
       "<p>5 rows × 29 columns</p>\n",
       "</div>"
      ],
      "text/plain": [
       "        BillID BillType  Chamber  Cong  Cosponsr             IntrDate  Mult  \\\n",
       "0     110-HR-1       hr        0   110     205.0  2007-01-05 00:00:00     1   \n",
       "1    110-HR-10       hr        0   110       0.0  2007-01-04 00:00:00     0   \n",
       "2   110-HR-100       hr        0   110      10.0  2007-01-04 00:00:00     0   \n",
       "3  110-HR-1000       hr        0   110     286.0  2007-02-12 00:00:00     0   \n",
       "4  110-HR-1001       hr        0   110       0.0  2007-02-12 00:00:00     0   \n",
       "\n",
       "   PLaw                                              Title  Veto  ...  PassH  \\\n",
       "0     1  To provide for the implementation of the recom...     0  ...      1   \n",
       "1     0                              Reserved for Speaker.     0  ...      0   \n",
       "2     0  To amend the Higher Education Act of 1965 to p...     0  ...      0   \n",
       "3     0  To award a congressional gold medal to Edward ...     0  ...      0   \n",
       "4     0  To amend the Haitian Hemispheric Opportunity t...     0  ...      0   \n",
       "\n",
       "   PassS             PLawDate                        PLawNum  ImpBill  \\\n",
       "0      1  2007-08-03 00:00:00  Became Public Law No: 110-53.        1   \n",
       "1      0                 None                              0        1   \n",
       "2      0                 None                              0        1   \n",
       "3      0                 None                              0        0   \n",
       "4      0                 None                              0        1   \n",
       "\n",
       "   Majority Major   Minor                                                URL  \\\n",
       "0         1  16.0  1615.0  https://www.congress.gov/bill/110th-congress/h...   \n",
       "1         1  20.0  2002.0  https://www.congress.gov/bill/110th-congress/h...   \n",
       "2         1   6.0   601.0  https://www.congress.gov/bill/110th-congress/h...   \n",
       "3         1  20.0  2006.0  https://www.congress.gov/bill/110th-congress/h...   \n",
       "4         1  19.0  1921.0  https://www.congress.gov/bill/110th-congress/h...   \n",
       "\n",
       "                                             Summary  \n",
       "0  Implementing Recommendations of the 9/11 Commi...  \n",
       "1                                                     \n",
       "2  Veterans' Equity in Education Act of 2007 - Am...  \n",
       "3  Edward William Brooke III Congressional Gold M...  \n",
       "4  Amends the Caribbean Basin Economic Recovery A...  \n",
       "\n",
       "[5 rows x 29 columns]"
      ]
     },
     "execution_count": 9,
     "metadata": {},
     "output_type": "execute_result"
    }
   ],
   "source": [
    "df.head()"
   ]
  },
  {
   "cell_type": "markdown",
   "metadata": {},
   "source": [
    "**Final Data Cleaning**\n",
    "\n",
    "Add:\n",
    "- Len title words or anything?\n",
    "- tfidf on title?\n",
    "\n",
    "REMOVE:\n",
    "- PLawNum (not necessary for analysis)\n",
    "- Major/Minor (no keys)\n",
    "- PLawDate (too few)\n",
    "- ImpBill (almost all are)\n",
    "\n",
    "\n",
    "Edit: \n",
    "- BillType: \n",
    "- Chamber: To binary\n",
    "- Cong: OHE\n",
    "- Postal: OHE\n",
    "\n",
    "How to deal with: Things that happen after House passage!?"
   ]
  },
  {
   "cell_type": "code",
   "execution_count": 12,
   "metadata": {},
   "outputs": [
    {
     "data": {
      "text/plain": [
       "(51067, 29)"
      ]
     },
     "execution_count": 12,
     "metadata": {},
     "output_type": "execute_result"
    }
   ],
   "source": [
    "df.shape"
   ]
  },
  {
   "cell_type": "code",
   "execution_count": 13,
   "metadata": {},
   "outputs": [
    {
     "data": {
      "text/plain": [
       "BillID          0\n",
       "BillType        0\n",
       "Chamber         0\n",
       "Cong            0\n",
       "Cosponsr        0\n",
       "IntrDate       42\n",
       "Mult            0\n",
       "PLaw            0\n",
       "Title           0\n",
       "Veto            0\n",
       "Class           0\n",
       "District        0\n",
       "FrstConH        0\n",
       "FrstConS        0\n",
       "Gender          0\n",
       "MRef            0\n",
       "NameFull        0\n",
       "Party           0\n",
       "Postal          0\n",
       "PassH           0\n",
       "PassS           0\n",
       "PLawDate    49674\n",
       "PLawNum         0\n",
       "ImpBill         0\n",
       "Majority        0\n",
       "Major           0\n",
       "Minor           0\n",
       "URL             0\n",
       "Summary        50\n",
       "dtype: int64"
      ]
     },
     "execution_count": 13,
     "metadata": {},
     "output_type": "execute_result"
    }
   ],
   "source": [
    "df.isnull().sum()"
   ]
  },
  {
   "cell_type": "code",
   "execution_count": null,
   "metadata": {},
   "outputs": [],
   "source": [
    "#Replace Nulls in IntrDate - Figure out how to do this!\n",
    "#Maybe change to just month or just year\n",
    "df['IntrDate'].head()"
   ]
  },
  {
   "cell_type": "code",
   "execution_count": null,
   "metadata": {},
   "outputs": [],
   "source": [
    "#Summary no longer necessary?\n",
    "df['Summary'].fillna(' ', inplace=True)"
   ]
  },
  {
   "cell_type": "markdown",
   "metadata": {},
   "source": [
    "**Final Engineering:**"
   ]
  },
  {
   "cell_type": "code",
   "execution_count": 16,
   "metadata": {},
   "outputs": [
    {
     "data": {
      "text/plain": [
       "0    MS\n",
       "1    CA\n",
       "2    CA\n",
       "3    DC\n",
       "4    SC\n",
       "Name: Postal, dtype: object"
      ]
     },
     "execution_count": 16,
     "metadata": {},
     "output_type": "execute_result"
    }
   ],
   "source": [
    "#One hot encode Postal - SHOULD I Assign to numerical?\n",
    "df['Postal'].head()"
   ]
  },
  {
   "cell_type": "code",
   "execution_count": 27,
   "metadata": {},
   "outputs": [
    {
     "data": {
      "text/plain": [
       "936"
      ]
     },
     "execution_count": 27,
     "metadata": {},
     "output_type": "execute_result"
    }
   ],
   "source": [
    "#Do I want to try to encode the name?\n",
    "df['NameFull'].value_counts().count()\n",
    "\n",
    "#one hot encode only for the top bill people\n",
    "#Consider adding only top, or thinking about the particular model that is running"
   ]
  },
  {
   "cell_type": "code",
   "execution_count": null,
   "metadata": {},
   "outputs": [],
   "source": [
    "#Add title length?\n",
    "len(df['Title']).head()"
   ]
  },
  {
   "cell_type": "code",
   "execution_count": null,
   "metadata": {},
   "outputs": [],
   "source": [
    "#total 325. Need to convert to groups, then OHE\n",
    "df['Cosponsr'].value_counts()"
   ]
  },
  {
   "cell_type": "markdown",
   "metadata": {},
   "source": [
    "# **Train and Test**"
   ]
  },
  {
   "cell_type": "code",
   "execution_count": null,
   "metadata": {},
   "outputs": [],
   "source": [
    "from sklearn.model_selection import train_test_split\n",
    "\n",
    "X = df.drop(columns=['PassH'], axis=1)\n",
    "y = df['PassH']\n",
    "\n",
    "X_train, X_test, y_train1, y_test1 = train_test_split(X, y, test_size = .2, random_state=1)"
   ]
  },
  {
   "cell_type": "code",
   "execution_count": null,
   "metadata": {},
   "outputs": [],
   "source": [
    "#Do i need to transform back after modeling?\n",
    "encoder = preprocessing.LabelEncoder()\n",
    "\n",
    "y_train = encoder.fit_transform(y_train1)\n",
    "y_test = encoder.fit_transform(y_test1)"
   ]
  },
  {
   "cell_type": "markdown",
   "metadata": {},
   "source": [
    "**One hot encoding**\n",
    "\n",
    "All categorical variables:\n",
    "- "
   ]
  },
  {
   "cell_type": "code",
   "execution_count": null,
   "metadata": {},
   "outputs": [],
   "source": [
    "from sklearn.preprocessing import OneHotEncoder, LabelEncoder"
   ]
  },
  {
   "cell_type": "markdown",
   "metadata": {},
   "source": [
    "Then One-Hot-Encode:\n",
    "\n",
    "- Encode categorical integer features using a one-hot aka one-of-K scheme.\n",
    "- The input to this transformer should be a matrix of integers, denoting the values taken on by categorical (discrete) features.\n",
    "- The output will be a sparse matrix where each column corresponds to one possible value of one feature.\n",
    "- It is assumed that input features take on values in the range [0, n_values).\n",
    "- This encoding is needed for feeding categorical data to many scikit-learn estimators, notably linear models and SVMs with the standard kernels."
   ]
  },
  {
   "cell_type": "markdown",
   "metadata": {},
   "source": [
    "# **Modeling**\n",
    "\n",
    "Import packages:\n",
    "\n",
    "- CountVectorizer\n",
    "- TFIDF\n",
    "\n",
    "- Naive Bayes\n",
    "- Logistic Regression\n",
    "- Random Forest\n",
    "\n",
    "**Remember to look at feature importances!"
   ]
  },
  {
   "cell_type": "code",
   "execution_count": null,
   "metadata": {},
   "outputs": [],
   "source": [
    "import numpy as np\n",
    "\n",
    "from sklearn.compose import ColumnTransformer\n",
    "from sklearn.datasets import fetch_openml\n",
    "from sklearn.pipeline import Pipeline\n",
    "from sklearn.impute import SimpleImputer\n",
    "from sklearn.preprocessing import StandardScaler, OneHotEncoder\n",
    "from sklearn.linear_model import LogisticRegression\n",
    "from sklearn.model_selection import train_test_split, GridSearchCV\n",
    "\n",
    "np.random.seed(0)\n",
    "\n",
    "# We will train our classifier with the following features:\n",
    "\n",
    "# Numeric Features:\n",
    "# - IntraDate: Datetime?\n",
    "\n",
    "\n",
    "# Categorical Features:\n",
    "# - District\n",
    "# - Party\n",
    "\n",
    "# - embarked: categories encoded as strings {'C', 'S', 'Q'}.\n",
    "# - sex: categories encoded as strings {'female', 'male'}.\n",
    "# - pclass: ordinal integers {1, 2, 3}.\n",
    "\n",
    "#Binary Features: Will not be OHE\n",
    "\n",
    "# We create the preprocessing pipelines for both numeric and categorical data.\n",
    "\n",
    "numeric_features = ['']\n",
    "numeric_transformer = Pipeline(steps=[\n",
    "    ('imputer', SimpleImputer(strategy='median')),\n",
    "    ('scaler', StandardScaler())])\n",
    "\n",
    "categorical_features = ['Postal', 'Topic', 'District', 'NameFull']\n",
    "categorical_transformer = Pipeline(steps=[\n",
    "#     ('imputer', SimpleImputer(strategy='constant', fill_value='missing')),\n",
    "    ('onehot', OneHotEncoder(handle_unknown='ignore'))])\n",
    "\n",
    "preprocessor = ColumnTransformer(\n",
    "    transformers=[\n",
    "        ('num', numeric_transformer, numeric_features),\n",
    "        ('cat', categorical_transformer, categorical_features)])\n",
    "\n",
    "# Append classifier to preprocessing pipeline.\n",
    "# Now we have a full prediction pipeline - laid out for each model below."
   ]
  },
  {
   "cell_type": "markdown",
   "metadata": {},
   "source": [
    "**Naive Bayes**"
   ]
  },
  {
   "cell_type": "code",
   "execution_count": null,
   "metadata": {},
   "outputs": [],
   "source": [
    "from sklearn.naive_bayes import MultinomialNB\n",
    "from sklearn.pipeline import Pipeline\n",
    "from sklearn.feature_extraction.text import TfidfTransformer\n",
    "from sklearn.metrics import classification_report\n",
    "\n",
    "\n",
    "nb_clf = Pipeline(steps=[('preprocessor', preprocessor),\n",
    "                      ('classifier', MultinomialNB())]) #get parameters\n",
    "parameters = None\n",
    "\n",
    "nb.fit(X_train, y_train)\n",
    "\n",
    "nb_y_pred = nb.predict(X_test)\n",
    "\n",
    "print('accuracy %s' % accuracy_score(nb_y_pred, y_test))\n",
    "print('f1 %s' % f1_score(nb_y_pred, y_test, average='weighted'))\n",
    "print(classification_report(y_test, nb_y_pred))\n",
    "print(confusion_matrix(y_test, nb_y_pred))"
   ]
  },
  {
   "cell_type": "markdown",
   "metadata": {},
   "source": [
    "Use Pipeline or DFMapper!"
   ]
  },
  {
   "cell_type": "markdown",
   "metadata": {},
   "source": [
    "EXAMPLE"
   ]
  },
  {
   "cell_type": "code",
   "execution_count": null,
   "metadata": {},
   "outputs": [],
   "source": [
    "\n",
    "# data = data.fillna('')\n",
    " \n",
    "# #Add the features of the dataframe that you want to transform and/or combine\n",
    "# mapper = DataFrameMapper([\n",
    "#      ('Summary', TfidfVectorizer()), #add paramaters from Topic Modeling\n",
    "#      ('nb_like', None),\n",
    "#      ('picture_labels', TfidfVectorizer()),\n",
    "#      ('nb_share', None),\n",
    "#  ])\n",
    " \n",
    "# \"\"\"\n",
    "# Use the fit_transform method to transform the old dataframe into a new one\n",
    "# that can be fed to the machine learning algorithm.\n",
    "# \"\"\"\n",
    " \n",
    "# #sample Usage\n",
    "# features = mapper.fit_transform(data)\n",
    "# categories = data['INDEX New']\n",
    " \n",
    "# # Split the data between train and test\n",
    "# x, x_test, y, y_test = train_test_split(features,categories,test_size=0.2,train_size=0.8, random_state = 0)\n",
    " \n",
    "# clf = sk.RandomForestClassifier(random_state=0)\n",
    "# clf.fit(x, y)\n",
    " \n",
    "# predicted = clf.predict(x_test)\n",
    " \n",
    "# printreport(y_test, predicted)"
   ]
  },
  {
   "cell_type": "markdown",
   "metadata": {},
   "source": [
    "Evaluate:"
   ]
  },
  {
   "cell_type": "markdown",
   "metadata": {},
   "source": [
    "**Logistic Regression**"
   ]
  },
  {
   "cell_type": "code",
   "execution_count": null,
   "metadata": {},
   "outputs": [],
   "source": [
    "from sklearn.linear_model import LogisticRegression\n",
    "\n",
    "# Bring in OHE?\n",
    "lr_clf = Pipeline(steps=[('preprocessor', preprocessor),\n",
    "                      ('classifier', LogisticRegression())]) #get parameters\n",
    "\n",
    "# Logistic Regression Classifier\n",
    "lr_classifier = LogisticRegression()\n",
    "\n",
    "lr_classifier.fit(X_train, y_train)\n",
    "\n",
    "lr_y_pred = lr_classifier.predict(X_test)\n",
    "\n",
    "print('accuracy %s' % accuracy_score(lr_y_pred, y_test))\n",
    "print('f1 %s' % f1_score(lr_y_pred, y_test, average='weighted'))\n",
    "print(classification_report(y_test, lr_y_pred))\n",
    "print(confusion_matrix(y_test, lr_y_pred))"
   ]
  },
  {
   "cell_type": "markdown",
   "metadata": {},
   "source": [
    "Evaluate:\n",
    "- ROC/AUC"
   ]
  },
  {
   "cell_type": "markdown",
   "metadata": {},
   "source": [
    "**SGD Classifier:**"
   ]
  },
  {
   "cell_type": "code",
   "execution_count": null,
   "metadata": {},
   "outputs": [],
   "source": [
    "from sklearn.linear_model import SGDClassifier\n",
    "\n",
    "sgd = Pipeline(steps=[('preprocessor', preprocessor),\n",
    "                      ('classifier', SGDClassifier(loss='hinge', penalty='l2',alpha=1e-3, random_state=42, max_iter=5, tol=None))])\n",
    "\n",
    "\n",
    "sgd.fit(X_train, y_train)\n",
    "\n",
    "sg_y_pred = sgd.predict(X_test)\n",
    "\n",
    "print('accuracy %s' % accuracy_score(sg_y_pred, y_test))\n",
    "print('f1 %s' % f1_score(sg_y_pred, y_test, average='weighted'))\n",
    "print(classification_report(y_test, sg_y_pred))\n",
    "print(confusion_matrix(y_test, sg_y_pred))"
   ]
  },
  {
   "cell_type": "markdown",
   "metadata": {},
   "source": [
    "**Random Forest**"
   ]
  },
  {
   "cell_type": "code",
   "execution_count": null,
   "metadata": {},
   "outputs": [],
   "source": [
    "from sklearn.ensemble import RandomForestClassifier\n",
    "\n",
    "#add bag of trees?\n",
    "#add OHE\n",
    "\n",
    "rf_pipeline = Pipeline(steps=[('preprocessor', preprocessor),\n",
    "                      ('classifier', RandomForestClassifier(max_depth=None, max_features='auto', n_estimators=10))])\n",
    "\n",
    "\n",
    "rf_pipeline.fit(X_train, y_train) \n",
    "\n",
    "rf_y_pred = rf_pipeline.predict(X_test)\n",
    "\n",
    "print('accuracy %s' % accuracy_score(rf_y_pred, y_test))\n",
    "print('f1 %s' % f1_score(rf_y_pred, y_test, average='weighted'))\n",
    "print(classification_report(y_test, rf_y_pred))\n",
    "print(confusion_matrix(y_test, rf_y_pred))"
   ]
  },
  {
   "cell_type": "markdown",
   "metadata": {},
   "source": [
    "**FINAL MODEL**"
   ]
  },
  {
   "cell_type": "markdown",
   "metadata": {},
   "source": [
    "**Further Evaluation**:\n",
    "- Classification Report\n",
    "- Confusion Matrix\n",
    "- ROC/AUC\n",
    "\n",
    "https://www.kaggle.com/selener/multi-class-text-classification-tfidf"
   ]
  },
  {
   "cell_type": "code",
   "execution_count": null,
   "metadata": {},
   "outputs": [],
   "source": [
    "# Pretty Confusion Matrix - need to change for each model\n",
    "\n",
    "conf_mat = confusion_matrix(y_test, y_pred)\n",
    "fig, ax = plt.subplots(figsize=(8,8))\n",
    "sns.heatmap(conf_mat, annot=True, cmap=\"Blues\", fmt='d',\n",
    "            xticklabels=category_id_df.Product.values, \n",
    "            yticklabels=category_id_df.Product.values)\n",
    "plt.ylabel('Actual')\n",
    "plt.xlabel('Predicted')\n",
    "plt.title(\"CONFUSION MATRIX - LinearSVC\\n\", size=16);"
   ]
  },
  {
   "cell_type": "markdown",
   "metadata": {},
   "source": [
    "# Comparing all Models:"
   ]
  },
  {
   "cell_type": "code",
   "execution_count": null,
   "metadata": {},
   "outputs": [],
   "source": [
    "models = [\n",
    "    RandomForestClassifier(n_estimators=100, max_depth=5, random_state=0),\n",
    "    LinearSVC(),\n",
    "    MultinomialNB(),\n",
    "    LogisticRegression(random_state=0),\n",
    "]\n",
    "\n",
    "# 5 Cross-validation\n",
    "CV = 5\n",
    "cv_df = pd.DataFrame(index=range(CV * len(models)))\n",
    "\n",
    "entries = []\n",
    "for model in models:\n",
    "    model_name = model.__class__.__name__\n",
    "    accuracies = cross_val_score(model, features, labels, scoring='accuracy', cv=CV)\n",
    "    for fold_idx, accuracy in enumerate(accuracies):\n",
    "        entries.append((model_name, fold_idx, accuracy))\n",
    "    \n",
    "cv_df = pd.DataFrame(entries, columns=['model_name', 'fold_idx', 'accuracy'])"
   ]
  },
  {
   "cell_type": "code",
   "execution_count": null,
   "metadata": {},
   "outputs": [],
   "source": [
    "\n",
    "mean_accuracy = cv_df.groupby('model_name').accuracy.mean()\n",
    "std_accuracy = cv_df.groupby('model_name').accuracy.std()\n",
    "\n",
    "acc = pd.concat([mean_accuracy, std_accuracy], axis= 1, \n",
    "          ignore_index=True)\n",
    "acc.columns = ['Mean Accuracy', 'Standard deviation']\n",
    "acc"
   ]
  }
 ],
 "metadata": {
  "kernelspec": {
   "display_name": "Python 3",
   "language": "python",
   "name": "python3"
  },
  "language_info": {
   "codemirror_mode": {
    "name": "ipython",
    "version": 3
   },
   "file_extension": ".py",
   "mimetype": "text/x-python",
   "name": "python",
   "nbconvert_exporter": "python",
   "pygments_lexer": "ipython3",
   "version": "3.7.3"
  }
 },
 "nbformat": 4,
 "nbformat_minor": 2
}
