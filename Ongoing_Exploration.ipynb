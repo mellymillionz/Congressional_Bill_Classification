{
 "cells": [
  {
   "cell_type": "code",
   "execution_count": 77,
   "metadata": {},
   "outputs": [],
   "source": [
    "import mysql.connector \n",
    "import numpy as np\n",
    "import pandas as pd\n",
    "import config_final\n",
    "import requests\n",
    "\n",
    "from sodapy import Socrata\n",
    "import sqlalchemy as db\n",
    "\n",
    "\n",
    "import config_final as config\n",
    "from schema import DbSchema\n",
    "\n",
    "import matplotlib.pyplot as plt\n",
    "import pickle\n"
   ]
  },
  {
   "cell_type": "code",
   "execution_count": 78,
   "metadata": {},
   "outputs": [],
   "source": [
    "bills_db = DbSchema(config)\n"
   ]
  },
  {
   "cell_type": "code",
   "execution_count": 79,
   "metadata": {},
   "outputs": [
    {
     "data": {
      "text/html": [
       "<div>\n",
       "<style scoped>\n",
       "    .dataframe tbody tr th:only-of-type {\n",
       "        vertical-align: middle;\n",
       "    }\n",
       "\n",
       "    .dataframe tbody tr th {\n",
       "        vertical-align: top;\n",
       "    }\n",
       "\n",
       "    .dataframe thead th {\n",
       "        text-align: right;\n",
       "    }\n",
       "</style>\n",
       "<table border=\"1\" class=\"dataframe\">\n",
       "  <thead>\n",
       "    <tr style=\"text-align: right;\">\n",
       "      <th></th>\n",
       "      <th>BillID</th>\n",
       "      <th>BillType</th>\n",
       "      <th>Chamber</th>\n",
       "      <th>Cong</th>\n",
       "      <th>Cosponsr</th>\n",
       "      <th>IntrDate</th>\n",
       "      <th>Mult</th>\n",
       "      <th>PLaw</th>\n",
       "      <th>Title</th>\n",
       "      <th>Veto</th>\n",
       "      <th>...</th>\n",
       "      <th>PLawNum</th>\n",
       "      <th>ImpBill</th>\n",
       "      <th>Majority</th>\n",
       "      <th>Major</th>\n",
       "      <th>Minor</th>\n",
       "      <th>URL</th>\n",
       "      <th>Summary</th>\n",
       "      <th>Index</th>\n",
       "      <th>BillID</th>\n",
       "      <th>dominant_topic</th>\n",
       "    </tr>\n",
       "  </thead>\n",
       "  <tbody>\n",
       "    <tr>\n",
       "      <th>0</th>\n",
       "      <td>110-HR-1</td>\n",
       "      <td>hr</td>\n",
       "      <td>0</td>\n",
       "      <td>110</td>\n",
       "      <td>205.0</td>\n",
       "      <td>2007-01-05 00:00:00</td>\n",
       "      <td>1</td>\n",
       "      <td>1</td>\n",
       "      <td>To provide for the implementation of the recom...</td>\n",
       "      <td>0</td>\n",
       "      <td>...</td>\n",
       "      <td>Became Public Law No: 110-53.</td>\n",
       "      <td>1</td>\n",
       "      <td>1</td>\n",
       "      <td>16.0</td>\n",
       "      <td>1615.0</td>\n",
       "      <td>https://www.congress.gov/bill/110th-congress/h...</td>\n",
       "      <td>Implementing Recommendations of the 9/11 Commi...</td>\n",
       "      <td>1</td>\n",
       "      <td>110-HR-1</td>\n",
       "      <td>5</td>\n",
       "    </tr>\n",
       "    <tr>\n",
       "      <th>1</th>\n",
       "      <td>110-HR-10</td>\n",
       "      <td>hr</td>\n",
       "      <td>0</td>\n",
       "      <td>110</td>\n",
       "      <td>0.0</td>\n",
       "      <td>2007-01-04 00:00:00</td>\n",
       "      <td>0</td>\n",
       "      <td>0</td>\n",
       "      <td>Reserved for Speaker.</td>\n",
       "      <td>0</td>\n",
       "      <td>...</td>\n",
       "      <td>0</td>\n",
       "      <td>1</td>\n",
       "      <td>1</td>\n",
       "      <td>20.0</td>\n",
       "      <td>2002.0</td>\n",
       "      <td>https://www.congress.gov/bill/110th-congress/h...</td>\n",
       "      <td></td>\n",
       "      <td>2</td>\n",
       "      <td>110-HR-10</td>\n",
       "      <td>10</td>\n",
       "    </tr>\n",
       "    <tr>\n",
       "      <th>2</th>\n",
       "      <td>110-HR-100</td>\n",
       "      <td>hr</td>\n",
       "      <td>0</td>\n",
       "      <td>110</td>\n",
       "      <td>10.0</td>\n",
       "      <td>2007-01-04 00:00:00</td>\n",
       "      <td>0</td>\n",
       "      <td>0</td>\n",
       "      <td>To amend the Higher Education Act of 1965 to p...</td>\n",
       "      <td>0</td>\n",
       "      <td>...</td>\n",
       "      <td>0</td>\n",
       "      <td>1</td>\n",
       "      <td>1</td>\n",
       "      <td>6.0</td>\n",
       "      <td>601.0</td>\n",
       "      <td>https://www.congress.gov/bill/110th-congress/h...</td>\n",
       "      <td>Veterans' Equity in Education Act of 2007 - Am...</td>\n",
       "      <td>3</td>\n",
       "      <td>110-HR-100</td>\n",
       "      <td>4</td>\n",
       "    </tr>\n",
       "    <tr>\n",
       "      <th>3</th>\n",
       "      <td>110-HR-1000</td>\n",
       "      <td>hr</td>\n",
       "      <td>0</td>\n",
       "      <td>110</td>\n",
       "      <td>286.0</td>\n",
       "      <td>2007-02-12 00:00:00</td>\n",
       "      <td>0</td>\n",
       "      <td>0</td>\n",
       "      <td>To award a congressional gold medal to Edward ...</td>\n",
       "      <td>0</td>\n",
       "      <td>...</td>\n",
       "      <td>0</td>\n",
       "      <td>0</td>\n",
       "      <td>1</td>\n",
       "      <td>20.0</td>\n",
       "      <td>2006.0</td>\n",
       "      <td>https://www.congress.gov/bill/110th-congress/h...</td>\n",
       "      <td>Edward William Brooke III Congressional Gold M...</td>\n",
       "      <td>4</td>\n",
       "      <td>110-HR-1000</td>\n",
       "      <td>10</td>\n",
       "    </tr>\n",
       "    <tr>\n",
       "      <th>4</th>\n",
       "      <td>110-HR-1001</td>\n",
       "      <td>hr</td>\n",
       "      <td>0</td>\n",
       "      <td>110</td>\n",
       "      <td>0.0</td>\n",
       "      <td>2007-02-12 00:00:00</td>\n",
       "      <td>0</td>\n",
       "      <td>0</td>\n",
       "      <td>To amend the Haitian Hemispheric Opportunity t...</td>\n",
       "      <td>0</td>\n",
       "      <td>...</td>\n",
       "      <td>0</td>\n",
       "      <td>1</td>\n",
       "      <td>1</td>\n",
       "      <td>19.0</td>\n",
       "      <td>1921.0</td>\n",
       "      <td>https://www.congress.gov/bill/110th-congress/h...</td>\n",
       "      <td>Amends the Caribbean Basin Economic Recovery A...</td>\n",
       "      <td>5</td>\n",
       "      <td>110-HR-1001</td>\n",
       "      <td>5</td>\n",
       "    </tr>\n",
       "  </tbody>\n",
       "</table>\n",
       "<p>5 rows × 32 columns</p>\n",
       "</div>"
      ],
      "text/plain": [
       "        BillID BillType  Chamber  Cong  Cosponsr             IntrDate  Mult  \\\n",
       "0     110-HR-1       hr        0   110     205.0  2007-01-05 00:00:00     1   \n",
       "1    110-HR-10       hr        0   110       0.0  2007-01-04 00:00:00     0   \n",
       "2   110-HR-100       hr        0   110      10.0  2007-01-04 00:00:00     0   \n",
       "3  110-HR-1000       hr        0   110     286.0  2007-02-12 00:00:00     0   \n",
       "4  110-HR-1001       hr        0   110       0.0  2007-02-12 00:00:00     0   \n",
       "\n",
       "   PLaw                                              Title  Veto  ...  \\\n",
       "0     1  To provide for the implementation of the recom...     0  ...   \n",
       "1     0                              Reserved for Speaker.     0  ...   \n",
       "2     0  To amend the Higher Education Act of 1965 to p...     0  ...   \n",
       "3     0  To award a congressional gold medal to Edward ...     0  ...   \n",
       "4     0  To amend the Haitian Hemispheric Opportunity t...     0  ...   \n",
       "\n",
       "                         PLawNum  ImpBill  Majority  Major   Minor  \\\n",
       "0  Became Public Law No: 110-53.        1         1   16.0  1615.0   \n",
       "1                              0        1         1   20.0  2002.0   \n",
       "2                              0        1         1    6.0   601.0   \n",
       "3                              0        0         1   20.0  2006.0   \n",
       "4                              0        1         1   19.0  1921.0   \n",
       "\n",
       "                                                 URL  \\\n",
       "0  https://www.congress.gov/bill/110th-congress/h...   \n",
       "1  https://www.congress.gov/bill/110th-congress/h...   \n",
       "2  https://www.congress.gov/bill/110th-congress/h...   \n",
       "3  https://www.congress.gov/bill/110th-congress/h...   \n",
       "4  https://www.congress.gov/bill/110th-congress/h...   \n",
       "\n",
       "                                             Summary  Index       BillID  \\\n",
       "0  Implementing Recommendations of the 9/11 Commi...      1     110-HR-1   \n",
       "1                                                         2    110-HR-10   \n",
       "2  Veterans' Equity in Education Act of 2007 - Am...      3   110-HR-100   \n",
       "3  Edward William Brooke III Congressional Gold M...      4  110-HR-1000   \n",
       "4  Amends the Caribbean Basin Economic Recovery A...      5  110-HR-1001   \n",
       "\n",
       "   dominant_topic  \n",
       "0               5  \n",
       "1              10  \n",
       "2               4  \n",
       "3              10  \n",
       "4               5  \n",
       "\n",
       "[5 rows x 32 columns]"
      ]
     },
     "execution_count": 79,
     "metadata": {},
     "output_type": "execute_result"
    }
   ],
   "source": [
    "#Query all titles and Passing\n",
    "\n",
    "df = bills_db.query(\"\"\"\n",
    "    SELECT\n",
    "        *\n",
    "    FROM con_bills.current_bills as cb\n",
    "    JOIN con_bills.topics as tp\n",
    "    ON cb.BillID = tp.BillID\n",
    "    WHERE cb.Cong >=110\n",
    "    \"\"\")\n",
    "df.head()"
   ]
  },
  {
   "cell_type": "code",
   "execution_count": 80,
   "metadata": {},
   "outputs": [
    {
     "name": "stdout",
     "output_type": "stream",
     "text": [
      "<class 'pandas.core.frame.DataFrame'>\n",
      "RangeIndex: 51067 entries, 0 to 51066\n",
      "Data columns (total 32 columns):\n",
      "BillID            51067 non-null object\n",
      "BillType          51067 non-null object\n",
      "Chamber           51067 non-null int64\n",
      "Cong              51067 non-null int64\n",
      "Cosponsr          51067 non-null float64\n",
      "IntrDate          51025 non-null object\n",
      "Mult              51067 non-null int64\n",
      "PLaw              51067 non-null int64\n",
      "Title             51067 non-null object\n",
      "Veto              51067 non-null int64\n",
      "Class             51067 non-null float64\n",
      "District          51067 non-null float64\n",
      "FrstConH          51067 non-null float64\n",
      "FrstConS          51067 non-null float64\n",
      "Gender            51067 non-null int64\n",
      "MRef              51067 non-null int64\n",
      "NameFull          51067 non-null object\n",
      "Party             51067 non-null float64\n",
      "Postal            51067 non-null object\n",
      "PassH             51067 non-null int64\n",
      "PassS             51067 non-null int64\n",
      "PLawDate          1393 non-null object\n",
      "PLawNum           51067 non-null object\n",
      "ImpBill           51067 non-null int64\n",
      "Majority          51067 non-null int64\n",
      "Major             51067 non-null float64\n",
      "Minor             51067 non-null float64\n",
      "URL               51067 non-null object\n",
      "Summary           51017 non-null object\n",
      "Index             51067 non-null int64\n",
      "BillID            51067 non-null object\n",
      "dominant_topic    51067 non-null int64\n",
      "dtypes: float64(8), int64(13), object(11)\n",
      "memory usage: 12.5+ MB\n"
     ]
    }
   ],
   "source": [
    "df.info()"
   ]
  },
  {
   "cell_type": "markdown",
   "metadata": {},
   "source": [
    "**Exploration by Party and Topics**"
   ]
  },
  {
   "cell_type": "code",
   "execution_count": 81,
   "metadata": {},
   "outputs": [],
   "source": [
    "#rename the 'Party' column using map function\n",
    "new_labels = {100.0: \"Dem\", 200.0: \"Rep\", 328.0: \"Third\"}\n",
    "\n",
    "df['Party'] = df['Party'].map(new_labels)  "
   ]
  },
  {
   "cell_type": "code",
   "execution_count": 82,
   "metadata": {},
   "outputs": [
    {
     "data": {
      "text/plain": [
       "0    Dem\n",
       "1    Dem\n",
       "2    Dem\n",
       "3    Dem\n",
       "4    Dem\n",
       "Name: Party, dtype: object"
      ]
     },
     "execution_count": 82,
     "metadata": {},
     "output_type": "execute_result"
    }
   ],
   "source": [
    "df['Party'].head()"
   ]
  },
  {
   "cell_type": "code",
   "execution_count": 83,
   "metadata": {},
   "outputs": [
    {
     "data": {
      "image/png": "[encoded data removed]",
      "text/plain": [
       "<Figure size 864x576 with 1 Axes>"
      ]
     },
     "metadata": {
      "needs_background": "light"
     },
     "output_type": "display_data"
    }
   ],
   "source": [
    "#Using countpoint to see total introductions for each bill topic type by party\n",
    "#Includes all congresses\n",
    "\n",
    "import seaborn as sns\n",
    "\n",
    "plt.figure(figsize=(12,8))\n",
    "sns.countplot(x='dominant_topic', hue='Party', data=df, palette='cubehelix')\n",
    "plt.xticks([0,1,2,3,4,5,6,7,8,9,10,11,12], ['Immigration', 'Energy', 'Veterans_Affairs', 'Entitlements', 'Defense', 'Appropriations', 'Taxes', 'Tariffs', 'Federal_Grants',  'Transportation', 'Education', 'US_Interior', 'Healthcare'], rotation = 45)\n",
    "plt.show()"
   ]
  },
  {
   "cell_type": "code",
   "execution_count": 84,
   "metadata": {},
   "outputs": [],
   "source": [
    "#rename the 'topic' column using map function\n",
    "\n",
    "new_topic_labels = {1: 'Immigration', 2: 'Energy', 3: 'Veterans_Affairs', 4: 'Entitlements', 5: 'Defense', 6:'Appropriations', 7:'Taxes', 8:'Tariffs', 9:'Federal_Grants',  10:'Transportation', 11:'Education', 12:'US_Interior', 13:'Healthcare'}\n",
    "\n",
    "\n",
    "df['dominant_topic'] = df['dominant_topic'].map(new_topic_labels) "
   ]
  },
  {
   "cell_type": "code",
   "execution_count": 85,
   "metadata": {},
   "outputs": [
    {
     "data": {
      "text/plain": [
       "0           Defense\n",
       "1    Transportation\n",
       "2      Entitlements\n",
       "3    Transportation\n",
       "4           Defense\n",
       "Name: dominant_topic, dtype: object"
      ]
     },
     "execution_count": 85,
     "metadata": {},
     "output_type": "execute_result"
    }
   ],
   "source": [
    "df['dominant_topic'].head()"
   ]
  },
  {
   "cell_type": "markdown",
   "metadata": {},
   "source": [
    "**Setting Up data type for Modeling**\n",
    "\n",
    "To run the model:\n",
    "- Data must be a pandas dataframe or numpy array\n",
    "- Data features CANNOT be categorical for KNN\n",
    "- There must be NO MISSING VALUES in the data"
   ]
  },
  {
   "cell_type": "code",
   "execution_count": 86,
   "metadata": {},
   "outputs": [
    {
     "data": {
      "text/plain": [
       "pandas.core.series.Series"
      ]
     },
     "execution_count": 86,
     "metadata": {},
     "output_type": "execute_result"
    }
   ],
   "source": [
    "type(df['dominant_topic'])\n"
   ]
  },
  {
   "cell_type": "code",
   "execution_count": 91,
   "metadata": {},
   "outputs": [],
   "source": [
    "#Data needs to be either in a numpy array or dataframe and cannot must be shaped\n",
    "#Select specific columns using double brackets\n",
    "\n",
    "data = df[['Cosponsr']]"
   ]
  },
  {
   "cell_type": "code",
   "execution_count": 92,
   "metadata": {},
   "outputs": [],
   "source": [
    "#convert to numpy array\n",
    "\n",
    "target = df['Party'].to_numpy(dtype=None)"
   ]
  },
  {
   "cell_type": "code",
   "execution_count": 98,
   "metadata": {},
   "outputs": [
    {
     "name": "stdout",
     "output_type": "stream",
     "text": [
      "(51067, 1)\n",
      "(51067,)\n"
     ]
    }
   ],
   "source": [
    "#The data itself must have at least one column of continuous data\n",
    "#The target should be a single row array\n",
    "#They should BOTH have exactly the same number of rows\n",
    "\n",
    "print(data.shape)\n",
    "print(target.shape)"
   ]
  },
  {
   "cell_type": "code",
   "execution_count": 120,
   "metadata": {},
   "outputs": [],
   "source": [
    "#If we wanted to use all the columns present, X and y could be set like this:\n",
    "\n",
    "y = df['Party'].values\n",
    "X = df.drop('Party', axis=1).values"
   ]
  },
  {
   "cell_type": "markdown",
   "metadata": {},
   "source": [
    "**Quick Party Predictor using KNN:**\n"
   ]
  },
  {
   "cell_type": "code",
   "execution_count": 99,
   "metadata": {},
   "outputs": [
    {
     "data": {
      "text/plain": [
       "KNeighborsClassifier(algorithm='auto', leaf_size=30, metric='minkowski',\n",
       "                     metric_params=None, n_jobs=None, n_neighbors=6, p=2,\n",
       "                     weights='uniform')"
      ]
     },
     "execution_count": 99,
     "metadata": {},
     "output_type": "execute_result"
    }
   ],
   "source": [
    "from sklearn.neighbors import KNeighborsClassifier\n",
    "\n",
    "#instantiate the classifier\n",
    "knn = KNeighborsClassifier(n_neighbors=6)\n",
    "\n",
    "#Pass it the data and the target as arguments\n",
    "knn.fit(data, target)\n"
   ]
  },
  {
   "cell_type": "markdown",
   "metadata": {},
   "source": [
    "**Making a Prediction using KNN:**"
   ]
  },
  {
   "cell_type": "code",
   "execution_count": 116,
   "metadata": {},
   "outputs": [
    {
     "data": {
      "text/plain": [
       "(30, 1)"
      ]
     },
     "execution_count": 116,
     "metadata": {},
     "output_type": "execute_result"
    }
   ],
   "source": [
    "#Here we will just take this random rample for the sake of this exercise\n",
    "\n",
    "sample_set = data.sample(30)\n",
    "\n",
    "sample_set.shape"
   ]
  },
  {
   "cell_type": "code",
   "execution_count": 115,
   "metadata": {},
   "outputs": [],
   "source": [
    "#The datatype needs to match that of the testing data passed into the model. Here a dataframe is passed in that matches the dimensions.\n",
    "\n",
    "prediction = knn.predict(sample_set)"
   ]
  },
  {
   "cell_type": "code",
   "execution_count": 118,
   "metadata": {},
   "outputs": [
    {
     "data": {
      "text/plain": [
       "(30,)"
      ]
     },
     "execution_count": 118,
     "metadata": {},
     "output_type": "execute_result"
    }
   ],
   "source": [
    "#The prediction shape should match the shape of the sample_set above\n",
    "#Each row is a 'prediction' of the party for each item in the sample\n",
    "\n",
    "prediction.shape"
   ]
  },
  {
   "cell_type": "code",
   "execution_count": 119,
   "metadata": {},
   "outputs": [
    {
     "name": "stdout",
     "output_type": "stream",
     "text": [
      "Predictions: ['Dem' 'Dem' 'Dem' 'Dem' 'Dem' 'Dem' 'Dem' 'Rep' 'Dem' 'Dem' 'Dem' 'Dem'\n",
      " 'Dem' 'Dem' 'Dem' 'Dem' 'Rep' 'Dem' 'Dem' 'Dem' 'Dem' 'Dem' 'Dem' 'Dem'\n",
      " 'Dem' 'Dem' 'Dem' 'Dem' 'Dem' 'Dem']\n"
     ]
    }
   ],
   "source": [
    "print(f'Predictions: {prediction}')"
   ]
  },
  {
   "cell_type": "code",
   "execution_count": null,
   "metadata": {},
   "outputs": [],
   "source": []
  }
 ],
 "metadata": {
  "kernelspec": {
   "display_name": "Python 3",
   "language": "python",
   "name": "python3"
  },
  "language_info": {
   "codemirror_mode": {
    "name": "ipython",
    "version": 3
   },
   "file_extension": ".py",
   "mimetype": "text/x-python",
   "name": "python",
   "nbconvert_exporter": "python",
   "pygments_lexer": "ipython3",
   "version": "3.7.3"
  }
 },
 "nbformat": 4,
 "nbformat_minor": 2
}
