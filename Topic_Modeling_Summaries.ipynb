{
 "cells": [
  {
   "cell_type": "markdown",
   "metadata": {},
   "source": [
    "# Natural Language Processing - Bill Text Exploration"
   ]
  },
  {
   "cell_type": "markdown",
   "metadata": {},
   "source": [
    "\n",
    "Transform the raw data into feature vectors and these new features will be created using the existing dataset. Structure as follows:\n",
    "\n",
    "Data Exploration\n",
    "- Word Cloud \n",
    "\n",
    "Vectorizers\n",
    "- Custom and Spacy Tokenizer\n",
    "- Count Vectors as features\n",
    "- TF-IDF Vectors as features\n",
    "\n",
    "- Word level\n",
    "- N-Gram level\n",
    "\n",
    "Character level\n",
    "- Word Embeddings as features\n",
    "- Text / NLP based features\n",
    "- Topic Models as features\n",
    "\n",
    "https://www.analyticsvidhya.com/blog/2018/04/a-comprehensive-guide-to-understand-and-implement-text-classification-in-python/"
   ]
  },
  {
   "cell_type": "code",
   "execution_count": 168,
   "metadata": {},
   "outputs": [],
   "source": [
    "import mysql.connector \n",
    "import numpy as np\n",
    "import pandas as pd\n",
    "import config_final\n",
    "import requests\n",
    "\n",
    "from sodapy import Socrata\n",
    "import sqlalchemy as db\n"
   ]
  },
  {
   "cell_type": "code",
   "execution_count": 169,
   "metadata": {},
   "outputs": [],
   "source": [
    "def query(q):\n",
    "    try:\n",
    "        return pd.read_sql_query(q, engine)\n",
    "    # Pass when no data is returned    \n",
    "    except ResourceClosedError:\n",
    "        pass\n",
    "\n",
    "def query_list(col, table, distinct = True):\n",
    "    elts = ['SELECT',\n",
    "            'DISTINCT' if distinct else '',\n",
    "            col,\n",
    "            'FROM',\n",
    "            table]\n",
    "    query_str = ' '.join(elts)\n",
    "    df = query(query_str)\n",
    "    l = df.iloc[:,0].tolist()\n",
    "    return l"
   ]
  },
  {
   "cell_type": "code",
   "execution_count": 170,
   "metadata": {},
   "outputs": [],
   "source": [
    "engine = db.create_engine(f'mysql+mysqlconnector://{config_final.user}:{config_final.password}@{config_final.host}/con_bills')\n",
    "\n",
    "connection = engine.connect()\n",
    "metadata=db.MetaData()"
   ]
  },
  {
   "cell_type": "code",
   "execution_count": 171,
   "metadata": {},
   "outputs": [],
   "source": [
    "df = query('SELECT BillID, Title, Summary, PassH, Cong FROM con_bills.current_bills')\n"
   ]
  },
  {
   "cell_type": "code",
   "execution_count": null,
   "metadata": {},
   "outputs": [],
   "source": [
    "df.tail()"
   ]
  },
  {
   "cell_type": "code",
   "execution_count": 173,
   "metadata": {},
   "outputs": [
    {
     "data": {
      "text/plain": [
       "21"
      ]
     },
     "execution_count": 173,
     "metadata": {},
     "output_type": "execute_result"
    }
   ],
   "source": [
    "df['Summary'].isnull().sum()"
   ]
  },
  {
   "cell_type": "code",
   "execution_count": 174,
   "metadata": {},
   "outputs": [
    {
     "data": {
      "text/plain": [
       "0    25165\n",
       "1     1913\n",
       "Name: PassH, dtype: int64"
      ]
     },
     "execution_count": 174,
     "metadata": {},
     "output_type": "execute_result"
    }
   ],
   "source": [
    "df['PassH'].value_counts()"
   ]
  },
  {
   "cell_type": "code",
   "execution_count": 175,
   "metadata": {},
   "outputs": [
    {
     "data": {
      "text/plain": [
       "0"
      ]
     },
     "execution_count": 175,
     "metadata": {},
     "output_type": "execute_result"
    }
   ],
   "source": [
    "blanks = []\n",
    "\n",
    "for i, billID, title, summary, PassH, Cong in df.itertuples():  # iterate over the DataFrame\n",
    "    if type(summary)==str:            # avoid NaN values\n",
    "        if summary.isspace():         # test 'plot' for whitespace\n",
    "            blanks.append(i)\n",
    "                  \n",
    "len(blanks)"
   ]
  },
  {
   "cell_type": "markdown",
   "metadata": {},
   "source": [
    "# Wordcloud Exploration"
   ]
  },
  {
   "cell_type": "markdown",
   "metadata": {},
   "source": [
    "Initial exploration of topics in dependent variable using wordcloud and stopword engineering.\n",
    "\n",
    "Pass House 0 = Bills did not pass House\n",
    "\n",
    "Pass House 1 = Bill passed House\n"
   ]
  },
  {
   "cell_type": "code",
   "execution_count": 176,
   "metadata": {},
   "outputs": [],
   "source": [
    "from wordcloud import WordCloud, STOPWORDS\n",
    "import matplotlib.pyplot as plt\n",
    "\n",
    "stopwords = set(STOPWORDS)\n",
    "stopwords.add(\"concurrent\")\n",
    "stopwords.add(\"resolution\")\n",
    "stopwords.add(\"recognizing\")\n",
    "stopwords.add(\"providing\")\n",
    "stopwords.add(\"provide\")\n",
    "stopwords.add(\"bill\")\n",
    "stopwords.add(\"congressional\")\n",
    "stopwords.add(\"authorizing\")\n",
    "stopwords.add(\"authorize\")\n",
    "stopwords.add(\"designating\")\n",
    "stopwords.add(\"designate\")\n",
    "stopwords.add(\"printi\")\n",
    "stopwords.add(\"printing\")\n",
    "stopwords.add(\"printed\")\n",
    "stopwords.add(\"Congress\")\n",
    "stopwords.add(\"Authorizes\")\n",
    "stopwords.add(\"Provides\")"
   ]
  },
  {
   "cell_type": "code",
   "execution_count": 177,
   "metadata": {},
   "outputs": [],
   "source": [
    "def show_wordcloud(data, title = None):\n",
    "    wordcloud = WordCloud(\n",
    "        background_color='white',\n",
    "        stopwords=stopwords, \n",
    "        max_words=50,\n",
    "        max_font_size=40, \n",
    "        scale=3,\n",
    "        random_state=1 \n",
    "    ).generate(str(data))\n",
    "\n",
    "    fig = plt.figure(1, figsize=(12, 12))\n",
    "    plt.axis('off')\n",
    "    if title: \n",
    "        fig.suptitle(title, fontsize=20)\n",
    "        fig.subplots_adjust(top=2.3)\n",
    "\n",
    "    plt.imshow(wordcloud)\n",
    "    plt.show()\n"
   ]
  },
  {
   "cell_type": "code",
   "execution_count": 178,
   "metadata": {},
   "outputs": [
    {
     "data": {
      "image/png": "[encoded data removed]",
      "text/plain": [
       "<Figure size 864x864 with 1 Axes>"
      ]
     },
     "metadata": {
      "needs_background": "light"
     },
     "output_type": "display_data"
    }
   ],
   "source": [
    "show_wordcloud(df[df['PassH']==0]['Summary'])"
   ]
  },
  {
   "cell_type": "code",
   "execution_count": 179,
   "metadata": {},
   "outputs": [
    {
     "data": {
      "image/png": "[encoded data removed]",
      "text/plain": [
       "<Figure size 864x864 with 1 Axes>"
      ]
     },
     "metadata": {
      "needs_background": "light"
     },
     "output_type": "display_data"
    }
   ],
   "source": [
    "show_wordcloud(df[df['PassH']==1]['Summary'])"
   ]
  },
  {
   "cell_type": "code",
   "execution_count": 180,
   "metadata": {},
   "outputs": [],
   "source": [
    "#Wordcloud on difference of frequencies"
   ]
  },
  {
   "cell_type": "markdown",
   "metadata": {},
   "source": [
    "# Topic Modeling"
   ]
  },
  {
   "cell_type": "markdown",
   "metadata": {},
   "source": [
    "**Split Training and Testing Data**"
   ]
  },
  {
   "cell_type": "code",
   "execution_count": 181,
   "metadata": {},
   "outputs": [],
   "source": [
    "from sklearn import preprocessing"
   ]
  },
  {
   "cell_type": "code",
   "execution_count": 243,
   "metadata": {},
   "outputs": [],
   "source": [
    "from sklearn.model_selection import train_test_split\n",
    "\n",
    "X = df['Title']\n",
    "y = df['PassH']\n",
    "\n",
    "X_train, X_test, y_train1, y_test1 = train_test_split(X, y, )"
   ]
  },
  {
   "cell_type": "code",
   "execution_count": 244,
   "metadata": {},
   "outputs": [
    {
     "data": {
      "text/plain": [
       "8769     To amend the Internal Revenue Code of 1986 to ...\n",
       "962      To establish the Honorable Stephanie Tubbs Jon...\n",
       "15954    A bill to encourage investments in airports th...\n",
       "8492     Making supplemental appropriations for the Nat...\n",
       "22411    To provide for a land exchange involving certa...\n",
       "18555    To require a review of university-based center...\n",
       "23382    To amend title 28, United States Code, to proh...\n",
       "19921    To amend the Internal Revenue Code of 1986 to ...\n",
       "12884    To promote and protect from discrimination liv...\n",
       "7008     A bill to amend the Internal Revenue Code of 1...\n",
       "15522    A bill to amend the Internal Revenue Code of 1...\n",
       "4712     A bill to require all public school employees ...\n",
       "4635     A bill to set the United States on track to en...\n",
       "25778    A bill to amend title 38, United States Code, ...\n",
       "5464     A bill to create jobs by providing payroll tax...\n",
       "5998     A bill to suspend temporarily the duty on spor...\n",
       "18294    To amend the Elementary and Secondary Educatio...\n",
       "11823    To amend title 10, United States Code, to prov...\n",
       "5140     A bill to restore the financial solvency of th...\n",
       "24997    A bill to reauthorize the Land and Water Conse...\n",
       "19778    To amend the Homeland Security Act of 2002 to ...\n",
       "3181     To suspend temporarily the duty on manganese f...\n",
       "16316    A bill to promote the mapping and development ...\n",
       "25884    An original bill making appropriations for the...\n",
       "24327    A bill to require the Secretary of the Treasur...\n",
       "21658    To amend title 49, United States Code, to prov...\n",
       "1258     To allow an occupancy preference for veterans ...\n",
       "17909    To provide for technological innovation throug...\n",
       "16323    A bill to amend title 18, United States Code, ...\n",
       "5939     A bill to amend the District of Columbia Home ...\n",
       "                               ...                        \n",
       "7159     A bill to improve compliance with mine and occ...\n",
       "20807    To amend title 37, United States Code, to incr...\n",
       "12605    To provide greater clarity in the regulation o...\n",
       "5100     A bill to improve consumer protections for pur...\n",
       "12745    To modify the treatment of unaccompanied alien...\n",
       "309      To amend the International Claims Settlement A...\n",
       "759      To amend title 39, United States Code, to allo...\n",
       "9096     To amend the Internal Revenue Code of 1986 to ...\n",
       "12635    To establish the Maritime Washington National ...\n",
       "9281     To amend the Help America Vote Act of 2002 to ...\n",
       "1056     To amend the Act of September 30, 1961, to lim...\n",
       "24635    A bill to establish the 21st Century Conservat...\n",
       "12746    To amend the William Wilberforce Trafficking V...\n",
       "6682     A bill to suspend temporarily the duty on mixt...\n",
       "26577    A bill to clarify that funding for the Public ...\n",
       "17805    To amend title 49, United States Code, with re...\n",
       "25612    A bill to require studies and reports examinin...\n",
       "1330     To eliminate racial profiling by law enforceme...\n",
       "18512    To amend the Professional Boxing Safety Act of...\n",
       "5391     A bill to authorize the restoration of the Kla...\n",
       "2086     To amend the Internal Revenue Code of 1986 to ...\n",
       "9341     To prohibit the use of any Federal funds to fi...\n",
       "12701    To amend the Internal Revenue Code of 1986 to ...\n",
       "8307     To amend title 44, United States Code, to requ...\n",
       "13960    To amend the Wild and Scenic Rivers Act relate...\n",
       "10971    To amend title X of the Public Health Service ...\n",
       "19654    To maximize discovery, and accelerate developm...\n",
       "19345    To amend the Homeland Security Act of 2002 to ...\n",
       "9626     To amend title XXVII of the Public Health Serv...\n",
       "22605    To amend title 38, United States Code, to auth...\n",
       "Name: Title, Length: 6770, dtype: object"
      ]
     },
     "execution_count": 244,
     "metadata": {},
     "output_type": "execute_result"
    }
   ],
   "source": [
    "X_test"
   ]
  },
  {
   "cell_type": "code",
   "execution_count": 245,
   "metadata": {},
   "outputs": [
    {
     "data": {
      "text/plain": [
       "0    0\n",
       "1    0\n",
       "2    0\n",
       "3    0\n",
       "4    0\n",
       "Name: PassH, dtype: int64"
      ]
     },
     "execution_count": 245,
     "metadata": {},
     "output_type": "execute_result"
    }
   ],
   "source": [
    "df['PassH'].head()"
   ]
  },
  {
   "cell_type": "markdown",
   "metadata": {},
   "source": [
    "Encode our target column so that it can be used in machine learning models (may not be necessary since the data is already binary)"
   ]
  },
  {
   "cell_type": "code",
   "execution_count": 246,
   "metadata": {},
   "outputs": [],
   "source": [
    "encoder = preprocessing.LabelEncoder()\n",
    "\n",
    "y_train = encoder.fit_transform(y_train1)\n",
    "y_test = encoder.fit_transform(y_test1)"
   ]
  },
  {
   "cell_type": "code",
   "execution_count": 247,
   "metadata": {},
   "outputs": [
    {
     "data": {
      "text/plain": [
       "array([0, 0, 0, ..., 0, 0, 0])"
      ]
     },
     "execution_count": 247,
     "metadata": {},
     "output_type": "execute_result"
    }
   ],
   "source": [
    "y_train"
   ]
  },
  {
   "cell_type": "markdown",
   "metadata": {},
   "source": [
    "## Feature Engineering\n"
   ]
  },
  {
   "cell_type": "markdown",
   "metadata": {},
   "source": [
    "**Cleaning Text**\n",
    "\n",
    "Test both the spacy tokenizer and personalized tokenizer against the data."
   ]
  },
  {
   "cell_type": "code",
   "execution_count": 248,
   "metadata": {},
   "outputs": [],
   "source": [
    "import spacy\n",
    "from spacy.lang.en import English\n",
    "# For part of speech tagging\n",
    "import en_core_web_sm\n",
    "\n",
    "nlp = English()\n",
    "spacy_stopwords = spacy.lang.en.stop_words.STOP_WORDS"
   ]
  },
  {
   "cell_type": "code",
   "execution_count": 249,
   "metadata": {},
   "outputs": [],
   "source": [
    "#Editing the stopwords list\n",
    "# spacy_stopwords.add('concurrent', 'resolution')"
   ]
  },
  {
   "cell_type": "code",
   "execution_count": 250,
   "metadata": {
    "collapsed": true
   },
   "outputs": [
    {
     "ename": "NameError",
     "evalue": "name 'lem' is not defined",
     "output_type": "error",
     "traceback": [
      "\u001b[0;31m---------------------------------------------------------------------------\u001b[0m",
      "\u001b[0;31mNameError\u001b[0m                                 Traceback (most recent call last)",
      "\u001b[0;32m<ipython-input-250-c714168312ff>\u001b[0m in \u001b[0;36m<module>\u001b[0;34m\u001b[0m\n\u001b[1;32m      1\u001b[0m \u001b[0;31m#Lemmitization\u001b[0m\u001b[0;34m\u001b[0m\u001b[0;34m\u001b[0m\u001b[0;34m\u001b[0m\u001b[0m\n\u001b[0;32m----> 2\u001b[0;31m \u001b[0;32mfor\u001b[0m \u001b[0mword\u001b[0m \u001b[0;32min\u001b[0m \u001b[0mlem\u001b[0m\u001b[0;34m:\u001b[0m\u001b[0;34m\u001b[0m\u001b[0;34m\u001b[0m\u001b[0m\n\u001b[0m\u001b[1;32m      3\u001b[0m     \u001b[0mprint\u001b[0m\u001b[0;34m(\u001b[0m\u001b[0mword\u001b[0m\u001b[0;34m.\u001b[0m\u001b[0mtext\u001b[0m\u001b[0;34m,\u001b[0m \u001b[0mword\u001b[0m\u001b[0;34m.\u001b[0m\u001b[0mlemma_\u001b[0m\u001b[0;34m)\u001b[0m\u001b[0;34m\u001b[0m\u001b[0;34m\u001b[0m\u001b[0m\n",
      "\u001b[0;31mNameError\u001b[0m: name 'lem' is not defined"
     ]
    }
   ],
   "source": [
    "#Lemmitization\n",
    "for word in lem:\n",
    "    print(word.text, word.lemma_)"
   ]
  },
  {
   "cell_type": "code",
   "execution_count": 251,
   "metadata": {},
   "outputs": [],
   "source": [
    "#Part of speech tagging\n",
    "nlp_pos = en_core_web_sm.load()\n"
   ]
  },
  {
   "cell_type": "code",
   "execution_count": 252,
   "metadata": {},
   "outputs": [],
   "source": [
    "#Define the spacy tokenizer\n",
    "spacy_tokenizer = spacy.load('en_core_web_sm', disable =['tagger', 'parser', 'ner'])"
   ]
  },
  {
   "cell_type": "code",
   "execution_count": 253,
   "metadata": {},
   "outputs": [],
   "source": [
    "import string\n",
    "import re\n",
    "\n",
    "replace_with_space = re.compile('[/(){}\\[\\]\\|@,;]')\n",
    "\n",
    "just_words = re.compile('[^a-zA-Z\\s]')\n"
   ]
  },
  {
   "cell_type": "code",
   "execution_count": 254,
   "metadata": {},
   "outputs": [],
   "source": [
    "from spacy.lemmatizer import Lemmatizer\n",
    "from spacy.lookups import Lookups\n",
    "lemmatizer = Lemmatizer(lookups)"
   ]
  },
  {
   "cell_type": "code",
   "execution_count": 255,
   "metadata": {},
   "outputs": [],
   "source": [
    "# stopwords = set(STOPWORDS)"
   ]
  },
  {
   "cell_type": "code",
   "execution_count": 256,
   "metadata": {},
   "outputs": [],
   "source": [
    "# Create our list of punctuation marks\n",
    "punctuations = string.punctuation\n",
    "\n",
    "# Create our list of stopwords\n",
    "nlp = spacy.load('en_core_web_sm')\n",
    "stop_words = spacy.lang.en.stop_words.STOP_WORDS\n",
    "\n",
    "def tokenizer(text):\n",
    "    \n",
    "    #lowercase everything\n",
    "    lower_text = text.lower()\n",
    "    \n",
    "    #remove punctuation\n",
    "#     no_pun_text = lower_text.translate(str.maketrans('', '', string.punctuation))\n",
    "    \n",
    "    #get rid of weird characters\n",
    "    text = replace_with_space.sub('',lower_text)\n",
    "    \n",
    "    #remove numbers\n",
    "    just_words_text = just_words.sub('', text)\n",
    "    \n",
    "    #add spacy tokenizer\n",
    "    mytokens = nlp(just_words_text, disable=['parser', 'ner'])\n",
    "#     print(mytokens)\n",
    "    \n",
    "    #for POS tagging\n",
    "#     mytokens = [word for word in mytokens if (word.pos_ == 'NOUN') or (word.pos_ == 'VERB') or (word.pos_ == 'ADJ') or (word.pos_ == 'ADV')]\n",
    "    \n",
    "    #lemmatize\n",
    "    mytokens = [word.lemma_.lower().strip() if word.lemma_ != \"-PRON-\" else word.lower_ for word in mytokens ]\n",
    "\n",
    "    #add stopwords\n",
    "    mytokens = [word for word in mytokens if word not in spacy_stopwords and word not in punctuations]\n",
    "    \n",
    "    return mytokens\n",
    "    "
   ]
  },
  {
   "cell_type": "code",
   "execution_count": 257,
   "metadata": {},
   "outputs": [
    {
     "data": {
      "text/plain": [
       "'Online Pharmacy Safety Act - Amends the the Federal Food, Drug, and Cosmetic Act to permit the dispensing of drugs only pursuant to a \"valid prescription\" and requires such a prescription to include at least one in-person medical evaluation of the patient by a licensed health care practitioner.'"
      ]
     },
     "execution_count": 257,
     "metadata": {},
     "output_type": "execute_result"
    }
   ],
   "source": [
    "test_fun = df.iloc[5559][2]\n",
    "test_fun"
   ]
  },
  {
   "cell_type": "code",
   "execution_count": 258,
   "metadata": {},
   "outputs": [
    {
     "data": {
      "text/plain": [
       "['online',\n",
       " 'pharmacy',\n",
       " 'safety',\n",
       " 'act',\n",
       " 'amend',\n",
       " 'federal',\n",
       " 'food',\n",
       " 'drug',\n",
       " 'cosmetic',\n",
       " 'act',\n",
       " 'permit',\n",
       " 'dispensing',\n",
       " 'drug',\n",
       " 'pursuant',\n",
       " 'valid',\n",
       " 'prescription',\n",
       " 'require',\n",
       " 'prescription',\n",
       " 'include',\n",
       " 'inperson',\n",
       " 'medical',\n",
       " 'evaluation',\n",
       " 'patient',\n",
       " 'licensed',\n",
       " 'health',\n",
       " 'care',\n",
       " 'practitioner']"
      ]
     },
     "execution_count": 258,
     "metadata": {},
     "output_type": "execute_result"
    }
   ],
   "source": [
    "tokenizer(test_fun)\n"
   ]
  },
  {
   "cell_type": "markdown",
   "metadata": {},
   "source": [
    "**Saving to DF**"
   ]
  },
  {
   "cell_type": "code",
   "execution_count": 259,
   "metadata": {},
   "outputs": [],
   "source": [
    "# df['clean_summaries'] = df.apply(lambda row: clean(row['Summary']), axis=1)"
   ]
  },
  {
   "cell_type": "code",
   "execution_count": 260,
   "metadata": {
    "collapsed": true
   },
   "outputs": [
    {
     "ename": "AttributeError",
     "evalue": "(\"'NoneType' object has no attribute 'lower'\", 'occurred at index 0')",
     "output_type": "error",
     "traceback": [
      "\u001b[0;31m---------------------------------------------------------------------------\u001b[0m",
      "\u001b[0;31mAttributeError\u001b[0m                            Traceback (most recent call last)",
      "\u001b[0;32m<ipython-input-260-60b80a17edd8>\u001b[0m in \u001b[0;36m<module>\u001b[0;34m\u001b[0m\n\u001b[0;32m----> 1\u001b[0;31m \u001b[0mdf\u001b[0m\u001b[0;34m[\u001b[0m\u001b[0;34m'tokenized_summaries'\u001b[0m\u001b[0;34m]\u001b[0m \u001b[0;34m=\u001b[0m \u001b[0mdf\u001b[0m\u001b[0;34m.\u001b[0m\u001b[0mapply\u001b[0m\u001b[0;34m(\u001b[0m\u001b[0;32mlambda\u001b[0m \u001b[0mrow\u001b[0m\u001b[0;34m:\u001b[0m \u001b[0mtokenizer\u001b[0m\u001b[0;34m(\u001b[0m\u001b[0mrow\u001b[0m\u001b[0;34m[\u001b[0m\u001b[0;34m'Summary'\u001b[0m\u001b[0;34m]\u001b[0m\u001b[0;34m)\u001b[0m\u001b[0;34m,\u001b[0m \u001b[0maxis\u001b[0m\u001b[0;34m=\u001b[0m\u001b[0;36m1\u001b[0m\u001b[0;34m)\u001b[0m\u001b[0;34m\u001b[0m\u001b[0;34m\u001b[0m\u001b[0m\n\u001b[0m",
      "\u001b[0;32m~/anaconda3/lib/python3.7/site-packages/pandas/core/frame.py\u001b[0m in \u001b[0;36mapply\u001b[0;34m(self, func, axis, broadcast, raw, reduce, result_type, args, **kwds)\u001b[0m\n\u001b[1;32m   6485\u001b[0m                          \u001b[0margs\u001b[0m\u001b[0;34m=\u001b[0m\u001b[0margs\u001b[0m\u001b[0;34m,\u001b[0m\u001b[0;34m\u001b[0m\u001b[0;34m\u001b[0m\u001b[0m\n\u001b[1;32m   6486\u001b[0m                          kwds=kwds)\n\u001b[0;32m-> 6487\u001b[0;31m         \u001b[0;32mreturn\u001b[0m \u001b[0mop\u001b[0m\u001b[0;34m.\u001b[0m\u001b[0mget_result\u001b[0m\u001b[0;34m(\u001b[0m\u001b[0;34m)\u001b[0m\u001b[0;34m\u001b[0m\u001b[0;34m\u001b[0m\u001b[0m\n\u001b[0m\u001b[1;32m   6488\u001b[0m \u001b[0;34m\u001b[0m\u001b[0m\n\u001b[1;32m   6489\u001b[0m     \u001b[0;32mdef\u001b[0m \u001b[0mapplymap\u001b[0m\u001b[0;34m(\u001b[0m\u001b[0mself\u001b[0m\u001b[0;34m,\u001b[0m \u001b[0mfunc\u001b[0m\u001b[0;34m)\u001b[0m\u001b[0;34m:\u001b[0m\u001b[0;34m\u001b[0m\u001b[0;34m\u001b[0m\u001b[0m\n",
      "\u001b[0;32m~/anaconda3/lib/python3.7/site-packages/pandas/core/apply.py\u001b[0m in \u001b[0;36mget_result\u001b[0;34m(self)\u001b[0m\n\u001b[1;32m    149\u001b[0m             \u001b[0;32mreturn\u001b[0m \u001b[0mself\u001b[0m\u001b[0;34m.\u001b[0m\u001b[0mapply_raw\u001b[0m\u001b[0;34m(\u001b[0m\u001b[0;34m)\u001b[0m\u001b[0;34m\u001b[0m\u001b[0;34m\u001b[0m\u001b[0m\n\u001b[1;32m    150\u001b[0m \u001b[0;34m\u001b[0m\u001b[0m\n\u001b[0;32m--> 151\u001b[0;31m         \u001b[0;32mreturn\u001b[0m \u001b[0mself\u001b[0m\u001b[0;34m.\u001b[0m\u001b[0mapply_standard\u001b[0m\u001b[0;34m(\u001b[0m\u001b[0;34m)\u001b[0m\u001b[0;34m\u001b[0m\u001b[0;34m\u001b[0m\u001b[0m\n\u001b[0m\u001b[1;32m    152\u001b[0m \u001b[0;34m\u001b[0m\u001b[0m\n\u001b[1;32m    153\u001b[0m     \u001b[0;32mdef\u001b[0m \u001b[0mapply_empty_result\u001b[0m\u001b[0;34m(\u001b[0m\u001b[0mself\u001b[0m\u001b[0;34m)\u001b[0m\u001b[0;34m:\u001b[0m\u001b[0;34m\u001b[0m\u001b[0;34m\u001b[0m\u001b[0m\n",
      "\u001b[0;32m~/anaconda3/lib/python3.7/site-packages/pandas/core/apply.py\u001b[0m in \u001b[0;36mapply_standard\u001b[0;34m(self)\u001b[0m\n\u001b[1;32m    255\u001b[0m \u001b[0;34m\u001b[0m\u001b[0m\n\u001b[1;32m    256\u001b[0m         \u001b[0;31m# compute the result using the series generator\u001b[0m\u001b[0;34m\u001b[0m\u001b[0;34m\u001b[0m\u001b[0;34m\u001b[0m\u001b[0m\n\u001b[0;32m--> 257\u001b[0;31m         \u001b[0mself\u001b[0m\u001b[0;34m.\u001b[0m\u001b[0mapply_series_generator\u001b[0m\u001b[0;34m(\u001b[0m\u001b[0;34m)\u001b[0m\u001b[0;34m\u001b[0m\u001b[0;34m\u001b[0m\u001b[0m\n\u001b[0m\u001b[1;32m    258\u001b[0m \u001b[0;34m\u001b[0m\u001b[0m\n\u001b[1;32m    259\u001b[0m         \u001b[0;31m# wrap results\u001b[0m\u001b[0;34m\u001b[0m\u001b[0;34m\u001b[0m\u001b[0;34m\u001b[0m\u001b[0m\n",
      "\u001b[0;32m~/anaconda3/lib/python3.7/site-packages/pandas/core/apply.py\u001b[0m in \u001b[0;36mapply_series_generator\u001b[0;34m(self)\u001b[0m\n\u001b[1;32m    284\u001b[0m             \u001b[0;32mtry\u001b[0m\u001b[0;34m:\u001b[0m\u001b[0;34m\u001b[0m\u001b[0;34m\u001b[0m\u001b[0m\n\u001b[1;32m    285\u001b[0m                 \u001b[0;32mfor\u001b[0m \u001b[0mi\u001b[0m\u001b[0;34m,\u001b[0m \u001b[0mv\u001b[0m \u001b[0;32min\u001b[0m \u001b[0menumerate\u001b[0m\u001b[0;34m(\u001b[0m\u001b[0mseries_gen\u001b[0m\u001b[0;34m)\u001b[0m\u001b[0;34m:\u001b[0m\u001b[0;34m\u001b[0m\u001b[0;34m\u001b[0m\u001b[0m\n\u001b[0;32m--> 286\u001b[0;31m                     \u001b[0mresults\u001b[0m\u001b[0;34m[\u001b[0m\u001b[0mi\u001b[0m\u001b[0;34m]\u001b[0m \u001b[0;34m=\u001b[0m \u001b[0mself\u001b[0m\u001b[0;34m.\u001b[0m\u001b[0mf\u001b[0m\u001b[0;34m(\u001b[0m\u001b[0mv\u001b[0m\u001b[0;34m)\u001b[0m\u001b[0;34m\u001b[0m\u001b[0;34m\u001b[0m\u001b[0m\n\u001b[0m\u001b[1;32m    287\u001b[0m                     \u001b[0mkeys\u001b[0m\u001b[0;34m.\u001b[0m\u001b[0mappend\u001b[0m\u001b[0;34m(\u001b[0m\u001b[0mv\u001b[0m\u001b[0;34m.\u001b[0m\u001b[0mname\u001b[0m\u001b[0;34m)\u001b[0m\u001b[0;34m\u001b[0m\u001b[0;34m\u001b[0m\u001b[0m\n\u001b[1;32m    288\u001b[0m             \u001b[0;32mexcept\u001b[0m \u001b[0mException\u001b[0m \u001b[0;32mas\u001b[0m \u001b[0me\u001b[0m\u001b[0;34m:\u001b[0m\u001b[0;34m\u001b[0m\u001b[0;34m\u001b[0m\u001b[0m\n",
      "\u001b[0;32m<ipython-input-260-60b80a17edd8>\u001b[0m in \u001b[0;36m<lambda>\u001b[0;34m(row)\u001b[0m\n\u001b[0;32m----> 1\u001b[0;31m \u001b[0mdf\u001b[0m\u001b[0;34m[\u001b[0m\u001b[0;34m'tokenized_summaries'\u001b[0m\u001b[0;34m]\u001b[0m \u001b[0;34m=\u001b[0m \u001b[0mdf\u001b[0m\u001b[0;34m.\u001b[0m\u001b[0mapply\u001b[0m\u001b[0;34m(\u001b[0m\u001b[0;32mlambda\u001b[0m \u001b[0mrow\u001b[0m\u001b[0;34m:\u001b[0m \u001b[0mtokenizer\u001b[0m\u001b[0;34m(\u001b[0m\u001b[0mrow\u001b[0m\u001b[0;34m[\u001b[0m\u001b[0;34m'Summary'\u001b[0m\u001b[0;34m]\u001b[0m\u001b[0;34m)\u001b[0m\u001b[0;34m,\u001b[0m \u001b[0maxis\u001b[0m\u001b[0;34m=\u001b[0m\u001b[0;36m1\u001b[0m\u001b[0;34m)\u001b[0m\u001b[0;34m\u001b[0m\u001b[0;34m\u001b[0m\u001b[0m\n\u001b[0m",
      "\u001b[0;32m<ipython-input-256-41107196cc0f>\u001b[0m in \u001b[0;36mtokenizer\u001b[0;34m(text)\u001b[0m\n\u001b[1;32m      9\u001b[0m \u001b[0;34m\u001b[0m\u001b[0m\n\u001b[1;32m     10\u001b[0m     \u001b[0;31m#lowercase everything\u001b[0m\u001b[0;34m\u001b[0m\u001b[0;34m\u001b[0m\u001b[0;34m\u001b[0m\u001b[0m\n\u001b[0;32m---> 11\u001b[0;31m     \u001b[0mlower_text\u001b[0m \u001b[0;34m=\u001b[0m \u001b[0mtext\u001b[0m\u001b[0;34m.\u001b[0m\u001b[0mlower\u001b[0m\u001b[0;34m(\u001b[0m\u001b[0;34m)\u001b[0m\u001b[0;34m\u001b[0m\u001b[0;34m\u001b[0m\u001b[0m\n\u001b[0m\u001b[1;32m     12\u001b[0m \u001b[0;34m\u001b[0m\u001b[0m\n\u001b[1;32m     13\u001b[0m     \u001b[0;31m#remove punctuation\u001b[0m\u001b[0;34m\u001b[0m\u001b[0;34m\u001b[0m\u001b[0;34m\u001b[0m\u001b[0m\n",
      "\u001b[0;31mAttributeError\u001b[0m: (\"'NoneType' object has no attribute 'lower'\", 'occurred at index 0')"
     ]
    }
   ],
   "source": [
    "df['tokenized_summaries'] = df.apply(lambda row: tokenizer(row['Summary']), axis=1)\n"
   ]
  },
  {
   "cell_type": "code",
   "execution_count": 261,
   "metadata": {},
   "outputs": [
    {
     "data": {
      "text/html": [
       "<div>\n",
       "<style scoped>\n",
       "    .dataframe tbody tr th:only-of-type {\n",
       "        vertical-align: middle;\n",
       "    }\n",
       "\n",
       "    .dataframe tbody tr th {\n",
       "        vertical-align: top;\n",
       "    }\n",
       "\n",
       "    .dataframe thead th {\n",
       "        text-align: right;\n",
       "    }\n",
       "</style>\n",
       "<table border=\"1\" class=\"dataframe\">\n",
       "  <thead>\n",
       "    <tr style=\"text-align: right;\">\n",
       "      <th></th>\n",
       "      <th>BillID</th>\n",
       "      <th>Title</th>\n",
       "      <th>Summary</th>\n",
       "      <th>PassH</th>\n",
       "      <th>Cong</th>\n",
       "    </tr>\n",
       "  </thead>\n",
       "  <tbody>\n",
       "    <tr>\n",
       "      <th>0</th>\n",
       "      <td>112-HR-1007</td>\n",
       "      <td>To amend the Homeland Security Act of 2002 to ...</td>\n",
       "      <td>None</td>\n",
       "      <td>0</td>\n",
       "      <td>112</td>\n",
       "    </tr>\n",
       "    <tr>\n",
       "      <th>1</th>\n",
       "      <td>112-HR-1105</td>\n",
       "      <td>To ensure that Transportation Worker Identific...</td>\n",
       "      <td>None</td>\n",
       "      <td>0</td>\n",
       "      <td>112</td>\n",
       "    </tr>\n",
       "    <tr>\n",
       "      <th>2</th>\n",
       "      <td>112-HR-1143</td>\n",
       "      <td>To amend title 46, United States Code, to requ...</td>\n",
       "      <td>None</td>\n",
       "      <td>0</td>\n",
       "      <td>112</td>\n",
       "    </tr>\n",
       "    <tr>\n",
       "      <th>3</th>\n",
       "      <td>112-HR-1165</td>\n",
       "      <td>To amend title 49, United States Code, to esta...</td>\n",
       "      <td>None</td>\n",
       "      <td>0</td>\n",
       "      <td>112</td>\n",
       "    </tr>\n",
       "    <tr>\n",
       "      <th>4</th>\n",
       "      <td>112-HR-1279</td>\n",
       "      <td>To amend title 49, United States Code, to esta...</td>\n",
       "      <td>None</td>\n",
       "      <td>0</td>\n",
       "      <td>112</td>\n",
       "    </tr>\n",
       "  </tbody>\n",
       "</table>\n",
       "</div>"
      ],
      "text/plain": [
       "        BillID                                              Title Summary  \\\n",
       "0  112-HR-1007  To amend the Homeland Security Act of 2002 to ...    None   \n",
       "1  112-HR-1105  To ensure that Transportation Worker Identific...    None   \n",
       "2  112-HR-1143  To amend title 46, United States Code, to requ...    None   \n",
       "3  112-HR-1165  To amend title 49, United States Code, to esta...    None   \n",
       "4  112-HR-1279  To amend title 49, United States Code, to esta...    None   \n",
       "\n",
       "   PassH  Cong  \n",
       "0      0   112  \n",
       "1      0   112  \n",
       "2      0   112  \n",
       "3      0   112  \n",
       "4      0   112  "
      ]
     },
     "execution_count": 261,
     "metadata": {},
     "output_type": "execute_result"
    }
   ],
   "source": [
    "df.head()"
   ]
  },
  {
   "cell_type": "markdown",
   "metadata": {},
   "source": [
    "**CountVectorizer**\n",
    "\n",
    "Every row represents a document in the corpus, every column represents a term in the document, every cell represents the frequency count of a particular term in a particular document.\n",
    "\n",
    "Tuning: analyzer, vectorizer, max_features, max_df, min_df, n_grams"
   ]
  },
  {
   "cell_type": "code",
   "execution_count": 262,
   "metadata": {},
   "outputs": [],
   "source": [
    "#decide if i want to use these\n",
    "\n",
    "# params = {'vect__max_df': (0.5, 0.75, 1.0),\n",
    "#         'vect__max_features': (None, 5000, 10000, 50000),\n",
    "#         'vect__ngram_range': ((1, 1), (1, 2))\n",
    "#          }"
   ]
  },
  {
   "cell_type": "code",
   "execution_count": 263,
   "metadata": {},
   "outputs": [
    {
     "name": "stdout",
     "output_type": "stream",
     "text": [
      "11114\n"
     ]
    }
   ],
   "source": [
    "from sklearn.feature_extraction.text import CountVectorizer\n",
    "\n",
    "vectorizer = CountVectorizer(tokenizer = tokenizer)\n",
    "transformed = vectorizer.fit_transform(X_train, y_train)\n",
    "print(len(vectorizer.get_feature_names()))"
   ]
  },
  {
   "cell_type": "code",
   "execution_count": 264,
   "metadata": {},
   "outputs": [
    {
     "data": {
      "text/plain": [
       "5171     A bill to make minor modifications to the proc...\n",
       "16821    A bill to exempt the Federal Aviation Administ...\n",
       "19777    To amend title 5, United States Code, to limit...\n",
       "10164    To encourage States to prohibit \"\"\"\"\"\"\"\"\"\"\"\"\"\"...\n",
       "10005       To improve hydropower, and for other purposes.\n",
       "Name: Title, dtype: object"
      ]
     },
     "execution_count": 264,
     "metadata": {},
     "output_type": "execute_result"
    }
   ],
   "source": [
    "X_train.head()"
   ]
  },
  {
   "cell_type": "code",
   "execution_count": 265,
   "metadata": {},
   "outputs": [
    {
     "data": {
      "text/plain": [
       "array([0, 0, 0, ..., 0, 0, 0])"
      ]
     },
     "execution_count": 265,
     "metadata": {},
     "output_type": "execute_result"
    }
   ],
   "source": [
    "y_train"
   ]
  },
  {
   "cell_type": "code",
   "execution_count": 266,
   "metadata": {},
   "outputs": [],
   "source": [
    "# fit and transform training data\n",
    "\n",
    "# dtm_train_cv = cv.fit_transform(X_train)\n",
    "# dtm_test_cv = cv.transform(X_test)"
   ]
  },
  {
   "cell_type": "markdown",
   "metadata": {},
   "source": [
    "**Exploring Stored Words**"
   ]
  },
  {
   "cell_type": "code",
   "execution_count": 267,
   "metadata": {},
   "outputs": [
    {
     "name": "stdout",
     "output_type": "stream",
     "text": [
      "['aa', 'aaron', 'aatetrahydroisobenzofurandione', 'ab', 'abandon', 'abandonment', 'abate', 'abatement', 'abbott', 'abdoul', 'abduct', 'abducted', 'abduction', 'abe', 'abet', 'abide', 'abie', 'ability', 'abisphenol', 'abjuration', 'able', 'ablebodie', 'ablebodied', 'abner', 'aboard', 'abolish', 'abolishment', 'abolition', 'aboriginal', 'abortion', 'abortionrelated', 'abovetheline', 'abraham', 'abridge', 'abroad', 'abrogate', 'abrogation', 'absence', 'absent', 'absentee', 'abstinence', 'abstinenceonly', 'abundant', 'abuse', 'abused', 'abusedeterrent', 'abuser', 'abusive', 'abut', 'ac', 'aca', 'academia', 'academic', 'academically', 'academy', 'acadia', 'acaexpansion', 'accelerate', 'accelerated', 'acceleration', 'accelerator', 'accept', 'acceptable', 'acceptance', 'acceptor', 'access', 'accessibility', 'accessible', 'accession', 'accessory', 'accident', 'accidental', 'accidentally', 'accomack', 'accommodate', 'accommodation', 'accompany', 'accomplish', 'accomplishment', 'accord', 'accordance', 'accordingly', 'account', 'accountability', 'accountable', 'accounting', 'accredit', 'accreditation', 'accredited', 'accrual', 'accrue', 'accumulate', 'accuracy', 'accurate', 'accurately', 'ace', 'acetamide', 'acetamiprid', 'acetate', 'acetatealkeneoic', 'acetatevinyl', 'acetato', 'acetic', 'acetoacetyldimethoxychloroanilide', 'acetoxycyanopropylmethylphosphinic', 'acetyl', 'acetylamino', 'acetylbutyrolactone', 'acetyldodecyl', 'acetylnicotinic', 'acetyltoluene', 'achievable', 'achieve', 'achievement', 'acid', 'acidblocke', 'acidification', 'aciditaconic', 'acids', 'acifluorfen', 'acknowledge', 'acknowledgement', 'acknowledgment', 'aco', 'acoustical', 'acquire', 'acquisition', 'acre', 'acreage', 'acrosstheboard', 'acrylate', 'acrylic', 'acrylonitrile', 'act', 'action', 'activate', 'activation', 'active', 'activeduty', 'actively', 'activiti', 'activity', 'actor', 'actual', 'actuarial', 'actuary', 'actuate', 'actuator', 'acupuncturist', 'acute', 'ad', 'adam', 'adams', 'adapt', 'adaptability', 'adaptation', 'adapter', 'adaptive', 'add', 'addiction', 'addie', 'addition', 'additional', 'additive', 'addon', 'address', 'adduct', 'adequacy', 'adequate', 'adequately', 'adhere', 'adherence', 'adhesive', 'adilene', 'adjacent', 'adjournment', 'adjudicate', 'adjudicated', 'adjudication', 'adjunct', 'adjust', 'adjustable', 'adjuster', 'adjusting', 'adjustment', 'adjuvant', 'administer', 'administration', 'administrationapproved', 'administrative', 'administratively', 'administrator', 'administratrix', 'admiral', 'admiralty', 'admissibility', 'admissible', 'admission', 'admit', 'admonishment', 'adolescent', 'adolfo', 'adopt', 'adoption', 'adoptive', 'adrenoleukodystrophy', 'adsorbent', 'adsorpent', 'adult', 'adulterate', 'adulthood', 'adultrate', 'advance', 'advanceable', 'advanced', 'advancement', 'advantage', 'adverse', 'adversely', 'adversity', 'advertise', 'advertisement', 'advertising', 'advice', 'advisability', 'advise', 'adviser', 'advisor', 'advisory', 'advocacy', 'advocate', 'ae', 'aegis', 'aeiii', 'aerial', 'aerialview', 'aeronautical', 'aeronautics', 'aerotropolis', 'affair', 'affairs', 'affairsdepartment', 'affect', 'affected', 'affidavit', 'affiliate', 'affiliated', 'affiliation', 'affirm', 'affirmative', 'affirmatively', 'afford', 'affordability', 'affordable', 'affordably', 'affords', 'afghan', 'afghanistan', 'africa', 'african', 'africanamerican', 'africanamericans', 'africom', 'afridi', 'afterschool', 'age', 'ageappropriate', 'agency', 'agencyadministere', 'agencyeducation', 'agencys', 'agent', 'aggravate', 'aggravated', 'aggregate', 'aggregation', 'aggression', 'aggressively', 'aggressor', 'agilon', 'aging', 'ago', 'agree', 'agreement', 'agricultural', 'agriculturalle', 'agriculture', 'agrumex', 'ah', 'ahib', 'ahiib', 'ahkcu', 'ahydrowhydroxypolyoxymethylethanediyl', 'ai', 'aid', 'aide', 'aids', 'aim', 'air', 'airborne', 'aircraft', 'aircrew', 'airfare', 'airfield', 'airing', 'airlift', 'airline', 'airman', 'airplane', 'airport', 'airports', 'airspace', 'airway', 'aj', 'akaka', 'al', 'alabama', 'alabamacoushatta', 'alamos', 'alarm', 'alaska', 'alaskan', 'alba', 'albatross', 'alberto', 'albuquerque', 'alcantara', 'alcohol', 'alcoholic', 'alcoholrelate', 'aldehyde', 'alden', 'alejandro', 'alemseghed', 'alert', 'aleut', 'alex', 'alexander', 'alfredo', 'algaebased', 'algal', 'alginate', 'alginic', 'alhousseynou', 'ali', 'alice', 'alicia', 'alien', 'align', 'alignate', 'aligned', 'alignment', 'aliphatic', 'alive', 'alkali', 'alkaline', 'alkane', 'alkene', 'alkenes', 'alkylsulfonic', 'allan', 'allcargo', 'allegation', 'allege', 'alleged', 'allegheny', 'allegiance', 'allen', 'allergy', 'alleviate', 'allhazard', 'alliance', 'allinclusive', 'allocable', 'allocate', 'allocation', 'alloftheabove', 'allopathic', 'allornothe', 'allotment', 'allottee', 'allow', 'allowable', 'allowance', 'alloy', 'allurban', 'allvolunteer', 'allweather', 'ally', 'allyl', 'almeda', 'almy', 'alonzo', 'alphaoxo', 'alphaphenylpiperidylacetic', 'alphathreo', 'alpine', 'alsham', 'alte', 'alter', 'alteration', 'alternate', 'alternative', 'althea', 'altugla', 'alumina', 'aluminate', 'aluminum', 'alumni', 'alvarado', 'alyce', 'alzheimer', 'alzheimers', 'amanda', 'amateur', 'ambassador', 'amberwood', 'ambient', 'ambiguous', 'ambulance', 'ambulatory', 'amend', 'amendment', 'amenity', 'america', 'american', 'americanmade', 'americans', 'americas', 'americorps', 'amine', 'amines', 'amino', 'aminobenzamide', 'aminobenzoic', 'aminocarbonyl', 'aminocarbonylphenyl', 'aminocyano', 'aminocyanondimethylbenzamide', 'aminocyclopyrachlor', 'aminodimethylbutanenitrile', 'aminoethanol', 'aminoethyl', 'aminoethylethanediamine', 'aminohydroxybixsulfooxyethyl', 'aminohydroxymethoxysulfooxyethylsulfonylphenyldiazenyl', 'aminomethoxymethyltriazine', 'aminomethylbenzamide', 'aminoniotrophenolsulfonic', 'aminophenylazobenzenesulfonic', 'aminophenylquinolinylimidazoapyrazin', 'aminophosphonic', 'aminopropanediol', 'aminopyridine', 'aminosulfobenzoic', 'aminotrifluorocrotonate', 'aminotrimethylcyclohexanemethanamine', 'aminoundecanoic', 'ammonio', 'ammonioacetylaminopropylhydroxynnnnn', 'ammonium', 'ammunition', 'amnesty', 'amortization', 'amortize', 'amputation', 'amt', 'amtrak', 'amusement', 'amy', 'ana', 'anabolic', 'anadromous', 'analgesic', 'analog', 'analogue', 'analysis', 'analyst', 'analytic', 'analyze', 'analyzer', 'ancamine', 'anchorage', 'ancient', 'ancillary', 'andean', 'andor', 'andrea', 'andrew', 'anesthesia', 'anesthesiologist', 'anesthetist', 'aneurysm', 'angel', 'angeles', 'angelou', 'angioma', 'angler', 'anhydride', 'aniline', 'animal', 'animas', 'anisic', 'ankle', 'ann', 'anna', 'annex', 'annexation', 'anniversary', 'announce', 'announcement', 'annual', 'annually', 'annuity', 'ansiul', 'answer', 'antagonist', 'antarctica', 'anthem', 'anthony', 'anthracenecarboxylic', 'anthracenedione', 'anthrax', 'antibacterial', 'antibiotic', 'antibioticresistant', 'anticancer', 'anticipate', 'anticipated', 'anticipation', 'anticompetitive', 'anticorruption', 'antideficiency', 'antidiscrimation', 'antidiscrimination', 'antidoping', 'antidrug', 'antidumpe', 'antifungal', 'antigovernment', 'antigua', 'antikickback', 'antimicrobial', 'antimissile', 'antimony', 'antioxidant', 'antipoaching', 'antipoverty', 'antipsychotic', 'antique', 'antiquity', 'antiretaliation', 'antirocket', 'antisemitic', 'antisemitism', 'antismuggle', 'antistatic', 'antistructure', 'antiterrorism', 'antitheft', 'antitrafficke', 'antitrust', 'antitunnele', 'anton', 'antonio', 'anxiety', 'aoxo', 'ap', 'apache', 'apalachicola', 'ape', 'apec', 'apnea', 'apollo', 'apollonia', 'apologize', 'apostle', 'app', 'appalachian', 'apparatus', 'apparel', 'appeal', 'appear', 'appearance', 'appellate', 'apple', 'appliance', 'applicability', 'applicable', 'applicant', 'application', 'applicationrelate', 'applicator', 'applied', 'apply', 'appoint', 'appointee', 'appointment', 'apportion', 'apportionment', 'appraisal', 'appraise', 'appraiser', 'appreciation', 'apprehension', 'apprenticeship', 'approach', 'appropriate', 'appropriated', 'appropriately', 'appropriateness', 'appropriation', 'appropriations', 'appropropriation', 'approval', 'approve', 'approximately', 'approximation', 'appurtenance', 'april', 'aquaculture', 'aquatic', 'aqueduct', 'aqueous', 'arab', 'arabia', 'arabian', 'arabisraeli', 'aramid', 'aranda', 'arapaho', 'arapahoroosevelt', 'arbiter', 'arbitrage', 'arbitrary', 'arbitration', 'arboretum', 'arbuckle', 'archaeological', 'archeological', 'archeology', 'archipelago', 'architect', 'architectural', 'architecture', 'archive', 'archives', 'archivist', 'arctic', 'area', 'areli', 'arenas', 'arenastornetta', 'arethyl', 'arethylpolymer', 'ariel', 'arise', 'arizona', 'arkansa', 'arkansas', 'arlington', 'arm', 'armature', 'armed', 'armenia', 'armistice', 'armor', 'armored', 'armstrong', 'army', 'armycontrolle', 'armynavy', 'armys', 'arrange', 'arrangement', 'arreola', 'arreolasaucedo', 'arrest', 'arrestee', 'arrival', 'arrive', 'arrow', 'arsenal', 'arsenic', 'arson', 'art', 'arterial', 'arthritis', 'arthur', 'artichoke', 'article', 'artifact', 'artificial', 'artist', 'artistic', 'artwork', 'asbestos', 'asbestoscontaine', 'asbury', 'ascertain', 'ascorbic', 'ash', 'ashland', 'asia', 'asian', 'asiapacific', 'aside', 'ask', 'aslam', 'asme', 'asmik', 'asp', 'aspect', 'aspersion', 'aspirin', 'assault', 'assay', 'assemble', 'assembly', 'assert', 'assertion', 'assess', 'assessment', 'asset', 'assetbacke', 'assign', 'assignment', 'assist', 'assistance', 'assistant', 'associate', 'associated', 'association', 'assurance', 'assure', 'asteroid', 'asthma', 'asthmarelate', 'asthmarelated', 'astronaut', 'asulam', 'asylee', 'asylum', 'atf', 'athlete', 'athletic', 'atika', 'atlanta', 'atlantic', 'atmosphere', 'atmospheric', 'atoll', 'atomic', 'atrazine', 'atrisk', 'atrocity', 'atsugi', 'attach', 'attachment', 'attack', 'attain', 'attainable', 'attainment', 'attempt', 'attend', 'attendance', 'attendant', 'attendees', 'attention', 'attest', 'attestation', 'attorney', 'attorneyclient', 'attract', 'attributable', 'attribute', 'attribution', 'attrition', 'auburn', 'auckland', 'auction', 'audience', 'audio', 'audiologist', 'audiology', 'audiometric', 'audiovisual', 'audit', 'auditable', 'auditing', 'auditor', 'auditory', 'audits', 'augment', 'augmentation', 'augmentee', 'august', 'augusta', 'aurora', 'authentic', 'authorities', 'authority', 'authorization', 'authorize', 'authorized', 'authorizing', 'authorship', 'autism', 'auto', 'autocycle', 'autoimmune', 'automate', 'automatic', 'automatically', 'automobile', 'automotive', 'autonomous', 'autonomy', 'availability', 'available', 'avalon', 'ave', 'avenue', 'average', 'averaging', 'avermectin', 'aversion', 'avg', 'avian', 'aviation', 'aviv', 'avoid', 'avoidance', 'award', 'awarding', 'aware', 'awareness', 'away', 'axial', 'axis', 'axle', 'ayde', 'azadirachtin', 'azerbaijan', 'aziridine', 'azore', 'azoxystrobin', 'azucena', 'b', 'ba', 'baby', 'baccalaureate', 'bacillus', 'background', 'backhoe', 'backlog', 'backpack', 'backpay', 'backscatter', 'bacon', 'bacteria', 'bacterial', 'bad', 'badge', 'badillo', 'bae', 'bag', 'baggage', 'bahrain', 'bailey', 'bailout', 'bainbridge', 'baines', 'bait', 'baker', 'bakersfield', 'bakersnoqualmie', 'bakken', 'balance', 'balanced', 'balazs', 'balderas', 'baldwin', 'baldwinsville', 'ballistic', 'ballot', 'ballwin', 'baltimore', 'bamboo', 'ban', 'banana', 'band', 'bank', 'banking', 'bankrupt', 'bankruptcy', 'banner', 'baptist', 'bar', 'barbuda', 'bargaining', 'barium', 'bark', 'barney', 'barrier', 'barry', 'base', 'baseball', 'basel', 'baseline', 'basement', 'basic', 'basin', 'basins', 'basis', 'basket', 'basketball', 'bass', 'bassett', 'bat', 'bataan', 'bathroom', 'baton', 'battalion', 'battery', 'battin', 'battle', 'battlefield', 'baudette', 'bay', 'bayard', 'baydelta', 'bayesian', 'bayhydur', 'bayou', 'bayowet', 'baytown', 'bazan', 'bazzi', 'bb', 'bba', 'bc', 'bcyfluthrin', 'beach', 'beacon', 'bead', 'bear', 'bearing', 'beat', 'beautiful', 'beaver', 'bed', 'bedrock', 'bee', 'beef', 'beer', 'beetle', 'begin', 'beginning', 'behalf', 'behavior', 'behavioral', 'belarus', 'belief', 'believe', 'belknap', 'belligerent', 'belong', 'beloved', 'belt', 'bench', 'benchmark', 'benchmarking', 'bend', 'beneath', 'beneficial', 'beneficiaries', 'beneficiary', 'benefit', 'benefits', 'benezenedimethanamine', 'benfluralin', 'benghazi', 'benin', 'benitez', 'benjamin', 'bennett', 'benson', 'bentazon', 'benton', 'benzamide', 'benzamine', 'benzene', 'benzenedicarbonitrile', 'benzenedicarboxamide', 'benzenedicarboxylate', 'benzenedicarboxylic', 'benzenedimethanamine', 'benzenedimethanaminebisphenol', 'benzenesulfonamide', 'benzenesulfonic', 'benzenesulfonyl', 'benzoate', 'benzoic', 'benzothiazolythio', 'benzoyl', 'benzyl', 'benzylimidazole', 'benzylphenylpiperdine', 'benzylphenylpiperidine', 'bequeath', 'bequest', 'bergen', 'bering', 'bernardino', 'berryessa', 'best', 'bestfaith', 'bestpractice', 'bet', 'beta', 'betacyfluthrin', 'bethel', 'better', 'beverage', 'biannual', 'bias', 'biaxially', 'bicameral', 'bicentennial', 'bicycle', 'bicyclic', 'bicyclist', 'bid', 'bidder', 'bidding', 'biehl', 'bien', 'biennial', 'bienville', 'bifenazate', 'bifenthrin', 'bifida', 'big', 'biggertwater', 'biggertwaters', 'bihindolediol', 'bikeshare', 'bilateral', 'bill', 'billfish', 'billing', 'billings', 'billion', 'billy', 'bilyanska', 'bin', 'binational', 'binder', 'biobase', 'biodefense', 'biodegradable', 'biodiesel', 'bioengineered', 'biofuel', 'biogas', 'biographical', 'biological', 'biology', 'biomass', 'biomedical', 'biometric', 'biorefinery', 'biosimilar', 'biotech', 'biotechnology', 'bioterrorism', 'bipartisan', 'biphenyl', 'biphenyldiamino', 'biphenyltetracarboxylic', 'bird', 'birdsafe', 'birth', 'birthday', 'bis', 'bisaminophenoxybenzene', 'bisaminosulfonylhydroxykophenyldiazenylknoxokonphenylbutanamidato', 'bisbee', 'bischlorohydroxylophenyldiazenylkndihydromethylo', 'biscyanatophenylpropane', 'bisdimethyl', 'bisdimethylphenol', 'bisdimethylphenyltriazinyloctyl', 'bisdimethylpropylbenzenediol', 'bisdioxobutylaminobenzenesulfonic', 'bisexual', 'bishydroxybutyloxyphenylbisbutyloxypheny', 'bishydroxyk', 'bismethacryloyloxypropyl', 'bismethacryloyloxypropylether', 'bismethyldioxohpyrrolinylmethylbenzene', 'bismethylethylnaphthalene', 'bison', 'bisphenol', 'bistbutylcyclohexyl', 'bistetramethylpiperidylsebacate', 'bitolylene', 'bl', 'black', 'blackfeet', 'blackfoot', 'blackout', 'blackstone', 'blaine', 'blank', 'blas', 'blend', 'blended', 'blender', 'blighted', 'blind', 'bliss', 'bloc', 'block', 'blockage', 'blood', 'bloodbase', 'bloody', 'bloom', 'blower', 'blowout', 'blue', 'bmi', 'board', 'boat', 'boating', 'bodily', 'body', 'bodygrippe', 'bodyworn', 'boiler', 'bois', 'bokan', 'boko', 'bolor', 'bolster', 'bolt', 'bomber', 'bombing', 'bona', 'bond', 'bonds', 'bone', 'bonneau', 'bonneville', 'bono', 'bonus', 'boochever', 'book', 'booking', 'boom', 'boost', 'boot', 'border', 'borinqueneer', 'boronate', 'borough', 'borrow', 'borrower', 'borrowing', 'boscalid', 'bosnia', 'boston', 'bottle', 'boulevard', 'boundary', 'boutique', 'bowen', 'bowhead', 'box', 'boxing', 'boy', 'boycott', 'boycotts', 'bp', 'bra', 'bracelet', 'bracket', 'bradley', 'brain', 'brake', 'braking', 'branch', 'branched', 'brand', 'brass', 'brave', 'brazil', 'brazilian', 'breach', 'break', 'breakfast', 'breakthrough', 'breakwater', 'breast', 'breastfeeding', 'bree', 'breech', 'bregaj', 'brett', 'brevard', 'brian', 'bribery', 'brick', 'bridge', 'bridgeton', 'briefing', 'brig', 'brigade', 'brigadier', 'brigham', 'brightener', 'brine', 'bring', 'bringing', 'bristol', 'british', 'broad', 'broadband', 'broadcast', 'broadcaster', 'broadcasting', 'broaden', 'broadly', 'broadwater', 'broadway', 'brockport', 'brodifacoum', 'broker', 'brokerage', 'bromacil', 'bromide', 'brominated', 'bromobenzyl', 'bromochloroimidazoapyrazinylcyclobutanone', 'bromoxynil', 'bronx', 'bronzevilleblack', 'brook', 'brooklyn', 'brookwoodsago', 'brotherhood', 'brown', 'brownfield', 'brownfields', 'bruce', 'brunswick', 'brush', 'brutality', 'bs', 'buck', 'buckley', 'bud', 'buddy', 'budget', 'budgetary', 'budgeting', 'budgetneutral', 'buendia', 'buffalo', 'buffer', 'build', 'builder', 'building', 'builtin', 'bulb', 'bulge', 'bulk', 'bulkpower', 'bulletin', 'bulletproof', 'bullion', 'bully', 'bullying', 'bundle', 'bundling', 'buprofezin', 'burden', 'burdensome', 'bureau', 'bureaucracy', 'bureaucrat', 'bureaucratic', 'bureaus', 'burgess', 'burial', 'burialrelate', 'burleson', 'burma', 'burn', 'burro', 'burros', 'burt', 'burwell', 'bury', 'burying', 'bus', 'bush', 'business', 'butane', 'butanedioic', 'butanediol', 'buteneone', 'butler', 'butralin', 'butte', 'butterfly', 'button', 'butyl', 'butylate', 'butylcarbamate', 'butylchlorohimidazolecarbaldehyde', 'butylchlorohimidazolecarbaldhyde', 'butylidenebis', 'butylphenol', 'butynediol', 'butyral', 'butyrate', 'butyric', 'buy', 'buyback', 'buyin', 'buying', 'bypass', 'byproduct', 'byrne', 'byway', 'c', 'cab', 'cabin', 'cabinet', 'cable', 'cadastre', 'cadet', 'cafeteria', 'cahoon', 'calcium', 'calculate', 'calculation', 'calculator', 'caldera', 'caleb', 'calendar', 'calfe', 'cali', 'california', 'callaghan', 'caller', 'calling', 'camel', 'camera', 'cameron', 'camilo', 'camp', 'campaign', 'campus', 'camshaft', 'canada', 'canadian', 'canagliflozin', 'canal', 'canalway', 'cancel', 'cancellation', 'cancer', 'cancerfree', 'candidate', 'candyflavore', 'canid', 'canis', 'cannabidiol', 'canning', 'canspam', 'canton', 'canyon', 'cap', 'capability', 'capable', 'capacitor', 'capacity', 'capacitybuilde', 'capandtrade', 'cape', 'caper', 'capita', 'capital', 'capitalization', 'capitalize', 'capitate', 'capitol', 'capitolflown', 'caproate', 'caprolactam', 'caprolactamblocked', 'caprolactonediethylene', 'capsicum', 'capt', 'captain', 'captan', 'captioning', 'captive', 'captivity', 'capture', 'car', 'carafeless', 'caramba', 'caramel', 'carbamate', 'carbamic', 'carbaryl', 'carbazate', 'carbazole', 'carbide', 'carbofuran', 'carbon', 'carbonate', 'carbonatehexanediol', 'carbonic', 'carbonize', 'carbonylbisiminophenylenediazenydiylbisaminohydroxyphenyldiazenyl', 'carbonylmethoxyiminoacetamide', 'carbosulfan', 'carboxin', 'carboxylic', 'carcass', 'carcinogen', 'carcinogenfree', 'carcinoma', 'card', 'carded', 'cardenas', 'cardiac', 'cardioid', 'cardiomyopathy', 'cardiopulmonary', 'cardiovascular', 'cardona', 'cards', 'care', 'careassociated', 'career', 'caregive', 'caregiver', 'carelessness', 'carerelate', 'caretaker', 'carfentrazoneethyl', 'cargo', 'caribbean', 'carl', 'carlin', 'carlisle', 'carlos', 'carmen', 'carol', 'carole', 'carolina', 'caroline', 'carotene', 'carp', 'carpet', 'carreno', 'carriage', 'carrier', 'carry', 'carryback', 'carrying', 'carryon', 'carryout', 'carryover', 'carson', 'cartel', 'carter', 'cartridge', 'carwile', 'cas', 'casa', 'cascade', 'cascadia', 'case', 'casein', 'casemanagement', 'casement', 'casetracke', 'cash', 'cashmere', 'casino', 'cask', 'casket', 'cassia', 'cast', 'castellano', 'casting', 'castiron', 'castle', 'castner', 'castro', 'casualty', 'cat', 'catalogue', 'catalyst', 'catalytic', 'catastrophe', 'catastrophic', 'catch', 'catechol', 'categorical', 'categorization', 'category', 'catfish', 'cathode', 'cathoderay', 'cattle', 'cause', 'cave', 'cavernous', 'cbp', 'cbsx', 'cc', 'cdl', 'cease', 'ceaseless', 'cecil', 'cedar', 'ceiling', 'celaya', 'celebrate', 'celebration', 'celery', 'cell', 'cellsite', 'cellular', 'cellulose', 'cellulosic', 'cement', 'cemetery', 'censorship', 'census', 'cent', 'centennial', 'center', 'centers', 'central', 'centralized', 'centrifugal', 'centrifuge', 'century', 'ceo', 'ceramic', 'cerebral', 'ceremonial', 'ceremony', 'cerium', 'ceriumdope', 'cermet', 'cerro', 'certain', 'certainty', 'certificate', 'certification', 'certifie', 'certified', 'certify', 'certiorari', 'cervical', 'cessation', 'cetalox', 'cfc', 'cgms', 'chadron', 'chafee', 'chaffee', 'chai', 'chain', 'chainofcustody', 'chair', 'chairman', 'chalan', 'challenge', 'chalup', 'champaign', 'champion', 'championship', 'champva', 'chan', 'chance', 'chaney', 'change', 'changer', 'channel', 'chaowasaree', 'chaplain', 'chapline', 'chapter', 'character', 'characteristic', 'characterization', 'charge', 'chargeable', 'charger', 'charitable', 'charity', 'charitysponsore', 'charles', 'charleston', 'charter', 'chartered', 'chartering', 'chattahoochee', 'chauffeur', 'check', 'checklist', 'checkoff', 'checkpoint', 'cheek', 'chef', 'chelan', 'chemawa', 'chemical', 'chemistry', 'chemung', 'chenault', 'cheney', 'cherokee', 'cheruiyot', 'chesapeake', 'chesterfield', 'chetco', 'chicago', 'chicano', 'chickahominy', 'chicken', 'chief', 'chiefs', 'child', 'childbirth', 'childcare', 'childhood', 'childless', 'childonly', 'childparent', 'childrearing', 'children', 'childrens', 'childresistant', 'childs', 'childsex', 'chime', 'chimney', 'chimpanzee', 'china', 'chinese', 'chip', 'chipacc', 'chippewa', 'chipuxet', 'chiropractic', 'chiropractor', 'chisholm', 'chloride', 'chloridehydroxypropyl', 'chloridemethyl', 'chloro', 'chloroacetic', 'chloroacetone', 'chloroapatiteeuropium', 'chlorobenzaldehyde', 'chlorobenzene', 'chlorobenzenesulfonyl', 'chlorobenzyl', 'chlorodinitroalphaalphaalphatrifluorotoluene', 'chloroethylethyldihydrohtetraxolone', 'chloroethylethyldihydrohtetrazolone', 'chlorofluoromethylmethylethylaminosulfonyl', 'chlorohydroxymethoxynaphthanilide', 'chlorohydroxymethylnaphthanilide', 'chloromethylate', 'chloromethylated', 'chloromethylbenzene', 'chloromethyloxirane', 'chloronaphthalic', 'chloronitroaniline', 'chlorophyllin', 'chloroquinolinoxy', 'chlorotoluene', 'chlorotrifluoro', 'chlorotrifluoroethylene', 'chocolate', 'choice', 'choke', 'chokehold', 'chong', 'choose', 'chopper', 'christa', 'christian', 'christians', 'christianste', 'christopher', 'christy', 'chromate', 'chromatograph', 'chromium', 'chronic', 'chronically', 'chugach', 'chukwueke', 'chula', 'chumash', 'church', 'churchill', 'churchriver', 'chvez', 'cibola', 'cider', 'cigar', 'cigarette', 'cigarillos', 'cindy', 'cinema', 'cinnamate', 'cinnamic', 'circle', 'circuit', 'circulate', 'circulation', 'circumcision', 'circumference', 'circumstance', 'circumvent', 'circumvention', 'circus', 'cishexenol', 'citizen', 'citizenship', 'citronitile', 'citrus', 'city', 'citys', 'civ', 'civic', 'civil', 'civilian', 'cjr', 'cl', 'claim', 'claimant', 'claiming', 'claims', 'clair', 'clandestine', 'clara', 'clarification', 'clarify', 'clarity', 'clark', 'class', 'classification', 'classified', 'classify', 'classroom', 'clatsopnehalem', 'claudia', 'clause', 'clay', 'clayton', 'clean', 'cleanburning', 'cleanenergy', 'cleaner', 'cleanfuel', 'cleaning', 'cleanup', 'clear', 'clearance', 'clearcoat', 'clearing', 'clearinghouse', 'clearly', 'cleat', 'cleland', 'clemency', 'clerk', 'clerkship', 'clery', 'clia', 'cliff', 'clifford', 'climate', 'climaterelate', 'clinic', 'clinical', 'clinically', 'clinton', 'clintonmacomb', 'clip', 'clipper', 'clock', 'clomazone', 'cloning', 'cloquintocetmexyl', 'close', 'closed', 'closing', 'closure', 'clothianidin', 'clothing', 'club', 'clubs', 'cluster', 'clyde', 'cm', 'cmmi', 'cnmi', 'coachclass', 'coal', 'coalbase', 'coale', 'coalfire', 'coaltate', 'coarse', 'coast', 'coastal', 'coastline', 'coastwise', 'coat', 'coating', 'cobain', 'cobalt', 'cobaltate', 'cobell', 'cobian', 'cobra', 'cocaine', 'cochiti', 'cockpit', 'cocoa', 'coconino', 'cod', 'code', 'codify', 'coding', 'coeducational', 'coerce', 'coercion', 'coercive', 'coextrusion', 'coffee', 'coffeemaker', 'cognitive', 'coherence', 'cohort', 'coin', 'coinage', 'coinsurance', 'coke', 'cola', 'cold', 'coldspring', 'collaborate', 'collaboration', 'collaborative', 'collapse', 'collateral', 'collateralized', 'collect', 'collectible', 'collection', 'collective', 'collectively', 'collector', 'college', 'collegeandcareer', 'collegebound', 'collegelevel', 'collegeville', 'collegiate', 'colleyville', 'collins', 'collision', 'colocate', 'coloma', 'colonel', 'colonia', 'colonography', 'colony', 'color', 'colorado', 'colorectal', 'colored', 'coltsville', 'columbia', 'columbinehondo', 'columbus', 'column', 'comb', 'combat', 'combatant', 'combatrelate', 'combatrelated', 'combed', 'combination', 'combine', 'combined', 'combustible', 'combustion', 'come', 'comfort', 'command', 'commandant', 'commemorate', 'commemoration', 'commemorative', 'commence', 'commencement', 'commendation', 'comment', 'commerce', 'commercerelate', 'commercial', 'commercialization', 'commercializationrelate', 'commercially', 'commerciallyavailable', 'commissary', 'commission', 'commissioner', 'commit', 'commitment', 'committee', 'commodity', 'common', 'commonly', 'commonwealth', 'communicate', 'communication', 'communications', 'communicationsrelate', 'communicator', 'community', 'communitybase', 'communitybased', 'communitysupporte', 'commute', 'commuter', 'comp', 'compact', 'compactimpact', 'companionship', 'company', 'companys', 'comparability', 'comparable', 'comparative', 'compare', 'comparison', 'compartmented', 'compassion', 'compassionate', 'compatible', 'compel', 'compelling', 'compensable', 'compensate', 'compensation', 'compensatory', 'compete', 'competency', 'competencybased', 'competent', 'competition', 'competitive', 'competitiveness', 'compilation', 'compile', 'complaint', 'complementary', 'complete', 'completeness', 'completion', 'complex', 'complexity', 'compli', 'compliance', 'compliant', 'complication', 'complicit', 'complie', 'complimentary', 'comply', 'component', 'compose', 'composite', 'composition', 'compound', 'compounding', 'comprehensive', 'comprehensively', 'compress', 'compression', 'compressionignition', 'comprise', 'compromise', 'comptroller', 'compulsory', 'computation', 'compute', 'computer', 'computerized', 'computing', 'con', 'conceal', 'concealable', 'concentrate', 'concentration', 'concept', 'conception', 'concern', 'concerted', 'concession', 'concessionaire', 'concise', 'concrete', 'concur', 'concurrence', 'concurrent', 'concurrently', 'concussion', 'condemn', 'condemnation', 'condensate', 'condition', 'conditional', 'conditioning', 'condominium', 'conduct', 'conducting', 'conduit', 'confectionery', 'confederate', 'confer', 'conference', 'conferencing', 'confidence', 'confidential', 'confidentiality', 'configuration', 'confinement', 'confirm', 'confirmation', 'confiscate', 'conflict', 'conform', 'conformance', 'conformity', 'confront', 'congenital', 'congestion', 'congress', 'congressgov', 'congressional', 'congressionalexecutive', 'congressionally', 'conjunction', 'connect', 'connected', 'connecticut', 'connection', 'connectivity', 'connector', 'conrad', 'conran', 'conscience', 'conscientiously', 'conscription', 'consecutive', 'consensual', 'consensus', 'consensusbase', 'consent', 'consequence', 'conservancy', 'conservation', 'conservationrelated', 'conservator', 'conservatorship', 'conserve', 'consider', 'consideration', 'consignment', 'consist', 'consistency', 'consistent', 'consolidate', 'consolidated', 'consolidation', 'consortium', 'conspiracy', 'conspire', 'constabulary', 'constance', 'constantino', 'constellation', 'constituentdriven', 'constitute', 'constitution', 'constitutional', 'constitutionality', 'constitutionally', 'constraint', 'constrictor', 'construct', 'construction', 'constructionrelate', 'construe', 'consuelo', 'consular', 'consult', 'consultant', 'consultation', 'consultative', 'consume', 'consumer', 'consumers', 'consumption', 'consumptive', 'contact', 'contain', 'container', 'containment', 'contaminant', 'contaminate', 'contaminated', 'contamination', 'contemplate', 'contempt', 'content', 'contiguous', 'continental', 'contingency', 'contingent', 'continuance', 'continuation', 'continue', 'continued', 'continuity', 'continuous', 'contraband', 'contraception', 'contraceptive', 'contract', 'contracting', 'contractor', 'contraindicated', 'contrary', 'contravention', 'contribute', 'contribution', 'contributor', 'control', 'controlledrelease', 'controller', 'controlling', 'controversy', 'convene', 'convenience', 'conveniently', 'convention', 'conventional', 'conventions', 'conversion', 'convert', 'converter', 'convey', 'conveyance', 'convict', 'conviction', 'coo', 'cook', 'cooker', 'cooking', 'cookstove', 'cool', 'cooler', 'cooling', 'coop', 'cooperate', 'cooperation', 'cooperative', 'cooperatively', 'cooperator', 'coordinate', 'coordinated', 'coordinating', 'coordination', 'coordinator', 'coos', 'cop', 'copayment', 'copolyacrylic', 'copolyamide', 'copolydimethyl', 'copolymer', 'copolymerisate', 'copolymerize', 'copper', 'copperas', 'coprecipitate', 'coprecitate', 'coprescribe', 'copy', 'copyright', 'coquille', 'coral', 'cord', 'core', 'corina', 'corma', 'cormorant', 'corn', 'cornell', 'corona', 'coronado', 'corp', 'corporal', 'corporate', 'corporation', 'corps', 'corpus', 'correct', 'correction', 'correctional', 'corrections', 'corrective', 'corregidor', 'corridor', 'corrosion', 'corrosive', 'corrupt', 'corruption', 'cory', 'cosby', 'cosigner', 'cosmetic', 'cosmetologist', 'cosmetology', 'cost', 'costbased', 'costbenefit', 'costeffective', 'costeffectiveness', 'costefficient', 'costello', 'costly', 'costoflive', 'costofliving', 'costsave', 'costsaving', 'costshare', 'costsharing', 'costtype', 'cottleville', 'cotton', 'coulee', 'council', 'counsel', 'counseling', 'counselor', 'count', 'countable', 'counter', 'counterdrug', 'counterfeit', 'counterinsurgency', 'countermeasure', 'counterpartie', 'counterterrorism', 'countervail', 'countervailable', 'counties', 'country', 'countrybycountry', 'countryoforigin', 'countrys', 'countryspecific', 'county', 'coup', 'couple', 'coupon', 'courage', 'courageous', 'courageously', 'course', 'court', 'courtappointe', 'courthouse', 'courtinvolve', 'courtmartial', 'courtordere', 'courts', 'courtsmartial', 'cove', 'covenant', 'cover', 'coverage', 'coverdell', 'covered', 'covering', 'covington', 'cow', 'cowley', 'coworker', 'cpi', 'cpie', 'cpl', 'crab', 'crack', 'crafts', 'cragin', 'craig', 'cranial', 'crankcase', 'crankshaft', 'crash', 'craw', 'cream', 'create', 'creation', 'creative', 'creativity', 'creator', 'credential', 'credentiale', 'credentialing', 'credibility', 'credible', 'credit', 'creditable', 'creditor', 'creek', 'creeks', 'cremate', 'cremated', 'crescenz', 'crew', 'crewman', 'crime', 'crimea', 'criminal', 'criminalization', 'criminalize', 'criminally', 'crimp', 'crisis', 'crisp', 'cristo', 'criterion', 'critical', 'critically', 'criticalstage', 'crittenton', 'crochet', 'crocheted', 'crocker', 'croix', 'crooked', 'crop', 'crosby', 'cross', 'crossborder', 'crosscountry', 'crosscut', 'crossing', 'crosslinke', 'crossownership', 'crossroad', 'crosssectional', 'crosssector', 'crossstate', 'crosswalk', 'crowdfunde', 'crowdfunded', 'crowdfunding', 'crowdsourcing', 'cruces', 'crude', 'cruel', 'cruelty', 'cruise', 'cruiser', 'crumble', 'cruz', 'cryptocurrencie', 'crystal', 'csar', 'ct', 'cuba', 'cuban', 'cubas', 'culmination', 'cultivate', 'cultivation', 'cultural', 'culturally', 'culture', 'cumberland', 'cumbersome', 'cumulative', 'cunsatd', 'cup', 'cupping', 'cuprate', 'curation', 'curative', 'curb', 'cure', 'curio', 'curler', 'currency', 'current', 'currently', 'currentyear', 'curricula', 'curriculum', 'currituck', 'curry', 'curtail', 'curtailment', 'curtis', 'cushing', 'cushioning', 'custodial', 'custody', 'custom', 'customary', 'customer', 'customerside', 'customs', 'cut', 'cutter', 'cv', 'cw', 'cyan', 'cyanamide', 'cyanonethylamino', 'cyanonitrophenyldiazenylhydroxyethoxy', 'cyanopyridine', 'cyanotoxin', 'cyanuric', 'cyasorb', 'cyazofamid', 'cyber', 'cyberattack', 'cybercrime', 'cyberrelate', 'cybersecurity', 'cyberspace', 'cycle', 'cycling', 'cyclized', 'cyclo', 'cyclobutanedicarboxylic', 'cyclogalbanat', 'cyclohexanamine', 'cyclohexanedione', 'cyclohexanesulfonate', 'cyclohexyl', 'cyclohexylaminopropanesulfonic', 'cyclohexylidenephenylacetonitrile', 'cyclopentylpropionyl', 'cyfluthrin', 'cyhalothrin', 'cymoxanil', 'cynthia', 'cypermethrin', 'cyproconazole', 'cyprodinil', 'cyprosulfamide', 'cyprus', 'd', 'dade', 'daily', 'dain', 'dairy', 'dakar', 'dakota', 'dakotas', 'dale', 'dallas', 'dalle', 'dam', 'damage', 'damaging', 'damascenone', 'daminozide', 'danger', 'dangerous', 'daniel', 'daniyal', 'danville', 'darc', 'dartmoor', 'daryl', 'daryle', 'dashboard', 'dat', 'data', 'database', 'datamine', 'date', 'dating', 'datum', 'daughter', 'daugustine', 'david', 'davis', 'davisbacon', 'dawn', 'day', 'daypack', 'daytime', 'dayton', 'dc', 'dday', 'de', 'dea', 'deadline', 'deadly', 'deaf', 'deafblind', 'deal', 'dealer', 'dealing', 'dean', 'death', 'deathrelated', 'deauthorize', 'debar', 'debarment', 'debbie', 'debilitate', 'debit', 'debris', 'debt', 'debtor', 'debttoincome', 'decade', 'decafluoropentafluorethyl', 'decanedioic', 'deceased', 'decedent', 'december', 'decennial', 'deceptive', 'decertification', 'decide', 'decision', 'decisionmake', 'decisionmaking', 'decisionsupport', 'decitex', 'deck', 'decker', 'declaration', 'declaratory', 'declare', 'declassification', 'decline', 'decommission', 'decommissioning', 'decontamination', 'decontaminationdestruction', 'decoration', 'decorative', 'decrease', 'decree', 'decriminalize', 'decryption', 'decyltrimethoxysilane', 'dede', 'dedicate', 'dedicated', 'dedication', 'deduct', 'deductibility', 'deductible', 'deduction', 'deed', 'deedforlease', 'deem', 'deemed', 'deep', 'deepen', 'deepwater', 'deer', 'deescalation', 'default', 'defaulted', 'defease', 'defeat', 'defect', 'defective', 'defend', 'defendant', 'defender', 'defense', 'defer', 'deference', 'deferment', 'deferral', 'deferred', 'defibrillator', 'deficiency', 'deficient', 'deficit', 'define', 'definite', 'definition', 'deforestation', 'defraud', 'defray', 'defy', 'degradation', 'degrade', 'degreased', 'degree', 'dehydrochlorinate', 'del', 'delaware', 'delay', 'delegate', 'delegation', 'delete', 'deliberately', 'delimit', 'delink', 'delinquency', 'delinquent', 'deliver', 'delivery', 'delphi', 'delta', 'deltamethrin', 'dema', 'demand', 'dembb', 'dementia', 'democracy', 'democratic', 'demographic', 'demolish', 'demolition', 'demonstrate', 'demonstrated', 'demonstration', 'demotion', 'denali', 'denial', 'denise', 'deniss', 'densely', 'density', 'dental', 'dentist', 'denver', 'deny', 'deo', 'department', 'departmental', 'depct', 'dependable', 'dependence', 'dependency', 'dependent', 'depict', 'depiction', 'depletion', 'deploy', 'deployment', 'deport', 'deportable', 'deportation', 'deposit', 'depository', 'depot', 'depreciable', 'depreciation', 'depredation', 'depression', 'deprive', 'deptford', 'depth', 'deputy', 'derailment', 'deregulate', 'derivative', 'derive', 'desalination', 'desc', 'descendant', 'descent', 'deschutes', 'describe', 'description', 'desecration', 'desert', 'design', 'designate', 'designation', 'designbuild', 'designee', 'desire', 'desmodur', 'despite', 'destination', 'destine', 'destroy', 'destruction', 'destructive', 'detail', 'detailed', 'detain', 'detainee', 'detainer', 'detainment', 'detassel', 'detat', 'detect', 'detection', 'detective', 'detector', 'detention', 'deter', 'detergent', 'deteriorate', 'determination', 'determine', 'determined', 'detroit', 'deuterium', 'devastating', 'develop', 'developer', 'development', 'developmental', 'developmentally', 'deviation', 'device', 'devices', 'devil', 'devils', 'devise', 'devitt', 'devote', 'devoted', 'dew', 'dextromethorphan', 'deyarmin', 'df', 'dgalactodmannan', 'di', 'diabete', 'diabetes', 'diabetic', 'diacetate', 'diacid', 'diagnose', 'diagnosis', 'diagnostic', 'dial', 'diallo', 'dialysis', 'diameter', 'diamine', 'diamino', 'diaminodecane', 'diaminodihydroxyhydroxyphenyl', 'diaminodihydroxymethoxyphenyl', 'diaminostilbenedisulfonic', 'diamond', 'dianhydride', 'diaper', 'diaphragmatic', 'diaspora', 'dibromodimethylhydantoin', 'dibromopropyl', 'dicarbonate', 'dichloride', 'dichloro', 'dichloroacetyl', 'dichloroaniline', 'dichlorobenzidine', 'dichlorodinitrotrifluoromethyl', 'dichlorodiphenyl', 'dichlorodiphenylsulfone', 'dichlorofluorohexafluoropropoxyphenyl', 'dichloromorpholinyltriazine', 'dichloronitrobenzene', 'dichlorophenoxy', 'dichloropropene', 'dick', 'dickinson', 'dictate', 'dicumyl', 'dicup', 'dicyanato', 'dicyclohexyl', 'didecanoyl', 'die', 'diego', 'diekmann', 'dielectric', 'diem', 'diesel', 'dietary', 'diethenyl', 'diethenylbenzene', 'diethyl', 'diethylamino', 'diethylaminoethyldextran', 'diethylene', 'diethylphosphinate', 'dietrelated', 'dietz', 'difenoconazole', 'differ', 'difference', 'different', 'difficult', 'difficulty', 'difluoro', 'difluoroaniline', 'digit', 'digital', 'digitization', 'diglycidyl', 'dignified', 'dignity', 'dihydrazide', 'dihydro', 'dihydrochloride', 'dihydrooxazolylmesylotolylhydroxy', 'dihydroxybenzophenone', 'diiodomethylptolylsulfone', 'diisocyanate', 'diisocyanatohexane', 'diisocyanatomethylbenzene', 'diisononyl', 'dilisio', 'dillingham', 'dilute', 'dilution', 'dime', 'dimension', 'dimes', 'dimethacylate', 'dimethoxybutanone', 'dimethoxydiphenyl', 'dimethoxypyrimidinyl', 'dimethoxypyrimidinyldimethylcarbamoyl', 'dimethyl', 'dimethylamine', 'dimethylaminotrifluoroethoxy', 'dimethylaminotrifluoroethoxytriazinylaminocarbonylaminosulfonylmethylbenzoate', 'dimethylbenzylphenylhbenzotriazole', 'dimethylbipyridinium', 'dimethyldiazole', 'dimethyldithiocarbamate', 'dimethylheptyl', 'dimethylhexanediol', 'dimethylimidazolidinone', 'dimethylisopropylamine', 'dimethylpropyl', 'dimethylpyrimidinamine', 'diminish', 'din', 'dine', 'dineh', 'dingelljohnson', 'dinitrate', 'dinitrothienyldiazenylphenyliminobis', 'dinotefuran', 'diode', 'dioxaphosphocin', 'dioxide', 'dioxin', 'dioxopyrrolidinyltetramethylpiperidine', 'diphenyl', 'diphenylamine', 'diphosphoric', 'diplomacy', 'diplomat', 'diplomatic', 'direct', 'directhire', 'direction', 'directive', 'directly', 'director', 'directorate', 'directory', 'directtoconsumer', 'disabilities', 'disability', 'disable', 'disabled', 'disadvantage', 'disadvantaged', 'disaggregation', 'disallow', 'disappearance', 'disapproval', 'disapprove', 'disarm', 'disaster', 'disasterrelate', 'disburse', 'disbursement', 'discharge', 'dischargeability', 'disciplinary', 'discipline', 'disclaimer', 'disclose', 'disclosure', 'disconnected', 'discontent', 'discontinuance', 'discontinue', 'discount', 'discourage', 'discouraging', 'discover', 'discoverability', 'discovery', 'discrepancy', 'discretion', 'discretionary', 'discriminate', 'discrimination', 'discriminatory', 'discuss', 'discussion', 'disease', 'diseasemodifye', 'diseases', 'disenrollment', 'disflamoll', 'dishonest', 'dishonesty', 'dishonorable', 'disinformation', 'disinterested', 'dislocate', 'dislocation', 'dismantle', 'dismantlement', 'dismemberment', 'disorder', 'disparagement', 'disparate', 'disparity', 'dispense', 'dispensing', 'dispersant', 'disperse', 'displace', 'displaced', 'display', 'disposable', 'disposal', 'dispose', 'disposed', 'disposition', 'disproportionate', 'dispute', 'disqualification', 'disqualify', 'disregard', 'disrupt', 'disruption', 'dissection', 'disseminate', 'dissemination', 'dissent', 'dissident', 'dissipate', 'dissolution', 'distance', 'distancebase', 'distil', 'distillation', 'distilled', 'distillery', 'distinct', 'distinction', 'distinguished', 'distort', 'distress', 'distressed', 'distribute', 'distributing', 'distribution', 'distributor', 'district', 'districtwide', 'disturbance', 'disulfide', 'disulfobenzaldehyde', 'ditch', 'ditertbutyl', 'ditertbutylhydroxybenzoic', 'dithiobisbenzothiazole', 'diuron', 'dive', 'diver', 'diverse', 'diversification', 'diversify', 'diversion', 'diversity', 'divert', 'divest', 'divestiture', 'divestment', 'divide', 'dividend', 'divinyl', 'divinylbenzene', 'divinylbenzenestyrene', 'division', 'divorce', 'dixie', 'dlm', 'dmannose', 'dmds', 'dme', 'dmepos', 'dmipa', 'dmitry', 'dmo', 'dna', 'dock', 'docket', 'doctor', 'doctoral', 'doctorpatient', 'doctrine', 'document', 'documentary', 'documentation', 'dodaj', 'doddfrank', 'dodecahydroaatetramethylnaphthobfuran', 'dodecanoate', 'dodecyl', 'dog', 'doherty', 'dollar', 'dollardenominate', 'domain', 'dome', 'domestic', 'domestically', 'domesticate', 'domicile', 'dominate', 'dominic', 'dominica', 'don', 'dona', 'donahue', 'donald', 'donate', 'donation', 'donor', 'donoradvise', 'donotcall', 'donovan', 'doolittle', 'door', 'dopant', 'dope', 'doppl', 'dorado', 'dorchester', 'doris', 'dormitory', 'dosage', 'dose', 'dot', 'doub', 'double', 'doublecreste', 'doubling', 'douglas', 'douglass', 'downloadable', 'downstream', 'downward', 'doyon', 'dpk', 'dr', 'draft', 'drafting', 'dragasantol', 'drainage', 'dramatic', 'draw', 'drawdown', 'drawing', 'dream', 'dreamer', 'dredge', 'dredged', 'driftnet', 'drilling', 'drink', 'drinking', 'drip', 'drive', 'driveaxle', 'driver', 'driving', 'drone', 'dropout', 'drought', 'droughtstricken', 'drug', 'drugfree', 'drugrelate', 'drunk', 'dry', 'dryden', 'drying', 'dryredwater', 'drywall', 'dsca', 'dsh', 'du', 'dual', 'dually', 'dube', 'dublin', 'duck', 'duffel', 'dui', 'duly', 'dump', 'dun', 'dungeness', 'dunn', 'dunoyer', 'duplicate', 'duplication', 'duplicative', 'durable', 'duration', 'dust', 'duty', 'dutyfree', 'duwamish', 'dwell', 'dwelling', 'dwight', 'dye', 'dyed', 'dyer', 'dynamic', 'dysfunction', 'dyslexia', 'dysprosium', 'dystrophy', 'e', 'eagle', 'early', 'earlystage', 'earmark', 'earn', 'earner', 'earning', 'earphone', 'earring', 'earth', 'earthquake', 'earthquakerelate', 'ease', 'easement', 'easily', 'east', 'eastern', 'easton', 'eastside', 'eastvale', 'eastw', 'eat', 'eating', 'eb', 'ebenezer', 'ebola', 'ecaprolactoneethylhydroxymethylpropanediol', 'echinoderm', 'echlorobenzylidenedimethylhtriazol', 'ecological', 'ecologically', 'economic', 'economical', 'economically', 'economizer', 'economy', 'ecosystem', 'ecru', 'ecstasy', 'ed', 'edge', 'edmonds', 'educate', 'educating', 'education', 'educational', 'educationally', 'educator', 'edward', 'edwin', 'eegekgguided', 'eeo', 'eeoc', 'effect', 'effective', 'effectively', 'effectiveness', 'effectuate', 'efficacy', 'efficiency', 'efficient', 'efficiently', 'effort', 'efimovich', 'eg', 'egg', 'egglaye', 'egovernment', 'egress', 'egs', 'egtrra', 'egypt', 'egyptisrael', 'ehr', 'eielson', 'eightyearold', 'eisenhower', 'el', 'elap', 'elastomer', 'elastomeric', 'eld', 'elder', 'eldercare', 'elderly', 'elect', 'election', 'electiondedicated', 'electioneer', 'elective', 'electoral', 'electric', 'electrical', 'electrically', 'electricity', 'electrification', 'electrode', 'electrohydraulic', 'electrolysis', 'electromagnetic', 'electromechanical', 'electronic', 'electronically', 'electronicallyaerate', 'electronics', 'element', 'elementary', 'elephant', 'elevate', 'elevated', 'elevation', 'elevator', 'elfer', 'elie', 'eligibility', 'eligible', 'eligiblity', 'eliminate', 'elimination', 'eliot', 'elizondo', 'elk', 'elkhart', 'elkhorn', 'elko', 'ellwood', 'elmwood', 'elna', 'elouise', 'email', 'embargo', 'embassy', 'emblem', 'embryo', 'embryonic', 'emerge', 'emergency', 'emetic', 'emigrant', 'emil', 'eminent', 'emission', 'emit', 'emitter', 'emitting', 'emmet', 'emmett', 'emotional', 'emp', 'emphasize', 'empirical', 'employ', 'employee', 'employeeowned', 'employer', 'employerestablishe', 'employerprovide', 'employers', 'employersponsored', 'employment', 'employmentbase', 'employmentbased', 'employmentrelate', 'empower', 'empowerment', 'emtala', 'emulsion', 'en', 'enable', 'enabling', 'enact', 'enactment', 'encapsulate', 'enclosure', 'encore', 'encounter', 'encourage', 'encouragement', 'encroachment', 'encrypt', 'encryption', 'encumbrance', 'end', 'endanger', 'endangered', 'endangerment', 'endeavor', 'endemic', 'endocrinedisrupte', 'endoflife', 'endorsement', 'endowment', 'endproduct', 'endstage', 'endstrength', 'endure', 'enduring', 'enduse', 'enduser', 'enemy', 'energy', 'energyefficiency', 'energyefficient', 'energyrelate', 'energys', 'energysmart', 'energywater', 'enewetak', 'enforce', 'enforceable', 'enforcement', 'enforcementinvolve', 'enforcer', 'engage', 'engagement', 'engaging', 'engine', 'engineer', 'engineering', 'england', 'english', 'enhance', 'enhanced', 'enhanceduse', 'enhancement', 'enjoy', 'enjoyment', 'enlargement', 'enlist', 'enlisted', 'enlistee', 'enlistment', 'enormous', 'enrique', 'enrol', 'enroll', 'enrollee', 'enrollment', 'enslave', 'ensue', 'ensure', 'enter', 'enterprise', 'entertainment', 'entertainmentoriented', 'enthusiast', 'entire', 'entirely', 'entirety', 'entitle', 'entitlement', 'entity', 'entrance', 'entrant', 'entrepreneur', 'entrepreneurbased', 'entrepreneurial', 'entrepreneurship', 'entry', 'enumeration', 'envelope', 'environ', 'environment', 'environmental', 'environmentally', 'envoy', 'epa', 'epic', 'epidemic', 'epidemiological', 'epidemiology', 'epinephrine', 'episode', 'episodebase', 'epoxy', 'eprize', 'epsiloncaprolactoneethylhydroxymethylpropanediol', 'eptam', 'equal', 'equality', 'equalityfocuse', 'equalization', 'equalize', 'equally', 'equestrian', 'equine', 'equip', 'equipment', 'equitable', 'equitably', 'equity', 'equivalent', 'equus', 'era', 'eradicate', 'eradication', 'erdal', 'erection', 'erie', 'erin', 'ernie', 'erosion', 'erroneous', 'erroneously', 'error', 'escadrille', 'escalate', 'escambia', 'escape', 'escapement', 'escrow', 'esfenvalerate', 'esidronio', 'especially', 'espionage', 'esrd', 'esrdrelate', 'essential', 'essex', 'essure', 'establish', 'establishment', 'estate', 'estateowne', 'estateowned', 'ester', 'esther', 'estimate', 'estimating', 'estimation', 'estuary', 'et', 'etc', 'etfe', 'ethanediamide', 'ethanol', 'ethanone', 'ethene', 'ethenylbenzene', 'ethenylethylbenzene', 'ethenylpyrrolidinone', 'ether', 'etherblocke', 'etherdiethylenetriamine', 'ethic', 'ethical', 'ethnic', 'ethnicity', 'ethnylbenzene', 'ethofumesate', 'ethoxy', 'ethoxyethoxy', 'ethoxylate', 'ethoxyquin', 'ethoxystyrenecohydroxystyrene', 'ethyl', 'ethylaminomethylphenylamino', 'ethylene', 'ethylenediamine', 'ethylenepropylene', 'ethylenepropylenediene', 'ethylenetetrafluoroethylene', 'ethylenevinyl', 'ethylhexanolblocke', 'ethylhexanolblocked', 'ethylhexyl', 'ethylhexylester', 'ethylhexylglycerine', 'ethylhydroxymethylpropanediol', 'ethylimide', 'ethylisocyanurate', 'ethylmorpholine', 'ethylphenylaminomethylbenzenesulfonic', 'ethylphosphite', 'ethylpyridinedicarboxylic', 'etridiazole', 'eugene', 'eugenic', 'eureka', 'europe', 'european', 'europium', 'eva', 'evacuation', 'evade', 'evaluate', 'evaluation', 'evans', 'evanston', 'evasion', 'event', 'eventual', 'everglade', 'evergreen', 'everify', 'evers', 'everyday', 'eviction', 'evidence', 'evidencebase', 'evidencebased', 'evidenceinformed', 'evident', 'evidentiary', 'evolve', 'ewa', 'exam', 'examination', 'examine', 'examiner', 'examinersadultadolescent', 'example', 'exceed', 'excellence', 'excellent', 'exception', 'exceptional', 'exceptionally', 'excess', 'excessive', 'excha', 'exchange', 'exchangetraded', 'excise', 'excludable', 'exclude', 'exclusion', 'exclusive', 'exclusively', 'exclusivity', 'execute', 'execution', 'executive', 'exemplary', 'exemplify', 'exemployee', 'exempt', 'exemption', 'exend', 'exercise', 'exfelon', 'exhaust', 'exhibit', 'exhibition', 'exhibitor', 'exhumation', 'exist', 'existence', 'existing', 'exit', 'exoffender', 'exonerate', 'exotic', 'expand', 'expanded', 'expansion', 'expansionrelate', 'expatriate', 'expatriation', 'expect', 'expectant', 'expectation', 'expected', 'expedient', 'expedite', 'expedited', 'expeditious', 'expeditiously', 'expend', 'expendable', 'expenditure', 'expense', 'expensing', 'experience', 'experienced', 'experiment', 'experimental', 'expert', 'expertise', 'expiration', 'expire', 'expired', 'explain', 'explicit', 'exploit', 'exploitation', 'exploration', 'explosion', 'explosive', 'export', 'exportation', 'exporter', 'exportimport', 'exporting', 'exportrelated', 'expose', 'exposition', 'exposure', 'express', 'expression', 'expressly', 'expulsion', 'expungement', 'extend', 'extended', 'extender', 'extensible', 'extension', 'extensive', 'extent', 'exterior', 'external', 'extortion', 'extra', 'extract', 'extraction', 'extractor', 'extracurricular', 'extradite', 'extradition', 'extraordinary', 'extraterritorial', 'extreme', 'extremely', 'extremism', 'extremist', 'extremity', 'extrinsic', 'exxon', 'eye', 'eyeglass', 'eyeglasses', 'eyelash', 'f', 'faa', 'fab', 'fabric', 'fabricate', 'fabrication', 'face', 'facetoface', 'facilitate', 'facilitation', 'facility', 'facing', 'fact', 'factfinde', 'facto', 'factor', 'factoring', 'faculty', 'fafsa', 'fail', 'failure', 'fair', 'fairbanks', 'fairer', 'fairness', 'fairvalue', 'fairway', 'faith', 'faithfully', 'fall', 'fallback', 'fallen', 'falls', 'false', 'fame', 'familiar', 'families', 'family', 'familyfriendly', 'familylike', 'familysponsored', 'familytofamily', 'famoxadone', 'fan', 'fannie', 'fannin', 'fare', 'farm', 'farmer', 'farmers', 'farming', 'farmington', 'farmland', 'farmraised', 'fashion', 'fast', 'fastener', 'faster', 'fasttrack', 'fat', 'fatal', 'fatality', 'fateh', 'father', 'fatherhood', 'fatigue', 'fatoumata', 'fatty', 'fault', 'fauna', 'favor', 'favorable', 'fax', 'fayetteville', 'fbi', 'fcc', 'fda', 'fdaapprove', 'fdaapproved', 'fear', 'feasibility', 'feasible', 'feasibly', 'feature', 'february', 'fed', 'fedder', 'federal', 'federalaid', 'federalism', 'federally', 'federallyassiste', 'federallyfacilitate', 'federallyimpose', 'federallyqualified', 'federalstate', 'federated', 'federation', 'fee', 'feebase', 'feed', 'feeding', 'feeforservice', 'fehbp', 'felid', 'fellow', 'fellowship', 'felon', 'felony', 'feltbottom', 'felton', 'fema', 'female', 'feminine', 'fenamidone', 'fence', 'fenhexamid', 'fenoxaprop', 'fenoxaproppethyl', 'fenpropathrin', 'fenpyroximate', 'fentanyl', 'feral', 'fergus', 'ferguson', 'fernley', 'ferrite', 'ferroboron', 'ferrocolombium', 'ferrocyanide', 'ferroniobium', 'ferry', 'fertilization', 'fetal', 'fetus', 'fha', 'fhainsure', 'fiber', 'fiberboard', 'fiberboardcore', 'fiberglass', 'fibrosis', 'fide', 'fiduciary', 'field', 'fieldwork', 'fifth', 'fight', 'fighter', 'fighting', 'figure', 'filament', 'file', 'filing', 'filipino', 'filipinos', 'fill', 'filler', 'filling', 'film', 'filming', 'filmmaking', 'filter', 'fin', 'final', 'finalize', 'finance', 'financer', 'financial', 'financially', 'financier', 'financing', 'find', 'finding', 'findlay', 'fine', 'finely', 'finfish', 'finger', 'fingerprint', 'finning', 'fipronil', 'fire', 'firearm', 'firearmrelated', 'firefighte', 'firefighter', 'firefighting', 'fireprone', 'fireretardant', 'firewall', 'firework', 'fireworks', 'firm', 'firmspecific', 'firmus', 'firsttime', 'firstuse', 'fisa', 'fiscal', 'fiscally', 'fiscalyear', 'fischertropsch', 'fish', 'fisher', 'fisherie', 'fisheries', 'fisherman', 'fishery', 'fishing', 'fission', 'fistula', 'fit', 'fitness', 'fitting', 'fitzgerald', 'fivecent', 'fivemonth', 'fiveseven', 'fiveyear', 'fix', 'fixture', 'fl', 'flag', 'flagstaff', 'flake', 'flame', 'flamethrower', 'flammable', 'flaring', 'flat', 'flathead', 'flatline', 'flavia', 'flaw', 'flee', 'fleece', 'fleet', 'flexibility', 'flexible', 'flight', 'flightcrew', 'flint', 'float', 'flonicamid', 'flood', 'flooding', 'floodplain', 'floodproofe', 'floodrelate', 'floor', 'flora', 'florence', 'flores', 'florida', 'florissant', 'flounder', 'flow', 'floyd', 'flubendiamide', 'fludioxonil', 'fluid', 'fluidize', 'flumioxazin', 'fluopicolide', 'fluopyram', 'fluorescent', 'fluoride', 'fluoridetrifluoroethylene', 'fluoroalkyl', 'fluoropolymer', 'fluthiacetmethyl', 'flutolanil', 'flux', 'fly', 'flying', 'fm', 'fmap', 'fo', 'focal', 'focus', 'focused', 'foia', 'foil', 'foley', 'follin', 'follow', 'followup', 'folsom', 'fond', 'font', 'fontenelle', 'food', 'foodborne', 'foodproduce', 'foods', 'foot', 'football', 'footing', 'footnote', 'footwear', 'forage', 'forb', 'forbearance', 'forbid', 'force', 'forcedair', 'forces', 'ford', 'forecast', 'forecasting', 'foreclose', 'foreclosedupon', 'foreclosure', 'forefront', 'foregoing', 'foreign', 'foreignflag', 'foreignmanufactured', 'foreignowned', 'forensic', 'forensics', 'forest', 'forested', 'forester', 'forestry', 'forests', 'forever', 'forfeit', 'forfeiture', 'forge', 'forgive', 'forgiveness', 'fork', 'form', 'formal', 'formaldehyde', 'formally', 'format', 'formation', 'formula', 'formulary', 'formulate', 'formulation', 'forprofit', 'forrestal', 'fort', 'forth', 'forum', 'forward', 'fosamine', 'fosetylal', 'fossil', 'fossilfuel', 'foster', 'found', 'foundation', 'founder', 'founding', 'foung', 'fountain', 'fourteenth', 'fourth', 'fowler', 'fox', 'foxwisconsin', 'fractional', 'fracture', 'fracturing', 'fraenkel', 'fragment', 'fragmentation', 'fragrance', 'frailty', 'frame', 'framework', 'franc', 'france', 'franchise', 'franchisee', 'francis', 'francisca', 'francisco', 'frank', 'franking', 'franklin', 'fraud', 'fraudulent', 'fraudulently', 'fre', 'freddie', 'frederica', 'frederick', 'free', 'freedom', 'freely', 'freeport', 'freeroaming', 'freestande', 'freewaytocrossroad', 'freeze', 'freight', 'freightrelated', 'fremont', 'frequency', 'frequently', 'frescolat', 'fresh', 'friend', 'fringe', 'frit', 'frontier', 'frontline', 'frontpay', 'frozen', 'fruit', 'fry', 'fuel', 'fueled', 'fuelefficient', 'fuelfire', 'fuelfired', 'fugitive', 'fulfill', 'fulfillment', 'fullday', 'fulldollar', 'fullservice', 'fulltime', 'fully', 'fullyear', 'fullyintegrate', 'fume', 'function', 'functional', 'functionality', 'functionalize', 'functioning', 'fund', 'fundamental', 'fundamentally', 'funded', 'funding', 'fundraiser', 'fundraising', 'funeral', 'fungaflor', 'fungal', 'fungicide', 'furlough', 'furnace', 'furnish', 'furnishing', 'furniture', 'furtherance', 'fusion', 'fussell', 'future', 'futures', 'futureyear', 'g', 'ga', 'gabra', 'gabriel', 'gadolinium', 'gagetown', 'gain', 'gainesville', 'gainful', 'galanti', 'galer', 'galesburg', 'gallantry', 'gallate', 'gallery', 'gallium', 'gallon', 'galt', 'galvanize', 'gamble', 'gambling', 'game', 'games', 'gaming', 'gandhike', 'gang', 'gangfree', 'gao', 'gap', 'garcia', 'garden', 'gardens', 'garibaldi', 'garment', 'garnish', 'garnishment', 'garrett', 'garver', 'gas', 'gasoline', 'gasrelate', 'gastrointestinal', 'gateway', 'gateways', 'gather', 'gathering', 'gay', 'gaza', 'gdp', 'gear', 'geese', 'gen', 'gender', 'genderresponsive', 'general', 'generalize', 'generally', 'generate', 'generating', 'generation', 'generational', 'generationskippe', 'generationskipping', 'generator', 'generic', 'genesee', 'genetic', 'genetically', 'geneticallyengineered', 'geneva', 'genevieve', 'genital', 'genocide', 'gentile', 'genuinely', 'genus', 'geographic', 'geographical', 'geolocation', 'geological', 'george', 'georgia', 'geospatial', 'geothermal', 'geriatric', 'germanium', 'gerontology', 'gestational', 'gettysburg', 'ghkcu', 'ghost', 'ghz', 'gi', 'gibson', 'gift', 'gifted', 'gila', 'ginger', 'ginnie', 'girl', 'giuseppe', 'gjyljana', 'glaci', 'glacier', 'glass', 'glasssteagall', 'glassware', 'glen', 'glendale', 'glende', 'glennallen', 'global', 'globally', 'globe', 'globulin', 'glove', 'glucose', 'glufosinateammonium', 'glycidyl', 'glycol', 'glyoxylic', 'gme', 'goal', 'goat', 'goetz', 'goggle', 'gold', 'golden', 'goldwater', 'golf', 'gonzalez', 'good', 'goodman', 'goodneighbor', 'gorgonio', 'gornewicz', 'gov', 'govern', 'governance', 'governing', 'government', 'governmental', 'governmentbacke', 'governmentbusiness', 'governmentheld', 'governmentissue', 'governmentowne', 'governmentsponsore', 'governmentwide', 'governor', 'gpci', 'gps', 'grace', 'grade', 'gradient', 'grading', 'gradual', 'graduate', 'graduation', 'graham', 'grain', 'gram', 'gramble', 'grammleachbliley', 'grand', 'grandchild', 'grandchildren', 'grande', 'grandfather', 'grandfathered', 'grandparent', 'grant', 'grantee', 'granting', 'grantmatching', 'grape', 'grass', 'grasso', 'grassroots', 'gratuity', 'grave', 'gravel', 'gravesite', 'gravity', 'gravois', 'gray', 'graze', 'grazing', 'grease', 'great', 'greatly', 'green', 'greene', 'greenhouse', 'greenville', 'greenway', 'gregg', 'gregory', 'grenadine', 'grid', 'gridenabled', 'gridlock', 'grilamid', 'grilbond', 'grill', 'grip', 'grizzly', 'grocery', 'grogan', 'gross', 'ground', 'groundbased', 'groundbreaking', 'groundfish', 'groundlevel', 'groundwater', 'groundwork', 'group', 'grouping', 'grouse', 'grove', 'grow', 'growth', 'guam', 'guantanamo', 'guarantee', 'guaranteed', 'guaranty', 'guard', 'guardian', 'guardianship', 'guatemala', 'guidance', 'guide', 'guideline', 'gulch', 'gulf', 'gull', 'gullahgeechee', 'gum', 'gun', 'gunfree', 'gunnery', 'gutierrez', 'guy', 'guzman', 'gym', 'h', 'ha', 'habea', 'habitat', 'habitual', 'hadad', 'haerter', 'hague', 'hainsworth', 'hair', 'haiti', 'haitian', 'haiyan', 'halal', 'hale', 'half', 'halfstaff', 'halide', 'hall', 'halloran', 'halophosphate', 'halt', 'hamlet', 'hammond', 'hampshire', 'hancock', 'hand', 'handbook', 'handgun', 'handheld', 'handicap', 'handicraft', 'handle', 'handler', 'handling', 'handpropelle', 'handson', 'hanford', 'hank', 'hannon', 'hansen', 'haqqani', 'haram', 'harassment', 'harbor', 'harbors', 'hard', 'hardest', 'hardofheare', 'hardrock', 'hardship', 'hardtoserve', 'hare', 'harlingen', 'harm', 'harmful', 'harmless', 'harmon', 'harmonization', 'harmonize', 'harmonized', 'harness', 'harold', 'harper', 'harpo', 'harriet', 'harriette', 'harrison', 'harriston', 'harry', 'hartge', 'harvest', 'harvesting', 'hashemite', 'hatch', 'hatchery', 'hate', 'hatteras', 'haul', 'hauling', 'haven', 'hawaii', 'hawaiian', 'hawaiians', 'hazard', 'hazardous', 'hazards', 'haze', 'hazel', 'hb', 'hbenzotriazole', 'hc', 'hci', 'hcl', 'hcpcs', 'hdibenzodg', 'hdibenzodgdioxaphosphocin', 'head', 'headgate', 'heading', 'headphone', 'headquarter', 'headquarters', 'headstone', 'headstones', 'healing', 'health', 'healthcare', 'healthcaregov', 'healthcarerelate', 'healthrelated', 'healthy', 'hear', 'hearing', 'heart', 'hearth', 'heartland', 'heat', 'heater', 'heating', 'heavy', 'heavyduty', 'hector', 'hedge', 'hedger', 'heel', 'height', 'heights', 'heir', 'helena', 'helical', 'helicopter', 'helional', 'helium', 'helm', 'helmet', 'help', 'helpline', 'helvetolide', 'hemisphere', 'hemorrhagic', 'hemp', 'hen', 'henry', 'hepatitis', 'heptanoate', 'herbert', 'herbicide', 'herder', 'herding', 'hereditary', 'heritage', 'herman', 'hermiston', 'hermitage', 'hermon', 'hernia', 'hero', 'heroic', 'heroin', 'heroism', 'herzegovina', 'hetoate', 'hexadecyl', 'hexafluoro', 'hexafluoropropylene', 'hexane', 'hexanediamine', 'hexanedioic', 'hexanediol', 'hexanedioldimethyl', 'hexanediyl', 'hexanol', 'hexavalent', 'hexyl', 'hexylresorcinol', 'hexythiazox', 'hezbollah', 'hhphthalocyaninesulfonatokappankappan', 'hidalgo', 'hide', 'high', 'highability', 'highcost', 'highdemand', 'highdensity', 'highefficiency', 'highend', 'higherquality', 'higherrisk', 'highest', 'highgrowth', 'highimpact', 'highincome', 'highintensity', 'highland', 'highlands', 'highlevel', 'highly', 'highlypaid', 'highlyqualified', 'highlytrafficke', 'highneed', 'highperformance', 'highquality', 'highreward', 'highrisk', 'highskille', 'highskilled', 'highspeed', 'hightemperature', 'highvalue', 'highvelocity', 'highwage', 'highway', 'highwayrail', 'highwayrelate', 'hijacker', 'hike', 'hiking', 'hill', 'hilliard', 'hills', 'hillsborough', 'himic', 'hinchliffe', 'hindering', 'hindolone', 'hipaa', 'hire', 'hiring', 'hirvenal', 'hispanic', 'hispanicserving', 'historic', 'historical', 'historically', 'history', 'hit', 'hitech', 'hiv', 'hivaid', 'hivaids', 'hizballah', 'hl', 'ho', 'hobbs', 'hobby', 'hold', 'holder', 'holderrieth', 'holding', 'holiday', 'holland', 'holling', 'holloway', 'holmes', 'holmium', 'holocaust', 'holocaustera', 'holy', 'home', 'homebase', 'homebased', 'homebuyer', 'homegenerated', 'homegrown', 'homeland', 'homeless', 'homelessness', 'homemade', 'homeowner', 'homeownership', 'homicide', 'homopolymer', 'homosexual', 'honduras', 'honesty', 'honey', 'hong', 'honor', 'honorable', 'honorably', 'honorary', 'honoring', 'hood', 'hookah', 'hoover', 'hope', 'hopi', 'horizon', 'horizontallyoriente', 'horn', 'horne', 'horse', 'horserace', 'horticulture', 'hospice', 'hospital', 'hospitalbase', 'hospitalization', 'hospitalize', 'host', 'hostage', 'hostanox', 'hostapur', 'hostavin', 'hostile', 'hostility', 'hosting', 'hot', 'hotel', 'hotline', 'hotspot', 'hour', 'hourly', 'house', 'household', 'housing', 'housingrelated', 'houston', 'hov', 'howard', 'hphp', 'hpyranone', 'hr', 'htriazole', 'hu', 'hualapai', 'hub', 'hubzone', 'hudson', 'hudsonmohawk', 'hueneme', 'hugh', 'hugo', 'humaira', 'human', 'humanbase', 'humane', 'humanitarian', 'humanity', 'humboldt', 'huna', 'hunger', 'hunt', 'hunter', 'hunting', 'huntington', 'hurffville', 'huron', 'hurricane', 'hurricanes', 'hussein', 'hutchison', 'hxantheno', 'hybrid', 'hyde', 'hydrant', 'hydrate', 'hydraterelate', 'hydraulic', 'hydrazine', 'hydrazinecarboxylic', 'hydride', 'hydrocarbon', 'hydrocephalus', 'hydrochloride', 'hydrocodone', 'hydroelectric', 'hydrogen', 'hydrogenrelate', 'hydrographic', 'hydrokinetic', 'hydrolite', 'hydrologic', 'hydrological', 'hydrolyzed', 'hydronic', 'hydropower', 'hydroquinone', 'hydrotalcite', 'hydroxide', 'hydroxy', 'hydroxyethyl', 'hydroxyethylnoctyl', 'hydroxyhydroxymethylmethyl', 'hydroxykohydroxykonaphthalenyldiazenylknnaphtalenesulfonatohydroxykomethyoxyphenyldiazenylphenyldiazenylknnaphtalenolatokosodium', 'hydroxylamine', 'hydroxymethacrylyloxyethylphenyl', 'hydroxymethylphenyl', 'hydroxyphenoxypropionic', 'hydroxypropylmethyl', 'hydroxypyridinethione', 'hygiene', 'hyperbaric', 'hypertension', 'hypophosphite', 'hypoxia', 'iana', 'ib', 'ibrahim', 'ibrahima', 'icac', 'icd', 'ice', 'icebreake', 'icebreaker', 'icebreaking', 'icmp', 'idaho', 'ideal', 'ident', 'identifiable', 'identification', 'identifier', 'identify', 'identity', 'ideologically', 'iersel', 'ignition', 'ii', 'iii', 'ike', 'il', 'ill', 'illabot', 'illegal', 'illegally', 'illegallyreceived', 'illiana', 'illicit', 'illinois', 'illness', 'illumination', 'image', 'imaging', 'imazalil', 'imd', 'imidacloprid', 'imidurea', 'iminodiacetic', 'iminodisuccinate', 'imitation', 'immediate', 'immediately', 'immigrant', 'immigratio', 'immigration', 'immigrationrelate', 'imminent', 'immune', 'immunity', 'immunization', 'immunodeficiency', 'immunosuppressive', 'impact', 'impair', 'impairment', 'impartial', 'impede', 'impediment', 'imperial', 'imperiled', 'implant', 'implantation', 'implement', 'implementation', 'implicate', 'implication', 'imply', 'import', 'importance', 'important', 'importation', 'importer', 'impose', 'imposition', 'impoundment', 'impoverishment', 'impractical', 'impregnate', 'impression', 'imprison', 'imprisonment', 'improper', 'improperly', 'improve', 'improved', 'improvement', 'inabinett', 'inaccurate', 'inaction', 'inactive', 'inactiveduty', 'inadmissible', 'inadvertently', 'inapplicable', 'inappropriate', 'inappropriately', 'inauguration', 'inbuilde', 'inc', 'incarcerate', 'incarcerated', 'incarceration', 'incentive', 'incentivize', 'incentivizing', 'inch', 'incidence', 'incident', 'incidental', 'incidentbase', 'inclement', 'include', 'inclusion', 'inclusive', 'income', 'incomebase', 'incomecontingent', 'incompatible', 'incompetency', 'incompetent', 'incomplete', 'inconsistency', 'inconsistent', 'incorporate', 'incorporation', 'increa', 'increase', 'increased', 'incremental', 'incubator', 'incumbent', 'incur', 'indaziflam', 'indebtedness', 'indemand', 'indemnification', 'indemnity', 'indenture', 'independence', 'independent', 'independently', 'indeterminate', 'index', 'indexation', 'indexing', 'india', 'indian', 'indiana', 'indianapolis', 'indians', 'indicate', 'indication', 'indicative', 'indicator', 'indigenous', 'indigent', 'indigo', 'indirect', 'indirectly', 'individual', 'individuallevel', 'individually', 'indonesian', 'indoor', 'indoxacarb', 'induced', 'inducement', 'industrial', 'industry', 'industryrecognize', 'industryrecognized', 'industryspecific', 'inefficiency', 'inefficient', 'ineligibility', 'ineligible', 'inequality', 'inequity', 'inert', 'inf', 'infant', 'infantry', 'infect', 'infection', 'infectious', 'infertility', 'infestation', 'infiltrate', 'inflatable', 'inflate', 'inflation', 'inflict', 'inflight', 'influence', 'influenza', 'inform', 'informal', 'informant', 'information', 'informational', 'informationshare', 'informed', 'infrared', 'infrastructure', 'infringe', 'infringement', 'infusion', 'ingestion', 'ingredient', 'inhaler', 'inhibitor', 'inholding', 'inhuman', 'inhumanity', 'initial', 'initially', 'initiate', 'initiative', 'injection', 'injectionmolded', 'injector', 'injunction', 'injunctive', 'injure', 'injurious', 'injury', 'injustice', 'ink', 'inkind', 'inkjet', 'inland', 'inlet', 'inmate', 'inner', 'innocent', 'innovate', 'innovation', 'innovative', 'innovator', 'inoperable', 'inoperative', 'inorganic', 'inouye', 'inpatient', 'inperson', 'input', 'inquire', 'inquiry', 'inschool', 'inscription', 'insect', 'insecticide', 'insecurity', 'insert', 'inside', 'insider', 'insignia', 'insofar', 'insolvent', 'insource', 'insourcing', 'inspect', 'inspection', 'inspector', 'inspiration', 'inspire', 'instability', 'instal', 'install', 'installation', 'installment', 'instance', 'instant', 'instantaneous', 'instate', 'instead', 'institute', 'institutes', 'institution', 'institutional', 'institutionalization', 'institutionalize', 'institutions', 'instruct', 'instruction', 'instructional', 'instructor', 'instrument', 'instrumentality', 'insufficient', 'insular', 'insulate', 'insulated', 'insulation', 'insulin', 'insurance', 'insure', 'insured', 'insurer', 'insurgency', 'intact', 'integral', 'integrate', 'integrated', 'integration', 'integrity', 'intellectual', 'intelligence', 'intelligencerelate', 'intend', 'intense', 'intensification', 'intensify', 'intensity', 'intensive', 'intent', 'intentional', 'intentionally', 'inter', 'interact', 'interaction', 'interactive', 'interaffiliate', 'interagency', 'interam', 'interamerican', 'interbasin', 'intercept', 'interception', 'interchange', 'intercity', 'intercollegiate', 'interconnected', 'interconnection', 'interconnectivity', 'intercontinental', 'intercountry', 'interdepartmental', 'interdict', 'interdiction', 'interdisciplinary', 'interest', 'interested', 'interestfree', 'interfere', 'interference', 'intergovernmental', 'interim', 'interior', 'interlock', 'intermediary', 'intermediate', 'intermediaterange', 'interment', 'intermittent', 'intermodal', 'intern', 'internal', 'international', 'internationally', 'internet', 'internetbase', 'internetenable', 'internetfacilitate', 'internment', 'internship', 'interoperability', 'interoperable', 'interparliamentary', 'interpol', 'interpret', 'interpretation', 'interpretative', 'interpreter', 'interpretive', 'interring', 'interrogation', 'interrupt', 'interrupter', 'interruption', 'intersection', 'interstate', 'interval', 'intervene', 'intervention', 'interview', 'intimate', 'intimidate', 'intolerable', 'intoxicate', 'intraagency', 'intracoastal', 'intracranial', 'intrafamily', 'intrastate', 'intravenous', 'intravenously', 'intrinsic', 'introduce', 'introduction', 'intrusion', 'inupiat', 'inurnment', 'invalid', 'invalidate', 'invasion', 'invasive', 'invention', 'inventoried', 'inventors', 'inventory', 'invents', 'inversion', 'invert', 'inverter', 'invest', 'investigate', 'investigation', 'investigational', 'investigations', 'investigative', 'investigator', 'investigatory', 'investing', 'investment', 'investmentrelate', 'investor', 'investorstate', 'invisible', 'invoice', 'invoke', 'involuntarily', 'involve', 'involvement', 'inyo', 'iodide', 'iodopropynol', 'ion', 'ionexchange', 'ionic', 'ionize', 'iowa', 'ipconazole', 'ipenable', 'ira', 'iran', 'iranian', 'irans', 'iranunite', 'iraq', 'iraqi', 'iraqis', 'ireland', 'irene', 'irish', 'iron', 'irrational', 'irrespective', 'irresponsible', 'irrigation', 'irs', 'isaac', 'isil', 'isis', 'islamic', 'island', 'islander', 'islands', 'isle', 'isobutyrate', 'isocyanate', 'isocyanato', 'isocyanatoisocyanatomethyl', 'isocyanatoisocyanatomethyltrimethylcyclohexane', 'isocyanatomethyltrimethylcyclohexane', 'isocyanatosulfonylbenzoate', 'isomer', 'isomeric', 'isononylamine', 'isophthalic', 'isosulfocynate', 'isoxadifenethyl', 'isoxaflutole', 'israel', 'israeli', 'israelipalestinian', 'israels', 'issuance', 'issue', 'issuer', 'issuing', 'italian', 'italy', 'item', 'itemize', 'itemized', 'itemizer', 'itin', 'iuka', 'iv', 'ivg', 'ivory', 'ix', 'j', 'jabhat', 'jack', 'jackson', 'jacob', 'jacqueline', 'jadeite', 'jael', 'jag', 'jail', 'jamahiriya', 'jamaica', 'jamboree', 'james', 'janet', 'january', 'japan', 'japanese', 'jar', 'jason', 'javier', 'javitswagneroday', 'jay', 'jayne', 'jazz', 'jd', 'jeanette', 'jeanne', 'jeannette', 'jefeti', 'jefferson', 'jeffery', 'jeffrey', 'jenkins', 'jeremy', 'jerome', 'jerry', 'jersey', 'jerusalem', 'jessamine', 'jesse', 'jessie', 'jesus', 'jet', 'jewelry', 'jewish', 'jibilian', 'jim', 'jing', 'joaquin', 'job', 'jobkille', 'jobless', 'jobs', 'john', 'johnson', 'johnsonomalley', 'join', 'joinder', 'joint', 'jointly', 'jolla', 'jonathan', 'jones', 'jonesboro', 'jordan', 'jorge', 'jose', 'joseph', 'josephine', 'joshua', 'journalist', 'jr', 'jsa', 'juan', 'juanita', 'judge', 'judgement', 'judgeship', 'judgment', 'judicial', 'judiciary', 'judith', 'juice', 'jules', 'july', 'jumpstart', 'junction', 'june', 'juneau', 'junior', 'junk', 'jupiter', 'jure', 'jurisdiction', 'jury', 'justice', 'justifiable', 'justification', 'justify', 'justin', 'juvenile', 'k', 'kadiatou', 'kahikina', 'kaibab', 'kalispell', 'kamel', 'kanoa', 'kansas', 'kanto', 'kapaun', 'kappan', 'kappancuprate', 'karapetian', 'karinge', 'kashmir', 'kaskaskia', 'kassig', 'kathmandu', 'katrina', 'kau', 'kaufman', 'kay', 'kayla', 'kazakhstan', 'kazen', 'kc', 'kcx', 'kda', 'keefe', 'kei', 'keith', 'kelley', 'kelly', 'kemboi', 'kennard', 'kennedy', 'kennesaw', 'kenneth', 'kennewick', 'kentucky', 'kenya', 'kerosene', 'kerr', 'ketchikan', 'ketchum', 'ketone', 'key', 'keystone', 'kg', 'khalid', 'kid', 'kidnapping', 'kidney', 'kill', 'kiln', 'kilowatt', 'kin', 'kind', 'kindergarten', 'king', 'kingdom', 'kingpin', 'kingston', 'kingstown', 'kinnard', 'kinship', 'kisatchie', 'kit', 'kitchen', 'kitts', 'klamath', 'kle', 'kling', 'kncuprate', 'knife', 'knit', 'know', 'knowing', 'knowingly', 'knowledge', 'knox', 'kolbe', 'kolenda', 'kong', 'kootenai', 'korea', 'korean', 'koreas', 'kosher', 'kosovo', 'krcic', 'kristjan', 'kuhn', 'kurdistan', 'kuskokwim', 'kuwait', 'kva', 'kyle', 'l', 'la', 'lab', 'label', 'labeling', 'labor', 'laboratory', 'laboratorydeveloped', 'laborer', 'labormanagement', 'labors', 'lac', 'lacey', 'lack', 'lackawanna', 'lacquer', 'lacs', 'lactation', 'laden', 'lafayette', 'lafleur', 'lake', 'lakes', 'lakeshore', 'lambdacyhalothrin', 'laminate', 'lamp', 'lampholder', 'lance', 'land', 'landbase', 'landfill', 'landgrant', 'landing', 'landlord', 'landmark', 'landowner', 'landownership', 'landre', 'lands', 'landscape', 'landscaping', 'landslide', 'landward', 'lane', 'language', 'lanier', 'lanthanum', 'laontario', 'laos', 'lapel', 'lapse', 'laredo', 'large', 'largescale', 'laromer', 'larry', 'larson', 'las', 'laser', 'lassen', 'lasting', 'late', 'lateef', 'later', 'latin', 'latino', 'laughlin', 'launch', 'launder', 'laundering', 'laura', 'laureate', 'laurel', 'lavatory', 'law', 'lawabide', 'lawabiding', 'lawful', 'lawfully', 'lawfulness', 'lawing', 'lawn', 'lawrence', 'lawsu', 'lawsuit', 'lawyer', 'layer', 'lcd', 'lcpl', 'ldm', 'lead', 'leadacid', 'leadbase', 'leadbased', 'leader', 'leadership', 'leadville', 'league', 'leahysmith', 'leak', 'lean', 'leap', 'learn', 'learner', 'learning', 'lease', 'leasehold', 'leasing', 'leastdevelope', 'leather', 'leave', 'leavetransf', 'lebanon', 'lee', 'legacy', 'legal', 'legalization', 'legalize', 'legally', 'legion', 'legislation', 'legislative', 'legislature', 'legitimate', 'lehigh', 'leisure', 'lejeune', 'lejr', 'leland', 'lemon', 'lena', 'lend', 'lender', 'lending', 'lenfant', 'length', 'lennon', 'lense', 'leon', 'leonard', 'lerner', 'lesbian', 'leslie', 'lessee', 'lessen', 'lessened', 'lesson', 'lessor', 'let', 'lethal', 'leticia', 'letter', 'letterhead', 'leucoquinizarin', 'levant', 'levee', 'level', 'leverage', 'levin', 'levy', 'lewis', 'lewisite', 'lewiston', 'lewistown', 'lgbt', 'lgbtq', 'liability', 'liable', 'liaison', 'liang', 'liberation', 'liberia', 'liberty', 'librarian', 'library', 'libya', 'libyan', 'license', 'licensed', 'licensee', 'licensing', 'licensure', 'licorice', 'lid', 'lie', 'lien', 'lieu', 'lieutenant', 'life', 'lifecycle', 'lifeincome', 'lifeline', 'lifelong', 'lifesave', 'lifespan', 'lifethreatene', 'lifetime', 'lift', 'lifting', 'light', 'lightemitting', 'lighthouse', 'lighting', 'lightweight', 'like', 'likelihood', 'likely', 'likeness', 'limb', 'limestone', 'limit', 'limitation', 'limited', 'limousine', 'lincoln', 'lindstrom', 'line', 'lineitem', 'liner', 'lining', 'link', 'lino', 'linuron', 'lion', 'lionfish', 'liquefy', 'liquid', 'liquidate', 'liquidation', 'liquidfilled', 'liquidity', 'liquified', 'liquify', 'liquor', 'lisbon', 'list', 'listing', 'liter', 'literacy', 'literary', 'literature', 'lithium', 'lithiumion', 'litigation', 'little', 'liu', 'livable', 'live', 'livefire', 'livein', 'livelihood', 'liver', 'livestock', 'living', 'livingston', 'lmetalaxylfenoxam', 'lng', 'lo', 'load', 'loader', 'loan', 'lobby', 'lobbying', 'lobbyist', 'local', 'localism', 'localitie', 'locality', 'localitybased', 'localize', 'locally', 'locatable', 'locate', 'locating', 'location', 'locator', 'lock', 'locker', 'locking', 'lockout', 'lockup', 'locum', 'lodging', 'log', 'logan', 'logical', 'lois', 'lompoc', 'london', 'long', 'longeare', 'longer', 'longitudinal', 'longrange', 'longshore', 'longstanding', 'longterm', 'look', 'lookalike', 'lookout', 'lookthrough', 'loop', 'loophole', 'lopez', 'lopezurenda', 'loren', 'lori', 'los', 'lose', 'loss', 'lottery', 'lou', 'loudspeaker', 'louis', 'louisa', 'louise', 'louisiana', 'love', 'low', 'lowcost', 'lowearth', 'lowell', 'lower', 'lowercost', 'lowerincome', 'lowery', 'lowestperforme', 'lowincome', 'lowinter', 'lowlevel', 'lowperforme', 'lowrevenue', 'lowrisk', 'lowry', 'lowvolume', 'lowwage', 'ls', 'lt', 'ltch', 'ltriazine', 'luay', 'lubricate', 'lucia', 'lufti', 'lug', 'lugar', 'luggage', 'luis', 'luiseno', 'luiseo', 'lumbee', 'luminophore', 'lump', 'lumpectomy', 'luna', 'lunar', 'lunatic', 'lunch', 'lung', 'lupus', 'lutetium', 'luther', 'lyle', 'lyme', 'lymph', 'lymphedema', 'lyndon', 'lyon', 'lytton', 'lyusin', 'm', 'ma', 'maboloc', 'mac', 'macarelli', 'machine', 'machinegun', 'machinereadable', 'machinery', 'macomb', 'macotaj', 'macpac', 'macroeconomic', 'macroporous', 'macroporus', 'macwilliams', 'madeinamerica', 'madeinamericagov', 'madeup', 'madison', 'madre', 'mae', 'magazine', 'maggie', 'magnesium', 'magnetic', 'magnitsky', 'magnusonstevens', 'maguire', 'maha', 'maheen', 'mahoney', 'mail', 'mailing', 'main', 'maine', 'mainland', 'mainly', 'mainstem', 'mainstream', 'maintain', 'maintenance', 'majantol', 'major', 'majority', 'maker', 'makertaker', 'making', 'malachy', 'malala', 'maldive', 'male', 'maleic', 'malfeasance', 'malformation', 'malheur', 'malicious', 'mall', 'malnutrition', 'malonate', 'malpractice', 'maltreatment', 'mamadou', 'mammal', 'mammogram', 'mammography', 'mammoth', 'mamography', 'man', 'manage', 'management', 'managementfocused', 'manager', 'managerial', 'manan', 'manchester', 'manchuria', 'mandamus', 'mandate', 'mandatory', 'mandipropamid', 'manford', 'manganese', 'manhattan', 'manicure', 'manifest', 'manifold', 'manila', 'manipulation', 'mankato', 'manmade', 'manner', 'manngrandstaff', 'manpower', 'mansfield', 'manslaughter', 'mantel', 'manual', 'manuel', 'manufacture', 'manufactured', 'manufacturer', 'manufacturerissue', 'manufacturers', 'manufacturing', 'manufacturingrelate', 'manure', 'map', 'mapd', 'maple', 'maplesugare', 'mapping', 'marcelino', 'march', 'marcos', 'mare', 'margin', 'marginal', 'marginalize', 'maria', 'mariana', 'marie', 'mariel', 'marietta', 'marigold', 'marihuana', 'marijuana', 'marijuanaimpaire', 'marijuanarelate', 'marijuanarelated', 'marilyn', 'marin', 'marinas', 'marine', 'marines', 'mariposa', 'marital', 'maritime', 'mark', 'marker', 'market', 'marketbase', 'marketbased', 'marketdelivere', 'marketdominant', 'marketdriven', 'marketing', 'marketmaker', 'marketplace', 'marking', 'marnelacoquette', 'marneslacoquette', 'marquessbarry', 'marquez', 'marriage', 'married', 'marrow', 'marry', 'marshal', 'marshall', 'mart', 'marti', 'martin', 'martinez', 'martinsburg', 'martyrs', 'mary', 'maryland', 'masaryk', 'mask', 'masonry', 'mass', 'massachusetts', 'massage', 'massive', 'mastectomy', 'master', 'mastic', 'mat', 'match', 'matchebenashshewish', 'matching', 'material', 'materially', 'maternal', 'maternity', 'math', 'mathematic', 'mathematics', 'mather', 'mattaponi', 'matter', 'matthew', 'mature', 'maturity', 'maui', 'max', 'maximize', 'maximum', 'maya', 'mayaguez', 'mayflower', 'mayo', 'mayor', 'mcallister', 'mcauliffe', 'mccarthy', 'mcclellan', 'mccloughan', 'mccoy', 'mccraw', 'mcelroy', 'mcginnis', 'mcguire', 'mckinley', 'mckinney', 'mckinneyvento', 'mcmath', 'mcnair', 'mcnerney', 'mcpaethylhexyl', 'mcpb', 'mdh', 'mead', 'meadowlark', 'meal', 'mean', 'meaning', 'meaningful', 'means', 'meansteste', 'meanstested', 'measure', 'measurement', 'meat', 'mechanic', 'mechanical', 'mechanism', 'mechanized', 'mechem', 'medal', 'medallion', 'medevac', 'medgar', 'media', 'median', 'mediation', 'medicaid', 'medicaideligible', 'medical', 'medicallegal', 'medically', 'medicalmarijuanarelate', 'medicalvocational', 'medicare', 'medicaredependent', 'medicareeligible', 'medicaremedicaid', 'medication', 'medicationassisted', 'medicinal', 'medicine', 'medigap', 'mediterranean', 'medium', 'mediumduty', 'mediumsized', 'medullary', 'meet', 'meeting', 'mefenoxam', 'mefenpyr', 'mefenpyrdiethyl', 'megahertz', 'megawatt', 'megawatts', 'megellas', 'mejia', 'mekong', 'melamineformaldehyde', 'melanie', 'meline', 'melody', 'melone', 'melt', 'melville', 'melvoid', 'member', 'memberdesignate', 'membership', 'memoranda', 'memorandum', 'memorial', 'memory', 'men', 'mendez', 'mendoza', 'mens', 'menstrual', 'mental', 'mentally', 'menteur', 'menthold', 'mentor', 'mentoring', 'mentorprotege', 'mer', 'merced', 'merchandise', 'merchant', 'mercury', 'mercy', 'merely', 'merge', 'merger', 'meriam', 'meridian', 'merit', 'meritless', 'merrill', 'mesa', 'mesamoll', 'mescalero', 'mesh', 'mesosulfuronmethyl', 'mesothelioma', 'mesotrione', 'mesquite', 'message', 'messaging', 'metabolic', 'metadata', 'metal', 'metalaxyl', 'metalaxylm', 'metallic', 'meter', 'methacrylate', 'methacrylateacrylonitrile', 'methacrylic', 'methamphetamine', 'methanamine', 'methane', 'methanesulfonic', 'methidathion', 'method', 'methodology', 'methosulfate', 'methoxyacetate', 'methoxycarbonylterminate', 'methoxyfenozide', 'methoxylated', 'methoxymethyldiphenylamine', 'methoxymethyloxodihydrohtriazolylcarbonylaminosulfonylmethylthiophenecarboxylate', 'methoxyphenylnchlorocarbonyl', 'methoxypropanol', 'methoxytrimethyl', 'methyl', 'methylate', 'methylbenzoate', 'methylcarbamate', 'methylchlorophenoxyacetic', 'methylendianiline', 'methylenebis', 'methylenebishydroxymethyldioxoimidazolidiny', 'methylenebisisocyanatocyclohexane', 'methylenedioxymethamphetamine', 'methylethoxyphenol', 'methylethylidenebis', 'methylhexylester', 'methylimidazole', 'methylionone', 'methylmethoxymethylaminotriazine', 'methylmethylthiophenylmorpholinylci', 'methylmethylthiopropanal', 'methylnitrobenzenesulfonic', 'methyloxirane', 'methyloxopropenylamino', 'methylpentene', 'methylphenoxyphenyl', 'methylphenyldglucitol', 'methylpropylidene', 'methylpyrazolylmethanone', 'methylpyridinedicarboxylic', 'methyltrifluoro', 'methyltrimethylcyclohexenylbutenonemethylionone', 'methylylbenzyl', 'metric', 'metropolis', 'metropolitan', 'metrorail', 'mewuk', 'mexican', 'mexicanamericans', 'mexicanbase', 'mexico', 'mexicos', 'mga', 'mgda', 'miami', 'miamidade', 'micaela', 'michael', 'michigan', 'mickey', 'micro', 'microbead', 'microbusinesse', 'microcystin', 'microenterprise', 'microfarad', 'microfinance', 'microfleece', 'microhydro', 'microlab', 'microloan', 'micronesia', 'micronretention', 'microoffering', 'microphone', 'microporous', 'micropurchase', 'microscope', 'microturbine', 'midatlantic', 'midcourse', 'middle', 'middleclass', 'middleincome', 'middlemarket', 'midland', 'midlevel', 'midnight', 'midshipman', 'midsize', 'midsized', 'midway', 'midyear', 'mifflin', 'migrate', 'migration', 'migratory', 'miguel', 'mikva', 'mil', 'mild', 'mile', 'mileage', 'mileagebased', 'miles', 'milestone', 'militarization', 'military', 'militaryconnected', 'milk', 'mill', 'mille', 'millendermcdonald', 'millennium', 'miller', 'millimeter', 'million', 'millionaire', 'milton', 'mind', 'mindset', 'miner', 'mineral', 'mineta', 'minimal', 'minimally', 'minimis', 'minimization', 'minimize', 'minimum', 'mining', 'miningrelated', 'minister', 'ministry', 'minnesota', 'minor', 'minority', 'minorityowned', 'mint', 'minting', 'minus', 'minute', 'minuteman', 'miramar', 'misalign', 'misalignment', 'misappropriate', 'misbrande', 'misbranded', 'misclassifie', 'misclassify', 'misconduct', 'misconstruction', 'misdemeanor', 'misfile', 'mishandle', 'misleading', 'misrepresentation', 'miss', 'missile', 'missing', 'mission', 'missions', 'missisquoi', 'mississippi', 'missouri', 'mistreat', 'misuse', 'misused', 'mitigate', 'mitigation', 'miwok', 'mix', 'mixed', 'mixedincome', 'mixture', 'mixure', 'mj', 'mjaftime', 'mkoian', 'mkoyan', 'mm', 'mni', 'mobile', 'mobility', 'mobilization', 'modacrylic', 'modality', 'mode', 'model', 'modeling', 'moderate', 'moderatetosevere', 'moderatevalue', 'modern', 'modernday', 'modernization', 'modernize', 'modernized', 'modification', 'modify', 'modoc', 'modular', 'module', 'modules', 'moerlins', 'mohamed', 'mohave', 'mohawk', 'moisture', 'mojaidou', 'mojave', 'mok', 'molalla', 'mold', 'molding', 'moldova', 'molina', 'mollusk', 'momentum', 'momo', 'monacan', 'monarch', 'monday', 'monetary', 'money', 'monica', 'monie', 'monitor', 'monitoring', 'monoammonium', 'monobu', 'monobutyl', 'monocarboxylic', 'monochloroacetate', 'monohydrate', 'monome', 'monomer', 'monomethylether', 'monomoy', 'mononitride', 'monosilicate', 'monoxide', 'monroe', 'montalto', 'montana', 'montauk', 'montford', 'montgomery', 'month', 'monthly', 'monument', 'monuments', 'moody', 'moon', 'moore', 'moose', 'moral', 'moran', 'moratorium', 'moratoriumexcepted', 'morbidity', 'moreno', 'morning', 'morocco', 'morongo', 'morrill', 'mortality', 'mortgage', 'mortgagebacke', 'mortgagebacked', 'mortgagee', 'mortgagor', 'mortuary', 'moscow', 'mosquito', 'mosquitoborne', 'mother', 'mothers', 'motility', 'motion', 'motivated', 'motley', 'motor', 'motorcoach', 'motorcycle', 'motordriven', 'motorist', 'motorize', 'motorsport', 'motorvehicle', 'moultrie', 'mount', 'mountain', 'mountains', 'mountainsdesert', 'mounting', 'mouse', 'movement', 'movie', 'moving', 'mr', 'mracek', 'ms', 'msa', 'msas', 'msdrg', 'mt', 'mtbis', 'muammar', 'muck', 'mucochloric', 'muderabilia', 'mueller', 'muhammad', 'muir', 'mulberry', 'mule', 'mulford', 'mullite', 'multiagency', 'multicampus', 'multicandidate', 'multichannel', 'multidirectional', 'multiemployer', 'multifamily', 'multilateral', 'multiline', 'multilingual', 'multimodal', 'multinational', 'multiple', 'multipurpose', 'multirole', 'multispecie', 'multistate', 'multiyear', 'municipal', 'municipality', 'munition', 'munro', 'murder', 'murray', 'muscenone', 'muscogee', 'muscular', 'musculoskeletal', 'museum', 'musial', 'music', 'musical', 'muslim', 'mussel', 'musselshelljudith', 'mussie', 'mustard', 'mutilation', 'mutual', 'mutually', 'mychal', 'myclobutanil', 'myle', 'myra', 'myron', 'mystery', 'myung', 'n', 'naco', 'nadeem', 'nafta', 'naftali', 'nail', 'naismith', 'naji', 'naloxone', 'nameplate', 'nanoretention', 'nanotechnology', 'nansemond', 'naphtalenedisulfonic', 'naphthalenedisulfonic', 'naphthalenesulfonic', 'naphthyl', 'napolitano', 'narcotic', 'narrow', 'narrowband', 'nas', 'nasa', 'nasheed', 'nashua', 'nashville', 'natchez', 'nathan', 'nathaniel', 'nation', 'nationa', 'national', 'nationalism', 'nationality', 'nationally', 'nations', 'nationwide', 'native', 'nativeborn', 'nato', 'natural', 'naturalization', 'naturalize', 'nature', 'naugatuck', 'nautical', 'navajo', 'naval', 'navarro', 'navigable', 'navigate', 'navigation', 'navigational', 'navigator', 'navy', 'nayely', 'nazi', 'nazie', 'nazis', 'nbenzenesulfonamidato', 'nbistetramethylpiperidinyl', 'nbutylbenzisothiazolinone', 'ncaa', 'nchlorophenylhpyrazolyloxymethylphenyl', 'ncs', 'nd', 'ndichlorobenzidine', 'ndichlorophenylnndimethylurea', 'ndimethylmethyloxopropenylamino', 'ne', 'near', 'nebo', 'nebraska', 'nebulizer', 'necessary', 'necessity', 'neche', 'necklace', 'nee', 'need', 'needbase', 'needle', 'needsbased', 'needy', 'negatively', 'neglect', 'negligence', 'negotiable', 'negotiate', 'negotiating', 'negotiation', 'neighbor', 'neighborhood', 'neighboring', 'neil', 'nellis', 'nelson', 'nem', 'neon', 'neonatal', 'neonate', 'neononyl', 'neotropical', 'nepal', 'nery', 'ness', 'net', 'nethoxyphenylnisodecylphenyl', 'nethylnbenzyl', 'nethylnsulfobenzylaniline', 'nettleton', 'network', 'networking', 'neurological', 'neuromyelitis', 'neurosciencerelated', 'neurotechnologie', 'neutral', 'neutrality', 'neutralize', 'nevada', 'nevin', 'nevis', 'new', 'newark', 'newborn', 'newlove', 'newly', 'newlypassed', 'news', 'newspaper', 'newtown', 'nexamethylene', 'nextgen', 'nextofkin', 'nexus', 'nfluorophenylhydroxynmethylethylacetamide', 'niblack', 'nic', 'nicaragua', 'nicholas', 'nichols', 'nick', 'nickelmetal', 'nicklaus', 'nicky', 'nicobifen', 'nicola', 'nicotine', 'nigeria', 'night', 'nighttime', 'nih', 'nikanorov', 'nineteenth', 'ninth', 'nisqually', 'nist', 'nitrate', 'nitro', 'nitroaniline', 'nitroanthraquinone', 'nitrobenzoyl', 'nitrocellulose', 'nitrous', 'njeri', 'nmethoxycarbanose', 'nmethoxymethylphenylmethylpiperidinylnphenylpr', 'nmethoxymethylphenylmethylpiperidinylnphenylpropanamideethanedioate', 'nmethoxymethylthio', 'nmethylcarbamate', 'nnbisaminoethylethanediamine', 'nnbistetramethylpiperidinyl', 'nndichlorophenylnndimethylurea', 'nndimethyl', 'nndimethylnoctadecylsp', 'nndimethylnoctadecylsphhphthalocyaninesulfonatoknknkn', 'nnnbis', 'nnnhexanediylbisditertbutylhydroxyphenylpropionamide', 'nnnnn', 'nnntrioxotriazinehhhtriyltrismethylenetrimetylcyclohexanediyltrishexahydrooxohazepinecarboxamide', 'noaa', 'nobel', 'node', 'noexcuse', 'noil', 'noise', 'noload', 'nominal', 'nominating', 'nomination', 'nominee', 'nonaccrual', 'nonadjudicate', 'nonadmitted', 'nonafluorobutanesulfonic', 'nonagricultural', 'nonapplication', 'nonattainment', 'nonavailability', 'nonbinde', 'nonbusiness', 'noncapital', 'noncitizen', 'noncoal', 'noncola', 'noncommercial', 'noncommunicable', 'noncompetitive', 'noncompliance', 'noncontiguous', 'noncore', 'noncorporate', 'noncoverage', 'nondefense', 'nondepartment', 'nondepository', 'nondisclosure', 'nondiscrimination', 'nondiscriminatory', 'nondomesticate', 'nondriving', 'nondsh', 'nonduty', 'nonedible', 'nonelderly', 'nonemergency', 'nonemployee', 'nonenforcement', 'nonenumerate', 'nonessential', 'nonexclusive', 'nonfederal', 'nonfederally', 'nonfinancial', 'nonforeign', 'nonformulary', 'nongovernment', 'nongovernmental', 'nonhomelandsecurity', 'nonhospital', 'nonhuman', 'nonhybrid', 'nonimmigrant', 'noninmate', 'noninsure', 'noninsured', 'noninterest', 'nonitemizer', 'nonjudicial', 'nonlethal', 'nonletter', 'nonlicensee', 'nonlisted', 'nonlocke', 'nonmanufacturer', 'nonmarket', 'nonmedical', 'nonmilitary', 'nonminister', 'nonmotorize', 'nonnative', 'nonnato', 'nonnavigability', 'nonnuclear', 'nonowner', 'nonparticipation', 'nonpayment', 'nonpoint', 'nonpostal', 'nonpreferre', 'nonprescription', 'nonpriority', 'nonprofit', 'nonprohibite', 'nonproject', 'nonproliferation', 'nonprovider', 'nonpublic', 'nonrecognition', 'nonrefundable', 'nonregular', 'nonregulate', 'nonregulatory', 'nonresident', 'nonretaliation', 'nonrural', 'nonsecurity', 'nonserviceconnecte', 'nonsignificant', 'nonstate', 'nonsystemic', 'nontariff', 'nontax', 'nontaxable', 'nontaxed', 'nontheistic', 'nonthreat', 'nontoric', 'nontraditional', 'nonveteransaffairs', 'nonviolence', 'nonviolent', 'nonvoting', 'nonwilderness', 'nonwomens', 'nonwoven', 'norm', 'normal', 'normalcost', 'normally', 'norman', 'norte', 'north', 'northeast', 'northeastern', 'northern', 'northport', 'northw', 'northwest', 'norway', 'notation', 'note', 'notforprofit', 'notice', 'notification', 'notify', 'notwithstanding', 'nourishment', 'november', 'novo', 'noxious', 'noxoimidazolidineylethylmethylacrylamide', 'npde', 'nphenylntrichloromethylthio', 'nphenylpphenylenediamine', 'npropyl', 'ntia', 'ntsb', 'nuclear', 'nucleararmed', 'nucleartestban', 'nugent', 'nuisance', 'nullify', 'number', 'numeric', 'numerical', 'nurse', 'nursemidwive', 'nursery', 'nursetopatient', 'nursing', 'nurturing', 'nutrient', 'nutrientdense', 'nutrition', 'nutritional', 'nutritious', 'nutterville', 'nuys', 'nw', 'nye', 'nylon', 'nylostab', 'o', 'oahu', 'oak', 'oakdale', 'oas', 'oath', 'obamacare', 'obamas', 'oberstar', 'obesity', 'object', 'objection', 'objective', 'objectivity', 'obligate', 'obligated', 'obligation', 'obrien', 'observance', 'observation', 'observational', 'observe', 'observer', 'obsolete', 'obstacle', 'obstetric', 'obstetrical', 'obstruct', 'obstruction', 'obtain', 'occupancy', 'occupation', 'occupational', 'occupy', 'occur', 'occurrence', 'occurring', 'ocean', 'oceanic', 'ocmulgee', 'ocresolepichlorohydrinformaldehyde', 'octadecanaminium', 'octadecenyl', 'octahydrotetramethylnaphthalenylethanone', 'octanoate', 'octanoyl', 'october', 'odrflv', 'odyssey', 'oecd', 'offbase', 'offduty', 'offender', 'offense', 'offer', 'offering', 'offeror', 'offhighway', 'office', 'officer', 'official', 'officially', 'officiallyissue', 'offload', 'offreservation', 'offroad', 'offset', 'offshore', 'offshoring', 'offsystem', 'offyard', 'ofm', 'ogahpah', 'ohio', 'ohydroxyk', 'oil', 'oilfield', 'oilheat', 'oilproduce', 'oklahoma', 'old', 'oldage', 'oleo', 'oleoresin', 'olgoonik', 'oline', 'olivia', 'olsin', 'olympia', 'olympic', 'olympics', 'omaha', 'omar', 'omb', 'ombudsman', 'omission', 'omnibus', 'onaphthalenyldiazenylk', 'onboard', 'oncampus', 'oncologist', 'oncology', 'ondemand', 'onduty', 'oneal', 'onecent', 'oneday', 'onehalf', 'oneill', 'onesource', 'onestop', 'onetime', 'oneyear', 'ongoing', 'onitrophenol', 'online', 'onmethylcarbamoyloxime', 'onshore', 'onsite', 'onslow', 'ontario', 'onthejob', 'oodham', 'opanamideethanedioate', 'open', 'openair', 'opener', 'opening', 'openloop', 'openly', 'opensource', 'openwork', 'operable', 'operate', 'operati', 'operating', 'operation', 'operational', 'operations', 'operationsrelate', 'operative', 'operator', 'ophthalmologic', 'opiate', 'opiates', 'opinion', 'opioid', 'opm', 'opportunitie', 'opportunity', 'oppose', 'opposition', 'oppression', 'oppressive', 'opt', 'optica', 'optical', 'optimal', 'optimization', 'option', 'optional', 'optometrist', 'optout', 'oral', 'oralonly', 'orange', 'orbit', 'orca', 'orcas', 'ordain', 'order', 'orderly', 'ordinance', 'ordinary', 'ore', 'oregon', 'organ', 'organic', 'organism', 'organization', 'organizational', 'organize', 'organized', 'orient', 'oriental', 'orientation', 'origin', 'original', 'originally', 'originate', 'originating', 'origination', 'originator', 'orleans', 'orphan', 'orthotic', 'orthotoluidine', 'orysya', 'oryzalin', 'osama', 'oscar', 'oscilloscope', 'osi', 'osip', 'oslin', 'oss', 'osteopathic', 'osteoporosis', 'ot', 'oth', 'othe', 'otis', 'otter', 'ouachita', 'ouray', 'outage', 'outbreak', 'outcome', 'outcomes', 'outcomesbase', 'outdate', 'outdated', 'outdoor', 'outdoors', 'outer', 'outerwear', 'outlay', 'outlook', 'outlying', 'outofdate', 'outofpocket', 'outofschool', 'outofschooltime', 'outofstate', 'outpatient', 'output', 'outreach', 'outside', 'outsourcing', 'outstanding', 'ovarian', 'oven', 'overall', 'overbroad', 'overcome', 'overcriminalization', 'overdose', 'overdraft', 'overfished', 'overflow', 'overgrown', 'overhaul', 'overincome', 'overland', 'overlap', 'overlook', 'overnight', 'overpayment', 'overproduction', 'overreach', 'overrun', 'overseas', 'oversee', 'oversight', 'overspend', 'overstay', 'overthecounter', 'overtheroad', 'overtime', 'overweight', 'overweightobesity', 'owe', 'owner', 'owneroccupied', 'ownership', 'owyhee', 'oxadiazon', 'oxalic', 'oxepanone', 'oxford', 'oxide', 'oxidetriethylenetetramine', 'oxidize', 'oxime', 'oxirane', 'oxiranemethanol', 'oxley', 'oxnard', 'oxo', 'oxohindolylidenedihydro', 'oxoptolylbutyric', 'oxybisphenoxarsine', 'oxychloride', 'oxycodone', 'oxydianiline', 'oxydiphthalic', 'oxyethanediyl', 'oxyfluorfen', 'oxygen', 'oxyphenol', 'oyster', 'ozark', 'ozone', 'p', 'pablo', 'pac', 'pace', 'pacific', 'pack', 'package', 'packaging', 'packer', 'packet', 'packing', 'paclobutrazol', 'pad', 'padres', 'paidoff', 'pain', 'paincapable', 'painrelate', 'paint', 'painting', 'pair', 'paiute', 'pajarita', 'pakistan', 'pakistani', 'palau', 'palestine', 'palestinian', 'palliative', 'palm', 'pama', 'paminobenzamide', 'pamphlet', 'pan', 'panama', 'panamapacific', 'pandemic', 'panel', 'paper', 'paperbase', 'paperwork', 'para', 'paraffin', 'paraffinic', 'parahydroxybenzoic', 'paralympic', 'paralympics', 'paramethoxyphenol', 'paramilitary', 'paraprofessional', 'paraquat', 'parasite', 'parasitic', 'parcel', 'parent', 'parental', 'parenthetical', 'parenthood', 'parenting', 'parentinlaw', 'parimutuel', 'paring', 'parity', 'park', 'parker', 'parking', 'parkinson', 'parkway', 'parlak', 'parole', 'parsonage', 'partial', 'partially', 'participant', 'participate', 'participation', 'particle', 'particular', 'particularly', 'particulate', 'partner', 'partnership', 'parttime', 'party', 'pascagoula', 'pascua', 'pasker', 'paso', 'pass', 'passage', 'passenger', 'passive', 'passport', 'passthrough', 'passthru', 'password', 'past', 'pasta', 'pastdue', 'paste', 'pastime', 'pastor', 'pat', 'patagonia', 'patchwork', 'patent', 'patentable', 'patented', 'paterson', 'path', 'pathe', 'pathenos', 'pathogen', 'pathological', 'pathologist', 'pathology', 'pathway', 'patient', 'patientcentere', 'patricia', 'patrick', 'patriot', 'patriotic', 'patrol', 'pattern', 'paul', 'pavement', 'pawcatuck', 'pay', 'payable', 'payasyougo', 'payasyougoact', 'payday', 'payee', 'payer', 'paygo', 'paying', 'payment', 'payonly', 'payor', 'payroll', 'paytoplay', 'paz', 'pbgc', 'pcbtf', 'pcip', 'pcm', 'pcp', 'pcresidinesulfonic', 'pdichlorobenzene', 'pdodecylphenol', 'pdp', 'pe', 'peace', 'peaceful', 'peacefully', 'peacekeeping', 'peak', 'peanut', 'pearson', 'pecan', 'pechanga', 'pecuniary', 'pedestrian', 'pediatric', 'pedicure', 'pedophile', 'peer', 'peerreviewed', 'peersupport', 'peertopeer', 'pell', 'pellet', 'pelt', 'pen', 'penal', 'penalize', 'penalty', 'penaltyfree', 'penbotec', 'pencil', 'pende', 'pendleton', 'penetrate', 'penetrating', 'penflufen', 'peninsula', 'penn', 'pennsylvania', 'pension', 'pentaerythritol', 'pentagon', 'pentamethyl', 'pentammine', 'pentanediol', 'penthiopyrad', 'people', 'peoples', 'peoria', 'pepion', 'pepper', 'pepperoncini', 'pepq', 'peptide', 'perceive', 'percent', 'percentage', 'perception', 'perchlorate', 'percountry', 'pere', 'perennial', 'peres', 'perfect', 'perfiscal', 'perfluorinated', 'perfluoroalkoxy', 'perfluoroalkyl', 'perfluorobutanesulfonyl', 'perfluorocarbon', 'perfluorocarbonalkane', 'perfluoroctanesulfonate', 'perfluoromorpholine', 'perform', 'performance', 'performancebase', 'performancebased', 'performanceenhance', 'performer', 'perimeter', 'perincident', 'period', 'periodic', 'periodically', 'perish', 'perkin', 'perkins', 'permanency', 'permanent', 'permanently', 'permethrin', 'permissible', 'permission', 'permissive', 'permit', 'permittee', 'permitting', 'peroxide', 'peroxydicarbonate', 'perpetrate', 'perpetration', 'perpetrator', 'perpetuity', 'perryville', 'persecute', 'persecution', 'perseverance', 'pershe', 'persian', 'persistent', 'persistently', 'person', 'personal', 'personality', 'personalized', 'personally', 'personallyowne', 'personcentere', 'personnel', 'personspecific', 'pertain', 'pervasive', 'pest', 'pesticide', 'pet', 'peter', 'petersburg', 'petit', 'petition', 'petrel', 'petroleum', 'petty', 'pfa', 'pfc', 'pharmaceutical', 'pharmacist', 'pharmacy', 'phase', 'phasedin', 'phasedown', 'phasein', 'phaseout', 'phba', 'phd', 'phenate', 'phencyclidine', 'phenmedipham', 'phenol', 'phenolic', 'phenyl', 'phenylaminooxazolidinedionefamoxadone', 'phenylbistrimethylbenzoyl', 'phenylethyl', 'phenylhbenzimidazolesulfonic', 'phenylmethyl', 'phenylphenol', 'phenylpiperidyl', 'phenylpyridyl', 'phenylsufamoylurea', 'phenyltetramentyldioxaborolanylquin', 'philadelphia', 'philanthropic', 'philanthropy', 'philip', 'philippine', 'philippines', 'phillip', 'philmore', 'phoenix', 'phone', 'phosphate', 'phosphatetin', 'phosphine', 'phosphinic', 'phosphinoyl', 'phosphonic', 'phosphor', 'phosphorescent', 'phosphoric', 'phosphorous', 'phosphorus', 'photo', 'photograph', 'photographer', 'photographic', 'photography', 'photomask', 'photovoltaic', 'phrase', 'phthalate', 'phthalimidopropionaldehyde', 'phydroxybenzoic', 'phyllis', 'physical', 'physically', 'physician', 'physicianadministere', 'physicianresidenttogeneralpopulation', 'physicist', 'physics', 'physiological', 'phytosanitary', 'pick', 'picoxystrobin', 'picture', 'pierce', 'pierre', 'pierson', 'piestewa', 'pigment', 'pigskin', 'pike', 'pikes', 'pile', 'pilot', 'pima', 'pin', 'pinal', 'pine', 'pinellas', 'pinnacles', 'pinoxaden', 'pinson', 'pinyonjuniper', 'pioneer', 'pioneering', 'pipe', 'pipeline', 'piperazine', 'piperazinyl', 'piracy', 'pistol', 'piston', 'pit', 'pittmanrobertson', 'pittsburgh', 'pittston', 'pl', 'pla', 'place', 'placebos', 'placement', 'placental', 'plain', 'plainfield', 'plaintiff', 'plaiting', 'plan', 'planet', 'planning', 'plant', 'planting', 'plaque', 'plascencia', 'plastic', 'plate', 'plateau', 'platform', 'platoon', 'play', 'playback', 'player', 'playground', 'playing', 'playoff', 'plaza', 'pleasant', 'pleasure', 'pledge', 'plot', 'plugin', 'plum', 'plumbing', 'plume', 'plurilateral', 'plus', 'plymouth', 'pneumoconiosis', 'pnitrobenzoic', 'pnitrotoluene', 'podiatric', 'podiatrist', 'point', 'pointer', 'poison', 'poker', 'polar', 'polarized', 'pole', 'police', 'policing', 'policy', 'policyholder', 'policymaking', 'politic', 'political', 'politically', 'politicallyoriente', 'politkovskaya', 'polk', 'poll', 'pollinator', 'polling', 'pollock', 'pollulte', 'pollutant', 'polluter', 'pollution', 'poly', 'polyacrylonitrile', 'polyalkene', 'polyamide', 'polybiscyanatophenylpropane', 'polycrystalline', 'polydiisocyanatohexaneblockpolyethyleneblockpolypropylene', 'polydivinylbenzene', 'polyester', 'polyethylene', 'polyethylenepolypropylene', 'polyfluoroalkyl', 'polygraph', 'polyisobutoxy', 'polyisocyanate', 'polylmer', 'polymd', 'polymer', 'polymerbased', 'polymeric', 'polymerize', 'polymethyl', 'polyoxymethylenepolyoxyethylene', 'polypale', 'polyphosphate', 'polypropene', 'polypropylene', 'polystyrenecomethyl', 'polysulfide', 'polytetrafluoroethylene', 'polytetramethylene', 'polytrauma', 'polyureaformaldehydeisobutyraldehyde', 'polyurethane', 'polyvinyl', 'polyvinylacetate', 'pond', 'pontchartrain', 'pony', 'pool', 'poor', 'poorest', 'pope', 'popularly', 'populate', 'population', 'porcelain', 'porcupine', 'pork', 'pornographic', 'pornography', 'port', 'portability', 'portable', 'portage', 'portal', 'portaltoportal', 'portfolio', 'portion', 'portrait', 'ports', 'portugal', 'pose', 'position', 'positionindicate', 'positive', 'possess', 'possession', 'possible', 'post', 'postacute', 'postadoptive', 'postage', 'postal', 'postassad', 'postaward', 'postcoital', 'postconviction', 'postdeployment', 'postdeploymentmobilization', 'postdoctoral', 'postearthquake', 'postemployment', 'postfire', 'postfix', 'posthumous', 'posthumously', 'posting', 'postkatrina', 'postmark', 'postmarket', 'postmastectomy', 'postmaster', 'postpartum', 'postpone', 'postseason', 'postsecondary', 'postseizure', 'postshutdown', 'posttraumatic', 'posture', 'pot', 'potable', 'potassium', 'potential', 'potentially', 'potomac', 'pottawatami', 'pottawatomi', 'poultry', 'pound', 'poverty', 'powder', 'powell', 'power', 'powerdriven', 'powerhouse', 'powerplant', 'powmia', 'pp', 'ppaca', 'practicable', 'practical', 'practice', 'practices', 'practitioner', 'prairie', 'prairiechicken', 'pratt', 'pray', 'prayer', 'pre', 'preaca', 'preapprenticeship', 'preborn', 'precede', 'precedence', 'precheck', 'precious', 'preciousmetal', 'precision', 'preclaim', 'preclearance', 'preclude', 'precondition', 'predation', 'predator', 'predatory', 'predecessor', 'predeployment', 'prediabete', 'predicate', 'predict', 'predictability', 'predictable', 'prediction', 'predisaster', 'predispute', 'predominantly', 'preelection', 'preeminent', 'preemployment', 'preempt', 'preemption', 'preexist', 'preexisting', 'prefer', 'preference', 'preferential', 'preferred', 'prefille', 'prefix', 'preformed', 'prefund', 'prefunde', 'pregnancy', 'pregnancyrelated', 'pregnant', 'prejudice', 'prekindergarten', 'preleasing', 'prelicense', 'preloade', 'premarket', 'premature', 'prematurity', 'premed', 'premier', 'premium', 'prenatal', 'prepaid', 'preparation', 'preparatory', 'prepare', 'prepared', 'preparedness', 'preparer', 'prepay', 'prepayment', 'preplanne', 'preprepare', 'prerecord', 'prerecorded', 'prerequisite', 'preretirement', 'prerogative', 'prescott', 'prescribe', 'prescribed', 'prescriber', 'prescribing', 'prescription', 'presence', 'present', 'presentation', 'presentment', 'preseparation', 'preservation', 'preservative', 'preserve', 'preside', 'president', 'presidentelect', 'presidential', 'presidentselect', 'press', 'pressure', 'presume', 'presumption', 'pretax', 'pretense', 'preterm', 'pretrial', 'prevail', 'prevalence', 'prevent', 'preventable', 'prevention', 'preventive', 'preventol', 'previous', 'previously', 'pribilof', 'price', 'pricealtere', 'pricediscovery', 'pricegouge', 'pricing', 'priestap', 'primacy', 'primarily', 'primary', 'primate', 'prime', 'primid', 'princeton', 'principal', 'principle', 'prineville', 'print', 'printer', 'printing', 'printout', 'prior', 'prioritization', 'prioritize', 'priority', 'prison', 'prisoner', 'prisons', 'privacy', 'privat', 'private', 'privately', 'privatepublic', 'privatization', 'privatized', 'privilege', 'prize', 'pro', 'probable', 'probation', 'probationary', 'probationer', 'problem', 'problematic', 'procedural', 'procedure', 'proceed', 'proceeding', 'process', 'processing', 'processor', 'procure', 'procurement', 'prodiamine', 'produce', 'producer', 'product', 'productepichlorohydrinformaldehyde', 'production', 'productive', 'productivity', 'products', 'profenofos', 'profession', 'professional', 'proficiency', 'proficient', 'profile', 'profiling', 'profit', 'profitability', 'progenitor', 'program', 'programing', 'programmable', 'programmatic', 'programmer', 'programming', 'programrelate', 'programs', 'progress', 'progressive', 'prohexadione', 'prohibit', 'prohibited', 'prohibition', 'project', 'projectbased', 'projectile', 'projection', 'projector', 'proliferation', 'prominently', 'promise', 'promised', 'promising', 'promote', 'promotion', 'promotional', 'prompt', 'promptly', 'promulgate', 'proof', 'propaganda', 'propagation', 'propane', 'propanediaminium', 'propanediol', 'propanetriol', 'propanoic', 'propanone', 'propanonesulfonic', 'propargite', 'propenamide', 'propene', 'propenoic', 'propenyl', 'propenyloxyl', 'proper', 'properly', 'property', 'prophylaxis', 'propiconazole', 'propionate', 'propionic', 'proportional', 'proposal', 'propose', 'proposed', 'propoxur', 'propoxycarbazonesodium', 'proprietary', 'proprietor', 'propulsion', 'propyl', 'propylbenzaldehyde', 'propylene', 'propyzamide', 'prosecute', 'prosecution', 'prosecutor', 'prosecutorial', 'prosp', 'prospect', 'prospective', 'prospectively', 'prosperity', 'prosperous', 'prostate', 'prosthesis', 'prosthetic', 'prosulfuron', 'protect', 'protection', 'protective', 'protector', 'protein', 'protest', 'prothioconazole', 'protocol', 'prototype', 'provable', 'prove', 'provenance', 'provide', 'providence', 'provider', 'provision', 'provisional', 'provo', 'proximately', 'proxy', 'prudence', 'prudent', 'prudential', 'ps', 'psychiatric', 'psychiatrist', 'psychological', 'psychologist', 'psychology', 'psychotropic', 'ptoluenesulfonamide', 'ptoluenesulfonyl', 'ptoluidine', 'public', 'publically', 'publication', 'publicity', 'publicize', 'publicly', 'publicprivate', 'publish', 'publishing', 'pueblo', 'puerto', 'puget', 'pulaski', 'pullman', 'pulmonary', 'pulse', 'pump', 'punching', 'punish', 'punishment', 'punitive', 'puppy', 'purchase', 'purchaser', 'purchasing', 'pureed', 'purity', 'purp', 'purple', 'purpo', 'purport', 'purportedly', 'purpose', 'purposebuilt', 'pursuant', 'pursue', 'pursuit', 'pushpolling', 'putter', 'pw', 'pymetrozine', 'pyraclostrobin', 'pyraflufenethyl', 'pyramid', 'pyrasulfotole', 'pyridinecarbonitrile', 'pyrimethanil', 'pyrithiobacsodium', 'pyroxasulfone', 'pyrrolidone', 'pyruvate', 'q', 'qaddafi', 'qaeda', 'qm', 'qods', 'quadrennial', 'quagga', 'qualification', 'qualifie', 'qualified', 'qualify', 'qualifying', 'qualitative', 'quality', 'quantification', 'quantify', 'quantitative', 'quantity', 'quapaw', 'quarantine', 'quarter', 'quarterly', 'queen', 'question', 'questionnaire', 'quickly', 'quiet', 'quinaldine', 'quinebaug', 'quinoline', 'quinolinedicarboxylic', 'quinolone', 'quintec', 'quitclaim', 'quorum', 'quota', 'r', 'rabbi', 'race', 'rachel', 'racial', 'racketeering', 'radar', 'radial', 'radiation', 'radio', 'radioactive', 'radiographer', 'radiography', 'radioisotopic', 'radiological', 'radiologist', 'radiology', 'radon', 'rafael', 'raffle', 'raider', 'rail', 'railroad', 'railway', 'rainy', 'raise', 'raisin', 'raleigh', 'ramirez', 'ramon', 'ramona', 'ramos', 'ranch', 'rancher', 'rancheria', 'random', 'randy', 'range', 'rangeland', 'ranger', 'rangewide', 'rank', 'rankin', 'raoul', 'rape', 'rapid', 'rapids', 'rappahannock', 'rare', 'rareearth', 'rat', 'rata', 'ratably', 'rate', 'rateofreturn', 'ratepayer', 'ratesette', 'ratification', 'ratify', 'rating', 'ratio', 'ration', 'rational', 'rationale', 'rationalization', 'rattlesnake', 'raul', 'ravage', 'ravenel', 'raw', 'raymond', 'raymonde', 'rayon', 'rd', 'rdocs', 'rea', 'reach', 'reaction', 'reactive', 'reactor', 'reade', 'reader', 'readily', 'readiness', 'reading', 'readjustment', 'readmission', 'ready', 'readytolearn', 'reaffirm', 'reagan', 'real', 'realign', 'realignment', 'realization', 'realize', 'reallocate', 'reallocation', 'realtime', 'reason', 'reasonable', 'reassert', 'reassignment', 'reauthorization', 'reauthorize', 'reauthorizing', 'rebase', 'rebasing', 'rebate', 'rebel', 'rebuild', 'rebuilding', 'recalcitrant', 'recalculate', 'recalculation', 'recall', 'recapitalization', 'recapture', 'receipt', 'receive', 'receiver', 'receivership', 'receiving', 'recent', 'recently', 'recess', 'recharge', 'recharging', 'recidivism', 'recipient', 'recipients', 'reciprocal', 'reciprocate', 'reciprocity', 'recitation', 'reckless', 'recklessness', 'reclaim', 'reclamation', 'reclassification', 'reclassify', 'recodify', 'recognition', 'recognize', 'recombinant', 'recommend', 'recommendation', 'recompete', 'reconcile', 'reconciliation', 'reconsider', 'reconsideration', 'reconstruct', 'reconstructed', 'reconstruction', 'reconveyance', 'record', 'recorded', 'recorder', 'recording', 'recordkeepe', 'recordkeeping', 'records', 'recount', 'recoup', 'recoupment', 'recover', 'recovery', 'recreation', 'recreational', 'recruit', 'recruiter', 'recruiting', 'recruitment', 'rectify', 'recur', 'recycle', 'recycled', 'recycling', 'red', 'redact', 'redeem', 'redeployment', 'redesign', 'redesignate', 'redesignation', 'redevelop', 'redevelopment', 'redirect', 'redistribute', 'redistribution', 'redistricte', 'redistricting', 'redress', 'redskin', 'reduce', 'reduced', 'reducedcost', 'reduction', 'redundant', 'reed', 'reef', 'reel', 'reemployment', 'reenfranchise', 'reenter', 'reentry', 'reestablish', 'reestablishment', 'reexport', 'reexportation', 'refer', 'reference', 'referendum', 'referral', 'refinance', 'refinanced', 'refinancing', 'refine', 'refined', 'refinery', 'reflect', 'reflective', 'reforestation', 'reform', 'refractive', 'refrain', 'refuel', 'refueling', 'refuge', 'refugee', 'refugeeparole', 'refugees', 'refugio', 'refund', 'refundable', 'refusal', 'refuse', 'reg', 'regain', 'regard', 'regardless', 'regenerative', 'regent', 'regime', 'regiment', 'region', 'regional', 'register', 'registered', 'registration', 'registry', 'regular', 'regularly', 'regulate', 'regulated', 'regulation', 'regulations', 'regulator', 'regulatory', 'rehabilitate', 'rehabilitating', 'rehabilitation', 'rehabilitative', 'rehearing', 'rehire', 'reid', 'reimbursable', 'reimburse', 'reimbursement', 'reimplementation', 'reimportation', 'reimpose', 'reinforce', 'reinstate', 'reinstatement', 'reinsurance', 'reintegration', 'reinterpretation', 'reinvest', 'reinveste', 'reinvestment', 'reinvigorate', 'reissuance', 'reissue', 'reit', 'reject', 'relate', 'related', 'relation', 'relations', 'relationship', 'relative', 'release', 'relevant', 'reliability', 'reliable', 'reliably', 'reliance', 'relic', 'relicensing', 'relief', 'relieve', 'reliever', 'religion', 'religious', 'relinquish', 'relinquishment', 'reliquidate', 'reliquidation', 'relocate', 'relocation', 'rely', 'remain', 'remainder', 'remand', 'remanufactured', 'remapping', 'remarkable', 'remedial', 'remediation', 'remedie', 'remedy', 'remembrance', 'remittance', 'remodel', 'remodeling', 'remote', 'remotely', 'remotelypilote', 'removable', 'removal', 'remove', 'remuneration', 'renal', 'rename', 'renaming', 'render', 'renegotiate', 'renew', 'renewable', 'renewal', 'reno', 'renounce', 'renourishment', 'renovate', 'renovating', 'renovation', 'rent', 'rental', 'rentalpurchase', 'renter', 'renunciation', 'reopen', 'reorganization', 'reorganize', 'reorient', 'repair', 'repatriate', 'repatriation', 'repay', 'repayable', 'repayer', 'repayment', 'repeal', 'repeat', 'repellant', 'replace', 'replacement', 'replant', 'replicate', 'report', 'reportable', 'reported', 'reporting', 'repose', 'repository', 'represent', 'representation', 'representational', 'representative', 'representatives', 'repressive', 'reprimand', 'reprocess', 'reproducible', 'reproduction', 'reproductive', 'reprogram', 'reprogramming', 'republic', 'repudiate', 'repurchasetomaturity', 'repurpose', 'repurposing', 'request', 'require', 'required', 'requirement', 'resale', 'rescheduling', 'rescind', 'rescission', 'rescue', 'research', 'researcher', 'resemble', 'reservation', 'reserve', 'reservist', 'reservoir', 'reset', 'resettle', 'resettlement', 'reside', 'residence', 'residency', 'resident', 'residential', 'residual', 'residue', 'resilience', 'resiliency', 'resilient', 'resin', 'resistance', 'resistant', 'resnick', 'resolution', 'resolve', 'resonance', 'resorcinol', 'resort', 'resource', 'resources', 'respect', 'respectful', 'respective', 'respectively', 'respite', 'respond', 'responder', 'responders', 'response', 'responsibility', 'responsible', 'responsibly', 'responsive', 'rest', 'restart', 'restaurant', 'restitution', 'restoration', 'restorative', 'restore', 'restrain', 'restraint', 'restrict', 'restricted', 'restriction', 'restrictive', 'restrictor', 'restroom', 'restructure', 'result', 'resume', 'resurvey', 'resurveye', 'resuscitation', 'retail', 'retailer', 'retain', 'retainer', 'retaliate', 'retaliation', 'retaliatory', 'retardant', 'retardation', 'retention', 'retire', 'retired', 'retiree', 'retirement', 'retitle', 'retract', 'retrain', 'retransfer', 'retransmission', 'retreat', 'retrieval', 'retrieve', 'retroactive', 'retroactively', 'retrocession', 'retrofit', 'retrofitting', 'retroreflectivity', 'retrospective', 'return', 'reunification', 'reunite', 'reusable', 'reuse', 'reutilization', 'revenue', 'reverend', 'reversal', 'reverse', 'reversion', 'reversionary', 'review', 'revise', 'revised', 'revision', 'revitalization', 'revitalize', 'revive', 'revocation', 'revoke', 'revolution', 'revolutionary', 'revolve', 'revolver', 'revolving', 'reward', 'rewarding', 'rey', 'reye', 'rezaian', 'rfe', 'rhinoceros', 'rhode', 'ri', 'ribbon', 'rican', 'rice', 'richard', 'richmond', 'rico', 'ride', 'rider', 'ridership', 'rideshare', 'ridge', 'rieck', 'riegle', 'rifle', 'right', 'rightofway', 'rights', 'rightsize', 'rightsofway', 'rigorous', 'riley', 'rim', 'ring', 'rio', 'riordan', 'rios', 'riot', 'rip', 'ripley', 'rise', 'risk', 'riskbase', 'riskbenefit', 'riskreduction', 'risksharing', 'riskweighte', 'riskweighted', 'risky', 'rita', 'river', 'rivera', 'rivercenter', 'riverdale', 'riverplanet', 'rivers', 'riverside', 'riverway', 'rms', 'ro', 'road', 'roadless', 'roadway', 'roaster', 'robert', 'roberto', 'roberts', 'robertson', 'robinhood', 'robocall', 'rochester', 'rock', 'rocket', 'rockie', 'rockingham', 'rocky', 'rod', 'roda', 'roddie', 'rodent', 'rodenticide', 'rodriguez', 'roger', 'rogers', 'rogue', 'rojas', 'role', 'rolled', 'rolling', 'rollover', 'rome', 'ronald', 'ronde', 'rood', 'roof', 'rooftop', 'room', 'roosevelt', 'root', 'rootstown', 'rosa', 'roscoe', 'rose', 'rosebud', 'roseville', 'rosin', 'rosoboronexport', 'ross', 'rotate', 'rotational', 'rotator', 'roth', 'rouge', 'round', 'route', 'routine', 'rove', 'roy', 'royalty', 'rozanski', 'rsballyloxydichlorophenethylimidazole', 'rsdimethylphenylmethoxyacetylamino', 'rubber', 'ruben', 'ruby', 'ruin', 'ruiz', 'rule', 'rulemake', 'rulemaking', 'ruling', 'rum', 'run', 'runaway', 'runoff', 'runway', 'rural', 'russell', 'russia', 'russian', 'russianbacke', 'russias', 'ryan', 'ryu', 's', 'sabine', 'sablan', 'sabo', 'sac', 'saccharin', 'sachuest', 'sacramento', 'sacramentosan', 'sacrifice', 'saddlebunch', 'sae', 'safe', 'safeguard', 'safely', 'safest', 'safetealu', 'safety', 'sage', 'sagegrouse', 'saguaro', 'saint', 'saintgaudens', 'saipan', 'salad', 'salah', 'salamander', 'salary', 'salazar', 'sale', 'salehi', 'sali', 'salick', 'salicylate', 'salish', 'sally', 'salmon', 'salt', 'saltwater', 'salute', 'salvador', 'salvage', 'salvatore', 'samaritan', 'samesex', 'samhsa', 'samish', 'samoa', 'samohin', 'sample', 'sampson', 'san', 'sanchezdiaz', 'sanction', 'sanctions', 'sanctuaries', 'sanctuary', 'sand', 'sander', 'sandwich', 'sandy', 'sangre', 'sanhydrofluorophenylthienylmethyl', 'sanitary', 'sanitation', 'sankerala', 'santa', 'santillan', 'santos', 'sarbanesoxley', 'sas', 'satellite', 'satisfaction', 'satisfy', 'saturday', 'saudi', 'savannah', 'save', 'saver', 'saving', 'savings', 'sbir', 'sc', 'scale', 'scaleup', 'scan', 'scanning', 'scene', 'scenic', 'schallern', 'schedule', 'scheduled', 'scheduling', 'scheme', 'schip', 'schneider', 'schneier', 'scholarly', 'scholarship', 'school', 'schoolaged', 'schoolbase', 'schoolbased', 'schoolbuse', 'schooling', 'schoolwide', 'schuylkill', 'schwerner', 'science', 'sciencebased', 'sciences', 'scientific', 'scientist', 'scleroderma', 'sclerosis', 'scofield', 'scope', 'score', 'scoring', 'scott', 'scout', 'screen', 'screener', 'screening', 'screw', 'scribe', 'scrutiny', 'se', 'sea', 'seabed', 'seabee', 'seafood', 'seal', 'sealant', 'sealing', 'seaman', 'seamount', 'sean', 'seaport', 'search', 'searchable', 'searchandrecovery', 'seas', 'seashore', 'season', 'seasonal', 'seating', 'seaward', 'seaway', 'sec', 'seclusion', 'second', 'secondary', 'secret', 'secretary', 'section', 'sector', 'secure', 'securing', 'securities', 'securitization', 'security', 'securitybase', 'securityrelate', 'securityrelated', 'securitys', 'sedaxane', 'sediment', 'sedonared', 'seed', 'seedskadee', 'seek', 'segment', 'segregated', 'segundo', 'seigniorage', 'seismic', 'seitz', 'seize', 'seizure', 'select', 'selection', 'selective', 'selectusa', 'self', 'selfatteste', 'selfcontained', 'selfdealing', 'selfdefense', 'selfdetermination', 'selfdisclose', 'selfemployment', 'selfgovernance', 'selfimage', 'selfinitiation', 'selfinsurance', 'selfless', 'selfmanagement', 'selfpay', 'selfreferral', 'selfschedule', 'selfservice', 'selfsufficiency', 'sell', 'seller', 'selling', 'selma', 'selwaybitterroot', 'semester', 'semiannual', 'semiannually', 'semiautomatic', 'semiconductor', 'seminar', 'semipostal', 'semiquincentennial', 'senate', 'senator', 'send', 'sender', 'senior', 'seniorlevel', 'sense', 'sensible', 'sensing', 'sensitive', 'sensitivity', 'sensomer', 'sensor', 'sentence', 'sentencing', 'sentinel', 'separate', 'separately', 'separation', 'separatist', 'september', 'seq', 'sequester', 'sequestration', 'sequestrationrelated', 'sequoia', 'sergeant', 'sergei', 'serial', 'series', 'seriously', 'serna', 'servant', 'serve', 'server', 'service', 'serviceconnecte', 'serviceconnected', 'serviceconnection', 'servicedisable', 'serviceissue', 'servicelearning', 'servicemember', 'servicer', 'servicerelated', 'services', 'servicing', 'servitude', 'sesquicentennial', 'session', 'set', 'setaside', 'sethoxydim', 'setting', 'settle', 'settlement', 'seven', 'severance', 'severe', 'severely', 'severeonly', 'sevi', 'sevp', 'sewage', 'sewallbelmont', 'sewer', 'sex', 'sexrelated', 'sexsegregated', 'sexual', 'sexually', 'sgr', 'sgt', 'shade', 'shaft', 'shakeel', 'shakil', 'shale', 'shall', 'shallotte', 'shallow', 'shape', 'shaped', 'share', 'shared', 'shareholder', 'sharing', 'shark', 'sharon', 'sharp', 'sharpener', 'sharps', 'sharpsbymail', 'shastatrinity', 'shaver', 'shawan', 'shawn', 'shawnee', 'shee', 'sheepherder', 'sheet', 'sheeting', 'shelby', 'shelf', 'shell', 'shellfish', 'shelter', 'sherman', 'shetucket', 'shield', 'shift', 'shifting', 'shiloh', 'shimon', 'shina', 'shingle', 'ship', 'shipment', 'shipping', 'shipyard', 'shiras', 'shirley', 'shirt', 'shock', 'shoe', 'shoot', 'shooter', 'shooting', 'shop', 'shopper', 'shopping', 'shore', 'short', 'shortage', 'shorten', 'shortlive', 'shortterm', 'shorttime', 'shoshone', 'shoshonepaiute', 'shotgun', 'shower', 'shreveport', 'shrink', 'shrinkage', 'shur', 'shut', 'shutdown', 'shuttle', 'sible', 'sibling', 'sick', 'sickle', 'sickness', 'sid', 'siding', 'sidney', 'sierra', 'sifi', 'sigar', 'sign', 'signage', 'signal', 'signature', 'significance', 'significant', 'significantly', 'signify', 'signing', 'sigtarp', 'sikes', 'silence', 'silencer', 'siletz', 'silica', 'silicate', 'silicone', 'silver', 'silvicultural', 'sim', 'simeon', 'simeonov', 'simeonova', 'simi', 'similar', 'similarly', 'simon', 'simple', 'simpler', 'simplicity', 'simplification', 'simplified', 'simplify', 'simulator', 'simultaneously', 'sinai', 'sine', 'single', 'singleelement', 'singlefamily', 'singlehospital', 'singlepiece', 'sinking', 'sipc', 'sister', 'sit', 'site', 'siteofservice', 'siting', 'situate', 'situation', 'siuslaw', 'sixmonth', 'sixteenth', 'sixth', 'sixyearold', 'size', 'sized', 'sizing', 'sk', 'skagit', 'skelton', 'ski', 'skiboot', 'skier', 'skilink', 'skill', 'skilled', 'skillet', 'skin', 'skip', 'sky', 'slaughter', 'slave', 'slavery', 'sle', 'sleep', 'sleepwear', 'sling', 'slipon', 'slipper', 'slm', 'slope', 'slot', 'slow', 'slowdown', 'sludge', 'sluggish', 'slurry', 'small', 'smalland', 'smallduct', 'smart', 'smartphone', 'smetolachlor', 'smith', 'smithhisler', 'smithsonian', 'smoke', 'smokeless', 'smoker', 'smoking', 'smoky', 'smooth', 'smuggling', 'snake', 'snalkylanilin', 'snap', 'snapper', 'snoqualmie', 'snow', 'snowboard', 'soar', 'sobelson', 'soboleff', 'socalled', 'social', 'socialist', 'socially', 'society', 'socioeconomic', 'sod', 'sodium', 'software', 'soil', 'sol', 'solar', 'solder', 'soldier', 'sole', 'soledad', 'solely', 'solesource', 'solicit', 'solicitation', 'solid', 'solitary', 'solo', 'solution', 'solve', 'solvency', 'solvent', 'somalia', 'somatic', 'son', 'sonoma', 'sonoran', 'soon', 'sopuruchi', 'sorbate', 'sorbic', 'sorghum', 'soriano', 'sotloff', 'soumanou', 'sound', 'soundisolating', 'soundness', 'source', 'sourcing', 'south', 'southcentral', 'southeast', 'southeastern', 'southern', 'southw', 'southwest', 'southwestern', 'southwind', 'sovereign', 'sovereignty', 'soviet', 'space', 'spaceavailable', 'spacefaring', 'spaceport', 'spacer', 'spam', 'spare', 'spc', 'speak', 'speaker', 'special', 'specialist', 'specialize', 'specialized', 'specially', 'specialty', 'specie', 'species', 'specific', 'specifically', 'specification', 'specified', 'specify', 'speciman', 'specimen', 'spectacle', 'spectrophotometry', 'spectrum', 'spectrumbase', 'speculation', 'speculative', 'speech', 'speed', 'speedometer', 'spencer', 'spend', 'spending', 'sphere', 'spherical', 'spike', 'spill', 'spin', 'spina', 'spinal', 'spinning', 'spirit', 'spiritual', 'spirodiclofen', 'spiromesifen', 'spirotetramat', 'spoil', 'spokane', 'sponsor', 'sponsoring', 'sponsorship', 'spoofing', 'sport', 'sporting', 'sportsmanship', 'sportsrelated', 'spot', 'spousal', 'spouse', 'spray', 'spread', 'spring', 'springboro', 'springs', 'sprinkler', 'spur', 'sputter', 'spy', 'spyware', 'squad', 'squadron', 'square', 'squire', 'sr', 'ss', 'sslf', 'st', 'stability', 'stabilization', 'stabilize', 'stabilizer', 'stable', 'stablilizer', 'stack', 'stadium', 'staff', 'staffer', 'staffing', 'stafford', 'stage', 'stagg', 'stain', 'stained', 'stainless', 'staircase', 'staircaseescalante', 'stakeholder', 'stalk', 'stalking', 'stamp', 'stan', 'stand', 'standard', 'standardgrade', 'standardization', 'standardized', 'standards', 'standing', 'stanislaus', 'staphylococcal', 'staple', 'star', 'starchcontaine', 'stark', 'starrcamargo', 'start', 'startup', 'state', 'stateadministered', 'stateappointe', 'stateapprove', 'statebase', 'statehood', 'stateissue', 'stateless', 'statement', 'staten', 'stateprovided', 'states', 'statesbahrain', 'statesbrazil', 'statesbuilt', 'statescolombia', 'stateseuropean', 'stateshong', 'statesindia', 'statesisrael', 'statesisraeli', 'stateskorea', 'statesmexico', 'statespanama', 'statespecific', 'statesponsor', 'statesponsored', 'statesvietnam', 'statewide', 'static', 'station', 'stationary', 'stationery', 'statistic', 'statistical', 'statistics', 'statuary', 'statue', 'status', 'statute', 'statutory', 'stay', 'ste', 'steal', 'steam', 'stearic', 'steel', 'steelhead', 'steer', 'stela', 'stem', 'step', 'stepanovna', 'stephanie', 'stephen', 'stephens', 'stephenson', 'steppedup', 'sterilization', 'steroid', 'steve', 'steven', 'stevens', 'stevensonwydler', 'stewardship', 'stewart', 'stigma', 'stillbirth', 'stillwater', 'stimulate', 'stimulation', 'stimulus', 'stipend', 'stipulate', 'stis', 'stock', 'stockpile', 'stockton', 'stockyard', 'stone', 'stonewall', 'stop', 'stoploss', 'stopper', 'storage', 'store', 'stored', 'storey', 'storis', 'storm', 'stormwater', 'story', 'stoyan', 'straightline', 'straightparty', 'strain', 'strait', 'straits', 'strap', 'strategic', 'strategy', 'straw', 'stream', 'streamline', 'streamlined', 'street', 'strength', 'strengthen', 'strengthening', 'stress', 'stretch', 'strike', 'stringency', 'stringtown', 'strip', 'stripe', 'stripping', 'stroke', 'strong', 'strongly', 'strontium', 'structural', 'structurally', 'structure', 'structured', 'struggle', 'sttr', 'stub', 'student', 'studentdeveloped', 'studentto', 'studenttoschool', 'study', 'style', 'stylus', 'styrene', 'styrenehydroxystyrene', 'subarea', 'subassemblie', 'subbundle', 'subcategory', 'subchapter', 'subcommittee', 'subcontract', 'subcontracting', 'subcontractor', 'subdivision', 'subduction', 'subgroup', 'subject', 'subjection', 'submarine', 'submerge', 'submerged', 'subminimum', 'submission', 'submit', 'submittal', 'subordinate', 'subpart', 'subpoena', 'subrecipient', 'subregulatory', 'subsaharan', 'subscriber', 'subsection', 'subsequent', 'subsequently', 'subset', 'subsidiary', 'subsidize', 'subsidized', 'subsidy', 'subsistence', 'subspecialist', 'substance', 'substantial', 'substantially', 'substantiate', 'substantiation', 'substantive', 'substitute', 'substituted', 'substitutedtriazinylaminohydroxysulfophenylsubstitutedazo', 'subsurface', 'subtitle', 'subversive', 'succeed', 'success', 'successful', 'successfully', 'successor', 'sudan', 'sudanese', 'sudden', 'suffer', 'suffering', 'sufficient', 'suffrage', 'sugar', 'sugarbase', 'sugarsweetene', 'suggestion', 'suicide', 'suit', 'suitability', 'suitable', 'suite', 'sujaa', 'sulfanilylcarbamate', 'sulfate', 'sulfentrazone', 'sulfide', 'sulfite', 'sulfochloride', 'sulfonamide', 'sulfonaphthalic', 'sulfonate', 'sulfone', 'sulfonyl', 'sulfonyldiphenol', 'sulfonylphenyldiazenyl', 'sulfur', 'sulfuryl', 'sum', 'sumic', 'summarize', 'summary', 'summer', 'summit', 'summitt', 'sumner', 'sumter', 'sunday', 'sunny', 'sunrise', 'sunscreen', 'sunset', 'suny', 'super', 'supercritical', 'superfluous', 'superfund', 'superior', 'supermarket', 'superstorm', 'supervise', 'supervision', 'supervisor', 'supervisory', 'supplement', 'supplemental', 'supplementary', 'supplier', 'supply', 'support', 'supportive', 'suppress', 'suppression', 'supreme', 'supsend', 'surcharge', 'sure', 'surety', 'surf', 'surface', 'surge', 'surgeon', 'surgery', 'surgical', 'surplus', 'surrender', 'surround', 'surtax', 'surveil', 'surveillance', 'survey', 'surveyor', 'survival', 'survive', 'survivor', 'survivors', 'survivorship', 'susanville', 'suspect', 'suspend', 'suspension', 'suspicion', 'suspicious', 'susquehanna', 'sustain', 'sustainability', 'sustainable', 'sustainableuse', 'sustained', 'sustainment', 'sw', 'swan', 'swap', 'sweepstake', 'sweetener', 'sweetening', 'swiftly', 'swim', 'swimming', 'swine', 'swingley', 'switch', 'switchgear', 'switching', 'sworn', 'syloboc', 'symbol', 'symptom', 'syndrome', 'synergist', 'synthetic', 'syria', 'syrian', 'syrinx', 'syrup', 'syspend', 'system', 'systematic', 'systematically', 'systemic', 'systemically', 'systems', 't', 'table', 'tablete', 'tabletop', 'tabulation', 'taconite', 'tactic', 'tafthartley', 'tagging', 'tahoe', 'tailing', 'tailor', 'taiwan', 'takeback', 'takehome', 'takeover', 'taking', 'talbot', 'talent', 'talented', 'talkeetna', 'tall', 'tallmadge', 'tampa', 'tamper', 'tamperresistant', 'tampon', 'tan', 'tanana', 'tanf', 'tangible', 'tank', 'tanker', 'tanning', 'tap', 'tape', 'tar', 'target', 'targeted', 'targeting', 'tariff', 'tariffrate', 'task', 'tax', 'taxable', 'taxation', 'taxexempt', 'taxfree', 'taxi', 'taxicabs', 'taxing', 'taxis', 'taxpaye', 'taxpayer', 'taxpayerfunde', 'taxpreferre', 'taxpreferred', 'taxrelate', 'taylor', 'tbutylcarbonyloxy', 'tdlm', 'teach', 'teacher', 'teacherled', 'teaching', 'team', 'tebuconazole', 'tebuthiuron', 'techcorps', 'technical', 'technically', 'technician', 'technicians', 'technique', 'technological', 'technologically', 'technology', 'technologybased', 'technologydriven', 'technologyenable', 'technologyrelate', 'teen', 'teenage', 'teenager', 'tel', 'telangiectasia', 'telecommunication', 'telecommunications', 'telecommuter', 'teleconsultation', 'telehealth', 'telemarketing', 'telemedicine', 'telephone', 'telephonic', 'telephony', 'teleretinal', 'televising', 'television', 'tell', 'teller', 'tembotrione', 'temoak', 'temperature', 'temporarily', 'temporary', 'tenant', 'tenantbase', 'tenantbased', 'tender', 'tenement', 'tenen', 'tenmile', 'tennessee', 'tennis', 'tentative', 'tenyear', 'terbacil', 'terbium', 'terbiumdope', 'terephthalate', 'term', 'terminal', 'terminally', 'terminate', 'termination', 'territorial', 'territory', 'terror', 'terrorism', 'terrorist', 'terroristcontrolle', 'terrorize', 'terry', 'terryl', 'tert', 'tertbutylphenoxycyclohexylpropynyl', 'tertiobutyl', 'tesfamical', 'test', 'testify', 'testimony', 'testing', 'teton', 'tetraacetylethylenediamine', 'tetrabromobisphenol', 'tetrachloro', 'tetraethylammonium', 'tetrafluoro', 'tetrafluoroethene', 'tetrafluoroethylene', 'tetrafluoroethyleneoxidize', 'tetrahydro', 'tetrahydrohpyranone', 'tetrahydrothiophene', 'tetrakisditertbutylhydroxyhydrocinnamate', 'tetrakisdodecylthiopropionate', 'tetramethylpiperidinone', 'tetramethylpiperidol', 'texas', 'texoma', 'text', 'textbook', 'texte', 'textile', 'textured', 'tfm', 'th', 'thaddeus', 'thallium', 'theater', 'theatrical', 'theft', 'theic', 'theodore', 'theoretical', 'therapeutic', 'therapist', 'therapy', 'therefor', 'thereof', 'thermal', 'thermally', 'thermoplastic', 'thermostatically', 'thiacloprid', 'thiamethoxam', 'thidiazuron', 'thiencarbazonemethyl', 'thing', 'think', 'thio', 'thiobisdimethylethylmethylphenol', 'thiocyanate', 'thiodicarb', 'thiol', 'thionyl', 'thiophanate', 'thiophene', 'thiophenediylbisdimethylethyl', 'thiourea', 'thirdcountry', 'thirdparty', 'thirteenth', 'thomas', 'thomason', 'thompson', 'thorough', 'thoroughly', 'thread', 'threat', 'threaten', 'threatened', 'threemonth', 'threepoint', 'threeyear', 'threshold', 'thrift', 'thriving', 'thulium', 'thunder', 'thymol', 'tibetan', 'tibetans', 'tick', 'tickborne', 'ticket', 'tideland', 'tier', 'tiere', 'tiered', 'tiger', 'till', 'tillamook', 'tim', 'timber', 'time', 'timelimited', 'timeline', 'timeliness', 'timely', 'timeout', 'timeperiod', 'timetable', 'timing', 'timothy', 'tinian', 'tinnitu', 'tinnitus', 'tip', 'tipoverrelated', 'tire', 'tireless', 'tissue', 'titanic', 'titanium', 'title', 'tle', 'tlingit', 'toaster', 'tobacco', 'tobaccorelate', 'today', 'toddler', 'todi', 'toe', 'tof', 'tohoku', 'tohono', 'tokyo', 'tolentino', 'tolerance', 'tolfenpyrad', 'toll', 'tollfree', 'toluene', 'tom', 'tomas', 'tomb', 'tomball', 'tommy', 'tomography', 'tonnage', 'tool', 'tooling', 'toplevel', 'topofthestove', 'topramezone', 'topsail', 'torch', 'toric', 'tornado', 'tornados', 'tornillo', 'tort', 'torture', 'total', 'totalization', 'toto', 'tour', 'tourette', 'tourism', 'tow', 'towaway', 'towel', 'tower', 'towle', 'town', 'township', 'townsite', 'toxic', 'toxin', 'toy', 'tpx', 'tr', 'trace', 'traceability', 'tracing', 'track', 'tracker', 'tracking', 'tract', 'tracy', 'trade', 'trademark', 'tradeoftime', 'trader', 'trading', 'traditional', 'traffic', 'trafficker', 'trafficking', 'tragedy', 'tragic', 'trail', 'trailer', 'trails', 'train', 'training', 'trans', 'transaction', 'transactional', 'transalaska', 'transboundary', 'transcript', 'transfer', 'transferable', 'transferee', 'transferrable', 'transform', 'transformation', 'transformational', 'transformative', 'transformer', 'transgend', 'transit', 'transition', 'transitional', 'transitoriente', 'translation', 'translational', 'translator', 'transload', 'transmission', 'transmit', 'transmittal', 'transmitter', 'transnational', 'transparency', 'transparent', 'transplant', 'transplantation', 'transport', 'transportation', 'transportationoriente', 'transuranic', 'trant', 'traore', 'trap', 'trash', 'trauma', 'traumainforme', 'traumarelated', 'traumatic', 'travel', 'traveler', 'traverse', 'treason', 'treasure', 'treasury', 'treasurys', 'treat', 'treatment', 'treaty', 'tree', 'treeplanting', 'tremont', 'trespass', 'triacetonamine', 'triadimefon', 'trial', 'triangular', 'triasulfuron', 'triazine', 'triazinylaminocarbonylaminosulfonyl', 'tribal', 'tribally', 'tribe', 'tribeeastern', 'tribunal', 'tributary', 'tricare', 'trichloride', 'trichlorobenzene', 'trieber', 'triennial', 'triethoxysilylmethyl', 'triethyl', 'triethylenediamine', 'triflic', 'trifloxystrobin', 'trifloxysulfuronsodium', 'trifluoro', 'trifluoromethylnitrophenol', 'trifluralin', 'trigger', 'triisocyanate', 'trillion', 'trilon', 'trimer', 'trimethyl', 'trimethylamine', 'trimethylaminoquaternize', 'trimethylcyclohexane', 'trimethylhexylamine', 'trinexapacethyl', 'trinity', 'tripehnylmethane', 'triphenyltin', 'triplenegative', 'tripoli', 'tris', 'trisisocyanatophenylthiophosphate', 'troop', 'trooper', 'trophy', 'tropical', 'troubled', 'trouser', 'trout', 'truck', 'true', 'truman', 'truncate', 'truncation', 'trust', 'trustee', 'trustpreferred', 'truth', 'truthfully', 'try', 'tsa', 'tsdb', 'tsunami', 'tuba', 'tubbs', 'tube', 'tubeless', 'tuberculosis', 'tubman', 'tubular', 'tucson', 'tuesday', 'tuf', 'tuition', 'tulare', 'tule', 'tulsa', 'tumacacori', 'tumor', 'tuna', 'tung', 'tungsten', 'tunisia', 'tunnel', 'tuolumne', 'turbine', 'turcinovic', 'turkey', 'turkish', 'turn', 'turnaround', 'turtle', 'tuscarora', 'tuskegee', 'tutoring', 'tutu', 'tv', 'twain', 'twentyfirst', 'twentynine', 'twic', 'twice', 'twistable', 'twoincome', 'twomidnight', 'twophase', 'twoyear', 'tx', 'txp', 'type', 'typhoon', 'tyrone', 'udall', 'udtseal', 'uintah', 'uintawasatchcache', 'ukpeagvik', 'ukraine', 'ultimate', 'ultimately', 'ultrafine', 'ultralight', 'ultrasound', 'ultraviolet', 'umbilical', 'umpqua', 'unable', 'unaccompanied', 'unaccountable', 'unaccounted', 'unapproved', 'unauthorized', 'unborn', 'uncertainty', 'uncertified', 'unchanged', 'unclaimed', 'unclassified', 'unconsolidated', 'unconstitutional', 'uncontrollable', 'underage', 'underemployed', 'undergo', 'undergraduate', 'underground', 'underlying', 'undermine', 'underpayment', 'underperform', 'underrepresented', 'underscore', 'undersecretary', 'underserved', 'understand', 'understanding', 'understatement', 'undertake', 'undertaking', 'underutilize', 'undervaluation', 'undervalue', 'underwater', 'underwent', 'underwriting', 'undetectable', 'undiagnosed', 'undisclosed', 'undo', 'undocumented', 'undue', 'undye', 'undyed', 'unelected', 'unemancipated', 'unemployed', 'unemployment', 'unencumbering', 'unenforceable', 'unequivocally', 'unethical', 'unexpected', 'unexpended', 'unexpired', 'unfair', 'unfairly', 'unforeseen', 'unfunded', 'unhydrolyzed', 'unidentifiable', 'unidentified', 'unidirectional', 'unification', 'unified', 'uniform', 'uniformed', 'uniformity', 'unify', 'unilaterally', 'unimplemented', 'uninsured', 'unintended', 'union', 'unionnorwayiceland', 'unique', 'unit', 'unite', 'united', 'unites', 'unity', 'universal', 'universally', 'universitie', 'university', 'unjust', 'unjustified', 'unknown', 'unlawful', 'unlawfully', 'unle', 'unlicensed', 'unlimited', 'unlock', 'unlocking', 'unmanned', 'unmarried', 'unmet', 'unnecessarily', 'unnecessary', 'unobligated', 'unofficial', 'unpaid', 'unparalleled', 'unpasteurized', 'unplanned', 'unpopulated', 'unpredictable', 'unprivileged', 'unqualified', 'unreasonable', 'unreasonably', 'unrecognized', 'unredacted', 'unregulated', 'unrepatriated', 'unreported', 'unrestricted', 'unreturned', 'unruptured', 'unsafe', 'unsecured', 'unserved', 'unsettled', 'unsolved', 'unsound', 'unspent', 'unstable', 'unsubscribe', 'unsubsidized', 'unsuitable', 'unsupervised', 'unused', 'unvaccinated', 'unverified', 'unvulcanized', 'unwanted', 'unwarranted', 'unwed', 'unwrought', 'update', 'updated', 'updating', 'upfront', 'upgrade', 'uphold', 'upholstered', 'upload', 'upper', 'uptodate', 'uranium', 'urban', 'urbanized', 'urea', 'urge', 'urgent', 'urgently', 'urn', 'urotrauma', 'usa', 'usaccount', 'usage', 'usc', 'usda', 'use', 'useby', 'usebydate', 'usec', 'useful', 'user', 'userfee', 'usmc', 'usps', 'uss', 'usual', 'usury', 'usvisit', 'utah', 'utility', 'utilizable', 'utilization', 'utilize', 'uvasorb', 'uvinul', 'v', 'va', 'vacancy', 'vacant', 'vacating', 'vacation', 'vaccinate', 'vaccinated', 'vaccine', 'vacuum', 'vacuumgrade', 'valid', 'validate', 'validation', 'validity', 'validly', 'valle', 'vallejo', 'valley', 'valor', 'valorem', 'valuation', 'value', 'valueadde', 'valueadded', 'valuebase', 'valuebased', 'valve', 'van', 'vancouver', 'vang', 'vania', 'vanpool', 'vapor', 'variability', 'variable', 'variation', 'varied', 'variety', 'vat', 'vault', 'vectorborne', 'veetc', 'vegas', 'vegetable', 'vegetation', 'vehicle', 'vehiclerelate', 'vehicletoinfrastructure', 'vehicular', 'velasquezroblero', 'vend', 'vendor', 'venezuela', 'venezuelan', 'venezuelas', 'venne', 'ventilator', 'venting', 'ventricular', 'ventura', 'venture', 'venue', 'verbis', 'verde', 'verge', 'verifiably', 'verification', 'verified', 'verify', 'vermilyea', 'vermont', 'version', 'vertical', 'vessel', 'vest', 'vet', 'veteran', 'veteranfriendly', 'veteranowne', 'veteranowned', 'veterans', 'veterinarian', 'veterinary', 'veto', 'vetting', 'vi', 'viability', 'viable', 'vibrant', 'vice', 'vichai', 'vicinity', 'vicksburg', 'victim', 'victor', 'victoria', 'victory', 'vicuna', 'video', 'vienna', 'vietnam', 'view', 'viewer', 'vii', 'viii', 'village', 'vincent', 'vinegar', 'vinnedge', 'vinyl', 'vinylbenzenesulfonic', 'vinylchloridehydroxypropylacrylate', 'vinylidene', 'vinylidine', 'violate', 'violation', 'violence', 'violent', 'violet', 'viral', 'virgin', 'virginia', 'virtual', 'virus', 'visa', 'viscose', 'visibility', 'vision', 'visionary', 'visit', 'visitability', 'visitable', 'visitation', 'visitor', 'vista', 'visual', 'visuallyimpaired', 'vital', 'vitality', 'vitro', 'vizguerraramirez', 'vlg', 'vocational', 'voice', 'volatile', 'volatility', 'volcano', 'volcker', 'volleyball', 'volt', 'volume', 'volumepercent', 'volumetric', 'voluntarily', 'voluntary', 'volunteer', 'vote', 'voter', 'voterverified', 'voting', 'voucher', 'vow', 'voyage', 'voyageurs', 'vp', 'vulcanized', 'vulnerability', 'vulnerable', 'w', 'wachira', 'waco', 'wader', 'wage', 'wager', 'wagering', 'wagnerpeyser', 'wagon', 'wainwright', 'wait', 'waiting', 'waive', 'waiver', 'wake', 'waldwick', 'wall', 'wallenberg', 'wallet', 'wallis', 'wallowa', 'walnut', 'walsh', 'walter', 'wampanoag', 'wander', 'wani', 'want', 'war', 'ward', 'ware', 'warfare', 'warmisse', 'warn', 'warning', 'warp', 'warrant', 'warrantless', 'warranty', 'warrelate', 'warrior', 'warrisk', 'washington', 'wasson', 'waste', 'wasteful', 'wastewater', 'watch', 'watchlist', 'water', 'waterdispersible', 'waterfront', 'waterrelate', 'waterresistant', 'watersense', 'watershe', 'watershed', 'watersheds', 'watertrail', 'waterway', 'waterways', 'waties', 'wax', 'way', 'wayne', 'wd', 'wealthcreation', 'weapon', 'weapons', 'wear', 'weather', 'weatherization', 'weave', 'weaver', 'web', 'webcasting', 'weber', 'website', 'websitebase', 'webster', 'wedge', 'weed', 'week', 'weekend', 'weigh', 'weight', 'weighted', 'weis', 'welcome', 'welfare', 'wellbee', 'wellbeing', 'wellbore', 'welldefined', 'welleducated', 'wellfunctione', 'wellness', 'wellorganize', 'wellpaye', 'wellprepare', 'wells', 'wellstone', 'wellsupported', 'wenjian', 'wenzel', 'wesley', 'west', 'western', 'westfield', 'westland', 'westminster', 'westport', 'wetland', 'whale', 'whaling', 'wheel', 'wheelchair', 'wheeler', 'whistleblower', 'white', 'whitefish', 'wholeofgovernment', 'wholesale', 'wholesaler', 'wholly', 'whychusdeschutes', 'whydroxy', 'wic', 'wichita', 'wiconi', 'wide', 'wideband', 'widespread', 'widow', 'widower', 'width', 'wiesel', 'wife', 'wifi', 'wilberforce', 'wild', 'wilderness', 'wildfire', 'wildland', 'wildlife', 'wildlifedependent', 'wiley', 'willful', 'william', 'williams', 'willing', 'wilmington', 'wilson', 'win', 'wind', 'winder', 'windfall', 'window', 'windstorm', 'wine', 'wing', 'wingate', 'winnie', 'winning', 'winslow', 'wire', 'wirebonding', 'wired', 'wireless', 'wireline', 'wiretap', 'wisconsin', 'wish', 'wit', 'withdraw', 'withdrawal', 'withdrawn', 'withhold', 'withholding', 'withstand', 'witness', 'wmat', 'woburn', 'wolf', 'woman', 'womans', 'women', 'womenowne', 'womens', 'wood', 'woodhull', 'woodland', 'woods', 'wool', 'woolpack', 'word', 'work', 'workbase', 'workcollege', 'worker', 'workers', 'workforce', 'working', 'workload', 'workplace', 'workrelate', 'workrelated', 'works', 'worksite', 'workstudy', 'workweek', 'world', 'worldclass', 'worldwide', 'worship', 'worth', 'wound', 'woven', 'wovoka', 'wraparound', 'wreck', 'wrist', 'writ', 'write', 'writer', 'writing', 'wrongdoer', 'wrongful', 'wrongfully', 'wrongly', 'wylie', 'wyome', 'wyoming', 'x', 'xenia', 'xi', 'xiaobo', 'xii', 'xiv', 'xix', 'xl', 'xp', 'xray', 'xvi', 'xvii', 'xviii', 'xx', 'xxi', 'xxix', 'xxvii', 'xxviii', 'xylidine', 'yahya', 'yakima', 'yale', 'yaqui', 'yard', 'yarn', 'yarns', 'yavapai', 'yazidis', 'year', 'yearend', 'yearly', 'yearold', 'yearperiod', 'yearround', 'yeganeh', 'yellow', 'yellowstone', 'yemen', 'yerington', 'yield', 'ylmethylcyclobutanol', 'ylmethylcyclopentanol', 'ynez', 'yoga', 'york', 'yosemite', 'yoshio', 'young', 'youngblood', 'yountville', 'yousafzai', 'yousufzai', 'youth', 'yttrium', 'yucca', 'yugoslavia', 'yukon', 'yuma', 'yunque', 'yurok', 'yuta', 'z', 'za', 'zachary', 'zapata', 'zealand', 'zenon', 'zero', 'zerobase', 'zetacypermethrin', 'zika', 'zimbabwe', 'zinc', 'zip', 'zipper', 'zoar', 'zone', 'zoological', 'zoxamide', 'zuni']\n"
     ]
    }
   ],
   "source": [
    "print(vectorizer.get_feature_names())"
   ]
  },
  {
   "cell_type": "code",
   "execution_count": 268,
   "metadata": {},
   "outputs": [
    {
     "data": {
      "text/plain": [
       "11114"
      ]
     },
     "execution_count": 268,
     "metadata": {},
     "output_type": "execute_result"
    }
   ],
   "source": [
    "len(vectorizer.get_feature_names())"
   ]
  },
  {
   "cell_type": "code",
   "execution_count": 269,
   "metadata": {},
   "outputs": [
    {
     "name": "stdout",
     "output_type": "stream",
     "text": [
      "bra\n",
      "formulate\n",
      "nationality\n",
      "nonregulatory\n",
      "cartridge\n",
      "preeminent\n",
      "plymouth\n",
      "sling\n",
      "sediment\n",
      "antidoping\n"
     ]
    }
   ],
   "source": [
    "import random\n",
    "\n",
    "#get ten random words from each\n",
    "\n",
    "for i in range(10):\n",
    "    word_id = random.randint(0, 9959) #second should be len of cv\n",
    "    print(vectorizer.get_feature_names()[word_id])"
   ]
  },
  {
   "cell_type": "markdown",
   "metadata": {},
   "source": [
    "**Topic - Modeling LDA**\n",
    "\n",
    "\n",
    "LDA is an iterative model which starts from a fixed number of topics. Each topic is represented as a distribution over words, and each document is then represented as a distribution over topics."
   ]
  },
  {
   "cell_type": "code",
   "execution_count": 270,
   "metadata": {},
   "outputs": [],
   "source": [
    "from sklearn.decomposition import LatentDirichletAllocation"
   ]
  },
  {
   "cell_type": "code",
   "execution_count": 271,
   "metadata": {},
   "outputs": [
    {
     "name": "stdout",
     "output_type": "stream",
     "text": [
      "LatentDirichletAllocation(batch_size=128, doc_topic_prior=None,\n",
      "                          evaluate_every=-1, learning_decay=0.5,\n",
      "                          learning_method='batch', learning_offset=10.0,\n",
      "                          max_doc_update_iter=100, max_iter=20,\n",
      "                          mean_change_tol=0.001, n_components=15, n_jobs=-1,\n",
      "                          perp_tol=0.1, random_state=42, topic_word_prior=None,\n",
      "                          total_samples=1000000.0, verbose=0)\n"
     ]
    }
   ],
   "source": [
    "# Build LDA Model\n",
    "#focus on number topics, max iteration, learning decay\n",
    "lda_model = LatentDirichletAllocation(n_components=15,               # Number of topics\n",
    "                                      max_iter=20,  \n",
    "                                      learning_decay=0.5,    # Max learning iterations (how many times going over whole dataset)\n",
    "#                                       learning_method='online',   #constantly update with new data or batch\n",
    "                                      random_state=42,          # Random state\n",
    "                                      batch_size=128,            # n docs in each learning iter\n",
    "                                      evaluate_every = -1,       # compute perplexity every n iters, default: Don't\n",
    "                                      n_jobs = -1,               # Use all available CPUs\n",
    "                                     )\n",
    "\n",
    "print(lda_model)  # Model attributes"
   ]
  },
  {
   "cell_type": "code",
   "execution_count": 272,
   "metadata": {},
   "outputs": [],
   "source": [
    "# This can take awhile, we're dealing with a large amount of documents!\n",
    "\n",
    "lda_output = lda_model.fit_transform(transformed)\n"
   ]
  },
  {
   "cell_type": "markdown",
   "metadata": {},
   "source": [
    "**OPTIONAL - Grisearch LDA**"
   ]
  },
  {
   "cell_type": "code",
   "execution_count": 222,
   "metadata": {},
   "outputs": [
    {
     "name": "stdout",
     "output_type": "stream",
     "text": [
      "Fitting 3 folds for each of 6 candidates, totalling 18 fits\n"
     ]
    },
    {
     "name": "stderr",
     "output_type": "stream",
     "text": [
      "[Parallel(n_jobs=-1)]: Using backend LokyBackend with 4 concurrent workers.\n",
      "[Parallel(n_jobs=-1)]: Done  18 out of  18 | elapsed: 11.7min finished\n"
     ]
    },
    {
     "data": {
      "text/plain": [
       "GridSearchCV(cv=3, error_score=nan,\n",
       "             estimator=LatentDirichletAllocation(batch_size=128,\n",
       "                                                 doc_topic_prior=None,\n",
       "                                                 evaluate_every=-1,\n",
       "                                                 learning_decay=0.7,\n",
       "                                                 learning_method='batch',\n",
       "                                                 learning_offset=10.0,\n",
       "                                                 max_doc_update_iter=100,\n",
       "                                                 max_iter=25,\n",
       "                                                 mean_change_tol=0.001,\n",
       "                                                 n_components=10, n_jobs=None,\n",
       "                                                 perp_tol=0.1,\n",
       "                                                 random_state=None,\n",
       "                                                 topic_word_prior=None,\n",
       "                                                 total_samples=1000000.0,\n",
       "                                                 verbose=0),\n",
       "             iid='deprecated', n_jobs=-1,\n",
       "             param_grid={'learning_decay': [0.5, 0.7],\n",
       "                         'n_components': [15, 20, 25]},\n",
       "             pre_dispatch='2*n_jobs', refit=True, return_train_score=False,\n",
       "             scoring=None, verbose=2)"
      ]
     },
     "execution_count": 222,
     "metadata": {},
     "output_type": "execute_result"
    }
   ],
   "source": [
    "from sklearn.model_selection import GridSearchCV\n",
    "\n",
    "\n",
    "# Define Search Param\n",
    "search_params = {'n_components': [15, 20, 25],'learning_decay': [.5, .7]}\n",
    "\n",
    "# Init the Model\n",
    "lda = LatentDirichletAllocation(max_iter=25)\n",
    "\n",
    "# Init Grid Search Class\n",
    "model = GridSearchCV(lda, param_grid=search_params, cv=3, verbose=2, n_jobs = -1)\n",
    "\n",
    "# Do the Grid Search\n",
    "model.fit(transformed)"
   ]
  },
  {
   "cell_type": "code",
   "execution_count": 224,
   "metadata": {},
   "outputs": [
    {
     "name": "stdout",
     "output_type": "stream",
     "text": [
      "Best Model's Params:  {'learning_decay': 0.5, 'n_components': 15}\n",
      "Best Log Likelihood Score:  -751642.0137549518\n",
      "Model Perplexity:  921.196053929341\n"
     ]
    }
   ],
   "source": [
    "# Best Model\n",
    "best_lda_model = model.best_estimator_\n",
    "\n",
    "# Model Parameters\n",
    "print(\"Best Model's Params: \", model.best_params_)\n",
    "\n",
    "# Log Likelihood Score\n",
    "print(\"Best Log Likelihood Score: \", model.best_score_)\n",
    "\n",
    "# Perplexity\n",
    "print(\"Model Perplexity: \", best_lda_model.perplexity(transformed))\n",
    "\n",
    "#Shows best params\n",
    "#shows best log likelihood\n",
    "#shows model perplexity score"
   ]
  },
  {
   "cell_type": "markdown",
   "metadata": {},
   "source": [
    "**Model evaluation:**"
   ]
  },
  {
   "cell_type": "code",
   "execution_count": 275,
   "metadata": {},
   "outputs": [
    {
     "name": "stdout",
     "output_type": "stream",
     "text": [
      "Log Likelihood:  -2023593.7189975688\n",
      "Perplexity:  918.4023644801994\n",
      "{'batch_size': 128, 'doc_topic_prior': None, 'evaluate_every': -1, 'learning_decay': 0.5, 'learning_method': 'batch', 'learning_offset': 10.0, 'max_doc_update_iter': 100, 'max_iter': 20, 'mean_change_tol': 0.001, 'n_components': 15, 'n_jobs': -1, 'perp_tol': 0.1, 'random_state': 42, 'topic_word_prior': None, 'total_samples': 1000000.0, 'verbose': 0}\n"
     ]
    }
   ],
   "source": [
    "# Log Likelyhood: Higher the better\n",
    "print(\"Log Likelihood: \", lda_model.score(transformed))\n",
    "\n",
    "# Perplexity: Lower the better. Perplexity = exp(-1. * log-likelihood per word)\n",
    "print(\"Perplexity: \", lda_model.perplexity(transformed))\n",
    "\n",
    "# See model parameters\n",
    "print(lda_model.get_params())"
   ]
  },
  {
   "cell_type": "markdown",
   "metadata": {},
   "source": [
    "Look at model components:"
   ]
  },
  {
   "cell_type": "code",
   "execution_count": 276,
   "metadata": {},
   "outputs": [
    {
     "data": {
      "text/plain": [
       "array([[0.06666667, 0.06666678, 0.06666667, ..., 0.06666676, 0.06666667,\n",
       "        0.06666667],\n",
       "       [0.06666667, 0.06666667, 0.06666667, ..., 0.06666667, 0.06666667,\n",
       "        0.06666667],\n",
       "       [0.06666667, 0.06666667, 0.06666667, ..., 0.06666667, 0.06666667,\n",
       "        0.06666667],\n",
       "       ...,\n",
       "       [2.06666651, 0.06666667, 0.06666667, ..., 0.06666667, 0.06666667,\n",
       "        0.06666667],\n",
       "       [0.06666677, 0.06666667, 0.06666667, ..., 0.06666667, 0.06666667,\n",
       "        0.06666667],\n",
       "       [0.06666667, 0.06666667, 0.06666767, ..., 0.06666726, 1.06666667,\n",
       "        0.06666667]])"
      ]
     },
     "execution_count": 276,
     "metadata": {},
     "output_type": "execute_result"
    }
   ],
   "source": [
    "lda_model.components_"
   ]
  },
  {
   "cell_type": "code",
   "execution_count": 277,
   "metadata": {},
   "outputs": [],
   "source": [
    "single_topic = lda_model.components_[0]"
   ]
  },
  {
   "cell_type": "code",
   "execution_count": 278,
   "metadata": {},
   "outputs": [
    {
     "data": {
      "text/plain": [
       "array([ 398, 7915, 6077, ..., 5537, 1049, 8200])"
      ]
     },
     "execution_count": 278,
     "metadata": {},
     "output_type": "execute_result"
    }
   ],
   "source": [
    "# Returns the indices that would sort this array.\n",
    "single_topic.argsort()\n",
    "\n",
    "#look at the most and least representative words!"
   ]
  },
  {
   "cell_type": "code",
   "execution_count": 279,
   "metadata": {},
   "outputs": [
    {
     "data": {
      "text/plain": [
       "0.06666697114562413"
      ]
     },
     "execution_count": 279,
     "metadata": {},
     "output_type": "execute_result"
    }
   ],
   "source": [
    "# Word least representative of this topic\n",
    "single_topic[248]\n",
    "\n",
    "#first round goes from 0.05 to 106.1"
   ]
  },
  {
   "cell_type": "code",
   "execution_count": 280,
   "metadata": {},
   "outputs": [
    {
     "data": {
      "text/plain": [
       "0.06666666666671682"
      ]
     },
     "execution_count": 280,
     "metadata": {},
     "output_type": "execute_result"
    }
   ],
   "source": [
    "# Word most representative of this topic\n",
    "single_topic[8108]"
   ]
  },
  {
   "cell_type": "markdown",
   "metadata": {},
   "source": [
    "Look at the top fifteen for each topic:"
   ]
  },
  {
   "cell_type": "code",
   "execution_count": 281,
   "metadata": {},
   "outputs": [
    {
     "name": "stdout",
     "output_type": "stream",
     "text": [
      "THE TOP 15 WORDS FOR TOPIC #0\n",
      "['right', 'protect', 'respect', 'workforce', 'strengthen', 'provide', 'improve', 'employment', 'opportunity', 'job', 'economic', 'promote', 'labor', 'bill', 'purpose']\n",
      "\n",
      "\n",
      "THE TOP 15 WORDS FOR TOPIC #1\n",
      "['qualified', 'account', 'allow', 'extend', 'certain', 'purpose', 'provide', 'income', 'bill', 'credit', 'tax', 'amend', 'code', 'internal', 'revenue']\n",
      "\n",
      "\n",
      "THE TOP 15 WORDS FOR TOPIC #2\n",
      "['state', 'heritage', 'specie', 'reduction', 'modify', 'park', 'area', 'establish', 'purpose', 'bill', 'duty', 'suspension', 'national', 'temporary', 'extend']\n",
      "\n",
      "\n",
      "THE TOP 15 WORDS FOR TOPIC #3\n",
      "['pay', 'fiscal', 'rate', 'increase', 'disaster', 'emergency', 'federal', 'debt', 'amend', 'year', 'provide', 'budget', 'purpose', 'act', 'bill']\n",
      "\n",
      "\n",
      "THE TOP 15 WORDS FOR TOPIC #4\n",
      "['appropriation', 'defense', 'bill', 'affairs', 'facility', 'designate', 'states', 'united', 'purpose', 'service', 'secretary', 'affair', 'veteran', 'veterans', 'department']\n",
      "\n",
      "\n",
      "THE TOP 15 WORDS FOR TOPIC #5\n",
      "['safe', 'nationality', 'reauthorize', 'certain', 'immigration', 'water', 'control', 'provide', 'program', 'small', 'business', 'bill', 'purpose', 'amend', 'act']\n",
      "\n",
      "\n",
      "THE TOP 15 WORDS FOR TOPIC #6\n",
      "['require', 'fund', 'indian', 'direct', 'federal', 'state', 'authorize', 'bill', 'certain', 'states', 'united', 'interior', 'land', 'secretary', 'purpose']\n",
      "\n",
      "\n",
      "THE TOP 15 WORDS FOR TOPIC #7\n",
      "['national', 'insurance', 'federal', 'provide', 'individual', 'state', 'information', 'social', 'homeland', 'bill', 'require', 'amend', 'act', 'purpose', 'security']\n",
      "\n",
      "\n",
      "THE TOP 15 WORDS FOR TOPIC #8\n",
      "['congressional', 'federal', 'prohibit', 'government', 'military', 'service', 'purpose', 'require', 'armed', 'congress', 'bill', 'states', 'force', 'united', 'member']\n",
      "\n",
      "\n",
      "THE TOP 15 WORDS FOR TOPIC #9\n",
      "['secondary', 'provide', 'establish', 'student', 'loan', 'bill', 'school', 'high', 'grant', 'amend', 'federal', 'act', 'purpose', 'program', 'education']\n",
      "\n",
      "\n",
      "THE TOP 15 WORDS FOR TOPIC #10\n",
      "['administration', 'transportation', 'project', 'direct', 'development', 'program', 'establish', 'secretary', 'provide', 'agency', 'federal', 'require', 'energy', 'bill', 'purpose']\n",
      "\n",
      "\n",
      "THE TOP 15 WORDS FOR TOPIC #11\n",
      "['xviii', 'public', 'medicare', 'security', 'purpose', 'social', 'bill', 'provide', 'title', 'care', 'program', 'service', 'amend', 'health', 'act']\n",
      "\n",
      "\n",
      "THE TOP 15 WORDS FOR TOPIC #12\n",
      "['commission', 'financial', 'clarify', 'requirement', 'relate', 'provision', 'protection', 'federal', 'consumer', 'require', 'bill', 'purpose', 'certain', 'amend', 'act']\n",
      "\n",
      "\n",
      "THE TOP 15 WORDS FOR TOPIC #13\n",
      "['chapter', 'federal', 'service', 'employee', 'assistance', 'veteran', 'certain', 'bill', 'provide', 'purpose', 'amend', 'code', 'title', 'states', 'united']\n",
      "\n",
      "\n",
      "THE TOP 15 WORDS FOR TOPIC #14\n",
      "['alaska', 'wilderness', 'river', 'provide', 'purpose', 'system', 'forest', 'state', 'national', 'land', 'certain', 'bill', 'suspend', 'temporarily', 'duty']\n",
      "\n",
      "\n"
     ]
    }
   ],
   "source": [
    "for index,topic in enumerate(lda_model.components_):\n",
    "    print(f'THE TOP 15 WORDS FOR TOPIC #{index}')\n",
    "    print([vectorizer.get_feature_names()[i] for i in topic.argsort()[-15:]])\n",
    "    print('\\n')\n",
    "\n",
    "#print top fifteen words for each topic\n",
    "#increase number of topics to get more specific topics\n",
    "#go back and clean some of the data based on answers"
   ]
  },
  {
   "cell_type": "code",
   "execution_count": 282,
   "metadata": {},
   "outputs": [
    {
     "data": {
      "text/html": [
       "<style  type=\"text/css\" >\n",
       "    #T_082e5c06_33d9_11ea_be61_80e6501c196arow0_col0 {\n",
       "            color:  black;\n",
       "            font-weight:  400;\n",
       "        }    #T_082e5c06_33d9_11ea_be61_80e6501c196arow0_col1 {\n",
       "            color:  black;\n",
       "            font-weight:  400;\n",
       "        }    #T_082e5c06_33d9_11ea_be61_80e6501c196arow0_col2 {\n",
       "            color:  black;\n",
       "            font-weight:  400;\n",
       "        }    #T_082e5c06_33d9_11ea_be61_80e6501c196arow0_col3 {\n",
       "            color:  black;\n",
       "            font-weight:  400;\n",
       "        }    #T_082e5c06_33d9_11ea_be61_80e6501c196arow0_col4 {\n",
       "            color:  green;\n",
       "            font-weight:  700;\n",
       "        }    #T_082e5c06_33d9_11ea_be61_80e6501c196arow0_col5 {\n",
       "            color:  green;\n",
       "            font-weight:  700;\n",
       "        }    #T_082e5c06_33d9_11ea_be61_80e6501c196arow0_col6 {\n",
       "            color:  black;\n",
       "            font-weight:  400;\n",
       "        }    #T_082e5c06_33d9_11ea_be61_80e6501c196arow0_col7 {\n",
       "            color:  black;\n",
       "            font-weight:  400;\n",
       "        }    #T_082e5c06_33d9_11ea_be61_80e6501c196arow0_col8 {\n",
       "            color:  black;\n",
       "            font-weight:  400;\n",
       "        }    #T_082e5c06_33d9_11ea_be61_80e6501c196arow0_col9 {\n",
       "            color:  green;\n",
       "            font-weight:  700;\n",
       "        }    #T_082e5c06_33d9_11ea_be61_80e6501c196arow0_col10 {\n",
       "            color:  black;\n",
       "            font-weight:  400;\n",
       "        }    #T_082e5c06_33d9_11ea_be61_80e6501c196arow0_col11 {\n",
       "            color:  black;\n",
       "            font-weight:  400;\n",
       "        }    #T_082e5c06_33d9_11ea_be61_80e6501c196arow0_col12 {\n",
       "            color:  black;\n",
       "            font-weight:  400;\n",
       "        }    #T_082e5c06_33d9_11ea_be61_80e6501c196arow0_col13 {\n",
       "            color:  black;\n",
       "            font-weight:  400;\n",
       "        }    #T_082e5c06_33d9_11ea_be61_80e6501c196arow0_col14 {\n",
       "            color:  black;\n",
       "            font-weight:  400;\n",
       "        }    #T_082e5c06_33d9_11ea_be61_80e6501c196arow0_col15 {\n",
       "            color:  green;\n",
       "            font-weight:  700;\n",
       "        }    #T_082e5c06_33d9_11ea_be61_80e6501c196arow1_col0 {\n",
       "            color:  black;\n",
       "            font-weight:  400;\n",
       "        }    #T_082e5c06_33d9_11ea_be61_80e6501c196arow1_col1 {\n",
       "            color:  black;\n",
       "            font-weight:  400;\n",
       "        }    #T_082e5c06_33d9_11ea_be61_80e6501c196arow1_col2 {\n",
       "            color:  black;\n",
       "            font-weight:  400;\n",
       "        }    #T_082e5c06_33d9_11ea_be61_80e6501c196arow1_col3 {\n",
       "            color:  green;\n",
       "            font-weight:  700;\n",
       "        }    #T_082e5c06_33d9_11ea_be61_80e6501c196arow1_col4 {\n",
       "            color:  black;\n",
       "            font-weight:  400;\n",
       "        }    #T_082e5c06_33d9_11ea_be61_80e6501c196arow1_col5 {\n",
       "            color:  black;\n",
       "            font-weight:  400;\n",
       "        }    #T_082e5c06_33d9_11ea_be61_80e6501c196arow1_col6 {\n",
       "            color:  black;\n",
       "            font-weight:  400;\n",
       "        }    #T_082e5c06_33d9_11ea_be61_80e6501c196arow1_col7 {\n",
       "            color:  black;\n",
       "            font-weight:  400;\n",
       "        }    #T_082e5c06_33d9_11ea_be61_80e6501c196arow1_col8 {\n",
       "            color:  black;\n",
       "            font-weight:  400;\n",
       "        }    #T_082e5c06_33d9_11ea_be61_80e6501c196arow1_col9 {\n",
       "            color:  black;\n",
       "            font-weight:  400;\n",
       "        }    #T_082e5c06_33d9_11ea_be61_80e6501c196arow1_col10 {\n",
       "            color:  green;\n",
       "            font-weight:  700;\n",
       "        }    #T_082e5c06_33d9_11ea_be61_80e6501c196arow1_col11 {\n",
       "            color:  black;\n",
       "            font-weight:  400;\n",
       "        }    #T_082e5c06_33d9_11ea_be61_80e6501c196arow1_col12 {\n",
       "            color:  black;\n",
       "            font-weight:  400;\n",
       "        }    #T_082e5c06_33d9_11ea_be61_80e6501c196arow1_col13 {\n",
       "            color:  black;\n",
       "            font-weight:  400;\n",
       "        }    #T_082e5c06_33d9_11ea_be61_80e6501c196arow1_col14 {\n",
       "            color:  black;\n",
       "            font-weight:  400;\n",
       "        }    #T_082e5c06_33d9_11ea_be61_80e6501c196arow1_col15 {\n",
       "            color:  green;\n",
       "            font-weight:  700;\n",
       "        }    #T_082e5c06_33d9_11ea_be61_80e6501c196arow2_col0 {\n",
       "            color:  black;\n",
       "            font-weight:  400;\n",
       "        }    #T_082e5c06_33d9_11ea_be61_80e6501c196arow2_col1 {\n",
       "            color:  black;\n",
       "            font-weight:  400;\n",
       "        }    #T_082e5c06_33d9_11ea_be61_80e6501c196arow2_col2 {\n",
       "            color:  black;\n",
       "            font-weight:  400;\n",
       "        }    #T_082e5c06_33d9_11ea_be61_80e6501c196arow2_col3 {\n",
       "            color:  green;\n",
       "            font-weight:  700;\n",
       "        }    #T_082e5c06_33d9_11ea_be61_80e6501c196arow2_col4 {\n",
       "            color:  black;\n",
       "            font-weight:  400;\n",
       "        }    #T_082e5c06_33d9_11ea_be61_80e6501c196arow2_col5 {\n",
       "            color:  black;\n",
       "            font-weight:  400;\n",
       "        }    #T_082e5c06_33d9_11ea_be61_80e6501c196arow2_col6 {\n",
       "            color:  black;\n",
       "            font-weight:  400;\n",
       "        }    #T_082e5c06_33d9_11ea_be61_80e6501c196arow2_col7 {\n",
       "            color:  black;\n",
       "            font-weight:  400;\n",
       "        }    #T_082e5c06_33d9_11ea_be61_80e6501c196arow2_col8 {\n",
       "            color:  black;\n",
       "            font-weight:  400;\n",
       "        }    #T_082e5c06_33d9_11ea_be61_80e6501c196arow2_col9 {\n",
       "            color:  black;\n",
       "            font-weight:  400;\n",
       "        }    #T_082e5c06_33d9_11ea_be61_80e6501c196arow2_col10 {\n",
       "            color:  black;\n",
       "            font-weight:  400;\n",
       "        }    #T_082e5c06_33d9_11ea_be61_80e6501c196arow2_col11 {\n",
       "            color:  black;\n",
       "            font-weight:  400;\n",
       "        }    #T_082e5c06_33d9_11ea_be61_80e6501c196arow2_col12 {\n",
       "            color:  black;\n",
       "            font-weight:  400;\n",
       "        }    #T_082e5c06_33d9_11ea_be61_80e6501c196arow2_col13 {\n",
       "            color:  green;\n",
       "            font-weight:  700;\n",
       "        }    #T_082e5c06_33d9_11ea_be61_80e6501c196arow2_col14 {\n",
       "            color:  black;\n",
       "            font-weight:  400;\n",
       "        }    #T_082e5c06_33d9_11ea_be61_80e6501c196arow2_col15 {\n",
       "            color:  green;\n",
       "            font-weight:  700;\n",
       "        }    #T_082e5c06_33d9_11ea_be61_80e6501c196arow3_col0 {\n",
       "            color:  black;\n",
       "            font-weight:  400;\n",
       "        }    #T_082e5c06_33d9_11ea_be61_80e6501c196arow3_col1 {\n",
       "            color:  black;\n",
       "            font-weight:  400;\n",
       "        }    #T_082e5c06_33d9_11ea_be61_80e6501c196arow3_col2 {\n",
       "            color:  black;\n",
       "            font-weight:  400;\n",
       "        }    #T_082e5c06_33d9_11ea_be61_80e6501c196arow3_col3 {\n",
       "            color:  black;\n",
       "            font-weight:  400;\n",
       "        }    #T_082e5c06_33d9_11ea_be61_80e6501c196arow3_col4 {\n",
       "            color:  black;\n",
       "            font-weight:  400;\n",
       "        }    #T_082e5c06_33d9_11ea_be61_80e6501c196arow3_col5 {\n",
       "            color:  black;\n",
       "            font-weight:  400;\n",
       "        }    #T_082e5c06_33d9_11ea_be61_80e6501c196arow3_col6 {\n",
       "            color:  black;\n",
       "            font-weight:  400;\n",
       "        }    #T_082e5c06_33d9_11ea_be61_80e6501c196arow3_col7 {\n",
       "            color:  green;\n",
       "            font-weight:  700;\n",
       "        }    #T_082e5c06_33d9_11ea_be61_80e6501c196arow3_col8 {\n",
       "            color:  black;\n",
       "            font-weight:  400;\n",
       "        }    #T_082e5c06_33d9_11ea_be61_80e6501c196arow3_col9 {\n",
       "            color:  black;\n",
       "            font-weight:  400;\n",
       "        }    #T_082e5c06_33d9_11ea_be61_80e6501c196arow3_col10 {\n",
       "            color:  black;\n",
       "            font-weight:  400;\n",
       "        }    #T_082e5c06_33d9_11ea_be61_80e6501c196arow3_col11 {\n",
       "            color:  black;\n",
       "            font-weight:  400;\n",
       "        }    #T_082e5c06_33d9_11ea_be61_80e6501c196arow3_col12 {\n",
       "            color:  black;\n",
       "            font-weight:  400;\n",
       "        }    #T_082e5c06_33d9_11ea_be61_80e6501c196arow3_col13 {\n",
       "            color:  black;\n",
       "            font-weight:  400;\n",
       "        }    #T_082e5c06_33d9_11ea_be61_80e6501c196arow3_col14 {\n",
       "            color:  black;\n",
       "            font-weight:  400;\n",
       "        }    #T_082e5c06_33d9_11ea_be61_80e6501c196arow3_col15 {\n",
       "            color:  green;\n",
       "            font-weight:  700;\n",
       "        }    #T_082e5c06_33d9_11ea_be61_80e6501c196arow4_col0 {\n",
       "            color:  black;\n",
       "            font-weight:  400;\n",
       "        }    #T_082e5c06_33d9_11ea_be61_80e6501c196arow4_col1 {\n",
       "            color:  black;\n",
       "            font-weight:  400;\n",
       "        }    #T_082e5c06_33d9_11ea_be61_80e6501c196arow4_col2 {\n",
       "            color:  black;\n",
       "            font-weight:  400;\n",
       "        }    #T_082e5c06_33d9_11ea_be61_80e6501c196arow4_col3 {\n",
       "            color:  black;\n",
       "            font-weight:  400;\n",
       "        }    #T_082e5c06_33d9_11ea_be61_80e6501c196arow4_col4 {\n",
       "            color:  black;\n",
       "            font-weight:  400;\n",
       "        }    #T_082e5c06_33d9_11ea_be61_80e6501c196arow4_col5 {\n",
       "            color:  black;\n",
       "            font-weight:  400;\n",
       "        }    #T_082e5c06_33d9_11ea_be61_80e6501c196arow4_col6 {\n",
       "            color:  black;\n",
       "            font-weight:  400;\n",
       "        }    #T_082e5c06_33d9_11ea_be61_80e6501c196arow4_col7 {\n",
       "            color:  black;\n",
       "            font-weight:  400;\n",
       "        }    #T_082e5c06_33d9_11ea_be61_80e6501c196arow4_col8 {\n",
       "            color:  black;\n",
       "            font-weight:  400;\n",
       "        }    #T_082e5c06_33d9_11ea_be61_80e6501c196arow4_col9 {\n",
       "            color:  black;\n",
       "            font-weight:  400;\n",
       "        }    #T_082e5c06_33d9_11ea_be61_80e6501c196arow4_col10 {\n",
       "            color:  black;\n",
       "            font-weight:  400;\n",
       "        }    #T_082e5c06_33d9_11ea_be61_80e6501c196arow4_col11 {\n",
       "            color:  black;\n",
       "            font-weight:  400;\n",
       "        }    #T_082e5c06_33d9_11ea_be61_80e6501c196arow4_col12 {\n",
       "            color:  black;\n",
       "            font-weight:  400;\n",
       "        }    #T_082e5c06_33d9_11ea_be61_80e6501c196arow4_col13 {\n",
       "            color:  green;\n",
       "            font-weight:  700;\n",
       "        }    #T_082e5c06_33d9_11ea_be61_80e6501c196arow4_col14 {\n",
       "            color:  black;\n",
       "            font-weight:  400;\n",
       "        }    #T_082e5c06_33d9_11ea_be61_80e6501c196arow4_col15 {\n",
       "            color:  green;\n",
       "            font-weight:  700;\n",
       "        }    #T_082e5c06_33d9_11ea_be61_80e6501c196arow5_col0 {\n",
       "            color:  green;\n",
       "            font-weight:  700;\n",
       "        }    #T_082e5c06_33d9_11ea_be61_80e6501c196arow5_col1 {\n",
       "            color:  black;\n",
       "            font-weight:  400;\n",
       "        }    #T_082e5c06_33d9_11ea_be61_80e6501c196arow5_col2 {\n",
       "            color:  green;\n",
       "            font-weight:  700;\n",
       "        }    #T_082e5c06_33d9_11ea_be61_80e6501c196arow5_col3 {\n",
       "            color:  black;\n",
       "            font-weight:  400;\n",
       "        }    #T_082e5c06_33d9_11ea_be61_80e6501c196arow5_col4 {\n",
       "            color:  black;\n",
       "            font-weight:  400;\n",
       "        }    #T_082e5c06_33d9_11ea_be61_80e6501c196arow5_col5 {\n",
       "            color:  black;\n",
       "            font-weight:  400;\n",
       "        }    #T_082e5c06_33d9_11ea_be61_80e6501c196arow5_col6 {\n",
       "            color:  black;\n",
       "            font-weight:  400;\n",
       "        }    #T_082e5c06_33d9_11ea_be61_80e6501c196arow5_col7 {\n",
       "            color:  black;\n",
       "            font-weight:  400;\n",
       "        }    #T_082e5c06_33d9_11ea_be61_80e6501c196arow5_col8 {\n",
       "            color:  black;\n",
       "            font-weight:  400;\n",
       "        }    #T_082e5c06_33d9_11ea_be61_80e6501c196arow5_col9 {\n",
       "            color:  black;\n",
       "            font-weight:  400;\n",
       "        }    #T_082e5c06_33d9_11ea_be61_80e6501c196arow5_col10 {\n",
       "            color:  green;\n",
       "            font-weight:  700;\n",
       "        }    #T_082e5c06_33d9_11ea_be61_80e6501c196arow5_col11 {\n",
       "            color:  black;\n",
       "            font-weight:  400;\n",
       "        }    #T_082e5c06_33d9_11ea_be61_80e6501c196arow5_col12 {\n",
       "            color:  black;\n",
       "            font-weight:  400;\n",
       "        }    #T_082e5c06_33d9_11ea_be61_80e6501c196arow5_col13 {\n",
       "            color:  black;\n",
       "            font-weight:  400;\n",
       "        }    #T_082e5c06_33d9_11ea_be61_80e6501c196arow5_col14 {\n",
       "            color:  black;\n",
       "            font-weight:  400;\n",
       "        }    #T_082e5c06_33d9_11ea_be61_80e6501c196arow5_col15 {\n",
       "            color:  green;\n",
       "            font-weight:  700;\n",
       "        }    #T_082e5c06_33d9_11ea_be61_80e6501c196arow6_col0 {\n",
       "            color:  green;\n",
       "            font-weight:  700;\n",
       "        }    #T_082e5c06_33d9_11ea_be61_80e6501c196arow6_col1 {\n",
       "            color:  black;\n",
       "            font-weight:  400;\n",
       "        }    #T_082e5c06_33d9_11ea_be61_80e6501c196arow6_col2 {\n",
       "            color:  green;\n",
       "            font-weight:  700;\n",
       "        }    #T_082e5c06_33d9_11ea_be61_80e6501c196arow6_col3 {\n",
       "            color:  black;\n",
       "            font-weight:  400;\n",
       "        }    #T_082e5c06_33d9_11ea_be61_80e6501c196arow6_col4 {\n",
       "            color:  black;\n",
       "            font-weight:  400;\n",
       "        }    #T_082e5c06_33d9_11ea_be61_80e6501c196arow6_col5 {\n",
       "            color:  black;\n",
       "            font-weight:  400;\n",
       "        }    #T_082e5c06_33d9_11ea_be61_80e6501c196arow6_col6 {\n",
       "            color:  black;\n",
       "            font-weight:  400;\n",
       "        }    #T_082e5c06_33d9_11ea_be61_80e6501c196arow6_col7 {\n",
       "            color:  green;\n",
       "            font-weight:  700;\n",
       "        }    #T_082e5c06_33d9_11ea_be61_80e6501c196arow6_col8 {\n",
       "            color:  black;\n",
       "            font-weight:  400;\n",
       "        }    #T_082e5c06_33d9_11ea_be61_80e6501c196arow6_col9 {\n",
       "            color:  black;\n",
       "            font-weight:  400;\n",
       "        }    #T_082e5c06_33d9_11ea_be61_80e6501c196arow6_col10 {\n",
       "            color:  black;\n",
       "            font-weight:  400;\n",
       "        }    #T_082e5c06_33d9_11ea_be61_80e6501c196arow6_col11 {\n",
       "            color:  black;\n",
       "            font-weight:  400;\n",
       "        }    #T_082e5c06_33d9_11ea_be61_80e6501c196arow6_col12 {\n",
       "            color:  black;\n",
       "            font-weight:  400;\n",
       "        }    #T_082e5c06_33d9_11ea_be61_80e6501c196arow6_col13 {\n",
       "            color:  black;\n",
       "            font-weight:  400;\n",
       "        }    #T_082e5c06_33d9_11ea_be61_80e6501c196arow6_col14 {\n",
       "            color:  black;\n",
       "            font-weight:  400;\n",
       "        }    #T_082e5c06_33d9_11ea_be61_80e6501c196arow6_col15 {\n",
       "            color:  green;\n",
       "            font-weight:  700;\n",
       "        }    #T_082e5c06_33d9_11ea_be61_80e6501c196arow7_col0 {\n",
       "            color:  black;\n",
       "            font-weight:  400;\n",
       "        }    #T_082e5c06_33d9_11ea_be61_80e6501c196arow7_col1 {\n",
       "            color:  black;\n",
       "            font-weight:  400;\n",
       "        }    #T_082e5c06_33d9_11ea_be61_80e6501c196arow7_col2 {\n",
       "            color:  black;\n",
       "            font-weight:  400;\n",
       "        }    #T_082e5c06_33d9_11ea_be61_80e6501c196arow7_col3 {\n",
       "            color:  black;\n",
       "            font-weight:  400;\n",
       "        }    #T_082e5c06_33d9_11ea_be61_80e6501c196arow7_col4 {\n",
       "            color:  green;\n",
       "            font-weight:  700;\n",
       "        }    #T_082e5c06_33d9_11ea_be61_80e6501c196arow7_col5 {\n",
       "            color:  black;\n",
       "            font-weight:  400;\n",
       "        }    #T_082e5c06_33d9_11ea_be61_80e6501c196arow7_col6 {\n",
       "            color:  black;\n",
       "            font-weight:  400;\n",
       "        }    #T_082e5c06_33d9_11ea_be61_80e6501c196arow7_col7 {\n",
       "            color:  black;\n",
       "            font-weight:  400;\n",
       "        }    #T_082e5c06_33d9_11ea_be61_80e6501c196arow7_col8 {\n",
       "            color:  green;\n",
       "            font-weight:  700;\n",
       "        }    #T_082e5c06_33d9_11ea_be61_80e6501c196arow7_col9 {\n",
       "            color:  black;\n",
       "            font-weight:  400;\n",
       "        }    #T_082e5c06_33d9_11ea_be61_80e6501c196arow7_col10 {\n",
       "            color:  black;\n",
       "            font-weight:  400;\n",
       "        }    #T_082e5c06_33d9_11ea_be61_80e6501c196arow7_col11 {\n",
       "            color:  black;\n",
       "            font-weight:  400;\n",
       "        }    #T_082e5c06_33d9_11ea_be61_80e6501c196arow7_col12 {\n",
       "            color:  black;\n",
       "            font-weight:  400;\n",
       "        }    #T_082e5c06_33d9_11ea_be61_80e6501c196arow7_col13 {\n",
       "            color:  black;\n",
       "            font-weight:  400;\n",
       "        }    #T_082e5c06_33d9_11ea_be61_80e6501c196arow7_col14 {\n",
       "            color:  black;\n",
       "            font-weight:  400;\n",
       "        }    #T_082e5c06_33d9_11ea_be61_80e6501c196arow7_col15 {\n",
       "            color:  green;\n",
       "            font-weight:  700;\n",
       "        }    #T_082e5c06_33d9_11ea_be61_80e6501c196arow8_col0 {\n",
       "            color:  black;\n",
       "            font-weight:  400;\n",
       "        }    #T_082e5c06_33d9_11ea_be61_80e6501c196arow8_col1 {\n",
       "            color:  black;\n",
       "            font-weight:  400;\n",
       "        }    #T_082e5c06_33d9_11ea_be61_80e6501c196arow8_col2 {\n",
       "            color:  black;\n",
       "            font-weight:  400;\n",
       "        }    #T_082e5c06_33d9_11ea_be61_80e6501c196arow8_col3 {\n",
       "            color:  black;\n",
       "            font-weight:  400;\n",
       "        }    #T_082e5c06_33d9_11ea_be61_80e6501c196arow8_col4 {\n",
       "            color:  black;\n",
       "            font-weight:  400;\n",
       "        }    #T_082e5c06_33d9_11ea_be61_80e6501c196arow8_col5 {\n",
       "            color:  black;\n",
       "            font-weight:  400;\n",
       "        }    #T_082e5c06_33d9_11ea_be61_80e6501c196arow8_col6 {\n",
       "            color:  black;\n",
       "            font-weight:  400;\n",
       "        }    #T_082e5c06_33d9_11ea_be61_80e6501c196arow8_col7 {\n",
       "            color:  black;\n",
       "            font-weight:  400;\n",
       "        }    #T_082e5c06_33d9_11ea_be61_80e6501c196arow8_col8 {\n",
       "            color:  black;\n",
       "            font-weight:  400;\n",
       "        }    #T_082e5c06_33d9_11ea_be61_80e6501c196arow8_col9 {\n",
       "            color:  black;\n",
       "            font-weight:  400;\n",
       "        }    #T_082e5c06_33d9_11ea_be61_80e6501c196arow8_col10 {\n",
       "            color:  green;\n",
       "            font-weight:  700;\n",
       "        }    #T_082e5c06_33d9_11ea_be61_80e6501c196arow8_col11 {\n",
       "            color:  black;\n",
       "            font-weight:  400;\n",
       "        }    #T_082e5c06_33d9_11ea_be61_80e6501c196arow8_col12 {\n",
       "            color:  black;\n",
       "            font-weight:  400;\n",
       "        }    #T_082e5c06_33d9_11ea_be61_80e6501c196arow8_col13 {\n",
       "            color:  black;\n",
       "            font-weight:  400;\n",
       "        }    #T_082e5c06_33d9_11ea_be61_80e6501c196arow8_col14 {\n",
       "            color:  black;\n",
       "            font-weight:  400;\n",
       "        }    #T_082e5c06_33d9_11ea_be61_80e6501c196arow8_col15 {\n",
       "            color:  green;\n",
       "            font-weight:  700;\n",
       "        }    #T_082e5c06_33d9_11ea_be61_80e6501c196arow9_col0 {\n",
       "            color:  black;\n",
       "            font-weight:  400;\n",
       "        }    #T_082e5c06_33d9_11ea_be61_80e6501c196arow9_col1 {\n",
       "            color:  black;\n",
       "            font-weight:  400;\n",
       "        }    #T_082e5c06_33d9_11ea_be61_80e6501c196arow9_col2 {\n",
       "            color:  green;\n",
       "            font-weight:  700;\n",
       "        }    #T_082e5c06_33d9_11ea_be61_80e6501c196arow9_col3 {\n",
       "            color:  black;\n",
       "            font-weight:  400;\n",
       "        }    #T_082e5c06_33d9_11ea_be61_80e6501c196arow9_col4 {\n",
       "            color:  green;\n",
       "            font-weight:  700;\n",
       "        }    #T_082e5c06_33d9_11ea_be61_80e6501c196arow9_col5 {\n",
       "            color:  black;\n",
       "            font-weight:  400;\n",
       "        }    #T_082e5c06_33d9_11ea_be61_80e6501c196arow9_col6 {\n",
       "            color:  green;\n",
       "            font-weight:  700;\n",
       "        }    #T_082e5c06_33d9_11ea_be61_80e6501c196arow9_col7 {\n",
       "            color:  black;\n",
       "            font-weight:  400;\n",
       "        }    #T_082e5c06_33d9_11ea_be61_80e6501c196arow9_col8 {\n",
       "            color:  black;\n",
       "            font-weight:  400;\n",
       "        }    #T_082e5c06_33d9_11ea_be61_80e6501c196arow9_col9 {\n",
       "            color:  black;\n",
       "            font-weight:  400;\n",
       "        }    #T_082e5c06_33d9_11ea_be61_80e6501c196arow9_col10 {\n",
       "            color:  black;\n",
       "            font-weight:  400;\n",
       "        }    #T_082e5c06_33d9_11ea_be61_80e6501c196arow9_col11 {\n",
       "            color:  black;\n",
       "            font-weight:  400;\n",
       "        }    #T_082e5c06_33d9_11ea_be61_80e6501c196arow9_col12 {\n",
       "            color:  black;\n",
       "            font-weight:  400;\n",
       "        }    #T_082e5c06_33d9_11ea_be61_80e6501c196arow9_col13 {\n",
       "            color:  black;\n",
       "            font-weight:  400;\n",
       "        }    #T_082e5c06_33d9_11ea_be61_80e6501c196arow9_col14 {\n",
       "            color:  black;\n",
       "            font-weight:  400;\n",
       "        }    #T_082e5c06_33d9_11ea_be61_80e6501c196arow9_col15 {\n",
       "            color:  green;\n",
       "            font-weight:  700;\n",
       "        }    #T_082e5c06_33d9_11ea_be61_80e6501c196arow10_col0 {\n",
       "            color:  green;\n",
       "            font-weight:  700;\n",
       "        }    #T_082e5c06_33d9_11ea_be61_80e6501c196arow10_col1 {\n",
       "            color:  black;\n",
       "            font-weight:  400;\n",
       "        }    #T_082e5c06_33d9_11ea_be61_80e6501c196arow10_col2 {\n",
       "            color:  black;\n",
       "            font-weight:  400;\n",
       "        }    #T_082e5c06_33d9_11ea_be61_80e6501c196arow10_col3 {\n",
       "            color:  black;\n",
       "            font-weight:  400;\n",
       "        }    #T_082e5c06_33d9_11ea_be61_80e6501c196arow10_col4 {\n",
       "            color:  black;\n",
       "            font-weight:  400;\n",
       "        }    #T_082e5c06_33d9_11ea_be61_80e6501c196arow10_col5 {\n",
       "            color:  black;\n",
       "            font-weight:  400;\n",
       "        }    #T_082e5c06_33d9_11ea_be61_80e6501c196arow10_col6 {\n",
       "            color:  black;\n",
       "            font-weight:  400;\n",
       "        }    #T_082e5c06_33d9_11ea_be61_80e6501c196arow10_col7 {\n",
       "            color:  black;\n",
       "            font-weight:  400;\n",
       "        }    #T_082e5c06_33d9_11ea_be61_80e6501c196arow10_col8 {\n",
       "            color:  black;\n",
       "            font-weight:  400;\n",
       "        }    #T_082e5c06_33d9_11ea_be61_80e6501c196arow10_col9 {\n",
       "            color:  black;\n",
       "            font-weight:  400;\n",
       "        }    #T_082e5c06_33d9_11ea_be61_80e6501c196arow10_col10 {\n",
       "            color:  black;\n",
       "            font-weight:  400;\n",
       "        }    #T_082e5c06_33d9_11ea_be61_80e6501c196arow10_col11 {\n",
       "            color:  black;\n",
       "            font-weight:  400;\n",
       "        }    #T_082e5c06_33d9_11ea_be61_80e6501c196arow10_col12 {\n",
       "            color:  black;\n",
       "            font-weight:  400;\n",
       "        }    #T_082e5c06_33d9_11ea_be61_80e6501c196arow10_col13 {\n",
       "            color:  black;\n",
       "            font-weight:  400;\n",
       "        }    #T_082e5c06_33d9_11ea_be61_80e6501c196arow10_col14 {\n",
       "            color:  black;\n",
       "            font-weight:  400;\n",
       "        }    #T_082e5c06_33d9_11ea_be61_80e6501c196arow10_col15 {\n",
       "            color:  black;\n",
       "            font-weight:  400;\n",
       "        }    #T_082e5c06_33d9_11ea_be61_80e6501c196arow11_col0 {\n",
       "            color:  black;\n",
       "            font-weight:  400;\n",
       "        }    #T_082e5c06_33d9_11ea_be61_80e6501c196arow11_col1 {\n",
       "            color:  black;\n",
       "            font-weight:  400;\n",
       "        }    #T_082e5c06_33d9_11ea_be61_80e6501c196arow11_col2 {\n",
       "            color:  green;\n",
       "            font-weight:  700;\n",
       "        }    #T_082e5c06_33d9_11ea_be61_80e6501c196arow11_col3 {\n",
       "            color:  black;\n",
       "            font-weight:  400;\n",
       "        }    #T_082e5c06_33d9_11ea_be61_80e6501c196arow11_col4 {\n",
       "            color:  black;\n",
       "            font-weight:  400;\n",
       "        }    #T_082e5c06_33d9_11ea_be61_80e6501c196arow11_col5 {\n",
       "            color:  black;\n",
       "            font-weight:  400;\n",
       "        }    #T_082e5c06_33d9_11ea_be61_80e6501c196arow11_col6 {\n",
       "            color:  black;\n",
       "            font-weight:  400;\n",
       "        }    #T_082e5c06_33d9_11ea_be61_80e6501c196arow11_col7 {\n",
       "            color:  black;\n",
       "            font-weight:  400;\n",
       "        }    #T_082e5c06_33d9_11ea_be61_80e6501c196arow11_col8 {\n",
       "            color:  black;\n",
       "            font-weight:  400;\n",
       "        }    #T_082e5c06_33d9_11ea_be61_80e6501c196arow11_col9 {\n",
       "            color:  black;\n",
       "            font-weight:  400;\n",
       "        }    #T_082e5c06_33d9_11ea_be61_80e6501c196arow11_col10 {\n",
       "            color:  black;\n",
       "            font-weight:  400;\n",
       "        }    #T_082e5c06_33d9_11ea_be61_80e6501c196arow11_col11 {\n",
       "            color:  black;\n",
       "            font-weight:  400;\n",
       "        }    #T_082e5c06_33d9_11ea_be61_80e6501c196arow11_col12 {\n",
       "            color:  black;\n",
       "            font-weight:  400;\n",
       "        }    #T_082e5c06_33d9_11ea_be61_80e6501c196arow11_col13 {\n",
       "            color:  green;\n",
       "            font-weight:  700;\n",
       "        }    #T_082e5c06_33d9_11ea_be61_80e6501c196arow11_col14 {\n",
       "            color:  green;\n",
       "            font-weight:  700;\n",
       "        }    #T_082e5c06_33d9_11ea_be61_80e6501c196arow11_col15 {\n",
       "            color:  green;\n",
       "            font-weight:  700;\n",
       "        }    #T_082e5c06_33d9_11ea_be61_80e6501c196arow12_col0 {\n",
       "            color:  black;\n",
       "            font-weight:  400;\n",
       "        }    #T_082e5c06_33d9_11ea_be61_80e6501c196arow12_col1 {\n",
       "            color:  green;\n",
       "            font-weight:  700;\n",
       "        }    #T_082e5c06_33d9_11ea_be61_80e6501c196arow12_col2 {\n",
       "            color:  black;\n",
       "            font-weight:  400;\n",
       "        }    #T_082e5c06_33d9_11ea_be61_80e6501c196arow12_col3 {\n",
       "            color:  black;\n",
       "            font-weight:  400;\n",
       "        }    #T_082e5c06_33d9_11ea_be61_80e6501c196arow12_col4 {\n",
       "            color:  black;\n",
       "            font-weight:  400;\n",
       "        }    #T_082e5c06_33d9_11ea_be61_80e6501c196arow12_col5 {\n",
       "            color:  black;\n",
       "            font-weight:  400;\n",
       "        }    #T_082e5c06_33d9_11ea_be61_80e6501c196arow12_col6 {\n",
       "            color:  black;\n",
       "            font-weight:  400;\n",
       "        }    #T_082e5c06_33d9_11ea_be61_80e6501c196arow12_col7 {\n",
       "            color:  black;\n",
       "            font-weight:  400;\n",
       "        }    #T_082e5c06_33d9_11ea_be61_80e6501c196arow12_col8 {\n",
       "            color:  black;\n",
       "            font-weight:  400;\n",
       "        }    #T_082e5c06_33d9_11ea_be61_80e6501c196arow12_col9 {\n",
       "            color:  black;\n",
       "            font-weight:  400;\n",
       "        }    #T_082e5c06_33d9_11ea_be61_80e6501c196arow12_col10 {\n",
       "            color:  black;\n",
       "            font-weight:  400;\n",
       "        }    #T_082e5c06_33d9_11ea_be61_80e6501c196arow12_col11 {\n",
       "            color:  black;\n",
       "            font-weight:  400;\n",
       "        }    #T_082e5c06_33d9_11ea_be61_80e6501c196arow12_col12 {\n",
       "            color:  black;\n",
       "            font-weight:  400;\n",
       "        }    #T_082e5c06_33d9_11ea_be61_80e6501c196arow12_col13 {\n",
       "            color:  black;\n",
       "            font-weight:  400;\n",
       "        }    #T_082e5c06_33d9_11ea_be61_80e6501c196arow12_col14 {\n",
       "            color:  black;\n",
       "            font-weight:  400;\n",
       "        }    #T_082e5c06_33d9_11ea_be61_80e6501c196arow12_col15 {\n",
       "            color:  green;\n",
       "            font-weight:  700;\n",
       "        }    #T_082e5c06_33d9_11ea_be61_80e6501c196arow13_col0 {\n",
       "            color:  black;\n",
       "            font-weight:  400;\n",
       "        }    #T_082e5c06_33d9_11ea_be61_80e6501c196arow13_col1 {\n",
       "            color:  black;\n",
       "            font-weight:  400;\n",
       "        }    #T_082e5c06_33d9_11ea_be61_80e6501c196arow13_col2 {\n",
       "            color:  black;\n",
       "            font-weight:  400;\n",
       "        }    #T_082e5c06_33d9_11ea_be61_80e6501c196arow13_col3 {\n",
       "            color:  black;\n",
       "            font-weight:  400;\n",
       "        }    #T_082e5c06_33d9_11ea_be61_80e6501c196arow13_col4 {\n",
       "            color:  black;\n",
       "            font-weight:  400;\n",
       "        }    #T_082e5c06_33d9_11ea_be61_80e6501c196arow13_col5 {\n",
       "            color:  green;\n",
       "            font-weight:  700;\n",
       "        }    #T_082e5c06_33d9_11ea_be61_80e6501c196arow13_col6 {\n",
       "            color:  black;\n",
       "            font-weight:  400;\n",
       "        }    #T_082e5c06_33d9_11ea_be61_80e6501c196arow13_col7 {\n",
       "            color:  black;\n",
       "            font-weight:  400;\n",
       "        }    #T_082e5c06_33d9_11ea_be61_80e6501c196arow13_col8 {\n",
       "            color:  black;\n",
       "            font-weight:  400;\n",
       "        }    #T_082e5c06_33d9_11ea_be61_80e6501c196arow13_col9 {\n",
       "            color:  black;\n",
       "            font-weight:  400;\n",
       "        }    #T_082e5c06_33d9_11ea_be61_80e6501c196arow13_col10 {\n",
       "            color:  green;\n",
       "            font-weight:  700;\n",
       "        }    #T_082e5c06_33d9_11ea_be61_80e6501c196arow13_col11 {\n",
       "            color:  black;\n",
       "            font-weight:  400;\n",
       "        }    #T_082e5c06_33d9_11ea_be61_80e6501c196arow13_col12 {\n",
       "            color:  black;\n",
       "            font-weight:  400;\n",
       "        }    #T_082e5c06_33d9_11ea_be61_80e6501c196arow13_col13 {\n",
       "            color:  black;\n",
       "            font-weight:  400;\n",
       "        }    #T_082e5c06_33d9_11ea_be61_80e6501c196arow13_col14 {\n",
       "            color:  black;\n",
       "            font-weight:  400;\n",
       "        }    #T_082e5c06_33d9_11ea_be61_80e6501c196arow13_col15 {\n",
       "            color:  green;\n",
       "            font-weight:  700;\n",
       "        }    #T_082e5c06_33d9_11ea_be61_80e6501c196arow14_col0 {\n",
       "            color:  black;\n",
       "            font-weight:  400;\n",
       "        }    #T_082e5c06_33d9_11ea_be61_80e6501c196arow14_col1 {\n",
       "            color:  black;\n",
       "            font-weight:  400;\n",
       "        }    #T_082e5c06_33d9_11ea_be61_80e6501c196arow14_col2 {\n",
       "            color:  black;\n",
       "            font-weight:  400;\n",
       "        }    #T_082e5c06_33d9_11ea_be61_80e6501c196arow14_col3 {\n",
       "            color:  black;\n",
       "            font-weight:  400;\n",
       "        }    #T_082e5c06_33d9_11ea_be61_80e6501c196arow14_col4 {\n",
       "            color:  green;\n",
       "            font-weight:  700;\n",
       "        }    #T_082e5c06_33d9_11ea_be61_80e6501c196arow14_col5 {\n",
       "            color:  black;\n",
       "            font-weight:  400;\n",
       "        }    #T_082e5c06_33d9_11ea_be61_80e6501c196arow14_col6 {\n",
       "            color:  black;\n",
       "            font-weight:  400;\n",
       "        }    #T_082e5c06_33d9_11ea_be61_80e6501c196arow14_col7 {\n",
       "            color:  black;\n",
       "            font-weight:  400;\n",
       "        }    #T_082e5c06_33d9_11ea_be61_80e6501c196arow14_col8 {\n",
       "            color:  black;\n",
       "            font-weight:  400;\n",
       "        }    #T_082e5c06_33d9_11ea_be61_80e6501c196arow14_col9 {\n",
       "            color:  green;\n",
       "            font-weight:  700;\n",
       "        }    #T_082e5c06_33d9_11ea_be61_80e6501c196arow14_col10 {\n",
       "            color:  black;\n",
       "            font-weight:  400;\n",
       "        }    #T_082e5c06_33d9_11ea_be61_80e6501c196arow14_col11 {\n",
       "            color:  black;\n",
       "            font-weight:  400;\n",
       "        }    #T_082e5c06_33d9_11ea_be61_80e6501c196arow14_col12 {\n",
       "            color:  black;\n",
       "            font-weight:  400;\n",
       "        }    #T_082e5c06_33d9_11ea_be61_80e6501c196arow14_col13 {\n",
       "            color:  black;\n",
       "            font-weight:  400;\n",
       "        }    #T_082e5c06_33d9_11ea_be61_80e6501c196arow14_col14 {\n",
       "            color:  black;\n",
       "            font-weight:  400;\n",
       "        }    #T_082e5c06_33d9_11ea_be61_80e6501c196arow14_col15 {\n",
       "            color:  green;\n",
       "            font-weight:  700;\n",
       "        }</style><table id=\"T_082e5c06_33d9_11ea_be61_80e6501c196a\" ><thead>    <tr>        <th class=\"blank level0\" ></th>        <th class=\"col_heading level0 col0\" >Topic0</th>        <th class=\"col_heading level0 col1\" >Topic1</th>        <th class=\"col_heading level0 col2\" >Topic2</th>        <th class=\"col_heading level0 col3\" >Topic3</th>        <th class=\"col_heading level0 col4\" >Topic4</th>        <th class=\"col_heading level0 col5\" >Topic5</th>        <th class=\"col_heading level0 col6\" >Topic6</th>        <th class=\"col_heading level0 col7\" >Topic7</th>        <th class=\"col_heading level0 col8\" >Topic8</th>        <th class=\"col_heading level0 col9\" >Topic9</th>        <th class=\"col_heading level0 col10\" >Topic10</th>        <th class=\"col_heading level0 col11\" >Topic11</th>        <th class=\"col_heading level0 col12\" >Topic12</th>        <th class=\"col_heading level0 col13\" >Topic13</th>        <th class=\"col_heading level0 col14\" >Topic14</th>        <th class=\"col_heading level0 col15\" >dominant_topic</th>    </tr></thead><tbody>\n",
       "                <tr>\n",
       "                        <th id=\"T_082e5c06_33d9_11ea_be61_80e6501c196alevel0_row0\" class=\"row_heading level0 row0\" >Doc0</th>\n",
       "                        <td id=\"T_082e5c06_33d9_11ea_be61_80e6501c196arow0_col0\" class=\"data row0 col0\" >0.01</td>\n",
       "                        <td id=\"T_082e5c06_33d9_11ea_be61_80e6501c196arow0_col1\" class=\"data row0 col1\" >0.01</td>\n",
       "                        <td id=\"T_082e5c06_33d9_11ea_be61_80e6501c196arow0_col2\" class=\"data row0 col2\" >0.01</td>\n",
       "                        <td id=\"T_082e5c06_33d9_11ea_be61_80e6501c196arow0_col3\" class=\"data row0 col3\" >0.01</td>\n",
       "                        <td id=\"T_082e5c06_33d9_11ea_be61_80e6501c196arow0_col4\" class=\"data row0 col4\" >0.16</td>\n",
       "                        <td id=\"T_082e5c06_33d9_11ea_be61_80e6501c196arow0_col5\" class=\"data row0 col5\" >0.58</td>\n",
       "                        <td id=\"T_082e5c06_33d9_11ea_be61_80e6501c196arow0_col6\" class=\"data row0 col6\" >0.01</td>\n",
       "                        <td id=\"T_082e5c06_33d9_11ea_be61_80e6501c196arow0_col7\" class=\"data row0 col7\" >0.01</td>\n",
       "                        <td id=\"T_082e5c06_33d9_11ea_be61_80e6501c196arow0_col8\" class=\"data row0 col8\" >0.01</td>\n",
       "                        <td id=\"T_082e5c06_33d9_11ea_be61_80e6501c196arow0_col9\" class=\"data row0 col9\" >0.16</td>\n",
       "                        <td id=\"T_082e5c06_33d9_11ea_be61_80e6501c196arow0_col10\" class=\"data row0 col10\" >0.01</td>\n",
       "                        <td id=\"T_082e5c06_33d9_11ea_be61_80e6501c196arow0_col11\" class=\"data row0 col11\" >0.01</td>\n",
       "                        <td id=\"T_082e5c06_33d9_11ea_be61_80e6501c196arow0_col12\" class=\"data row0 col12\" >0.01</td>\n",
       "                        <td id=\"T_082e5c06_33d9_11ea_be61_80e6501c196arow0_col13\" class=\"data row0 col13\" >0.01</td>\n",
       "                        <td id=\"T_082e5c06_33d9_11ea_be61_80e6501c196arow0_col14\" class=\"data row0 col14\" >0.01</td>\n",
       "                        <td id=\"T_082e5c06_33d9_11ea_be61_80e6501c196arow0_col15\" class=\"data row0 col15\" >5</td>\n",
       "            </tr>\n",
       "            <tr>\n",
       "                        <th id=\"T_082e5c06_33d9_11ea_be61_80e6501c196alevel0_row1\" class=\"row_heading level0 row1\" >Doc1</th>\n",
       "                        <td id=\"T_082e5c06_33d9_11ea_be61_80e6501c196arow1_col0\" class=\"data row1 col0\" >0.01</td>\n",
       "                        <td id=\"T_082e5c06_33d9_11ea_be61_80e6501c196arow1_col1\" class=\"data row1 col1\" >0.01</td>\n",
       "                        <td id=\"T_082e5c06_33d9_11ea_be61_80e6501c196arow1_col2\" class=\"data row1 col2\" >0.01</td>\n",
       "                        <td id=\"T_082e5c06_33d9_11ea_be61_80e6501c196arow1_col3\" class=\"data row1 col3\" >0.44</td>\n",
       "                        <td id=\"T_082e5c06_33d9_11ea_be61_80e6501c196arow1_col4\" class=\"data row1 col4\" >0.01</td>\n",
       "                        <td id=\"T_082e5c06_33d9_11ea_be61_80e6501c196arow1_col5\" class=\"data row1 col5\" >0.01</td>\n",
       "                        <td id=\"T_082e5c06_33d9_11ea_be61_80e6501c196arow1_col6\" class=\"data row1 col6\" >0.01</td>\n",
       "                        <td id=\"T_082e5c06_33d9_11ea_be61_80e6501c196arow1_col7\" class=\"data row1 col7\" >0.01</td>\n",
       "                        <td id=\"T_082e5c06_33d9_11ea_be61_80e6501c196arow1_col8\" class=\"data row1 col8\" >0.01</td>\n",
       "                        <td id=\"T_082e5c06_33d9_11ea_be61_80e6501c196arow1_col9\" class=\"data row1 col9\" >0.01</td>\n",
       "                        <td id=\"T_082e5c06_33d9_11ea_be61_80e6501c196arow1_col10\" class=\"data row1 col10\" >0.45</td>\n",
       "                        <td id=\"T_082e5c06_33d9_11ea_be61_80e6501c196arow1_col11\" class=\"data row1 col11\" >0.01</td>\n",
       "                        <td id=\"T_082e5c06_33d9_11ea_be61_80e6501c196arow1_col12\" class=\"data row1 col12\" >0.01</td>\n",
       "                        <td id=\"T_082e5c06_33d9_11ea_be61_80e6501c196arow1_col13\" class=\"data row1 col13\" >0.01</td>\n",
       "                        <td id=\"T_082e5c06_33d9_11ea_be61_80e6501c196arow1_col14\" class=\"data row1 col14\" >0.01</td>\n",
       "                        <td id=\"T_082e5c06_33d9_11ea_be61_80e6501c196arow1_col15\" class=\"data row1 col15\" >10</td>\n",
       "            </tr>\n",
       "            <tr>\n",
       "                        <th id=\"T_082e5c06_33d9_11ea_be61_80e6501c196alevel0_row2\" class=\"row_heading level0 row2\" >Doc2</th>\n",
       "                        <td id=\"T_082e5c06_33d9_11ea_be61_80e6501c196arow2_col0\" class=\"data row2 col0\" >0.07</td>\n",
       "                        <td id=\"T_082e5c06_33d9_11ea_be61_80e6501c196arow2_col1\" class=\"data row2 col1\" >0</td>\n",
       "                        <td id=\"T_082e5c06_33d9_11ea_be61_80e6501c196arow2_col2\" class=\"data row2 col2\" >0</td>\n",
       "                        <td id=\"T_082e5c06_33d9_11ea_be61_80e6501c196arow2_col3\" class=\"data row2 col3\" >0.44</td>\n",
       "                        <td id=\"T_082e5c06_33d9_11ea_be61_80e6501c196arow2_col4\" class=\"data row2 col4\" >0</td>\n",
       "                        <td id=\"T_082e5c06_33d9_11ea_be61_80e6501c196arow2_col5\" class=\"data row2 col5\" >0</td>\n",
       "                        <td id=\"T_082e5c06_33d9_11ea_be61_80e6501c196arow2_col6\" class=\"data row2 col6\" >0</td>\n",
       "                        <td id=\"T_082e5c06_33d9_11ea_be61_80e6501c196arow2_col7\" class=\"data row2 col7\" >0</td>\n",
       "                        <td id=\"T_082e5c06_33d9_11ea_be61_80e6501c196arow2_col8\" class=\"data row2 col8\" >0</td>\n",
       "                        <td id=\"T_082e5c06_33d9_11ea_be61_80e6501c196arow2_col9\" class=\"data row2 col9\" >0</td>\n",
       "                        <td id=\"T_082e5c06_33d9_11ea_be61_80e6501c196arow2_col10\" class=\"data row2 col10\" >0</td>\n",
       "                        <td id=\"T_082e5c06_33d9_11ea_be61_80e6501c196arow2_col11\" class=\"data row2 col11\" >0</td>\n",
       "                        <td id=\"T_082e5c06_33d9_11ea_be61_80e6501c196arow2_col12\" class=\"data row2 col12\" >0</td>\n",
       "                        <td id=\"T_082e5c06_33d9_11ea_be61_80e6501c196arow2_col13\" class=\"data row2 col13\" >0.34</td>\n",
       "                        <td id=\"T_082e5c06_33d9_11ea_be61_80e6501c196arow2_col14\" class=\"data row2 col14\" >0.1</td>\n",
       "                        <td id=\"T_082e5c06_33d9_11ea_be61_80e6501c196arow2_col15\" class=\"data row2 col15\" >3</td>\n",
       "            </tr>\n",
       "            <tr>\n",
       "                        <th id=\"T_082e5c06_33d9_11ea_be61_80e6501c196alevel0_row3\" class=\"row_heading level0 row3\" >Doc3</th>\n",
       "                        <td id=\"T_082e5c06_33d9_11ea_be61_80e6501c196arow3_col0\" class=\"data row3 col0\" >0.01</td>\n",
       "                        <td id=\"T_082e5c06_33d9_11ea_be61_80e6501c196arow3_col1\" class=\"data row3 col1\" >0.01</td>\n",
       "                        <td id=\"T_082e5c06_33d9_11ea_be61_80e6501c196arow3_col2\" class=\"data row3 col2\" >0.01</td>\n",
       "                        <td id=\"T_082e5c06_33d9_11ea_be61_80e6501c196arow3_col3\" class=\"data row3 col3\" >0.01</td>\n",
       "                        <td id=\"T_082e5c06_33d9_11ea_be61_80e6501c196arow3_col4\" class=\"data row3 col4\" >0.01</td>\n",
       "                        <td id=\"T_082e5c06_33d9_11ea_be61_80e6501c196arow3_col5\" class=\"data row3 col5\" >0.01</td>\n",
       "                        <td id=\"T_082e5c06_33d9_11ea_be61_80e6501c196arow3_col6\" class=\"data row3 col6\" >0.01</td>\n",
       "                        <td id=\"T_082e5c06_33d9_11ea_be61_80e6501c196arow3_col7\" class=\"data row3 col7\" >0.84</td>\n",
       "                        <td id=\"T_082e5c06_33d9_11ea_be61_80e6501c196arow3_col8\" class=\"data row3 col8\" >0.01</td>\n",
       "                        <td id=\"T_082e5c06_33d9_11ea_be61_80e6501c196arow3_col9\" class=\"data row3 col9\" >0.01</td>\n",
       "                        <td id=\"T_082e5c06_33d9_11ea_be61_80e6501c196arow3_col10\" class=\"data row3 col10\" >0.01</td>\n",
       "                        <td id=\"T_082e5c06_33d9_11ea_be61_80e6501c196arow3_col11\" class=\"data row3 col11\" >0.01</td>\n",
       "                        <td id=\"T_082e5c06_33d9_11ea_be61_80e6501c196arow3_col12\" class=\"data row3 col12\" >0.01</td>\n",
       "                        <td id=\"T_082e5c06_33d9_11ea_be61_80e6501c196arow3_col13\" class=\"data row3 col13\" >0.01</td>\n",
       "                        <td id=\"T_082e5c06_33d9_11ea_be61_80e6501c196arow3_col14\" class=\"data row3 col14\" >0.01</td>\n",
       "                        <td id=\"T_082e5c06_33d9_11ea_be61_80e6501c196arow3_col15\" class=\"data row3 col15\" >7</td>\n",
       "            </tr>\n",
       "            <tr>\n",
       "                        <th id=\"T_082e5c06_33d9_11ea_be61_80e6501c196alevel0_row4\" class=\"row_heading level0 row4\" >Doc4</th>\n",
       "                        <td id=\"T_082e5c06_33d9_11ea_be61_80e6501c196arow4_col0\" class=\"data row4 col0\" >0.02</td>\n",
       "                        <td id=\"T_082e5c06_33d9_11ea_be61_80e6501c196arow4_col1\" class=\"data row4 col1\" >0.02</td>\n",
       "                        <td id=\"T_082e5c06_33d9_11ea_be61_80e6501c196arow4_col2\" class=\"data row4 col2\" >0.02</td>\n",
       "                        <td id=\"T_082e5c06_33d9_11ea_be61_80e6501c196arow4_col3\" class=\"data row4 col3\" >0.02</td>\n",
       "                        <td id=\"T_082e5c06_33d9_11ea_be61_80e6501c196arow4_col4\" class=\"data row4 col4\" >0.02</td>\n",
       "                        <td id=\"T_082e5c06_33d9_11ea_be61_80e6501c196arow4_col5\" class=\"data row4 col5\" >0.02</td>\n",
       "                        <td id=\"T_082e5c06_33d9_11ea_be61_80e6501c196arow4_col6\" class=\"data row4 col6\" >0.02</td>\n",
       "                        <td id=\"T_082e5c06_33d9_11ea_be61_80e6501c196arow4_col7\" class=\"data row4 col7\" >0.02</td>\n",
       "                        <td id=\"T_082e5c06_33d9_11ea_be61_80e6501c196arow4_col8\" class=\"data row4 col8\" >0.02</td>\n",
       "                        <td id=\"T_082e5c06_33d9_11ea_be61_80e6501c196arow4_col9\" class=\"data row4 col9\" >0.02</td>\n",
       "                        <td id=\"T_082e5c06_33d9_11ea_be61_80e6501c196arow4_col10\" class=\"data row4 col10\" >0.02</td>\n",
       "                        <td id=\"T_082e5c06_33d9_11ea_be61_80e6501c196arow4_col11\" class=\"data row4 col11\" >0.02</td>\n",
       "                        <td id=\"T_082e5c06_33d9_11ea_be61_80e6501c196arow4_col12\" class=\"data row4 col12\" >0.02</td>\n",
       "                        <td id=\"T_082e5c06_33d9_11ea_be61_80e6501c196arow4_col13\" class=\"data row4 col13\" >0.77</td>\n",
       "                        <td id=\"T_082e5c06_33d9_11ea_be61_80e6501c196arow4_col14\" class=\"data row4 col14\" >0.02</td>\n",
       "                        <td id=\"T_082e5c06_33d9_11ea_be61_80e6501c196arow4_col15\" class=\"data row4 col15\" >13</td>\n",
       "            </tr>\n",
       "            <tr>\n",
       "                        <th id=\"T_082e5c06_33d9_11ea_be61_80e6501c196alevel0_row5\" class=\"row_heading level0 row5\" >Doc5</th>\n",
       "                        <td id=\"T_082e5c06_33d9_11ea_be61_80e6501c196arow5_col0\" class=\"data row5 col0\" >0.2</td>\n",
       "                        <td id=\"T_082e5c06_33d9_11ea_be61_80e6501c196arow5_col1\" class=\"data row5 col1\" >0</td>\n",
       "                        <td id=\"T_082e5c06_33d9_11ea_be61_80e6501c196arow5_col2\" class=\"data row5 col2\" >0.52</td>\n",
       "                        <td id=\"T_082e5c06_33d9_11ea_be61_80e6501c196arow5_col3\" class=\"data row5 col3\" >0</td>\n",
       "                        <td id=\"T_082e5c06_33d9_11ea_be61_80e6501c196arow5_col4\" class=\"data row5 col4\" >0</td>\n",
       "                        <td id=\"T_082e5c06_33d9_11ea_be61_80e6501c196arow5_col5\" class=\"data row5 col5\" >0</td>\n",
       "                        <td id=\"T_082e5c06_33d9_11ea_be61_80e6501c196arow5_col6\" class=\"data row5 col6\" >0</td>\n",
       "                        <td id=\"T_082e5c06_33d9_11ea_be61_80e6501c196arow5_col7\" class=\"data row5 col7\" >0</td>\n",
       "                        <td id=\"T_082e5c06_33d9_11ea_be61_80e6501c196arow5_col8\" class=\"data row5 col8\" >0</td>\n",
       "                        <td id=\"T_082e5c06_33d9_11ea_be61_80e6501c196arow5_col9\" class=\"data row5 col9\" >0</td>\n",
       "                        <td id=\"T_082e5c06_33d9_11ea_be61_80e6501c196arow5_col10\" class=\"data row5 col10\" >0.23</td>\n",
       "                        <td id=\"T_082e5c06_33d9_11ea_be61_80e6501c196arow5_col11\" class=\"data row5 col11\" >0</td>\n",
       "                        <td id=\"T_082e5c06_33d9_11ea_be61_80e6501c196arow5_col12\" class=\"data row5 col12\" >0</td>\n",
       "                        <td id=\"T_082e5c06_33d9_11ea_be61_80e6501c196arow5_col13\" class=\"data row5 col13\" >0</td>\n",
       "                        <td id=\"T_082e5c06_33d9_11ea_be61_80e6501c196arow5_col14\" class=\"data row5 col14\" >0</td>\n",
       "                        <td id=\"T_082e5c06_33d9_11ea_be61_80e6501c196arow5_col15\" class=\"data row5 col15\" >2</td>\n",
       "            </tr>\n",
       "            <tr>\n",
       "                        <th id=\"T_082e5c06_33d9_11ea_be61_80e6501c196alevel0_row6\" class=\"row_heading level0 row6\" >Doc6</th>\n",
       "                        <td id=\"T_082e5c06_33d9_11ea_be61_80e6501c196arow6_col0\" class=\"data row6 col0\" >0.16</td>\n",
       "                        <td id=\"T_082e5c06_33d9_11ea_be61_80e6501c196arow6_col1\" class=\"data row6 col1\" >0</td>\n",
       "                        <td id=\"T_082e5c06_33d9_11ea_be61_80e6501c196arow6_col2\" class=\"data row6 col2\" >0.2</td>\n",
       "                        <td id=\"T_082e5c06_33d9_11ea_be61_80e6501c196arow6_col3\" class=\"data row6 col3\" >0</td>\n",
       "                        <td id=\"T_082e5c06_33d9_11ea_be61_80e6501c196arow6_col4\" class=\"data row6 col4\" >0</td>\n",
       "                        <td id=\"T_082e5c06_33d9_11ea_be61_80e6501c196arow6_col5\" class=\"data row6 col5\" >0</td>\n",
       "                        <td id=\"T_082e5c06_33d9_11ea_be61_80e6501c196arow6_col6\" class=\"data row6 col6\" >0</td>\n",
       "                        <td id=\"T_082e5c06_33d9_11ea_be61_80e6501c196arow6_col7\" class=\"data row6 col7\" >0.55</td>\n",
       "                        <td id=\"T_082e5c06_33d9_11ea_be61_80e6501c196arow6_col8\" class=\"data row6 col8\" >0</td>\n",
       "                        <td id=\"T_082e5c06_33d9_11ea_be61_80e6501c196arow6_col9\" class=\"data row6 col9\" >0</td>\n",
       "                        <td id=\"T_082e5c06_33d9_11ea_be61_80e6501c196arow6_col10\" class=\"data row6 col10\" >0</td>\n",
       "                        <td id=\"T_082e5c06_33d9_11ea_be61_80e6501c196arow6_col11\" class=\"data row6 col11\" >0</td>\n",
       "                        <td id=\"T_082e5c06_33d9_11ea_be61_80e6501c196arow6_col12\" class=\"data row6 col12\" >0</td>\n",
       "                        <td id=\"T_082e5c06_33d9_11ea_be61_80e6501c196arow6_col13\" class=\"data row6 col13\" >0</td>\n",
       "                        <td id=\"T_082e5c06_33d9_11ea_be61_80e6501c196arow6_col14\" class=\"data row6 col14\" >0.06</td>\n",
       "                        <td id=\"T_082e5c06_33d9_11ea_be61_80e6501c196arow6_col15\" class=\"data row6 col15\" >7</td>\n",
       "            </tr>\n",
       "            <tr>\n",
       "                        <th id=\"T_082e5c06_33d9_11ea_be61_80e6501c196alevel0_row7\" class=\"row_heading level0 row7\" >Doc7</th>\n",
       "                        <td id=\"T_082e5c06_33d9_11ea_be61_80e6501c196arow7_col0\" class=\"data row7 col0\" >0</td>\n",
       "                        <td id=\"T_082e5c06_33d9_11ea_be61_80e6501c196arow7_col1\" class=\"data row7 col1\" >0</td>\n",
       "                        <td id=\"T_082e5c06_33d9_11ea_be61_80e6501c196arow7_col2\" class=\"data row7 col2\" >0</td>\n",
       "                        <td id=\"T_082e5c06_33d9_11ea_be61_80e6501c196arow7_col3\" class=\"data row7 col3\" >0</td>\n",
       "                        <td id=\"T_082e5c06_33d9_11ea_be61_80e6501c196arow7_col4\" class=\"data row7 col4\" >0.78</td>\n",
       "                        <td id=\"T_082e5c06_33d9_11ea_be61_80e6501c196arow7_col5\" class=\"data row7 col5\" >0</td>\n",
       "                        <td id=\"T_082e5c06_33d9_11ea_be61_80e6501c196arow7_col6\" class=\"data row7 col6\" >0</td>\n",
       "                        <td id=\"T_082e5c06_33d9_11ea_be61_80e6501c196arow7_col7\" class=\"data row7 col7\" >0</td>\n",
       "                        <td id=\"T_082e5c06_33d9_11ea_be61_80e6501c196arow7_col8\" class=\"data row7 col8\" >0.19</td>\n",
       "                        <td id=\"T_082e5c06_33d9_11ea_be61_80e6501c196arow7_col9\" class=\"data row7 col9\" >0</td>\n",
       "                        <td id=\"T_082e5c06_33d9_11ea_be61_80e6501c196arow7_col10\" class=\"data row7 col10\" >0</td>\n",
       "                        <td id=\"T_082e5c06_33d9_11ea_be61_80e6501c196arow7_col11\" class=\"data row7 col11\" >0</td>\n",
       "                        <td id=\"T_082e5c06_33d9_11ea_be61_80e6501c196arow7_col12\" class=\"data row7 col12\" >0</td>\n",
       "                        <td id=\"T_082e5c06_33d9_11ea_be61_80e6501c196arow7_col13\" class=\"data row7 col13\" >0</td>\n",
       "                        <td id=\"T_082e5c06_33d9_11ea_be61_80e6501c196arow7_col14\" class=\"data row7 col14\" >0</td>\n",
       "                        <td id=\"T_082e5c06_33d9_11ea_be61_80e6501c196arow7_col15\" class=\"data row7 col15\" >4</td>\n",
       "            </tr>\n",
       "            <tr>\n",
       "                        <th id=\"T_082e5c06_33d9_11ea_be61_80e6501c196alevel0_row8\" class=\"row_heading level0 row8\" >Doc8</th>\n",
       "                        <td id=\"T_082e5c06_33d9_11ea_be61_80e6501c196arow8_col0\" class=\"data row8 col0\" >0.01</td>\n",
       "                        <td id=\"T_082e5c06_33d9_11ea_be61_80e6501c196arow8_col1\" class=\"data row8 col1\" >0.01</td>\n",
       "                        <td id=\"T_082e5c06_33d9_11ea_be61_80e6501c196arow8_col2\" class=\"data row8 col2\" >0.01</td>\n",
       "                        <td id=\"T_082e5c06_33d9_11ea_be61_80e6501c196arow8_col3\" class=\"data row8 col3\" >0.01</td>\n",
       "                        <td id=\"T_082e5c06_33d9_11ea_be61_80e6501c196arow8_col4\" class=\"data row8 col4\" >0.01</td>\n",
       "                        <td id=\"T_082e5c06_33d9_11ea_be61_80e6501c196arow8_col5\" class=\"data row8 col5\" >0.01</td>\n",
       "                        <td id=\"T_082e5c06_33d9_11ea_be61_80e6501c196arow8_col6\" class=\"data row8 col6\" >0.01</td>\n",
       "                        <td id=\"T_082e5c06_33d9_11ea_be61_80e6501c196arow8_col7\" class=\"data row8 col7\" >0.01</td>\n",
       "                        <td id=\"T_082e5c06_33d9_11ea_be61_80e6501c196arow8_col8\" class=\"data row8 col8\" >0.01</td>\n",
       "                        <td id=\"T_082e5c06_33d9_11ea_be61_80e6501c196arow8_col9\" class=\"data row8 col9\" >0.01</td>\n",
       "                        <td id=\"T_082e5c06_33d9_11ea_be61_80e6501c196arow8_col10\" class=\"data row8 col10\" >0.9</td>\n",
       "                        <td id=\"T_082e5c06_33d9_11ea_be61_80e6501c196arow8_col11\" class=\"data row8 col11\" >0.01</td>\n",
       "                        <td id=\"T_082e5c06_33d9_11ea_be61_80e6501c196arow8_col12\" class=\"data row8 col12\" >0.01</td>\n",
       "                        <td id=\"T_082e5c06_33d9_11ea_be61_80e6501c196arow8_col13\" class=\"data row8 col13\" >0.01</td>\n",
       "                        <td id=\"T_082e5c06_33d9_11ea_be61_80e6501c196arow8_col14\" class=\"data row8 col14\" >0.01</td>\n",
       "                        <td id=\"T_082e5c06_33d9_11ea_be61_80e6501c196arow8_col15\" class=\"data row8 col15\" >10</td>\n",
       "            </tr>\n",
       "            <tr>\n",
       "                        <th id=\"T_082e5c06_33d9_11ea_be61_80e6501c196alevel0_row9\" class=\"row_heading level0 row9\" >Doc9</th>\n",
       "                        <td id=\"T_082e5c06_33d9_11ea_be61_80e6501c196arow9_col0\" class=\"data row9 col0\" >0</td>\n",
       "                        <td id=\"T_082e5c06_33d9_11ea_be61_80e6501c196arow9_col1\" class=\"data row9 col1\" >0</td>\n",
       "                        <td id=\"T_082e5c06_33d9_11ea_be61_80e6501c196arow9_col2\" class=\"data row9 col2\" >0.22</td>\n",
       "                        <td id=\"T_082e5c06_33d9_11ea_be61_80e6501c196arow9_col3\" class=\"data row9 col3\" >0</td>\n",
       "                        <td id=\"T_082e5c06_33d9_11ea_be61_80e6501c196arow9_col4\" class=\"data row9 col4\" >0.17</td>\n",
       "                        <td id=\"T_082e5c06_33d9_11ea_be61_80e6501c196arow9_col5\" class=\"data row9 col5\" >0</td>\n",
       "                        <td id=\"T_082e5c06_33d9_11ea_be61_80e6501c196arow9_col6\" class=\"data row9 col6\" >0.55</td>\n",
       "                        <td id=\"T_082e5c06_33d9_11ea_be61_80e6501c196arow9_col7\" class=\"data row9 col7\" >0</td>\n",
       "                        <td id=\"T_082e5c06_33d9_11ea_be61_80e6501c196arow9_col8\" class=\"data row9 col8\" >0</td>\n",
       "                        <td id=\"T_082e5c06_33d9_11ea_be61_80e6501c196arow9_col9\" class=\"data row9 col9\" >0</td>\n",
       "                        <td id=\"T_082e5c06_33d9_11ea_be61_80e6501c196arow9_col10\" class=\"data row9 col10\" >0</td>\n",
       "                        <td id=\"T_082e5c06_33d9_11ea_be61_80e6501c196arow9_col11\" class=\"data row9 col11\" >0</td>\n",
       "                        <td id=\"T_082e5c06_33d9_11ea_be61_80e6501c196arow9_col12\" class=\"data row9 col12\" >0</td>\n",
       "                        <td id=\"T_082e5c06_33d9_11ea_be61_80e6501c196arow9_col13\" class=\"data row9 col13\" >0</td>\n",
       "                        <td id=\"T_082e5c06_33d9_11ea_be61_80e6501c196arow9_col14\" class=\"data row9 col14\" >0</td>\n",
       "                        <td id=\"T_082e5c06_33d9_11ea_be61_80e6501c196arow9_col15\" class=\"data row9 col15\" >6</td>\n",
       "            </tr>\n",
       "            <tr>\n",
       "                        <th id=\"T_082e5c06_33d9_11ea_be61_80e6501c196alevel0_row10\" class=\"row_heading level0 row10\" >Doc10</th>\n",
       "                        <td id=\"T_082e5c06_33d9_11ea_be61_80e6501c196arow10_col0\" class=\"data row10 col0\" >0.88</td>\n",
       "                        <td id=\"T_082e5c06_33d9_11ea_be61_80e6501c196arow10_col1\" class=\"data row10 col1\" >0.01</td>\n",
       "                        <td id=\"T_082e5c06_33d9_11ea_be61_80e6501c196arow10_col2\" class=\"data row10 col2\" >0.01</td>\n",
       "                        <td id=\"T_082e5c06_33d9_11ea_be61_80e6501c196arow10_col3\" class=\"data row10 col3\" >0.01</td>\n",
       "                        <td id=\"T_082e5c06_33d9_11ea_be61_80e6501c196arow10_col4\" class=\"data row10 col4\" >0.01</td>\n",
       "                        <td id=\"T_082e5c06_33d9_11ea_be61_80e6501c196arow10_col5\" class=\"data row10 col5\" >0.01</td>\n",
       "                        <td id=\"T_082e5c06_33d9_11ea_be61_80e6501c196arow10_col6\" class=\"data row10 col6\" >0.01</td>\n",
       "                        <td id=\"T_082e5c06_33d9_11ea_be61_80e6501c196arow10_col7\" class=\"data row10 col7\" >0.01</td>\n",
       "                        <td id=\"T_082e5c06_33d9_11ea_be61_80e6501c196arow10_col8\" class=\"data row10 col8\" >0.01</td>\n",
       "                        <td id=\"T_082e5c06_33d9_11ea_be61_80e6501c196arow10_col9\" class=\"data row10 col9\" >0.01</td>\n",
       "                        <td id=\"T_082e5c06_33d9_11ea_be61_80e6501c196arow10_col10\" class=\"data row10 col10\" >0.01</td>\n",
       "                        <td id=\"T_082e5c06_33d9_11ea_be61_80e6501c196arow10_col11\" class=\"data row10 col11\" >0.01</td>\n",
       "                        <td id=\"T_082e5c06_33d9_11ea_be61_80e6501c196arow10_col12\" class=\"data row10 col12\" >0.01</td>\n",
       "                        <td id=\"T_082e5c06_33d9_11ea_be61_80e6501c196arow10_col13\" class=\"data row10 col13\" >0.01</td>\n",
       "                        <td id=\"T_082e5c06_33d9_11ea_be61_80e6501c196arow10_col14\" class=\"data row10 col14\" >0.01</td>\n",
       "                        <td id=\"T_082e5c06_33d9_11ea_be61_80e6501c196arow10_col15\" class=\"data row10 col15\" >0</td>\n",
       "            </tr>\n",
       "            <tr>\n",
       "                        <th id=\"T_082e5c06_33d9_11ea_be61_80e6501c196alevel0_row11\" class=\"row_heading level0 row11\" >Doc11</th>\n",
       "                        <td id=\"T_082e5c06_33d9_11ea_be61_80e6501c196arow11_col0\" class=\"data row11 col0\" >0.01</td>\n",
       "                        <td id=\"T_082e5c06_33d9_11ea_be61_80e6501c196arow11_col1\" class=\"data row11 col1\" >0.01</td>\n",
       "                        <td id=\"T_082e5c06_33d9_11ea_be61_80e6501c196arow11_col2\" class=\"data row11 col2\" >0.52</td>\n",
       "                        <td id=\"T_082e5c06_33d9_11ea_be61_80e6501c196arow11_col3\" class=\"data row11 col3\" >0.01</td>\n",
       "                        <td id=\"T_082e5c06_33d9_11ea_be61_80e6501c196arow11_col4\" class=\"data row11 col4\" >0.01</td>\n",
       "                        <td id=\"T_082e5c06_33d9_11ea_be61_80e6501c196arow11_col5\" class=\"data row11 col5\" >0.01</td>\n",
       "                        <td id=\"T_082e5c06_33d9_11ea_be61_80e6501c196arow11_col6\" class=\"data row11 col6\" >0.01</td>\n",
       "                        <td id=\"T_082e5c06_33d9_11ea_be61_80e6501c196arow11_col7\" class=\"data row11 col7\" >0.01</td>\n",
       "                        <td id=\"T_082e5c06_33d9_11ea_be61_80e6501c196arow11_col8\" class=\"data row11 col8\" >0.01</td>\n",
       "                        <td id=\"T_082e5c06_33d9_11ea_be61_80e6501c196arow11_col9\" class=\"data row11 col9\" >0.01</td>\n",
       "                        <td id=\"T_082e5c06_33d9_11ea_be61_80e6501c196arow11_col10\" class=\"data row11 col10\" >0.01</td>\n",
       "                        <td id=\"T_082e5c06_33d9_11ea_be61_80e6501c196arow11_col11\" class=\"data row11 col11\" >0.01</td>\n",
       "                        <td id=\"T_082e5c06_33d9_11ea_be61_80e6501c196arow11_col12\" class=\"data row11 col12\" >0.01</td>\n",
       "                        <td id=\"T_082e5c06_33d9_11ea_be61_80e6501c196arow11_col13\" class=\"data row11 col13\" >0.15</td>\n",
       "                        <td id=\"T_082e5c06_33d9_11ea_be61_80e6501c196arow11_col14\" class=\"data row11 col14\" >0.21</td>\n",
       "                        <td id=\"T_082e5c06_33d9_11ea_be61_80e6501c196arow11_col15\" class=\"data row11 col15\" >2</td>\n",
       "            </tr>\n",
       "            <tr>\n",
       "                        <th id=\"T_082e5c06_33d9_11ea_be61_80e6501c196alevel0_row12\" class=\"row_heading level0 row12\" >Doc12</th>\n",
       "                        <td id=\"T_082e5c06_33d9_11ea_be61_80e6501c196arow12_col0\" class=\"data row12 col0\" >0</td>\n",
       "                        <td id=\"T_082e5c06_33d9_11ea_be61_80e6501c196arow12_col1\" class=\"data row12 col1\" >0.94</td>\n",
       "                        <td id=\"T_082e5c06_33d9_11ea_be61_80e6501c196arow12_col2\" class=\"data row12 col2\" >0</td>\n",
       "                        <td id=\"T_082e5c06_33d9_11ea_be61_80e6501c196arow12_col3\" class=\"data row12 col3\" >0</td>\n",
       "                        <td id=\"T_082e5c06_33d9_11ea_be61_80e6501c196arow12_col4\" class=\"data row12 col4\" >0</td>\n",
       "                        <td id=\"T_082e5c06_33d9_11ea_be61_80e6501c196arow12_col5\" class=\"data row12 col5\" >0</td>\n",
       "                        <td id=\"T_082e5c06_33d9_11ea_be61_80e6501c196arow12_col6\" class=\"data row12 col6\" >0</td>\n",
       "                        <td id=\"T_082e5c06_33d9_11ea_be61_80e6501c196arow12_col7\" class=\"data row12 col7\" >0</td>\n",
       "                        <td id=\"T_082e5c06_33d9_11ea_be61_80e6501c196arow12_col8\" class=\"data row12 col8\" >0</td>\n",
       "                        <td id=\"T_082e5c06_33d9_11ea_be61_80e6501c196arow12_col9\" class=\"data row12 col9\" >0</td>\n",
       "                        <td id=\"T_082e5c06_33d9_11ea_be61_80e6501c196arow12_col10\" class=\"data row12 col10\" >0</td>\n",
       "                        <td id=\"T_082e5c06_33d9_11ea_be61_80e6501c196arow12_col11\" class=\"data row12 col11\" >0</td>\n",
       "                        <td id=\"T_082e5c06_33d9_11ea_be61_80e6501c196arow12_col12\" class=\"data row12 col12\" >0</td>\n",
       "                        <td id=\"T_082e5c06_33d9_11ea_be61_80e6501c196arow12_col13\" class=\"data row12 col13\" >0</td>\n",
       "                        <td id=\"T_082e5c06_33d9_11ea_be61_80e6501c196arow12_col14\" class=\"data row12 col14\" >0</td>\n",
       "                        <td id=\"T_082e5c06_33d9_11ea_be61_80e6501c196arow12_col15\" class=\"data row12 col15\" >1</td>\n",
       "            </tr>\n",
       "            <tr>\n",
       "                        <th id=\"T_082e5c06_33d9_11ea_be61_80e6501c196alevel0_row13\" class=\"row_heading level0 row13\" >Doc13</th>\n",
       "                        <td id=\"T_082e5c06_33d9_11ea_be61_80e6501c196arow13_col0\" class=\"data row13 col0\" >0.01</td>\n",
       "                        <td id=\"T_082e5c06_33d9_11ea_be61_80e6501c196arow13_col1\" class=\"data row13 col1\" >0.01</td>\n",
       "                        <td id=\"T_082e5c06_33d9_11ea_be61_80e6501c196arow13_col2\" class=\"data row13 col2\" >0.01</td>\n",
       "                        <td id=\"T_082e5c06_33d9_11ea_be61_80e6501c196arow13_col3\" class=\"data row13 col3\" >0.01</td>\n",
       "                        <td id=\"T_082e5c06_33d9_11ea_be61_80e6501c196arow13_col4\" class=\"data row13 col4\" >0.01</td>\n",
       "                        <td id=\"T_082e5c06_33d9_11ea_be61_80e6501c196arow13_col5\" class=\"data row13 col5\" >0.18</td>\n",
       "                        <td id=\"T_082e5c06_33d9_11ea_be61_80e6501c196arow13_col6\" class=\"data row13 col6\" >0.01</td>\n",
       "                        <td id=\"T_082e5c06_33d9_11ea_be61_80e6501c196arow13_col7\" class=\"data row13 col7\" >0.01</td>\n",
       "                        <td id=\"T_082e5c06_33d9_11ea_be61_80e6501c196arow13_col8\" class=\"data row13 col8\" >0.01</td>\n",
       "                        <td id=\"T_082e5c06_33d9_11ea_be61_80e6501c196arow13_col9\" class=\"data row13 col9\" >0.01</td>\n",
       "                        <td id=\"T_082e5c06_33d9_11ea_be61_80e6501c196arow13_col10\" class=\"data row13 col10\" >0.73</td>\n",
       "                        <td id=\"T_082e5c06_33d9_11ea_be61_80e6501c196arow13_col11\" class=\"data row13 col11\" >0.01</td>\n",
       "                        <td id=\"T_082e5c06_33d9_11ea_be61_80e6501c196arow13_col12\" class=\"data row13 col12\" >0.01</td>\n",
       "                        <td id=\"T_082e5c06_33d9_11ea_be61_80e6501c196arow13_col13\" class=\"data row13 col13\" >0.01</td>\n",
       "                        <td id=\"T_082e5c06_33d9_11ea_be61_80e6501c196arow13_col14\" class=\"data row13 col14\" >0.01</td>\n",
       "                        <td id=\"T_082e5c06_33d9_11ea_be61_80e6501c196arow13_col15\" class=\"data row13 col15\" >10</td>\n",
       "            </tr>\n",
       "            <tr>\n",
       "                        <th id=\"T_082e5c06_33d9_11ea_be61_80e6501c196alevel0_row14\" class=\"row_heading level0 row14\" >Doc14</th>\n",
       "                        <td id=\"T_082e5c06_33d9_11ea_be61_80e6501c196arow14_col0\" class=\"data row14 col0\" >0</td>\n",
       "                        <td id=\"T_082e5c06_33d9_11ea_be61_80e6501c196arow14_col1\" class=\"data row14 col1\" >0</td>\n",
       "                        <td id=\"T_082e5c06_33d9_11ea_be61_80e6501c196arow14_col2\" class=\"data row14 col2\" >0</td>\n",
       "                        <td id=\"T_082e5c06_33d9_11ea_be61_80e6501c196arow14_col3\" class=\"data row14 col3\" >0</td>\n",
       "                        <td id=\"T_082e5c06_33d9_11ea_be61_80e6501c196arow14_col4\" class=\"data row14 col4\" >0.53</td>\n",
       "                        <td id=\"T_082e5c06_33d9_11ea_be61_80e6501c196arow14_col5\" class=\"data row14 col5\" >0</td>\n",
       "                        <td id=\"T_082e5c06_33d9_11ea_be61_80e6501c196arow14_col6\" class=\"data row14 col6\" >0</td>\n",
       "                        <td id=\"T_082e5c06_33d9_11ea_be61_80e6501c196arow14_col7\" class=\"data row14 col7\" >0</td>\n",
       "                        <td id=\"T_082e5c06_33d9_11ea_be61_80e6501c196arow14_col8\" class=\"data row14 col8\" >0</td>\n",
       "                        <td id=\"T_082e5c06_33d9_11ea_be61_80e6501c196arow14_col9\" class=\"data row14 col9\" >0.43</td>\n",
       "                        <td id=\"T_082e5c06_33d9_11ea_be61_80e6501c196arow14_col10\" class=\"data row14 col10\" >0</td>\n",
       "                        <td id=\"T_082e5c06_33d9_11ea_be61_80e6501c196arow14_col11\" class=\"data row14 col11\" >0</td>\n",
       "                        <td id=\"T_082e5c06_33d9_11ea_be61_80e6501c196arow14_col12\" class=\"data row14 col12\" >0</td>\n",
       "                        <td id=\"T_082e5c06_33d9_11ea_be61_80e6501c196arow14_col13\" class=\"data row14 col13\" >0</td>\n",
       "                        <td id=\"T_082e5c06_33d9_11ea_be61_80e6501c196arow14_col14\" class=\"data row14 col14\" >0</td>\n",
       "                        <td id=\"T_082e5c06_33d9_11ea_be61_80e6501c196arow14_col15\" class=\"data row14 col15\" >4</td>\n",
       "            </tr>\n",
       "    </tbody></table>"
      ],
      "text/plain": [
       "<pandas.io.formats.style.Styler at 0x1a3b14d5f8>"
      ]
     },
     "execution_count": 282,
     "metadata": {},
     "output_type": "execute_result"
    }
   ],
   "source": [
    "# Create Document - Topic Matrix\n",
    "lda_output = lda_model.transform(transformed)\n",
    "\n",
    "# column names\n",
    "topicnames = [\"Topic\" + str(i) for i in range(best_lda_model.n_components)] #change to best_lda_model after gridsearch!\n",
    "\n",
    "# index names\n",
    "docnames = [\"Doc\" + str(i) for i in range(len(X_train))]\n",
    "\n",
    "# Make the pandas dataframe\n",
    "df_document_topic = pd.DataFrame(np.round(lda_output, 2), columns=topicnames, index=docnames)\n",
    "\n",
    "# Get dominant topic for each document\n",
    "dominant_topic = np.argmax(df_document_topic.values, axis=1)\n",
    "df_document_topic['dominant_topic'] = dominant_topic\n",
    "\n",
    "# Styling\n",
    "def color_green(val):\n",
    "    color = 'green' if val > .1 else 'black'\n",
    "    return 'color: {col}'.format(col=color)\n",
    "\n",
    "def make_bold(val):\n",
    "    weight = 700 if val > .1 else 400\n",
    "    return 'font-weight: {weight}'.format(weight=weight)\n",
    "\n",
    "# Apply Style\n",
    "df_document_topics = df_document_topic.head(15).style.applymap(color_green).applymap(make_bold)\n",
    "df_document_topics\n",
    "\n",
    "#final column shows the topic each document is most 'like'\n",
    "#topcis are distribution of words, and see which scores most highly on, and applying that topic to the document"
   ]
  },
  {
   "cell_type": "code",
   "execution_count": 283,
   "metadata": {},
   "outputs": [
    {
     "data": {
      "text/html": [
       "<div>\n",
       "<style scoped>\n",
       "    .dataframe tbody tr th:only-of-type {\n",
       "        vertical-align: middle;\n",
       "    }\n",
       "\n",
       "    .dataframe tbody tr th {\n",
       "        vertical-align: top;\n",
       "    }\n",
       "\n",
       "    .dataframe thead th {\n",
       "        text-align: right;\n",
       "    }\n",
       "</style>\n",
       "<table border=\"1\" class=\"dataframe\">\n",
       "  <thead>\n",
       "    <tr style=\"text-align: right;\">\n",
       "      <th></th>\n",
       "      <th>Topic Num</th>\n",
       "      <th>Num Documents</th>\n",
       "    </tr>\n",
       "  </thead>\n",
       "  <tbody>\n",
       "    <tr>\n",
       "      <th>0</th>\n",
       "      <td>11</td>\n",
       "      <td>2356</td>\n",
       "    </tr>\n",
       "    <tr>\n",
       "      <th>1</th>\n",
       "      <td>10</td>\n",
       "      <td>2280</td>\n",
       "    </tr>\n",
       "    <tr>\n",
       "      <th>2</th>\n",
       "      <td>1</td>\n",
       "      <td>1695</td>\n",
       "    </tr>\n",
       "    <tr>\n",
       "      <th>3</th>\n",
       "      <td>13</td>\n",
       "      <td>1616</td>\n",
       "    </tr>\n",
       "    <tr>\n",
       "      <th>4</th>\n",
       "      <td>9</td>\n",
       "      <td>1454</td>\n",
       "    </tr>\n",
       "    <tr>\n",
       "      <th>5</th>\n",
       "      <td>5</td>\n",
       "      <td>1358</td>\n",
       "    </tr>\n",
       "    <tr>\n",
       "      <th>6</th>\n",
       "      <td>14</td>\n",
       "      <td>1342</td>\n",
       "    </tr>\n",
       "    <tr>\n",
       "      <th>7</th>\n",
       "      <td>12</td>\n",
       "      <td>1266</td>\n",
       "    </tr>\n",
       "    <tr>\n",
       "      <th>8</th>\n",
       "      <td>8</td>\n",
       "      <td>1266</td>\n",
       "    </tr>\n",
       "    <tr>\n",
       "      <th>9</th>\n",
       "      <td>7</td>\n",
       "      <td>1078</td>\n",
       "    </tr>\n",
       "    <tr>\n",
       "      <th>10</th>\n",
       "      <td>2</td>\n",
       "      <td>1029</td>\n",
       "    </tr>\n",
       "    <tr>\n",
       "      <th>11</th>\n",
       "      <td>6</td>\n",
       "      <td>1018</td>\n",
       "    </tr>\n",
       "    <tr>\n",
       "      <th>12</th>\n",
       "      <td>4</td>\n",
       "      <td>944</td>\n",
       "    </tr>\n",
       "    <tr>\n",
       "      <th>13</th>\n",
       "      <td>0</td>\n",
       "      <td>831</td>\n",
       "    </tr>\n",
       "    <tr>\n",
       "      <th>14</th>\n",
       "      <td>3</td>\n",
       "      <td>775</td>\n",
       "    </tr>\n",
       "  </tbody>\n",
       "</table>\n",
       "</div>"
      ],
      "text/plain": [
       "    Topic Num  Num Documents\n",
       "0          11           2356\n",
       "1          10           2280\n",
       "2           1           1695\n",
       "3          13           1616\n",
       "4           9           1454\n",
       "5           5           1358\n",
       "6          14           1342\n",
       "7          12           1266\n",
       "8           8           1266\n",
       "9           7           1078\n",
       "10          2           1029\n",
       "11          6           1018\n",
       "12          4            944\n",
       "13          0            831\n",
       "14          3            775"
      ]
     },
     "execution_count": 283,
     "metadata": {},
     "output_type": "execute_result"
    }
   ],
   "source": [
    "df_topic_distribution = df_document_topic['dominant_topic'].value_counts().reset_index(name=\"Num Documents\")\n",
    "df_topic_distribution.columns = ['Topic Num', 'Num Documents']\n",
    "df_topic_distribution"
   ]
  },
  {
   "cell_type": "markdown",
   "metadata": {},
   "source": [
    "**Dominant topic visualizations**\n",
    "\n"
   ]
  },
  {
   "cell_type": "code",
   "execution_count": 285,
   "metadata": {},
   "outputs": [
    {
     "name": "stderr",
     "output_type": "stream",
     "text": [
      "/Users/melissamunz/anaconda3/lib/python3.7/site-packages/past/types/oldstr.py:5: DeprecationWarning: Using or importing the ABCs from 'collections' instead of from 'collections.abc' is deprecated, and in 3.8 it will stop working\n",
      "  from collections import Iterable\n"
     ]
    }
   ],
   "source": [
    "import pyLDAvis\n",
    "import pyLDAvis.sklearn\n",
    "import matplotlib.pyplot as plt\n",
    "%matplotlib inline"
   ]
  },
  {
   "cell_type": "code",
   "execution_count": 287,
   "metadata": {},
   "outputs": [
    {
     "ename": "AssertionError",
     "evalue": "Topic-term distributions and document-term matrix have different number of columns, 11021 != 11114.",
     "output_type": "error",
     "traceback": [
      "\u001b[0;31m---------------------------------------------------------------------------\u001b[0m",
      "\u001b[0;31mAssertionError\u001b[0m                            Traceback (most recent call last)",
      "\u001b[0;32m<ipython-input-287-2c2f06681257>\u001b[0m in \u001b[0;36m<module>\u001b[0;34m\u001b[0m\n\u001b[1;32m      1\u001b[0m \u001b[0mpyLDAvis\u001b[0m\u001b[0;34m.\u001b[0m\u001b[0menable_notebook\u001b[0m\u001b[0;34m(\u001b[0m\u001b[0;34m)\u001b[0m\u001b[0;34m\u001b[0m\u001b[0;34m\u001b[0m\u001b[0m\n\u001b[0;32m----> 2\u001b[0;31m \u001b[0mpanel\u001b[0m \u001b[0;34m=\u001b[0m \u001b[0mpyLDAvis\u001b[0m\u001b[0;34m.\u001b[0m\u001b[0msklearn\u001b[0m\u001b[0;34m.\u001b[0m\u001b[0mprepare\u001b[0m\u001b[0;34m(\u001b[0m\u001b[0mbest_lda_model\u001b[0m\u001b[0;34m,\u001b[0m \u001b[0mtransformed\u001b[0m\u001b[0;34m,\u001b[0m \u001b[0mvectorizer\u001b[0m\u001b[0;34m,\u001b[0m \u001b[0mmds\u001b[0m\u001b[0;34m=\u001b[0m\u001b[0;34m'tsne'\u001b[0m\u001b[0;34m)\u001b[0m\u001b[0;34m\u001b[0m\u001b[0;34m\u001b[0m\u001b[0m\n\u001b[0m\u001b[1;32m      3\u001b[0m \u001b[0mpanel\u001b[0m\u001b[0;34m\u001b[0m\u001b[0;34m\u001b[0m\u001b[0m\n",
      "\u001b[0;32m~/anaconda3/lib/python3.7/site-packages/pyLDAvis/sklearn.py\u001b[0m in \u001b[0;36mprepare\u001b[0;34m(lda_model, dtm, vectorizer, **kwargs)\u001b[0m\n\u001b[1;32m     92\u001b[0m     \u001b[0mSee\u001b[0m\u001b[0;31m \u001b[0m\u001b[0;31m`\u001b[0m\u001b[0mpyLDAvis\u001b[0m\u001b[0;34m.\u001b[0m\u001b[0mprepare\u001b[0m\u001b[0;31m`\u001b[0m \u001b[0;32mfor\u001b[0m \u001b[0;34m**\u001b[0m\u001b[0mkwargs\u001b[0m\u001b[0;34m.\u001b[0m\u001b[0;34m\u001b[0m\u001b[0;34m\u001b[0m\u001b[0m\n\u001b[1;32m     93\u001b[0m     \"\"\"\n\u001b[0;32m---> 94\u001b[0;31m     \u001b[0mopts\u001b[0m \u001b[0;34m=\u001b[0m \u001b[0mfp\u001b[0m\u001b[0;34m.\u001b[0m\u001b[0mmerge\u001b[0m\u001b[0;34m(\u001b[0m\u001b[0m_extract_data\u001b[0m\u001b[0;34m(\u001b[0m\u001b[0mlda_model\u001b[0m\u001b[0;34m,\u001b[0m \u001b[0mdtm\u001b[0m\u001b[0;34m,\u001b[0m \u001b[0mvectorizer\u001b[0m\u001b[0;34m)\u001b[0m\u001b[0;34m,\u001b[0m \u001b[0mkwargs\u001b[0m\u001b[0;34m)\u001b[0m\u001b[0;34m\u001b[0m\u001b[0;34m\u001b[0m\u001b[0m\n\u001b[0m\u001b[1;32m     95\u001b[0m     \u001b[0;32mreturn\u001b[0m \u001b[0mpyLDAvis\u001b[0m\u001b[0;34m.\u001b[0m\u001b[0mprepare\u001b[0m\u001b[0;34m(\u001b[0m\u001b[0;34m**\u001b[0m\u001b[0mopts\u001b[0m\u001b[0;34m)\u001b[0m\u001b[0;34m\u001b[0m\u001b[0;34m\u001b[0m\u001b[0m\n",
      "\u001b[0;32m~/anaconda3/lib/python3.7/site-packages/pyLDAvis/sklearn.py\u001b[0m in \u001b[0;36m_extract_data\u001b[0;34m(lda_model, dtm, vectorizer)\u001b[0m\n\u001b[1;32m     47\u001b[0m     \u001b[0;32massert\u001b[0m \u001b[0mtopic_term_dists\u001b[0m\u001b[0;34m.\u001b[0m\u001b[0mshape\u001b[0m\u001b[0;34m[\u001b[0m\u001b[0;36m1\u001b[0m\u001b[0;34m]\u001b[0m \u001b[0;34m==\u001b[0m \u001b[0mdtm\u001b[0m\u001b[0;34m.\u001b[0m\u001b[0mshape\u001b[0m\u001b[0;34m[\u001b[0m\u001b[0;36m1\u001b[0m\u001b[0;34m]\u001b[0m\u001b[0;34m,\u001b[0m\u001b[0;31m \u001b[0m\u001b[0;31m\\\u001b[0m\u001b[0;34m\u001b[0m\u001b[0;34m\u001b[0m\u001b[0m\n\u001b[1;32m     48\u001b[0m         ('Topic-term distributions and document-term matrix have different number of columns, {} != {}.'\n\u001b[0;32m---> 49\u001b[0;31m          .format(topic_term_dists.shape[1], len(vocab)))\n\u001b[0m\u001b[1;32m     50\u001b[0m \u001b[0;34m\u001b[0m\u001b[0m\n\u001b[1;32m     51\u001b[0m     \u001b[0;31m# column dimensions of document-term matrix and topic-term distributions\u001b[0m\u001b[0;34m\u001b[0m\u001b[0;34m\u001b[0m\u001b[0;34m\u001b[0m\u001b[0m\n",
      "\u001b[0;31mAssertionError\u001b[0m: Topic-term distributions and document-term matrix have different number of columns, 11021 != 11114."
     ]
    }
   ],
   "source": [
    "pyLDAvis.enable_notebook()\n",
    "panel = pyLDAvis.sklearn.prepare(best_lda_model, transformed, vectorizer, mds='tsne')\n",
    "panel"
   ]
  },
  {
   "cell_type": "markdown",
   "metadata": {},
   "source": [
    "**Data Mapper Pipeline**"
   ]
  },
  {
   "cell_type": "markdown",
   "metadata": {},
   "source": [
    "\n",
    "This allow each column to be mapped to different encoders.\n",
    "\n",
    "https://pypi.org/project/dataframe-mapper/"
   ]
  },
  {
   "cell_type": "code",
   "execution_count": 27,
   "metadata": {},
   "outputs": [
    {
     "name": "stdout",
     "output_type": "stream",
     "text": [
      "Collecting dataframe-mapper\n",
      "  Downloading https://files.pythonhosted.org/packages/b7/58/20cce8519337744ff386b98b846c4649c1db65b732a639f96416ae5182c3/dataframe_mapper-0.0.3-py3-none-any.whl\n",
      "Requirement already satisfied: pandas>=0.23.0 in /Users/melissamunz/anaconda3/lib/python3.7/site-packages (from dataframe-mapper) (0.24.2)\n",
      "Requirement already satisfied: pytz>=2011k in /Users/melissamunz/anaconda3/lib/python3.7/site-packages (from pandas>=0.23.0->dataframe-mapper) (2019.1)\n",
      "Requirement already satisfied: numpy>=1.12.0 in /Users/melissamunz/anaconda3/lib/python3.7/site-packages (from pandas>=0.23.0->dataframe-mapper) (1.16.4)\n",
      "Requirement already satisfied: python-dateutil>=2.5.0 in /Users/melissamunz/anaconda3/lib/python3.7/site-packages (from pandas>=0.23.0->dataframe-mapper) (2.8.0)\n",
      "Requirement already satisfied: six>=1.5 in /Users/melissamunz/anaconda3/lib/python3.7/site-packages (from python-dateutil>=2.5.0->pandas>=0.23.0->dataframe-mapper) (1.12.0)\n",
      "Installing collected packages: dataframe-mapper\n",
      "Successfully installed dataframe-mapper-0.0.3\n"
     ]
    }
   ],
   "source": [
    "!pip install dataframe-mapper"
   ]
  },
  {
   "cell_type": "markdown",
   "metadata": {},
   "source": [
    "Should do this for title and summary separately:"
   ]
  },
  {
   "cell_type": "code",
   "execution_count": null,
   "metadata": {},
   "outputs": [],
   "source": [
    "column_tuples = [\n",
    "    ('Sales', None),\n",
    "    ('ShelveLoc', LabelEncoder()),\n",
    "    ('Urban', LabelEncoder()), \n",
    "    ('US', LabelEncoder())]\n",
    "\n",
    "mapper = DataFrameMapper(column_tuples, default=StandardScaler())\n",
    "mapper_fit = mapper.fit(train)"
   ]
  }
 ],
 "metadata": {
  "kernelspec": {
   "display_name": "Python 3",
   "language": "python",
   "name": "python3"
  },
  "language_info": {
   "codemirror_mode": {
    "name": "ipython",
    "version": 3
   },
   "file_extension": ".py",
   "mimetype": "text/x-python",
   "name": "python",
   "nbconvert_exporter": "python",
   "pygments_lexer": "ipython3",
   "version": "3.7.3"
  }
 },
 "nbformat": 4,
 "nbformat_minor": 2
}
