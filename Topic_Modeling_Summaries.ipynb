{
 "cells": [
  {
   "cell_type": "markdown",
   "metadata": {},
   "source": [
    "# Natural Language Processing - Bill Text Exploration"
   ]
  },
  {
   "cell_type": "markdown",
   "metadata": {},
   "source": [
    "\n",
    "Transform the raw data into feature vectors and these new features will be created using the existing dataset. Structure as follows:\n",
    "\n",
    "Data Exploration\n",
    "- Word Cloud \n",
    "\n",
    "Vectorizers\n",
    "- Custom and Spacy Tokenizer\n",
    "- Count Vectors as features\n",
    "- TF-IDF Vectors as features\n",
    "\n",
    "- Word level\n",
    "- N-Gram level\n",
    "\n",
    "Character level\n",
    "- Word Embeddings as features\n",
    "- Text / NLP based features\n",
    "- Topic Models as features\n",
    "\n",
    "https://www.analyticsvidhya.com/blog/2018/04/a-comprehensive-guide-to-understand-and-implement-text-classification-in-python/"
   ]
  },
  {
   "cell_type": "code",
   "execution_count": 58,
   "metadata": {},
   "outputs": [],
   "source": [
    "import mysql.connector \n",
    "import numpy as np\n",
    "import pandas as pd\n",
    "import config_final\n",
    "import requests\n",
    "\n",
    "from sodapy import Socrata\n",
    "import sqlalchemy as db\n"
   ]
  },
  {
   "cell_type": "code",
   "execution_count": 59,
   "metadata": {},
   "outputs": [],
   "source": [
    "def query(q):\n",
    "    try:\n",
    "        return pd.read_sql_query(q, engine)\n",
    "    # Pass when no data is returned    \n",
    "    except ResourceClosedError:\n",
    "        pass\n",
    "\n",
    "def query_list(col, table, distinct = True):\n",
    "    elts = ['SELECT',\n",
    "            'DISTINCT' if distinct else '',\n",
    "            col,\n",
    "            'FROM',\n",
    "            table]\n",
    "    query_str = ' '.join(elts)\n",
    "    df = query(query_str)\n",
    "    l = df.iloc[:,0].tolist()\n",
    "    return l"
   ]
  },
  {
   "cell_type": "code",
   "execution_count": 60,
   "metadata": {},
   "outputs": [],
   "source": [
    "engine = db.create_engine(f'mysql+mysqlconnector://{config_final.user}:{config_final.password}@{config_final.host}/con_bills')\n",
    "\n",
    "connection = engine.connect()\n",
    "metadata=db.MetaData()"
   ]
  },
  {
   "cell_type": "code",
   "execution_count": 61,
   "metadata": {},
   "outputs": [],
   "source": [
    "df = query('SELECT BillID, Title, Summary, PassH, Cong FROM con_bills.bills')\n"
   ]
  },
  {
   "cell_type": "code",
   "execution_count": 62,
   "metadata": {},
   "outputs": [
    {
     "data": {
      "text/html": [
       "<div>\n",
       "<style scoped>\n",
       "    .dataframe tbody tr th:only-of-type {\n",
       "        vertical-align: middle;\n",
       "    }\n",
       "\n",
       "    .dataframe tbody tr th {\n",
       "        vertical-align: top;\n",
       "    }\n",
       "\n",
       "    .dataframe thead th {\n",
       "        text-align: right;\n",
       "    }\n",
       "</style>\n",
       "<table border=\"1\" class=\"dataframe\">\n",
       "  <thead>\n",
       "    <tr style=\"text-align: right;\">\n",
       "      <th></th>\n",
       "      <th>BillID</th>\n",
       "      <th>Title</th>\n",
       "      <th>Summary</th>\n",
       "      <th>PassH</th>\n",
       "      <th>Cong</th>\n",
       "    </tr>\n",
       "  </thead>\n",
       "  <tbody>\n",
       "    <tr>\n",
       "      <th>17773</th>\n",
       "      <td>93-HR-9995</td>\n",
       "      <td>A bill to improve the conduct and regulation o...</td>\n",
       "      <td>Clean Elections Act -Title I:  Federal Electio...</td>\n",
       "      <td>0</td>\n",
       "      <td>93</td>\n",
       "    </tr>\n",
       "    <tr>\n",
       "      <th>17774</th>\n",
       "      <td>93-HR-9996</td>\n",
       "      <td>A bill to amend the Truth-in-Lending-Act to pr...</td>\n",
       "      <td>Truth in Lending Act Amendments -Title I:  Fai...</td>\n",
       "      <td>0</td>\n",
       "      <td>93</td>\n",
       "    </tr>\n",
       "    <tr>\n",
       "      <th>17775</th>\n",
       "      <td>93-HR-9997</td>\n",
       "      <td>A bill to provide income tax incentives for th...</td>\n",
       "      <td>Anti-Architectural Barriers Act - Allows an in...</td>\n",
       "      <td>0</td>\n",
       "      <td>93</td>\n",
       "    </tr>\n",
       "    <tr>\n",
       "      <th>17776</th>\n",
       "      <td>93-HR-9998</td>\n",
       "      <td>A bill to reorganize the governmental structur...</td>\n",
       "      <td>District of Columbia Self-Government and Gover...</td>\n",
       "      <td>0</td>\n",
       "      <td>93</td>\n",
       "    </tr>\n",
       "    <tr>\n",
       "      <th>17777</th>\n",
       "      <td>93-HR-9999</td>\n",
       "      <td>A bill to strengthen and improve the private r...</td>\n",
       "      <td>Omnibus Pension and Retirement Security Act - ...</td>\n",
       "      <td>0</td>\n",
       "      <td>93</td>\n",
       "    </tr>\n",
       "  </tbody>\n",
       "</table>\n",
       "</div>"
      ],
      "text/plain": [
       "           BillID                                              Title  \\\n",
       "17773  93-HR-9995  A bill to improve the conduct and regulation o...   \n",
       "17774  93-HR-9996  A bill to amend the Truth-in-Lending-Act to pr...   \n",
       "17775  93-HR-9997  A bill to provide income tax incentives for th...   \n",
       "17776  93-HR-9998  A bill to reorganize the governmental structur...   \n",
       "17777  93-HR-9999  A bill to strengthen and improve the private r...   \n",
       "\n",
       "                                                 Summary  PassH  Cong  \n",
       "17773  Clean Elections Act -Title I:  Federal Electio...      0    93  \n",
       "17774  Truth in Lending Act Amendments -Title I:  Fai...      0    93  \n",
       "17775  Anti-Architectural Barriers Act - Allows an in...      0    93  \n",
       "17776  District of Columbia Self-Government and Gover...      0    93  \n",
       "17777  Omnibus Pension and Retirement Security Act - ...      0    93  "
      ]
     },
     "execution_count": 62,
     "metadata": {},
     "output_type": "execute_result"
    }
   ],
   "source": [
    "df.tail()"
   ]
  },
  {
   "cell_type": "code",
   "execution_count": 63,
   "metadata": {},
   "outputs": [
    {
     "data": {
      "text/plain": [
       "0    17010\n",
       "1      768\n",
       "Name: PassH, dtype: int64"
      ]
     },
     "execution_count": 63,
     "metadata": {},
     "output_type": "execute_result"
    }
   ],
   "source": [
    "df['PassH'].value_counts()"
   ]
  },
  {
   "cell_type": "code",
   "execution_count": 64,
   "metadata": {},
   "outputs": [
    {
     "data": {
      "text/plain": [
       "0"
      ]
     },
     "execution_count": 64,
     "metadata": {},
     "output_type": "execute_result"
    }
   ],
   "source": [
    "blanks = []\n",
    "\n",
    "for i, billID, title, summary, PassH, Cong in df.itertuples():  # iterate over the DataFrame\n",
    "    if type(summary)==str:            # avoid NaN values\n",
    "        if summary.isspace():         # test 'plot' for whitespace\n",
    "            blanks.append(i)\n",
    "                  \n",
    "len(blanks)"
   ]
  },
  {
   "cell_type": "markdown",
   "metadata": {},
   "source": [
    "# Wordcloud Exploration"
   ]
  },
  {
   "cell_type": "markdown",
   "metadata": {},
   "source": [
    "Initial exploration of topics in dependent variable using wordcloud and stopword engineering.\n",
    "\n",
    "Pass House 0 = Bills did not pass House\n",
    "\n",
    "Pass House 1 = Bill passed House\n"
   ]
  },
  {
   "cell_type": "code",
   "execution_count": 65,
   "metadata": {},
   "outputs": [],
   "source": [
    "from wordcloud import WordCloud, STOPWORDS\n",
    "import matplotlib.pyplot as plt\n",
    "\n",
    "stopwords = set(STOPWORDS)\n",
    "stopwords.add(\"concurrent\")\n",
    "stopwords.add(\"resolution\")\n",
    "stopwords.add(\"recognizing\")\n",
    "stopwords.add(\"providing\")\n",
    "stopwords.add(\"provide\")\n",
    "stopwords.add(\"bill\")\n",
    "stopwords.add(\"congressional\")\n",
    "stopwords.add(\"authorizing\")\n",
    "stopwords.add(\"authorize\")\n",
    "stopwords.add(\"designating\")\n",
    "stopwords.add(\"designate\")\n",
    "stopwords.add(\"printi\")\n",
    "stopwords.add(\"printing\")\n",
    "stopwords.add(\"printed\")\n",
    "stopwords.add(\"Congress\")\n",
    "stopwords.add(\"Authorizes\")\n",
    "stopwords.add(\"Provides\")"
   ]
  },
  {
   "cell_type": "code",
   "execution_count": 66,
   "metadata": {},
   "outputs": [],
   "source": [
    "def show_wordcloud(data, title = None):\n",
    "    wordcloud = WordCloud(\n",
    "        background_color='white',\n",
    "        stopwords=stopwords, \n",
    "        max_words=50,\n",
    "        max_font_size=40, \n",
    "        scale=3,\n",
    "        random_state=1 \n",
    "    ).generate(str(data))\n",
    "\n",
    "    fig = plt.figure(1, figsize=(12, 12))\n",
    "    plt.axis('off')\n",
    "    if title: \n",
    "        fig.suptitle(title, fontsize=20)\n",
    "        fig.subplots_adjust(top=2.3)\n",
    "\n",
    "    plt.imshow(wordcloud)\n",
    "    plt.show()\n"
   ]
  },
  {
   "cell_type": "code",
   "execution_count": 67,
   "metadata": {},
   "outputs": [
    {
     "data": {
      "image/png": "[encoded data removed]",
      "text/plain": [
       "<Figure size 864x864 with 1 Axes>"
      ]
     },
     "metadata": {
      "needs_background": "light"
     },
     "output_type": "display_data"
    }
   ],
   "source": [
    "show_wordcloud(df[df['PassH']==0]['Summary'])"
   ]
  },
  {
   "cell_type": "code",
   "execution_count": 68,
   "metadata": {},
   "outputs": [
    {
     "data": {
      "image/png": "[encoded data removed]",
      "text/plain": [
       "<Figure size 864x864 with 1 Axes>"
      ]
     },
     "metadata": {
      "needs_background": "light"
     },
     "output_type": "display_data"
    }
   ],
   "source": [
    "show_wordcloud(df[df['PassH']==1]['Summary'])"
   ]
  },
  {
   "cell_type": "code",
   "execution_count": 69,
   "metadata": {},
   "outputs": [],
   "source": [
    "#Wordcloud on difference of frequencies"
   ]
  },
  {
   "cell_type": "markdown",
   "metadata": {},
   "source": [
    "# Topic Modeling"
   ]
  },
  {
   "cell_type": "markdown",
   "metadata": {},
   "source": [
    "**Split Training and Testing Data**"
   ]
  },
  {
   "cell_type": "code",
   "execution_count": 70,
   "metadata": {},
   "outputs": [],
   "source": [
    "from sklearn import preprocessing"
   ]
  },
  {
   "cell_type": "code",
   "execution_count": 196,
   "metadata": {},
   "outputs": [],
   "source": [
    "from sklearn.model_selection import train_test_split\n",
    "\n",
    "X = df['Title']\n",
    "y = df['PassH']\n",
    "\n",
    "X_train, y_train1, X_test, y_test1 = train_test_split(X, y)"
   ]
  },
  {
   "cell_type": "markdown",
   "metadata": {},
   "source": [
    "Encode our target column so that it can be used in machine learning models (may not be necessary since the data is already binary)"
   ]
  },
  {
   "cell_type": "code",
   "execution_count": 197,
   "metadata": {},
   "outputs": [],
   "source": [
    "encoder = preprocessing.LabelEncoder()\n",
    "\n",
    "y_train = encoder.fit_transform(y_train1)\n",
    "y_test = encoder.fit_transform(y_test1)"
   ]
  },
  {
   "cell_type": "markdown",
   "metadata": {},
   "source": [
    "## Feature Engineering\n"
   ]
  },
  {
   "cell_type": "markdown",
   "metadata": {},
   "source": [
    "**Cleaning Text**\n",
    "\n",
    "Test both the spacy tokenizer and personalized tokenizer against the data."
   ]
  },
  {
   "cell_type": "code",
   "execution_count": 73,
   "metadata": {},
   "outputs": [],
   "source": [
    "import spacy\n",
    "from spacy.lang.en import English\n",
    "# For part of speech tagging\n",
    "import en_core_web_sm\n",
    "\n",
    "nlp = English()\n",
    "spacy_stopwords = spacy.lang.en.stop_words.STOP_WORDS"
   ]
  },
  {
   "cell_type": "code",
   "execution_count": 74,
   "metadata": {
    "collapsed": true
   },
   "outputs": [
    {
     "ename": "TypeError",
     "evalue": "add() takes exactly one argument (2 given)",
     "output_type": "error",
     "traceback": [
      "\u001b[0;31m---------------------------------------------------------------------------\u001b[0m",
      "\u001b[0;31mTypeError\u001b[0m                                 Traceback (most recent call last)",
      "\u001b[0;32m<ipython-input-74-cef8cb7a565b>\u001b[0m in \u001b[0;36m<module>\u001b[0;34m\u001b[0m\n\u001b[1;32m      1\u001b[0m \u001b[0;31m#Editing the stopwords list\u001b[0m\u001b[0;34m\u001b[0m\u001b[0;34m\u001b[0m\u001b[0;34m\u001b[0m\u001b[0m\n\u001b[0;32m----> 2\u001b[0;31m \u001b[0mspacy_stopwords\u001b[0m\u001b[0;34m.\u001b[0m\u001b[0madd\u001b[0m\u001b[0;34m(\u001b[0m\u001b[0;34m'concurrent'\u001b[0m\u001b[0;34m,\u001b[0m \u001b[0;34m'resolution'\u001b[0m\u001b[0;34m)\u001b[0m\u001b[0;34m\u001b[0m\u001b[0;34m\u001b[0m\u001b[0m\n\u001b[0m",
      "\u001b[0;31mTypeError\u001b[0m: add() takes exactly one argument (2 given)"
     ]
    }
   ],
   "source": [
    "#Editing the stopwords list\n",
    "spacy_stopwords.add('concurrent', 'resolution')"
   ]
  },
  {
   "cell_type": "code",
   "execution_count": 75,
   "metadata": {
    "collapsed": true
   },
   "outputs": [
    {
     "ename": "TypeError",
     "evalue": "__call__() missing 1 required positional argument: 'text'",
     "output_type": "error",
     "traceback": [
      "\u001b[0;31m---------------------------------------------------------------------------\u001b[0m",
      "\u001b[0;31mTypeError\u001b[0m                                 Traceback (most recent call last)",
      "\u001b[0;32m<ipython-input-75-b2a2e6eb353d>\u001b[0m in \u001b[0;36m<module>\u001b[0;34m\u001b[0m\n\u001b[1;32m      1\u001b[0m \u001b[0;31m#Lemmitization\u001b[0m\u001b[0;34m\u001b[0m\u001b[0;34m\u001b[0m\u001b[0;34m\u001b[0m\u001b[0m\n\u001b[0;32m----> 2\u001b[0;31m \u001b[0mlem\u001b[0m \u001b[0;34m=\u001b[0m \u001b[0mnlp\u001b[0m\u001b[0;34m(\u001b[0m\u001b[0;34m)\u001b[0m\u001b[0;34m\u001b[0m\u001b[0;34m\u001b[0m\u001b[0m\n\u001b[0m\u001b[1;32m      3\u001b[0m \u001b[0;34m\u001b[0m\u001b[0m\n\u001b[1;32m      4\u001b[0m \u001b[0;32mfor\u001b[0m \u001b[0mword\u001b[0m \u001b[0;32min\u001b[0m \u001b[0mlem\u001b[0m\u001b[0;34m:\u001b[0m\u001b[0;34m\u001b[0m\u001b[0;34m\u001b[0m\u001b[0m\n\u001b[1;32m      5\u001b[0m     \u001b[0mprint\u001b[0m\u001b[0;34m(\u001b[0m\u001b[0mword\u001b[0m\u001b[0;34m.\u001b[0m\u001b[0mtext\u001b[0m\u001b[0;34m,\u001b[0m \u001b[0mword\u001b[0m\u001b[0;34m.\u001b[0m\u001b[0mlemma_\u001b[0m\u001b[0;34m)\u001b[0m\u001b[0;34m\u001b[0m\u001b[0;34m\u001b[0m\u001b[0m\n",
      "\u001b[0;31mTypeError\u001b[0m: __call__() missing 1 required positional argument: 'text'"
     ]
    }
   ],
   "source": [
    "#Lemmitization\n",
    "for word in lem:\n",
    "    print(word.text, word.lemma_)"
   ]
  },
  {
   "cell_type": "code",
   "execution_count": 157,
   "metadata": {},
   "outputs": [],
   "source": [
    "#Part of speech tagging\n",
    "nlp_pos = en_core_web_sm.load()\n"
   ]
  },
  {
   "cell_type": "code",
   "execution_count": 78,
   "metadata": {},
   "outputs": [],
   "source": [
    "#Define the spacy tokenizer\n",
    "spacy_tokenizer = spacy.load('en_core_web_sm', disable =['tagger', 'parser', 'ner'])"
   ]
  },
  {
   "cell_type": "code",
   "execution_count": 83,
   "metadata": {},
   "outputs": [],
   "source": [
    "import string\n",
    "import re\n",
    "\n",
    "replace_with_space = re.compile('[/(){}\\[\\]\\|@,;]')\n",
    "\n",
    "just_words = re.compile('[^a-zA-Z\\s]')\n"
   ]
  },
  {
   "cell_type": "code",
   "execution_count": null,
   "metadata": {},
   "outputs": [],
   "source": [
    "from spacy.lemmatizer import Lemmatizer\n",
    "from spacy.lookups import Lookups\n",
    "\n",
    "lookups = Lookups()\n",
    "lookups.add_table(\"lemma_rules\", {\"noun\": [[\"s\", \"\"]]})\n",
    "\n",
    "lemmatizer = Lemmatizer(lookups)"
   ]
  },
  {
   "cell_type": "code",
   "execution_count": 224,
   "metadata": {},
   "outputs": [],
   "source": [
    "#Define the custom tokenizer\n",
    "def clean(text):\n",
    "    \n",
    "    text = text.lower()\n",
    "    \n",
    "    text = text.translate(str.maketrans('', '', string.punctuation))\n",
    "    \n",
    "    text = replace_with_space.sub('',text)\n",
    "    \n",
    "    text = just_words.sub('', text)\n",
    "    \n",
    "#     text = ' '.join(word for word in text.split() if word not in stopwords)\n",
    "    \n",
    "    #Lemma here\n",
    "    \n",
    "    stopwords = set(STOPWORDS)\n",
    "    \n",
    "    return text\n",
    "    \n",
    "      "
   ]
  },
  {
   "cell_type": "code",
   "execution_count": 230,
   "metadata": {},
   "outputs": [],
   "source": [
    "def tokenizer(text):\n",
    "    \n",
    "    text = clean(text)\n",
    "    text = nlp(text)\n",
    "    \n",
    "    lem_text = []\n",
    "    for word in text:\n",
    "        lem_text.append(word.lemma_)\n",
    "    \n",
    "    return lem_text\n",
    "    "
   ]
  },
  {
   "cell_type": "code",
   "execution_count": 226,
   "metadata": {},
   "outputs": [
    {
     "data": {
      "text/plain": [
       "'Federal Employee Labor Management Act -Title I:  Declaration of Policy- Declares it to be the policy of this Act that employees of the Federal Government shall have, and shall be protected in the exercise of, the right, freely and without fear of penalty or reprisal, to form, join, and assist any labor organization, including the right to participate in the management of any such organization and act for the organization in the capacity of an organization representative, including presentation of its views to officials of the executive branch of the Government, the Congress, or other appropriate authority.  Requires that the head of each Government department, agency, activity, organization, or function shall take such action as may be required to carry out the purpose of this Act and assure that no improper interference, restraint, coercion, or discrimination is practiced to discourage membership in any labor organization.Title II:  Definitions- Defines the terms used in this Act.Title III:  Federal Labor Relations Authority- Creates the Federal Labor Relations Authority composed of a Chairman and two additional members to be appointed by the President by and with the advice and consent of the Senate.Requires such Authority to make a report to Congress and to the President at the close of each fiscal year stating the cases it has heard, the decisions it has rendered, and an account of all moneys it has disbursed.Title IV:  Powers and Duties of the Authority- Provides that the Authority shall resolve and determine any dispute concerning a unit appropriate for purposes of recognition and collective bargaining, conduct elections for exclusive recognition, resolve and determine any complaints of unfair labor practices, and investigate and resolve any negotiation impasse.Authorizes the Authority to delegate to its regional directors its powers to recognize labor organizations which request recognition in conformity with this Act, to determine the unit appropriate for th'"
      ]
     },
     "execution_count": 226,
     "metadata": {},
     "output_type": "execute_result"
    }
   ],
   "source": [
    "test_fun = df.iloc[2200][2]\n",
    "test_fun"
   ]
  },
  {
   "cell_type": "code",
   "execution_count": 227,
   "metadata": {},
   "outputs": [
    {
     "data": {
      "text/plain": [
       "str"
      ]
     },
     "execution_count": 227,
     "metadata": {},
     "output_type": "execute_result"
    }
   ],
   "source": [
    "type(test_fun)"
   ]
  },
  {
   "cell_type": "code",
   "execution_count": 228,
   "metadata": {},
   "outputs": [
    {
     "data": {
      "text/plain": [
       "'federal employee labor management act title i  declaration of policy declares it to be the policy of this act that employees of the federal government shall have and shall be protected in the exercise of the right freely and without fear of penalty or reprisal to form join and assist any labor organization including the right to participate in the management of any such organization and act for the organization in the capacity of an organization representative including presentation of its views to officials of the executive branch of the government the congress or other appropriate authority  requires that the head of each government department agency activity organization or function shall take such action as may be required to carry out the purpose of this act and assure that no improper interference restraint coercion or discrimination is practiced to discourage membership in any labor organizationtitle ii  definitions defines the terms used in this acttitle iii  federal labor relations authority creates the federal labor relations authority composed of a chairman and two additional members to be appointed by the president by and with the advice and consent of the senaterequires such authority to make a report to congress and to the president at the close of each fiscal year stating the cases it has heard the decisions it has rendered and an account of all moneys it has disbursedtitle iv  powers and duties of the authority provides that the authority shall resolve and determine any dispute concerning a unit appropriate for purposes of recognition and collective bargaining conduct elections for exclusive recognition resolve and determine any complaints of unfair labor practices and investigate and resolve any negotiation impasseauthorizes the authority to delegate to its regional directors its powers to recognize labor organizations which request recognition in conformity with this act to determine the unit appropriate for th'"
      ]
     },
     "execution_count": 228,
     "metadata": {},
     "output_type": "execute_result"
    }
   ],
   "source": [
    "clean(test_fun)"
   ]
  },
  {
   "cell_type": "code",
   "execution_count": 213,
   "metadata": {},
   "outputs": [
    {
     "data": {
      "text/plain": [
       "['federal',\n",
       " 'employee',\n",
       " 'labor',\n",
       " 'management',\n",
       " 'act',\n",
       " 'title',\n",
       " 'i',\n",
       " 'declaration',\n",
       " 'policy',\n",
       " 'declares',\n",
       " 'policy',\n",
       " 'act',\n",
       " 'employees',\n",
       " 'federal',\n",
       " 'government',\n",
       " 'protected',\n",
       " 'exercise',\n",
       " 'right',\n",
       " 'freely',\n",
       " 'without',\n",
       " 'fear',\n",
       " 'penalty',\n",
       " 'reprisal',\n",
       " 'form',\n",
       " 'join',\n",
       " 'assist',\n",
       " 'labor',\n",
       " 'organization',\n",
       " 'including',\n",
       " 'right',\n",
       " 'participate',\n",
       " 'management',\n",
       " 'organization',\n",
       " 'act',\n",
       " 'organization',\n",
       " 'capacity',\n",
       " 'organization',\n",
       " 'representative',\n",
       " 'including',\n",
       " 'presentation',\n",
       " 'views',\n",
       " 'officials',\n",
       " 'executive',\n",
       " 'branch',\n",
       " 'government',\n",
       " 'congress',\n",
       " 'appropriate',\n",
       " 'authority',\n",
       " 'requires',\n",
       " 'head',\n",
       " 'government',\n",
       " 'department',\n",
       " 'agency',\n",
       " 'activity',\n",
       " 'organization',\n",
       " 'function',\n",
       " 'take',\n",
       " 'action',\n",
       " 'may',\n",
       " 'required',\n",
       " 'carry',\n",
       " 'purpose',\n",
       " 'act',\n",
       " 'assure',\n",
       " 'improper',\n",
       " 'interference',\n",
       " 'restraint',\n",
       " 'coercion',\n",
       " 'discrimination',\n",
       " 'practiced',\n",
       " 'discourage',\n",
       " 'membership',\n",
       " 'labor',\n",
       " 'organizationtitle',\n",
       " 'ii',\n",
       " 'definitions',\n",
       " 'defines',\n",
       " 'terms',\n",
       " 'used',\n",
       " 'acttitle',\n",
       " 'iii',\n",
       " 'federal',\n",
       " 'labor',\n",
       " 'relations',\n",
       " 'authority',\n",
       " 'creates',\n",
       " 'federal',\n",
       " 'labor',\n",
       " 'relations',\n",
       " 'authority',\n",
       " 'composed',\n",
       " 'chairman',\n",
       " 'two',\n",
       " 'additional',\n",
       " 'members',\n",
       " 'appointed',\n",
       " 'president',\n",
       " 'advice',\n",
       " 'consent',\n",
       " 'senaterequires',\n",
       " 'authority',\n",
       " 'make',\n",
       " 'report',\n",
       " 'congress',\n",
       " 'president',\n",
       " 'close',\n",
       " 'fiscal',\n",
       " 'year',\n",
       " 'stating',\n",
       " 'cases',\n",
       " 'heard',\n",
       " 'decisions',\n",
       " 'rendered',\n",
       " 'account',\n",
       " 'moneys',\n",
       " 'disbursedtitle',\n",
       " 'iv',\n",
       " 'powers',\n",
       " 'duties',\n",
       " 'authority',\n",
       " 'provides',\n",
       " 'authority',\n",
       " 'resolve',\n",
       " 'determine',\n",
       " 'dispute',\n",
       " 'concerning',\n",
       " 'unit',\n",
       " 'appropriate',\n",
       " 'purposes',\n",
       " 'recognition',\n",
       " 'collective',\n",
       " 'bargaining',\n",
       " 'conduct',\n",
       " 'elections',\n",
       " 'exclusive',\n",
       " 'recognition',\n",
       " 'resolve',\n",
       " 'determine',\n",
       " 'complaints',\n",
       " 'unfair',\n",
       " 'labor',\n",
       " 'practices',\n",
       " 'investigate',\n",
       " 'resolve',\n",
       " 'negotiation',\n",
       " 'impasseauthorizes',\n",
       " 'authority',\n",
       " 'delegate',\n",
       " 'regional',\n",
       " 'directors',\n",
       " 'powers',\n",
       " 'recognize',\n",
       " 'labor',\n",
       " 'organizations',\n",
       " 'request',\n",
       " 'recognition',\n",
       " 'conformity',\n",
       " 'act',\n",
       " 'determine',\n",
       " 'unit',\n",
       " 'appropriate',\n",
       " 'th']"
      ]
     },
     "execution_count": 213,
     "metadata": {},
     "output_type": "execute_result"
    }
   ],
   "source": [
    "tokenizer(test_fun)\n"
   ]
  },
  {
   "cell_type": "code",
   "execution_count": 202,
   "metadata": {
    "scrolled": true
   },
   "outputs": [
    {
     "data": {
      "text/plain": [
       "Federal Employee Labor Management Act -Title I:  Declaration of Policy- Declares it to be the policy of this Act that employees of the Federal Government shall have, and shall be protected in the exercise of, the right, freely and without fear of penalty or reprisal, to form, join, and assist any labor organization, including the right to participate in the management of any such organization and act for the organization in the capacity of an organization representative, including presentation of its views to officials of the executive branch of the Government, the Congress, or other appropriate authority.  Requires that the head of each Government department, agency, activity, organization, or function shall take such action as may be required to carry out the purpose of this Act and assure that no improper interference, restraint, coercion, or discrimination is practiced to discourage membership in any labor organization.Title II:  Definitions- Defines the terms used in this Act.Title III:  Federal Labor Relations Authority- Creates the Federal Labor Relations Authority composed of a Chairman and two additional members to be appointed by the President by and with the advice and consent of the Senate.Requires such Authority to make a report to Congress and to the President at the close of each fiscal year stating the cases it has heard, the decisions it has rendered, and an account of all moneys it has disbursed.Title IV:  Powers and Duties of the Authority- Provides that the Authority shall resolve and determine any dispute concerning a unit appropriate for purposes of recognition and collective bargaining, conduct elections for exclusive recognition, resolve and determine any complaints of unfair labor practices, and investigate and resolve any negotiation impasse.Authorizes the Authority to delegate to its regional directors its powers to recognize labor organizations which request recognition in conformity with this Act, to determine the unit appropriate for th"
      ]
     },
     "execution_count": 202,
     "metadata": {},
     "output_type": "execute_result"
    }
   ],
   "source": [
    "spacy_tokenizer(test_fun)"
   ]
  },
  {
   "cell_type": "markdown",
   "metadata": {},
   "source": [
    "**Saving to DF**"
   ]
  },
  {
   "cell_type": "code",
   "execution_count": 215,
   "metadata": {},
   "outputs": [],
   "source": [
    "df['clean_summaries'] = df.apply(lambda row: clean(row['Summary']), axis=1)"
   ]
  },
  {
   "cell_type": "code",
   "execution_count": 216,
   "metadata": {},
   "outputs": [],
   "source": [
    "df['tokenized_summaries'] = df.apply(lambda row: tokenizer(row['Summary']), axis=1)\n"
   ]
  },
  {
   "cell_type": "code",
   "execution_count": 217,
   "metadata": {},
   "outputs": [
    {
     "data": {
      "text/html": [
       "<div>\n",
       "<style scoped>\n",
       "    .dataframe tbody tr th:only-of-type {\n",
       "        vertical-align: middle;\n",
       "    }\n",
       "\n",
       "    .dataframe tbody tr th {\n",
       "        vertical-align: top;\n",
       "    }\n",
       "\n",
       "    .dataframe thead th {\n",
       "        text-align: right;\n",
       "    }\n",
       "</style>\n",
       "<table border=\"1\" class=\"dataframe\">\n",
       "  <thead>\n",
       "    <tr style=\"text-align: right;\">\n",
       "      <th></th>\n",
       "      <th>BillID</th>\n",
       "      <th>Title</th>\n",
       "      <th>Summary</th>\n",
       "      <th>PassH</th>\n",
       "      <th>Cong</th>\n",
       "      <th>tokenized_summaries</th>\n",
       "      <th>clean_summaries</th>\n",
       "    </tr>\n",
       "  </thead>\n",
       "  <tbody>\n",
       "    <tr>\n",
       "      <th>0</th>\n",
       "      <td>93-HCONRES-1</td>\n",
       "      <td>A concurrent resolution making the necessary a...</td>\n",
       "      <td>Provides that effective from January 3, 1973, ...</td>\n",
       "      <td>1</td>\n",
       "      <td>93</td>\n",
       "      <td>[provides, effective, january, joint, committe...</td>\n",
       "      <td>provides effective january joint committee cre...</td>\n",
       "    </tr>\n",
       "    <tr>\n",
       "      <th>1</th>\n",
       "      <td>93-HCONRES-10</td>\n",
       "      <td>A concurrent resolution expressing the sense o...</td>\n",
       "      <td>Makes it the sense of the Congress that the re...</td>\n",
       "      <td>0</td>\n",
       "      <td>93</td>\n",
       "      <td>[makes, sense, congress, regulation, insurance...</td>\n",
       "      <td>makes sense congress regulation insurance gene...</td>\n",
       "    </tr>\n",
       "    <tr>\n",
       "      <th>2</th>\n",
       "      <td>93-HCONRES-100</td>\n",
       "      <td>Concurrent resolution expressing the disapprov...</td>\n",
       "      <td>Expresses the disapproval of Congress of all p...</td>\n",
       "      <td>0</td>\n",
       "      <td>93</td>\n",
       "      <td>[expresses, disapproval, congress, proposals, ...</td>\n",
       "      <td>expresses disapproval congress proposals conta...</td>\n",
       "    </tr>\n",
       "    <tr>\n",
       "      <th>3</th>\n",
       "      <td>93-HCONRES-101</td>\n",
       "      <td>Concurrent resolution expressing the sense of ...</td>\n",
       "      <td>Makes it the sense of the Congress that the Pr...</td>\n",
       "      <td>0</td>\n",
       "      <td>93</td>\n",
       "      <td>[makes, sense, congress, president, take, step...</td>\n",
       "      <td>makes sense congress president take steps may ...</td>\n",
       "    </tr>\n",
       "    <tr>\n",
       "      <th>4</th>\n",
       "      <td>93-HCONRES-102</td>\n",
       "      <td>Concurrent resolution expressing the sense of ...</td>\n",
       "      <td>Makes it the sense of the Congress that the Pr...</td>\n",
       "      <td>0</td>\n",
       "      <td>93</td>\n",
       "      <td>[makes, sense, congress, president, take, step...</td>\n",
       "      <td>makes sense congress president take steps may ...</td>\n",
       "    </tr>\n",
       "  </tbody>\n",
       "</table>\n",
       "</div>"
      ],
      "text/plain": [
       "           BillID                                              Title  \\\n",
       "0    93-HCONRES-1  A concurrent resolution making the necessary a...   \n",
       "1   93-HCONRES-10  A concurrent resolution expressing the sense o...   \n",
       "2  93-HCONRES-100  Concurrent resolution expressing the disapprov...   \n",
       "3  93-HCONRES-101  Concurrent resolution expressing the sense of ...   \n",
       "4  93-HCONRES-102  Concurrent resolution expressing the sense of ...   \n",
       "\n",
       "                                             Summary  PassH  Cong  \\\n",
       "0  Provides that effective from January 3, 1973, ...      1    93   \n",
       "1  Makes it the sense of the Congress that the re...      0    93   \n",
       "2  Expresses the disapproval of Congress of all p...      0    93   \n",
       "3  Makes it the sense of the Congress that the Pr...      0    93   \n",
       "4  Makes it the sense of the Congress that the Pr...      0    93   \n",
       "\n",
       "                                 tokenized_summaries  \\\n",
       "0  [provides, effective, january, joint, committe...   \n",
       "1  [makes, sense, congress, regulation, insurance...   \n",
       "2  [expresses, disapproval, congress, proposals, ...   \n",
       "3  [makes, sense, congress, president, take, step...   \n",
       "4  [makes, sense, congress, president, take, step...   \n",
       "\n",
       "                                     clean_summaries  \n",
       "0  provides effective january joint committee cre...  \n",
       "1  makes sense congress regulation insurance gene...  \n",
       "2  expresses disapproval congress proposals conta...  \n",
       "3  makes sense congress president take steps may ...  \n",
       "4  makes sense congress president take steps may ...  "
      ]
     },
     "execution_count": 217,
     "metadata": {},
     "output_type": "execute_result"
    }
   ],
   "source": [
    "df.head()"
   ]
  },
  {
   "cell_type": "markdown",
   "metadata": {},
   "source": [
    "**CountVectorizer**\n",
    "\n",
    "Every row represents a document in the corpus, every column represents a term in the document, every cell represents the frequency count of a particular term in a particular document.\n",
    "\n",
    "Tuning: analyzer, vectorizer, max_features, max_df, min_df, n_grams"
   ]
  },
  {
   "cell_type": "code",
   "execution_count": 208,
   "metadata": {},
   "outputs": [
    {
     "data": {
      "text/plain": [
       "<13333x56045 sparse matrix of type '<class 'numpy.int64'>'\n",
       "\twith 374210 stored elements in Compressed Sparse Row format>"
      ]
     },
     "execution_count": 208,
     "metadata": {},
     "output_type": "execute_result"
    }
   ],
   "source": [
    "from sklearn.feature_extraction.text import CountVectorizer\n",
    "\n",
    "count_vect = CountVectorizer(analyzer = 'word', tokenizer = tokenizer, ngram_range = (1,2))\n",
    "cv = count_vect.fit_transform(X_train, y_train)\n",
    "\n",
    "# xtrain_cv =  count_vect.transform(X_train)\n",
    "# xvalid_cv =  count_vect.transform(X_test)"
   ]
  },
  {
   "cell_type": "code",
   "execution_count": null,
   "metadata": {},
   "outputs": [],
   "source": [
    "#decide if i want to use these\n",
    "params = {'vect__max_df': (0.5, 0.75, 1.0),\n",
    "        'vect__max_features': (None, 5000, 10000, 50000),\n",
    "        'vect__ngram_range': ((1, 1), (1, 2))\n",
    "         }"
   ]
  },
  {
   "cell_type": "code",
   "execution_count": null,
   "metadata": {},
   "outputs": [],
   "source": [
    "#Gridsearch"
   ]
  },
  {
   "cell_type": "markdown",
   "metadata": {},
   "source": [
    "**Exploring Stored Words**"
   ]
  },
  {
   "cell_type": "code",
   "execution_count": null,
   "metadata": {},
   "outputs": [],
   "source": [
    "len(cv.get_feature_names())"
   ]
  },
  {
   "cell_type": "code",
   "execution_count": null,
   "metadata": {},
   "outputs": [],
   "source": [
    "cv.get_feature_names()"
   ]
  },
  {
   "cell_type": "code",
   "execution_count": null,
   "metadata": {},
   "outputs": [],
   "source": [
    "import random\n",
    "\n",
    "#get ten random words from each\n",
    "\n",
    "for i in range(10):\n",
    "    word_id = random.randomint(0,) #second should be len of cv\n",
    "    print(cv.get_feature_names()[word_id])"
   ]
  },
  {
   "cell_type": "markdown",
   "metadata": {},
   "source": [
    "Look at model components:"
   ]
  },
  {
   "cell_type": "code",
   "execution_count": null,
   "metadata": {},
   "outputs": [],
   "source": [
    "lda_model.components_"
   ]
  },
  {
   "cell_type": "code",
   "execution_count": null,
   "metadata": {},
   "outputs": [],
   "source": [
    "single_topic = lda_model.components_[0]"
   ]
  },
  {
   "cell_type": "code",
   "execution_count": null,
   "metadata": {},
   "outputs": [],
   "source": [
    "# Returns the indices that would sort this array.\n",
    "single_topic.argsort()\n",
    "\n",
    "#look at the most and least representative words!"
   ]
  },
  {
   "cell_type": "code",
   "execution_count": null,
   "metadata": {},
   "outputs": [],
   "source": [
    "# Word least representative of this topic\n",
    "single_topic[XXX]\n",
    "\n",
    "#first round goes from 0.05 to 106.1"
   ]
  },
  {
   "cell_type": "code",
   "execution_count": null,
   "metadata": {},
   "outputs": [],
   "source": [
    "# Word most representative of this topic\n",
    "single_topic[XXX]"
   ]
  },
  {
   "cell_type": "markdown",
   "metadata": {},
   "source": [
    "Look at the top fifteen for each topic:"
   ]
  },
  {
   "cell_type": "code",
   "execution_count": null,
   "metadata": {},
   "outputs": [],
   "source": [
    "for index,topic in enumerate(lda_model.components_):\n",
    "    print(f'THE TOP 15 WORDS FOR TOPIC #{index}')\n",
    "    print([cv.get_feature_names()[i] for i in topic.argsort()[-15:]])\n",
    "    print('\\n')\n",
    "\n",
    "#print top fifteen words for each topic\n",
    "#increase number of topics to get more specific topics\n",
    "#go back and clean some of the data based on answers"
   ]
  },
  {
   "cell_type": "markdown",
   "metadata": {},
   "source": [
    "NEXT: Dominant topic visualizations\n",
    "\n",
    "'LDA-Guided-Project'"
   ]
  },
  {
   "cell_type": "markdown",
   "metadata": {},
   "source": [
    "**Topic Modeling - LDA**\n",
    "\n",
    "LDA is an iterative model which starts from a fixed number of topics. Each topic is represented as a distribution over words, and each document is then represented as a distribution over topics."
   ]
  },
  {
   "cell_type": "code",
   "execution_count": 229,
   "metadata": {},
   "outputs": [],
   "source": [
    "from sklearn.decomposition import LatentDirichletAllocation"
   ]
  },
  {
   "cell_type": "code",
   "execution_count": null,
   "metadata": {},
   "outputs": [],
   "source": [
    "# Build LDA Model\n",
    "#focus on number topics, max iteration, learning decay\n",
    "lda_model = LatentDirichletAllocation(n_components=15,               # Number of topics\n",
    "                                      max_iter=20,  \n",
    "                                      learning_decay=0.5,    # Max learning iterations (how many times going over whole dataset)\n",
    "                                      learning_method='online',   #constantly update with new data or batch\n",
    "                                      random_state=100,          # Random state\n",
    "                                      batch_size=128,            # n docs in each learning iter\n",
    "                                      evaluate_every = -1,       # compute perplexity every n iters, default: Don't\n",
    "                                      n_jobs = -1,               # Use all available CPUs\n",
    "                                     )\n",
    "\n",
    "print(lda_model)  # Model attributes"
   ]
  },
  {
   "cell_type": "code",
   "execution_count": null,
   "metadata": {},
   "outputs": [],
   "source": [
    "# This can take awhile, we're dealing with a large amount of documents!\n",
    "\n",
    "lda_output = lda_model.fit_transform(cv)\n"
   ]
  },
  {
   "cell_type": "markdown",
   "metadata": {},
   "source": [
    "**Evaluation of Model:**"
   ]
  },
  {
   "cell_type": "code",
   "execution_count": null,
   "metadata": {},
   "outputs": [],
   "source": [
    "# Log Likelyhood: Higher the better\n",
    "print(\"Log Likelihood: \", lda_model.score(cv))\n",
    "\n",
    "# Perplexity: Lower the better. Perplexity = exp(-1. * log-likelihood per word)\n",
    "print(\"Perplexity: \", lda_model.perplexity(cv))\n",
    "\n",
    "# See model parameters\n",
    "print(lda_model.get_params())"
   ]
  },
  {
   "cell_type": "code",
   "execution_count": null,
   "metadata": {},
   "outputs": [],
   "source": []
  },
  {
   "cell_type": "markdown",
   "metadata": {},
   "source": [
    "**Data Mapper Pipeline**"
   ]
  },
  {
   "cell_type": "markdown",
   "metadata": {},
   "source": [
    "\n",
    "This allow each column to be mapped to different encoders.\n",
    "\n",
    "https://pypi.org/project/dataframe-mapper/"
   ]
  },
  {
   "cell_type": "code",
   "execution_count": 27,
   "metadata": {},
   "outputs": [
    {
     "name": "stdout",
     "output_type": "stream",
     "text": [
      "Collecting dataframe-mapper\n",
      "  Downloading https://files.pythonhosted.org/packages/b7/58/20cce8519337744ff386b98b846c4649c1db65b732a639f96416ae5182c3/dataframe_mapper-0.0.3-py3-none-any.whl\n",
      "Requirement already satisfied: pandas>=0.23.0 in /Users/melissamunz/anaconda3/lib/python3.7/site-packages (from dataframe-mapper) (0.24.2)\n",
      "Requirement already satisfied: pytz>=2011k in /Users/melissamunz/anaconda3/lib/python3.7/site-packages (from pandas>=0.23.0->dataframe-mapper) (2019.1)\n",
      "Requirement already satisfied: numpy>=1.12.0 in /Users/melissamunz/anaconda3/lib/python3.7/site-packages (from pandas>=0.23.0->dataframe-mapper) (1.16.4)\n",
      "Requirement already satisfied: python-dateutil>=2.5.0 in /Users/melissamunz/anaconda3/lib/python3.7/site-packages (from pandas>=0.23.0->dataframe-mapper) (2.8.0)\n",
      "Requirement already satisfied: six>=1.5 in /Users/melissamunz/anaconda3/lib/python3.7/site-packages (from python-dateutil>=2.5.0->pandas>=0.23.0->dataframe-mapper) (1.12.0)\n",
      "Installing collected packages: dataframe-mapper\n",
      "Successfully installed dataframe-mapper-0.0.3\n"
     ]
    }
   ],
   "source": [
    "!pip install dataframe-mapper"
   ]
  },
  {
   "cell_type": "code",
   "execution_count": null,
   "metadata": {},
   "outputs": [],
   "source": [
    "column_tuples = [\n",
    "    ('Sales', None),\n",
    "    ('ShelveLoc', LabelEncoder()),\n",
    "    ('Urban', LabelEncoder()), \n",
    "    ('US', LabelEncoder())]\n",
    "\n",
    "mapper = DataFrameMapper(column_tuples, default=StandardScaler())\n",
    "mapper_fit = mapper.fit(train)"
   ]
  }
 ],
 "metadata": {
  "kernelspec": {
   "display_name": "Python 3",
   "language": "python",
   "name": "python3"
  },
  "language_info": {
   "codemirror_mode": {
    "name": "ipython",
    "version": 3
   },
   "file_extension": ".py",
   "mimetype": "text/x-python",
   "name": "python",
   "nbconvert_exporter": "python",
   "pygments_lexer": "ipython3",
   "version": "3.7.3"
  }
 },
 "nbformat": 4,
 "nbformat_minor": 2
}
