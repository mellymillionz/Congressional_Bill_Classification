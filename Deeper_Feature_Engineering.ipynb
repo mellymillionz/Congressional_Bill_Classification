{
 "cells": [
  {
   "cell_type": "code",
   "execution_count": 1,
   "metadata": {},
   "outputs": [],
   "source": [
    "import mysql.connector \n",
    "import numpy as np\n",
    "import pandas as pd\n",
    "import config_final\n",
    "import requests\n",
    "from utilities import query, query_list\n",
    "\n",
    "\n",
    "from sodapy import Socrata\n",
    "import sqlalchemy as db"
   ]
  },
  {
   "cell_type": "markdown",
   "metadata": {},
   "source": [
    "**Connect to Database**"
   ]
  },
  {
   "cell_type": "code",
   "execution_count": 2,
   "metadata": {},
   "outputs": [],
   "source": [
    "def query(q):\n",
    "    try:\n",
    "        return pd.read_sql_query(q, engine)\n",
    "    # Pass when no data is returned    \n",
    "    except ResourceClosedError:\n",
    "        pass\n",
    "\n",
    "def query_list(col, table, distinct = True):\n",
    "    elts = ['SELECT',\n",
    "            'DISTINCT' if distinct else '',\n",
    "            col,\n",
    "            'FROM',\n",
    "            table]\n",
    "    query_str = ' '.join(elts)\n",
    "    df = query(query_str)\n",
    "    l = df.iloc[:,0].tolist()\n",
    "    return l"
   ]
  },
  {
   "cell_type": "code",
   "execution_count": 3,
   "metadata": {},
   "outputs": [],
   "source": [
    "engine = db.create_engine(f'mysql+mysqlconnector://{config_final.user}:{config_final.password}@{config_final.host}/con_bills')\n",
    "\n",
    "connection = engine.connect()\n",
    "metadata=db.MetaData()"
   ]
  },
  {
   "cell_type": "code",
   "execution_count": 4,
   "metadata": {},
   "outputs": [],
   "source": [
    "df = query('SELECT * FROM con_bills.current_bills')\n"
   ]
  },
  {
   "cell_type": "markdown",
   "metadata": {},
   "source": [
    "**Review All data**"
   ]
  },
  {
   "cell_type": "code",
   "execution_count": 5,
   "metadata": {},
   "outputs": [
    {
     "data": {
      "text/html": [
       "<div>\n",
       "<style scoped>\n",
       "    .dataframe tbody tr th:only-of-type {\n",
       "        vertical-align: middle;\n",
       "    }\n",
       "\n",
       "    .dataframe tbody tr th {\n",
       "        vertical-align: top;\n",
       "    }\n",
       "\n",
       "    .dataframe thead th {\n",
       "        text-align: right;\n",
       "    }\n",
       "</style>\n",
       "<table border=\"1\" class=\"dataframe\">\n",
       "  <thead>\n",
       "    <tr style=\"text-align: right;\">\n",
       "      <th></th>\n",
       "      <th>BillID</th>\n",
       "      <th>BillType</th>\n",
       "      <th>Chamber</th>\n",
       "      <th>Cong</th>\n",
       "      <th>Cosponsr</th>\n",
       "      <th>IntrDate</th>\n",
       "      <th>Mult</th>\n",
       "      <th>PLaw</th>\n",
       "      <th>Title</th>\n",
       "      <th>Veto</th>\n",
       "      <th>...</th>\n",
       "      <th>PassH</th>\n",
       "      <th>PassS</th>\n",
       "      <th>PLawDate</th>\n",
       "      <th>PLawNum</th>\n",
       "      <th>ImpBill</th>\n",
       "      <th>Majority</th>\n",
       "      <th>Major</th>\n",
       "      <th>Minor</th>\n",
       "      <th>URL</th>\n",
       "      <th>Summary</th>\n",
       "    </tr>\n",
       "  </thead>\n",
       "  <tbody>\n",
       "    <tr>\n",
       "      <th>0</th>\n",
       "      <td>109-S-1000</td>\n",
       "      <td>s</td>\n",
       "      <td>1</td>\n",
       "      <td>109</td>\n",
       "      <td>0.0</td>\n",
       "      <td>2005-05-11 00:00:00</td>\n",
       "      <td>0</td>\n",
       "      <td>0</td>\n",
       "      <td>A bill to amend the Public Health Service Act ...</td>\n",
       "      <td>0</td>\n",
       "      <td>...</td>\n",
       "      <td>0</td>\n",
       "      <td>0</td>\n",
       "      <td>None</td>\n",
       "      <td>0</td>\n",
       "      <td>1</td>\n",
       "      <td>0</td>\n",
       "      <td>3.0</td>\n",
       "      <td>325.0</td>\n",
       "      <td>https://www.congress.gov/bill/109th-congress/s...</td>\n",
       "      <td>Palliative Care Training Act - Amends the Publ...</td>\n",
       "    </tr>\n",
       "    <tr>\n",
       "      <th>1</th>\n",
       "      <td>109-S-1001</td>\n",
       "      <td>s</td>\n",
       "      <td>1</td>\n",
       "      <td>109</td>\n",
       "      <td>0.0</td>\n",
       "      <td>2005-05-11 00:00:00</td>\n",
       "      <td>0</td>\n",
       "      <td>0</td>\n",
       "      <td>A bill to establish hospice demonstration proj...</td>\n",
       "      <td>0</td>\n",
       "      <td>...</td>\n",
       "      <td>0</td>\n",
       "      <td>0</td>\n",
       "      <td>None</td>\n",
       "      <td>0</td>\n",
       "      <td>1</td>\n",
       "      <td>0</td>\n",
       "      <td>3.0</td>\n",
       "      <td>334.0</td>\n",
       "      <td>https://www.congress.gov/bill/109th-congress/s...</td>\n",
       "      <td>Medicare Hospice Demonstration Act of 2005 - D...</td>\n",
       "    </tr>\n",
       "    <tr>\n",
       "      <th>2</th>\n",
       "      <td>109-S-1002</td>\n",
       "      <td>s</td>\n",
       "      <td>1</td>\n",
       "      <td>109</td>\n",
       "      <td>23.0</td>\n",
       "      <td>2005-05-11 00:00:00</td>\n",
       "      <td>0</td>\n",
       "      <td>0</td>\n",
       "      <td>A bill to amend title XVIII of the Social Secu...</td>\n",
       "      <td>0</td>\n",
       "      <td>...</td>\n",
       "      <td>0</td>\n",
       "      <td>0</td>\n",
       "      <td>None</td>\n",
       "      <td>0</td>\n",
       "      <td>1</td>\n",
       "      <td>1</td>\n",
       "      <td>3.0</td>\n",
       "      <td>322.0</td>\n",
       "      <td>https://www.congress.gov/bill/109th-congress/s...</td>\n",
       "      <td>Hospital Fair Competition Act of 2005 - Amends...</td>\n",
       "    </tr>\n",
       "    <tr>\n",
       "      <th>3</th>\n",
       "      <td>109-S-1003</td>\n",
       "      <td>s</td>\n",
       "      <td>1</td>\n",
       "      <td>109</td>\n",
       "      <td>0.0</td>\n",
       "      <td>2005-05-11 00:00:00</td>\n",
       "      <td>1</td>\n",
       "      <td>0</td>\n",
       "      <td>A bill to amend the Act of December 22, 1974, ...</td>\n",
       "      <td>0</td>\n",
       "      <td>...</td>\n",
       "      <td>0</td>\n",
       "      <td>1</td>\n",
       "      <td>None</td>\n",
       "      <td>0</td>\n",
       "      <td>1</td>\n",
       "      <td>1</td>\n",
       "      <td>20.0</td>\n",
       "      <td>2012.0</td>\n",
       "      <td>https://www.congress.gov/bill/109th-congress/s...</td>\n",
       "      <td>Navajo-Hopi Land Settlement Amendments of 2005...</td>\n",
       "    </tr>\n",
       "    <tr>\n",
       "      <th>4</th>\n",
       "      <td>109-S-1004</td>\n",
       "      <td>s</td>\n",
       "      <td>1</td>\n",
       "      <td>109</td>\n",
       "      <td>5.0</td>\n",
       "      <td>2005-05-11 00:00:00</td>\n",
       "      <td>0</td>\n",
       "      <td>0</td>\n",
       "      <td>A bill to provide the Federal Trade Commission...</td>\n",
       "      <td>0</td>\n",
       "      <td>...</td>\n",
       "      <td>0</td>\n",
       "      <td>0</td>\n",
       "      <td>None</td>\n",
       "      <td>0</td>\n",
       "      <td>1</td>\n",
       "      <td>1</td>\n",
       "      <td>17.0</td>\n",
       "      <td>1709.0</td>\n",
       "      <td>https://www.congress.gov/bill/109th-congress/s...</td>\n",
       "      <td>Enhanced Consumer Protection Against Spyware A...</td>\n",
       "    </tr>\n",
       "  </tbody>\n",
       "</table>\n",
       "<p>5 rows × 29 columns</p>\n",
       "</div>"
      ],
      "text/plain": [
       "       BillID BillType  Chamber  Cong  Cosponsr             IntrDate  Mult  \\\n",
       "0  109-S-1000        s        1   109       0.0  2005-05-11 00:00:00     0   \n",
       "1  109-S-1001        s        1   109       0.0  2005-05-11 00:00:00     0   \n",
       "2  109-S-1002        s        1   109      23.0  2005-05-11 00:00:00     0   \n",
       "3  109-S-1003        s        1   109       0.0  2005-05-11 00:00:00     1   \n",
       "4  109-S-1004        s        1   109       5.0  2005-05-11 00:00:00     0   \n",
       "\n",
       "   PLaw                                              Title  Veto  ...  PassH  \\\n",
       "0     0  A bill to amend the Public Health Service Act ...     0  ...      0   \n",
       "1     0  A bill to establish hospice demonstration proj...     0  ...      0   \n",
       "2     0  A bill to amend title XVIII of the Social Secu...     0  ...      0   \n",
       "3     0  A bill to amend the Act of December 22, 1974, ...     0  ...      0   \n",
       "4     0  A bill to provide the Federal Trade Commission...     0  ...      0   \n",
       "\n",
       "   PassS  PLawDate  PLawNum  ImpBill  Majority Major   Minor  \\\n",
       "0      0      None        0        1         0   3.0   325.0   \n",
       "1      0      None        0        1         0   3.0   334.0   \n",
       "2      0      None        0        1         1   3.0   322.0   \n",
       "3      1      None        0        1         1  20.0  2012.0   \n",
       "4      0      None        0        1         1  17.0  1709.0   \n",
       "\n",
       "                                                 URL  \\\n",
       "0  https://www.congress.gov/bill/109th-congress/s...   \n",
       "1  https://www.congress.gov/bill/109th-congress/s...   \n",
       "2  https://www.congress.gov/bill/109th-congress/s...   \n",
       "3  https://www.congress.gov/bill/109th-congress/s...   \n",
       "4  https://www.congress.gov/bill/109th-congress/s...   \n",
       "\n",
       "                                             Summary  \n",
       "0  Palliative Care Training Act - Amends the Publ...  \n",
       "1  Medicare Hospice Demonstration Act of 2005 - D...  \n",
       "2  Hospital Fair Competition Act of 2005 - Amends...  \n",
       "3  Navajo-Hopi Land Settlement Amendments of 2005...  \n",
       "4  Enhanced Consumer Protection Against Spyware A...  \n",
       "\n",
       "[5 rows x 29 columns]"
      ]
     },
     "execution_count": 5,
     "metadata": {},
     "output_type": "execute_result"
    }
   ],
   "source": [
    "df.head()"
   ]
  },
  {
   "cell_type": "code",
   "execution_count": 6,
   "metadata": {},
   "outputs": [
    {
     "data": {
      "text/plain": [
       "(54707, 29)"
      ]
     },
     "execution_count": 6,
     "metadata": {},
     "output_type": "execute_result"
    }
   ],
   "source": [
    "df.shape"
   ]
  },
  {
   "cell_type": "code",
   "execution_count": 16,
   "metadata": {},
   "outputs": [
    {
     "name": "stdout",
     "output_type": "stream",
     "text": [
      "<class 'pandas.core.frame.DataFrame'>\n",
      "RangeIndex: 54707 entries, 0 to 54706\n",
      "Data columns (total 29 columns):\n",
      "BillID      54707 non-null object\n",
      "BillType    54707 non-null object\n",
      "Chamber     54707 non-null int64\n",
      "Cong        54707 non-null int64\n",
      "Cosponsr    54707 non-null float64\n",
      "IntrDate    54664 non-null object\n",
      "Mult        54707 non-null int64\n",
      "PLaw        54707 non-null int64\n",
      "Title       54707 non-null object\n",
      "Veto        54707 non-null int64\n",
      "Class       54707 non-null float64\n",
      "District    54707 non-null float64\n",
      "FrstConH    54707 non-null float64\n",
      "FrstConS    54707 non-null float64\n",
      "Gender      54707 non-null int64\n",
      "MRef        54707 non-null int64\n",
      "NameFull    54707 non-null object\n",
      "Party       54707 non-null float64\n",
      "Postal      54707 non-null object\n",
      "PassH       54707 non-null int64\n",
      "PassS       54707 non-null int64\n",
      "PLawDate    1506 non-null object\n",
      "PLawNum     54707 non-null object\n",
      "ImpBill     54707 non-null int64\n",
      "Majority    54707 non-null int64\n",
      "Major       54707 non-null float64\n",
      "Minor       54707 non-null float64\n",
      "URL         54707 non-null object\n",
      "Summary     54656 non-null object\n",
      "dtypes: float64(8), int64(11), object(10)\n",
      "memory usage: 12.1+ MB\n"
     ]
    }
   ],
   "source": [
    "df.info()"
   ]
  },
  {
   "cell_type": "code",
   "execution_count": 35,
   "metadata": {},
   "outputs": [
    {
     "data": {
      "text/plain": [
       "110    11081\n",
       "111    10629\n",
       "112    10436\n",
       "114    10055\n",
       "113     8866\n",
       "109     3640\n",
       "Name: Cong, dtype: int64"
      ]
     },
     "execution_count": 35,
     "metadata": {},
     "output_type": "execute_result"
    }
   ],
   "source": [
    "df['Cong'].value_counts()"
   ]
  },
  {
   "cell_type": "code",
   "execution_count": 7,
   "metadata": {},
   "outputs": [
    {
     "data": {
      "text/plain": [
       "0    50566\n",
       "1     4141\n",
       "Name: PassH, dtype: int64"
      ]
     },
     "execution_count": 7,
     "metadata": {},
     "output_type": "execute_result"
    }
   ],
   "source": [
    "df['PassH'].value_counts()"
   ]
  },
  {
   "cell_type": "code",
   "execution_count": 8,
   "metadata": {},
   "outputs": [
    {
     "data": {
      "text/plain": [
       "110    11081\n",
       "111    10629\n",
       "112    10436\n",
       "114    10055\n",
       "113     8866\n",
       "109     3640\n",
       "Name: Cong, dtype: int64"
      ]
     },
     "execution_count": 8,
     "metadata": {},
     "output_type": "execute_result"
    }
   ],
   "source": [
    "df['Cong'].value_counts()"
   ]
  },
  {
   "cell_type": "code",
   "execution_count": 9,
   "metadata": {},
   "outputs": [
    {
     "data": {
      "text/plain": [
       "hr    33016\n",
       "s     21691\n",
       "Name: BillType, dtype: int64"
      ]
     },
     "execution_count": 9,
     "metadata": {},
     "output_type": "execute_result"
    }
   ],
   "source": [
    "df['BillType'].value_counts()"
   ]
  },
  {
   "cell_type": "markdown",
   "metadata": {},
   "source": [
    "**General Visualizations:**"
   ]
  },
  {
   "cell_type": "code",
   "execution_count": 13,
   "metadata": {},
   "outputs": [
    {
     "data": {
      "text/plain": [
       "<matplotlib.axes._subplots.AxesSubplot at 0x11db42978>"
      ]
     },
     "execution_count": 13,
     "metadata": {},
     "output_type": "execute_result"
    },
    {
     "data": {
      "image/png": "[encoded data removed]",
      "text/plain": [
       "<Figure size 432x288 with 1 Axes>"
      ]
     },
     "metadata": {
      "needs_background": "light"
     },
     "output_type": "display_data"
    }
   ],
   "source": [
    "df['PassH'].value_counts().plot.barh()"
   ]
  },
  {
   "cell_type": "code",
   "execution_count": 12,
   "metadata": {},
   "outputs": [
    {
     "data": {
      "text/plain": [
       "Text(0.5, 1.0, 'Number of Bills by Recent Congress')"
      ]
     },
     "execution_count": 12,
     "metadata": {},
     "output_type": "execute_result"
    },
    {
     "data": {
      "image/png": "[encoded data removed]",
      "text/plain": [
       "<Figure size 432x288 with 1 Axes>"
      ]
     },
     "metadata": {
      "needs_background": "light"
     },
     "output_type": "display_data"
    }
   ],
   "source": [
    "df['Cong'].value_counts(sort=True).plot.barh().set_title('Number of Bills by Recent Congress')\n"
   ]
  },
  {
   "cell_type": "code",
   "execution_count": 27,
   "metadata": {},
   "outputs": [
    {
     "data": {
      "text/plain": [
       "Text(0.5, 1.0, 'Majority vs Minority House Bill Proposals')"
      ]
     },
     "execution_count": 27,
     "metadata": {},
     "output_type": "execute_result"
    },
    {
     "data": {
      "image/png": "[encoded data removed]",
      "text/plain": [
       "<Figure size 432x288 with 1 Axes>"
      ]
     },
     "metadata": {
      "needs_background": "light"
     },
     "output_type": "display_data"
    }
   ],
   "source": [
    "#Bills Proposed by Majority or Not, for all Congresses\n",
    "\n",
    "df.groupby(['Cong', 'Majority']).size().unstack().plot.bar(stacked=True).set_title('Majority vs Minority House Bill Proposals')\n"
   ]
  },
  {
   "cell_type": "code",
   "execution_count": 24,
   "metadata": {},
   "outputs": [
    {
     "data": {
      "text/plain": [
       "Text(0.5, 1.0, 'Bill Passage per Congress')"
      ]
     },
     "execution_count": 24,
     "metadata": {},
     "output_type": "execute_result"
    },
    {
     "data": {
      "image/png": "[encoded data removed]",
      "text/plain": [
       "<Figure size 432x288 with 1 Axes>"
      ]
     },
     "metadata": {
      "needs_background": "light"
     },
     "output_type": "display_data"
    }
   ],
   "source": [
    "#Portion of bills proposed for all congresses vs those that passed the house \n",
    "df.groupby(['Cong', 'PassH']).size().unstack().plot.bar(stacked=True).set_title('Bill Passage per Congress')\n"
   ]
  },
  {
   "cell_type": "code",
   "execution_count": 29,
   "metadata": {},
   "outputs": [
    {
     "data": {
      "text/plain": [
       "Text(0.5, 1.0, 'Bill Proposal by Gender')"
      ]
     },
     "execution_count": 29,
     "metadata": {},
     "output_type": "execute_result"
    },
    {
     "data": {
      "image/png": "[encoded data removed]",
      "text/plain": [
       "<Figure size 432x288 with 1 Axes>"
      ]
     },
     "metadata": {
      "needs_background": "light"
     },
     "output_type": "display_data"
    }
   ],
   "source": [
    "df.groupby(['Cong', 'Gender']).size().unstack().plot.bar(stacked=True).set_title('Bill Proposal by Gender')\n"
   ]
  },
  {
   "cell_type": "code",
   "execution_count": 33,
   "metadata": {},
   "outputs": [
    {
     "data": {
      "text/plain": [
       "Text(0.5, 1.0, 'Bill Passage by Majority')"
      ]
     },
     "execution_count": 33,
     "metadata": {},
     "output_type": "execute_result"
    },
    {
     "data": {
      "image/png": "[encoded data removed]",
      "text/plain": [
       "<Figure size 432x288 with 1 Axes>"
      ]
     },
     "metadata": {
      "needs_background": "light"
     },
     "output_type": "display_data"
    }
   ],
   "source": [
    "df.groupby(['Cong', 'Majority', 'PassH']).size().unstack().plot.bar(stacked=True).set_title('Bill Passage by Majority')\n"
   ]
  },
  {
   "cell_type": "code",
   "execution_count": 42,
   "metadata": {},
   "outputs": [
    {
     "data": {
      "text/plain": [
       "Text(0.5, 1.0, 'Bill Proposal by Party')"
      ]
     },
     "execution_count": 42,
     "metadata": {},
     "output_type": "execute_result"
    },
    {
     "data": {
      "image/png": "[encoded data removed]",
      "text/plain": [
       "<Figure size 432x288 with 1 Axes>"
      ]
     },
     "metadata": {
      "needs_background": "light"
     },
     "output_type": "display_data"
    }
   ],
   "source": [
    "df.groupby(['Cong', 'Party']).size().unstack().plot.bar(stacked=True).set_title('Bill Proposal by Party')\n"
   ]
  },
  {
   "cell_type": "code",
   "execution_count": 46,
   "metadata": {},
   "outputs": [
    {
     "data": {
      "text/plain": [
       "Text(0.5, 1.0, 'Party breakdown by Congress')"
      ]
     },
     "execution_count": 46,
     "metadata": {},
     "output_type": "execute_result"
    },
    {
     "data": {
      "image/png": "[encoded data removed]",
      "text/plain": [
       "<Figure size 432x288 with 1 Axes>"
      ]
     },
     "metadata": {
      "needs_background": "light"
     },
     "output_type": "display_data"
    }
   ],
   "source": [
    "df.groupby(['Cong', 'Party']).size().unstack().plot.bar().set_title('Party breakdown by Congress')"
   ]
  },
  {
   "cell_type": "markdown",
   "metadata": {},
   "source": [
    "**Feature Engineering**"
   ]
  },
  {
   "cell_type": "code",
   "execution_count": null,
   "metadata": {},
   "outputs": [],
   "source": []
  }
 ],
 "metadata": {
  "kernelspec": {
   "display_name": "Python 3",
   "language": "python",
   "name": "python3"
  },
  "language_info": {
   "codemirror_mode": {
    "name": "ipython",
    "version": 3
   },
   "file_extension": ".py",
   "mimetype": "text/x-python",
   "name": "python",
   "nbconvert_exporter": "python",
   "pygments_lexer": "ipython3",
   "version": "3.7.3"
  }
 },
 "nbformat": 4,
 "nbformat_minor": 2
}
