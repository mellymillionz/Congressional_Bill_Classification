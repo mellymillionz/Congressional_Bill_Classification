{
 "cells": [
  {
   "cell_type": "code",
   "execution_count": 1,
   "metadata": {},
   "outputs": [],
   "source": [
    "import mysql.connector \n",
    "import numpy as np\n",
    "import pandas as pd\n",
    "import config_final\n",
    "import requests\n",
    "from utilities import query, query_list\n",
    "\n",
    "\n",
    "from sodapy import Socrata\n",
    "import sqlalchemy as db"
   ]
  },
  {
   "cell_type": "markdown",
   "metadata": {},
   "source": [
    "**Connect to Database**"
   ]
  },
  {
   "cell_type": "code",
   "execution_count": 2,
   "metadata": {},
   "outputs": [],
   "source": [
    "def query(q):\n",
    "    try:\n",
    "        return pd.read_sql_query(q, engine)\n",
    "    # Pass when no data is returned    \n",
    "    except ResourceClosedError:\n",
    "        pass\n",
    "\n",
    "def query_list(col, table, distinct = True):\n",
    "    elts = ['SELECT',\n",
    "            'DISTINCT' if distinct else '',\n",
    "            col,\n",
    "            'FROM',\n",
    "            table]\n",
    "    query_str = ' '.join(elts)\n",
    "    df = query(query_str)\n",
    "    l = df.iloc[:,0].tolist()\n",
    "    return l"
   ]
  },
  {
   "cell_type": "code",
   "execution_count": 3,
   "metadata": {},
   "outputs": [],
   "source": [
    "engine = db.create_engine(f'mysql+mysqlconnector://{config_final.user}:{config_final.password}@{config_final.host}/con_bills')\n",
    "\n",
    "connection = engine.connect()\n",
    "metadata=db.MetaData()"
   ]
  },
  {
   "cell_type": "code",
   "execution_count": 4,
   "metadata": {},
   "outputs": [],
   "source": [
    "df = query('SELECT * FROM con_bills.current_bills WHERE Cong >= 110')\n"
   ]
  },
  {
   "cell_type": "markdown",
   "metadata": {},
   "source": [
    "**Review All data**"
   ]
  },
  {
   "cell_type": "markdown",
   "metadata": {},
   "source": [
    "Important coding:\n",
    "    \n",
    "- Party: (100 Democrat; 200 Republican, 328…from ICPSR)\n",
    "- Cosponsor: Number of cosponsors\n",
    "    "
   ]
  },
  {
   "cell_type": "code",
   "execution_count": 5,
   "metadata": {},
   "outputs": [
    {
     "data": {
      "text/html": [
       "<div>\n",
       "<style scoped>\n",
       "    .dataframe tbody tr th:only-of-type {\n",
       "        vertical-align: middle;\n",
       "    }\n",
       "\n",
       "    .dataframe tbody tr th {\n",
       "        vertical-align: top;\n",
       "    }\n",
       "\n",
       "    .dataframe thead th {\n",
       "        text-align: right;\n",
       "    }\n",
       "</style>\n",
       "<table border=\"1\" class=\"dataframe\">\n",
       "  <thead>\n",
       "    <tr style=\"text-align: right;\">\n",
       "      <th></th>\n",
       "      <th>BillID</th>\n",
       "      <th>BillType</th>\n",
       "      <th>Chamber</th>\n",
       "      <th>Cong</th>\n",
       "      <th>Cosponsr</th>\n",
       "      <th>IntrDate</th>\n",
       "      <th>Mult</th>\n",
       "      <th>PLaw</th>\n",
       "      <th>Title</th>\n",
       "      <th>Veto</th>\n",
       "      <th>...</th>\n",
       "      <th>PassH</th>\n",
       "      <th>PassS</th>\n",
       "      <th>PLawDate</th>\n",
       "      <th>PLawNum</th>\n",
       "      <th>ImpBill</th>\n",
       "      <th>Majority</th>\n",
       "      <th>Major</th>\n",
       "      <th>Minor</th>\n",
       "      <th>URL</th>\n",
       "      <th>Summary</th>\n",
       "    </tr>\n",
       "  </thead>\n",
       "  <tbody>\n",
       "    <tr>\n",
       "      <th>0</th>\n",
       "      <td>110-HR-1</td>\n",
       "      <td>hr</td>\n",
       "      <td>0</td>\n",
       "      <td>110</td>\n",
       "      <td>205.0</td>\n",
       "      <td>2007-01-05 00:00:00</td>\n",
       "      <td>1</td>\n",
       "      <td>1</td>\n",
       "      <td>To provide for the implementation of the recom...</td>\n",
       "      <td>0</td>\n",
       "      <td>...</td>\n",
       "      <td>1</td>\n",
       "      <td>1</td>\n",
       "      <td>2007-08-03 00:00:00</td>\n",
       "      <td>Became Public Law No: 110-53.</td>\n",
       "      <td>1</td>\n",
       "      <td>1</td>\n",
       "      <td>16.0</td>\n",
       "      <td>1615.0</td>\n",
       "      <td>https://www.congress.gov/bill/110th-congress/h...</td>\n",
       "      <td>Implementing Recommendations of the 9/11 Commi...</td>\n",
       "    </tr>\n",
       "    <tr>\n",
       "      <th>1</th>\n",
       "      <td>110-HR-10</td>\n",
       "      <td>hr</td>\n",
       "      <td>0</td>\n",
       "      <td>110</td>\n",
       "      <td>0.0</td>\n",
       "      <td>2007-01-04 00:00:00</td>\n",
       "      <td>0</td>\n",
       "      <td>0</td>\n",
       "      <td>Reserved for Speaker.</td>\n",
       "      <td>0</td>\n",
       "      <td>...</td>\n",
       "      <td>0</td>\n",
       "      <td>0</td>\n",
       "      <td>None</td>\n",
       "      <td>0</td>\n",
       "      <td>1</td>\n",
       "      <td>1</td>\n",
       "      <td>20.0</td>\n",
       "      <td>2002.0</td>\n",
       "      <td>https://www.congress.gov/bill/110th-congress/h...</td>\n",
       "      <td></td>\n",
       "    </tr>\n",
       "    <tr>\n",
       "      <th>2</th>\n",
       "      <td>110-HR-100</td>\n",
       "      <td>hr</td>\n",
       "      <td>0</td>\n",
       "      <td>110</td>\n",
       "      <td>10.0</td>\n",
       "      <td>2007-01-04 00:00:00</td>\n",
       "      <td>0</td>\n",
       "      <td>0</td>\n",
       "      <td>To amend the Higher Education Act of 1965 to p...</td>\n",
       "      <td>0</td>\n",
       "      <td>...</td>\n",
       "      <td>0</td>\n",
       "      <td>0</td>\n",
       "      <td>None</td>\n",
       "      <td>0</td>\n",
       "      <td>1</td>\n",
       "      <td>1</td>\n",
       "      <td>6.0</td>\n",
       "      <td>601.0</td>\n",
       "      <td>https://www.congress.gov/bill/110th-congress/h...</td>\n",
       "      <td>Veterans' Equity in Education Act of 2007 - Am...</td>\n",
       "    </tr>\n",
       "    <tr>\n",
       "      <th>3</th>\n",
       "      <td>110-HR-1000</td>\n",
       "      <td>hr</td>\n",
       "      <td>0</td>\n",
       "      <td>110</td>\n",
       "      <td>286.0</td>\n",
       "      <td>2007-02-12 00:00:00</td>\n",
       "      <td>0</td>\n",
       "      <td>0</td>\n",
       "      <td>To award a congressional gold medal to Edward ...</td>\n",
       "      <td>0</td>\n",
       "      <td>...</td>\n",
       "      <td>0</td>\n",
       "      <td>0</td>\n",
       "      <td>None</td>\n",
       "      <td>0</td>\n",
       "      <td>0</td>\n",
       "      <td>1</td>\n",
       "      <td>20.0</td>\n",
       "      <td>2006.0</td>\n",
       "      <td>https://www.congress.gov/bill/110th-congress/h...</td>\n",
       "      <td>Edward William Brooke III Congressional Gold M...</td>\n",
       "    </tr>\n",
       "    <tr>\n",
       "      <th>4</th>\n",
       "      <td>110-HR-1001</td>\n",
       "      <td>hr</td>\n",
       "      <td>0</td>\n",
       "      <td>110</td>\n",
       "      <td>0.0</td>\n",
       "      <td>2007-02-12 00:00:00</td>\n",
       "      <td>0</td>\n",
       "      <td>0</td>\n",
       "      <td>To amend the Haitian Hemispheric Opportunity t...</td>\n",
       "      <td>0</td>\n",
       "      <td>...</td>\n",
       "      <td>0</td>\n",
       "      <td>0</td>\n",
       "      <td>None</td>\n",
       "      <td>0</td>\n",
       "      <td>1</td>\n",
       "      <td>1</td>\n",
       "      <td>19.0</td>\n",
       "      <td>1921.0</td>\n",
       "      <td>https://www.congress.gov/bill/110th-congress/h...</td>\n",
       "      <td>Amends the Caribbean Basin Economic Recovery A...</td>\n",
       "    </tr>\n",
       "  </tbody>\n",
       "</table>\n",
       "<p>5 rows × 29 columns</p>\n",
       "</div>"
      ],
      "text/plain": [
       "        BillID BillType  Chamber  Cong  Cosponsr             IntrDate  Mult  \\\n",
       "0     110-HR-1       hr        0   110     205.0  2007-01-05 00:00:00     1   \n",
       "1    110-HR-10       hr        0   110       0.0  2007-01-04 00:00:00     0   \n",
       "2   110-HR-100       hr        0   110      10.0  2007-01-04 00:00:00     0   \n",
       "3  110-HR-1000       hr        0   110     286.0  2007-02-12 00:00:00     0   \n",
       "4  110-HR-1001       hr        0   110       0.0  2007-02-12 00:00:00     0   \n",
       "\n",
       "   PLaw                                              Title  Veto  ...  PassH  \\\n",
       "0     1  To provide for the implementation of the recom...     0  ...      1   \n",
       "1     0                              Reserved for Speaker.     0  ...      0   \n",
       "2     0  To amend the Higher Education Act of 1965 to p...     0  ...      0   \n",
       "3     0  To award a congressional gold medal to Edward ...     0  ...      0   \n",
       "4     0  To amend the Haitian Hemispheric Opportunity t...     0  ...      0   \n",
       "\n",
       "   PassS             PLawDate                        PLawNum  ImpBill  \\\n",
       "0      1  2007-08-03 00:00:00  Became Public Law No: 110-53.        1   \n",
       "1      0                 None                              0        1   \n",
       "2      0                 None                              0        1   \n",
       "3      0                 None                              0        0   \n",
       "4      0                 None                              0        1   \n",
       "\n",
       "   Majority Major   Minor                                                URL  \\\n",
       "0         1  16.0  1615.0  https://www.congress.gov/bill/110th-congress/h...   \n",
       "1         1  20.0  2002.0  https://www.congress.gov/bill/110th-congress/h...   \n",
       "2         1   6.0   601.0  https://www.congress.gov/bill/110th-congress/h...   \n",
       "3         1  20.0  2006.0  https://www.congress.gov/bill/110th-congress/h...   \n",
       "4         1  19.0  1921.0  https://www.congress.gov/bill/110th-congress/h...   \n",
       "\n",
       "                                             Summary  \n",
       "0  Implementing Recommendations of the 9/11 Commi...  \n",
       "1                                                     \n",
       "2  Veterans' Equity in Education Act of 2007 - Am...  \n",
       "3  Edward William Brooke III Congressional Gold M...  \n",
       "4  Amends the Caribbean Basin Economic Recovery A...  \n",
       "\n",
       "[5 rows x 29 columns]"
      ]
     },
     "execution_count": 5,
     "metadata": {},
     "output_type": "execute_result"
    }
   ],
   "source": [
    "df.head()"
   ]
  },
  {
   "cell_type": "code",
   "execution_count": 6,
   "metadata": {},
   "outputs": [
    {
     "data": {
      "text/plain": [
       "(51067, 29)"
      ]
     },
     "execution_count": 6,
     "metadata": {},
     "output_type": "execute_result"
    }
   ],
   "source": [
    "df.shape"
   ]
  },
  {
   "cell_type": "code",
   "execution_count": 7,
   "metadata": {},
   "outputs": [
    {
     "data": {
      "text/plain": [
       "0    47042\n",
       "1     4025\n",
       "Name: PassH, dtype: int64"
      ]
     },
     "execution_count": 7,
     "metadata": {},
     "output_type": "execute_result"
    }
   ],
   "source": [
    "#Review the dependent variable counts\n",
    "df['PassH'].value_counts()"
   ]
  },
  {
   "cell_type": "code",
   "execution_count": 8,
   "metadata": {},
   "outputs": [
    {
     "name": "stdout",
     "output_type": "stream",
     "text": [
      "<class 'pandas.core.frame.DataFrame'>\n",
      "RangeIndex: 51067 entries, 0 to 51066\n",
      "Data columns (total 29 columns):\n",
      "BillID      51067 non-null object\n",
      "BillType    51067 non-null object\n",
      "Chamber     51067 non-null int64\n",
      "Cong        51067 non-null int64\n",
      "Cosponsr    51067 non-null float64\n",
      "IntrDate    51025 non-null object\n",
      "Mult        51067 non-null int64\n",
      "PLaw        51067 non-null int64\n",
      "Title       51067 non-null object\n",
      "Veto        51067 non-null int64\n",
      "Class       51067 non-null float64\n",
      "District    51067 non-null float64\n",
      "FrstConH    51067 non-null float64\n",
      "FrstConS    51067 non-null float64\n",
      "Gender      51067 non-null int64\n",
      "MRef        51067 non-null int64\n",
      "NameFull    51067 non-null object\n",
      "Party       51067 non-null float64\n",
      "Postal      51067 non-null object\n",
      "PassH       51067 non-null int64\n",
      "PassS       51067 non-null int64\n",
      "PLawDate    1393 non-null object\n",
      "PLawNum     51067 non-null object\n",
      "ImpBill     51067 non-null int64\n",
      "Majority    51067 non-null int64\n",
      "Major       51067 non-null float64\n",
      "Minor       51067 non-null float64\n",
      "URL         51067 non-null object\n",
      "Summary     51017 non-null object\n",
      "dtypes: float64(8), int64(11), object(10)\n",
      "memory usage: 11.3+ MB\n"
     ]
    }
   ],
   "source": [
    "df.info()"
   ]
  },
  {
   "cell_type": "markdown",
   "metadata": {},
   "source": [
    "**Combined Text:**"
   ]
  },
  {
   "cell_type": "code",
   "execution_count": 9,
   "metadata": {},
   "outputs": [],
   "source": [
    "df['combined_text'] = df[['Title', 'Summary']].astype(str).apply(' '.join, axis=1)"
   ]
  },
  {
   "cell_type": "code",
   "execution_count": 10,
   "metadata": {},
   "outputs": [
    {
     "data": {
      "text/html": [
       "<div>\n",
       "<style scoped>\n",
       "    .dataframe tbody tr th:only-of-type {\n",
       "        vertical-align: middle;\n",
       "    }\n",
       "\n",
       "    .dataframe tbody tr th {\n",
       "        vertical-align: top;\n",
       "    }\n",
       "\n",
       "    .dataframe thead th {\n",
       "        text-align: right;\n",
       "    }\n",
       "</style>\n",
       "<table border=\"1\" class=\"dataframe\">\n",
       "  <thead>\n",
       "    <tr style=\"text-align: right;\">\n",
       "      <th></th>\n",
       "      <th>BillID</th>\n",
       "      <th>BillType</th>\n",
       "      <th>Chamber</th>\n",
       "      <th>Cong</th>\n",
       "      <th>Cosponsr</th>\n",
       "      <th>IntrDate</th>\n",
       "      <th>Mult</th>\n",
       "      <th>PLaw</th>\n",
       "      <th>Title</th>\n",
       "      <th>Veto</th>\n",
       "      <th>...</th>\n",
       "      <th>PassS</th>\n",
       "      <th>PLawDate</th>\n",
       "      <th>PLawNum</th>\n",
       "      <th>ImpBill</th>\n",
       "      <th>Majority</th>\n",
       "      <th>Major</th>\n",
       "      <th>Minor</th>\n",
       "      <th>URL</th>\n",
       "      <th>Summary</th>\n",
       "      <th>combined_text</th>\n",
       "    </tr>\n",
       "  </thead>\n",
       "  <tbody>\n",
       "    <tr>\n",
       "      <th>0</th>\n",
       "      <td>110-HR-1</td>\n",
       "      <td>hr</td>\n",
       "      <td>0</td>\n",
       "      <td>110</td>\n",
       "      <td>205.0</td>\n",
       "      <td>2007-01-05 00:00:00</td>\n",
       "      <td>1</td>\n",
       "      <td>1</td>\n",
       "      <td>To provide for the implementation of the recom...</td>\n",
       "      <td>0</td>\n",
       "      <td>...</td>\n",
       "      <td>1</td>\n",
       "      <td>2007-08-03 00:00:00</td>\n",
       "      <td>Became Public Law No: 110-53.</td>\n",
       "      <td>1</td>\n",
       "      <td>1</td>\n",
       "      <td>16.0</td>\n",
       "      <td>1615.0</td>\n",
       "      <td>https://www.congress.gov/bill/110th-congress/h...</td>\n",
       "      <td>Implementing Recommendations of the 9/11 Commi...</td>\n",
       "      <td>To provide for the implementation of the recom...</td>\n",
       "    </tr>\n",
       "    <tr>\n",
       "      <th>1</th>\n",
       "      <td>110-HR-10</td>\n",
       "      <td>hr</td>\n",
       "      <td>0</td>\n",
       "      <td>110</td>\n",
       "      <td>0.0</td>\n",
       "      <td>2007-01-04 00:00:00</td>\n",
       "      <td>0</td>\n",
       "      <td>0</td>\n",
       "      <td>Reserved for Speaker.</td>\n",
       "      <td>0</td>\n",
       "      <td>...</td>\n",
       "      <td>0</td>\n",
       "      <td>None</td>\n",
       "      <td>0</td>\n",
       "      <td>1</td>\n",
       "      <td>1</td>\n",
       "      <td>20.0</td>\n",
       "      <td>2002.0</td>\n",
       "      <td>https://www.congress.gov/bill/110th-congress/h...</td>\n",
       "      <td></td>\n",
       "      <td>Reserved for Speaker.</td>\n",
       "    </tr>\n",
       "    <tr>\n",
       "      <th>2</th>\n",
       "      <td>110-HR-100</td>\n",
       "      <td>hr</td>\n",
       "      <td>0</td>\n",
       "      <td>110</td>\n",
       "      <td>10.0</td>\n",
       "      <td>2007-01-04 00:00:00</td>\n",
       "      <td>0</td>\n",
       "      <td>0</td>\n",
       "      <td>To amend the Higher Education Act of 1965 to p...</td>\n",
       "      <td>0</td>\n",
       "      <td>...</td>\n",
       "      <td>0</td>\n",
       "      <td>None</td>\n",
       "      <td>0</td>\n",
       "      <td>1</td>\n",
       "      <td>1</td>\n",
       "      <td>6.0</td>\n",
       "      <td>601.0</td>\n",
       "      <td>https://www.congress.gov/bill/110th-congress/h...</td>\n",
       "      <td>Veterans' Equity in Education Act of 2007 - Am...</td>\n",
       "      <td>To amend the Higher Education Act of 1965 to p...</td>\n",
       "    </tr>\n",
       "    <tr>\n",
       "      <th>3</th>\n",
       "      <td>110-HR-1000</td>\n",
       "      <td>hr</td>\n",
       "      <td>0</td>\n",
       "      <td>110</td>\n",
       "      <td>286.0</td>\n",
       "      <td>2007-02-12 00:00:00</td>\n",
       "      <td>0</td>\n",
       "      <td>0</td>\n",
       "      <td>To award a congressional gold medal to Edward ...</td>\n",
       "      <td>0</td>\n",
       "      <td>...</td>\n",
       "      <td>0</td>\n",
       "      <td>None</td>\n",
       "      <td>0</td>\n",
       "      <td>0</td>\n",
       "      <td>1</td>\n",
       "      <td>20.0</td>\n",
       "      <td>2006.0</td>\n",
       "      <td>https://www.congress.gov/bill/110th-congress/h...</td>\n",
       "      <td>Edward William Brooke III Congressional Gold M...</td>\n",
       "      <td>To award a congressional gold medal to Edward ...</td>\n",
       "    </tr>\n",
       "    <tr>\n",
       "      <th>4</th>\n",
       "      <td>110-HR-1001</td>\n",
       "      <td>hr</td>\n",
       "      <td>0</td>\n",
       "      <td>110</td>\n",
       "      <td>0.0</td>\n",
       "      <td>2007-02-12 00:00:00</td>\n",
       "      <td>0</td>\n",
       "      <td>0</td>\n",
       "      <td>To amend the Haitian Hemispheric Opportunity t...</td>\n",
       "      <td>0</td>\n",
       "      <td>...</td>\n",
       "      <td>0</td>\n",
       "      <td>None</td>\n",
       "      <td>0</td>\n",
       "      <td>1</td>\n",
       "      <td>1</td>\n",
       "      <td>19.0</td>\n",
       "      <td>1921.0</td>\n",
       "      <td>https://www.congress.gov/bill/110th-congress/h...</td>\n",
       "      <td>Amends the Caribbean Basin Economic Recovery A...</td>\n",
       "      <td>To amend the Haitian Hemispheric Opportunity t...</td>\n",
       "    </tr>\n",
       "  </tbody>\n",
       "</table>\n",
       "<p>5 rows × 30 columns</p>\n",
       "</div>"
      ],
      "text/plain": [
       "        BillID BillType  Chamber  Cong  Cosponsr             IntrDate  Mult  \\\n",
       "0     110-HR-1       hr        0   110     205.0  2007-01-05 00:00:00     1   \n",
       "1    110-HR-10       hr        0   110       0.0  2007-01-04 00:00:00     0   \n",
       "2   110-HR-100       hr        0   110      10.0  2007-01-04 00:00:00     0   \n",
       "3  110-HR-1000       hr        0   110     286.0  2007-02-12 00:00:00     0   \n",
       "4  110-HR-1001       hr        0   110       0.0  2007-02-12 00:00:00     0   \n",
       "\n",
       "   PLaw                                              Title  Veto  ...  PassS  \\\n",
       "0     1  To provide for the implementation of the recom...     0  ...      1   \n",
       "1     0                              Reserved for Speaker.     0  ...      0   \n",
       "2     0  To amend the Higher Education Act of 1965 to p...     0  ...      0   \n",
       "3     0  To award a congressional gold medal to Edward ...     0  ...      0   \n",
       "4     0  To amend the Haitian Hemispheric Opportunity t...     0  ...      0   \n",
       "\n",
       "              PLawDate                        PLawNum  ImpBill  Majority  \\\n",
       "0  2007-08-03 00:00:00  Became Public Law No: 110-53.        1         1   \n",
       "1                 None                              0        1         1   \n",
       "2                 None                              0        1         1   \n",
       "3                 None                              0        0         1   \n",
       "4                 None                              0        1         1   \n",
       "\n",
       "   Major   Minor                                                URL  \\\n",
       "0   16.0  1615.0  https://www.congress.gov/bill/110th-congress/h...   \n",
       "1   20.0  2002.0  https://www.congress.gov/bill/110th-congress/h...   \n",
       "2    6.0   601.0  https://www.congress.gov/bill/110th-congress/h...   \n",
       "3   20.0  2006.0  https://www.congress.gov/bill/110th-congress/h...   \n",
       "4   19.0  1921.0  https://www.congress.gov/bill/110th-congress/h...   \n",
       "\n",
       "                                             Summary  \\\n",
       "0  Implementing Recommendations of the 9/11 Commi...   \n",
       "1                                                      \n",
       "2  Veterans' Equity in Education Act of 2007 - Am...   \n",
       "3  Edward William Brooke III Congressional Gold M...   \n",
       "4  Amends the Caribbean Basin Economic Recovery A...   \n",
       "\n",
       "                                       combined_text  \n",
       "0  To provide for the implementation of the recom...  \n",
       "1                             Reserved for Speaker.   \n",
       "2  To amend the Higher Education Act of 1965 to p...  \n",
       "3  To award a congressional gold medal to Edward ...  \n",
       "4  To amend the Haitian Hemispheric Opportunity t...  \n",
       "\n",
       "[5 rows x 30 columns]"
      ]
     },
     "execution_count": 10,
     "metadata": {},
     "output_type": "execute_result"
    }
   ],
   "source": [
    "df.head()"
   ]
  },
  {
   "cell_type": "code",
   "execution_count": 11,
   "metadata": {},
   "outputs": [
    {
     "data": {
      "text/plain": [
       "'Short Sea Shipping Promotion Act of 2007 - Amends the Internal Revenue Code to exempt from the harbor maintenance tax cargo contained in intermodal cargo containers and loaded by crane on a vessel, or cargo loaded on a vessel by means of wheeled technology, that is: (1) loaded at a U.S. port and unloaded at another U.S. port or a port in Canada located in the Great Lakes Saint Lawrence Seaway System; or (2) loaded at a port in Canada located in the Great Lakes Saint Lawrence Seaway System and unloaded at a U.S. port.'"
      ]
     },
     "execution_count": 11,
     "metadata": {},
     "output_type": "execute_result"
    }
   ],
   "source": [
    "df.iloc[555][8]\n",
    "df.iloc[555][28]"
   ]
  },
  {
   "cell_type": "code",
   "execution_count": 12,
   "metadata": {},
   "outputs": [],
   "source": [
    "new = df[['PassH', 'combined_text', 'Cong', 'BillID']].copy()"
   ]
  },
  {
   "cell_type": "code",
   "execution_count": 13,
   "metadata": {},
   "outputs": [
    {
     "data": {
      "text/html": [
       "<div>\n",
       "<style scoped>\n",
       "    .dataframe tbody tr th:only-of-type {\n",
       "        vertical-align: middle;\n",
       "    }\n",
       "\n",
       "    .dataframe tbody tr th {\n",
       "        vertical-align: top;\n",
       "    }\n",
       "\n",
       "    .dataframe thead th {\n",
       "        text-align: right;\n",
       "    }\n",
       "</style>\n",
       "<table border=\"1\" class=\"dataframe\">\n",
       "  <thead>\n",
       "    <tr style=\"text-align: right;\">\n",
       "      <th></th>\n",
       "      <th>PassH</th>\n",
       "      <th>combined_text</th>\n",
       "      <th>Cong</th>\n",
       "      <th>BillID</th>\n",
       "    </tr>\n",
       "  </thead>\n",
       "  <tbody>\n",
       "    <tr>\n",
       "      <th>0</th>\n",
       "      <td>1</td>\n",
       "      <td>To provide for the implementation of the recom...</td>\n",
       "      <td>110</td>\n",
       "      <td>110-HR-1</td>\n",
       "    </tr>\n",
       "    <tr>\n",
       "      <th>1</th>\n",
       "      <td>0</td>\n",
       "      <td>Reserved for Speaker.</td>\n",
       "      <td>110</td>\n",
       "      <td>110-HR-10</td>\n",
       "    </tr>\n",
       "    <tr>\n",
       "      <th>2</th>\n",
       "      <td>0</td>\n",
       "      <td>To amend the Higher Education Act of 1965 to p...</td>\n",
       "      <td>110</td>\n",
       "      <td>110-HR-100</td>\n",
       "    </tr>\n",
       "    <tr>\n",
       "      <th>3</th>\n",
       "      <td>0</td>\n",
       "      <td>To award a congressional gold medal to Edward ...</td>\n",
       "      <td>110</td>\n",
       "      <td>110-HR-1000</td>\n",
       "    </tr>\n",
       "    <tr>\n",
       "      <th>4</th>\n",
       "      <td>0</td>\n",
       "      <td>To amend the Haitian Hemispheric Opportunity t...</td>\n",
       "      <td>110</td>\n",
       "      <td>110-HR-1001</td>\n",
       "    </tr>\n",
       "  </tbody>\n",
       "</table>\n",
       "</div>"
      ],
      "text/plain": [
       "   PassH                                      combined_text  Cong       BillID\n",
       "0      1  To provide for the implementation of the recom...   110     110-HR-1\n",
       "1      0                             Reserved for Speaker.    110    110-HR-10\n",
       "2      0  To amend the Higher Education Act of 1965 to p...   110   110-HR-100\n",
       "3      0  To award a congressional gold medal to Edward ...   110  110-HR-1000\n",
       "4      0  To amend the Haitian Hemispheric Opportunity t...   110  110-HR-1001"
      ]
     },
     "execution_count": 13,
     "metadata": {},
     "output_type": "execute_result"
    }
   ],
   "source": [
    "new.head()"
   ]
  },
  {
   "cell_type": "code",
   "execution_count": 14,
   "metadata": {},
   "outputs": [
    {
     "name": "stdout",
     "output_type": "stream",
     "text": [
      "4025\n"
     ]
    },
    {
     "data": {
      "text/html": [
       "<div>\n",
       "<style scoped>\n",
       "    .dataframe tbody tr th:only-of-type {\n",
       "        vertical-align: middle;\n",
       "    }\n",
       "\n",
       "    .dataframe tbody tr th {\n",
       "        vertical-align: top;\n",
       "    }\n",
       "\n",
       "    .dataframe thead th {\n",
       "        text-align: right;\n",
       "    }\n",
       "</style>\n",
       "<table border=\"1\" class=\"dataframe\">\n",
       "  <thead>\n",
       "    <tr style=\"text-align: right;\">\n",
       "      <th></th>\n",
       "      <th>PassH</th>\n",
       "      <th>combined_text</th>\n",
       "      <th>Cong</th>\n",
       "      <th>BillID</th>\n",
       "    </tr>\n",
       "  </thead>\n",
       "  <tbody>\n",
       "    <tr>\n",
       "      <th>0</th>\n",
       "      <td>1</td>\n",
       "      <td>To provide for the implementation of the recom...</td>\n",
       "      <td>110</td>\n",
       "      <td>110-HR-1</td>\n",
       "    </tr>\n",
       "    <tr>\n",
       "      <th>6</th>\n",
       "      <td>1</td>\n",
       "      <td>To amend the Foreign Affairs Reform and Restru...</td>\n",
       "      <td>110</td>\n",
       "      <td>110-HR-1003</td>\n",
       "    </tr>\n",
       "    <tr>\n",
       "      <th>9</th>\n",
       "      <td>1</td>\n",
       "      <td>To amend the provisions of law relating to the...</td>\n",
       "      <td>110</td>\n",
       "      <td>110-HR-1006</td>\n",
       "    </tr>\n",
       "    <tr>\n",
       "      <th>15</th>\n",
       "      <td>1</td>\n",
       "      <td>To designate additional National Forest System...</td>\n",
       "      <td>110</td>\n",
       "      <td>110-HR-1011</td>\n",
       "    </tr>\n",
       "    <tr>\n",
       "      <th>18</th>\n",
       "      <td>1</td>\n",
       "      <td>To amend the Federal Food, Drug, and Cosmetic ...</td>\n",
       "      <td>110</td>\n",
       "      <td>110-HR-1014</td>\n",
       "    </tr>\n",
       "  </tbody>\n",
       "</table>\n",
       "</div>"
      ],
      "text/plain": [
       "    PassH                                      combined_text  Cong  \\\n",
       "0       1  To provide for the implementation of the recom...   110   \n",
       "6       1  To amend the Foreign Affairs Reform and Restru...   110   \n",
       "9       1  To amend the provisions of law relating to the...   110   \n",
       "15      1  To designate additional National Forest System...   110   \n",
       "18      1  To amend the Federal Food, Drug, and Cosmetic ...   110   \n",
       "\n",
       "         BillID  \n",
       "0      110-HR-1  \n",
       "6   110-HR-1003  \n",
       "9   110-HR-1006  \n",
       "15  110-HR-1011  \n",
       "18  110-HR-1014  "
      ]
     },
     "execution_count": 14,
     "metadata": {},
     "output_type": "execute_result"
    }
   ],
   "source": [
    "passed_only = new.loc[new['PassH'] != 0] \n",
    "\n",
    "print(len(passed_only))\n",
    "passed_only.head()"
   ]
  },
  {
   "cell_type": "code",
   "execution_count": 15,
   "metadata": {},
   "outputs": [
    {
     "data": {
      "text/plain": [
       "'To direct the Secretary of the Interior to conduct a special resources study regarding the suitability and feasibility of designating certain historic buildings and areas in Taunton, Massachusetts, as a unit of the National Park System, and for other purposes. (This measure has not been amended since it was introduced. The summary has been expanded because action occurred on the measure.)'"
      ]
     },
     "execution_count": 15,
     "metadata": {},
     "output_type": "execute_result"
    }
   ],
   "source": [
    "passed_only.iloc[6][1]"
   ]
  },
  {
   "cell_type": "markdown",
   "metadata": {},
   "source": [
    "**Basic NLP EDA:**"
   ]
  },
  {
   "cell_type": "code",
   "execution_count": 16,
   "metadata": {},
   "outputs": [
    {
     "data": {
      "text/plain": [
       "50"
      ]
     },
     "execution_count": 16,
     "metadata": {},
     "output_type": "execute_result"
    }
   ],
   "source": [
    "df['Summary'].isnull().sum()"
   ]
  },
  {
   "cell_type": "code",
   "execution_count": 17,
   "metadata": {},
   "outputs": [],
   "source": [
    "df['text_len'] = [len(summary) for summary in df['combined_text']]"
   ]
  },
  {
   "cell_type": "code",
   "execution_count": 18,
   "metadata": {},
   "outputs": [
    {
     "data": {
      "text/html": [
       "<div>\n",
       "<style scoped>\n",
       "    .dataframe tbody tr th:only-of-type {\n",
       "        vertical-align: middle;\n",
       "    }\n",
       "\n",
       "    .dataframe tbody tr th {\n",
       "        vertical-align: top;\n",
       "    }\n",
       "\n",
       "    .dataframe thead th {\n",
       "        text-align: right;\n",
       "    }\n",
       "</style>\n",
       "<table border=\"1\" class=\"dataframe\">\n",
       "  <thead>\n",
       "    <tr style=\"text-align: right;\">\n",
       "      <th></th>\n",
       "      <th>BillID</th>\n",
       "      <th>BillType</th>\n",
       "      <th>Chamber</th>\n",
       "      <th>Cong</th>\n",
       "      <th>Cosponsr</th>\n",
       "      <th>IntrDate</th>\n",
       "      <th>Mult</th>\n",
       "      <th>PLaw</th>\n",
       "      <th>Title</th>\n",
       "      <th>Veto</th>\n",
       "      <th>...</th>\n",
       "      <th>PLawDate</th>\n",
       "      <th>PLawNum</th>\n",
       "      <th>ImpBill</th>\n",
       "      <th>Majority</th>\n",
       "      <th>Major</th>\n",
       "      <th>Minor</th>\n",
       "      <th>URL</th>\n",
       "      <th>Summary</th>\n",
       "      <th>combined_text</th>\n",
       "      <th>text_len</th>\n",
       "    </tr>\n",
       "  </thead>\n",
       "  <tbody>\n",
       "    <tr>\n",
       "      <th>0</th>\n",
       "      <td>110-HR-1</td>\n",
       "      <td>hr</td>\n",
       "      <td>0</td>\n",
       "      <td>110</td>\n",
       "      <td>205.0</td>\n",
       "      <td>2007-01-05 00:00:00</td>\n",
       "      <td>1</td>\n",
       "      <td>1</td>\n",
       "      <td>To provide for the implementation of the recom...</td>\n",
       "      <td>0</td>\n",
       "      <td>...</td>\n",
       "      <td>2007-08-03 00:00:00</td>\n",
       "      <td>Became Public Law No: 110-53.</td>\n",
       "      <td>1</td>\n",
       "      <td>1</td>\n",
       "      <td>16.0</td>\n",
       "      <td>1615.0</td>\n",
       "      <td>https://www.congress.gov/bill/110th-congress/h...</td>\n",
       "      <td>Implementing Recommendations of the 9/11 Commi...</td>\n",
       "      <td>To provide for the implementation of the recom...</td>\n",
       "      <td>331</td>\n",
       "    </tr>\n",
       "    <tr>\n",
       "      <th>1</th>\n",
       "      <td>110-HR-10</td>\n",
       "      <td>hr</td>\n",
       "      <td>0</td>\n",
       "      <td>110</td>\n",
       "      <td>0.0</td>\n",
       "      <td>2007-01-04 00:00:00</td>\n",
       "      <td>0</td>\n",
       "      <td>0</td>\n",
       "      <td>Reserved for Speaker.</td>\n",
       "      <td>0</td>\n",
       "      <td>...</td>\n",
       "      <td>None</td>\n",
       "      <td>0</td>\n",
       "      <td>1</td>\n",
       "      <td>1</td>\n",
       "      <td>20.0</td>\n",
       "      <td>2002.0</td>\n",
       "      <td>https://www.congress.gov/bill/110th-congress/h...</td>\n",
       "      <td></td>\n",
       "      <td>Reserved for Speaker.</td>\n",
       "      <td>22</td>\n",
       "    </tr>\n",
       "    <tr>\n",
       "      <th>2</th>\n",
       "      <td>110-HR-100</td>\n",
       "      <td>hr</td>\n",
       "      <td>0</td>\n",
       "      <td>110</td>\n",
       "      <td>10.0</td>\n",
       "      <td>2007-01-04 00:00:00</td>\n",
       "      <td>0</td>\n",
       "      <td>0</td>\n",
       "      <td>To amend the Higher Education Act of 1965 to p...</td>\n",
       "      <td>0</td>\n",
       "      <td>...</td>\n",
       "      <td>None</td>\n",
       "      <td>0</td>\n",
       "      <td>1</td>\n",
       "      <td>1</td>\n",
       "      <td>6.0</td>\n",
       "      <td>601.0</td>\n",
       "      <td>https://www.congress.gov/bill/110th-congress/h...</td>\n",
       "      <td>Veterans' Equity in Education Act of 2007 - Am...</td>\n",
       "      <td>To amend the Higher Education Act of 1965 to p...</td>\n",
       "      <td>720</td>\n",
       "    </tr>\n",
       "    <tr>\n",
       "      <th>3</th>\n",
       "      <td>110-HR-1000</td>\n",
       "      <td>hr</td>\n",
       "      <td>0</td>\n",
       "      <td>110</td>\n",
       "      <td>286.0</td>\n",
       "      <td>2007-02-12 00:00:00</td>\n",
       "      <td>0</td>\n",
       "      <td>0</td>\n",
       "      <td>To award a congressional gold medal to Edward ...</td>\n",
       "      <td>0</td>\n",
       "      <td>...</td>\n",
       "      <td>None</td>\n",
       "      <td>0</td>\n",
       "      <td>0</td>\n",
       "      <td>1</td>\n",
       "      <td>20.0</td>\n",
       "      <td>2006.0</td>\n",
       "      <td>https://www.congress.gov/bill/110th-congress/h...</td>\n",
       "      <td>Edward William Brooke III Congressional Gold M...</td>\n",
       "      <td>To award a congressional gold medal to Edward ...</td>\n",
       "      <td>400</td>\n",
       "    </tr>\n",
       "    <tr>\n",
       "      <th>4</th>\n",
       "      <td>110-HR-1001</td>\n",
       "      <td>hr</td>\n",
       "      <td>0</td>\n",
       "      <td>110</td>\n",
       "      <td>0.0</td>\n",
       "      <td>2007-02-12 00:00:00</td>\n",
       "      <td>0</td>\n",
       "      <td>0</td>\n",
       "      <td>To amend the Haitian Hemispheric Opportunity t...</td>\n",
       "      <td>0</td>\n",
       "      <td>...</td>\n",
       "      <td>None</td>\n",
       "      <td>0</td>\n",
       "      <td>1</td>\n",
       "      <td>1</td>\n",
       "      <td>19.0</td>\n",
       "      <td>1921.0</td>\n",
       "      <td>https://www.congress.gov/bill/110th-congress/h...</td>\n",
       "      <td>Amends the Caribbean Basin Economic Recovery A...</td>\n",
       "      <td>To amend the Haitian Hemispheric Opportunity t...</td>\n",
       "      <td>575</td>\n",
       "    </tr>\n",
       "  </tbody>\n",
       "</table>\n",
       "<p>5 rows × 31 columns</p>\n",
       "</div>"
      ],
      "text/plain": [
       "        BillID BillType  Chamber  Cong  Cosponsr             IntrDate  Mult  \\\n",
       "0     110-HR-1       hr        0   110     205.0  2007-01-05 00:00:00     1   \n",
       "1    110-HR-10       hr        0   110       0.0  2007-01-04 00:00:00     0   \n",
       "2   110-HR-100       hr        0   110      10.0  2007-01-04 00:00:00     0   \n",
       "3  110-HR-1000       hr        0   110     286.0  2007-02-12 00:00:00     0   \n",
       "4  110-HR-1001       hr        0   110       0.0  2007-02-12 00:00:00     0   \n",
       "\n",
       "   PLaw                                              Title  Veto  ...  \\\n",
       "0     1  To provide for the implementation of the recom...     0  ...   \n",
       "1     0                              Reserved for Speaker.     0  ...   \n",
       "2     0  To amend the Higher Education Act of 1965 to p...     0  ...   \n",
       "3     0  To award a congressional gold medal to Edward ...     0  ...   \n",
       "4     0  To amend the Haitian Hemispheric Opportunity t...     0  ...   \n",
       "\n",
       "              PLawDate                        PLawNum  ImpBill  Majority  \\\n",
       "0  2007-08-03 00:00:00  Became Public Law No: 110-53.        1         1   \n",
       "1                 None                              0        1         1   \n",
       "2                 None                              0        1         1   \n",
       "3                 None                              0        0         1   \n",
       "4                 None                              0        1         1   \n",
       "\n",
       "   Major   Minor                                                URL  \\\n",
       "0   16.0  1615.0  https://www.congress.gov/bill/110th-congress/h...   \n",
       "1   20.0  2002.0  https://www.congress.gov/bill/110th-congress/h...   \n",
       "2    6.0   601.0  https://www.congress.gov/bill/110th-congress/h...   \n",
       "3   20.0  2006.0  https://www.congress.gov/bill/110th-congress/h...   \n",
       "4   19.0  1921.0  https://www.congress.gov/bill/110th-congress/h...   \n",
       "\n",
       "                                             Summary  \\\n",
       "0  Implementing Recommendations of the 9/11 Commi...   \n",
       "1                                                      \n",
       "2  Veterans' Equity in Education Act of 2007 - Am...   \n",
       "3  Edward William Brooke III Congressional Gold M...   \n",
       "4  Amends the Caribbean Basin Economic Recovery A...   \n",
       "\n",
       "                                       combined_text  text_len  \n",
       "0  To provide for the implementation of the recom...       331  \n",
       "1                             Reserved for Speaker.         22  \n",
       "2  To amend the Higher Education Act of 1965 to p...       720  \n",
       "3  To award a congressional gold medal to Edward ...       400  \n",
       "4  To amend the Haitian Hemispheric Opportunity t...       575  \n",
       "\n",
       "[5 rows x 31 columns]"
      ]
     },
     "execution_count": 18,
     "metadata": {},
     "output_type": "execute_result"
    }
   ],
   "source": [
    "df.head()"
   ]
  },
  {
   "cell_type": "code",
   "execution_count": 19,
   "metadata": {},
   "outputs": [
    {
     "data": {
      "text/plain": [
       "PassH  Cong\n",
       "0      110     515.0\n",
       "       111     527.0\n",
       "       112     487.0\n",
       "       113     554.0\n",
       "       114     223.0\n",
       "1      110     450.0\n",
       "       111     380.0\n",
       "       112     355.0\n",
       "       113     345.5\n",
       "       114     278.0\n",
       "Name: text_len, dtype: float64"
      ]
     },
     "execution_count": 19,
     "metadata": {},
     "output_type": "execute_result"
    }
   ],
   "source": [
    "df.groupby(['PassH','Cong'])['text_len'].agg('median')"
   ]
  },
  {
   "cell_type": "code",
   "execution_count": 20,
   "metadata": {},
   "outputs": [
    {
     "data": {
      "text/plain": [
       "PLaw  Cong\n",
       "0     110     514.0\n",
       "      111     525.0\n",
       "      112     486.0\n",
       "      113     550.0\n",
       "      114     226.0\n",
       "1     110     395.5\n",
       "      111     329.5\n",
       "      112     310.5\n",
       "      113     300.0\n",
       "      114     299.0\n",
       "Name: text_len, dtype: float64"
      ]
     },
     "execution_count": 20,
     "metadata": {},
     "output_type": "execute_result"
    }
   ],
   "source": [
    "#Median text length by congress, passed or didn't pass\n",
    "df.groupby(['PLaw','Cong'])['text_len'].agg('median')"
   ]
  },
  {
   "cell_type": "code",
   "execution_count": 45,
   "metadata": {},
   "outputs": [],
   "source": [
    "df['title_len'] = [len(summary) for summary in df['Title']]"
   ]
  },
  {
   "cell_type": "code",
   "execution_count": 46,
   "metadata": {},
   "outputs": [
    {
     "data": {
      "text/plain": [
       "PLaw  Cong\n",
       "0     110     151.0\n",
       "      111     154.0\n",
       "      112     139.0\n",
       "      113     157.0\n",
       "      114     158.0\n",
       "1     110     197.5\n",
       "      111     186.0\n",
       "      112     178.0\n",
       "      113     169.0\n",
       "      114     175.0\n",
       "Name: title_len, dtype: float64"
      ]
     },
     "execution_count": 46,
     "metadata": {},
     "output_type": "execute_result"
    }
   ],
   "source": [
    "#Median Bill Title length by congress, passed or didn't pass\n",
    "df.groupby(['PLaw','Cong'])['title_len'].agg('median')"
   ]
  },
  {
   "cell_type": "markdown",
   "metadata": {},
   "source": [
    "**Basic Feature Info:**"
   ]
  },
  {
   "cell_type": "code",
   "execution_count": 21,
   "metadata": {},
   "outputs": [
    {
     "data": {
      "text/plain": [
       "110    11081\n",
       "111    10629\n",
       "112    10436\n",
       "114    10055\n",
       "113     8866\n",
       "Name: Cong, dtype: int64"
      ]
     },
     "execution_count": 21,
     "metadata": {},
     "output_type": "execute_result"
    }
   ],
   "source": [
    "df['Cong'].value_counts()"
   ]
  },
  {
   "cell_type": "code",
   "execution_count": 22,
   "metadata": {},
   "outputs": [
    {
     "data": {
      "text/plain": [
       "110    11081\n",
       "111    10629\n",
       "112    10436\n",
       "114    10055\n",
       "113     8866\n",
       "Name: Cong, dtype: int64"
      ]
     },
     "execution_count": 22,
     "metadata": {},
     "output_type": "execute_result"
    }
   ],
   "source": [
    "df['Cong'].value_counts()"
   ]
  },
  {
   "cell_type": "code",
   "execution_count": 23,
   "metadata": {},
   "outputs": [
    {
     "data": {
      "text/plain": [
       "hr    33016\n",
       "s     18051\n",
       "Name: BillType, dtype: int64"
      ]
     },
     "execution_count": 23,
     "metadata": {},
     "output_type": "execute_result"
    }
   ],
   "source": [
    "df['BillType'].value_counts()"
   ]
  },
  {
   "cell_type": "markdown",
   "metadata": {},
   "source": [
    "**General Visualizations:**"
   ]
  },
  {
   "cell_type": "code",
   "execution_count": 24,
   "metadata": {},
   "outputs": [
    {
     "data": {
      "text/plain": [
       "Text(0.5, 1.0, 'Passed vs. Proposed Bills')"
      ]
     },
     "execution_count": 24,
     "metadata": {},
     "output_type": "execute_result"
    }
   ],
   "source": [
    "import seaborn as sns\n",
    "sns.set(style=\"whitegrid\")\n",
    "\n",
    "df['PassH'].value_counts().plot.barh().set_title('Passed vs. Proposed Bills')"
   ]
  },
  {
   "cell_type": "code",
   "execution_count": 25,
   "metadata": {},
   "outputs": [
    {
     "data": {
      "text/plain": [
       "Text(0.5, 1.0, 'Bills Proposed by Chamber')"
      ]
     },
     "execution_count": 25,
     "metadata": {},
     "output_type": "execute_result"
    },
    {
     "data": {
      "image/png": "[encoded data removed]",
      "text/plain": [
       "<Figure size 432x288 with 1 Axes>"
      ]
     },
     "metadata": {
      "needs_background": "light"
     },
     "output_type": "display_data"
    }
   ],
   "source": [
    "df['Chamber'].value_counts().plot.bar().set_title('Bills Proposed by Chamber')"
   ]
  },
  {
   "cell_type": "code",
   "execution_count": 26,
   "metadata": {},
   "outputs": [
    {
     "data": {
      "text/plain": [
       "Text(0.5, 1.0, 'Number of Bills by Recent Congress')"
      ]
     },
     "execution_count": 26,
     "metadata": {},
     "output_type": "execute_result"
    },
    {
     "data": {
      "image/png": "[encoded data removed]",
      "text/plain": [
       "<Figure size 432x288 with 1 Axes>"
      ]
     },
     "metadata": {
      "needs_background": "light"
     },
     "output_type": "display_data"
    }
   ],
   "source": [
    "df['Cong'].value_counts().plot.barh().set_title('Number of Bills by Recent Congress')\n"
   ]
  },
  {
   "cell_type": "code",
   "execution_count": 27,
   "metadata": {},
   "outputs": [
    {
     "data": {
      "text/plain": [
       "Text(0.5, 1.0, 'Majority vs Minority House Bill Proposals')"
      ]
     },
     "execution_count": 27,
     "metadata": {},
     "output_type": "execute_result"
    },
    {
     "data": {
      "image/png": "[encoded data removed]",
      "text/plain": [
       "<Figure size 432x288 with 1 Axes>"
      ]
     },
     "metadata": {
      "needs_background": "light"
     },
     "output_type": "display_data"
    }
   ],
   "source": [
    "#Bills Proposed by Majority or Not, for all Congresses\n",
    "#DONT USE< DOESNT REALLY MAKE SENSE\n",
    "\n",
    "df.groupby(['Cong', 'Majority']).size().unstack().plot.bar(stacked=True).set_title('Majority vs Minority House Bill Proposals')\n"
   ]
  },
  {
   "cell_type": "code",
   "execution_count": 28,
   "metadata": {
    "scrolled": true
   },
   "outputs": [
    {
     "data": {
      "text/plain": [
       "Text(0.5, 1.0, 'Bill Passage in House per Congress')"
      ]
     },
     "execution_count": 28,
     "metadata": {},
     "output_type": "execute_result"
    },
    {
     "data": {
      "image/png": "[encoded data removed]",
      "text/plain": [
       "<Figure size 432x288 with 1 Axes>"
      ]
     },
     "metadata": {
      "needs_background": "light"
     },
     "output_type": "display_data"
    }
   ],
   "source": [
    "#Portion of bills proposed for all congresses vs those that passed the house \n",
    "df.groupby(['Cong', 'PassH']).size().unstack().plot.bar(stacked=True).set_title('Bill Passage in House per Congress')\n"
   ]
  },
  {
   "cell_type": "code",
   "execution_count": 29,
   "metadata": {},
   "outputs": [
    {
     "data": {
      "text/plain": [
       "Text(0.5, 1.0, 'Bill Passage Senate per Congress')"
      ]
     },
     "execution_count": 29,
     "metadata": {},
     "output_type": "execute_result"
    },
    {
     "data": {
      "image/png": "[encoded data removed]",
      "text/plain": [
       "<Figure size 432x288 with 1 Axes>"
      ]
     },
     "metadata": {
      "needs_background": "light"
     },
     "output_type": "display_data"
    }
   ],
   "source": [
    "#Portion of bills proposed for all congresses vs those that passed the house \n",
    "df.groupby(['Cong', 'PassS']).size().unstack().plot.bar(stacked=True).set_title('Bill Passage Senate per Congress')\n"
   ]
  },
  {
   "cell_type": "code",
   "execution_count": 30,
   "metadata": {},
   "outputs": [
    {
     "data": {
      "text/plain": [
       "Text(0.5, 1.0, 'Bill Proposal by Chamber')"
      ]
     },
     "execution_count": 30,
     "metadata": {},
     "output_type": "execute_result"
    },
    {
     "data": {
      "image/png": "[encoded data removed]",
      "text/plain": [
       "<Figure size 432x288 with 1 Axes>"
      ]
     },
     "metadata": {
      "needs_background": "light"
     },
     "output_type": "display_data"
    }
   ],
   "source": [
    "#Portion of bills proposed by the House and Senate\n",
    "#0 for House, 1 for Senate\n",
    "df.groupby(['Cong', 'Chamber']).size().plot.bar(stacked=True).set_title('Bill Proposal by Chamber')\n"
   ]
  },
  {
   "cell_type": "code",
   "execution_count": 31,
   "metadata": {},
   "outputs": [
    {
     "data": {
      "text/plain": [
       "Text(0.5, 1.0, 'Bill Proposal by Gender')"
      ]
     },
     "execution_count": 31,
     "metadata": {},
     "output_type": "execute_result"
    },
    {
     "data": {
      "image/png": "[encoded data removed]",
      "text/plain": [
       "<Figure size 432x288 with 1 Axes>"
      ]
     },
     "metadata": {
      "needs_background": "light"
     },
     "output_type": "display_data"
    }
   ],
   "source": [
    "#All bills proposed in each congress, by Gender\n",
    "\n",
    "df.groupby(['Cong', 'Gender']).size().unstack().plot.bar(stacked=True).set_title('Bill Proposal by Gender')\n"
   ]
  },
  {
   "cell_type": "code",
   "execution_count": 32,
   "metadata": {},
   "outputs": [
    {
     "data": {
      "text/plain": [
       "Text(0.5, 1.0, 'Bill Passage by Majority')"
      ]
     },
     "execution_count": 32,
     "metadata": {},
     "output_type": "execute_result"
    },
    {
     "data": {
      "image/png": "[encoded data removed]",
      "text/plain": [
       "<Figure size 432x288 with 1 Axes>"
      ]
     },
     "metadata": {
      "needs_background": "light"
     },
     "output_type": "display_data"
    }
   ],
   "source": [
    "df.groupby(['Cong', 'Majority', 'PassH']).size().unstack().plot.bar(stacked=True).set_title('Bill Passage by Majority')\n"
   ]
  },
  {
   "cell_type": "code",
   "execution_count": 33,
   "metadata": {},
   "outputs": [
    {
     "data": {
      "text/plain": [
       "Text(0.5, 1.0, 'Bill Proposal by Party')"
      ]
     },
     "execution_count": 33,
     "metadata": {},
     "output_type": "execute_result"
    },
    {
     "data": {
      "image/png": "[encoded data removed]",
      "text/plain": [
       "<Figure size 432x288 with 1 Axes>"
      ]
     },
     "metadata": {
      "needs_background": "light"
     },
     "output_type": "display_data"
    }
   ],
   "source": [
    "df.groupby(['Cong', 'Party']).size().unstack().plot.bar(stacked=True).set_title('Bill Proposal by Party')\n"
   ]
  },
  {
   "cell_type": "code",
   "execution_count": 34,
   "metadata": {},
   "outputs": [
    {
     "data": {
      "text/plain": [
       "Text(0.5, 1.0, 'Bill Proposal by Majority')"
      ]
     },
     "execution_count": 34,
     "metadata": {},
     "output_type": "execute_result"
    },
    {
     "data": {
      "image/png": "[encoded data removed]",
      "text/plain": [
       "<Figure size 432x288 with 1 Axes>"
      ]
     },
     "metadata": {
      "needs_background": "light"
     },
     "output_type": "display_data"
    }
   ],
   "source": [
    "df.groupby(['Cong', 'Majority']).size().unstack().plot.bar(stacked=True).set_title('Bill Proposal by Majority')\n"
   ]
  },
  {
   "cell_type": "code",
   "execution_count": 35,
   "metadata": {},
   "outputs": [
    {
     "data": {
      "text/plain": [
       "Text(0.5, 1.0, 'Party breakdown by Congress')"
      ]
     },
     "execution_count": 35,
     "metadata": {},
     "output_type": "execute_result"
    },
    {
     "data": {
      "image/png": "[encoded data removed]",
      "text/plain": [
       "<Figure size 432x288 with 1 Axes>"
      ]
     },
     "metadata": {
      "needs_background": "light"
     },
     "output_type": "display_data"
    }
   ],
   "source": [
    "#Party code (100 Democrat; 200 Republican, 328…from ICPSR)\n",
    "df.groupby(['Cong', 'Party']).size().unstack().plot.bar().set_title('Party breakdown by Congress')"
   ]
  },
  {
   "cell_type": "markdown",
   "metadata": {},
   "source": [
    "**By State:**\n",
    "\n",
    ".size includes NaN values, .count does not"
   ]
  },
  {
   "cell_type": "code",
   "execution_count": 36,
   "metadata": {},
   "outputs": [
    {
     "data": {
      "text/plain": [
       "Text(0.5, 1.0, 'Party breakdown by State')"
      ]
     },
     "execution_count": 36,
     "metadata": {},
     "output_type": "execute_result"
    },
    {
     "data": {
      "image/png": "[encoded data removed]",
      "text/plain": [
       "<Figure size 1440x576 with 1 Axes>"
      ]
     },
     "metadata": {
      "needs_background": "light"
     },
     "output_type": "display_data"
    }
   ],
   "source": [
    "#Breakdown of bills proposed by party by state\n",
    "\n",
    "df.groupby(['Postal', 'Party']).size().unstack().plot.bar(figsize=(20,8), stacked=True).set_title('Party breakdown by State')"
   ]
  },
  {
   "cell_type": "code",
   "execution_count": 37,
   "metadata": {},
   "outputs": [
    {
     "data": {
      "text/plain": [
       "Text(0.5, 1.0, 'Bill Passage by State')"
      ]
     },
     "execution_count": 37,
     "metadata": {},
     "output_type": "execute_result"
    },
    {
     "data": {
      "image/png": "[encoded data removed]",
      "text/plain": [
       "<Figure size 1440x576 with 1 Axes>"
      ]
     },
     "metadata": {
      "needs_background": "light"
     },
     "output_type": "display_data"
    }
   ],
   "source": [
    "df.groupby(['Postal', 'PassH']).size().unstack().plot.bar(figsize=(20,8), stacked=True).set_title('Bill Passage by State')"
   ]
  },
  {
   "cell_type": "code",
   "execution_count": 38,
   "metadata": {},
   "outputs": [
    {
     "data": {
      "text/plain": [
       "Text(0.5, 1.0, 'Bill Passage by State')"
      ]
     },
     "execution_count": 38,
     "metadata": {},
     "output_type": "execute_result"
    },
    {
     "data": {
      "image/png": "[encoded data removed]",
      "text/plain": [
       "<Figure size 1440x576 with 1 Axes>"
      ]
     },
     "metadata": {
      "needs_background": "light"
     },
     "output_type": "display_data"
    }
   ],
   "source": [
    "df.groupby(['Postal', 'PassH']).size().unstack().plot.bar(figsize=(20,8), stacked=True).set_title('Bill Passage by State')"
   ]
  },
  {
   "cell_type": "code",
   "execution_count": 39,
   "metadata": {},
   "outputs": [
    {
     "data": {
      "text/plain": [
       "Text(0.5, 1.0, 'Bill to Law Passage by State')"
      ]
     },
     "execution_count": 39,
     "metadata": {},
     "output_type": "execute_result"
    },
    {
     "data": {
      "image/png": "[encoded data removed]",
      "text/plain": [
       "<Figure size 1440x576 with 1 Axes>"
      ]
     },
     "metadata": {
      "needs_background": "light"
     },
     "output_type": "display_data"
    }
   ],
   "source": [
    "#Passed Laws by state. 0 is Not passed, 1 passed\n",
    "df.groupby(['Postal', 'PLaw']).size().unstack().plot.bar(figsize=(20,8), stacked=True).set_title('Bill to Law Passage by State')"
   ]
  },
  {
   "cell_type": "markdown",
   "metadata": {},
   "source": [
    "**NLP Graphs:**"
   ]
  },
  {
   "cell_type": "code",
   "execution_count": 40,
   "metadata": {},
   "outputs": [
    {
     "data": {
      "text/plain": [
       "Text(0.5, 1.0, 'Length of Title/Summary Text by Congress - Not Pass and Pass')"
      ]
     },
     "execution_count": 40,
     "metadata": {},
     "output_type": "execute_result"
    },
    {
     "data": {
      "image/png": "[encoded data removed]",
      "text/plain": [
       "<Figure size 432x288 with 1 Axes>"
      ]
     },
     "metadata": {
      "needs_background": "light"
     },
     "output_type": "display_data"
    }
   ],
   "source": [
    "df.groupby(['PassH','Cong'])['text_len'].agg('mean').unstack().plot.bar().set_title('Length of Title/Summary Text by Congress - Not Pass and Pass')"
   ]
  },
  {
   "cell_type": "code",
   "execution_count": 52,
   "metadata": {},
   "outputs": [
    {
     "data": {
      "text/plain": [
       "Text(0.5, 1.0, 'Median Length of Title Text by Congress')"
      ]
     },
     "execution_count": 52,
     "metadata": {},
     "output_type": "execute_result"
    },
    {
     "data": {
      "image/png": "[encoded data removed]",
      "text/plain": [
       "<Figure size 432x288 with 1 Axes>"
      ]
     },
     "metadata": {
      "needs_background": "light"
     },
     "output_type": "display_data"
    }
   ],
   "source": [
    "df.groupby(['PassH','Cong'])['title_len'].agg('median').unstack().plot.bar().set_title('Median Length of Title Text by Congress')"
   ]
  },
  {
   "cell_type": "markdown",
   "metadata": {},
   "source": [
    "**EDA Passed Laws:**"
   ]
  },
  {
   "cell_type": "code",
   "execution_count": 41,
   "metadata": {},
   "outputs": [],
   "source": [
    "#Bill vs number of Congresspersons - whip and majority or others?"
   ]
  },
  {
   "cell_type": "code",
   "execution_count": 64,
   "metadata": {},
   "outputs": [
    {
     "data": {
      "text/plain": [
       "Charles Schumer     477\n",
       "Dianne Feinstein    452\n",
       "Robert Casey        447\n",
       "David Vitter        409\n",
       "Robert Menendez     408\n",
       "Name: NameFull, dtype: int64"
      ]
     },
     "execution_count": 64,
     "metadata": {},
     "output_type": "execute_result"
    }
   ],
   "source": [
    "df['NameFull'].value_counts().head()"
   ]
  },
  {
   "cell_type": "code",
   "execution_count": 56,
   "metadata": {},
   "outputs": [],
   "source": [
    "from collections import Counter\n",
    "\n",
    "all_names_dict = dict(Counter(df['NameFull']))"
   ]
  },
  {
   "cell_type": "code",
   "execution_count": 60,
   "metadata": {},
   "outputs": [],
   "source": [
    "top_names = {key: value for key, value in all_names_dict.items() if value >= 100}\n"
   ]
  },
  {
   "cell_type": "code",
   "execution_count": 62,
   "metadata": {},
   "outputs": [
    {
     "name": "stdout",
     "output_type": "stream",
     "text": [
      "Charles Schumer 477\n",
      "Dianne Feinstein 452\n",
      "Robert Casey 447\n",
      "David Vitter 409\n",
      "Robert Menendez 408\n",
      "Sherrod Brown 393\n",
      "Ron Wyden 317\n",
      "Amy Klobuchar 296\n",
      "Barbara Boxer 295\n",
      "John Kerry 287\n",
      "Richard Durbin 285\n",
      "Carolyn Maloney 267\n",
      "Don Young 262\n",
      "Kirsten Gillibrand 250\n",
      "Edward Markey 242\n",
      "Sheila Jackson Lee 233\n",
      "Eleanor Norton 226\n",
      "Lisa Murkowski 224\n",
      "Orrin Hatch 219\n",
      "Mary Landrieu 217\n",
      "Jon Tester 214\n",
      "Alan Grayson 214\n",
      "Patrick Leahy 213\n",
      "Jeff Bingaman 212\n",
      "Carl Levin 210\n",
      "John Rockefeller 209\n",
      "Steve Israel 206\n",
      "Benjamin Cardin 203\n",
      "Patty Murray 203\n",
      "Thomas Harkin 202\n",
      "Charles Grassley 202\n",
      "Frank Lautenberg 199\n",
      "Max Baucus 199\n",
      "Bill Nelson 199\n",
      "Olympia Snowe 193\n",
      "Kay Hagan 192\n",
      "Maria Cantwell 191\n",
      "Harry Reid 189\n",
      "John Cornyn 189\n",
      "John Reed 187\n",
      "Bernard Sanders 185\n",
      "John Conyers 184\n",
      "Susan Collins 181\n",
      "Mark Kirk 179\n",
      "Ronald Paul 177\n",
      "Richard Burr 176\n",
      "Dean Heller 174\n",
      "Bob Filner 172\n",
      "James Inhofe 170\n",
      "Rosa DeLauro 169\n",
      "Jim McDermott 169\n",
      "Mark Begich 164\n",
      "Daniel Akaka 161\n",
      "Earl Blumenauer 159\n",
      "Richard Blumenthal 159\n",
      "Mark Udall 158\n",
      "Tom Udall 157\n",
      "Sheldon Whitehouse 156\n",
      "Barbara Lee 155\n",
      "Ted Poe 155\n",
      "John Thune 155\n",
      "Thomas Carper 155\n",
      "Jeanne Shaheen 154\n",
      "Arlen Specter 153\n",
      "Debbie Stabenow 152\n",
      "Steve Cohen 151\n",
      "Peter King 150\n",
      "Michael Burgess 149\n",
      "Christopher Dodd 149\n",
      "Christopher Smith 148\n",
      "Rush Holt 147\n",
      "Charles Rangel 147\n",
      "Keith Ellison 145\n",
      "Mark Pryor 144\n",
      "Hillary Clinton 142\n",
      "Joseph Lieberman 142\n",
      "Nita Lowey 141\n",
      "Russell Feingold 140\n",
      "Gene Green 139\n",
      "Daniel Inouye 138\n",
      "Rand Paul 134\n",
      "Peter DeFazio 132\n",
      "John Lewis 131\n",
      "Bill Pascrell 130\n",
      "Eliot Engel 129\n",
      "Ron Kind 128\n",
      "Peter Welch 128\n",
      "Ileana Ros-Lehtinen 127\n",
      "Michael Honda 125\n",
      "Melvin Watt 125\n",
      "Pat Roberts 125\n",
      "Alan Franken 125\n",
      "Robert Scott 124\n",
      "Lois Capps 122\n",
      "Maxine Waters 122\n",
      "Tammy Baldwin 121\n",
      "Jeff Flake 121\n",
      "Dan Burton 120\n",
      "Darrell Issa 120\n",
      "Barney Frank 119\n",
      "Janice Schakowsky 119\n",
      "Herbert Kohl 118\n",
      "Frank Pallone 117\n",
      "Walter Jones 117\n",
      "Raul Grijalva 117\n",
      "F. Sensenbrenner 115\n",
      "John McCain 114\n",
      "Matthew Cartwright 114\n",
      "Gus Bilirakis 113\n",
      "Jeff Merkley 112\n",
      "John Barrasso 111\n",
      "Michael Bennet 111\n",
      "George Miller 110\n",
      "Lindsey Graham 110\n",
      "Mazie Hirono 109\n",
      "Marsha Blackburn 109\n",
      "Claire McCaskill 109\n",
      "Robert Portman 109\n",
      "Susan Davis 107\n",
      "Jerry Moran 107\n",
      "Jerrold Nadler 107\n",
      "Jason Chaffetz 107\n",
      "Sam Graves 106\n",
      "Scott Garrett 105\n",
      "Lamar Alexander 105\n",
      "Anthony Weiner 103\n",
      "Zoe Lofgren 102\n",
      "Sam Johnson 102\n",
      "Jared Polis 102\n",
      "Marco Rubio 102\n",
      "Bruce Braley 101\n",
      "Carolyn McCarthy 100\n",
      "Eddie Johnson 100\n",
      "Erik Paulsen 100\n"
     ]
    }
   ],
   "source": [
    "for name in sorted(top_names, key=top_names.get, reverse = True):\n",
    "    print(name, top_names[name])"
   ]
  },
  {
   "cell_type": "code",
   "execution_count": null,
   "metadata": {},
   "outputs": [],
   "source": []
  },
  {
   "cell_type": "code",
   "execution_count": null,
   "metadata": {},
   "outputs": [],
   "source": []
  }
 ],
 "metadata": {
  "kernelspec": {
   "display_name": "Python 3",
   "language": "python",
   "name": "python3"
  },
  "language_info": {
   "codemirror_mode": {
    "name": "ipython",
    "version": 3
   },
   "file_extension": ".py",
   "mimetype": "text/x-python",
   "name": "python",
   "nbconvert_exporter": "python",
   "pygments_lexer": "ipython3",
   "version": "3.7.3"
  }
 },
 "nbformat": 4,
 "nbformat_minor": 2
}
